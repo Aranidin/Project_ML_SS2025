{
 "cells": [
  {
   "cell_type": "markdown",
   "id": "a3d2f02b",
   "metadata": {},
   "source": [
    "# Preprocessing of Neighbourhoods File"
   ]
  },
  {
   "cell_type": "code",
   "execution_count": 2,
   "id": "4cd2e797",
   "metadata": {},
   "outputs": [],
   "source": [
    "import pandas as pd"
   ]
  },
  {
   "cell_type": "code",
   "execution_count": 8,
   "id": "793bf531",
   "metadata": {},
   "outputs": [
    {
     "name": "stdout",
     "output_type": "stream",
     "text": [
      "<class 'pandas.core.frame.DataFrame'>\n",
      "RangeIndex: 758708 entries, 0 to 758707\n",
      "Data columns (total 6 columns):\n",
      " #   Column         Non-Null Count   Dtype \n",
      "---  ------         --------------   ----- \n",
      " 0   listing_id     758708 non-null  int64 \n",
      " 1   id             758708 non-null  int64 \n",
      " 2   date           758708 non-null  object\n",
      " 3   reviewer_id    758708 non-null  int64 \n",
      " 4   reviewer_name  758707 non-null  object\n",
      " 5   comments       758662 non-null  object\n",
      "dtypes: int64(3), object(3)\n",
      "memory usage: 34.7+ MB\n",
      "    listing_id        id        date  reviewer_id        reviewer_name  \\\n",
      "0         6624    581824  2011-09-29      1189528             Lawrence   \n",
      "1         6624    654634  2011-10-23        71925          Helen & Rob   \n",
      "2         6624   2774855  2012-11-01      1570645                Linda   \n",
      "3         6624   2987711  2012-11-28      4041941               Joseph   \n",
      "4         6624   5385172  2013-06-27       743472  Steve And Serenella   \n",
      "5         6624   5477627  2013-07-01      6564329               Joanne   \n",
      "6         6624   5711603  2013-07-13      1820251       Ben & Marielle   \n",
      "7         6624   6172730  2013-08-02      2091134               Julius   \n",
      "8         6624   8441069  2013-10-31      4656895               Trisha   \n",
      "9         6624   8529929  2013-11-04      9120271               Karine   \n",
      "10        6624  14128931  2014-06-12     15826746            Catherine   \n",
      "11        6624  14816166  2014-06-27     14126900              Darrell   \n",
      "12        6624  15624179  2014-07-13      9871819              Kenneth   \n",
      "13        6624  15945300  2014-07-19      6367820                 Lisa   \n",
      "14        6624  17640162  2014-08-15      5102657               Sergei   \n",
      "15        6624  20990844  2014-10-09      7813599                Holly   \n",
      "16        6624  21729198  2014-10-22     12851680               Basile   \n",
      "17        6624  22148626  2014-10-31      1152185            Jing Jing   \n",
      "18        6624  23034286  2014-11-21       244230                  Des   \n",
      "19        6624  30304674  2015-04-20     24474314                  Art   \n",
      "\n",
      "                                             comments  \n",
      "0   The apartment was wonderful and despite our de...  \n",
      "1   This is truly the best place to be. A very nic...  \n",
      "2   This was a great location and such wonderful p...  \n",
      "3   Your apartment gave us a home in Venice...maki...  \n",
      "4   Very nicely and tastefully furnished, clean   ...  \n",
      "5   What a wonderful place! if you want a place fo...  \n",
      "6   I loved staying at Francesca's house and would...  \n",
      "7   The apartment was very clean and spacious for ...  \n",
      "8   We just returned from a perfect stay at Garden...  \n",
      "9   Une première expérience avec Airbnb vraiment r...  \n",
      "10  Francesca  was probably the most professional ...  \n",
      "11  Garden Charme was completely as advertised.  T...  \n",
      "12  Emanuela and Guila were gracious hosts seeing ...  \n",
      "13  Francesca and her mother were the best hosts w...  \n",
      "14  What a perfect time we had with our four child...  \n",
      "15  We were a party of 6 celebrating my mother's 7...  \n",
      "16  If you have ever watched the promotional video...  \n",
      "17  The house is huge with everything you needed! ...  \n",
      "18  We arrived very late in the middle of a downpo...  \n",
      "19  Francesca's mother greeted us and instantly ma...  \n"
     ]
    }
   ],
   "source": [
    "reviews = pd.read_csv('../Data/reviews.csv.gz')\n",
    "reviews.info()\n",
    "\n",
    "print(reviews.head(20))"
   ]
  },
  {
   "cell_type": "code",
   "execution_count": null,
   "id": "1c774034",
   "metadata": {},
   "outputs": [],
   "source": []
  }
 ],
 "metadata": {
  "kernelspec": {
   "display_name": "base",
   "language": "python",
   "name": "python3"
  },
  "language_info": {
   "codemirror_mode": {
    "name": "ipython",
    "version": 3
   },
   "file_extension": ".py",
   "mimetype": "text/x-python",
   "name": "python",
   "nbconvert_exporter": "python",
   "pygments_lexer": "ipython3",
   "version": "3.11.7"
  }
 },
 "nbformat": 4,
 "nbformat_minor": 5
}
