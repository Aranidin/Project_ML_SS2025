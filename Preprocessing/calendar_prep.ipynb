{
 "cells": [
  {
   "cell_type": "markdown",
   "id": "a3d2f02b",
   "metadata": {},
   "source": [
    "# Preprocessing of Neighbourhoods File"
   ]
  },
  {
   "cell_type": "code",
   "execution_count": 5,
   "id": "4cd2e797",
   "metadata": {},
   "outputs": [],
   "source": [
    "import pandas as pd"
   ]
  },
  {
   "cell_type": "code",
   "execution_count": 6,
   "id": "793bf531",
   "metadata": {},
   "outputs": [
    {
     "name": "stderr",
     "output_type": "stream",
     "text": [
      "C:\\Users\\bendi\\AppData\\Local\\Temp\\ipykernel_18904\\4255193737.py:1: DtypeWarning: Columns (4) have mixed types. Specify dtype option on import or set low_memory=False.\n",
      "  calendar = pd.read_csv('../Data/calendar.csv.gz')\n"
     ]
    },
    {
     "name": "stdout",
     "output_type": "stream",
     "text": [
      "<class 'pandas.core.frame.DataFrame'>\n",
      "RangeIndex: 2891162 entries, 0 to 2891161\n",
      "Data columns (total 7 columns):\n",
      " #   Column          Dtype \n",
      "---  ------          ----- \n",
      " 0   listing_id      int64 \n",
      " 1   date            object\n",
      " 2   available       object\n",
      " 3   price           object\n",
      " 4   adjusted_price  object\n",
      " 5   minimum_nights  int64 \n",
      " 6   maximum_nights  int64 \n",
      "dtypes: int64(3), object(4)\n",
      "memory usage: 154.4+ MB\n"
     ]
    },
    {
     "data": {
      "application/vnd.microsoft.datawrangler.viewer.v0+json": {
       "columns": [
        {
         "name": "index",
         "rawType": "int64",
         "type": "integer"
        },
        {
         "name": "listing_id",
         "rawType": "int64",
         "type": "integer"
        },
        {
         "name": "date",
         "rawType": "object",
         "type": "string"
        },
        {
         "name": "available",
         "rawType": "object",
         "type": "string"
        },
        {
         "name": "price",
         "rawType": "object",
         "type": "string"
        },
        {
         "name": "adjusted_price",
         "rawType": "object",
         "type": "unknown"
        },
        {
         "name": "minimum_nights",
         "rawType": "int64",
         "type": "integer"
        },
        {
         "name": "maximum_nights",
         "rawType": "int64",
         "type": "integer"
        }
       ],
       "ref": "ad3a1eb9-e531-4068-93ed-ca328bf62a5b",
       "rows": [
        [
         "0",
         "6624",
         "2025-03-02",
         "t",
         "$320.00",
         null,
         "3",
         "50"
        ],
        [
         "1",
         "6624",
         "2025-03-03",
         "t",
         "$320.00",
         null,
         "3",
         "50"
        ],
        [
         "2",
         "6624",
         "2025-03-04",
         "t",
         "$320.00",
         null,
         "3",
         "50"
        ],
        [
         "3",
         "6624",
         "2025-03-05",
         "t",
         "$320.00",
         null,
         "3",
         "50"
        ],
        [
         "4",
         "6624",
         "2025-03-06",
         "t",
         "$320.00",
         null,
         "3",
         "50"
        ]
       ],
       "shape": {
        "columns": 7,
        "rows": 5
       }
      },
      "text/html": [
       "<div>\n",
       "<style scoped>\n",
       "    .dataframe tbody tr th:only-of-type {\n",
       "        vertical-align: middle;\n",
       "    }\n",
       "\n",
       "    .dataframe tbody tr th {\n",
       "        vertical-align: top;\n",
       "    }\n",
       "\n",
       "    .dataframe thead th {\n",
       "        text-align: right;\n",
       "    }\n",
       "</style>\n",
       "<table border=\"1\" class=\"dataframe\">\n",
       "  <thead>\n",
       "    <tr style=\"text-align: right;\">\n",
       "      <th></th>\n",
       "      <th>listing_id</th>\n",
       "      <th>date</th>\n",
       "      <th>available</th>\n",
       "      <th>price</th>\n",
       "      <th>adjusted_price</th>\n",
       "      <th>minimum_nights</th>\n",
       "      <th>maximum_nights</th>\n",
       "    </tr>\n",
       "  </thead>\n",
       "  <tbody>\n",
       "    <tr>\n",
       "      <th>0</th>\n",
       "      <td>6624</td>\n",
       "      <td>2025-03-02</td>\n",
       "      <td>t</td>\n",
       "      <td>$320.00</td>\n",
       "      <td>NaN</td>\n",
       "      <td>3</td>\n",
       "      <td>50</td>\n",
       "    </tr>\n",
       "    <tr>\n",
       "      <th>1</th>\n",
       "      <td>6624</td>\n",
       "      <td>2025-03-03</td>\n",
       "      <td>t</td>\n",
       "      <td>$320.00</td>\n",
       "      <td>NaN</td>\n",
       "      <td>3</td>\n",
       "      <td>50</td>\n",
       "    </tr>\n",
       "    <tr>\n",
       "      <th>2</th>\n",
       "      <td>6624</td>\n",
       "      <td>2025-03-04</td>\n",
       "      <td>t</td>\n",
       "      <td>$320.00</td>\n",
       "      <td>NaN</td>\n",
       "      <td>3</td>\n",
       "      <td>50</td>\n",
       "    </tr>\n",
       "    <tr>\n",
       "      <th>3</th>\n",
       "      <td>6624</td>\n",
       "      <td>2025-03-05</td>\n",
       "      <td>t</td>\n",
       "      <td>$320.00</td>\n",
       "      <td>NaN</td>\n",
       "      <td>3</td>\n",
       "      <td>50</td>\n",
       "    </tr>\n",
       "    <tr>\n",
       "      <th>4</th>\n",
       "      <td>6624</td>\n",
       "      <td>2025-03-06</td>\n",
       "      <td>t</td>\n",
       "      <td>$320.00</td>\n",
       "      <td>NaN</td>\n",
       "      <td>3</td>\n",
       "      <td>50</td>\n",
       "    </tr>\n",
       "  </tbody>\n",
       "</table>\n",
       "</div>"
      ],
      "text/plain": [
       "   listing_id        date available    price adjusted_price  minimum_nights  \\\n",
       "0        6624  2025-03-02         t  $320.00            NaN               3   \n",
       "1        6624  2025-03-03         t  $320.00            NaN               3   \n",
       "2        6624  2025-03-04         t  $320.00            NaN               3   \n",
       "3        6624  2025-03-05         t  $320.00            NaN               3   \n",
       "4        6624  2025-03-06         t  $320.00            NaN               3   \n",
       "\n",
       "   maximum_nights  \n",
       "0              50  \n",
       "1              50  \n",
       "2              50  \n",
       "3              50  \n",
       "4              50  "
      ]
     },
     "execution_count": 6,
     "metadata": {},
     "output_type": "execute_result"
    }
   ],
   "source": [
    "calendar = pd.read_csv('../Data/calendar.csv.gz')\n",
    "calendar.info()\n",
    "calendar.head()"
   ]
  }
 ],
 "metadata": {
  "kernelspec": {
   "display_name": "base",
   "language": "python",
   "name": "python3"
  },
  "language_info": {
   "codemirror_mode": {
    "name": "ipython",
    "version": 3
   },
   "file_extension": ".py",
   "mimetype": "text/x-python",
   "name": "python",
   "nbconvert_exporter": "python",
   "pygments_lexer": "ipython3",
   "version": "3.11.7"
  }
 },
 "nbformat": 4,
 "nbformat_minor": 5
}
