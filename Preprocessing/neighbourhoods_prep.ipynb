{
 "cells": [
  {
   "cell_type": "markdown",
   "id": "a3d2f02b",
   "metadata": {},
   "source": [
    "# Preprocessing of Neighbourhoods File"
   ]
  },
  {
   "cell_type": "code",
   "execution_count": 11,
   "id": "4cd2e797",
   "metadata": {},
   "outputs": [],
   "source": [
    "import pandas as pd"
   ]
  },
  {
   "cell_type": "code",
   "execution_count": 12,
   "id": "793bf531",
   "metadata": {},
   "outputs": [
    {
     "name": "stdout",
     "output_type": "stream",
     "text": [
      "<class 'pandas.core.frame.DataFrame'>\n",
      "RangeIndex: 114 entries, 0 to 113\n",
      "Data columns (total 2 columns):\n",
      " #   Column               Non-Null Count  Dtype \n",
      "---  ------               --------------  ----- \n",
      " 0   neighbourhood_group  114 non-null    object\n",
      " 1   neighbourhood        114 non-null    object\n",
      "dtypes: object(2)\n",
      "memory usage: 1.9+ KB\n",
      "   neighbourhood_group                        neighbourhood\n",
      "0                Isole                             Alberoni\n",
      "1                Isole                               Burano\n",
      "2                Isole                           Cannaregio\n",
      "3                Isole                             Castello\n",
      "4                Isole                            Dorsoduro\n",
      "5                Isole                             Giudecca\n",
      "6                Isole                  Isola Buel del Lovo\n",
      "7                Isole                       Isola Campalto\n",
      "8                Isole                      Isola Carbonera\n",
      "9                Isole                Isola Cason Grassabo'\n",
      "10               Isole     Isola Cason vecchio di Grassabo'\n",
      "11               Isole                   Isola delle Tresse\n",
      "12               Isole                     Isola di Tessera\n",
      "13               Isole             Isola ex Batteria Fisolo\n",
      "14               Isole  Isola ex Forte S.Angelo della Polve\n",
      "15               Isole           Isola ex Ridotto di Crevan\n",
      "16               Isole                        Isola La Cura\n",
      "17               Isole                      Isola La Grazia\n",
      "18               Isole                      Isola La Salina\n",
      "19               Isole             Isola Lazzaretto vecchio\n"
     ]
    },
    {
     "data": {
      "text/plain": [
       "array(['Isole', 'Terraferma'], dtype=object)"
      ]
     },
     "execution_count": 12,
     "metadata": {},
     "output_type": "execute_result"
    }
   ],
   "source": [
    "ngh_df = pd.read_csv('data/neighbourhoods.csv')\n",
    "ngh_df.info()\n",
    "\n",
    "print(ngh_df.head(20))\n",
    "\n",
    "ngh_df['neighbourhood_group'].unique()"
   ]
  },
  {
   "cell_type": "code",
   "execution_count": null,
   "id": "1c774034",
   "metadata": {},
   "outputs": [],
   "source": []
  }
 ],
 "metadata": {
  "kernelspec": {
   "display_name": "base",
   "language": "python",
   "name": "python3"
  },
  "language_info": {
   "codemirror_mode": {
    "name": "ipython",
    "version": 3
   },
   "file_extension": ".py",
   "mimetype": "text/x-python",
   "name": "python",
   "nbconvert_exporter": "python",
   "pygments_lexer": "ipython3",
   "version": "3.11.7"
  }
 },
 "nbformat": 4,
 "nbformat_minor": 5
}
