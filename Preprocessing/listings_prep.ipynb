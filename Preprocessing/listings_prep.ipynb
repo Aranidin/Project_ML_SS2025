{
 "cells": [
  {
   "cell_type": "markdown",
   "id": "a3d2f02b",
   "metadata": {},
   "source": [
    "# Preprocessing of Neighbourhoods File"
   ]
  },
  {
   "cell_type": "code",
   "execution_count": 225,
   "id": "4cd2e797",
   "metadata": {},
   "outputs": [],
   "source": [
    "import pandas as pd\n",
    "import numpy as np\n",
    "# from prep_functions import missing_info"
   ]
  },
  {
   "cell_type": "code",
   "execution_count": 226,
   "id": "793bf531",
   "metadata": {},
   "outputs": [
    {
     "name": "stdout",
     "output_type": "stream",
     "text": [
      "<class 'pandas.core.frame.DataFrame'>\n",
      "RangeIndex: 7921 entries, 0 to 7920\n",
      "Data columns (total 18 columns):\n",
      " #   Column                          Non-Null Count  Dtype  \n",
      "---  ------                          --------------  -----  \n",
      " 0   id                              7921 non-null   int64  \n",
      " 1   name                            7921 non-null   object \n",
      " 2   host_id                         7921 non-null   int64  \n",
      " 3   host_name                       7911 non-null   object \n",
      " 4   neighbourhood_group             7921 non-null   object \n",
      " 5   neighbourhood                   7921 non-null   object \n",
      " 6   latitude                        7921 non-null   float64\n",
      " 7   longitude                       7921 non-null   float64\n",
      " 8   room_type                       7921 non-null   object \n",
      " 9   price                           7017 non-null   float64\n",
      " 10  minimum_nights                  7921 non-null   int64  \n",
      " 11  number_of_reviews               7921 non-null   int64  \n",
      " 12  last_review                     7147 non-null   object \n",
      " 13  reviews_per_month               7147 non-null   float64\n",
      " 14  calculated_host_listings_count  7921 non-null   int64  \n",
      " 15  availability_365                7921 non-null   int64  \n",
      " 16  number_of_reviews_ltm           7921 non-null   int64  \n",
      " 17  license                         7295 non-null   object \n",
      "dtypes: float64(4), int64(7), object(7)\n",
      "memory usage: 1.1+ MB\n"
     ]
    },
    {
     "data": {
      "application/vnd.microsoft.datawrangler.viewer.v0+json": {
       "columns": [
        {
         "name": "index",
         "rawType": "int64",
         "type": "integer"
        },
        {
         "name": "id",
         "rawType": "int64",
         "type": "integer"
        },
        {
         "name": "name",
         "rawType": "object",
         "type": "string"
        },
        {
         "name": "host_id",
         "rawType": "int64",
         "type": "integer"
        },
        {
         "name": "host_name",
         "rawType": "object",
         "type": "string"
        },
        {
         "name": "neighbourhood_group",
         "rawType": "object",
         "type": "string"
        },
        {
         "name": "neighbourhood",
         "rawType": "object",
         "type": "string"
        },
        {
         "name": "latitude",
         "rawType": "float64",
         "type": "float"
        },
        {
         "name": "longitude",
         "rawType": "float64",
         "type": "float"
        },
        {
         "name": "room_type",
         "rawType": "object",
         "type": "string"
        },
        {
         "name": "price",
         "rawType": "float64",
         "type": "float"
        },
        {
         "name": "minimum_nights",
         "rawType": "int64",
         "type": "integer"
        },
        {
         "name": "number_of_reviews",
         "rawType": "int64",
         "type": "integer"
        },
        {
         "name": "last_review",
         "rawType": "object",
         "type": "string"
        },
        {
         "name": "reviews_per_month",
         "rawType": "float64",
         "type": "float"
        },
        {
         "name": "calculated_host_listings_count",
         "rawType": "int64",
         "type": "integer"
        },
        {
         "name": "availability_365",
         "rawType": "int64",
         "type": "integer"
        },
        {
         "name": "number_of_reviews_ltm",
         "rawType": "int64",
         "type": "integer"
        },
        {
         "name": "license",
         "rawType": "object",
         "type": "string"
        }
       ],
       "ref": "8ede5cd6-3f61-451e-ab9f-a8fc5be040c9",
       "rows": [
        [
         "0",
         "6624",
         "Venice garden charme and canal view!",
         "15016",
         "Francesca",
         "Isole",
         "Santa Croce",
         "45.43977",
         "12.32736",
         "Entire home/apt",
         "227.0",
         "4",
         "89",
         "2025-02-16",
         "0.54",
         "1",
         "341",
         "1",
         "I applied for a CIN, but haven’t received it yet"
        ],
        [
         "1",
         "27116",
         "Junior Suite with balcony overlooking canal",
         "116144",
         "Giò&Giò",
         "Isole",
         "San Marco",
         "45.43277",
         "12.33456",
         "Private room",
         "187.0",
         "1",
         "414",
         "2022-11-11",
         "2.33",
         "3",
         "125",
         "0",
         "IT027042B4RZ8EK8UI"
        ],
        [
         "2",
         "44527",
         "Luxury Historic Apartment on Calm Sunny Canal",
         "120215",
         "Marc & Elisabeth",
         "Isole",
         "Cannaregio",
         "45.44569",
         "12.32902",
         "Entire home/apt",
         "391.0",
         "2",
         "149",
         "2024-12-31",
         "0.88",
         "2",
         "287",
         "18",
         "IT027042B4GR0PSZS4"
        ],
        [
         "3",
         "47383",
         "Ca' Barba B&B: room n102 (jacuzzi shower)",
         "214390",
         "Alessandro",
         "Isole",
         "San Polo",
         "45.43921",
         "12.3331",
         "Hotel room",
         "98.0",
         "2",
         "408",
         "2025-02-10",
         "2.32",
         "4",
         "316",
         "25",
         "IT027042B4D3D4AUUS"
        ],
        [
         "4",
         "49656",
         "Ca' Foscari Apartment",
         "226598",
         "Andrea",
         "Isole",
         "Dorsoduro",
         "45.43549",
         "12.32612",
         "Entire home/apt",
         "101.0",
         "3",
         "131",
         "2025-02-03",
         "0.87",
         "2",
         "249",
         "18",
         "IT027042C2L6NZYNJR"
        ]
       ],
       "shape": {
        "columns": 18,
        "rows": 5
       }
      },
      "text/html": [
       "<div>\n",
       "<style scoped>\n",
       "    .dataframe tbody tr th:only-of-type {\n",
       "        vertical-align: middle;\n",
       "    }\n",
       "\n",
       "    .dataframe tbody tr th {\n",
       "        vertical-align: top;\n",
       "    }\n",
       "\n",
       "    .dataframe thead th {\n",
       "        text-align: right;\n",
       "    }\n",
       "</style>\n",
       "<table border=\"1\" class=\"dataframe\">\n",
       "  <thead>\n",
       "    <tr style=\"text-align: right;\">\n",
       "      <th></th>\n",
       "      <th>id</th>\n",
       "      <th>name</th>\n",
       "      <th>host_id</th>\n",
       "      <th>host_name</th>\n",
       "      <th>neighbourhood_group</th>\n",
       "      <th>neighbourhood</th>\n",
       "      <th>latitude</th>\n",
       "      <th>longitude</th>\n",
       "      <th>room_type</th>\n",
       "      <th>price</th>\n",
       "      <th>minimum_nights</th>\n",
       "      <th>number_of_reviews</th>\n",
       "      <th>last_review</th>\n",
       "      <th>reviews_per_month</th>\n",
       "      <th>calculated_host_listings_count</th>\n",
       "      <th>availability_365</th>\n",
       "      <th>number_of_reviews_ltm</th>\n",
       "      <th>license</th>\n",
       "    </tr>\n",
       "  </thead>\n",
       "  <tbody>\n",
       "    <tr>\n",
       "      <th>0</th>\n",
       "      <td>6624</td>\n",
       "      <td>Venice garden charme and canal view!</td>\n",
       "      <td>15016</td>\n",
       "      <td>Francesca</td>\n",
       "      <td>Isole</td>\n",
       "      <td>Santa Croce</td>\n",
       "      <td>45.43977</td>\n",
       "      <td>12.32736</td>\n",
       "      <td>Entire home/apt</td>\n",
       "      <td>227.0</td>\n",
       "      <td>4</td>\n",
       "      <td>89</td>\n",
       "      <td>2025-02-16</td>\n",
       "      <td>0.54</td>\n",
       "      <td>1</td>\n",
       "      <td>341</td>\n",
       "      <td>1</td>\n",
       "      <td>I applied for a CIN, but haven’t received it yet</td>\n",
       "    </tr>\n",
       "    <tr>\n",
       "      <th>1</th>\n",
       "      <td>27116</td>\n",
       "      <td>Junior Suite with balcony overlooking canal</td>\n",
       "      <td>116144</td>\n",
       "      <td>Giò&amp;Giò</td>\n",
       "      <td>Isole</td>\n",
       "      <td>San Marco</td>\n",
       "      <td>45.43277</td>\n",
       "      <td>12.33456</td>\n",
       "      <td>Private room</td>\n",
       "      <td>187.0</td>\n",
       "      <td>1</td>\n",
       "      <td>414</td>\n",
       "      <td>2022-11-11</td>\n",
       "      <td>2.33</td>\n",
       "      <td>3</td>\n",
       "      <td>125</td>\n",
       "      <td>0</td>\n",
       "      <td>IT027042B4RZ8EK8UI</td>\n",
       "    </tr>\n",
       "    <tr>\n",
       "      <th>2</th>\n",
       "      <td>44527</td>\n",
       "      <td>Luxury Historic Apartment on Calm Sunny Canal</td>\n",
       "      <td>120215</td>\n",
       "      <td>Marc &amp; Elisabeth</td>\n",
       "      <td>Isole</td>\n",
       "      <td>Cannaregio</td>\n",
       "      <td>45.44569</td>\n",
       "      <td>12.32902</td>\n",
       "      <td>Entire home/apt</td>\n",
       "      <td>391.0</td>\n",
       "      <td>2</td>\n",
       "      <td>149</td>\n",
       "      <td>2024-12-31</td>\n",
       "      <td>0.88</td>\n",
       "      <td>2</td>\n",
       "      <td>287</td>\n",
       "      <td>18</td>\n",
       "      <td>IT027042B4GR0PSZS4</td>\n",
       "    </tr>\n",
       "    <tr>\n",
       "      <th>3</th>\n",
       "      <td>47383</td>\n",
       "      <td>Ca' Barba B&amp;B: room n102 (jacuzzi shower)</td>\n",
       "      <td>214390</td>\n",
       "      <td>Alessandro</td>\n",
       "      <td>Isole</td>\n",
       "      <td>San Polo</td>\n",
       "      <td>45.43921</td>\n",
       "      <td>12.33310</td>\n",
       "      <td>Hotel room</td>\n",
       "      <td>98.0</td>\n",
       "      <td>2</td>\n",
       "      <td>408</td>\n",
       "      <td>2025-02-10</td>\n",
       "      <td>2.32</td>\n",
       "      <td>4</td>\n",
       "      <td>316</td>\n",
       "      <td>25</td>\n",
       "      <td>IT027042B4D3D4AUUS</td>\n",
       "    </tr>\n",
       "    <tr>\n",
       "      <th>4</th>\n",
       "      <td>49656</td>\n",
       "      <td>Ca' Foscari Apartment</td>\n",
       "      <td>226598</td>\n",
       "      <td>Andrea</td>\n",
       "      <td>Isole</td>\n",
       "      <td>Dorsoduro</td>\n",
       "      <td>45.43549</td>\n",
       "      <td>12.32612</td>\n",
       "      <td>Entire home/apt</td>\n",
       "      <td>101.0</td>\n",
       "      <td>3</td>\n",
       "      <td>131</td>\n",
       "      <td>2025-02-03</td>\n",
       "      <td>0.87</td>\n",
       "      <td>2</td>\n",
       "      <td>249</td>\n",
       "      <td>18</td>\n",
       "      <td>IT027042C2L6NZYNJR</td>\n",
       "    </tr>\n",
       "  </tbody>\n",
       "</table>\n",
       "</div>"
      ],
      "text/plain": [
       "      id                                           name  host_id  \\\n",
       "0   6624           Venice garden charme and canal view!    15016   \n",
       "1  27116    Junior Suite with balcony overlooking canal   116144   \n",
       "2  44527  Luxury Historic Apartment on Calm Sunny Canal   120215   \n",
       "3  47383      Ca' Barba B&B: room n102 (jacuzzi shower)   214390   \n",
       "4  49656                          Ca' Foscari Apartment   226598   \n",
       "\n",
       "          host_name neighbourhood_group neighbourhood  latitude  longitude  \\\n",
       "0         Francesca               Isole   Santa Croce  45.43977   12.32736   \n",
       "1           Giò&Giò               Isole     San Marco  45.43277   12.33456   \n",
       "2  Marc & Elisabeth               Isole    Cannaregio  45.44569   12.32902   \n",
       "3        Alessandro               Isole      San Polo  45.43921   12.33310   \n",
       "4            Andrea               Isole     Dorsoduro  45.43549   12.32612   \n",
       "\n",
       "         room_type  price  minimum_nights  number_of_reviews last_review  \\\n",
       "0  Entire home/apt  227.0               4                 89  2025-02-16   \n",
       "1     Private room  187.0               1                414  2022-11-11   \n",
       "2  Entire home/apt  391.0               2                149  2024-12-31   \n",
       "3       Hotel room   98.0               2                408  2025-02-10   \n",
       "4  Entire home/apt  101.0               3                131  2025-02-03   \n",
       "\n",
       "   reviews_per_month  calculated_host_listings_count  availability_365  \\\n",
       "0               0.54                               1               341   \n",
       "1               2.33                               3               125   \n",
       "2               0.88                               2               287   \n",
       "3               2.32                               4               316   \n",
       "4               0.87                               2               249   \n",
       "\n",
       "   number_of_reviews_ltm                                           license  \n",
       "0                      1  I applied for a CIN, but haven’t received it yet  \n",
       "1                      0                                IT027042B4RZ8EK8UI  \n",
       "2                     18                                IT027042B4GR0PSZS4  \n",
       "3                     25                                IT027042B4D3D4AUUS  \n",
       "4                     18                                IT027042C2L6NZYNJR  "
      ]
     },
     "execution_count": 226,
     "metadata": {},
     "output_type": "execute_result"
    }
   ],
   "source": [
    "listings_simple = pd.read_csv('../Data/listings_simple.csv')\n",
    "listings_simple.info()\n",
    "listings_simple.head()"
   ]
  },
  {
   "cell_type": "code",
   "execution_count": 227,
   "id": "1c774034",
   "metadata": {},
   "outputs": [
    {
     "name": "stdout",
     "output_type": "stream",
     "text": [
      "<class 'pandas.core.frame.DataFrame'>\n",
      "RangeIndex: 7921 entries, 0 to 7920\n",
      "Data columns (total 79 columns):\n",
      " #   Column                                        Non-Null Count  Dtype  \n",
      "---  ------                                        --------------  -----  \n",
      " 0   id                                            7921 non-null   int64  \n",
      " 1   listing_url                                   7921 non-null   object \n",
      " 2   scrape_id                                     7921 non-null   int64  \n",
      " 3   last_scraped                                  7921 non-null   object \n",
      " 4   source                                        7921 non-null   object \n",
      " 5   name                                          7921 non-null   object \n",
      " 6   description                                   7705 non-null   object \n",
      " 7   neighborhood_overview                         4489 non-null   object \n",
      " 8   picture_url                                   7920 non-null   object \n",
      " 9   host_id                                       7921 non-null   int64  \n",
      " 10  host_url                                      7921 non-null   object \n",
      " 11  host_name                                     7911 non-null   object \n",
      " 12  host_since                                    7911 non-null   object \n",
      " 13  host_location                                 5977 non-null   object \n",
      " 14  host_about                                    4238 non-null   object \n",
      " 15  host_response_time                            7057 non-null   object \n",
      " 16  host_response_rate                            7057 non-null   object \n",
      " 17  host_acceptance_rate                          7471 non-null   object \n",
      " 18  host_is_superhost                             7627 non-null   object \n",
      " 19  host_thumbnail_url                            7911 non-null   object \n",
      " 20  host_picture_url                              7911 non-null   object \n",
      " 21  host_neighbourhood                            3800 non-null   object \n",
      " 22  host_listings_count                           7911 non-null   float64\n",
      " 23  host_total_listings_count                     7911 non-null   float64\n",
      " 24  host_verifications                            7911 non-null   object \n",
      " 25  host_has_profile_pic                          7911 non-null   object \n",
      " 26  host_identity_verified                        7911 non-null   object \n",
      " 27  neighbourhood                                 4489 non-null   object \n",
      " 28  neighbourhood_cleansed                        7921 non-null   object \n",
      " 29  neighbourhood_group_cleansed                  7921 non-null   object \n",
      " 30  latitude                                      7921 non-null   float64\n",
      " 31  longitude                                     7921 non-null   float64\n",
      " 32  property_type                                 7921 non-null   object \n",
      " 33  room_type                                     7921 non-null   object \n",
      " 34  accommodates                                  7921 non-null   int64  \n",
      " 35  bathrooms                                     7015 non-null   float64\n",
      " 36  bathrooms_text                                7915 non-null   object \n",
      " 37  bedrooms                                      7768 non-null   float64\n",
      " 38  beds                                          7009 non-null   float64\n",
      " 39  amenities                                     7921 non-null   object \n",
      " 40  price                                         7017 non-null   object \n",
      " 41  minimum_nights                                7921 non-null   int64  \n",
      " 42  maximum_nights                                7921 non-null   int64  \n",
      " 43  minimum_minimum_nights                        7921 non-null   int64  \n",
      " 44  maximum_minimum_nights                        7921 non-null   int64  \n",
      " 45  minimum_maximum_nights                        7921 non-null   int64  \n",
      " 46  maximum_maximum_nights                        7921 non-null   int64  \n",
      " 47  minimum_nights_avg_ntm                        7921 non-null   float64\n",
      " 48  maximum_nights_avg_ntm                        7921 non-null   float64\n",
      " 49  calendar_updated                              0 non-null      float64\n",
      " 50  has_availability                              7780 non-null   object \n",
      " 51  availability_30                               7921 non-null   int64  \n",
      " 52  availability_60                               7921 non-null   int64  \n",
      " 53  availability_90                               7921 non-null   int64  \n",
      " 54  availability_365                              7921 non-null   int64  \n",
      " 55  calendar_last_scraped                         7921 non-null   object \n",
      " 56  number_of_reviews                             7921 non-null   int64  \n",
      " 57  number_of_reviews_ltm                         7921 non-null   int64  \n",
      " 58  number_of_reviews_l30d                        7921 non-null   int64  \n",
      " 59  availability_eoy                              7921 non-null   int64  \n",
      " 60  number_of_reviews_ly                          7921 non-null   int64  \n",
      " 61  estimated_occupancy_l365d                     7921 non-null   int64  \n",
      " 62  estimated_revenue_l365d                       7017 non-null   float64\n",
      " 63  first_review                                  7147 non-null   object \n",
      " 64  last_review                                   7147 non-null   object \n",
      " 65  review_scores_rating                          7147 non-null   float64\n",
      " 66  review_scores_accuracy                        7147 non-null   float64\n",
      " 67  review_scores_cleanliness                     7147 non-null   float64\n",
      " 68  review_scores_checkin                         7147 non-null   float64\n",
      " 69  review_scores_communication                   7147 non-null   float64\n",
      " 70  review_scores_location                        7146 non-null   float64\n",
      " 71  review_scores_value                           7147 non-null   float64\n",
      " 72  license                                       7295 non-null   object \n",
      " 73  instant_bookable                              7921 non-null   object \n",
      " 74  calculated_host_listings_count                7921 non-null   int64  \n",
      " 75  calculated_host_listings_count_entire_homes   7921 non-null   int64  \n",
      " 76  calculated_host_listings_count_private_rooms  7921 non-null   int64  \n",
      " 77  calculated_host_listings_count_shared_rooms   7921 non-null   int64  \n",
      " 78  reviews_per_month                             7147 non-null   float64\n",
      "dtypes: float64(19), int64(24), object(36)\n",
      "memory usage: 4.8+ MB\n"
     ]
    },
    {
     "data": {
      "application/vnd.microsoft.datawrangler.viewer.v0+json": {
       "columns": [
        {
         "name": "index",
         "rawType": "int64",
         "type": "integer"
        },
        {
         "name": "id",
         "rawType": "int64",
         "type": "integer"
        },
        {
         "name": "listing_url",
         "rawType": "object",
         "type": "string"
        },
        {
         "name": "scrape_id",
         "rawType": "int64",
         "type": "integer"
        },
        {
         "name": "last_scraped",
         "rawType": "object",
         "type": "string"
        },
        {
         "name": "source",
         "rawType": "object",
         "type": "string"
        },
        {
         "name": "name",
         "rawType": "object",
         "type": "string"
        },
        {
         "name": "description",
         "rawType": "object",
         "type": "string"
        },
        {
         "name": "neighborhood_overview",
         "rawType": "object",
         "type": "string"
        },
        {
         "name": "picture_url",
         "rawType": "object",
         "type": "string"
        },
        {
         "name": "host_id",
         "rawType": "int64",
         "type": "integer"
        },
        {
         "name": "host_url",
         "rawType": "object",
         "type": "string"
        },
        {
         "name": "host_name",
         "rawType": "object",
         "type": "string"
        },
        {
         "name": "host_since",
         "rawType": "object",
         "type": "string"
        },
        {
         "name": "host_location",
         "rawType": "object",
         "type": "string"
        },
        {
         "name": "host_about",
         "rawType": "object",
         "type": "unknown"
        },
        {
         "name": "host_response_time",
         "rawType": "object",
         "type": "string"
        },
        {
         "name": "host_response_rate",
         "rawType": "object",
         "type": "string"
        },
        {
         "name": "host_acceptance_rate",
         "rawType": "object",
         "type": "string"
        },
        {
         "name": "host_is_superhost",
         "rawType": "object",
         "type": "string"
        },
        {
         "name": "host_thumbnail_url",
         "rawType": "object",
         "type": "string"
        },
        {
         "name": "host_picture_url",
         "rawType": "object",
         "type": "string"
        },
        {
         "name": "host_neighbourhood",
         "rawType": "object",
         "type": "string"
        },
        {
         "name": "host_listings_count",
         "rawType": "float64",
         "type": "float"
        },
        {
         "name": "host_total_listings_count",
         "rawType": "float64",
         "type": "float"
        },
        {
         "name": "host_verifications",
         "rawType": "object",
         "type": "string"
        },
        {
         "name": "host_has_profile_pic",
         "rawType": "object",
         "type": "string"
        },
        {
         "name": "host_identity_verified",
         "rawType": "object",
         "type": "string"
        },
        {
         "name": "neighbourhood",
         "rawType": "object",
         "type": "string"
        },
        {
         "name": "neighbourhood_cleansed",
         "rawType": "object",
         "type": "string"
        },
        {
         "name": "neighbourhood_group_cleansed",
         "rawType": "object",
         "type": "string"
        },
        {
         "name": "latitude",
         "rawType": "float64",
         "type": "float"
        },
        {
         "name": "longitude",
         "rawType": "float64",
         "type": "float"
        },
        {
         "name": "property_type",
         "rawType": "object",
         "type": "string"
        },
        {
         "name": "room_type",
         "rawType": "object",
         "type": "string"
        },
        {
         "name": "accommodates",
         "rawType": "int64",
         "type": "integer"
        },
        {
         "name": "bathrooms",
         "rawType": "float64",
         "type": "float"
        },
        {
         "name": "bathrooms_text",
         "rawType": "object",
         "type": "string"
        },
        {
         "name": "bedrooms",
         "rawType": "float64",
         "type": "float"
        },
        {
         "name": "beds",
         "rawType": "float64",
         "type": "float"
        },
        {
         "name": "amenities",
         "rawType": "object",
         "type": "string"
        },
        {
         "name": "price",
         "rawType": "object",
         "type": "string"
        },
        {
         "name": "minimum_nights",
         "rawType": "int64",
         "type": "integer"
        },
        {
         "name": "maximum_nights",
         "rawType": "int64",
         "type": "integer"
        },
        {
         "name": "minimum_minimum_nights",
         "rawType": "int64",
         "type": "integer"
        },
        {
         "name": "maximum_minimum_nights",
         "rawType": "int64",
         "type": "integer"
        },
        {
         "name": "minimum_maximum_nights",
         "rawType": "int64",
         "type": "integer"
        },
        {
         "name": "maximum_maximum_nights",
         "rawType": "int64",
         "type": "integer"
        },
        {
         "name": "minimum_nights_avg_ntm",
         "rawType": "float64",
         "type": "float"
        },
        {
         "name": "maximum_nights_avg_ntm",
         "rawType": "float64",
         "type": "float"
        },
        {
         "name": "calendar_updated",
         "rawType": "float64",
         "type": "float"
        },
        {
         "name": "has_availability",
         "rawType": "object",
         "type": "string"
        },
        {
         "name": "availability_30",
         "rawType": "int64",
         "type": "integer"
        },
        {
         "name": "availability_60",
         "rawType": "int64",
         "type": "integer"
        },
        {
         "name": "availability_90",
         "rawType": "int64",
         "type": "integer"
        },
        {
         "name": "availability_365",
         "rawType": "int64",
         "type": "integer"
        },
        {
         "name": "calendar_last_scraped",
         "rawType": "object",
         "type": "string"
        },
        {
         "name": "number_of_reviews",
         "rawType": "int64",
         "type": "integer"
        },
        {
         "name": "number_of_reviews_ltm",
         "rawType": "int64",
         "type": "integer"
        },
        {
         "name": "number_of_reviews_l30d",
         "rawType": "int64",
         "type": "integer"
        },
        {
         "name": "availability_eoy",
         "rawType": "int64",
         "type": "integer"
        },
        {
         "name": "number_of_reviews_ly",
         "rawType": "int64",
         "type": "integer"
        },
        {
         "name": "estimated_occupancy_l365d",
         "rawType": "int64",
         "type": "integer"
        },
        {
         "name": "estimated_revenue_l365d",
         "rawType": "float64",
         "type": "float"
        },
        {
         "name": "first_review",
         "rawType": "object",
         "type": "string"
        },
        {
         "name": "last_review",
         "rawType": "object",
         "type": "string"
        },
        {
         "name": "review_scores_rating",
         "rawType": "float64",
         "type": "float"
        },
        {
         "name": "review_scores_accuracy",
         "rawType": "float64",
         "type": "float"
        },
        {
         "name": "review_scores_cleanliness",
         "rawType": "float64",
         "type": "float"
        },
        {
         "name": "review_scores_checkin",
         "rawType": "float64",
         "type": "float"
        },
        {
         "name": "review_scores_communication",
         "rawType": "float64",
         "type": "float"
        },
        {
         "name": "review_scores_location",
         "rawType": "float64",
         "type": "float"
        },
        {
         "name": "review_scores_value",
         "rawType": "float64",
         "type": "float"
        },
        {
         "name": "license",
         "rawType": "object",
         "type": "string"
        },
        {
         "name": "instant_bookable",
         "rawType": "object",
         "type": "string"
        },
        {
         "name": "calculated_host_listings_count",
         "rawType": "int64",
         "type": "integer"
        },
        {
         "name": "calculated_host_listings_count_entire_homes",
         "rawType": "int64",
         "type": "integer"
        },
        {
         "name": "calculated_host_listings_count_private_rooms",
         "rawType": "int64",
         "type": "integer"
        },
        {
         "name": "calculated_host_listings_count_shared_rooms",
         "rawType": "int64",
         "type": "integer"
        },
        {
         "name": "reviews_per_month",
         "rawType": "float64",
         "type": "float"
        }
       ],
       "ref": "ac312396-5b3b-448a-9413-d2e4758787ce",
       "rows": [
        [
         "0",
         "6624",
         "https://www.airbnb.com/rooms/6624",
         "20250302033917",
         "2025-03-02",
         "city scrape",
         "Venice garden charme and canal view!",
         "I'm thrilled to share my apartment with garden, canal views and tennis court with guests who love Venice and I hope that my home could make their stay in this wonderful city a  exceptional experience!<br />This is the perfect spot for a relaxing stay",
         "We are in the middle of a residential area called San Polo, just off Rialto bridge. Our neighborhood is far more \"venetian\" than San Marco with all its tourists jams.",
         "https://a0.muscache.com/pictures/65440024/a5646008_original.jpg",
         "15016",
         "https://www.airbnb.com/users/show/15016",
         "Francesca",
         "2009-04-27",
         "Venice, Italy",
         "I'm usually happy and busy, often compelled to move forward, even when I don't have a direction. \r\nI'm thoroughly fascinated with food. Growing, making, sharing, eating, and composting. Also the wider topics: land use, infrastructure, social justice, environmental and human health. \r\nI mostly love being with my family and - generally speaking - with children. Walking, running, farming, biking, playing, working...doesn't matter, so long as my family and children are around.",
         "within a few hours",
         "100%",
         "74%",
         "t",
         "https://a0.muscache.com/im/users/15016/profile_pic/1268695580/original.jpg?aki_policy=profile_small",
         "https://a0.muscache.com/im/users/15016/profile_pic/1268695580/original.jpg?aki_policy=profile_x_medium",
         "San Polo",
         "9.0",
         "16.0",
         "['email', 'phone']",
         "t",
         "t",
         "Venice, Veneto, Italy",
         "Santa Croce",
         "Isole",
         "45.43977",
         "12.32736",
         "Entire rental unit",
         "Entire home/apt",
         "6",
         "2.0",
         "2 baths",
         "2.0",
         "6.0",
         "[\"Backyard\", \"Bidet\", \"High chair\", \"Outdoor furniture\", \"Shower gel\", \"Shampoo\", \"Dedicated workspace\", \"Body soap\", \"Hot water kettle\", \"Hot water\", \"Wine glasses\", \"Toaster\", \"Private entrance\", \"Hair dryer\", \"Paid parking off premises\", \"Long term stays allowed\", \"Baking sheet\", \"Dining table\", \"Wifi\", \"Refrigerator\", \"Central heating\", \"Cleaning products\", \"Dishwasher\", \"Outdoor dining area\", \"Garden view\", \"Essentials\", \"Central air conditioning\", \"Hangers\", \"Host greets you\", \"Extra pillows and blankets\", \"Coffee\", \"Gas stove\", \"Canal view\", \"Single oven\", \"Dishes and silverware\", \"Coffee maker: drip coffee maker\", \"Cleaning available during stay\", \"Patio or balcony\", \"Luggage dropoff allowed\", \"Courtyard view\", \"Freezer\", \"Clothing storage: closet and dresser\", \"Cooking basics\", \"Crib\", \"Books and reading material\", \"Pack \\u2019n play/Travel crib\", \"Drying rack for clothing\", \"Washer\", \"Kitchen\", \"Iron\", \"Bed linens\", \"Bathtub\"]",
         "$227.00",
         "4",
         "50",
         "3",
         "5",
         "50",
         "50",
         "3.2",
         "50.0",
         null,
         "t",
         "30",
         "60",
         "83",
         "341",
         "2025-03-02",
         "89",
         "1",
         "1",
         "281",
         "1",
         "8",
         "1816.0",
         "2011-09-29",
         "2025-02-16",
         "4.98",
         "4.97",
         "4.97",
         "4.93",
         "4.88",
         "4.95",
         "4.92",
         "I applied for a CIN, but haven’t received it yet",
         "f",
         "1",
         "1",
         "0",
         "0",
         "0.54"
        ],
        [
         "1",
         "27116",
         "https://www.airbnb.com/rooms/27116",
         "20250302033917",
         "2025-03-02",
         "city scrape",
         "Junior Suite with balcony overlooking canal",
         "Few steps from Saint Mark square, on a picturesque canal with gondolas passing by, giò & giò has three charming rooms furnished with taste. From the romantic balcony of Junior suite and from the windows of the confortable lounge at disposal of the guests, a wonderful view on the gondolas passing by.<br />Our other bedrooms on Airbnb here: https://www.airbnb.it/rooms/2510812",
         "The area is very beautiful and characteristic, between Campo S. Maria del Giglio and Calle XXII Marzo, where reside the most famous hotels in Venice and the exclusive shops of the city. A few steps to S. Mark Square, Rialto bridge and the Fenice Theatre and the most important churches and museums.<br />Nearby restaurants, pizzerias, bars or typical \"wine bars\" as well as craft shops and souvenir shops.<br />But if you leave the main street and turn into any “calletta” you will be in a succession of streets, bridges, squares and immerse you in a typical Venetian quiet with breathtaking views in an atmosphere where time seems to has stopped.<br />",
         "https://a0.muscache.com/pictures/miso/Hosting-27116/original/57bcd553-969f-429f-b570-da53c8795f15.jpeg",
         "116144",
         "https://www.airbnb.com/users/show/116144",
         "Giò&Giò",
         "2010-04-30",
         "Venice, Italy",
         null,
         "within a day",
         "100%",
         "100%",
         "f",
         "https://a0.muscache.com/im/pictures/user/18c5be47-1c92-4365-9a51-cf6ae1d1e5d1.jpg?aki_policy=profile_small",
         "https://a0.muscache.com/im/pictures/user/18c5be47-1c92-4365-9a51-cf6ae1d1e5d1.jpg?aki_policy=profile_x_medium",
         "San Marco",
         "3.0",
         "3.0",
         "['email', 'phone']",
         "t",
         "t",
         "Venice, Veneto, Italy",
         "San Marco",
         "Isole",
         "45.43277",
         "12.33456",
         "Private room in bed and breakfast",
         "Private room",
         "3",
         "1.0",
         "1 private bath",
         "1.0",
         "2.0",
         "[\"Air conditioning\", \"Lockbox\", \"Hot water\", \"Hair dryer\", \"Breakfast\", \"Wifi\", \"Refrigerator\", \"TV\", \"Essentials\", \"Hangers\", \"Canal view\", \"Fire extinguisher\", \"Microwave\", \"Dishes and silverware\", \"Coffee maker\", \"Self check-in\", \"Heating\", \"Lock on bedroom door\", \"Washer\", \"Kitchen\", \"Iron\"]",
         "$187.00",
         "1",
         "1125",
         "1",
         "3",
         "1125",
         "1125",
         "2.2",
         "1125.0",
         null,
         "t",
         "8",
         "24",
         "38",
         "125",
         "2025-03-02",
         "414",
         "0",
         "0",
         "125",
         "0",
         "0",
         "0.0",
         "2010-08-07",
         "2022-11-11",
         "4.84",
         "4.84",
         "4.9",
         "4.78",
         "4.81",
         "4.94",
         "4.78",
         "IT027042B4RZ8EK8UI",
         "t",
         "3",
         "1",
         "2",
         "0",
         "2.33"
        ],
        [
         "2",
         "44527",
         "https://www.airbnb.com/rooms/44527",
         "20250302033917",
         "2025-03-02",
         "city scrape",
         "Luxury Historic Apartment on Calm Sunny Canal",
         "An apartment that blends Gothic style with inimitable Venetian charm. Fully renovated, bright and quiet, wonderful southerly views. <br />Rental authorization code (CIN): IT027042B4GROPSZS4<br /><br />The apartment is a luxury , early gothic Palazzo. The apartment has been fully renovated, with respect to its original colors, style and allure.<br /><br />Please note that  for checkin after 10 PM, a 50 euros contribution in cash upon arrival is due to the cleaning lady that will come on purpose to let you in.",
         "Cannaregio is a well-connected, truly Venetian area. All amenities are available, including markets, local shops, and restaurants. Enjoy quiet walks away from the tourist routes, visit the former Jewish ghetto, or explore the beautiful churches.",
         "https://a0.muscache.com/pictures/d81fb136-a867-442c-916d-018f1ef0e0ea.jpg",
         "120215",
         "https://www.airbnb.com/users/show/120215",
         "Marc & Elisabeth",
         "2010-05-07",
         "Venice, Italy",
         "WI (Marc) have lived in Venice all my life, studied International Relations and currently working for the UN. I am managing the properties through my family - father Michel and mother Elisabeth are architects that studied in Venice from 1967 and never left it. We know the city inside out and are in love with it!",
         "within an hour",
         "100%",
         "100%",
         "t",
         "https://a0.muscache.com/im/pictures/user/0398b34d-0972-43f2-8a42-d04c2b88d6d3.jpg?aki_policy=profile_small",
         "https://a0.muscache.com/im/pictures/user/0398b34d-0972-43f2-8a42-d04c2b88d6d3.jpg?aki_policy=profile_x_medium",
         "Cannaregio",
         "3.0",
         "7.0",
         "['email', 'phone', 'work_email']",
         "t",
         "t",
         "Venice, Veneto, Italy",
         "Cannaregio",
         "Isole",
         "45.44569",
         "12.32902",
         "Entire rental unit",
         "Entire home/apt",
         "4",
         "2.0",
         "2 baths",
         "3.0",
         "3.0",
         "[\"Smoke alarm\", \"Bidet\", \"Shower gel\", \"Shampoo\", \"Air conditioning\", \"Dedicated workspace\", \"Body soap\", \"Hot water kettle\", \"Hot water\", \"Wine glasses\", \"Toaster\", \"Hair dryer\", \"Clothing storage: closet and wardrobe\", \"Bose sound system with Bluetooth and aux\", \"Long term stays allowed\", \"Dining table\", \"Oven\", \"Laundromat nearby\", \"Wifi\", \"Refrigerator\", \"Cleaning products\", \"Dishwasher\", \"Blender\", \"Essentials\", \"Host greets you\", \"Hangers\", \"Stove\", \"Room-darkening shades\", \"Extra pillows and blankets\", \"TV with standard cable\", \"Coffee\", \"Canal view\", \"Fire extinguisher\", \"Carbon monoxide alarm\", \"Microwave\", \"Dishes and silverware\", \"Coffee maker\", \"Conditioner\", \"Dryer\", \"Waterfront\", \"Freezer\", \"Cooking basics\", \"Crib\", \"Heating\", \"Pack \\u2019n play/Travel crib\", \"Children\\u2019s books and toys\", \"Drying rack for clothing\", \"Washer\", \"Kitchen\", \"Iron\", \"Bed linens\", \"Bathtub\"]",
         "$391.00",
         "2",
         "365",
         "2",
         "2",
         "1125",
         "1125",
         "2.0",
         "1125.0",
         null,
         "t",
         "17",
         "43",
         "63",
         "287",
         "2025-03-02",
         "149",
         "18",
         "0",
         "227",
         "21",
         "108",
         "42228.0",
         "2011-04-27",
         "2024-12-31",
         "4.86",
         "4.83",
         "4.75",
         "4.94",
         "4.94",
         "4.91",
         "4.71",
         "IT027042B4GR0PSZS4",
         "f",
         "2",
         "2",
         "0",
         "0",
         "0.88"
        ],
        [
         "3",
         "47383",
         "https://www.airbnb.com/rooms/47383",
         "20250302033917",
         "2025-03-02",
         "city scrape",
         "Ca' Barba B&B: room n102 (jacuzzi shower)",
         "Ca' Barb B&B, a few steps away from Rialto bridge, is quite special. No detail is overlooked to make your stay in Venice special.<br /><br />The room n102, at the first floor, has a master bed (160x190cm) and private bathroom with a Jacuzzi shower.",
         "San Polo is highly rated by guests for walking and food. The area is rich in art and history.",
         "https://a0.muscache.com/pictures/550179/3b2f0d4f_original.jpg",
         "214390",
         "https://www.airbnb.com/users/show/214390",
         "Alessandro",
         "2010-08-27",
         "Venice, Italy",
         "I was born in Venice and grown... in Venice... (to be honest, i studied math in Ferrara). I love reading, sports - i play basket- music, and i adore sailing. I'd try to describe my self but probably its for you to say.\r\n",
         "within an hour",
         "100%",
         "100%",
         "t",
         "https://a0.muscache.com/im/users/214390/profile_pic/1405938915/original.jpg?aki_policy=profile_small",
         "https://a0.muscache.com/im/users/214390/profile_pic/1405938915/original.jpg?aki_policy=profile_x_medium",
         "San Polo",
         "4.0",
         "5.0",
         "['email', 'phone']",
         "t",
         "t",
         "Venice, Veneto, Italy",
         "San Polo",
         "Isole",
         "45.43921",
         "12.3331",
         "Room in bed and breakfast",
         "Hotel room",
         "2",
         "1.0",
         "1 private bath",
         "1.0",
         "1.0",
         "[\"Shampoo\", \"Air conditioning\", \"Hot water\", \"Hair dryer\", \"Breakfast\", \"Long term stays allowed\", \"Wifi\", \"Refrigerator\", \"Essentials\", \"Host greets you\", \"Hangers\", \"TV with standard cable\", \"Fire extinguisher\", \"Coffee maker\", \"Luggage dropoff allowed\", \"Private hot tub\", \"First aid kit\", \"Heating\", \"Pack \\u2019n play/Travel crib\", \"Iron\"]",
         "$98.00",
         "2",
         "90",
         "2",
         "3",
         "1125",
         "1125",
         "2.0",
         "1125.0",
         null,
         "t",
         "13",
         "37",
         "65",
         "316",
         "2025-03-02",
         "408",
         "25",
         "2",
         "263",
         "23",
         "150",
         "14700.0",
         "2010-09-24",
         "2025-02-10",
         "4.93",
         "4.96",
         "4.99",
         "4.99",
         "4.98",
         "4.94",
         "4.88",
         "IT027042B4D3D4AUUS",
         "t",
         "4",
         "1",
         "0",
         "0",
         "2.32"
        ],
        [
         "4",
         "49656",
         "https://www.airbnb.com/rooms/49656",
         "20250302033917",
         "2025-03-02",
         "city scrape",
         "Ca' Foscari Apartment",
         "It’s a lovely quiet newly restored flat within a stone’s throw of a lot of very famous landmarks. The apartment is on the first floor overlooking the large Calle Ca’ Foscari. You will be immediately delighted by beautiful landmarks!",
         "The apartment is on the first floor (second floor U.S.A.) overlooking the large Calle Ca’ Foscari. You will be immediately delighted by beautiful landmarks such as Campo San Tomà, the School of San Rocco with Tintoretto paintings, the Church of Frari, the Gran Canal at 50 metres on foot, the Academy galleries.<br />The whole area is quiet but lively, provided with restaurants, pizzeria, pastry-shops as well as smart original little shops, internet cafés, supermarkets, bakeries with a good standard of comfort and service.<br />From there you can walk or use the vaporetto (Venetian means of transport along the main channel – Canal Grande) or simply the “Gondola” (2 euros) which is really very near.",
         "https://a0.muscache.com/pictures/41037529-8487-4f8b-99b3-9b53e6ba3863.jpg",
         "226598",
         "https://www.airbnb.com/users/show/226598",
         "Andrea",
         "2010-09-07",
         "Treviso, Italy",
         null,
         "within an hour",
         "100%",
         "100%",
         "t",
         "https://a0.muscache.com/im/pictures/user/49c4ec8f-ba48-45c3-891d-dc39801eb586.jpg?aki_policy=profile_small",
         "https://a0.muscache.com/im/pictures/user/49c4ec8f-ba48-45c3-891d-dc39801eb586.jpg?aki_policy=profile_x_medium",
         "Dorsoduro/Accademia",
         "3.0",
         "3.0",
         "['email', 'phone']",
         "t",
         "t",
         "Venice, Veneto, Italy",
         "Dorsoduro",
         "Isole",
         "45.43549",
         "12.32612",
         "Entire rental unit",
         "Entire home/apt",
         "2",
         "1.0",
         "1 bath",
         "2.0",
         "2.0",
         "[\"High chair\", \"Air conditioning\", \"Hot water\", \"Hair dryer\", \"Oven\", \"Wifi\", \"Refrigerator\", \"TV\", \"Essentials\", \"Host greets you\", \"Hangers\", \"Microwave\", \"Dishes and silverware\", \"Coffee maker\", \"Cooking basics\", \"Crib\", \"Heating\", \"Pack \\u2019n play/Travel crib\", \"Kitchen\", \"Iron\"]",
         "$101.00",
         "3",
         "31",
         "2",
         "5",
         "1125",
         "1125",
         "4.3",
         "1125.0",
         null,
         "t",
         "13",
         "20",
         "27",
         "249",
         "2025-03-02",
         "131",
         "18",
         "1",
         "201",
         "15",
         "108",
         "10908.0",
         "2012-11-06",
         "2025-02-03",
         "4.82",
         "4.84",
         "4.78",
         "4.95",
         "4.97",
         "4.97",
         "4.78",
         "IT027042C2L6NZYNJR",
         "t",
         "2",
         "2",
         "0",
         "0",
         "0.87"
        ]
       ],
       "shape": {
        "columns": 79,
        "rows": 5
       }
      },
      "text/html": [
       "<div>\n",
       "<style scoped>\n",
       "    .dataframe tbody tr th:only-of-type {\n",
       "        vertical-align: middle;\n",
       "    }\n",
       "\n",
       "    .dataframe tbody tr th {\n",
       "        vertical-align: top;\n",
       "    }\n",
       "\n",
       "    .dataframe thead th {\n",
       "        text-align: right;\n",
       "    }\n",
       "</style>\n",
       "<table border=\"1\" class=\"dataframe\">\n",
       "  <thead>\n",
       "    <tr style=\"text-align: right;\">\n",
       "      <th></th>\n",
       "      <th>id</th>\n",
       "      <th>listing_url</th>\n",
       "      <th>scrape_id</th>\n",
       "      <th>last_scraped</th>\n",
       "      <th>source</th>\n",
       "      <th>name</th>\n",
       "      <th>description</th>\n",
       "      <th>neighborhood_overview</th>\n",
       "      <th>picture_url</th>\n",
       "      <th>host_id</th>\n",
       "      <th>...</th>\n",
       "      <th>review_scores_communication</th>\n",
       "      <th>review_scores_location</th>\n",
       "      <th>review_scores_value</th>\n",
       "      <th>license</th>\n",
       "      <th>instant_bookable</th>\n",
       "      <th>calculated_host_listings_count</th>\n",
       "      <th>calculated_host_listings_count_entire_homes</th>\n",
       "      <th>calculated_host_listings_count_private_rooms</th>\n",
       "      <th>calculated_host_listings_count_shared_rooms</th>\n",
       "      <th>reviews_per_month</th>\n",
       "    </tr>\n",
       "  </thead>\n",
       "  <tbody>\n",
       "    <tr>\n",
       "      <th>0</th>\n",
       "      <td>6624</td>\n",
       "      <td>https://www.airbnb.com/rooms/6624</td>\n",
       "      <td>20250302033917</td>\n",
       "      <td>2025-03-02</td>\n",
       "      <td>city scrape</td>\n",
       "      <td>Venice garden charme and canal view!</td>\n",
       "      <td>I'm thrilled to share my apartment with garden...</td>\n",
       "      <td>We are in the middle of a residential area cal...</td>\n",
       "      <td>https://a0.muscache.com/pictures/65440024/a564...</td>\n",
       "      <td>15016</td>\n",
       "      <td>...</td>\n",
       "      <td>4.88</td>\n",
       "      <td>4.95</td>\n",
       "      <td>4.92</td>\n",
       "      <td>I applied for a CIN, but haven’t received it yet</td>\n",
       "      <td>f</td>\n",
       "      <td>1</td>\n",
       "      <td>1</td>\n",
       "      <td>0</td>\n",
       "      <td>0</td>\n",
       "      <td>0.54</td>\n",
       "    </tr>\n",
       "    <tr>\n",
       "      <th>1</th>\n",
       "      <td>27116</td>\n",
       "      <td>https://www.airbnb.com/rooms/27116</td>\n",
       "      <td>20250302033917</td>\n",
       "      <td>2025-03-02</td>\n",
       "      <td>city scrape</td>\n",
       "      <td>Junior Suite with balcony overlooking canal</td>\n",
       "      <td>Few steps from Saint Mark square, on a picture...</td>\n",
       "      <td>The area is very beautiful and characteristic,...</td>\n",
       "      <td>https://a0.muscache.com/pictures/miso/Hosting-...</td>\n",
       "      <td>116144</td>\n",
       "      <td>...</td>\n",
       "      <td>4.81</td>\n",
       "      <td>4.94</td>\n",
       "      <td>4.78</td>\n",
       "      <td>IT027042B4RZ8EK8UI</td>\n",
       "      <td>t</td>\n",
       "      <td>3</td>\n",
       "      <td>1</td>\n",
       "      <td>2</td>\n",
       "      <td>0</td>\n",
       "      <td>2.33</td>\n",
       "    </tr>\n",
       "    <tr>\n",
       "      <th>2</th>\n",
       "      <td>44527</td>\n",
       "      <td>https://www.airbnb.com/rooms/44527</td>\n",
       "      <td>20250302033917</td>\n",
       "      <td>2025-03-02</td>\n",
       "      <td>city scrape</td>\n",
       "      <td>Luxury Historic Apartment on Calm Sunny Canal</td>\n",
       "      <td>An apartment that blends Gothic style with ini...</td>\n",
       "      <td>Cannaregio is a well-connected, truly Venetian...</td>\n",
       "      <td>https://a0.muscache.com/pictures/d81fb136-a867...</td>\n",
       "      <td>120215</td>\n",
       "      <td>...</td>\n",
       "      <td>4.94</td>\n",
       "      <td>4.91</td>\n",
       "      <td>4.71</td>\n",
       "      <td>IT027042B4GR0PSZS4</td>\n",
       "      <td>f</td>\n",
       "      <td>2</td>\n",
       "      <td>2</td>\n",
       "      <td>0</td>\n",
       "      <td>0</td>\n",
       "      <td>0.88</td>\n",
       "    </tr>\n",
       "    <tr>\n",
       "      <th>3</th>\n",
       "      <td>47383</td>\n",
       "      <td>https://www.airbnb.com/rooms/47383</td>\n",
       "      <td>20250302033917</td>\n",
       "      <td>2025-03-02</td>\n",
       "      <td>city scrape</td>\n",
       "      <td>Ca' Barba B&amp;B: room n102 (jacuzzi shower)</td>\n",
       "      <td>Ca' Barb B&amp;B, a few steps away from Rialto bri...</td>\n",
       "      <td>San Polo is highly rated by guests for walking...</td>\n",
       "      <td>https://a0.muscache.com/pictures/550179/3b2f0d...</td>\n",
       "      <td>214390</td>\n",
       "      <td>...</td>\n",
       "      <td>4.98</td>\n",
       "      <td>4.94</td>\n",
       "      <td>4.88</td>\n",
       "      <td>IT027042B4D3D4AUUS</td>\n",
       "      <td>t</td>\n",
       "      <td>4</td>\n",
       "      <td>1</td>\n",
       "      <td>0</td>\n",
       "      <td>0</td>\n",
       "      <td>2.32</td>\n",
       "    </tr>\n",
       "    <tr>\n",
       "      <th>4</th>\n",
       "      <td>49656</td>\n",
       "      <td>https://www.airbnb.com/rooms/49656</td>\n",
       "      <td>20250302033917</td>\n",
       "      <td>2025-03-02</td>\n",
       "      <td>city scrape</td>\n",
       "      <td>Ca' Foscari Apartment</td>\n",
       "      <td>It’s a lovely quiet newly restored flat within...</td>\n",
       "      <td>The apartment is on the first floor (second fl...</td>\n",
       "      <td>https://a0.muscache.com/pictures/41037529-8487...</td>\n",
       "      <td>226598</td>\n",
       "      <td>...</td>\n",
       "      <td>4.97</td>\n",
       "      <td>4.97</td>\n",
       "      <td>4.78</td>\n",
       "      <td>IT027042C2L6NZYNJR</td>\n",
       "      <td>t</td>\n",
       "      <td>2</td>\n",
       "      <td>2</td>\n",
       "      <td>0</td>\n",
       "      <td>0</td>\n",
       "      <td>0.87</td>\n",
       "    </tr>\n",
       "  </tbody>\n",
       "</table>\n",
       "<p>5 rows × 79 columns</p>\n",
       "</div>"
      ],
      "text/plain": [
       "      id                         listing_url       scrape_id last_scraped  \\\n",
       "0   6624   https://www.airbnb.com/rooms/6624  20250302033917   2025-03-02   \n",
       "1  27116  https://www.airbnb.com/rooms/27116  20250302033917   2025-03-02   \n",
       "2  44527  https://www.airbnb.com/rooms/44527  20250302033917   2025-03-02   \n",
       "3  47383  https://www.airbnb.com/rooms/47383  20250302033917   2025-03-02   \n",
       "4  49656  https://www.airbnb.com/rooms/49656  20250302033917   2025-03-02   \n",
       "\n",
       "        source                                           name  \\\n",
       "0  city scrape           Venice garden charme and canal view!   \n",
       "1  city scrape    Junior Suite with balcony overlooking canal   \n",
       "2  city scrape  Luxury Historic Apartment on Calm Sunny Canal   \n",
       "3  city scrape      Ca' Barba B&B: room n102 (jacuzzi shower)   \n",
       "4  city scrape                          Ca' Foscari Apartment   \n",
       "\n",
       "                                         description  \\\n",
       "0  I'm thrilled to share my apartment with garden...   \n",
       "1  Few steps from Saint Mark square, on a picture...   \n",
       "2  An apartment that blends Gothic style with ini...   \n",
       "3  Ca' Barb B&B, a few steps away from Rialto bri...   \n",
       "4  It’s a lovely quiet newly restored flat within...   \n",
       "\n",
       "                               neighborhood_overview  \\\n",
       "0  We are in the middle of a residential area cal...   \n",
       "1  The area is very beautiful and characteristic,...   \n",
       "2  Cannaregio is a well-connected, truly Venetian...   \n",
       "3  San Polo is highly rated by guests for walking...   \n",
       "4  The apartment is on the first floor (second fl...   \n",
       "\n",
       "                                         picture_url  host_id  ...  \\\n",
       "0  https://a0.muscache.com/pictures/65440024/a564...    15016  ...   \n",
       "1  https://a0.muscache.com/pictures/miso/Hosting-...   116144  ...   \n",
       "2  https://a0.muscache.com/pictures/d81fb136-a867...   120215  ...   \n",
       "3  https://a0.muscache.com/pictures/550179/3b2f0d...   214390  ...   \n",
       "4  https://a0.muscache.com/pictures/41037529-8487...   226598  ...   \n",
       "\n",
       "  review_scores_communication review_scores_location review_scores_value  \\\n",
       "0                        4.88                   4.95                4.92   \n",
       "1                        4.81                   4.94                4.78   \n",
       "2                        4.94                   4.91                4.71   \n",
       "3                        4.98                   4.94                4.88   \n",
       "4                        4.97                   4.97                4.78   \n",
       "\n",
       "                                            license instant_bookable  \\\n",
       "0  I applied for a CIN, but haven’t received it yet                f   \n",
       "1                                IT027042B4RZ8EK8UI                t   \n",
       "2                                IT027042B4GR0PSZS4                f   \n",
       "3                                IT027042B4D3D4AUUS                t   \n",
       "4                                IT027042C2L6NZYNJR                t   \n",
       "\n",
       "  calculated_host_listings_count calculated_host_listings_count_entire_homes  \\\n",
       "0                              1                                           1   \n",
       "1                              3                                           1   \n",
       "2                              2                                           2   \n",
       "3                              4                                           1   \n",
       "4                              2                                           2   \n",
       "\n",
       "  calculated_host_listings_count_private_rooms  \\\n",
       "0                                            0   \n",
       "1                                            2   \n",
       "2                                            0   \n",
       "3                                            0   \n",
       "4                                            0   \n",
       "\n",
       "  calculated_host_listings_count_shared_rooms reviews_per_month  \n",
       "0                                           0              0.54  \n",
       "1                                           0              2.33  \n",
       "2                                           0              0.88  \n",
       "3                                           0              2.32  \n",
       "4                                           0              0.87  \n",
       "\n",
       "[5 rows x 79 columns]"
      ]
     },
     "execution_count": 227,
     "metadata": {},
     "output_type": "execute_result"
    }
   ],
   "source": [
    "listings = pd.read_csv('../Data/listings.csv')\n",
    "listings.info()\n",
    "listings.head()"
   ]
  },
  {
   "cell_type": "code",
   "execution_count": 228,
   "id": "887fa7e8",
   "metadata": {},
   "outputs": [
    {
     "name": "stdout",
     "output_type": "stream",
     "text": [
      "[ True  True  True  True False  True  True  True  True  True  True  True\n",
      "  True  True  True  True  True  True]\n",
      "Index(['id', 'name', 'host_id', 'host_name', 'neighbourhood_group',\n",
      "       'neighbourhood', 'latitude', 'longitude', 'room_type', 'price',\n",
      "       'minimum_nights', 'number_of_reviews', 'last_review',\n",
      "       'reviews_per_month', 'calculated_host_listings_count',\n",
      "       'availability_365', 'number_of_reviews_ltm', 'license'],\n",
      "      dtype='object')\n"
     ]
    }
   ],
   "source": [
    "print(listings_simple.keys().isin(listings.keys()))\n",
    "print(listings_simple.keys())\n",
    "\n",
    "# the missing column 'neighbourhood_group' is existing in the listings df, but under the name 'neighbourhood_group_cleansed'"
   ]
  },
  {
   "cell_type": "code",
   "execution_count": 229,
   "id": "9bbf5c95",
   "metadata": {},
   "outputs": [],
   "source": [
    "def missing_info(df, id_column, sort_clmn, sort_ascending=False):\n",
    "    \"\"\" \n",
    "    returns Dataframe which shows information about missing values\n",
    "    for eacht column of the Dataframe\n",
    "    \"\"\"\n",
    "\n",
    "    missing_info = []\n",
    "\n",
    "    for col in df.columns:\n",
    "        missing_rows = df[df[col].isnull()]\n",
    "        num_missing = missing_rows.shape[0]\n",
    "\n",
    "        row_ids = missing_rows[id_column].tolist()\n",
    "        percent_missing = round((num_missing/df.shape[0])*100, 2)\n",
    "        dtype = df[col].dtype\n",
    "        missing_info.append({\n",
    "            'column': col,\n",
    "            'dtype': str(dtype),\n",
    "            'num_missing': num_missing,\n",
    "            'percent_missing': percent_missing,\n",
    "            'affected_row_ids': row_ids\n",
    "        })\n",
    "\n",
    "    missing_df = pd.DataFrame(missing_info)\n",
    "    missing_df = missing_df.sort_values(by=sort_clmn, ascending=sort_ascending)\n",
    "    missing_df = missing_df.reset_index(drop=True)\n",
    "    return missing_df\n"
   ]
  },
  {
   "cell_type": "code",
   "execution_count": 230,
   "id": "27159904",
   "metadata": {},
   "outputs": [
    {
     "data": {
      "application/vnd.microsoft.datawrangler.viewer.v0+json": {
       "columns": [
        {
         "name": "index",
         "rawType": "int64",
         "type": "integer"
        },
        {
         "name": "column",
         "rawType": "object",
         "type": "string"
        },
        {
         "name": "dtype",
         "rawType": "object",
         "type": "string"
        },
        {
         "name": "num_missing",
         "rawType": "int64",
         "type": "integer"
        },
        {
         "name": "percent_missing",
         "rawType": "float64",
         "type": "float"
        },
        {
         "name": "affected_row_ids",
         "rawType": "object",
         "type": "unknown"
        }
       ],
       "ref": "cba1fabd-5025-403f-b209-f6dbb45c3998",
       "rows": [
        [
         "0",
         "calendar_updated",
         "float64",
         "7921",
         "100.0",
         "[6624, 27116, 44527, 47383, 49656, 60304, 61714, 69877, 71735, 423767, 426097, 429750, 431287, 441868, 442154, 474357, 476112, 71874, 72740, 72821, 74042, 74272, 75376, 482466, 483901, 487634, 494629, 495857, 505177, 509641, 511064, 522028, 75994, 77188, 80403, 531274, 531863, 536332, 540832, 544834, 544984, 563510, 567154, 574922, 83610, 92159, 99238, 130605, 139786, 139802, 142085, 145631, 146821, 148299, 149749, 582409, 589316, 603168, 613153, 617429, 618422, 630388, 634018, 634685, 155015, 156728, 160426, 163685, 165705, 166381, 167168, 170523, 641360, 648497, 649092, 655245, 676323, 689490, 693812, 694828, 184374, 208801, 217591, 218393, 703732, 707434, 713783, 713788, 719981, 740308, 740310, 741425, 753936, 220238, 234465, 236585, 238362, 238374, 762335, 767581, 769007, 769436, 772215, 776996, 783211, 238380, 238383, 246649, 256874, 260204, 260487, 784879, 785173, 798826, 798846, 798869, 804777, 806862, 807633, 809281, 819328, 831560, 261432, 261640, 263796, 265406, 268865, 272585, 284305, 840779, 846521, 861429, 867034, 879892, 880052, 884350, 888033, 895952, 899373, 289477, 293520, 298479, 303040, 303046, 309411, 311472, 314094, 906161, 906370, 906617, 909547, 909754, 926604, 932119, 945052, 954068, 314923, 315636, 315637, 317329, 321376, 331151, 962131, 963154, 964344, 970938, 973340, 975073, 985304, 986851, 996282, 332932, 335961, 340882, 343849, 999441, 1000262, 1005533, 1011701, 1012804, 1020909, 1034213, 1034640, 1038620, 344046, 346183, 346257, 348409, 352392, 352396, 1041640, 1043678, 1045123, 1100254, 1119040, 1142769, 1152739, 1163834, 356388, 357073, 363885, 366808, 369257, 372379, 375305, 1169013, 1177309, 1181536, 1188334, 1196659, 1230451, 1231584, 1238329, 376362, 388399, 412848, 420146, 1823944, 1832112, 1250065, 1257881, 1266716, 1269492, 1275433, 1285495, 1290689, 1293404, 1834997, 1866670, 1900562, 1900791, 1911652, 1916543, 1295650, 1300085, 1316277, 1316352, 1344540, 1345923, 1350099, 1375939, 1389133, 1422473, 1922670, 1958392, 1968248, 1973495, 1974456, 1999538, 1424680, 1424715, 1435089, 1459783, 1464535, 1475848, 1478778, 1482860, 1484835, 2004220, 2012828, 1486530, 1495535, 1500729, 1503769, 1507117, 1512315, 1512806, 2014854, 2030351, 2035719, 2050246, 2065930, 2099655, 2100925, 1513368, 1518234, 1526920, 1533624, 1539837, 1555332, 1567457, 1581387, 2103960, 2116417, 2123898, 2147263, 1583452, 1594595, 1599013, 1604617, 1614255, 1615895, 1630395, 1638351, 1644250, 1665038, 2151599, 2153244, 1683211, 1709013, 1716615, 1723179, 1732548, 1733701, 1753171, 1755514, 2158295, 2162157, 2162550, 2177166, 2178655, 2202020, 2206242, 1765576, 1791811, 1800481, 1807274, 1816508, 1816521, 1816532, 2778812, 2789898, 2798293, 2207546, 2212002, 2224828, 2800419, 2805609, 2807505, 2829491, 2834691, 2841047, 2873890, 2874520, 2245915, 2252350, 2253981, 2260153, 2260596, 2266770, 2287664, 2322764, 2322785, 2884914, 2903035, 2910349, 2911044, 2913664, 2928351, 2952728, 2975771, 2981202, 2323678, 2335895, 2335966, 2345537, 2346139, 2346194, 2363690, 2984300, 3002329, 3003073, 3007237, 3007613, 3017842, 3020830, 3037526, 3043430, 2366302, 2371050, 2377412, 2377469, 2377640, 3044146, 3045735, 3054903, 3076142, 3082139, 3086551, 3118010, 3145276, 3169118, 2402601, 2414379, 2414485, 2428828, 2429764, 2458244, 2458625, 2503722, 3178062, 3195851, 3195989, 3203677, 3206143, 3214099, 3218849, 3228393, 3284563, 2510812, 2551555, 2555676, 2559866, 2589159, 2596383, 2597953, 2598016, 3298802, 3306429, 3307417, 3308306, 3309714, 3313230, 3314930, 3323891, 2603405, 2603624, 2604417, 2610193, 2614032, 2624054, 2632418, 3330235, 3336816, 3338215, 3356877, 3356926, 3357380, 3358802, 3359937, 3362532, 2635900, 2648218, 2699532, 2704532, 2711607, 2735280, 3381913, 3382196, 3382998, 3383300, 3407702, 3418865, 3418870, 3447247, 2735333, 2737073, 2744576, 2745945, 2753359, 2766585, 3700166, 3709382, 3452436, 3509956, 3518072, 3524290, 3527969, 3543279, 3543396, 3552694, 3559131, 3726455, 3568348, 3576296, 3589795, 3592563, 3597934, 3601326, 3606859, 3618533, 3641725, 3733462, 3740002, 3743534, 3743704, 3753686, 3769807, 3777330, 3648454, 3649205, 3656555, 3664940, 3680697, 3682671, 4684475, 4691319, 3803768, 3814415, 3823067, 3824395, 3837352, 4693096, 4725205, 4732313, 4762056, 4790802, 4798589, 4799644, 4822413, 3838589, 3882117, 3885539, 3901271, 3904432, 3908933, 3936277, 4012810, 4012955, 4826958, 4867567, 4871612, 4877650, 4883419, 4889387, 4890220, 4890371, 4904112, 4906367, 4913978, 4919531, 4921887, 4923166, 4929237, 4938580, 4944127, 4945485, 4946172, 4947604, 4949254, 4962439, 4982513, 5003167, 5025859, 5033959, 5065507, 5079256, 5099225, 5109256, 5121709, 5188340, 5188488, 4019505, 5191614, 5193521, 5211678, 5219509, 5237608, 5253772, 5257636, 5265904, 4044438, 4046874, 4054500, 5267638, 5268522, 5302362, 5303501, 5312166, 5314381, 5317049, 5343674, 5349074, 4067549, 4091007, 4096461, 4118179, 4118238, 4141116, 5360928, 5365664, 5393506, 5401000, 5401605, 5402038, 5409458, 5425891, 4144479, 4148935, 4169522, 4181213, 4188698, 4200733, 4211904, 5427581, 5428929, 5445033, 5450931, 5472292, 5473403, 5476332, 5486233, 5513695, 4214105, 4216103, 4246816, 4256418, 4272967, 4275704, 4297779, 4301644, 5515449, 5518606, 5535456, 5543532, 5561772, 5568794, 5569054, 5580610, 4302018, 4314809, 4332045, 4341401, 4362378, 4382392, 4382992, 4405965, 4407302, 4408634, 4425500, 5585075, 5585819, 5599591, 5600945, 5608107, 5634275, 5641271, 5648121, 5653637, 4435966, 4436167, 4438854, 4439252, 4473558, 4475421, 4487570, 4505994, 4506282, 5654287, 5657345, 5669720, 5679367, 5691428, 5692165, 5715910, 5724915, 5734857, 4506718, 4507102, 4512782, 4514733, 4515452, 4523238, 4529183, 4530043, 4533866, 4545577, 4551974, 4560040, 4570139, 4571548, 4571920, 4572214, 4572750, 4579263, 4580368, 5734956, 5735977, 5737700, 5743784, 5757476, 5776201, 5782605, 5803115, 5809349, 4583866, 4590242, 4600925, 4614539, 4626689, 4634873, 4646641, 6663734, 6669269, 6670708, 5834268, 5866691, 5887254, 5935593, 5954552, 5961908, 5962685, 5971984, 6679947, 6682798, 6712260, 6720560, 6736777, 6741034, 6763463, 6004356, 6009268, 6011213, 6012249, 6017071, 6026584, 6030597, 6030789, 6780661, 6782983, 6786873, 6035398, 6047604, 6050330, 6059729, 6061972, 6086105, 6086744, 6791981, 6793335, 6807287, 6828778, 6839203, 6840377, 6861742, 6863620, 6867498, 6087829, 6096530, 6099635, 6109784, 6110307, 6112657, 6122375, 6139812, 6868017, 6878247, 6893811, 6908509, 6917108, 6919352, 6932592, 6152631, 6166441, 6167980, 6188859, 6192299, 6192604, 6198211, 6933594, 6987387, 7000071, 7005013, 7018697, 7028338, 6198716, 6218532, 6240526, 6254591, 6255389, 6312346, 6322009, 7040027, 7078293, 7132497, 7140675, 7140959, 7212771, 7223658, 7236712, 6322466, 6333933, 6341592, 6343561, 6360811, 6385898, 6388042, 6389539, 6398170, 6425113, 7238292, 7239705, 7268407, 7269481, 7282315, 7286111, 7312362, 6443733, 6473576, 6482466, 6484622, 6488939, 6507165, 6514655, 6521535, 6530817, 6552418, 6552897, 7314165, 7318177, 7359491, 7377975, 7397263, 7398139, 7400250, 7431855, 7443012, 6571055, 6571420, 6584158, 6599930, 6600504, 6611410, 6630468, 6634377, 6635001, 7488880, 7510046, 7524616, 7559409, 7573969, 7624650, 7655457, 7670387, 6650271, 8234330, 8301935, 8307927, 8316114, 8324279, 8331583, 8363189, 8378294, 7681285, 7682178, 7687572, 7712239, 7718939, 7744599, 7779482, 7782114, 7848012, 8397634, 8397733, 8404426, 8415086, 8415088, 8423436, 8442335, 8450259, 8510757, 7857693, 7878749, 7880190, 7904984, 8511172, 8516296, 8527728, 8539553, 8543433, 8547860, 8547877, 8547913, 7912117, 7917724, 7923840, 7937417, 7969977, 7992019, 8004575, 8019312, 8075834, 8110137, 8137049, 8561397, 8585743, 8617509, 8625916, 8637296, 8644501, 8645053, 8657702, 8678116, 8706007, 8150952, 8168561, 8196684, 9741322, 8713991, 8732320, 8736169, 8748454, 8773861, 8794503, 8809559, 8854140, 9741873, 9743144, 9746346, 9747748, 8854773, 8861830, 8864203, 8883521, 8893375, 8966009, 8978848, 8985892, 9748627, 9763587, 9764045, 9770775, 9782838, 9793810, 9801176, 8997441, 9011339, 9044935, 9053589, 9058492, 9069766, 9073122, 9104416, 9124905, 9816247, 9821595, 9823137, 9826370, 9878614, 9878674, 9889903, 9126717, 9161055, 9166645, 9194369, 9196021, 9211208, 9221588, 9221933, 9226520, 9233701, 9892432, 9899916, 9909921, 9917537, 9917563, 9925743, 9968217, 9983438, 9988301, 10004997, 9236574, 9242824, 9244694, 9253183, 9266518, 9269272, 9304289, 9361240, 9400256, 10009859, 10027171, 10027261, 10027597, 10046189, 10049943, 9458326, 9517420, 9535987, 9570457, 9611106, 9643656, 9657046, 10112295, 10114926, 10117414, 10119098, 10120136, 10121382, 10122248, 9673914, 9675219, 9676027, 9696001, 9703606, 9706549, 9706595, 9727843, 9728717, 10893550, 10133921, 10148938, 10155454, 10155481, 10162020, 10169358, 10203180, 10918389, 10953865, 10958233, 10976716, 11000438, 11013793, 11030786, 11037556, 11092920, 10258217, 10262174, 10269202, 10279818, 10280273, 10290086, 10321107, 10327212, 10330648, 11112146, 11115591, 11129665, 11177317, 11193552, 11216430, 11227476, 11232084, 10354583, 10361196, 10406382, 10406840, 10433363, 10447296, 10460428, 10460630, 11234583, 11267714, 11273610, 11291528, 11299645, 11314292, 11320046, 11329777, 11351234, 11352211, 10530687, 10533854, 10538509, 10539343, 10560781, 10579776, 10600735, 10610104, 10639339, 10668924, 10674585, 11352892, 11373018, 11376168, 11383366, 11384857, 11386399, 11389770, 11417636, 11447312, 10687569, 10716519, 10724090, 10736941, 10749341, 11453043, 11454122, 11456589, 11465539, 11470465, 11496924, 11509732, 11517928, 11526552, 10785749, 10795221, 10797928, 10800584, 10803528, 10820972, 10828508, 11530067, 11549083, 11560478, 11600028, 11614410, 11621146, 11629964, 11634229, 11650027, 10842594, 10848085, 10861511, 10867245, 11650325, 11650626, 11669547, 11672760, 11696419, 11785500, 11791588, 10882614, 12164082, 12165432, 12177548, 12178455, 12200103, 11804791, 11805235, 11807656, 11808835, 11834048, 11837021, 11863320, 11878822, 12205548, 12228396, 12248985, 12250438, 12260581, 12267434, 12279508, 11881380, 11885577, 11916724, 11934208, 11937740, 11938882, 11938988, 11943839, 12291085, 12300429, 11954120, 11954559, 11960840, 11961376, 11961880, 11982931, 12302124, 12312516, 12319024, 12322103, 12323924, 12329991, 12356453, 12003533, 12010849, 12013950, 12033562, 12075464, 12078618, 12084072, 12096217, 12362312, 12371124, 12394585, 12395018, 12395757, 12395830, 12418421, 12419184, 12443331, 12452977, 12099568, 12107979, 12160765, 13205131, 13228648, 13229486, 13231972, 13273474, 13280248, 12463214, 12482811, 12499355, 12505135, 12525887, 12526589, 12527360, 12548963, 13285492, 13288744, 13309034, 13320881, 13335877, 13337354, 13339026, 13343640, 12550570, 12554296, 12601531, 13371298, 13383345, 13384176, 13386499, 13392804, 13395330, 13402104, 13406011, 12626794, 12652039, 12660671, 12695596, 12719177, 12732978, 12744252, 12750702, 13407392, 13420595, 13421119, 13422476, 13426020, 13429431, 13431111, 12753082, 12778768, 12785633, 12818221, 12822904, 12860900, 12861076, 13458293, 13470839, 13486416, 13515701, 13518334, 13518885, 13521294, 13522593, 12864747, 12878255, 12879781, 12881240, 13522829, 13551446, 13552264, 13554529, 13557482, 13559779, 13593769, 13598967, 12894202, 12918964, 12949574, 12961008, 12965595, 12978397, 12978839, 12983557, 12987934, 13627670, 13628173, 13648765, 13669027, 13691215, 13725509, 13729998, 13743690, 13744705, 12997739, 13001409, 13008523, 13021925, 13074432, 13075813, 13078027, 13081527, 13746483, 13755982, 13762085, 13767121, 13768541, 13790079, 13809334, 13811283, 13087597, 13102375, 13113908, 13122321, 13123956, 13137220, 13138290, 13145908, 13150523, 13812868, 13818173, 13824564, 13824694, 13852639, 13854803, 13897359, 13907155, 13940818, 13160675, 13161601, 13162260, 13163603, 13163877, 13946488, 13949126, 13949186, 13951162, 13954375, 13964091, 13181481, 13189348, 13201733, 14132224, 14135084, 14160502, 14161272, 14168727, 13965699, 13966111, 13968355, 13983314, 13984636, 13988827, 13995230, 13995957, 14174162, 14174314, 14181850, 14194286, 14215352, 14215939, 14216510, 14002063, 14002485, 14003869, 14035254, 14048952, 14082779, 14083538, 14219175, 14245091, 14245145, 14245727, 14271344, 14272408, 14285734, 14291099, 14088746, 14129491, 15111754, 15129385, 15135044, 15142490, 15169037, 15175453, 15186405, 14307244, 14309119, 14309953, 14311773, 14332332, 14335800, 14342515, 14350809, 14366208, 14375002, 15187911, 15192913, 15211829, 15234060, 15242931, 15243635, 15247390, 15251866, 14382154, 14385762, 14396276, 14401813, 14402172, 14409790, 14411510, 14413161, 14440594, 14446733, 15254116, 15270872, 15275797, 15279977, 15285006, 15295464, 15295568, 14457785, 14487670, 14498324, 14500334, 14500851, 14509329, 14509523, 14521296, 14539272, 14604853, 14617664, 15377102, 15402674, 15404843, 15406721, 15413817, 15432544, 15435386, 15445766, 15467531, 14623672, 14645223, 14663956, 14670475, 14678329, 14680012, 14723841, 14734523, 14749870, 14756842, 14772096, 15478406, 15495464, 15504021, 15508990, 15517573, 15526599, 15553656, 15596983, 15598064, 14805912, 14813824, 14817407, 14846353, 14847393, 15599226, 15607868, 15628170, 15628288, 15629943, 15669947, 15672605, 15673928, 15674114, 14868532, 14880878, 14881199, 14923946, 14925459, 14927241, 15701323, 15748398, 15766835, 15796938, 15798810, 15800196, 15800362, 15812296, 14960873, 14988997, 15812750, 15814303, 15824630, 15848199, 15851823, 15857106, 15863506, 15893253, 15003975, 15003983, 15004169, 15012846, 15013127, 15020296, 15034175, 15036710, 15896366, 15971186, 15976595, 15993926, 16001709, 16008041, 16012225, 16012639, 15037264, 15062047, 15062148, 15062156, 15062264, 15062321, 15062388, 15064747, 15080456, 15081349, 16023990, 16044516, 16046081, 16061001, 16068452, 16075263, 16097137, 16142745, 16172771, 15083670, 16375708, 16409235, 16419921, 16472433, 16510889, 16185520, 16189817, 16227031, 16228838, 16240093, 16249037, 16279288, 16280920, 16511845, 16541087, 16542615, 16545093, 16545161, 16551579, 16568136, 16574582, 16291922, 16305548, 16316697, 16340500, 16362139, 16370889, 17275936, 17297524, 16577106, 16591384, 16597558, 16606262, 16633694, 16643468, 16670834, 16696794, 16700069, 17373650, 17379452, 17380904, 17381345, 17392649, 17395156, 17415380, 17415708, 17417725, 16707006, 16720845, 16730931, 16759346, 16760743, 17451743, 17454741, 17470380, 17487293, 17496200, 17528540, 17528865, 17529062, 16774862, 16776085, 16788717, 16789967, 16790025, 16807862, 16820471, 16835761, 17553690, 17557031, 17564312, 17566689, 17568114, 17568367, 17603602, 17647919, 16848003, 16853599, 16866964, 16878221, 16887507, 16887568, 17689935, 17706151, 17723488, 17726945, 17741447, 17746305, 17801722, 17802624, 17806517, 16888777, 16891277, 16892109, 16904707, 16907022, 16913103, 16913356, 16921613, 17836336, 17846101, 17847236, 17852884, 17856132, 17870233, 17885954, 17888379, 17902506, 16925173, 16937323, 16938998, 16939384, 16943590, 17912581, 17935202, 17935819, 17942887, 17971944, 17972358, 18000008, 18001459, 16944320, 16960419, 16969709, 18003605, 18016219, 18065626, 18075009, 18075425, 18080652, 18083628, 18085932, 16971031, 16978852, 16984763, 16985478, 17003338, 17003368, 17003506, 17005663, 17010607, 17018367, 18086628, 18098959, 18117302, 18121124, 18135313, 18146188, 18156509, 18156854, 18171986, 17049214, 17074337, 17081780, 17083555, 17087414, 17103422, 17104230, 18183339, 18189381, 18191243, 18207290, 18207432, 18219060, 18232909, 18252454, 17104882, 17144987, 17145471, 17150650, 17150866, 17169152, 17175856, 17181010, 17182284, 18252889, 18270505, 18270609, 18276766, 18281647, 18283239, 18285268, 18310068, 17183316, 17184483, 17185336, 17210624, 17217098, 17221992, 17242924, 17247416, 18322676, 18385508, 18398473, 18403345, 18403998, 18404123, 18404739, 18443529, 18454685, 17250746, 17252516, 17272157, 19558316, 19572982, 19582407, 19612812, 18456546, 18468430, 18471005, 18473755, 18494196, 18495488, 18497574, 18505742, 18512662, 19614310, 19669173, 19674403, 19674466, 19674602, 18516293, 18517212, 18517817, 18518254, 18530203, 18539735, 18541526, 19688849, 19695825, 19719351, 19725798, 19727876, 18541756, 18556687, 18562910, 18562911, 18580093, 18592543, 18592791, 18593084, 19735050, 19748588, 19764988, 19772259, 19774048, 19777988, 19836248, 18599125, 18613176, 18619715, 18622861, 18622990, 18623271, 18628831, 18643951, 18646178, 19838910, 19855317, 19857882, 19866097, 19867565, 19872185, 18648853, 18664208, 18713175, 18730326, 18730580, 18738918, 18752666, 18781224, 19897801, 19902640, 19910159, 19926827, 19935227, 19943803, 19955534, 19963722, 19997194, 18783147, 18798969, 18822767, 18831422, 18831853, 18841548, 18866951, 18872817, 19998396, 20033951, 20052080, 20061484, 20062264, 20062559, 18885327, 18904834, 18905564, 18968716, 18973688, 18994854, 18996187, 19003624, 20065575, 20087086, 20141836, 20153377, 20165160, 20180833, 20185109, 20188748, 19006935, 19017043, 19048374, 19060006, 19111973, 19117250, 19138743, 19147231, 19151766, 20192541, 20204523, 20213463, 20226504, 20276894, 20312565, 20314274, 19170663, 19190771, 19206467, 19210422, 19241890, 19246128, 19253624, 20378802, 20380057, 20382344, 20409637, 20421424, 19262607, 19305890, 19321660, 19345685, 19361537, 19384781, 19405702, 20422641, 20512997, 20520033, 20522486, 20533478, 20533903, 20537572, 20546395, 19420893, 19430130, 19443703, 19446735, 19453484, 19468211, 19496104, 19499967, 19500248, 20549903, 20563107, 20566310, 20589372, 20594841, 20595266, 19501491, 19512069, 19518661, 19545108, 19546787, 20779036, 20779729, 20595989, 20614541, 20648623, 20702393, 20703707, 20703738, 20703746, 20805675, 20811092, 20839688, 20856488, 20871712, 20879280, 20879485, 20883898, 20706530, 20720508, 20737925, 20753317, 20759436, 20765179, 20766090, 20908714, 20916104, 20945798, 20951482, 20952130, 20964422, 21048020, 21049149, 21084638, 20767915, 20769850, 20770032, 20772508, 21954348, 21094928, 21101169, 21103512, 21115337, 21130243, 21131273, 21158987, 21974382, 21989759, 21991820, 21996168, 22005155, 22022023, 22043099, 22043812, 22062295, 21179985, 21180693, 21210982, 21224563, 21248994, 21249126, 21250434, 21250871, 21301149, 22073177, 22095985, 22118287, 21332094, 21348568, 21354855, 21365241, 21367723, 21388706, 21390213, 21398321, 22135390, 22141350, 22141355, 22141357, 22156700, 22159772, 22160522, 21398324, 21398325, 21417546, 21419792, 21420969, 21430735, 21446002, 21457611, 21466078, 22197450, 22204327, 22216810, 22222095, 22246395, 22274751, 22276088, 22285718, 22317213, 22323438, 21470390, 21480719, 21481985, 21484487, 21488011, 21508734, 21512798, 21524052, 22338841, 22340605, 22341567, 22394279, 21550376, 21574104, 21577008, 21577826, 21585647, 21594257, 21622124, 21631329, 22417856, 22429748, 22446362, 22447010, 22448750, 22461164, 22478173, 21643196, 21713917, 21719502, 21737059, 21746738, 21747814, 21761595, 21794530, 21795786, 22479209, 22501411, 22525586, 22530630, 22542097, 22545096, 21807580, 21807582, 21824763, 21834014, 21845184, 21846401, 21848114, 21854616, 21860862, 22549377, 22566716, 22569011, 22569393, 22581981, 22596619, 21905822, 21921795, 21922475, 21924470, 21929950, 21930834, 21939841, 21940683, 22598809, 22600270, 22607982, 22625706, 22628051, 22642183, 22646585, 22665602, 22671798, 22695387, 22905928, 22913874, 22915880, 22916390, 22920724, 22932425, 22939568, 22951595, 22697263, 22697638, 22699060, 22721491, 22722614, 22724998, 22952147, 22955557, 22956459, 22998328, 22999753, 23000737, 23011931, 23012039, 23012144, 22726601, 22726630, 22738608, 22739797, 22743268, 22743540, 22748170, 22757306, 22760897, 22769652, 22779581, 22785587, 22785890, 23020995, 23033531, 23043938, 23050366, 23051044, 23051339, 23057104, 23082744, 23085122, 23085493, 22787838, 22799853, 22805916, 22811208, 22811791, 22841113, 22844075, 22852483, 22873389, 22891489, 23085547, 23101534, 23116862, 23118034, 23119771, 23122806, 23160990, 23161941, 23174959, 22896240, 22896293, 23816582, 23835234, 23835548, 23836753, 23846752, 23192183, 23195391, 23199170, 23248901, 23266099, 23286669, 23296682, 23851167, 23853337, 23853470, 23853932, 23855690, 23856164, 23296820, 23299792, 23299797, 23299798, 23299802, 23299803, 23303164, 23318035, 23875252, 23890231, 23897109, 23914373, 23918161, 23933137, 23935991, 23936405, 23955078, 23955979, 23319025, 23320010, 23321103, 23332524, 23333662, 23340789, 23347089, 23349548, 23365669, 23957027, 23957965, 23977926, 23978494, 23978582, 23381510, 23408595, 23423438, 23444096, 23449647, 23462657, 23477048, 23512302, 23978633, 23991213, 23991350, 23996460, 23996826, 24001558, 24026001, 24040559, 23514893, 23551298, 23624143, 23635043, 23637108, 23637443, 23639309, 23674841, 23706778, 24048999, 24051526, 24052414, 24053213, 24054571, 24055315, 24071504, 23715688, 23716161, 23716247, 23725563, 23726867, 23739512, 23757215, 23758349, 23782043, 23784140, 24073401, 24090485, 24091946, 24097559, 24136474, 23806424, 23807972, 23809395, 23809727, 23810099, 23814689, 23815989, 24151188, 24154421, 24171658, 24172577, 24182064, 24610567, 24638284, 24650354, 24653365, 24683254, 24685250, 24694620, 24706204, 24712393, 24192720, 24195364, 24228801, 24242990, 24243891, 24713039, 24720454, 24727118, 24728892, 24741955, 24744427, 24746819, 24747383, 24276039, 24276649, 24293761, 24318433, 24326440, 24329769, 24747737, 24753329, 24766067, 24813780, 24813795, 24819360, 24820392, 24844059, 24844514, 24332391, 24340790, 24350491, 24351388, 24361103, 24363682, 24365175, 24844608, 24844704, 24844838, 24863203, 24878685, 24880285, 24883185, 24885311, 24886682, 24901125, 24365181, 24367745, 24369371, 24369982, 24375806, 24385633, 24419457, 24438480, 24439560, 24441974, 24442737, 24903402, 24905382, 24907795, 24929379, 24934520, 24942363, 24967985, 24975101, 24984320, 24482113, 24493720, 24509706, 24519204, 24529498, 24529736, 24985219, 24992475, 24995658, 24995734, 25000306, 25000708, 25013963, 25041072, 24535503, 24537467, 24547573, 24563383, 24566287, 24589133, 24589876, 25074387, 25078547, 25080491, 25095242, 25103990, 25120648, 25122399, 25124165, 24596869, 25538752, 25573346, 25657214, 25674378, 25126871, 25134881, 25175013, 25194501, 25220103, 25228571, 25245252, 25250080, 25251874, 25255457, 25734005, 25764271, 25766940, 25768190, 25259441, 25277871, 25281102, 25285290, 25312777, 25312863, 25318953, 25339688, 25367088, 25778576, 25794000, 25799280, 25801428, 25820788, 25374585, 25390855, 25392590, 25395761, 25402893, 25416144, 25439483, 25443000, 25500906, 25505241, 25849656, 25883820, 25910699, 25913150, 25928509, 25934830, 25966263, 25988358, 26002249, 26023815, 25510599, 25513602, 25528121, 25536105, 25537984, 27177981, 27181823, 27184934, 27197120, 26032582, 26055196, 26101193, 26115813, 26122914, 26130991, 26150279, 26162087, 26194953, 26211358, 27207576, 27271176, 27302438, 27304289, 27324465, 27336937, 27349334, 27358739, 27389018, 26240693, 26242197, 26265990, 26272876, 26273051, 26273201, 26275245, 26312625, 27426154, 27451744, 27454257, 27454540, 27455391, 27506451, 27513243, 27513530, 27515029, 26325765, 26341997, 26344184, 26344782, 26371359, 26385150, 27515222, 27534086, 27534273, 27539099, 27547969, 27567788, 27576962, 27599571, 27600068, 27605918, 26387274, 26418427, 26438279, 26443484, 26482318, 26505287, 26544219, 27615894, 27617451, 27618661, 27636393, 27644378, 27650550, 27650684, 27651070, 27687653, 26550162, 26552709, 26560007, 26563089, 26591718, 26595055, 26619811, 26680623, 27712250, 27715289, 27770110, 27798269, 27827937, 27840473, 27846087, 27862042, 27862450, 26686591, 26687640, 26706440, 26714398, 26731886, 27869564, 27873617, 27876076, 27891542, 27893990, 27905378, 27932431, 27939676, 27981504, 26742119, 26757881, 26794701, 26795683, 26797487, 26803416, 27997932, 28000910, 28006077, 28022331, 28025140, 28040826, 28068007, 28071011, 28072982, 26803904, 26851904, 26856282, 26884566, 26914044, 26921746, 26939744, 28073916, 28074333, 28074339, 28075548, 28077021, 28078000, 28093451, 28095591, 28117126, 26940647, 26979375, 26998491, 27008717, 27011653, 27046457, 27070576, 27096532, 27096535, 27098108, 28121953, 28125365, 28126556, 28144974, 28172051, 28194187, 28223310, 28256258, 27125153, 27154834, 27165598, 27166932, 28417084, 28438681, 28460453, 28502404, 28274023, 28300442, 28324122, 28339591, 28351818, 28352967, 28374955, 28379918, 28504396, 28518319, 28560731, 28561525, 28562479, 28594104, 28609579, 28629026, 28675545, 28403502, 28404284, 30220513, 30231607, 30231817, 30241205, 30243711, 30244031, 30244448, 28678045, 28706771, 28711981, 28757696, 28820537, 28850146, 30244676, 30245612, 30265360, 30282685, 30283763, 30284438, 30335148, 30387364, 30398136, 28857367, 28857743, 28876975, 28884005, 28888340, 28928213, 29004368, 30399343, 30413020, 30416763, 30437231, 30456635, 30458319, 30466981, 29054990, 29066989, 29072174, 29072377, 29075590, 29114942, 29171426, 29176552, 30467176, 30492650, 30517849, 30528942, 30581116, 30618666, 30622866, 30698825, 30753359, 29202871, 29207534, 29255439, 29273437, 29274894, 29305588, 29305593, 29334993, 30760815, 30810822, 30852114, 30879988, 30897412, 30935887, 30945343, 29346806, 29352576, 29355454, 29376835, 29411584, 29440020, 29445862, 30956984, 30957166, 30959923, 31019742, 31028285, 31040443, 31046955, 31062519, 29452600, 29453913, 29470404, 29481316, 29504520, 31084125, 31109572, 31143614, 31157005, 31158632, 31161505, 31168457, 31186705, 31201144, 29505444, 29510973, 29532305, 29537731, 29559420, 31203307, 31217265, 31230578, 31256519, 31303354, 31335624, 31366730, 31376147, 29602248, 29603997, 29620022, 29640692, 31394802, 31395801, 31400853, 31403016, 31409347, 31429316, 31432422, 29648829, 29648972, 29691114, 29707544, 29740041, 29759316, 29773829, 29774356, 31432552, 31436115, 31452810, 31453021, 31453478, 31461231, 31462087, 31462928, 29774699, 29815301, 29821983, 29827621, 29842075, 29868433, 31463664, 31486078, 31502664, 31508921, 31524157, 31524686, 31524832, 31525294, 29875942, 29940846, 29952324, 29973848, 29979020, 29979715, 30033139, 31532843, 31549039, 31563752, 31579988, 31583604, 31586330, 31591679, 31605259, 31605923, 30044194, 30060832, 30067616, 30078293, 31606029, 31608832, 31611142, 31615335, 31635445, 31636011, 31639878, 31641546, 30078544, 30099273, 30102306, 30115794, 30116842, 30167534, 31660265, 31663433, 31669467, 31682899, 31687942, 31727934, 31730906, 31733642, 32485799, 32488130, 32514116, 31742263, 31775006, 31775920, 31777107, 31777219, 31777445, 31777774, 31814162, 32516665, 32537957, 32543395, 32543399, 32566300, 32569150, 32569346, 32569716, 31816450, 31819543, 31820320, 31822938, 31845241, 31845443, 31846624, 31873116, 32581614, 32583761, 32591268, 32598853, 32606418, 32632257, 32649655, 32656922, 31898990, 31915793, 31940541, 31950805, 31970072, 31971963, 31972519, 31989293, 32657522, 32658125, 32679785, 32707062, 32732489, 32737889, 32741913, 32788596, 32788928, 32827605, 32857874, 32859220, 32004094, 32006644, 32011427, 32015610, 32029319, 32059818, 32062453, 32077336, 32861256, 32883388, 32887803, 32888916, 32903384, 32928215, 32931830, 32944890, 32096274, 32096515, 32118463, 32123005, 32135840, 32183486, 32201552, 32204052, 32206399, 32947081, 32961373, 32977122, 33010115, 32230278, 32232290, 32233510, 32241178, 32251649, 32252273, 32287004, 32297810, 33025667, 33033826, 33037671, 32298571, 32299117, 32301165, 32301497, 32312902, 32322762, 32323055, 32323113, 32331811, 33040498, 33042217, 33080794, 33090920, 33107044, 32346572, 32374623, 32390923, 32396047, 32396809, 32398905, 32414524, 32416576, 33146077, 33146732, 33153194, 33158540, 33159295, 33159645, 33160172, 33165468, 33186011, 33187023, 33188751, 32417030, 32432570, 32433549, 32455103, 32455684, 32457263, 32457657, 32463558, 33193032, 33206380, 33208866, 33217839, 33262198, 33265474, 32463817, 32465592, 32482996, 32485147, 33581712, 33582466, 33587265, 33265849, 33280169, 33286472, 33354782, 33357318, 33360438, 33362370, 33362381, 33367785, 33600394, 33600966, 33601646, 33601874, 33604898, 33607897, 33630245, 33631964, 33632724, 33662371, 33387873, 33420827, 33438466, 33444388, 33464731, 33467054, 33467763, 33672054, 33681239, 33684857, 33699486, 33700616, 33707686, 33729264, 33741695, 33741704, 33469696, 33517316, 33517524, 33526005, 33535867, 33544514, 33553582, 33575345, 33741738, 33741760, 33741782, 33759620, 33764725, 33776736, 33847227, 33851957, 33863614, 33579351, 33579923, 34467028, 34486921, 34487124, 34487577, 34493941, 34500284, 33869461, 33878014, 33897356, 33905388, 33922446, 33923459, 33931767, 33952729, 33953759, 34509928, 34524499, 34532547, 34533144, 34540054, 34564789, 34593820, 33954971, 33979665, 34004224, 34006056, 34008264, 34011767, 34014328, 34030406, 34622084, 34632316, 34634544, 34645522, 34681031, 34735609, 34758493, 34768848, 34769137, 34077101, 34101770, 34107661, 34108248, 34111980, 34113468, 34119555, 34142591, 34150468, 34778578, 34791926, 34792174, 34792325, 34799281, 34800312, 34160725, 34173473, 34190201, 34190206, 34192937, 34194406, 34198553, 34198773, 34199496, 34808908, 34827691, 34828586, 34832555, 34885033, 34203521, 34203604, 34204264, 34204455, 34214770, 34215922, 34225039, 34251058, 34254696, 34885131, 34897139, 34918557, 34932005, 34958447, 34992635, 35014667, 35028067, 35104872, 35108525, 34277743, 34278631, 34281543, 34301675, 34322184, 34324101, 34332185, 34336782, 34377021, 35145429, 35147278, 35153719, 35156716, 35156950, 34383692, 34383858, 34385695, 34412012, 34427445, 34434571, 34437040, 34437867, 35174672, 35178289, 35181831, 35222038, 34438543, 34440266, 34461208, 35867718, 35867887, 35868040, 35902529, 35927494, 35932352, 35935568, 35223769, 35244903, 35244906, 35244908, 35244911, 35263784, 35372036, 35408588, 35436425, 36009611, 36060683, 36065811, 36066436, 36066515, 36068063, 36089560, 36166689, 36171075, 36179882, 35439243, 35439882, 35453115, 35476486, 35480863, 35505069, 35505572, 36180022, 36202300, 36299056, 36303170, 36306473, 36329434, 36330119, 36371672, 36371874, 35591726, 35596034, 35596384, 35611685, 35611767, 35611837, 35637887, 35647378, 35702182, 35704763, 36372355, 36395726, 36419466, 36432155, 36437652, 36440969, 36464902, 36465605, 36465769, 36497612, 35706110, 35727606, 35751504, 35753480, 35763854, 35786750, 35787436, 35797366, 35818787, 35824940, 36500548, 36500837, 36521254, 36547751, 36587753, 36592419, 36619122, 36624980, 36628493, 35828091, 35835881, 35837463, 35866840, 35867523, 37516973, 37543558, 37546004, 37546481, 37563876, 37571985, 36661406, 36678559, 36684564, 36714952, 36723155, 36724836, 36753530, 36755340, 36782247, 36785116, 37572062, 37572169, 37572170, 37572176, 37596483, 37612023, 37612356, 36819331, 36826691, 36828367, 36868668, 36875571, 36877821, 36929938, 36965652, 37046237, 37089996, 37613867, 37620004, 37621054, 37624531, 37706095, 37712572, 37713392, 37090374, 37108740, 37109186, 37144552, 37145917, 37173105, 37177926, 37179966, 37199977, 37742336, 37796507, 37819069, 37819611, 37869168, 37922366, 37925446, 37201663, 37225514, 37275812, 37294552, 37313455, 37318197, 37344350, 37352673, 37397900, 37932487, 37955200, 37959777, 37961712, 37966054, 37966528, 37967012, 37978708, 37980243, 37981321, 37406112, 37428415, 37430951, 37445128, 37456358, 37456863, 37457978, 37489290, 37509770, 37983070, 37983092, 37983602, 37984372, 37984387, 38009282, 38014881, 38030698, 38039440, 38063535, 38083709, 38987546, 39002507, 39024661, 39040234, 39046480, 39047241, 39047477, 39067098, 39072609, 38118898, 38120578, 38147303, 38148201, 38157591, 38178074, 39074453, 39074907, 39076767, 39120241, 39151768, 39187748, 39220567, 39249695, 38208643, 38237339, 38248931, 38252037, 38253029, 38253039, 38254951, 38315019, 39287285, 39291439, 39298847, 39311570, 39312344, 39315759, 39329674, 39351308, 39357522, 38318795, 38342890, 38343775, 38366188, 38392723, 38402183, 38412485, 38431250, 38432009, 38445340, 38474108, 39379920, 39381291, 39384737, 39430631, 39436425, 39454678, 39462939, 39477493, 39480397, 39543092, 38474548, 38545536, 38562458, 38563576, 38563984, 38568014, 38609894, 38665161, 38691838, 38712167, 39548029, 39584578, 39641535, 39644023, 39666291, 39686632, 39687471, 39716213, 38724367, 38737274, 38799670, 38821048, 38840858, 38860153, 39769189, 39784449, 39784999, 39808007, 39812198, 39813880, 39817260, 39818205, 39849297, 38916158, 38929046, 38945918, 40753512, 40753581, 39868558, 39907998, 39947230, 39983194, 39986180, 39995781, 40044925, 40164437, 40753595, 40798810, 40802008, 40802085, 40802136, 40802228, 40802656, 40802714, 40802792, 40802833, 40170952, 40335639, 40357883, 40361042, 40382806, 40391339, 40398778, 40419856, 40804801, 40815702, 40819642, 40855773, 40912933, 40934376, 40955902, 40426288, 40437093, 40447288, 40449798, 40498328, 40508410, 40522407, 40544607, 40575038, 40960987, 40960999, 40961260, 40962380, 40962491, 40977045, 40980582, 40981142, 40981542, 40606283, 40628515, 40629507, 40629964, 40648750, 40652620, 40655941, 40703860, 40719730, 41016437, 41017200, 41017509, 41042834, 41093996, 41110196, 41171708, 41186648, 41193563, 41201990, 41222762, 40748129, 40751721, 40753284, 40753310, 40753325, 40753387, 41901730, 41919330, 41921542, 41230237, 41236121, 41255262, 41260249, 41301335, 41379762, 41927161, 41950592, 41975306, 42014899, 42028830, 42029827, 42035881, 42054835, 42054880, 42054989, 41395029, 41405821, 41425673, 41442016, 41466906, 41469464, 41495615, 42065887, 42082561, 42083098, 42087945, 42088204, 42088402, 42089815, 42112669, 42134215, 41500137, 41515616, 41518880, 42191072, 42191350, 42194375, 42210003, 42217072, 42239335, 42246003, 42253144, 41524507, 41543818, 41545510, 41555311, 41563564, 41575156, 41581713, 42260809, 42267709, 42268095, 42268299, 42268453, 42268934, 42274988, 42291642, 42320548, 42351234, 41583708, 41592752, 41616557, 41617294, 41656865, 41657447, 41667095, 42359351, 42367564, 42378768, 42379243, 42386279, 42410278, 42418890, 42429568, 42431928, 42433158, 41672663, 41673754, 41681054, 41685155, 41700863, 41736678, 41739723, 41745595, 41745960, 41767719, 42433430, 42450377, 42454372, 42472379, 42484615, 42489396, 42520067, 42522464, 41783561, 41788594, 41794005, 41806415, 41818569, 41831435, 41832487, 41856089, 42524132, 42525505, 42528143, 42535922, 42600432, 42600829, 42612763, 42622043, 41857160, 41866641, 41869677, 41876488, 41887464, 42656370, 42683930, 42685288, 42700806, 42788005, 42805252, 42822218, 42873061, 42873062, 42889990, 41894315, 41901539, 43092062, 43092202, 43138293, 43168581, 43168757, 43168829, 42948966, 42949470, 42949852, 42950444, 42950678, 42953387, 42953701, 42953885, 42954148, 42969035, 42969557, 42972180, 43168910, 43169009, 43169065, 43170501, 43201185, 43206223, 43241098, 43251320, 43310400, 43310474, 43310508, 43313290, 43322099, 42980923, 42985224, 43019102, 43027979, 43029065, 43030091, 43030595, 44329556, 44339659, 44349156, 44357496, 43323036, 43363347, 43371652, 43402200, 43449007, 43449383, 44389328, 44397098, 44414518, 44422140, 44422500, 44423354, 44453590, 44454784, 43449549, 43449682, 43449754, 43449998, 43450064, 43485354, 44468632, 44470137, 44471860, 44544345, 44548061, 44549803, 44564676, 43490117, 43611686, 43618024, 43647538, 43647762, 43652200, 43652666, 44566838, 44567393, 44568550, 44570827, 44571378, 44586566, 43666036, 43667092, 43673657, 43687836, 43699881, 43705007, 44627642, 44671211, 44677028, 44682423, 44683102, 44695533, 44721015, 44777587, 43709157, 43722291, 43723325, 43734449, 43742746, 43753717, 43772058, 43786480, 43795744, 44793900, 44838555, 44989039, 45018609, 45051195, 45061997, 45064387, 45068417, 45074112, 43796889, 43814550, 43815393, 43824956, 43828270, 43838128, 43838678, 43838704, 45077717, 45081296, 45085236, 45098414, 45108052, 45132577, 45147397, 45160948, 45167898, 43865068, 43904689, 43921792, 43924743, 43939794, 43981320, 43982291, 43982784, 43983074, 43983269, 43996099, 45168763, 45169223, 45187541, 45198351, 45199986, 45211328, 45234515, 45236073, 44006727, 44056070, 44057363, 44059176, 44091658, 44092970, 45236492, 45237156, 45250837, 45263657, 45285426, 45296632, 45309151, 45333195, 45338806, 44093539, 44093798, 44094070, 44108039, 44108666, 44109777, 44113708, 44120125, 44142529, 45344683, 45357464, 45359925, 45374545, 45426803, 45432350, 45444597, 45450925, 45459983, 44158030, 44183891, 44187137, 44238208, 44241904, 44274497, 44284671, 45479345, 45527200, 45541096, 45554820, 45587664, 45587887, 45587957, 45589908, 44325296, 45759627, 45761463, 45765637, 45765638, 45765639, 45765640, 45786390, 45844426, 45627795, 45630011, 45639025, 45670115, 45698947, 45708502, 45709433, 45722521, 45723770, 45854194, 45854353, 45854537, 45854604, 45854763, 45854844, 45854916, 45728867, 48456554, 48478221, 48558818, 48590770, 48596730, 48622480, 48637335, 48649784, 45855217, 45870025, 45892797, 45892915, 45930962, 45968835, 48654720, 48668050, 48727214, 48731134, 48736144, 48767425, 48782930, 48795925, 48796645, 46002803, 46003701, 46007823, 46058676, 46132762, 46134691, 46137319, 46152898, 46152899, 46153754, 48843518, 48854333, 48863736, 48896515, 48946643, 48949721, 49057661, 49072578, 49095593, 46190314, 46194163, 46254232, 46255486, 46276603, 46276751, 46328837, 46346252, 46350120, 46387393, 46387398, 49119193, 49121074, 49121468, 49182687, 49189358, 49217926, 49316178, 49338041, 49360706, 46397806, 46402908, 46416374, 46477200, 46563390, 46577725, 49409960, 49437666, 49462120, 49472103, 49473576, 49477879, 49479499, 49491664, 49492128, 49493948, 46769428, 46845130, 46897888, 47000870, 47025541, 47114343, 47303256, 49509963, 49527015, 49537000, 49537754, 49539535, 49544507, 49546834, 49554957, 49555393, 49564950, 47437059, 47437060, 47503074, 47557054, 47557219, 47557935, 47728762, 47729116, 49566392, 49568628, 49578014, 49585966, 49609376, 49643264, 49643504, 49646212, 49646809, 47729200, 47730270, 47778111, 47864169, 47877311, 47877737, 47918125, 48008824, 49669106, 49699855, 49713213, 49720846, 49722149, 49722920, 49723789, 49724193, 49727247, 49731717, 48051246, 48064566, 48073321, 48129790, 48164332, 49743811, 49747889, 49771863, 49789909, 49796015, 49832925, 49844421, 49850484, 48164953, 48195025, 48195026, 48205282, 48210114, 48236866, 48253597, 48258018, 49851021, 49864876, 49876274, 49877079, 49892807, 49897810, 49903567, 49919782, 49919813, 48264504, 48274439, 48325884, 48326905, 48327554, 48386322, 48386978, 48409863, 49919972, 49919994, 49920012, 49920208, 49920262, 49921572, 49921654, 49927601, 49928259, 49928639, 48411167, 50531137, 50533085, 50540475, 50544079, 50558263, 50560368, 50560369, 49928819, 49928949, 49929086, 49929182, 49929309, 49929476, 49937477, 49947115, 49963602, 50567056, 50584607, 50603577, 50604766, 50607583, 50652574, 50655923, 49977224, 49977945, 49979004, 49983770, 49991215, 50001243, 50015261, 50020796, 50031192, 50656617, 50665418, 50670240, 50678655, 50678952, 50038706, 50044951, 50045590, 50049152, 50070674, 50078067, 50078572, 50097403, 50110305, 50685462, 50715955, 50719000, 50736716, 50740061, 50745430, 50753311, 50762583, 50765629, 50111308, 50115355, 50123138, 50124062, 50131751, 50145836, 50151623, 50175421, 50193833, 50194382, 50766602, 50767359, 50770430, 50780139, 50780320, 50780455, 50780681, 50210266, 50221934, 50233990, 50259584, 50267534, 50277320, 50278704, 50282187, 50282620, 50782867, 50838743, 50869109, 50883489, 50910475, 50282790, 50294239, 50297387, 50303363, 50321275, 50342143, 50345080, 50347742, 50359755, 50910650, 50925504, 50961756, 50983344, 51007138, 51020170, 51021086, 51028647, 51028787, 50365785, 50366865, 50369547, 50369643, 50378324, 50383425, 50386655, 50387792, 50387979, 51030242, 51032653, 51054280, 51055056, 51058693, 51058694, 51058699, 51067220, 50389874, 50392504, 50392898, 50393470, 50408602, 50411016, 50411461, 50429814, 51087248, 51115259, 51118138, 51118250, 51132554, 50430545, 50436814, 50436949, 50437702, 50438391, 50438544, 50452371, 50452700, 50476273, 51139574, 51146364, 51158109, 51209365, 51222022, 51224170, 51249070, 51254674, 50499569, 50499684, 50499804, 50524453, 50530130, 50530201, 51417883, 51428558, 51260256, 51261493, 51271764, 51277384, 51277434, 51279783, 51280066, 51447058, 51462996, 51463616, 51477815, 51552882, 51578632, 51581710, 51592971, 51600586, 51301136, 51301788, 51315391, 51321377, 51337045, 51609276, 51610387, 51611862, 51614407, 51628404, 51632822, 51647340, 51650530, 51661171, 51337137, 51356106, 51384223, 51385910, 51397457, 51398216, 51398585, 51663618, 51678311, 51679035, 51679271, 51680232, 51680505, 51680796, 51680894, 51701652, 51400393, 51401286, 51402063, 51402923, 51405464, 51416594, 52431342, 52431689, 52452429, 52486848, 51707039, 51721705, 51723304, 51723305, 51748588, 51757849, 51763321, 51764562, 51778405, 51798612, 52487138, 52522601, 52528726, 52543837, 52548042, 51811518, 51812862, 51838866, 51854761, 51854781, 51858950, 51876124, 52564047, 52608758, 52634282, 52643828, 52665700, 52685854, 51877339, 51878750, 51879477, 51898635, 51898637, 51902574, 51907834, 52709447, 52711912, 52727384, 52731931, 51924092, 51951610, 51951938, 51951939, 51952618, 51954579, 51955402, 52821520, 52868761, 52870807, 52880141, 52895190, 52930095, 52967339, 52979664, 51956020, 51974928, 51976514, 51977348, 51978355, 52016610, 52045203, 52051439, 52997765, 53038247, 53038331, 53040829, 53058369, 53059147, 53090659, 52059320, 52064525, 52099077, 52109303, 52136962, 52137992, 52188758, 52196082, 53143997, 53160128, 53162927, 53166714, 53167616, 52199515, 52210522, 52212501, 52214562, 52214564, 52229109, 52253953, 52271707, 52272668, 53177768, 53178120, 53178289, 53178684, 53182945, 53224766, 53229917, 53253678, 52274786, 52305649, 52311042, 52315284, 52319964, 52342782, 52351150, 52377606, 52405570, 53265487, 53270054, 53289111, 53349530, 53350642, 53355275, 53355849, 52406996, 52416887, 53920798, 53929243, 53942485, 53949143, 53950078, 53985500, 54048617, 54052670, 53376320, 53378257, 53393194, 53395088, 53396142, 53397669, 53452061, 53457166, 54079591, 54099920, 54121725, 54153749, 54177951, 54188355, 54188418, 54190204, 54191482, 54194619, 53467063, 53469642, 53470620, 53471400, 53491690, 53540421, 54234294, 54238272, 54254885, 54255739, 54255886, 54287326, 54303616, 54305789, 54310852, 53551765, 53554924, 53567561, 53583859, 53603027, 54310897, 54323392, 54326169, 54364332, 54384057, 54384587, 54384622, 54401249, 543920024783790617, 544598307308356419, 545571997799070573, 53604796, 53604799, 53605241, 546894922088297161, 548549712570151444, 549046695088407727, 549046733056032998, 549046842357256292, 549046851491065357, 549046862908149412, 549046872906458084, 53668730, 53670356, 53684196, 549046912719632018, 549046930489059039, 549047026615737185, 549047045168879352, 549077145956708463, 549077156581970038, 549077206632412628, 53693019, 53711347, 53716520, 549077225752383506, 549077262427870426, 549077290506096759, 549077317438914577, 549107159221727351, 549107179538543261, 549107192328190372, 53717203, 53748479, 53761481, 549107201984712885, 549107233849662899, 549107244355961128, 549107266056438143, 549107275853309672, 549107286538305398, 549107308953599754, 53768543, 53776201, 53778473, 53778647, 549107318427187640, 549107366955467049, 549167656055517656, 549167666722246317, 549167685223160643, 549167697807219600, 549167707499499455, 53778874, 53778959, 53805309, 53838958, 53872171, 549167719707393336, 549167745982946166, 549197790849881207, 549197809551992223, 549227960028006295, 550566559568045526, 550570978944352835, 53892745, 554996044348950619, 555499198208983352, 555712113665394007, 556247389037736038, 556361198086158309, 556391961579759585, 550677382257253052, 551339534431270786, 551383284798829595, 552082839075588874, 552136431752214588, 552203530620664341, 552573882894829155, 552598739625135546, 556542025860693033, 557083097711580726, 557655044290328653, 557895701576382910, 558341383479677961, 554092988304710652, 554106115061235323, 554107603599770813, 554109000653251610, 554112327483969367, 554675582235633326, 576733228936794558, 576925166911492754, 558354372900246548, 558358474713544867, 559224987431389438, 559364982878228875, 559828294904064169, 559933043187961232, 559995626094149193, 560042473113957116, 560972584221437619, 561530170356097041, 577196644761909846, 577211329093488471, 577250991438354341, 577349344122666441, 577922926609095426, 577947177027719702, 577995510821144655, 578192743998391218, 578733875985469454, 561562263004179592, 562171858889563823, 562230939546947110, 562785706282362982, 562880147421746926, 563069135546773376, 563478100782390018, 578947058506076747, 579383223964828561, 579432759681940927, 579510180700528060, 580088244214424763, 580445110816016537, 580818006050015006, 580967599447208359, 563605466797542863, 563783864131051928, 563791274393109271, 564110174742194322, 564129931108385377, 564136748275034829, 564187290427143686, 564280371075694039, 564396395753747272, 564500696300325573, 565041623714487215, 582386687359485560, 583088604634338476, 583155402481165064, 583275679865958781, 583713103832034331, 583853450684689039, 583956488148094316, 584113200985395519, 584453893380934150, 565086877104485143, 565197103765306530, 565848006097034230, 565850840531992229, 565851037572193271, 584456638729454327, 584475464971435333, 584486014515026500, 584653376925230194, 584654808916945058, 584809281800066180, 585201888122355592, 585232092661131272, 585336565841810196, 565939722560335526, 565940901136384156, 565976919449572809, 566312330986630628, 566661455410636978, 567270769493238695, 567760208528736744, 567928627480686495, 585972256359510467, 587047216167742674, 587489671283960349, 588174299314880689, 588221543970048936, 588223687887200037, 588232980140593374, 588278372096106691, 588520246172706154, 568000592901985503, 568006535926176022, 568490356244099608, 568566195566921442, 568669015232129122, 569434428427083786, 569646563432496115, 588787587473096768, 589662381161603767, 590261016419385623, 590929873715915494, 590994641909116037, 590995643758892468, 591117347813552698, 591898693929546336, 592347982470496885, 592400705487894803, 569649864260904152, 570064356299432871, 570331828259631995, 570804883700006416, 572348858093960732, 572686280844206430, 572707998265964933, 592486118094465887, 592493829890516732, 592572919287113618, 592707754645165495, 592826951537097168, 593175134318146055, 593177931669440775, 593190861493044692, 572712196616250054, 572714080107064467, 572810515314788877, 572940417677461635, 573058407268276258, 573069926770279771, 573074131933435142, 573160135617414977, 573171114220631889, 573191927014686836, 573253197204357332, 593215048345644744, 593265291135251975, 593275100961612546, 593322894495448943, 593341946449609734, 594089365917358406, 594093439100105142, 594100451845180987, 594584114878427891, 594870886187041148, 573532983849394263, 573745881750599659, 573767418471558024, 573947382884128981, 574492497052969631, 574527589761846522, 574661452294089121, 574688094973776891, 594885669054763065, 595451807363045433, 595559992710815240, 597720226160529428, 597729839212072443, 598198775835652226, 598983216699963674, 599295806208463981, 599832163317711182, 599951124561300511, 575220665085353204, 575305163855615978, 575344810157317303, 575923546519189108, 576618350610856976, 599953954122664992, 599960874480251864, 600054882187947327, 600539604683995627, 600560914044751295, 600596020530993891, 602030037747448001, 602089579883111617, 602524870806730887, 576643061692661501, 576653048800956797, 576659785984446795, 644206080786098696, 645423149621301474, 645440840550150229, 646810766204284452, 646889079336474809, 602600126594028892, 602672645101860779, 603283757469727457, 603616742418311605, 603937629382350849, 603976984595737078, 604011216474707977, 604220363629138819, 604260482822965434, 647466608067971127, 647535233311874621, 648139068064879624, 648342882380228260, 648583125237420776, 648931789201426319, 605330197818075300, 605518904414495889, 605742570072896536, 606337751482983732, 606563692528576402, 607261494591952945, 607263364194835603, 607725528169620872, 608741835508394036, 609048579802688216, 649136255452939917, 649166953541199640, 649283340540638872, 649722510436714944, 649828870061489283, 649843954952722069, 649857049710002418, 650402610174019184, 650508895990272019, 609132892911562396, 609220233938813032, 609290898779100981, 609769681910660098, 610751592994697229, 611520264685430763, 612306870764866953, 612765023302821568, 612765847014105156, 650576889259266498, 650659032090973811, 651177437063812379, 651307995344592147, 651326465949031654, 651879072182429115, 652674221812187091, 613422403576154661, 613570039519827543, 613829058322990491, 614884333216385562, 614934732032197886, 614934870507151055, 616035025546642981, 616567468851584212, 616703040333924885, 652685957115435873, 652901064195388250, 653265503925724074, 653293266230072184, 653496642593289343, 653505634697257786, 653631951626460775, 617037234723759028, 617288024711107485, 617429644625718007, 617439460572975089, 618469079421725128, 619353029545541848, 619429396803748138, 619590774022810725, 620048797966984853, 654142489347639711, 654947667271912278, 655066974280065952, 655075687908994532, 620166199542434581, 620184340867020639, 620309936761654143, 620315804338476983, 620327730605212540, 620332217975084264, 622044687001643327, 622096418699106817, 655955207332380945, 656364882719960269, 656514440936923339, 656889448535704348, 658395685181196120, 658402448077784881, 658421682377609952, 658484007577658847, 622179922865015299, 622283583684103091, 623807345597711079, 623864415811595466, 624537348830995631, 624675773517222415, 625216334581438064, 625981899233545549, 627252839523134009, 658642990070579842, 659103728993295988, 659113230071628788, 659904292924629719, 660118133627583614, 660153007014881911, 628062985502978559, 628274913522437496, 628687042942193925, 630450386688784710, 631735479790897703, 632560918653550782, 632583363073735214, 632947973829892933, 633031022622438293, 661420937317454555, 661458283381695159, 662205556917707844, 662300740796783506, 662686924762183685, 633113328146471183, 633345089075450829, 633680495898473243, 633740196350112414, 633788258308589731, 634430345153961402, 634438216271572667, 634526850333755820, 635191080968054982, 662713001475262169, 662833976365359531, 662873434815920155, 662928375135344434, 663432127914385668, 663512947845813153, 664144787012396845, 664145074206900319, 664145246768046914, 664942766518802790, 635203979110080644, 636033802000423868, 636890804073849935, 637512253145750991, 638300545340556802, 638400929135061122, 638403805969773939, 638405224053587919, 640573567280884465, 664949577865847070, 665020007721838935, 665119794776701299, 665750835335936544, 641160365231709719, 641749541489356941, 641986199446520261, 643293296313967250, 671495131372804832, 671499391376551498, 671502439065092652, 671504996561751909, 671507608882429537, 671512068583594186, 672097295540094270, 665807250660691595, 665807357732752546, 667182034555427053, 667218972454514818, 667702716418352345, 668596858876544127, 668624100482637049, 668650090637384992, 672131284747383829, 672135415536352376, 672140113657565652, 672143125182310747, 672151723194425517, 672156581317155373, 672159140052101625, 672161053818689306, 672162738836687009, 672243929702750803, 672310889048894850, 673174363480604704, 668716351134122344, 668716470620708698, 668716928200136624, 669402056346324603, 669429158327575477, 669520835659391671, 670133936049220562, 670388713904489936, 670810159811552271, 670818602910601200, 673564140178408724, 673738100159428276, 674315072431841014, 674546147633902883, 674569538967351141, 674963595963342539, 675158477353437326, 675771717808310686, 675781261072441077, 675886588589149597, 676124249847272043, 670846691230289868, 670891936912821374, 671409777664608461, 671429106601589115, 671493098924148892, 700800607961930143, 701070952508622673, 701216320061934035, 701649857282382367, 701892479987084988, 701934175162430169, 676622832861312994, 676644879457973252, 676647992466689514, 677367806968065995, 677422779058575741, 678137463687584500, 678149110855811886, 678155501942692283, 679457008163084807, 679498594637487931, 679506734965810601, 701953378007299281, 701977587658872618, 702046908781094621, 702677186858001674, 703977423787898509, 704703007019555513, 680143510068064957, 680382294646644558, 680404409172012355, 680549068011376643, 680968836630541354, 681696376426301066, 684054396347155859, 684078989538318303, 684084670011962507, 684581082012406033, 704792162185138177, 704823709237371920, 704931214865202401, 705025743456821049, 705728973348245305, 706400613337156180, 684648170377799415, 685084342282164955, 685115200137028680, 685349629564161028, 685843348296803104, 686297002562728779, 687376593208044462, 689022023725149058, 689192267696277012, 707255052804005434, 707685095284513627, 707766567702469439, 709122746464370986, 709131023580834958, 709862458708445067, 710844027139907891, 712070010726766738, 712088225086724526, 689518709926820942, 689560893374483224, 689750119988606795, 689824068487648965, 690278373355076886, 690604781659802393, 691206313073007391, 691362487056710788, 691718534079861982, 712113708309561812, 713468413653295397, 713477900927771396, 714126852033632906, 716675001218374596, 717289314940908905, 692088673017569356, 692238368879076495, 692238480617104282, 692398783044089715, 692537214742615034, 692804245589277408, 693982479613860686, 693982759784846407, 694077603025700878, 717307136142220253, 718520301108524196, 718716660876105339, 719232439747650943, 720129337182930794, 720302944067925308, 721394244811583199, 721649910904189041, 722283993791502113, 694121108472381743, 695064353481160315, 695330116900300878, 696348083397885673, 697068648389960180, 697660155237369866, 697700555960031786, 698236909933574868, 698317441115511619, 698435356902430959, 722287108307422826, 722613468076068754, 724325457326019497, 724502932255405735, 724507690316470874, 724549473987401732, 724557091398859840, 725834754917319916, 725883474576639486, 728685803584988906, 728890964046035753, 699060617553994913, 699111408317041261, 699196151305745780, 700626767773207493, 700633952042507996, 745477211859171476, 745671384712444489, 747479976789475259, 748162792822978288, 748252587124786147, 729406293592676687, 729587024997178381, 730141827076853989, 730268051591450658, 731728604856416202, 731736814085613789, 732441256714586166, 732522539484314144, 733235573952127957, 733295475350541479, 733530290707276780, 733709504812028391, 733781379397976409, 748375023557066193, 748999259569336631, 749813414099128233, 750577902143736386, 750588178707338445, 751158143109279616, 751969699715339396, 752628637260565855, 753310481166218809, 753347476663289780, 733903430778204550, 734162303847528207, 734550726176649255, 735184034045468044, 735211027290420608, 736016725789506401, 753364564980913801, 753375256880920746, 753658382658746543, 753689709697898013, 754925167482950905, 754940973507418807, 755495506400781025, 736046032168257824, 736246608049823269, 736250094898977332, 736722189382950462, 736777448434039734, 736784695652120493, 736795151172005885, 736805444814902861, 736987816226306904, 738037610457749629, 740460079636608199, 755504844754180972, 755680100992226959, 757651089440922633, 757661897059939968, 758496009913958240, 759085255211253914, 759960952218893509, 760768612131661469, 762183550651759059, 762365266807172345, 741021028726017371, 741045646897395177, 741604095699358719, 741672381133061454, 741679202560302667, 741970547484053891, 742433348606442332, 743108839905315839, 744760241432823124, 762917944566972527, 763659057079094636, 764310092915656289, 764939906518257606, 764974252654522587, 765034532290081966, 765115847361336372, 765134524093655303, 765847308862875792, 765865507219078905, 745357636162474688, 745379915576881251, 774402994653749455, 765889333528401068, 765890871551612909, 765891792878898665, 765898986511737413, 765899441630372765, 765899725991828859, 765900024048690476, 765900315209629002, 774531462064568655, 774553925307108697, 775158475945813412, 765903903465257790, 765904305039882026, 765904972751373057, 765905740676247139, 765906779897189510, 765907135868216157, 765907471258583932, 765907981898546226, 775912049944262887, 776017551931515963, 765910750779310854, 765912442040893793, 765916018153535097, 765916207305333956, 765916921434035322, 765917129055554928, 765917416068715759, 776137738650288549, 776570921414904136, 776591356965362280, 776921015422202842, 765917615261728208, 765917831095898561, 765917952692223941, 765918426420984116, 765921880147006159, 766537876117575305, 766609896104129230, 766911081587895327, 776928748437141641, 776933934126926690, 777989638097946158, 778022836898556302, 778760030522550944, 779415375292006469, 779606568185082352, 779643016588887076, 781265526771651983, 767096988680060411, 767207716602797434, 767226058771020148, 767375778533131616, 768251633989466183, 768986467042769067, 769278389816356787, 769618228309490859, 770001167149616124, 770100466761547480, 781595375164983894, 781656400820592851, 781703462344540944, 781737326445891796, 781857183209484304, 782011476280631466, 770234819100793580, 770890386562069595, 771081740628613763, 771102841375133271, 771129642699496313, 771488607027890590, 773057857100109711, 773781107983535591, 782015579739657077, 782022798737573255, 782287482390742815, 782444763287547432, 782725347608725568, 785263471700434936, 785763643224543058, 786052910611603497, 774019596969224065, 774224422695537008, 774255331993683378, 808809388483068984, 809126253713807648, 809986313342278354, 810734295788932628, 810783260302369000, 810786599401829580, 810813581724765561, 786751553044584786, 786818313032849476, 787024808576386804, 787035882963178360, 787051557306213827, 787069739879614242, 787086719246637295, 787100134766105538, 787114207051158657, 787137463012612394, 787152902567157850, 787166134283194242, 811736994018743520, 812031717447117365, 812057349135611899, 812250035571362570, 812875297423399445, 814855414889006823, 815297886370890203, 815638095902128615, 815661018600986547, 787538400643290574, 787660053202814451, 787750536550792351, 788091239773689642, 788240680296562195, 788310451422292596, 789263892937239854, 815681624953139917, 815797364829037633, 815809045877838400, 816008334831829607, 816016929591197740, 816023047116012542, 817196070864448954, 817880002809882330, 818765424918233121, 789832668314206901, 790502699195998435, 791212082382623519, 791389619039426601, 792672677830396102, 794231794593585152, 794860000158722514, 795038789420974828, 818914306204706609, 819405545102491600, 819508498388778624, 819539247727625519, 819686286060935532, 820262868450185289, 820942402659816771, 821041021393625452, 821448422377181357, 796346204154078638, 796347834491764259, 796358638745764401, 797074763122378379, 798545380491637465, 799960397262945024, 800424008410493013, 822141404926991832, 822233679373037786, 822993737972241831, 823007908288694504, 823014133392593031, 823016630484369401, 823145995362139872, 825337934138804698, 801375635949961920, 801377482131067824, 801919187504230423, 802019612969133632, 802041056910149058, 802045922279382433, 802633552724786344, 803353283926130280, 803377987549001909, 805026065623230078, 805119376503411287, 825777015115759126, 825905289121674289, 825968119328381821, 825981186065631018, 825983269010993299, 826015019619079224, 826047483616533970, 826883287415861106, 826961356698138082, 827379666262579478, 805508815934337029, 806966476473135544, 806993795521964832, 807159636990112586, 807172927993421544, 807320200892607835, 807675656270226907, 807680416085116912, 807682586483941230, 827578886907841038, 827930555737544882, 828110412554619891, 828264344179948784, 828723869155900980, 829232242195913025, 829245078528604905, 830272643532171896, 830295690272706295, 830353311598780523, 807684208837043608, 808024634388873178, 808099177768162020, 808417325171281822, 808541034624144833, 808715678478646782, 836691799359379512, 837020906760941114, 830368920587858984, 830392552733062413, 830829706137135197, 830856920125224187, 830899331814602042, 830921366735681158, 831127753274195814, 831691520409327634, 831711271176721766, 831718327610589757, 837047531385718381, 837412305969886929, 837537615282643776, 837549115325763595, 837553108828232216, 837563758386626855, 837567231350634031, 837570258603325753, 837705048038302115, 831746767474350756, 831749875617113346, 831828395297164229, 832296493775728970, 832348174920426769, 833755394697249031, 833755497568520385, 833755799147288492, 834178316221644052, 834202136066435100, 837762490634918618, 838109460295250941, 838123223265865564, 838133646626315641, 838133836643957084, 838134168782023974, 838186518676478074, 834439683037202289, 834677097028847384, 834745477102851233, 835938765503560783, 835975265581708462, 835980667100187135, 835983178521993911, 835987408675585279, 838203004707155008, 838386442897398523, 839541020771427044, 839723882044471459, 840396603795249783, 840985079777351460, 835990297827592549, 836001545790623347, 836120721308409563, 836258811277577192, 854177158729918270, 854218067112736035, 854236123425515688, 854255282817382588, 854890576400459864, 841025262475199094, 841045593467763396, 841060322078597452, 841725893607301228, 841727999937122566, 841761973514965343, 854895394752828707, 854917936034491299, 855112419186889027, 855764179092099916, 856366225682823825, 856411208202489480, 856467542181321142, 856490703702491643, 856586904759617969, 856637911386147231, 841787759597854066, 841888739481482648, 841909187216059653, 841971128749332488, 841973199855693980, 842273158355099075, 842444842299926246, 842445930389117853, 856886228065557167, 856989932301371424, 856998614508561337, 857041354425621445, 857044118292291508, 857336552173430589, 857647055081649303, 857678029839780214, 858087028117335826, 858087207430831992, 858390414987232098, 842446479352798682, 842447525774130356, 842448767203259993, 842484268307366930, 842532162835415942, 842609402361008768, 842625185342811957, 842651622652738901, 858427957222881507, 858428226622396762, 858435821862344223, 858459659744424924, 859125280654937076, 859126076081167947, 859154575649235811, 859154734390974858, 843164675108142556, 843241556864366381, 843252320100331133, 843318036512355960, 843349915974519411, 844100912735676966, 859154923826416772, 859155049474081554, 859491557016332949, 861300482011602690, 861499260929792509, 861661837427552869, 862036281404317382, 862140883533006821, 862192021601842747, 844128612348038699, 844265941171279914, 844687796517264787, 862192686255082895, 862203366054529007, 862805566607912750, 862805751411271892, 863048625430991961, 863060688788943629, 863080243255275060, 863481131062423442, 863796140448327861, 863807573532175060, 864288950872962544, 844805627425926996, 844812999498842819, 844821900168008756, 844829015346776973, 845344231241174040, 845554659208037123, 845591766511332689, 846767442663689381, 846803022295150503, 846826581345715023, 846956915328628408, 865269458040469106, 866708694519949048, 867077114149597994, 867897797303173388, 867912884036811096, 867975551966097487, 868534836170655754, 868545762924393107, 868705760879930083, 868713422818072962, 868721843412377311, 846971626425009154, 847117420317854916, 847120901115211920, 847577222883349061, 848208372538001048, 848354916176388794, 848421217400729417, 868722219351654389, 868726020325156664, 868736218907035904, 869205671919598380, 869231838085684530, 869238282464501029, 869279126774254659, 869284533574566813, 869295514768355869, 848435322725836768, 849025473906874035, 849123002314292422, 849126724707015295, 849904983657757980, 849933300156773473, 849944099007595605, 849950138449124609, 849964179862466363, 849975026602526987, 869627659266304781, 870181205477950351, 870935841119497065, 871526941549795373, 872223704816823526, 872520823346293374, 872926879981497038, 873029484368708499, 873047147553161714, 850612650379296516, 851855228108319397, 852266244244830835, 853321750078461407, 853325900127780483, 853364551853841366, 853449515928544509, 853608602976265054, 873137106054981496, 873587307937751666, 873620825096547897, 874345435824316147, 874411461519118311, 874528213181534672, 875062299702523610, 875114861926474583, 853684186878695574, 854114673599318410, 854120776002129740, 902810437701597444, 902838024416038950, 903353074123333798, 903624796111466389, 903712253958386598, 875393448678687411, 875404758515284161, 876036810425554424, 876464992539127085, 876465103183674430, 876501422136361496, 876737438859153507, 877231580270932601, 877281506865011613, 877305202171757224, 877337207890881386, 904092188769783021, 904177851440853441, 904179199867593982, 904229558701927009, 904247806526892598, 904273285249435575, 904279016199741912, 904289194736080237, 904815514706557277, 904821182945248106, 877371955075798782, 877391918675769643, 877528806700846541, 877560426703064537, 877565948237245164, 877573553472387376, 877575512102004149, 877577062109487942, 877883129302152343, 904823913475463456, 904826322983717983, 904826332407528489, 904929611448707983, 905012196765426125, 905039785796868341, 905042736251819404, 905047404157864095, 905050366840718966, 905052806641753240, 877943090585248274, 878054612958383638, 878364801976427614, 879362416127455867, 879436462276999783, 879634185174734463, 880825389206160218, 880829846973742643, 881137013820539482, 881595278545855985, 905055415725242768, 905055437245490194, 905058098880374966, 905058108506596673, 905065602273581818, 905068115316978725, 905070687557911874, 905073098623974900, 905076114232541390, 905076124850681268, 905139769927877381, 905159704563578392, 905545154629673166, 881717513059745594, 882672381235713075, 882712521377349484, 883075186286980262, 883334388025778039, 883369506670516018, 883722372069765402, 885494884138712348, 886119154027032094, 905992549109134714, 906356298413492108, 906418791661297145, 906464947432834918, 886211734867170509, 886338350799947981, 886868008950501497, 886950097287876389, 887475379193186725, 888095187807495001, 888974647981840408, 906643116722037339, 907194312952261676, 908061075588854780, 908063751050754608, 908072155149939465, 888985196169894689, 889021003815949525, 889211771041724039, 889238586373062515, 889636771775744369, 889748690270343444, 889924235833822968, 890263266100591276, 890267910299171211, 890408523304735551, 908076690966535721, 908082234890590614, 908315293073160121, 908436870584561413, 890638031194764876, 891301681210681370, 891377104394754416, 891408720832326490, 891442455524546876, 891724198857285524, 891829796508414293, 891990697361638905, 892216818458102980, 892624176101166631, 908449819355594566, 908452175534766030, 908690648531039941, 908827712520633373, 909223285884926369, 909223299566977268, 909419579348838376, 910188521167399633, 910762133318779688, 892650707047383019, 892660391744921000, 893384208471303725, 894097793219663827, 894235829450668931, 895405068711035135, 895520924602184672, 895533743932423676, 896367214604128183, 897128900255242428, 910767158398302230, 910770771147862791, 911421627235307114, 912080631363242453, 912251108645574354, 912737831378532791, 912917519345590559, 912959843225667760, 897716429609769992, 898304615063406289, 898385302247969606, 898426758397260683, 899066001576727094, 899920026985592276, 899920149534747381, 899995019859349143, 900081867917024839, 900316189302396486, 913121427216660561, 913667464444948575, 913774733482891712, 913834451119159784, 914194829352494823, 914266021996929560, 914313463110062526, 914431844128854194, 900694040497036973, 901173744964663231, 901220569668578885, 901362455762113266, 901902513580921342, 901998507055673699, 902023029049298522, 902190326979096728, 902491000918644940, 902537206684030126, 915042070612918566, 915123959930184533, 915172406551275974, 916385169940189046, 916474186216959748, 916714871787682241, 902796436234701154, 918672890346234511, 918692058543827764, 918773555791503555, 919275770801628802, 919998562989126370, 920028217232695841, 920174207942910842, 920220233733911305, 920274471136901900, 917139700973873928, 917235959730901749, 917422813135240644, 917793784353272176, 917949092346277218, 918195938073113846, 938144895537892471, 938146613539244104, 920709515583972222, 920828546044901266, 920928518083732371, 921223762600833588, 921657234479266902, 921937676680235739, 922171703902677597, 922518017623739333, 922871303765413288, 938147625406407609, 938151177307775271, 938361691001930141, 938957902539867959, 938978623479288210, 938980808323922328, 940349559334194300, 922906326724394741, 923572537115837089, 923619373141919932, 923639075281835247, 923695886182578355, 923710159902613880, 923785354032481033, 923808143034203858, 940670527606217390, 940707709189637660, 941224079416161086, 941495631408511385, 941895615608834488, 942038755040642812, 942461659657285553, 924373154647424819, 924380832620271286, 924398117683958821, 924407559630788914, 924411297522528935, 924426459253112636, 925241440239476781, 925823773823038456, 926010749130496340, 942823290977208729, 943237197679571427, 943981013852210500, 944271976005026026, 944365278172774450, 944658448844841790, 944676887820627186, 944849497136470513, 944864906130280389, 944916487282060336, 926047498183594290, 926482508230438930, 926530538620610967, 926912588264512477, 927219782121965863, 927345244816756239, 927676695785236145, 927689228909599112, 927990970905452681, 945285461092882911, 945296409882984631, 945757890436640222, 946614265883675284, 928000416416400436, 928005496751088502, 928010522697958825, 928015238209140456, 928243186376097354, 928602695486014638, 928701633343360611, 928965379322878224, 946626388715172869, 946632698776696358, 947873384145289850, 947933991574104090, 948405674622428602, 948490831762614431, 949026541882771236, 949038646715849146, 949057689892091780, 949662506468217587, 949722796195808723, 929402775009837436, 929403263075093667, 929539586549634843, 929541383598891933, 930107334374544575, 930202865839225908, 931149512404648413, 931278979141870302, 931570610265006854, 949734673712199464, 950115527752009625, 950652966869341638, 950691937506631537, 931829123881953802, 932347388530877900, 932717184424734514, 933117763949256422, 933838091879739506, 933841647564872255, 933844254438438759, 933881419270448963, 950719478642181733, 950737274393220960, 951108168705947127, 951109054001558061, 951614983297274338, 951719417847697002, 933899931593918429, 933932945740372569, 933957767034249220, 934000134035936707, 934000144630391464, 934002588215474903, 934008144550190561, 934397298348382107, 952655126305481575, 952817647855051722, 952904000170361814, 952904281723201162, 953346470045509877, 953367306765802247, 934404480453586169, 934406781280878656, 934406790390218983, 934406800990944137, 934496244339360087, 934504084808776735, 934511716348321242, 934513609680640479, 954076553413529565, 954164963069001052, 954213927870826230, 954442410357334197, 954829424053217642, 954878492555481280, 935238632273976717, 935314783422679733, 935585069632792190, 936435014904055244, 936818428580437387, 936837189113639340, 938141861447113867, 965793369090690512, 965914381850927574, 955497035865727976, 955581086249940650, 955691533700422314, 955736004587314345, 955758591570449196, 955800230723324793, 956226374355287944, 956946155385346706, 957883333588482962, 966037914609141777, 967200272605923567, 967229455655252680, 967309901782694657, 967877549212113691, 968027923064434036, 968081321299636771, 968713406283108635, 969248088822527118, 969397623259486124, 957890980987243124, 957893892263871873, 957995381075738308, 958424743922064382, 958521211556252326, 958585586787746669, 969452306965200469, 969498170866937575, 970849587153571298, 970886587487280776, 971406619635037674, 971472398574360859, 972511720025286161, 972839130439275499, 973715817879746408, 973876919369586833, 973950257283187038, 959144274645126251, 959430649796714272, 959471453965777823, 960750958293194658, 961044770154930028, 961621342308529837, 974275709349147712, 974591584189571682, 974594943416279044, 974604118040248736, 974648252270949220, 975424943839869272, 975867185499408330, 975938746800327024, 975990456804470675, 976211656378188288, 962400911279850840, 963050044635105558, 963451918765311496, 963479513938135704, 963649871370417506, 964479500980551345, 964545291656667227, 965691625871205465, 976591198222655115, 976701813768523463, 977373503620549565, 977423454228913834, 977466719617229854, 977494666619872099, 977500059155237747, 977560444967163208, 977989660719636713, 978294202617560222, 995627545925197347, 995736283272769462, 995806616009362590, 996534853014726550, 996881778192754635, 996972606142000803, 997722545235645943, 998473521161598157, 998602507354109624, 978837903500153696, 979473953622655549, 979706581208557424, 979836087501640448, 980111906666463048, 980896383326877992, 981097578982795875, 981578902412218090, 998620217257858887, 999113356706570190, 999186961174458499, 999257233946219462, 999294647659702307, 999787784392835696, 999891247297923594, 981827184820246911, 981831074726899704, 981834607948611671, 981842783730361729, 983142924055698204, 983181846764875194, 983312929727986437, 983414897935365003, 983802528013899941, 983992533347290706, 1000418518731118148, 1000690458044999604, 1001341233025177499, 1001355460081559490, 1002880369699501348, 984855934020058487, 985232945075139591, 985508657125767237, 986066266111517548, 986217353015123077, 986732721780636778, 986826364565972927, 987698851343710249, 988110806307841408, 1003480825894641507, 1003489913948389382, 1003514368898010148, 1003538235264847521, 1003557784400752978, 1003573037870763972, 988343383292292645, 988985145352937799, 989119824431350770, 989202696943833048, 989729617903970676, 989734022090356913, 989861195408373493, 989875631337861623, 990354559064724879, 1004091672108614178, 1004102127557969514, 1004106881106958092, 1004108061436455142, 1004109262864251827, 1004111590810751082, 1004114274888062692, 1004227587811382190, 1004270544212982744, 1004380762333076538, 1004794279631652791, 990387049966449275, 991065164307680743, 991215175367724858, 992088392858432753, 992108304958054454, 993163746827215537, 993348403313947626, 993589349889972325, 994567561554408677, 994575834389133038, 1004795074958971159, 1004795393914340721, 1004795639352678913, 1004796074749507276, 1004796621726591331, 1004797101743891368, 1004797266507749891, 1004797485379913153, 1004797696090510010, 1004797902509902922, 995104320333126876, 995534244174658204, 1016429062783114472, 1016666101605849059, 1016695412752790117, 1016712227116101154, 1017192303879523794, 1017242329774000831, 1017526500034376204, 1017943737210623048, 1004834587027793318, 1004868500060981081, 1004879032277710555, 1004923064796285145, 1004936500811741138, 1004937865317368159, 1004992342351335211, 1005488077767464464, 1005491509416610453, 1005514482857727617, 1005528087920701563, 1005547637092256663, 1005595379309350979, 1018109244059389874, 1018888500428208363, 1019462463298740195, 1019852140949643968, 1020050195255235076, 1020212997792042744, 1020421497149255180, 1020910405669979468, 1020944684221145146, 1022449939961900736, 1005595959146725250, 1005652516991567834, 1005653013070812816, 1006252653843819469, 1006440590375797292, 1006449664247736876, 1006458429260521444, 1007057640438279826, 1007866309044542654, 1008522151043064119, 1008684052220675280, 1023767016549948913, 1023878666544335561, 1024644524670828776, 1025279883239618667, 1025315305235882115, 1025373089515657601, 1025463559985219038, 1025887844632632988, 1025908460539009403, 1009179910250610024, 1009220079730942322, 1010626665790591601, 1011437386212825550, 1011521198870253251, 1011521344667460788, 1012142624324086388, 1012738263713619613, 1026617977309728161, 1026783170686846798, 1028899099510499738, 1028958093653493407, 1029609064417339110, 1029671823383567485, 1029802589999575118, 1030357275773436331, 1030434195089854163, 1012849728019228568, 1012948012112886702, 1013007350235163272, 1013477164521842536, 1013486740869279515, 1013547145409846009, 1013572248656244699, 1013609886362396710, 1013661530142538034, 1030918381874375475, 1030971188131175279, 1032167780951200475, 1032583640969277379, 1032599865395414776, 1032636780079013993, 1033104815769384346, 1034011243196493734, 1034011778181008009, 1013783366192035448, 1013956288620107537, 1014918427102465880, 1015343331190302871, 1015822132938097557, 1034071377077697232, 1034090103265556175, 1034092759556046148, 1034199820403160127, 1035547005273198010, 1035561989289681415, 1035942922149847878, 1036004634532309331, 1036181568733815012, 1036821821993884019, 1049160676049678787, 1049193550630435364, 1049891486570104800, 1049918645815165674, 1036851248368257136, 1037433631052342529, 1039091256868952584, 1039129928812824920, 1039196023195025271, 1039280915112536502, 1039298354382329237, 1039571295772559304, 1039586921041220381, 1049918743056228216, 1049920221429053121, 1049975933282104875, 1050966328298621354, 1051526946971130034, 1051938559963662961, 1052061887145847787, 1052848162775982712, 1052891518963687492, 1053235386073723686, 1054283059928628507, 1040314425192268077, 1040348875918530916, 1040562862317431556, 1041372560240246366, 1042692441715633671, 1043422114011429150, 1043656713215406286, 1043888361346213915, 1044095732521219409, 1054354781377123983, 1055077288211774430, 1055567370011856575, 1055648087352832220, 1055899552106486286, 1044291182898437468, 1044332459456152240, 1044740354424918698, 1044797655089701090, 1044928939487856096, 1045019061214188746, 1045438950210180404, 1045565657092599489, 1055922883069407530, 1055929250993499728, 1056019517969512472, 1056320471943215360, 1056346921196261708, 1045716563939906110, 1046187786747757973, 1046193968628087299, 1046236315431073541, 1046600738548202248, 1046901532589310562, 1047031147474382514, 1047051915405690952, 1047105417583551873, 1056408740003257661, 1056449917810004425, 1056537359199273052, 1057763184406505700, 1059239607552761338, 1059406484640216493, 1059965658285244867, 1047532247583677539, 1047541681816501904, 1047619471694376700, 1071730985957647632, 1072184983215544612, 1072367144446454366, 1072687785531220479, 1073146486378267839, 1073147584627293029, 1073230678103912317, 1073995144896394653, 1060046432179361859, 1060101140084931898, 1060591816883871111, 1060674935133918036, 1074331024894267292, 1074331042727815738, 1074578377126931085, 1074724472918633842, 1074766595126488175, 1075108493215768685, 1075178907755362186, 1075198533772122401, 1075243337418378868, 1060686552087873123, 1061293727679955622, 1061339610794335894, 1061370793949648000, 1061517043596425503, 1061617640960212690, 1061646352535806917, 1061693257292994065, 1061722695972797900, 1075271561141699038, 1075404746347732752, 1075475518106635125, 1075860091896951750, 1075899004294000726, 1076041088275296522, 1076792641188303871, 1076821557693274506, 1077275201121651598, 1077351905825045387, 1061785848048545610, 1062037501926291485, 1062392678699862600, 1062429737045035595, 1062489140787132231, 1062816199600080449, 1062942791752718777, 1062948632770302145, 1063620658715685435, 1063711446933352297, 1077357500575659428, 1077388221599707398, 1077608680774470022, 1077630132775047789, 1078979215715393851, 1079535330656749130, 1079560939755545107, 1079621853202932696, 1079682567662652209, 1079703111547026850, 1063744373372592767, 1064254415875765347, 1064288645299628696, 1064398464517700062, 1064487285794044889, 1065077805203129162, 1080213611798243209, 1080352815353314980, 1080356162218464102, 1080378951629944153, 1080716828324878232, 1081008104561877015, 1081097650992443024, 1081100052392959714, 1081119511292857826, 1065085741774278791, 1065166625170314642, 1065270735859841037, 1065858804063666232, 1065904867798269940, 1065950967909568203, 1081632129065929697, 1081639620459897457, 1081645187911000484, 1081654203726665152, 1081667378510098338, 1081696258613834994, 1081750509376828097, 1081964152020267128, 1066654507859293403, 1067039612488155883, 1067200416427834512, 1067301357031315949, 1067313770272762919, 1067395816890425963, 1081978850142291593, 1082001594459316931, 1082012731488386255, 1082017080151506523, 1082371405548811262, 1082383658041958940, 1082390283108531872, 1082430366392016776, 1082430456875435750, 1082430546475607967, 1067836474245419546, 1067911233091140375, 1067973942357207003, 1068023657377857173, 1069351932069861591, 1069353564299384454, 1082528333776039962, 1082586528247504235, 1082600692845020362, 1083272689233666973, 1083371516537937524, 1083553473678978563, 1083870863468368963, 1083891694842311211, 1083926214126829618, 1084540580954355891, 1069360839089815303, 1069365834784687506, 1069423246479995287, 1069660008339950937, 1070005023752299930, 1084617159613319358, 1084618979289736813, 1084621239372555264, 1084635054800727683, 1084703045257652328, 1084768554433866212, 1084768688449457130, 1085237995731820471, 1085345655421747380, 1070164219123199142, 1070516367301049544, 1070891130484154041, 1070985796475344588, 1071097983747724332, 1071113243356019555, 1071144011832573408, 1071151614174742845, 1071697268573341999, 1086954687827064314, 1085396509266939914, 1085401248959818110, 1085401898147738671, 1085407642565962152, 1085553658892217181, 1085687918760177509, 1086118471880871987, 1086149177226686271, 1086753788607387004, 1086770215920863757, 1087003825546511891, 1087015145249557037, 1087488145006164690, 1088100045788064625, 1088153875934071268, 1088202863348807618, 1088296493704370054, 1089009009416768024, 1086901848334059227, 1099975087529148383, 1100074709277259063, 1100600080948841073, 1100679614870536967, 1101262827471415230, 1101348538207518145, 1101355037615963108, 1102024566565110299, 1089099045099695837, 1089127366304520339, 1089345353154687521, 1089863623129232097, 1089899200633925733, 1090402160443482826, 1090403264155142114, 1090516010914059325, 1090521373885353819, 1102121940658938119, 1102311302259528119, 1102324946689487566, 1102781648523342973, 1102945644664328461, 1103439538753990772, 1103484772925388093, 1104226969995394461, 1104258151598494329, 1090572575065866372, 1090664426013303025, 1090684672219878229, 1091205119120581818, 1091245333960931647, 1091258216593101572, 1091326257641366726, 1091767767546078754, 1091789324604332743, 1091810966984916737, 1104275903116665608, 1104344585459026488, 1104348761986316755, 1104374296577941335, 1104534029772761431, 1104799871389380111, 1104877451689814299, 1104943560066501934, 1105085192566978384, 1091832295692527962, 1091853073419787578, 1091925624694691711, 1091945544272382985, 1091972168650631089, 1091978786462302657, 1091993608342228092, 1092000803198863475, 1092021434462754749, 1092043940253574173, 1105124566022035675, 1105195007323830500, 1105201027328574575, 1105544393883648175, 1105776358579333281, 1105791276366011491, 1105820483315796411, 1106372780749038706, 1106624459909502112, 1092509799943587135, 1092547803565688426, 1092658234267184172, 1092664285774415791, 1092682293894965596, 1107086280163676570, 1107231528641386167, 1107275392430723514, 1107280535547505853, 1107286736536637404, 1108133075629673557, 1108548321056922157, 1092702137734182454, 1092729321259391212, 1092733253781988437, 1092778780950393148, 1092880874916680177, 1093212887437793843, 1093224215606353381, 1093239052112004053, 1093422629862677911, 1108587820686909130, 1108616579498418188, 1108664430193852629, 1109205470075258289, 1109405967906317608, 1109514300332624150, 1109521954576816643, 1110000899448086373, 1110264814855184789, 1110690216493741810, 1093463119660474677, 1093463538992840326, 1093994938541897735, 1094089827087763695, 1094095547452893361, 1094106221667200271, 1094108530533726106, 1110966470674419245, 1110992115486680037, 1111010461070353705, 1111367325292621741, 1111439862693385443, 1111486617919194397, 1111563715437318016, 1112112464917101688, 1112123570488922115, 1112416440387395678, 1094110508637134278, 1094187742254829936, 1094696261496251616, 1094707463894949954, 1094911100730109729, 1095492629006120466, 1095680722928479303, 1095808676974831779, 1096117002195008599, 1096166548400120623, 1096168297033965180, 1096172552702413564, 1096180983776354550, 1096279582667713259, 1113815978631089485, 1114426819454237937, 1114535091822626762, 1114981641809039543, 1115021895577378834, 1115035206723392981, 1115076873477579483, 1115214562951108233, 1115378135073611348, 1115713514943806121, 1096395569424542855, 1096903200017888392, 1096910057225390433, 1096925077199733564, 1096992439399138752, 1097069327295116750, 1097070322057710481, 1097101618116919325, 1097609988938042064, 1097636493899491668, 1097656178690588757, 1115781357920927949, 1116623694346383044, 1116666283299821616, 1116738369193202892, 1116772638497633973, 1116830233655898426, 1117229059174641052, 1117236092577629000, 1097666930364272186, 1097750148636109507, 1097964086263143003, 1099049195797151793, 1099159335168687500, 1117361202033629637, 1117398303358327435, 1117425663959652197, 1117852176088159838, 1117896397624833781, 1117914630969006328, 1118095953169898309, 1099401012384269036, 1099431624635242774, 1099442257438563717, 1099631111022405097, 1099915090070777821, 1120810332795122013, 1120909540637163766, 1120956307852860996, 1121016657341795019, 1121079470733835694, 1121215824917542212, 1121558428544105826, 1121643638051193011, 1118629787407576324, 1118662108306640591, 1118682585655198143, 1118843758834034668, 1118857346632374823, 1119032112301503297, 1120304299036193519, 1132355087596960427, 1132425637187535747, 1132504502389202001, 1121789246542597328, 1122281634469034594, 1122364198522681494, 1122392840695035584, 1122399049185051845, 1123165228728047206, 1123730901907290930, 1123905994004758727, 1124085508951300082, 1124378020875145813, 1124397389912228599, 1132512729864313080, 1132535354027633596, 1132635860708830787, 1133055684949236137, 1133109670888736134, 1133161855343308845, 1133207254571805076, 1133217599609383527, 1133236941948318647, 1124485842929689569, 1124492622177133269, 1124495438924945988, 1125146165144986559, 1125319041767567129, 1125325978723893106, 1125336328680804504, 1125343858782015811, 1125354079581425982, 1133240139943305054, 1133406627410715320, 1134492764338355995, 1134515034450761559, 1134532765975756746, 1134696171504382278, 1134740567393947669, 1134812688571147108, 1134845333276481551, 1134865077836165168, 1125361791086091128, 1125382434265334913, 1125867583408871542, 1125883628946002900, 1125960333512610747, 1125960395875380188, 1125994643901705614, 1126012670903406806, 1126024346850122681, 1126098331522144173, 1126268462637280116, 1126555288368710741, 1126684210735664943, 1134896847256575319, 1134920632145199812, 1135368415024631914, 1135396132337109601, 1135412179379964715, 1135442261452261940, 1135501787186532654, 1135538725764395689, 1135630967783011691, 1136110683489099774, 1136118482200963905, 1126705372749729269, 1126778646373414970, 1126870432101858161, 1127368078645893759, 1127673608505632385, 1127973028445723029, 1128028740660708829, 1128051148370461241, 1136179732695200867, 1136691724021653573, 1136786448085677953, 1136787447889389848, 1136845823569540725, 1136852730795878024, 1136858123606177859, 1136895557536726354, 1136914798512827639, 1136929591598530092, 1128054039761274911, 1128153872036940536, 1128174613484545936, 1128180673476262563, 1128184020949605416, 1128209450206518924, 1128228024760541758, 1128230340121806052, 1128233251453150564, 1128235554569507793, 1128237390188448911, 1128240619421385957, 1128244893720715302, 1128385786864587750, 1128659091413073167, 1137427488568986168, 1137502207415842337, 1137565016314048592, 1137703859333747796, 1137833297104074995, 1138164411197049674, 1138269954969870776, 1138299913700669740, 1138362021269310848, 1128841315755111584, 1128961993694770392, 1129058751953057388, 1129276668164500275, 1129489948474967452, 1129662021093935394, 1129771579783736590, 1130170853222304351, 1130303866671637604, 1130363836773968721, 1138419410649688342, 1138429185253970295, 1138486952683861857, 1138525185921733968, 1138556910296298680, 1139062396754014137, 1139078937028389479, 1139727893782652831, 1140394179864186877, 1140436897707819435, 1141268140363041274, 1130434089998644460, 1130514816412477011, 1130561602069153990, 1131014961242849367, 1131050574490973390, 1131105287780837590, 1131112817297579738, 1141307998735534798, 1141784279123343945, 1141832358859958290, 1141913626198357996, 1141987562640286537, 1142122389161898431, 1142443875412670775, 1142530791009097271, 1142686760003174720, 1131125337168160827, 1131172447334532308, 1131175921931285523, 1131576716639205009, 1131669161426705042, 1131678443792953843, 1131768209645972266, 1131815996341157518, 1142760937725856637, 1142766527139752356, 1142861459710800431, 1142868077398602328, 1142896149641648145, 1143197638152214647, 1143437846695991382, 1144158094207221453, 1144198234931817223, 1131822599409891683, 1131969623898996999, 1146235880517350529, 1146387402833588097, 1146408450146450116, 1146414394831022231, 1146481357864363038, 1146967219552598734, 1144215244576791512, 1144782101988804907, 1144821766157445572, 1144944626902829343, 1145375784676350252, 1145441366649062175, 1145614390928087638, 1146115656467471019, 1146215354065729928, 1147046732275847975, 1147052347625052850, 1147529050389901865, 1147553254762112913, 1147630734682341050, 1147843531660265854, 1148300338274024987, 1148300447080620308, 1148331364771766628, 1146223316781299250, 1146231339027145342, 1166598260626742238, 1166608471265372040, 1166615885224184483, 1166743089695273424, 1166758619393799107, 1167169374587736904, 1167176507878028232, 1167347270554946277, 1167352913652898752, 1148369625424641576, 1148630061800522800, 1149240637231609074, 1149778015887132245, 1149811395005690362, 1149962750368730287, 1167365697508427852, 1167378783944272913, 1167379780206795896, 1167830348239324058, 1167883576977704619, 1168098030634623672, 1168226326013178689, 1168244036505164592, 1168277371767686103, 1150710839576490327, 1150863537562721407, 1151356839669861774, 1151373789838556009, 1151597582267543200, 1152019846632831609, 1152077860797986222, 1152363448044071117, 1152793607176917881, 1168611778427108912, 1168636773387920498, 1168653956385179970, 1168661848204384440, 1168721636044581316, 1168723390906861902, 1168753062508853909, 1168753163797650032, 1168774751690466057, 1153612225066357985, 1154113653695836488, 1154146856988104285, 1154226600204779461, 1154324351843059921, 1154523746985283378, 1154841234616887068, 1154989947281270505, 1168881507668286002, 1168969358011979164, 1168972911901812737, 1169342306661893473, 1169425183385642388, 1169432943394301687, 1169581081056880046, 1170178722891857155, 1170250202751768604, 1170394717770733684, 1170825186334243827, 1170854399234085829, 1155006250823627046, 1155155606336876991, 1155632546590132870, 1155828232306536937, 1155960875968885439, 1156539906392343268, 1156587191291523398, 1156608619817385809, 1157194531288593044, 1157202043400531208, 1157209526428835716, 1170864864779567371, 1170871328389941136, 1171144939897438568, 1171452435097412592, 1171615281440122859, 1171625288070571247, 1171818431889131357, 1172209757040344505, 1172250914248007077, 1172278837172804924, 1157222969827643276, 1157728025713025545, 1157865095488718274, 1157913647727309940, 1157923074158634629, 1158457366718586664, 1158639976913028413, 1159164344326104166, 1159402917428425544, 1159424148238555260, 1172410194941860459, 1172461704358549821, 1172482562377889863, 1172495183595639895, 1172562059163674708, 1172566257473982085, 1172586815208204155, 1172596554904547411, 1172630064597888210, 1172828773227753595, 1172848388665327644, 1160640290754110803, 1160641054519460295, 1160822295644262337, 1161367709963860718, 1161386959894023798, 1161512391894833065, 1161716548646770346, 1162176810246806116, 1162208171453444369, 1162234984782680719, 1162246757248234708, 1172950516850350787, 1172994750516779289, 1172996178721180315, 1173131287518642027, 1173291146798962773, 1173354396828920979, 1173684335686694156, 1173684881354469863, 1173704255859512740, 1173714667633262554, 1162258022825202943, 1163205960954070502, 1163328331154844841, 1163533301836000065, 1163549899953888023, 1163567258235456449, 1163634272584094607, 1163661743530123646, 1163757644194471672, 1163800464559750042, 1175326687873276423, 1175364113013922394, 1175446147312298106, 1175491190445251667, 1175845318430675889, 1176079142703942345, 1176219710317570914, 1176243703534151706, 1176247751236763451, 1176611240176030068, 1176856213237397157, 1164197375186998267, 1164352900011086287, 1164578808118630157, 1165181172249985164, 1165273971019095954, 1165745536366686389, 1165748246198485341, 1165992241857914292, 1177294408721270246, 1177336194970006586, 1177339439234671586, 1177344072822365867, 1177395821061073327, 1177441849917613272, 1177510105263894249, 1177598774116080060, 1177635190903847766, 1166458327265737677, 1166477941706592934, 1166532968596783793, 1166591109358510031, 1195464447227903520, 1195560781054422021, 1195638612846655797, 1177654312235539596, 1177746757598157977, 1178049798694290654, 1178281870441546816, 1178348172274801971, 1178349577327642567, 1178755319313962804, 1178903958492597016, 1179002113512404159, 1196099164195351579, 1196237946435085474, 1196245638974188844, 1196319576516186855, 1179384168912145713, 1179467932459355009, 1179575868350681906, 1179656320099238235, 1179699464135584563, 1179720635442247495, 1179741567478389538, 1179747391201190820, 1179781849979373519, 1196329224776577871, 1196330829101232232, 1196337996527992425, 1196339318229686799, 1196340495902963126, 1196341983099680525, 1196348711198583934, 1180333019198536294, 1180396755381678193, 1180469211285731721, 1180914062976244553, 1180936517203305433, 1181054118838351205, 1181337689859769761, 1181348934636153161, 1181703819290668716, 1196350313367083714, 1196351376287157815, 1196352608766558171, 1196904657021586587, 1196954607597269349, 1196973694969902978, 1197110953279908046, 1197149434393621614, 1181751405185138587, 1181759814482747145, 1181762279711828254, 1181764618430959046, 1182399275679927331, 1182403395263989574, 1182598907422561328, 1183060360419152748, 1183137739271394771, 1183146326111268842, 1183257430647298167, 1183966530045302500, 1197579341757133988, 1197636161043741489, 1197825523940817298, 1198287306785345437, 1198430886558462837, 1198969001121959588, 1199130295421766898, 1199140059480344304, 1199212473051065459, 1200107229715429338, 1184026459257008703, 1184226057349901133, 1185239943664526250, 1185445861536095295, 1186144856813572111, 1186214634405179511, 1186724119795683801, 1186734218543608740, 1186854254515013859, 1186871376064972508, 1200496394729326468, 1200698556088566225, 1200840828324073036, 1201149021909417785, 1202272924762434038, 1202315857404113736, 1202669556715736015, 1202681302212481745, 1202775904346455729, 1202836942320413501, 1186923363290269938, 1186987367950913816, 1187074441604795501, 1187402454345151700, 1187443052823275512, 1187612417234936864, 1188193356749216397, 1188584934136387294, 1189091917558426698, 1189209222632682160, 1189837933325037926, 1202904431750519087, 1203082640315563102, 1203346609016334017, 1203349935492590819, 1203385114990860702, 1203385314187409577, 1203385650245229293, 1203612185366829934, 1203618602252003745, 1203638046145499425, 1203662558236163427, 1203671947084990603, 1189894175330842045, 1190460535341484773, 1190623661096576471, 1190675367521625163, 1191233133021824214, 1191292311758257965, 1191299676971606175, 1191399713058612161, 1191403492627432250, 1203684625533115288, 1203690261440734403, 1203693763649670830, 1203712199081075080, 1204077025466634598, 1204159891731303920, 1204240005221117556, 1204249760760152858, 1204368004985570774, 1204447007358485499, 1204894317379142355, 1204896907316844047, 1204927107282715076, 1205468699799158498, 1205872472925935166, 1191405718417118299, 1191473595075755377, 1191902737401465546, 1192036933105008789, 1192039872163570601, 1192060107472842224, 1192277257966085973, 1192512449678618621, 1193346302951360022, 1193382591664929080, 1205898816502170393, 1205923832719813513, 1206244044887820165, 1206345065940132295, 1206463042107175924, 1206522581049562811, 1206616775288991546, 1206990237100471298, 1207248751738611278, 1207358848156498275, 1193576729234847910, 1194018327831285928, 1194034007644461284, 1194079538606409784, 1194109219449780906, 1194157404073670419, 1194158623942315263, 1194186795912413497, 1194227160838199564, 1207581483275385888, 1207778331350685695, 1208597122271910526, 1208633098257961487, 1208684674375002355, 1208725575290781199, 1209138608237195335, 1194312928732826777, 1194360786055939394, 1194671182522298232, 1194915976300080064, 1210889248576632028, 1211318388554541948, 1211503086389182487, 1211515539719764431, 1211647294048663611, 1212761906795264538, 1209140488011093971, 1209297243001089216, 1209299001308439431, 1209438882312960574, 1209874699977588647, 1210256658863991727, 1210873438523703982, 1214416551049031581, 1212780916076781549, 1212781555982689758, 1212781884533321784, 1212782068576970207, 1212943120234058184, 1212988103906410818, 1213234294073638196, 1213243182026184481, 1213548089439692480, 1213555041953804935, 1214417246752180222, 1214446163446153916, 1214514573884191311, 1216368830809196854, 1216455084709790087, 1216491606863222286, 1216494385295586089, 1216537201081599327, 1216598666012363719, 1213574472344788118, 1213580457344910152, 1213586071617167364, 1213606968631764906, 1213632882871411694, 1213639680732181236, 1213655633563009039, 1216808125673007370, 1217352037151780534, 1217472734879709251, 1217902305323239181, 1213658173458138099, 1213662665244308114, 1213666216089343244, 1213674748361187637, 1213679220907106048, 1213691038110575414, 1217920697687130827, 1217929100913118190, 1217938125458878631, 1217965703167491815, 1217969057016379785, 1217981445000394516, 1217982988443106277, 1217985139192087743, 1217988478801006672, 1217990528142251530, 1213693918799839673, 1213694786665724950, 1213697809972145745, 1213704931354206968, 1213707334292383436, 1213712031210443184, 1218079663774059719, 1218079778129695471, 1218079903762568747, 1218111376246870538, 1218566372081626911, 1218613352746500522, 1218950194066386089, 1219586036682934891, 1220236420808301151, 1220845510783223547, 1220898313472090238, 1213712676017081329, 1213716534527197298, 1213716639667952863, 1213723980280216204, 1213729356114668184, 1213730038323198605, 1220955208041043848, 1221529967983376053, 1221682323509508932, 1221731178597045771, 1221772306542938783, 1221783913320561293, 1213730867939190078, 1213733750017199928, 1213738751468115105, 1213739574437306964, 1213744771621043599, 1213746143567038388, 1213747605099777736, 1221786960522269595, 1221791124409185312, 1221795341894990534, 1222326463184615240, 1222454061626610038, 1222934689831314279, 1222990569683405794, 1213751423793332550, 1213757106837127557, 1213905856071128936, 1214217696261683456, 1214221332670891594, 1214230358545293319, 1214237945802917706, 1223632234027887776, 1223667650427122081, 1223730488913094870, 1223755878475043521, 1223805162188634512, 1226565187491241376, 1226575951591317605, 1214243394119288950, 1214244729805613867, 1214247863493026146, 1214248351510736814, 1214249073112365144, 1214251533700841852, 1214252499099018239, 1226598388742218759, 1226920371682349466, 1227323538090252056, 1227347038479708753, 1227366399659654882, 1227376421498125786, 1227408357486805763, 1214260523928198696, 1214261239564904667, 1214263113262612628, 1214263471305392573, 1214264997569967659, 1214270245884102184, 1214271517869393124, 1227433928422166966, 1227455323269537330, 1227466915192889802, 1227481122620404416, 1227484706988585342, 1227661042218866126, 1228101848627677563, 1228215951586678828, 1228228803849019765, 1228302326512216579, 1228829712773836232, 1228830228487454213, 1214272768605618869, 1214280385125813252, 1214284088460280677, 1214285476308155561, 1214292649631410069, 1214292959635864362, 1214299259692063203, 1228852523058937284, 1228865074470505136, 1228896343269920075, 1228931183480447079, 1228980511115423271, 1229496563583052992, 1214302952759765808, 1214303752543447732, 1214303985329697703, 1214304489082211394, 1214311700552691830, 1214318290974086672, 1229548080757562963, 1229750437914117773, 1229792540579665182, 1230238392441324801, 1214319696734728383, 1214320768004897030, 1214329065720191687, 1214332975518776876, 1214333432446051501, 1214335327103461521, 1214390805493124682, 1230311393400889279, 1231657321858852570, 1231657527696515473, 1231705377342566863, 1231854773417586490, 1257155614111241212, 1214394724492677057, 1214395174257861512, 1214395567435226907, 1214407671406182460, 1214407895900581185, 1214408000128237176, 1231867779577726835, 1231957401047903224, 1257175039122926775, 1257361676754757199, 1257380118466200288, 1257382379096569869, 1257931094690462511, 1258109724729295809, 1258494104272382995, 1258506299749502699, 1258607292694005717, 1259170001967660702, 1259224077617780583, 1232521529396138540, 1232674352095743305, 1233042106340861086, 1233120891732354082, 1233127515652365234, 1233134587223020205, 1233175269619211513, 1233279848996305265, 1233301339952806429, 1233468483343255934, 1259392220091411155, 1260598674331608934, 1260757512101389196, 1261080426952221841, 1233988933769630192, 1233995670486746142, 1234037846504823452, 1234173393022273608, 1234605489892365178, 1234741811181873825, 1235487639570720937, 1235587365471646886, 1236157349756437074, 1236244429796957182, 1261421684986126909, 1261673999298971267, 1261718315461631752, 1262258790992685156, 1262369374479364929, 1262403212365000927, 1262484070097878024, 1262787630979448673, 1262842735459612075, 1262932635774970315, 1263752810248699399, 1264290532326488659, 1236286937269267430, 1236305819243648388, 1236308834830067086, 1236765439430871433, 1236870076179595575, 1236875180425924953, 1236996554115021572, 1237443157689096307, 1237483328485882381, 1237616852495526769, 1237621692804609310, 1237675775781560982, 1264410961280387403, 1264683017888321172, 1264947265705367166, 1264978326687375990, 1264978346120047412, 1265701962680660966, 1265713813279650067, 1265856345348954945, 1265882383762684609, 1266477269462573632, 1266525130937539715, 1237685862842036245, 1237695729900365725, 1237702795600914486, 1237708481772340314, 1237758784945891465, 1238877147619351971, 1238892421058809836, 1239108602127896668, 1239637851821631367, 1239782859853277675, 1240686572776194318, 1241993728395988534, 1266593751112680720, 1267187032932697305, 1267206288298462609, 1267344104805288539, 1267440297496080610, 1267856449843592794, 1267863853974828921, 1267912358660233723, 1268035283137815749, 1242528494463824221, 1242571860995742026, 1243170796218874665, 1243264183793133512, 1243364844305576333, 1243385637529899948, 1244091142998620608, 1244317297172390794, 1244636746677987067, 1268043070059797886, 1268671630900869265, 1268842115808501232, 1269365159333474366, 1270204947703808205, 1270830891938250653, 1271523875129170373, 1271720744152892783, 1272351539118913544, 1244708534903748569, 1245415208528617193, 1245424407973210514, 1245549360202547947, 1246840598248097088, 1246899383997535346, 1246947079926557761, 1247013264722070801, 1247130394594605799, 1247218798872059886, 1272371416464486670, 1272995698978399175, 1273034369814996072, 1273791688272805308, 1273846946767749668, 1273884094349697937, 1273915376791991136, 1274296134887203795, 1274431659655277392, 1247563026749995832, 1247643070180030843, 1247767247013023645, 1249110481871270428, 1249126569454833315, 1249126923987565481, 1250803515111666828, 1250866959009586912, 1274547764604623716, 1274547906423999959, 1274548019858045776, 1274559703614536490, 1274611907631383770, 1274613688162700215, 1274772038331619806, 1275341370879423180, 1275356316855058273, 1275505998334073577, 1275904232747210514, 1275996830548257064, 1251087164893336128, 1251278845381517419, 1252045407186534259, 1252172708477749675, 1252691630467656627, 1252706809156234642, 1253028370046862941, 1253378766872058786, 1253447719812431481, 1253560186404175207, 1276244251868772948, 1277636988557184485, 1277731534181126280, 1278105607991370377, 1278229944072349459, 1278364866907053971, 1253733176449330034, 1254158024541668916, 1254380729355801245, 1255609637259430098, 1255797807566238474, 1256308621632912145, 1256540622125406409, 1256566065060272684, 1279705569984950325, 1278395181263112829, 1279211672454165119, 1279463731852675674, 1279558795865919959, 1279561976514657940, 1279607849322776151, 1279622572559088418, 1299980490514542531, 1299981592718913476, 1279841508408571445, 1279846460432275443, 1279853545939296566, 1280022748715624318, 1280366483795881661, 1280414729500201371, 1280453963427112295, 1280462337882268589, 1280578877323887420, 1281741221260572620, 1281872336471406164, 1282128793970050088, 1300057016747534203, 1300097955909523031, 1300192232171096375, 1300780009764347071, 1301461045613952909, 1301482640515514012, 1301483600436958239, 1301680481923156555, 1301945954691358962, 1301991803651928230, 1302768431885805573, 1302819947557473340, 1302830304481173252, 1282605042203340372, 1282667476598690441, 1283382175639426189, 1283481045269095552, 1283955325793432464, 1284025206447637451, 1284028137199662761, 1284030675495117292, 1284538550321022592, 1284565992298040675, 1284811362016973772, 1303358406812164384, 1303392578818384151, 1303535450225069353, 1303629338318042448, 1303684848557611690, 1303697778284649701, 1304234487941650297, 1304281027100383633, 1304303738234747433, 1304367309459648642, 1285315337747020211, 1285512258034966352, 1287014378125230463, 1287078040786858269, 1287519959500879451, 1287595773378505914, 1287642033924279877, 1287644585826592943, 1287699666565443162, 1287748269942318281, 1288262491325021961, 1304841587626378632, 1305089992774614391, 1305794432068587489, 1305815691733520799, 1306376515094914292, 1306419134406424306, 1306440814385183490, 1306481534643361380, 1307036180687751203, 1307294989545668848, 1307815069679797488, 1307831240591494833, 1288364271305215259, 1289075787499379023, 1289214257663825244, 1289824728471262528, 1290324869707896179, 1290517061183383389, 1290563214435577069, 1291251710503494047, 1291259652707784365, 1291269475978158159, 1307833513289228085, 1307916686534686272, 1308624982526462277, 1308709273160635616, 1309257512878376838, 1309947502387743827, 1310770797235274454, 1311448602032314650, 1291282523485547227, 1291289799583179150, 1291298472864133619, 1291370353213523358, 1292064096778906463, 1292101441632901278, 1292146705161109184, 1292658022484131506, 1293484096047151924, 1293893214249848369, 1312123815064741366, 1312134383997417255, 1312198150197329270, 1312264987913123006, 1312900433102820040, 1312904549405686861, 1313003671121552359, 1293953797944112510, 1294019865449183848, 1294022767661265187, 1294276786465921429, 1294412324082815549, 1294732956980910802, 1294796121136489775, 1294859458229074166, 1295008614057577760, 1295386676069135177, 1295454675021443672, 1313101447993556449, 1313107320635037652, 1313113067129078372, 1313201565481033729, 1313596943187042083, 1313810948144644531, 1314288376198959952, 1314325297932615007, 1314326268241180587, 1295481757304038690, 1295517957839778358, 1295606706140798565, 1295633813431927936, 1295634091992433793, 1295634110145331318, 1295853066036349279, 1296381475049534016, 1296390135615705479, 1296846633181172315, 1314344165399511002, 1314351269020365215, 1314359117073988907, 1314364005004963547, 1314490303546258762, 1315181828655043954, 1315204142966127203, 1315227104122384263, 1315327981665565213, 1315738290123518468, 1315761013614017712, 1296971850219891553, 1297148939963358992, 1297506389120781008, 1297653047024275377, 1297668926728482984, 1297756486619049622, 1297785524499187085, 1297876542259759498, 1298563984146933671, 1299093032917401688, 1315787509884320238, 1315977648386627900, 1316043519430196099, 1316062065781883893, 1316533145424796463, 1316562687034928385, 1299219448222323136, 1299229618052667749, 1299308926006095862, 1299359966952396218, 1299849539939060028, 1299963381573911983, 1321009958845385576, 1321025213984912316, 1321098805848375002, 1321621082823620273, 1322337217462946252, 1316644160079858254, 1316647119689115416, 1316694999196868743, 1316801858205906771, 1316880410136989665, 1322509130335522001, 1322899892124484055, 1323082902703648038, 1323103342484247859, 1323108152903122644, 1323230692970733332, 1323781225773771898, 1324452788295869104, 1324522499010558557, 1324802418603204885, 1325320780552131972, 1325340442278987634, 1325477339360487826, 1317890805478642202, 1318017515746415143, 1318191311807248040, 1318268701859570262, 1318576470347265316, 1318692457368220905, 1318784089576003032, 1318852840564995081, 1320993793701045085, 1338618915226192231, 1338936212041546937, 1338989456383343007, 1339126927028092247, 1325628211350616571, 1325973690960837961, 1326270504065555888, 1326643520933055178, 1326724096440188804, 1326761324718557097, 1326820758829097941, 1327536547362538127, 1327610103574765126, 1327658068719655989, 1328093504710846983, 1339129256232812275, 1339141688186992945, 1339149536889460738, 1339159423443968097, 1339171854603571289, 1339304831506083989, 1339631518962430094, 1340138537200486643, 1340401748933997465, 1340440393292487822, 1340450441110378619, 1328205032556559595, 1328240484692200913, 1328772308418377392, 1328779125603693887, 1328806380414897867, 1328820237228268049, 1328876945971540024, 1328890775044042999, 1328973686477394217, 1329048135628604219, 1329604016223707830, 1340459214498877705, 1340636411007510030, 1341071844149525963, 1341106961457316020, 1341108200015362423, 1341129506581107523, 1341894915182929412, 1329765995507211023, 1330358189512747073, 1330385267148754308, 1330425678268128084, 1330430248602275411, 1330492198104237106, 1330561066615318397, 1330884618680364469, 1330921057460362098, 1342038905540655364, 1342572261839752983, 1342574699614106972, 1342637954879367708, 1342688066282508702, 1342714493458933686, 1342753998603627779, 1342773596490732195, 1342776902401421742, 1342781485266097769, 1342789540408564951, 1343346821815050219, 1343413014556904820, 1330996532745012421, 1331218121958728326, 1331477430624757427, 1331919567944471532, 1332552396079150793, 1332634200987137979, 1332702592077991900, 1333282711751266436, 1333357734817681182, 1333908714852660842, 1334032853580529300, 1343511677747927314, 1343559602352152866, 1343686121121971588, 1344190373041294623, 1344196928646775731, 1344706414158557191, 1344740407935397888, 1344786878019640708, 1344816873774495533, 1344821144492050015, 1344823193736806609, 1344844977329208667, 1344906319015942126, 1345111860784844135, 1334090265368720210, 1334102352606935100, 1334240677227244317, 1334272020575508905, 1334543366579807313, 1334636503232011923, 1334646270746352378, 1334668605695304642, 1334674042387588224, 1334721478605903218, 1334866944797006298, 1335316581134350683, 1345349949337738366, 1345472608739903169, 1345498154358130374, 1345526172416472778, 1345556924875689103, 1345593425317124542, 1335329699294430720, 1335385969479887271, 1335396269144009761, 1335570188619059817, 1336041214498149874, 1336212495254166382, 1336220332692733321, 1336270932708699266, 1336462816126288377, 1336854663663745192, 1336862000696501509, 1336871322624747952, 1345768158630817040, 1346171391009517073, 1346198446187765553, 1346254428930169265, 1346356948909540365, 1346370365532280550, 1346400262963995417, 1346528170418792710, 1346594048941288471, 1347181098602361395, 1336934547547064533, 1336943390444240272, 1337569326480228729, 1338135301389840576, 1338255739727829912, 1338260248024769690, 1338321200112593310, 1338448551987283771, 1338611794887931220, 1350857440804188101, 1347811123954275649, 1347881259077484850, 1350863100933039235, 1351262123586304425, 1351272053360808430, 1351284820519349761, 1351290301886448824, 1351294011082384050, 1351301164939770232, 1351301409211305933, 1351302633364076690, 1351455655877211913, 1351493666057934078, 1351496852205078127, 1348417490177315749, 1348437505366791867, 1348687331665302253, 1349059986101840643, 1349145251486903063, 1349178912677950352, 1349209672171947022, 1351539375602298097, 1351645154243155978, 1351659072335033319, 1351997347881613135, 1352075152888015073, 1352092070787155488, 1352098727457410161, 1352177156380825043, 1352223747164241456, 1352319160192098450, 1352945524957502121, 1349233131509506893, 1349238669235464370, 1349261955129573000, 1349280133699515789, 1349289866533676679, 1349292485816234625, 1349336283390581473, 1349360056557167811, 1353433749970411906, 1353440941871227136, 1353495008046007005, 1353511828025442645, 1353511913213150385, 1353512233909969538, 1353515291513226895, 1353517056640339487, 1353517672300455253, 1353580369173035247, 1349404120470429129, 1349501052462712380, 1349894508085634529, 1349906548984578933, 1350038429350996125, 1350050965803362516, 1350683150309338060, 1350694901269365355, 1350704694775497715, 1350721788418948243, 1353610011267605574, 1353616078765017075, 1353680577398709228, 1353831020797026747, 1354139981539751020, 1354157211661476271, 1354182115083490535, 1354198254370535190, 1354271961871021242, 1354280243385051934, 1354287187257041842, 1350809073039465540, 1359972998250970942, 1359978882029822062, 1359980931485345735, 1360316936829834236, 1360322103669864742, 1360323992175947701, 1360328126102625309, 1360670388197753434, 1360810799584509413, 1354299077415816489, 1354865104113402695, 1354881897080812786, 1355075446906385054, 1355251811900902130, 1355317716135295082, 1355539412021977467, 1355563006006157558, 1360912767206541429, 1360964459477275660, 1360971349938711335, 1360979783954151484, 1361399051122525278, 1361542345237595010, 1361599240863979345, 1361611678638605813, 1362069284714243006, 1355627617878943355, 1355647098195515119, 1355653035925744587, 1355742172750173409, 1355757424635942324, 1355767346943830614, 1355813162837081504, 1356269141510923430, 1356287891272895542, 1362069310055124724, 1362098243021589875, 1362102017993442586, 1362112197604955543, 1362114818930196721, 1362117550692648947, 1362124197740552890, 1362126368689490123, 1362200893158496271, 1362509169619993826, 1356290905536243971, 1356454335264497980, 1356511895797928756, 1356526723381143238, 1356613157247819459, 1356784526184832339, 1356953228646976614, 1357219046572868664, 1357250408931057862, 1362518031001897841, 1362894404770995768, 1363032277989558235, 1363056913187975043, 1363063118684312899, 1363069078465789326, 1363645110678408300, 1363719144045591776, 1357389604278680597, 1357872907363701635, 1358101732673694705, 1358122865707419750, 1358133145122222306, 1358151502631976046, 1358594251693214475, 1358594266933983870, 1358594284191089936, 1358598034623635013, 1363771633511251110, 1363795213337978305, 1363873562452756929, 1363939681345638896, 1364163399760087653, 1364176866870145727, 1364186396690828405, 1358624782819857102, 1358624799684066640, 1358882349176180617, 1358916128017498979, 1359223003605730811, 1359254542892272496, 1359255239937477474, 1359278347560333727, 1359382050963265181, 1364192188138760641, 1364291651658722459, 1364384423426928523, 1364406083987810151, 1364480825953775275, 1364488503783488263, 1364515630628172433, 1364635286640479993, 1364642608307474895, 1365893928883912698, 1366033048567818030, 1359647331896803736, 1359677892480080968, 1359916708058728026, 1359953511198182591, 1366576092896770388, 1366912719590250705]"
        ],
        [
         "1",
         "host_neighbourhood",
         "object",
         "4121",
         "52.03",
         "[72740, 72821, 531863, 145631, 634018, 634685, 170523, 655245, 218393, 703732, 238362, 238374, 238380, 238383, 798826, 798846, 798869, 804777, 807633, 819328, 272585, 284305, 846521, 888033, 289477, 298479, 315636, 315637, 1011701, 1034213, 1034640, 1043678, 1100254, 1119040, 1142769, 1152739, 1181536, 1823944, 1832112, 1257881, 1269492, 1275433, 1900562, 1900791, 1911652, 1916543, 1300085, 1316277, 1344540, 1422473, 1974456, 1999538, 1435089, 1464535, 1475848, 1478778, 2012828, 1495535, 1512806, 2014854, 2035719, 2050246, 2065930, 1513368, 1526920, 1533624, 1539837, 1581387, 2103960, 2123898, 2147263, 1583452, 1594595, 1615895, 1630395, 1683211, 1709013, 1716615, 1723179, 1755514, 2162157, 2162550, 2177166, 2202020, 1791811, 1800481, 1807274, 2778812, 2207546, 2212002, 2800419, 2807505, 2829491, 2245915, 2252350, 2266770, 2884914, 2911044, 2323678, 2345537, 2346139, 2346194, 2363690, 3020830, 2366302, 2371050, 2377640, 3082139, 3118010, 3145276, 2402601, 2414485, 2458244, 2458625, 3203677, 3284563, 2551555, 3309714, 2624054, 2632418, 3336816, 3356877, 3356926, 3357380, 3358802, 2635900, 2711607, 3381913, 3382196, 3382998, 3383300, 3447247, 2737073, 2745945, 2753359, 3709382, 3509956, 3524290, 3543396, 3552694, 3559131, 3568348, 3641725, 3743534, 3743704, 3649205, 3656555, 3664940, 3680697, 3682671, 4691319, 3803768, 3814415, 3837352, 4732313, 3838589, 3901271, 3904432, 4012810, 4826958, 4871612, 4883419, 4923166, 4938580, 4945485, 4982513, 5025859, 5033959, 5065507, 5079256, 5109256, 5188340, 5257636, 4046874, 4054500, 5317049, 5349074, 4096461, 4118179, 4141116, 5365664, 5393506, 4144479, 4148935, 4169522, 4181213, 4188698, 4200733, 5473403, 5513695, 4246816, 4256418, 4272967, 5515449, 5568794, 4302018, 4332045, 5585075, 5648121, 4438854, 4439252, 4475421, 4505994, 4506282, 5657345, 5724915, 5734857, 4507102, 4529183, 4579263, 4580368, 5734956, 5776201, 5782605, 4634873, 6663734, 6669269, 6670708, 5961908, 6679947, 6682798, 6736777, 6763463, 6030789, 6807287, 6828778, 6840377, 6863620, 6867498, 6096530, 6099635, 6110307, 6122375, 6868017, 6893811, 6908509, 6188859, 7018697, 6255389, 6312346, 7078293, 7212771, 7223658, 6333933, 6341592, 6343561, 6385898, 7238292, 7239705, 7268407, 7282315, 7312362, 6473576, 6484622, 6488939, 6514655, 7318177, 6571420, 6599930, 6600504, 6611410, 6630468, 7573969, 6650271, 8234330, 7682178, 7687572, 7779482, 7782114, 8397634, 8415086, 8423436, 8442335, 7857693, 7880190, 8527728, 8539553, 7912117, 7917724, 8110137, 8561397, 8585743, 8645053, 8678116, 8706007, 8168561, 8196684, 8736169, 8748454, 8861830, 8864203, 9763587, 8997441, 9044935, 9053589, 9124905, 9826370, 9878674, 9166645, 9196021, 9211208, 9233701, 9892432, 9266518, 9304289, 10009859, 10027171, 10027261, 10027597, 9570457, 9611106, 9657046, 10117414, 9676027, 9706549, 10162020, 10169358, 10918389, 10953865, 11000438, 11013793, 11037556, 11092920, 10269202, 11112146, 11115591, 11193552, 11216430, 11232084, 10354583, 10361196, 10406382, 10406840, 11267714, 11291528, 11299645, 11314292, 11352211, 10600735, 10610104, 10639339, 11376168, 11386399, 10724090, 10749341, 11496924, 11509732, 10800584, 10803528, 11560478, 11634229, 11650027, 10861511, 11650325, 11650626, 11696419, 12178455, 11805235, 11834048, 11863320, 11934208, 11937740, 11938882, 11943839, 11954120, 11982931, 12323924, 12356453, 12010849, 12452977, 13205131, 12525887, 12527360, 12548963, 13288744, 13320881, 13339026, 12550570, 12601531, 13402104, 12750702, 13421119, 13426020, 13431111, 12778768, 12860900, 13515701, 12864747, 12878255, 13522829, 13598967, 12987934, 13669027, 13729998, 13743690, 13744705, 13008523, 13081527, 13746483, 13790079, 13102375, 13113908, 13122321, 13138290, 13812868, 13824694, 13854803, 13897359, 13940818, 13949126, 13189348, 14160502, 14168727, 13995230, 14174162, 14174314, 14181850, 14215939, 14216510, 14002063, 14245091, 14245727, 14272408, 14285734, 14311773, 14335800, 14350809, 14375002, 15234060, 15251866, 14385762, 14401813, 14402172, 14446733, 15270872, 14487670, 14521296, 14539272, 14617664, 15377102, 15402674, 15432544, 15445766, 15467531, 14678329, 14723841, 14734523, 14772096, 14813824, 15607868, 14868532, 14880878, 15748398, 15824630, 15848199, 15863506, 15893253, 15003983, 15012846, 15020296, 15993926, 16142745, 16185520, 16280920, 16511845, 16545093, 16545161, 16316697, 16340500, 16643468, 16670834, 16696794, 17380904, 17381345, 17415380, 17415708, 17417725, 16720845, 16759346, 17451743, 17454741, 17528865, 17529062, 16774862, 16776085, 16789967, 16790025, 17564312, 17566689, 16853599, 17801722, 16904707, 17836336, 17846101, 17870233, 17885954, 17888379, 17902506, 16925173, 16937323, 17935202, 17935819, 17942887, 16969709, 16984763, 16985478, 17003338, 17003506, 17005663, 17018367, 17049214, 17074337, 17083555, 18207432, 18252454, 17144987, 17150866, 17182284, 18252889, 18283239, 18285268, 17183316, 18385508, 18454685, 17272157, 19582407, 18456546, 18512662, 18541526, 19719351, 19727876, 18562910, 18562911, 18592543, 19735050, 19772259, 19774048, 18599125, 18619715, 18628831, 18643951, 19838910, 19867565, 19872185, 18713175, 18730326, 18781224, 19897801, 19910159, 19963722, 20033951, 20062559, 18973688, 20153377, 20180833, 19017043, 19048374, 19138743, 19147231, 19151766, 20192541, 20204523, 19170663, 20409637, 20421424, 19345685, 20422641, 20520033, 19453484, 20594841, 20614541, 20811092, 20839688, 20879280, 20737925, 20908714, 20964422, 21101169, 21991820, 22022023, 21210982, 21248994, 21249126, 21250434, 21250871, 21354855, 21367723, 21398321, 22141350, 22141355, 22141357, 22156700, 21398324, 21398325, 21419792, 21430735, 22246395, 22323438, 21480719, 21508734, 22341567, 22394279, 21594257, 22429748, 22446362, 22448750, 22461164, 22478173, 21746738, 22479209, 22542097, 21807580, 21807582, 21845184, 22549377, 22569393, 21905822, 21921795, 21939841, 22598809, 22607982, 22628051, 22646585, 22695387, 22913874, 22932425, 22721491, 22722614, 22724998, 22999753, 22726630, 22739797, 22769652, 22779581, 23020995, 23043938, 23051044, 23051339, 22787838, 22811208, 22811791, 22844075, 23835548, 23853932, 23875252, 23319025, 23349548, 23408595, 23444096, 23477048, 23978633, 23996460, 23514893, 23551298, 24071504, 23715688, 23716161, 23716247, 23757215, 23806424, 23807972, 24171658, 24182064, 24638284, 24650354, 24192720, 24713039, 24728892, 24747383, 24276039, 24329769, 24844059, 24844514, 24350491, 24363682, 24844608, 24844704, 24844838, 24880285, 24885311, 24369371, 24903402, 24905382, 24907795, 24493720, 24529736, 25000306, 25013963, 24535503, 24537467, 24563383, 25080491, 25095242, 25120648, 25122399, 25538752, 25657214, 25674378, 25220103, 25228571, 25250080, 25251874, 25255457, 25259441, 25367088, 25820788, 25374585, 25390855, 25402893, 25443000, 25910699, 25913150, 25934830, 25988358, 26002249, 25510599, 25513602, 27181823, 27197120, 26115813, 26130991, 26162087, 27207576, 27302438, 27336937, 26272876, 26344782, 26385150, 27539099, 27547969, 26387274, 26418427, 26438279, 26552709, 26563089, 26619811, 27712250, 27715289, 26706440, 27873617, 27876076, 27893990, 27981504, 26794701, 26797487, 26803416, 28000910, 28025140, 28071011, 28072982, 26803904, 26884566, 26921746, 28073916, 28074333, 28074339, 28075548, 28093451, 28117126, 27046457, 27070576, 27096535, 28144974, 28223310, 28256258, 28438681, 28300442, 28374955, 28379918, 28560731, 28609579, 28404284, 30231817, 30241205, 28678045, 28706771, 28757696, 28850146, 30282685, 28857743, 28876975, 28884005, 28928213, 30437231, 30456635, 30458319, 30466981, 29066989, 29114942, 30467176, 30581116, 30698825, 30753359, 29202871, 29255439, 29273437, 29334993, 30852114, 30945343, 29352576, 29376835, 29452600, 29481316, 29504520, 31084125, 31143614, 31186705, 31201144, 31203307, 31217265, 31256519, 31303354, 31366730, 29602248, 29603997, 29640692, 31394802, 29648829, 29648972, 29691114, 29740041, 29773829, 31432552, 31452810, 29774699, 29868433, 31524157, 31525294, 29952324, 29979020, 31549039, 31579988, 31583604, 30044194, 31606029, 31615335, 31635445, 30115794, 30116842, 31663433, 31669467, 31682899, 31687942, 31777107, 32516665, 32569150, 32569346, 31819543, 31820320, 31846624, 32583761, 32591268, 31915793, 31950805, 31972519, 32658125, 32827605, 32857874, 32859220, 32004094, 32006644, 32015610, 32888916, 32931830, 32096274, 32096515, 32118463, 32135840, 32204052, 32947081, 33010115, 32230278, 32232290, 33033826, 32301165, 32323113, 33040498, 33090920, 32374623, 32398905, 33153194, 33158540, 33160172, 33186011, 33187023, 33188751, 32432570, 32455684, 32463558, 33193032, 33581712, 33582466, 33280169, 33286472, 33354782, 33604898, 33630245, 33444388, 33464731, 33467054, 33467763, 33684857, 33707686, 33729264, 33741695, 33741704, 33469696, 33517316, 33526005, 33544514, 33741738, 33741760, 33741782, 33759620, 33776736, 33851957, 34493941, 34500284, 33869461, 33878014, 33897356, 33905388, 33922446, 34509928, 34524499, 34533144, 34540054, 34564789, 34004224, 34011767, 34622084, 34632316, 34634544, 34645522, 34735609, 34758493, 34077101, 34107661, 34108248, 34111980, 34113468, 34142591, 34791926, 34792174, 34792325, 34160725, 34204455, 34932005, 35014667, 34281543, 34332185, 34336782, 35156716, 35156950, 34383858, 34412012, 34434571, 34437040, 35174672, 35222038, 34440266, 35867718, 35867887, 35868040, 35935568, 35223769, 35263784, 35372036, 36009611, 36068063, 36166689, 36171075, 36179882, 35453115, 36180022, 36303170, 36371874, 35596384, 35702182, 36432155, 36440969, 36464902, 36465605, 35706110, 35753480, 35763854, 35786750, 35797366, 35824940, 36500548, 36500837, 36521254, 35835881, 35866840, 35867523, 37516973, 37543558, 37546004, 37546481, 37571985, 36661406, 36684564, 36714952, 36785116, 37572062, 37572169, 37572170, 37572176, 37612023, 36826691, 36877821, 36929938, 37089996, 37621054, 37706095, 37712572, 37713392, 37108740, 37109186, 37177926, 37179966, 37869168, 37925446, 37313455, 37318197, 37344350, 37352673, 37966054, 37966528, 37967012, 37406112, 37445128, 37457978, 37489290, 37509770, 37983070, 37983092, 37984372, 37984387, 38030698, 38039440, 38987546, 39002507, 39046480, 39047241, 39047477, 39067098, 38178074, 39074453, 39120241, 39151768, 38237339, 38253029, 38253039, 39291439, 39351308, 38402183, 38431250, 38445340, 38474108, 39430631, 39436425, 39462939, 39477493, 39543092, 38562458, 38665161, 38712167, 39686632, 39687471, 38821048, 38860153, 39769189, 39808007, 39813880, 39818205, 38929046, 39868558, 39947230, 39983194, 39986180, 40164437, 40170952, 40382806, 40815702, 40934376, 40447288, 40449798, 40508410, 40981142, 40981542, 40606283, 40655941, 40719730, 41017509, 41171708, 41222762, 41919330, 41236121, 41260249, 41379762, 41950592, 41975306, 42014899, 42029827, 41395029, 41405821, 41469464, 41495615, 42065887, 42112669, 42134215, 41515616, 41518880, 42194375, 42246003, 41581713, 42260809, 42267709, 42268095, 42268453, 42268934, 42274988, 42320548, 42351234, 41592752, 41657447, 42359351, 42378768, 42386279, 42418890, 42431928, 42433158, 41672663, 41745595, 41745960, 41767719, 42450377, 42472379, 42489396, 42520067, 41818569, 41831435, 41832487, 42524132, 42525505, 42535922, 42600829, 41866641, 42656370, 42683930, 42700806, 42889990, 41894315, 42948966, 42949470, 42949852, 42950444, 42950678, 42953387, 42953701, 42953885, 42954148, 42969035, 42969557, 42972180, 43170501, 43201185, 43251320, 43310400, 43310474, 43310508, 43322099, 42985224, 43019102, 43027979, 43029065, 43030091, 43030595, 44329556, 44339659, 44349156, 44357496, 43323036, 43363347, 43449007, 43449383, 44397098, 44414518, 44454784, 43449549, 43449682, 43449754, 43449998, 43450064, 43485354, 44468632, 44470137, 44471860, 44544345, 43618024, 44586566, 43667092, 43673657, 43699881, 43705007, 44677028, 44695533, 44721015, 44777587, 43709157, 43723325, 43742746, 43753717, 43772058, 43786480, 43795744, 44793900, 44838555, 44989039, 45018609, 45051195, 45061997, 45064387, 45068417, 45074112, 43796889, 43824956, 43828270, 43838678, 43838704, 45081296, 45085236, 45098414, 45108052, 45160948, 43904689, 43981320, 43982291, 43982784, 43983074, 43983269, 43996099, 45168763, 45169223, 45187541, 45198351, 45199986, 45211328, 45234515, 45236073, 44057363, 44059176, 44091658, 45236492, 45237156, 45250837, 45263657, 45285426, 45296632, 45309151, 45333195, 44108666, 44109777, 44113708, 44120125, 45344683, 45374545, 45426803, 45444597, 45450925, 44158030, 44187137, 44284671, 45527200, 45541096, 45587664, 45587887, 45587957, 45589908, 44325296, 45759627, 45761463, 45786390, 45844426, 45630011, 45639025, 45708502, 45709433, 45722521, 45723770, 45854194, 45854353, 45854537, 45854604, 45854763, 45854844, 45854916, 45728867, 48456554, 48478221, 48558818, 48590770, 48596730, 48622480, 48637335, 48649784, 45855217, 45892797, 45930962, 45968835, 48731134, 48795925, 48796645, 46002803, 46003701, 46007823, 46137319, 46152898, 46152899, 46153754, 48843518, 48863736, 48946643, 49057661, 49095593, 46194163, 46255486, 46276603, 46276751, 46328837, 46350120, 49121074, 49121468, 49182687, 49189358, 49217926, 49338041, 46397806, 46416374, 46477200, 46563390, 46577725, 49409960, 49472103, 49473576, 49477879, 49492128, 49493948, 46845130, 47000870, 47025541, 49509963, 49537000, 49537754, 49544507, 49546834, 49554957, 49555393, 49564950, 47503074, 47557054, 47557219, 47557935, 47728762, 47729116, 49566392, 49568628, 49585966, 49609376, 47729200, 47730270, 47778111, 47864169, 49669106, 49699855, 49731717, 48064566, 48073321, 48129790, 48164332, 49771863, 49789909, 49796015, 49832925, 49850484, 48164953, 48210114, 48253597, 49851021, 49864876, 49876274, 49892807, 49903567, 49919782, 49919813, 48264504, 48325884, 48326905, 48327554, 48386978, 48409863, 49919972, 49919994, 49920012, 49920208, 49920262, 49921572, 49921654, 49927601, 49928259, 49928639, 48411167, 50531137, 50544079, 49928819, 49928949, 49929086, 49929182, 49929309, 49929476, 49937477, 49947115, 49963602, 50567056, 50603577, 50604766, 50607583, 50655923, 49977224, 49977945, 49983770, 49991215, 50001243, 50020796, 50656617, 50665418, 50678655, 50678952, 50045590, 50070674, 50078067, 50078572, 50097403, 50685462, 50740061, 50745430, 50753311, 50765629, 50115355, 50123138, 50124062, 50131751, 50145836, 50151623, 50193833, 50210266, 50233990, 50267534, 50277320, 50278704, 50282187, 50282620, 50782867, 50838743, 50869109, 50883489, 50910475, 50282790, 50294239, 50303363, 50321275, 50345080, 50347742, 50910650, 51020170, 51021086, 50365785, 50366865, 50369547, 50378324, 50387792, 50387979, 51032653, 51067220, 50389874, 50392898, 50393470, 50429814, 50430545, 50436814, 50436949, 50437702, 50438391, 50438544, 50452371, 50476273, 51139574, 51146364, 51209365, 51222022, 51224170, 51254674, 50499569, 50499684, 50499804, 50530130, 51260256, 51261493, 51277384, 51277434, 51279783, 51280066, 51447058, 51462996, 51463616, 51477815, 51578632, 51581710, 51600586, 51301136, 51301788, 51337045, 51609276, 51647340, 51650530, 51661171, 51356106, 51384223, 51398216, 51398585, 51663618, 51401286, 51405464, 51416594, 52431342, 52431689, 52452429, 52486848, 51707039, 51721705, 51748588, 51757849, 51763321, 51764562, 51778405, 51798612, 52487138, 52528726, 51838866, 51854761, 51858950, 52564047, 52665700, 52685854, 51877339, 51907834, 52709447, 52711912, 51951610, 52880141, 52930095, 52967339, 51974928, 51976514, 52045203, 52051439, 53090659, 52064525, 52109303, 52136962, 52137992, 52188758, 52196082, 53143997, 53160128, 53162927, 53166714, 53167616, 52199515, 52214562, 52214564, 52229109, 52271707, 52272668, 53177768, 53178120, 53178289, 53178684, 53224766, 52274786, 52305649, 52311042, 52315284, 52319964, 52377606, 52405570, 53265487, 53289111, 53355275, 53355849, 52406996, 52416887, 53949143, 53950078, 53985500, 54052670, 53376320, 53378257, 53393194, 53395088, 53396142, 53397669, 54079591, 54099920, 54121725, 54177951, 54190204, 54191482, 54194619, 53469642, 53540421, 54234294, 54287326, 54305789, 53554924, 53567561, 53583859, 53603027, 54326169, 54364332, 54384057, 543920024783790617, 53605241, 546894922088297161, 548549712570151444, 549046695088407727, 549046733056032998, 549046842357256292, 549046851491065357, 549046862908149412, 549046872906458084, 53668730, 53670356, 53684196, 549046912719632018, 549046930489059039, 549047026615737185, 549047045168879352, 549077145956708463, 549077156581970038, 549077206632412628, 53693019, 53716520, 549077225752383506, 549077262427870426, 549077290506096759, 549077317438914577, 549107159221727351, 549107179538543261, 549107192328190372, 53717203, 53761481, 549107201984712885, 549107233849662899, 549107244355961128, 549107266056438143, 549107275853309672, 549107286538305398, 549107308953599754, 53768543, 53776201, 53778473, 53778647, 549107318427187640, 549107366955467049, 549167656055517656, 549167666722246317, 549167685223160643, 549167697807219600, 549167707499499455, 53778874, 53778959, 53805309, 549167719707393336, 549167745982946166, 549197790849881207, 549197809551992223, 549227960028006295, 53892745, 556247389037736038, 550677382257253052, 551339534431270786, 552082839075588874, 552136431752214588, 552573882894829155, 552598739625135546, 556542025860693033, 557083097711580726, 557655044290328653, 554092988304710652, 554106115061235323, 554107603599770813, 554109000653251610, 554112327483969367, 576733228936794558, 576925166911492754, 559224987431389438, 559364982878228875, 559995626094149193, 560972584221437619, 561530170356097041, 577349344122666441, 577922926609095426, 577995510821144655, 578192743998391218, 578733875985469454, 561562263004179592, 562171858889563823, 562230939546947110, 562785706282362982, 562880147421746926, 563478100782390018, 578947058506076747, 579383223964828561, 579432759681940927, 580088244214424763, 580445110816016537, 580818006050015006, 580967599447208359, 563783864131051928, 564110174742194322, 564129931108385377, 564136748275034829, 564187290427143686, 564280371075694039, 564500696300325573, 582386687359485560, 583275679865958781, 583713103832034331, 583853450684689039, 584113200985395519, 584453893380934150, 565197103765306530, 565848006097034230, 565850840531992229, 565851037572193271, 584456638729454327, 584475464971435333, 584653376925230194, 584654808916945058, 584809281800066180, 585201888122355592, 585336565841810196, 565939722560335526, 565940901136384156, 565976919449572809, 566312330986630628, 566661455410636978, 567270769493238695, 567760208528736744, 567928627480686495, 585972256359510467, 587047216167742674, 588174299314880689, 588221543970048936, 588223687887200037, 588232980140593374, 588278372096106691, 568000592901985503, 568006535926176022, 568490356244099608, 568566195566921442, 569434428427083786, 589662381161603767, 590261016419385623, 590994641909116037, 590995643758892468, 591898693929546336, 570331828259631995, 570804883700006416, 572686280844206430, 572707998265964933, 592486118094465887, 592707754645165495, 592826951537097168, 593175134318146055, 593177931669440775, 572712196616250054, 572714080107064467, 572810515314788877, 572940417677461635, 573058407268276258, 573069926770279771, 573074131933435142, 573160135617414977, 573171114220631889, 573191927014686836, 573253197204357332, 593275100961612546, 593322894495448943, 594089365917358406, 594093439100105142, 594100451845180987, 594870886187041148, 573532983849394263, 573767418471558024, 573947382884128981, 574661452294089121, 594885669054763065, 598198775835652226, 599295806208463981, 575220665085353204, 575305163855615978, 575344810157317303, 575923546519189108, 599953954122664992, 600054882187947327, 600539604683995627, 600596020530993891, 602030037747448001, 602089579883111617, 644206080786098696, 646810766204284452, 646889079336474809, 602672645101860779, 603283757469727457, 603616742418311605, 603937629382350849, 603976984595737078, 604220363629138819, 604260482822965434, 647466608067971127, 648139068064879624, 605330197818075300, 605518904414495889, 605742570072896536, 606563692528576402, 607261494591952945, 607263364194835603, 607725528169620872, 609048579802688216, 649828870061489283, 609132892911562396, 609290898779100981, 609769681910660098, 612306870764866953, 650659032090973811, 651307995344592147, 651879072182429115, 652674221812187091, 613422403576154661, 614934732032197886, 614934870507151055, 616035025546642981, 616703040333924885, 652685957115435873, 652901064195388250, 653265503925724074, 653496642593289343, 653505634697257786, 653631951626460775, 617037234723759028, 617288024711107485, 617429644625718007, 617439460572975089, 618469079421725128, 619429396803748138, 619590774022810725, 620048797966984853, 654142489347639711, 654947667271912278, 655075687908994532, 620166199542434581, 620184340867020639, 620309936761654143, 620315804338476983, 620327730605212540, 620332217975084264, 622044687001643327, 655955207332380945, 656364882719960269, 656514440936923339, 656889448535704348, 658395685181196120, 658402448077784881, 658421682377609952, 658484007577658847, 622179922865015299, 622283583684103091, 623807345597711079, 623864415811595466, 624537348830995631, 624675773517222415, 625216334581438064, 627252839523134009, 658642990070579842, 659103728993295988, 659113230071628788, 659904292924629719, 660118133627583614, 660153007014881911, 628062985502978559, 630450386688784710, 632560918653550782, 632583363073735214, 632947973829892933, 633031022622438293, 661420937317454555, 661458283381695159, 662300740796783506, 633113328146471183, 633345089075450829, 633680495898473243, 634430345153961402, 635191080968054982, 662713001475262169, 662833976365359531, 662873434815920155, 662928375135344434, 663432127914385668, 663512947845813153, 664942766518802790, 635203979110080644, 636033802000423868, 637512253145750991, 638300545340556802, 638400929135061122, 638403805969773939, 638405224053587919, 640573567280884465, 664949577865847070, 665119794776701299, 665750835335936544, 641749541489356941, 641986199446520261, 672097295540094270, 665807250660691595, 665807357732752546, 667702716418352345, 668596858876544127, 672243929702750803, 672310889048894850, 673174363480604704, 670133936049220562, 670810159811552271, 670818602910601200, 673564140178408724, 674315072431841014, 674546147633902883, 674569538967351141, 674963595963342539, 675158477353437326, 675771717808310686, 675781261072441077, 675886588589149597, 676124249847272043, 670891936912821374, 671429106601589115, 700800607961930143, 701649857282382367, 701892479987084988, 701934175162430169, 676622832861312994, 676644879457973252, 676647992466689514, 677367806968065995, 677422779058575741, 678137463687584500, 678155501942692283, 679457008163084807, 679498594637487931, 679506734965810601, 701953378007299281, 701977587658872618, 702046908781094621, 702677186858001674, 703977423787898509, 704703007019555513, 680143510068064957, 680382294646644558, 680404409172012355, 684054396347155859, 684078989538318303, 684084670011962507, 704792162185138177, 704823709237371920, 705025743456821049, 706400613337156180, 685084342282164955, 685349629564161028, 685843348296803104, 686297002562728779, 689192267696277012, 707685095284513627, 707766567702469439, 709122746464370986, 709131023580834958, 710844027139907891, 712070010726766738, 712088225086724526, 689518709926820942, 689560893374483224, 689750119988606795, 689824068487648965, 690604781659802393, 691206313073007391, 691362487056710788, 712113708309561812, 713468413653295397, 713477900927771396, 717289314940908905, 692088673017569356, 692238368879076495, 692238480617104282, 692398783044089715, 692537214742615034, 692804245589277408, 693982479613860686, 693982759784846407, 717307136142220253, 720302944067925308, 694121108472381743, 695064353481160315, 696348083397885673, 697068648389960180, 698236909933574868, 698317441115511619, 725834754917319916, 725883474576639486, 728685803584988906, 728890964046035753, 699060617553994913, 699111408317041261, 699196151305745780, 700633952042507996, 745477211859171476, 745671384712444489, 747479976789475259, 748162792822978288, 729587024997178381, 730141827076853989, 730268051591450658, 731736814085613789, 732441256714586166, 732522539484314144, 733235573952127957, 733530290707276780, 733709504812028391, 733781379397976409, 748375023557066193, 748999259569336631, 749813414099128233, 750577902143736386, 750588178707338445, 751158143109279616, 751969699715339396, 752628637260565855, 753310481166218809, 753347476663289780, 733903430778204550, 734162303847528207, 734550726176649255, 735211027290420608, 753364564980913801, 753375256880920746, 753658382658746543, 753689709697898013, 736046032168257824, 736722189382950462, 736777448434039734, 736784695652120493, 736795151172005885, 736805444814902861, 736987816226306904, 738037610457749629, 740460079636608199, 755680100992226959, 757651089440922633, 757661897059939968, 758496009913958240, 759085255211253914, 759960952218893509, 741021028726017371, 741045646897395177, 741604095699358719, 741672381133061454, 741679202560302667, 742433348606442332, 743108839905315839, 744760241432823124, 763659057079094636, 764310092915656289, 764974252654522587, 765034532290081966, 765115847361336372, 765134524093655303, 765847308862875792, 745357636162474688, 745379915576881251, 774402994653749455, 775158475945813412, 776017551931515963, 776591356965362280, 776921015422202842, 776928748437141641, 776933934126926690, 778022836898556302, 778760030522550944, 779415375292006469, 779643016588887076, 781265526771651983, 767096988680060411, 767226058771020148, 767375778533131616, 769278389816356787, 769618228309490859, 770001167149616124, 781737326445891796, 781857183209484304, 782011476280631466, 770890386562069595, 771081740628613763, 771102841375133271, 773057857100109711, 773781107983535591, 782015579739657077, 782022798737573255, 782444763287547432, 782725347608725568, 785263471700434936, 786052910611603497, 774019596969224065, 774224422695537008, 774255331993683378, 808809388483068984, 809126253713807648, 810734295788932628, 810783260302369000, 810786599401829580, 810813581724765561, 786751553044584786, 786818313032849476, 787024808576386804, 787035882963178360, 787051557306213827, 787069739879614242, 787086719246637295, 787100134766105538, 787114207051158657, 787137463012612394, 787152902567157850, 787166134283194242, 812031717447117365, 812875297423399445, 814855414889006823, 815297886370890203, 815638095902128615, 815661018600986547, 787538400643290574, 787660053202814451, 787750536550792351, 788091239773689642, 788310451422292596, 789263892937239854, 815797364829037633, 815809045877838400, 816008334831829607, 816016929591197740, 816023047116012542, 817196070864448954, 817880002809882330, 818765424918233121, 790502699195998435, 791212082382623519, 792672677830396102, 794231794593585152, 795038789420974828, 819508498388778624, 820262868450185289, 820942402659816771, 821041021393625452, 796346204154078638, 797074763122378379, 798545380491637465, 799960397262945024, 800424008410493013, 822141404926991832, 822993737972241831, 823007908288694504, 823014133392593031, 823016630484369401, 825337934138804698, 801375635949961920, 801377482131067824, 802041056910149058, 802045922279382433, 802633552724786344, 803353283926130280, 803377987549001909, 805026065623230078, 825777015115759126, 825905289121674289, 825968119328381821, 825981186065631018, 825983269010993299, 826015019619079224, 826047483616533970, 826883287415861106, 826961356698138082, 805508815934337029, 806966476473135544, 806993795521964832, 807159636990112586, 807172927993421544, 807675656270226907, 807680416085116912, 807682586483941230, 827578886907841038, 828723869155900980, 829232242195913025, 829245078528604905, 830272643532171896, 830353311598780523, 807684208837043608, 808099177768162020, 808417325171281822, 808541034624144833, 808715678478646782, 837020906760941114, 830829706137135197, 830856920125224187, 830921366735681158, 831691520409327634, 831711271176721766, 831718327610589757, 837047531385718381, 837412305969886929, 837537615282643776, 837549115325763595, 837553108828232216, 837563758386626855, 837567231350634031, 837570258603325753, 837705048038302115, 831749875617113346, 833755394697249031, 833755497568520385, 833755799147288492, 834178316221644052, 834202136066435100, 837762490634918618, 838109460295250941, 838123223265865564, 838186518676478074, 834677097028847384, 834745477102851233, 835938765503560783, 835975265581708462, 835980667100187135, 835983178521993911, 835987408675585279, 838386442897398523, 839723882044471459, 840396603795249783, 840985079777351460, 835990297827592549, 836001545790623347, 836258811277577192, 854177158729918270, 854236123425515688, 854255282817382588, 841045593467763396, 841725893607301228, 841727999937122566, 854895394752828707, 854917936034491299, 855112419186889027, 855764179092099916, 856411208202489480, 856467542181321142, 856490703702491643, 841888739481482648, 841971128749332488, 841973199855693980, 842273158355099075, 856989932301371424, 856998614508561337, 857044118292291508, 857678029839780214, 842532162835415942, 842609402361008768, 842625185342811957, 858428226622396762, 858435821862344223, 843164675108142556, 843252320100331133, 843318036512355960, 844100912735676966, 861300482011602690, 861499260929792509, 861661837427552869, 862036281404317382, 862140883533006821, 862192021601842747, 844265941171279914, 844687796517264787, 862192686255082895, 862203366054529007, 863048625430991961, 863060688788943629, 863080243255275060, 863796140448327861, 863807573532175060, 864288950872962544, 844805627425926996, 844812999498842819, 844821900168008756, 844829015346776973, 845554659208037123, 845591766511332689, 846826581345715023, 865269458040469106, 866708694519949048, 867077114149597994, 867897797303173388, 867912884036811096, 868534836170655754, 868545762924393107, 847117420317854916, 847120901115211920, 848354916176388794, 868736218907035904, 869205671919598380, 869231838085684530, 869238282464501029, 869279126774254659, 869284533574566813, 848435322725836768, 849123002314292422, 849904983657757980, 849933300156773473, 849944099007595605, 849950138449124609, 849964179862466363, 849975026602526987, 869627659266304781, 870181205477950351, 870935841119497065, 871526941549795373, 872520823346293374, 873047147553161714, 852266244244830835, 853321750078461407, 853449515928544509, 853608602976265054, 873137106054981496, 874411461519118311, 874528213181534672, 854114673599318410, 902838024416038950, 903353074123333798, 903712253958386598, 875393448678687411, 875404758515284161, 876036810425554424, 876464992539127085, 876465103183674430, 876737438859153507, 877231580270932601, 877281506865011613, 877305202171757224, 877337207890881386, 904247806526892598, 904289194736080237, 904815514706557277, 877391918675769643, 877528806700846541, 877560426703064537, 877565948237245164, 877573553472387376, 877575512102004149, 877577062109487942, 877883129302152343, 877943090585248274, 878364801976427614, 879436462276999783, 880825389206160218, 880829846973742643, 881595278545855985, 905139769927877381, 905159704563578392, 905545154629673166, 881717513059745594, 882672381235713075, 882712521377349484, 883334388025778039, 883369506670516018, 885494884138712348, 886119154027032094, 905992549109134714, 906356298413492108, 906464947432834918, 886211734867170509, 886338350799947981, 886868008950501497, 888974647981840408, 906643116722037339, 908063751050754608, 908072155149939465, 888985196169894689, 889924235833822968, 890263266100591276, 890267910299171211, 908076690966535721, 908082234890590614, 908315293073160121, 908436870584561413, 891724198857285524, 891829796508414293, 908449819355594566, 908827712520633373, 910188521167399633, 892660391744921000, 893384208471303725, 894097793219663827, 894235829450668931, 895405068711035135, 895533743932423676, 896367214604128183, 910767158398302230, 910770771147862791, 911421627235307114, 912080631363242453, 912737831378532791, 912959843225667760, 898304615063406289, 898385302247969606, 899920026985592276, 899920149534747381, 899995019859349143, 900081867917024839, 913121427216660561, 914266021996929560, 914313463110062526, 914431844128854194, 900694040497036973, 901173744964663231, 901220569668578885, 901902513580921342, 901998507055673699, 902023029049298522, 902190326979096728, 902537206684030126, 915042070612918566, 915123959930184533, 915172406551275974, 916385169940189046, 916474186216959748, 902796436234701154, 918672890346234511, 918773555791503555, 919998562989126370, 920028217232695841, 920174207942910842, 920274471136901900, 917235959730901749, 917422813135240644, 918195938073113846, 920828546044901266, 920928518083732371, 921223762600833588, 921937676680235739, 922171703902677597, 922518017623739333, 922871303765413288, 938361691001930141, 938957902539867959, 938978623479288210, 938980808323922328, 940349559334194300, 923572537115837089, 923695886182578355, 940670527606217390, 940707709189637660, 941224079416161086, 941495631408511385, 941895615608834488, 942038755040642812, 942461659657285553, 924398117683958821, 924426459253112636, 925241440239476781, 925823773823038456, 926010749130496340, 942823290977208729, 943237197679571427, 943981013852210500, 944271976005026026, 944365278172774450, 944658448844841790, 944676887820627186, 944916487282060336, 926482508230438930, 926530538620610967, 926912588264512477, 927345244816756239, 927990970905452681, 945285461092882911, 945296409882984631, 945757890436640222, 946614265883675284, 928000416416400436, 928005496751088502, 928010522697958825, 928602695486014638, 928701633343360611, 928965379322878224, 946626388715172869, 946632698776696358, 949026541882771236, 949038646715849146, 949057689892091780, 949722796195808723, 929539586549634843, 929541383598891933, 930107334374544575, 931149512404648413, 931278979141870302, 931570610265006854, 949734673712199464, 950115527752009625, 933117763949256422, 933881419270448963, 951614983297274338, 951719417847697002, 933899931593918429, 933932945740372569, 933957767034249220, 952655126305481575, 953367306765802247, 934513609680640479, 954164963069001052, 954442410357334197, 954829424053217642, 954878492555481280, 936435014904055244, 936818428580437387, 965793369090690512, 965914381850927574, 955497035865727976, 955581086249940650, 955736004587314345, 955758591570449196, 955800230723324793, 956946155385346706, 957883333588482962, 966037914609141777, 967200272605923567, 967309901782694657, 968027923064434036, 968081321299636771, 969248088822527118, 957890980987243124, 957893892263871873, 957995381075738308, 958424743922064382, 958521211556252326, 958585586787746669, 969498170866937575, 970849587153571298, 970886587487280776, 971406619635037674, 971472398574360859, 972839130439275499, 973715817879746408, 973950257283187038, 959144274645126251, 959430649796714272, 959471453965777823, 960750958293194658, 961044770154930028, 961621342308529837, 974275709349147712, 974591584189571682, 974594943416279044, 974604118040248736, 974648252270949220, 975424943839869272, 975867185499408330, 975938746800327024, 975990456804470675, 976211656378188288, 962400911279850840, 963050044635105558, 963479513938135704, 965691625871205465, 976591198222655115, 976701813768523463, 977423454228913834, 977466719617229854, 977494666619872099, 977500059155237747, 977560444967163208, 978294202617560222, 995627545925197347, 995736283272769462, 995806616009362590, 996534853014726550, 996972606142000803, 998473521161598157, 998602507354109624, 978837903500153696, 979706581208557424, 980896383326877992, 981578902412218090, 998620217257858887, 999113356706570190, 999186961174458499, 999257233946219462, 999294647659702307, 999787784392835696, 999891247297923594, 981827184820246911, 981831074726899704, 981834607948611671, 981842783730361729, 983142924055698204, 983181846764875194, 983414897935365003, 983802528013899941, 983992533347290706, 1000418518731118148, 1001341233025177499, 1002880369699501348, 984855934020058487, 986826364565972927, 987698851343710249, 1003480825894641507, 1003489913948389382, 1003514368898010148, 1003538235264847521, 1003557784400752978, 1003573037870763972, 988343383292292645, 989202696943833048, 989729617903970676, 989861195408373493, 989875631337861623, 1004091672108614178, 1004102127557969514, 1004106881106958092, 1004108061436455142, 1004109262864251827, 1004111590810751082, 1004114274888062692, 1004270544212982744, 1004380762333076538, 990387049966449275, 991065164307680743, 991215175367724858, 992088392858432753, 992108304958054454, 993589349889972325, 994567561554408677, 994575834389133038, 995104320333126876, 995534244174658204, 1016429062783114472, 1016666101605849059, 1016695412752790117, 1017192303879523794, 1017242329774000831, 1018109244059389874, 1018888500428208363, 1019852140949643968, 1020421497149255180, 1020910405669979468, 1022449939961900736, 1006440590375797292, 1006458429260521444, 1007057640438279826, 1008522151043064119, 1008684052220675280, 1023767016549948913, 1023878666544335561, 1024644524670828776, 1025279883239618667, 1025315305235882115, 1025373089515657601, 1025463559985219038, 1025887844632632988, 1025908460539009403, 1009179910250610024, 1009220079730942322, 1011437386212825550, 1011521198870253251, 1011521344667460788, 1012142624324086388, 1012738263713619613, 1028899099510499738, 1030357275773436331, 1030434195089854163, 1012849728019228568, 1012948012112886702, 1013007350235163272, 1013477164521842536, 1013486740869279515, 1013547145409846009, 1013572248656244699, 1013609886362396710, 1013661530142538034, 1030918381874375475, 1030971188131175279, 1032167780951200475, 1032583640969277379, 1032599865395414776, 1033104815769384346, 1034011243196493734, 1013783366192035448, 1013956288620107537, 1014918427102465880, 1015822132938097557, 1034071377077697232, 1034090103265556175, 1034092759556046148, 1034199820403160127, 1035547005273198010, 1035561989289681415, 1036004634532309331, 1036181568733815012, 1036821821993884019, 1049160676049678787, 1049891486570104800, 1039091256868952584, 1039129928812824920, 1039196023195025271, 1039280915112536502, 1039298354382329237, 1039571295772559304, 1039586921041220381, 1050966328298621354, 1051526946971130034, 1051938559963662961, 1052061887145847787, 1052848162775982712, 1052891518963687492, 1053235386073723686, 1054283059928628507, 1040562862317431556, 1041372560240246366, 1042692441715633671, 1043422114011429150, 1043656713215406286, 1043888361346213915, 1044095732521219409, 1054354781377123983, 1055648087352832220, 1055899552106486286, 1044332459456152240, 1044740354424918698, 1044797655089701090, 1045019061214188746, 1045438950210180404, 1045565657092599489, 1055922883069407530, 1055929250993499728, 1056019517969512472, 1056320471943215360, 1045716563939906110, 1046193968628087299, 1046236315431073541, 1046600738548202248, 1046901532589310562, 1047031147474382514, 1056408740003257661, 1056537359199273052, 1059239607552761338, 1059406484640216493, 1059965658285244867, 1047532247583677539, 1047541681816501904, 1047619471694376700, 1071730985957647632, 1072184983215544612, 1072367144446454366, 1072687785531220479, 1073147584627293029, 1073230678103912317, 1073995144896394653, 1060046432179361859, 1060101140084931898, 1060674935133918036, 1074331024894267292, 1074331042727815738, 1074578377126931085, 1074766595126488175, 1060686552087873123, 1061370793949648000, 1061517043596425503, 1061617640960212690, 1061646352535806917, 1061693257292994065, 1061722695972797900, 1075271561141699038, 1075404746347732752, 1075475518106635125, 1075899004294000726, 1076041088275296522, 1077275201121651598, 1077351905825045387, 1061785848048545610, 1062037501926291485, 1062392678699862600, 1062429737045035595, 1062489140787132231, 1062816199600080449, 1062942791752718777, 1062948632770302145, 1063620658715685435, 1063711446933352297, 1077357500575659428, 1077608680774470022, 1077630132775047789, 1078979215715393851, 1079535330656749130, 1079682567662652209, 1079703111547026850, 1063744373372592767, 1064254415875765347, 1064288645299628696, 1064487285794044889, 1065077805203129162, 1080213611798243209, 1080352815353314980, 1080356162218464102, 1080378951629944153, 1081008104561877015, 1081097650992443024, 1081100052392959714, 1081119511292857826, 1065085741774278791, 1065166625170314642, 1065270735859841037, 1065858804063666232, 1065904867798269940, 1065950967909568203, 1081667378510098338, 1081696258613834994, 1081964152020267128, 1066654507859293403, 1067039612488155883, 1067200416427834512, 1067301357031315949, 1067313770272762919, 1067395816890425963, 1082001594459316931, 1082012731488386255, 1082017080151506523, 1082371405548811262, 1082383658041958940, 1082390283108531872, 1082430366392016776, 1082430456875435750, 1082430546475607967, 1067836474245419546, 1067973942357207003, 1068023657377857173, 1069351932069861591, 1082528333776039962, 1082586528247504235, 1082600692845020362, 1083272689233666973, 1083371516537937524, 1083553473678978563, 1083870863468368963, 1083891694842311211, 1083926214126829618, 1084540580954355891, 1069360839089815303, 1069365834784687506, 1069423246479995287, 1069660008339950937, 1070005023752299930, 1084617159613319358, 1084618979289736813, 1084621239372555264, 1084703045257652328, 1084768554433866212, 1084768688449457130, 1085237995731820471, 1085345655421747380, 1070164219123199142, 1070516367301049544, 1070985796475344588, 1071097983747724332, 1071113243356019555, 1071144011832573408, 1071151614174742845, 1071697268573341999, 1085396509266939914, 1085401248959818110, 1085401898147738671, 1085407642565962152, 1085553658892217181, 1085687918760177509, 1086149177226686271, 1087015145249557037, 1087488145006164690, 1088100045788064625, 1088202863348807618, 1088296493704370054, 1089009009416768024, 1086901848334059227, 1099975087529148383, 1100074709277259063, 1100600080948841073, 1101348538207518145, 1101355037615963108, 1089127366304520339, 1089345353154687521, 1089863623129232097, 1089899200633925733, 1090402160443482826, 1090403264155142114, 1090516010914059325, 1090521373885353819, 1102121940658938119, 1102311302259528119, 1102945644664328461, 1103439538753990772, 1103484772925388093, 1104226969995394461, 1104258151598494329, 1090572575065866372, 1090684672219878229, 1091205119120581818, 1091245333960931647, 1091326257641366726, 1091767767546078754, 1091789324604332743, 1091810966984916737, 1104275903116665608, 1104344585459026488, 1104348761986316755, 1104374296577941335, 1104534029772761431, 1104799871389380111, 1104877451689814299, 1104943560066501934, 1105085192566978384, 1091832295692527962, 1091853073419787578, 1091925624694691711, 1091945544272382985, 1091972168650631089, 1091978786462302657, 1091993608342228092, 1092000803198863475, 1092021434462754749, 1092043940253574173, 1105124566022035675, 1105201027328574575, 1105544393883648175, 1105776358579333281, 1105791276366011491, 1105820483315796411, 1106372780749038706, 1092509799943587135, 1092547803565688426, 1092664285774415791, 1092682293894965596, 1107231528641386167, 1107275392430723514, 1107280535547505853, 1107286736536637404, 1108133075629673557, 1108548321056922157, 1092702137734182454, 1092729321259391212, 1092733253781988437, 1092778780950393148, 1092880874916680177, 1093212887437793843, 1093224215606353381, 1093239052112004053, 1093422629862677911, 1108616579498418188, 1108664430193852629, 1109205470075258289, 1109405967906317608, 1109514300332624150, 1109521954576816643, 1110264814855184789, 1110690216493741810, 1093463538992840326, 1093994938541897735, 1094089827087763695, 1094106221667200271, 1094108530533726106, 1110966470674419245, 1110992115486680037, 1111010461070353705, 1111563715437318016, 1112416440387395678, 1094110508637134278, 1094187742254829936, 1094696261496251616, 1094707463894949954, 1094911100730109729, 1095492629006120466, 1095680722928479303, 1095808676974831779, 1096117002195008599, 1096166548400120623, 1096172552702413564, 1096180983776354550, 1113815978631089485, 1114426819454237937, 1114535091822626762, 1114981641809039543, 1115021895577378834, 1115035206723392981, 1115076873477579483, 1115214562951108233, 1115378135073611348, 1096395569424542855, 1096903200017888392, 1096910057225390433, 1096992439399138752, 1097069327295116750, 1097070322057710481, 1097101618116919325, 1097636493899491668, 1097656178690588757, 1115781357920927949, 1116623694346383044, 1116666283299821616, 1116772638497633973, 1116830233655898426, 1097750148636109507, 1097964086263143003, 1099049195797151793, 1117398303358327435, 1117852176088159838, 1118095953169898309, 1099401012384269036, 1099431624635242774, 1099442257438563717, 1099631111022405097, 1120810332795122013, 1121016657341795019, 1121215824917542212, 1121558428544105826, 1121643638051193011, 1118629787407576324, 1118843758834034668, 1118857346632374823, 1119032112301503297, 1120304299036193519, 1132355087596960427, 1132425637187535747, 1132504502389202001, 1121789246542597328, 1122364198522681494, 1122392840695035584, 1123905994004758727, 1124085508951300082, 1124378020875145813, 1124397389912228599, 1132535354027633596, 1133161855343308845, 1133207254571805076, 1133217599609383527, 1124485842929689569, 1124492622177133269, 1124495438924945988, 1125146165144986559, 1125319041767567129, 1125325978723893106, 1125336328680804504, 1125343858782015811, 1125354079581425982, 1133240139943305054, 1133406627410715320, 1134492764338355995, 1134515034450761559, 1134696171504382278, 1134812688571147108, 1134845333276481551, 1134865077836165168, 1125361791086091128, 1125382434265334913, 1125883628946002900, 1125960333512610747, 1125960395875380188, 1126024346850122681, 1126098331522144173, 1126268462637280116, 1126684210735664943, 1134896847256575319, 1135368415024631914, 1135396132337109601, 1135442261452261940, 1135501787186532654, 1135538725764395689, 1135630967783011691, 1126705372749729269, 1126778646373414970, 1126870432101858161, 1127368078645893759, 1127973028445723029, 1128028740660708829, 1128051148370461241, 1136179732695200867, 1136691724021653573, 1136786448085677953, 1136787447889389848, 1136845823569540725, 1136852730795878024, 1136858123606177859, 1136895557536726354, 1136914798512827639, 1136929591598530092, 1128054039761274911, 1128153872036940536, 1128174613484545936, 1128180673476262563, 1128184020949605416, 1128209450206518924, 1128228024760541758, 1128230340121806052, 1128233251453150564, 1128235554569507793, 1128237390188448911, 1128240619421385957, 1128244893720715302, 1128385786864587750, 1128659091413073167, 1137427488568986168, 1137502207415842337, 1137565016314048592, 1137703859333747796, 1138269954969870776, 1138299913700669740, 1138362021269310848, 1128841315755111584, 1128961993694770392, 1129058751953057388, 1129276668164500275, 1129489948474967452, 1130170853222304351, 1130303866671637604, 1130363836773968721, 1138419410649688342, 1138429185253970295, 1138486952683861857, 1138525185921733968, 1138556910296298680, 1139062396754014137, 1139727893782652831, 1140394179864186877, 1140436897707819435, 1141268140363041274, 1130514816412477011, 1130561602069153990, 1131112817297579738, 1141307998735534798, 1141784279123343945, 1141913626198357996, 1141987562640286537, 1142122389161898431, 1142443875412670775, 1142530791009097271, 1142686760003174720, 1131125337168160827, 1131172447334532308, 1131175921931285523, 1131576716639205009, 1131768209645972266, 1131815996341157518, 1142760937725856637, 1142766527139752356, 1142861459710800431, 1142868077398602328, 1142896149641648145, 1143197638152214647, 1143437846695991382, 1144198234931817223, 1131822599409891683, 1131969623898996999, 1146235880517350529, 1146387402833588097, 1146408450146450116, 1146414394831022231, 1146481357864363038, 1146967219552598734, 1144215244576791512, 1144782101988804907, 1144944626902829343, 1145375784676350252, 1145614390928087638, 1146115656467471019, 1146215354065729928, 1147046732275847975, 1147052347625052850, 1147529050389901865, 1147843531660265854, 1148300338274024987, 1148300447080620308, 1146223316781299250, 1146231339027145342, 1166598260626742238, 1166608471265372040, 1166615885224184483, 1166743089695273424, 1166758619393799107, 1167169374587736904, 1167176507878028232, 1167347270554946277, 1148369625424641576, 1148630061800522800, 1149240637231609074, 1149778015887132245, 1149811395005690362, 1149962750368730287, 1167830348239324058, 1167883576977704619, 1168098030634623672, 1168226326013178689, 1168244036505164592, 1150710839576490327, 1150863537562721407, 1151356839669861774, 1151597582267543200, 1152019846632831609, 1152077860797986222, 1152793607176917881, 1168611778427108912, 1168653956385179970, 1168661848204384440, 1153612225066357985, 1154113653695836488, 1154146856988104285, 1154226600204779461, 1154324351843059921, 1154841234616887068, 1154989947281270505, 1168881507668286002, 1168969358011979164, 1168972911901812737, 1169425183385642388, 1169432943394301687, 1169581081056880046, 1170178722891857155, 1170250202751768604, 1170394717770733684, 1170825186334243827, 1170854399234085829, 1155006250823627046, 1155155606336876991, 1155632546590132870, 1155828232306536937, 1156539906392343268, 1156587191291523398, 1156608619817385809, 1157194531288593044, 1157202043400531208, 1157209526428835716, 1170864864779567371, 1170871328389941136, 1171144939897438568, 1171615281440122859, 1171625288070571247, 1171818431889131357, 1172209757040344505, 1172278837172804924, 1157222969827643276, 1157728025713025545, 1157865095488718274, 1157913647727309940, 1157923074158634629, 1158457366718586664, 1158639976913028413, 1159164344326104166, 1159424148238555260, 1172410194941860459, 1172461704358549821, 1172482562377889863, 1172495183595639895, 1172562059163674708, 1172566257473982085, 1172586815208204155, 1172596554904547411, 1172630064597888210, 1172828773227753595, 1160641054519460295, 1161367709963860718, 1161386959894023798, 1161716548646770346, 1162176810246806116, 1162208171453444369, 1162234984782680719, 1162246757248234708, 1172950516850350787, 1172994750516779289, 1172996178721180315, 1173131287518642027, 1173291146798962773, 1173354396828920979, 1173684335686694156, 1173684881354469863, 1173704255859512740, 1173714667633262554, 1163205960954070502, 1163328331154844841, 1163533301836000065, 1163549899953888023, 1163567258235456449, 1163634272584094607, 1163661743530123646, 1163757644194471672, 1163800464559750042, 1175326687873276423, 1175364113013922394, 1175446147312298106, 1175491190445251667, 1175845318430675889, 1176079142703942345, 1176219710317570914, 1176247751236763451, 1176611240176030068, 1176856213237397157, 1164197375186998267, 1164352900011086287, 1164578808118630157, 1165181172249985164, 1165273971019095954, 1165745536366686389, 1165748246198485341, 1165992241857914292, 1177336194970006586, 1177395821061073327, 1177441849917613272, 1177510105263894249, 1177598774116080060, 1177635190903847766, 1166458327265737677, 1166477941706592934, 1166532968596783793, 1166591109358510031, 1195464447227903520, 1195560781054422021, 1195638612846655797, 1177654312235539596, 1177746757598157977, 1178049798694290654, 1178281870441546816, 1178348172274801971, 1178349577327642567, 1178755319313962804, 1178903958492597016, 1196099164195351579, 1196237946435085474, 1196245638974188844, 1196319576516186855, 1179384168912145713, 1179467932459355009, 1179575868350681906, 1179656320099238235, 1179699464135584563, 1179741567478389538, 1179781849979373519, 1196329224776577871, 1196330829101232232, 1196337996527992425, 1196339318229686799, 1196340495902963126, 1196341983099680525, 1196348711198583934, 1180333019198536294, 1180396755381678193, 1180469211285731721, 1180936517203305433, 1181054118838351205, 1181337689859769761, 1181348934636153161, 1181703819290668716, 1196350313367083714, 1196351376287157815, 1196352608766558171, 1196904657021586587, 1196973694969902978, 1197149434393621614, 1181751405185138587, 1181759814482747145, 1181762279711828254, 1181764618430959046, 1182399275679927331, 1182403395263989574, 1182598907422561328, 1183060360419152748, 1183146326111268842, 1183257430647298167, 1197579341757133988, 1197825523940817298, 1198287306785345437, 1198969001121959588, 1199140059480344304, 1200107229715429338, 1184226057349901133, 1185445861536095295, 1186144856813572111, 1186724119795683801, 1186734218543608740, 1186871376064972508, 1200496394729326468, 1200698556088566225, 1200840828324073036, 1201149021909417785, 1202315857404113736, 1202681302212481745, 1202775904346455729, 1202836942320413501, 1186923363290269938, 1186987367950913816, 1187074441604795501, 1187443052823275512, 1187612417234936864, 1188193356749216397, 1188584934136387294, 1189091917558426698, 1189209222632682160, 1189837933325037926, 1202904431750519087, 1203082640315563102, 1203346609016334017, 1203612185366829934, 1203618602252003745, 1203638046145499425, 1203671947084990603, 1189894175330842045, 1190460535341484773, 1190623661096576471, 1190675367521625163, 1191292311758257965, 1191299676971606175, 1191399713058612161, 1191403492627432250, 1203684625533115288, 1203690261440734403, 1203693763649670830, 1203712199081075080, 1204077025466634598, 1204159891731303920, 1204240005221117556, 1204249760760152858, 1204368004985570774, 1204447007358485499, 1204894317379142355, 1204896907316844047, 1204927107282715076, 1205468699799158498, 1205872472925935166, 1191405718417118299, 1191473595075755377, 1191902737401465546, 1192036933105008789, 1192039872163570601, 1192060107472842224, 1192277257966085973, 1192512449678618621, 1193346302951360022, 1205898816502170393, 1206522581049562811, 1206616775288991546, 1206990237100471298, 1207248751738611278, 1207358848156498275, 1193576729234847910, 1194018327831285928, 1194034007644461284, 1194079538606409784, 1194109219449780906, 1194157404073670419, 1194158623942315263, 1194186795912413497, 1194227160838199564, 1207581483275385888, 1207778331350685695, 1208597122271910526, 1208633098257961487, 1208684674375002355, 1208725575290781199, 1194312928732826777, 1194360786055939394, 1194671182522298232, 1211318388554541948, 1211503086389182487, 1211515539719764431, 1211647294048663611, 1209297243001089216, 1209438882312960574, 1209874699977588647, 1214416551049031581, 1212781555982689758, 1212781884533321784, 1212782068576970207, 1212943120234058184, 1212988103906410818, 1213234294073638196, 1213243182026184481, 1214446163446153916, 1214514573884191311, 1216368830809196854, 1216491606863222286, 1216537201081599327, 1213639680732181236, 1216808125673007370, 1217352037151780534, 1217472734879709251, 1217902305323239181, 1217920697687130827, 1217929100913118190, 1217938125458878631, 1217965703167491815, 1217969057016379785, 1217981445000394516, 1217982988443106277, 1217985139192087743, 1217988478801006672, 1217990528142251530, 1218950194066386089, 1219586036682934891, 1220955208041043848, 1221529967983376053, 1221682323509508932, 1221731178597045771, 1221772306542938783, 1221783913320561293, 1221786960522269595, 1221791124409185312, 1221795341894990534, 1222326463184615240, 1222454061626610038, 1222934689831314279, 1222990569683405794, 1213905856071128936, 1223632234027887776, 1223667650427122081, 1223730488913094870, 1223755878475043521, 1223805162188634512, 1226565187491241376, 1214251533700841852, 1226920371682349466, 1227323538090252056, 1227347038479708753, 1227366399659654882, 1227376421498125786, 1227408357486805763, 1227433928422166966, 1227455323269537330, 1227466915192889802, 1227481122620404416, 1227484706988585342, 1227661042218866126, 1228101848627677563, 1228215951586678828, 1228228803849019765, 1228302326512216579, 1228829712773836232, 1228852523058937284, 1228896343269920075, 1228980511115423271, 1229548080757562963, 1229792540579665182, 1230238392441324801, 1214320768004897030, 1214390805493124682, 1230311393400889279, 1231657321858852570, 1231657527696515473, 1231705377342566863, 1231854773417586490, 1257155614111241212, 1214394724492677057, 1214407671406182460, 1214407895900581185, 1214408000128237176, 1231867779577726835, 1231957401047903224, 1257361676754757199, 1257380118466200288, 1257382379096569869, 1257931094690462511, 1258109724729295809, 1258494104272382995, 1258506299749502699, 1259170001967660702, 1259224077617780583, 1232521529396138540, 1232674352095743305, 1233175269619211513, 1233279848996305265, 1233301339952806429, 1233468483343255934, 1259392220091411155, 1260598674331608934, 1260757512101389196, 1261080426952221841, 1233988933769630192, 1234037846504823452, 1234173393022273608, 1234605489892365178, 1235487639570720937, 1236157349756437074, 1261421684986126909, 1261673999298971267, 1261718315461631752, 1262258790992685156, 1262369374479364929, 1262787630979448673, 1262932635774970315, 1263752810248699399, 1264290532326488659, 1236286937269267430, 1236305819243648388, 1236308834830067086, 1236765439430871433, 1236870076179595575, 1236875180425924953, 1236996554115021572, 1237443157689096307, 1237483328485882381, 1237616852495526769, 1237621692804609310, 1264410961280387403, 1264947265705367166, 1264978326687375990, 1264978346120047412, 1265701962680660966, 1265713813279650067, 1265856345348954945, 1266477269462573632, 1266525130937539715, 1237685862842036245, 1237695729900365725, 1237702795600914486, 1237708481772340314, 1237758784945891465, 1238892421058809836, 1239108602127896668, 1239637851821631367, 1240686572776194318, 1241993728395988534, 1266593751112680720, 1267344104805288539, 1267440297496080610, 1267856449843592794, 1267863853974828921, 1267912358660233723, 1268035283137815749, 1242571860995742026, 1243170796218874665, 1243364844305576333, 1244091142998620608, 1244317297172390794, 1244636746677987067, 1268671630900869265, 1268842115808501232, 1269365159333474366, 1271523875129170373, 1271720744152892783, 1244708534903748569, 1245415208528617193, 1245424407973210514, 1245549360202547947, 1246840598248097088, 1246899383997535346, 1247013264722070801, 1247218798872059886, 1272371416464486670, 1273034369814996072, 1273791688272805308, 1273884094349697937, 1273915376791991136, 1274296134887203795, 1250866959009586912, 1274547764604623716, 1274559703614536490, 1274611907631383770, 1274613688162700215, 1274772038331619806, 1275341370879423180, 1275505998334073577, 1275904232747210514, 1275996830548257064, 1251087164893336128, 1251278845381517419, 1252045407186534259, 1252172708477749675, 1252691630467656627, 1252706809156234642, 1253028370046862941, 1253378766872058786, 1253447719812431481, 1253560186404175207, 1276244251868772948, 1277636988557184485, 1277731534181126280, 1278229944072349459, 1278364866907053971, 1253733176449330034, 1255609637259430098, 1255797807566238474, 1256308621632912145, 1256566065060272684, 1279705569984950325, 1278395181263112829, 1279211672454165119, 1279463731852675674, 1279558795865919959, 1279607849322776151, 1279622572559088418, 1299980490514542531, 1299981592718913476, 1279841508408571445, 1279846460432275443, 1279853545939296566, 1280022748715624318, 1280414729500201371, 1280453963427112295, 1280578877323887420, 1281741221260572620, 1281872336471406164, 1282128793970050088, 1300057016747534203, 1300192232171096375, 1300780009764347071, 1301461045613952909, 1301482640515514012, 1301483600436958239, 1301945954691358962, 1301991803651928230, 1302768431885805573, 1302819947557473340, 1302830304481173252, 1282605042203340372, 1282667476598690441, 1283481045269095552, 1283955325793432464, 1284025206447637451, 1284028137199662761, 1284030675495117292, 1284565992298040675, 1303535450225069353, 1303629338318042448, 1303684848557611690, 1303697778284649701, 1304234487941650297, 1304281027100383633, 1304367309459648642, 1285315337747020211, 1285512258034966352, 1287014378125230463, 1287078040786858269, 1287595773378505914, 1287642033924279877, 1287644585826592943, 1287699666565443162, 1287748269942318281, 1288262491325021961, 1304841587626378632, 1305794432068587489, 1305815691733520799, 1306376515094914292, 1306419134406424306, 1306440814385183490, 1306481534643361380, 1307294989545668848, 1307815069679797488, 1307831240591494833, 1289075787499379023, 1289214257663825244, 1289824728471262528, 1290517061183383389, 1290563214435577069, 1291251710503494047, 1291259652707784365, 1291269475978158159, 1307833513289228085, 1307916686534686272, 1308624982526462277, 1308709273160635616, 1309257512878376838, 1309947502387743827, 1310770797235274454, 1311448602032314650, 1291282523485547227, 1291289799583179150, 1291298472864133619, 1292146705161109184, 1292658022484131506, 1293893214249848369, 1312123815064741366, 1312134383997417255, 1312198150197329270, 1312900433102820040, 1312904549405686861, 1313003671121552359, 1293953797944112510, 1294019865449183848, 1294022767661265187, 1294276786465921429, 1294412324082815549, 1294732956980910802, 1294796121136489775, 1294859458229074166, 1295008614057577760, 1313101447993556449, 1313107320635037652, 1313113067129078372, 1313596943187042083, 1314288376198959952, 1314325297932615007, 1295517957839778358, 1295606706140798565, 1295633813431927936, 1295853066036349279, 1296381475049534016, 1296390135615705479, 1296846633181172315, 1314344165399511002, 1314351269020365215, 1314490303546258762, 1315181828655043954, 1315227104122384263, 1315327981665565213, 1315738290123518468, 1315761013614017712, 1296971850219891553, 1297148939963358992, 1297506389120781008, 1297653047024275377, 1297668926728482984, 1297756486619049622, 1297785524499187085, 1297876542259759498, 1298563984146933671, 1299093032917401688, 1315977648386627900, 1316062065781883893, 1316533145424796463, 1316562687034928385, 1299219448222323136, 1299849539939060028, 1299963381573911983, 1321009958845385576, 1321025213984912316, 1321098805848375002, 1321621082823620273, 1316694999196868743, 1316801858205906771, 1316880410136989665, 1322509130335522001, 1323082902703648038, 1323103342484247859, 1323108152903122644, 1323230692970733332, 1323781225773771898, 1324452788295869104, 1324522499010558557, 1325320780552131972, 1325340442278987634, 1325477339360487826, 1317890805478642202, 1318576470347265316, 1318692457368220905, 1318784089576003032, 1318852840564995081, 1320993793701045085, 1338989456383343007, 1339126927028092247, 1325628211350616571, 1325973690960837961, 1326270504065555888, 1326643520933055178, 1326724096440188804, 1326761324718557097, 1326820758829097941, 1327610103574765126, 1328093504710846983, 1339129256232812275, 1339141688186992945, 1339149536889460738, 1339159423443968097, 1339171854603571289, 1339304831506083989, 1340138537200486643, 1340401748933997465, 1340440393292487822, 1340450441110378619, 1328205032556559595, 1328240484692200913, 1328772308418377392, 1328779125603693887, 1328806380414897867, 1329048135628604219, 1340636411007510030, 1341106961457316020, 1341108200015362423, 1341894915182929412, 1329765995507211023, 1330358189512747073, 1330385267148754308, 1330884618680364469, 1342572261839752983, 1342574699614106972, 1342637954879367708, 1342688066282508702, 1342714493458933686, 1342753998603627779, 1342773596490732195, 1342776902401421742, 1342781485266097769, 1342789540408564951, 1343346821815050219, 1343413014556904820, 1330996532745012421, 1331477430624757427, 1331919567944471532, 1332552396079150793, 1332634200987137979, 1332702592077991900, 1333282711751266436, 1333357734817681182, 1334032853580529300, 1343511677747927314, 1343686121121971588, 1344190373041294623, 1344196928646775731, 1344740407935397888, 1344816873774495533, 1344823193736806609, 1344844977329208667, 1344906319015942126, 1345111860784844135, 1334090265368720210, 1334102352606935100, 1334240677227244317, 1334272020575508905, 1334543366579807313, 1334636503232011923, 1334646270746352378, 1334668605695304642, 1334674042387588224, 1334721478605903218, 1335316581134350683, 1345349949337738366, 1345472608739903169, 1345498154358130374, 1345526172416472778, 1345556924875689103, 1345593425317124542, 1335570188619059817, 1336041214498149874, 1336212495254166382, 1336220332692733321, 1336270932708699266, 1336462816126288377, 1336854663663745192, 1336862000696501509, 1336871322624747952, 1345768158630817040, 1346254428930169265, 1346356948909540365, 1346528170418792710, 1346594048941288471, 1347181098602361395, 1336934547547064533, 1336943390444240272, 1337569326480228729, 1338135301389840576, 1338260248024769690, 1338448551987283771, 1350857440804188101, 1347811123954275649, 1347881259077484850, 1351262123586304425, 1351272053360808430, 1351284820519349761, 1351290301886448824, 1351294011082384050, 1351302633364076690, 1351455655877211913, 1351493666057934078, 1351496852205078127, 1348437505366791867, 1348687331665302253, 1349059986101840643, 1349145251486903063, 1349178912677950352, 1349209672171947022, 1351539375602298097, 1351645154243155978, 1351659072335033319, 1351997347881613135, 1352075152888015073, 1352092070787155488, 1352098727457410161, 1352223747164241456, 1352319160192098450, 1352945524957502121, 1349233131509506893, 1349238669235464370, 1349261955129573000, 1349280133699515789, 1349289866533676679, 1349292485816234625, 1349336283390581473, 1349360056557167811, 1353495008046007005, 1353511828025442645, 1353511913213150385, 1353512233909969538, 1353515291513226895, 1353517056640339487, 1353517672300455253, 1349404120470429129, 1349501052462712380, 1349906548984578933, 1350050965803362516, 1350683150309338060, 1350694901269365355, 1350704694775497715, 1353610011267605574, 1353616078765017075, 1353680577398709228, 1353831020797026747, 1354139981539751020, 1354182115083490535, 1354198254370535190, 1354271961871021242, 1354280243385051934, 1354287187257041842, 1350809073039465540, 1359972998250970942, 1359978882029822062, 1359980931485345735, 1360316936829834236, 1360322103669864742, 1360323992175947701, 1360328126102625309, 1360670388197753434, 1354299077415816489, 1355075446906385054, 1355251811900902130, 1355317716135295082, 1355539412021977467, 1355563006006157558, 1360912767206541429, 1360964459477275660, 1360971349938711335, 1360979783954151484, 1361399051122525278, 1361542345237595010, 1361599240863979345, 1361611678638605813, 1362069284714243006, 1355767346943830614, 1355813162837081504, 1356269141510923430, 1356287891272895542, 1362069310055124724, 1362098243021589875, 1362102017993442586, 1362112197604955543, 1362114818930196721, 1362117550692648947, 1362124197740552890, 1362126368689490123, 1362200893158496271, 1356290905536243971, 1356454335264497980, 1356511895797928756, 1356526723381143238, 1356784526184832339, 1362518031001897841, 1363032277989558235, 1363056913187975043, 1363063118684312899, 1363069078465789326, 1363645110678408300, 1363719144045591776, 1357389604278680597, 1358101732673694705, 1358122865707419750, 1358133145122222306, 1358151502631976046, 1363771633511251110, 1363795213337978305, 1363873562452756929, 1363939681345638896, 1364163399760087653, 1364176866870145727, 1364186396690828405, 1358882349176180617, 1358916128017498979, 1359223003605730811, 1359255239937477474, 1364192188138760641, 1364384423426928523, 1364406083987810151, 1364480825953775275, 1364488503783488263, 1364515630628172433, 1364635286640479993, 1364642608307474895, 1365893928883912698, 1366033048567818030]"
        ],
        [
         "2",
         "host_about",
         "object",
         "3683",
         "46.5",
         "[27116, 49656, 426097, 495857, 142085, 617429, 740308, 740310, 753936, 798826, 798846, 798869, 899373, 311472, 906617, 1034213, 346257, 1100254, 366808, 1834997, 1866670, 1295650, 1922670, 2116417, 1583452, 1604617, 1615895, 1665038, 1716615, 1753171, 2789898, 2207546, 2873890, 2975771, 2981202, 2363690, 2984300, 3003073, 3007237, 3007613, 3037526, 2366302, 3082139, 3169118, 2402601, 3195851, 3195989, 2510812, 3323891, 2624054, 3336816, 3358802, 3382998, 3383300, 2753359, 3700166, 3726455, 3589795, 3641725, 3649205, 3664940, 3680697, 3682671, 3803768, 4725205, 4798589, 3838589, 4012810, 4947604, 4949254, 4982513, 5025859, 5109256, 5188340, 4019505, 5267638, 5302362, 5317049, 4118238, 4141116, 5393506, 5425891, 4148935, 4169522, 4211904, 5445033, 5476332, 5513695, 4246816, 4256418, 4272967, 4275704, 4297779, 4301644, 5518606, 5568794, 4332045, 4408634, 5599591, 5600945, 5608107, 4487570, 5679367, 5691428, 5715910, 5724915, 5734857, 4514733, 4533866, 4560040, 5776201, 5809349, 4600925, 4614539, 4626689, 4634873, 6663734, 5971984, 6682798, 6712260, 6741034, 6012249, 6017071, 6030597, 6782983, 6035398, 6061972, 6791981, 6793335, 6828778, 6863620, 6122375, 6917108, 6188859, 6933594, 6987387, 7000071, 7018697, 7028338, 7132497, 7140675, 7140959, 7212771, 7223658, 7236712, 6360811, 6388042, 7238292, 7239705, 6443733, 6484622, 6488939, 6514655, 6521535, 6530817, 6552418, 6552897, 7359491, 7377975, 7400250, 6571055, 6630468, 6635001, 7624650, 7655457, 6650271, 8301935, 8316114, 8363189, 7682178, 7718939, 7848012, 8397733, 8423436, 8442335, 8450259, 8547860, 8547877, 8547913, 7912117, 7917724, 7923840, 8004575, 8019312, 8110137, 8561397, 8637296, 8678116, 8706007, 8168561, 8196684, 9741322, 8713991, 8736169, 8748454, 8773861, 9741873, 9747748, 8883521, 8978848, 8985892, 9748627, 9763587, 9801176, 8997441, 9044935, 9058492, 9104416, 9821595, 9878674, 9889903, 9166645, 9194369, 9196021, 9221588, 9226520, 9233701, 9917537, 9983438, 9988301, 10004997, 9269272, 9304289, 10009859, 10027171, 10027261, 10027597, 10046189, 9458326, 9517420, 9643656, 9673914, 9675219, 9696001, 9703606, 9706595, 9727843, 9728717, 10953865, 10976716, 11000438, 11013793, 11030786, 11092920, 10269202, 10279818, 10321107, 11112146, 11177317, 11193552, 10361196, 11234583, 11267714, 11299645, 11351234, 11352211, 10530687, 10538509, 10579776, 10600735, 10674585, 11373018, 11376168, 11383366, 11447312, 10724090, 10736941, 10749341, 11470465, 11496924, 10785749, 10795221, 10797928, 10828508, 11549083, 11560478, 11600028, 10842594, 10848085, 10861511, 11672760, 11696419, 11791588, 12200103, 11805235, 11837021, 12260581, 11934208, 11938988, 11943839, 12356453, 12003533, 12013950, 12078618, 12371124, 12395018, 12395830, 12107979, 13229486, 13273474, 13280248, 12505135, 13309034, 13320881, 13335877, 12601531, 13371298, 13402104, 12652039, 12719177, 12750702, 12818221, 12822904, 12860900, 13458293, 13486416, 13518885, 13521294, 12864747, 13557482, 13559779, 13593769, 12965595, 12983557, 13628173, 13648765, 13729998, 13743690, 13746483, 13755982, 13809334, 13122321, 13123956, 13818173, 13824564, 13854803, 13907155, 13163877, 14132224, 13966111, 13984636, 13988827, 13995957, 14174162, 14174314, 14215352, 14002063, 14082779, 14245091, 14285734, 14129491, 14311773, 14342515, 14366208, 15192913, 15247390, 15251866, 14413161, 14440594, 15279977, 15295568, 14498324, 14500334, 14500851, 14509329, 14509523, 14521296, 14604853, 14617664, 15402674, 15435386, 15445766, 14623672, 14670475, 14680012, 14723841, 14734523, 15517573, 15526599, 15598064, 15607868, 15674114, 14868532, 14880878, 14881199, 14923946, 15748398, 15798810, 15800196, 15800362, 15812296, 15812750, 15863506, 15003983, 15020296, 15976595, 15993926, 16008041, 16044516, 16046081, 16061001, 16068452, 16075263, 16142745, 16172771, 15083670, 16472433, 16185520, 16227031, 16280920, 16511845, 16541087, 16551579, 16574582, 16291922, 16305548, 16370889, 17275936, 17297524, 16577106, 16591384, 16597558, 16606262, 16670834, 16696794, 16700069, 17395156, 16730931, 17496200, 16774862, 17557031, 17564312, 17566689, 17568367, 17603602, 16848003, 16878221, 17706151, 17723488, 17741447, 17801722, 16891277, 16904707, 16913103, 16913356, 17836336, 17846101, 17847236, 17852884, 17870233, 17888379, 16937323, 16938998, 17935202, 17935819, 17942887, 17972358, 16960419, 16969709, 18016219, 18065626, 18075009, 18075425, 16984763, 17003338, 17003368, 17003506, 17005663, 17018367, 18121124, 18146188, 18171986, 17049214, 17074337, 17083555, 17104230, 18189381, 18219060, 17144987, 17145471, 17150650, 17150866, 17175856, 17182284, 18276766, 18281647, 18310068, 17217098, 17221992, 17242924, 18322676, 18398473, 18403345, 18403998, 18404123, 18404739, 18454685, 17272157, 19572982, 19582407, 19612812, 18456546, 18468430, 18497574, 18512662, 18517212, 18517817, 19688849, 19719351, 19727876, 18541756, 19735050, 19748588, 19774048, 18619715, 18622861, 18622990, 18643951, 19838910, 19855317, 19897801, 19902640, 19926827, 19935227, 19955534, 18831422, 18872817, 20061484, 20062559, 18885327, 18973688, 18994854, 18996187, 20065575, 19060006, 19111973, 19138743, 19147231, 20226504, 20312565, 20314274, 19170663, 19241890, 20380057, 20382344, 20409637, 19405702, 20512997, 20522486, 20533478, 20533903, 20537572, 20546395, 19443703, 19446735, 19453484, 19468211, 19496104, 19512069, 20702393, 20805675, 20871712, 20879280, 20879485, 20883898, 20759436, 20765179, 20916104, 21048020, 21049149, 20769850, 20772508, 21103512, 21131273, 21158987, 21974382, 21989759, 21991820, 22022023, 21180693, 21249126, 21250434, 21250871, 21301149, 22073177, 21365241, 21390213, 21430735, 21446002, 21466078, 22204327, 22216810, 22222095, 22246395, 22276088, 22285718, 22323438, 21470390, 21484487, 21524052, 22340605, 22394279, 21550376, 21574104, 21577826, 22429748, 22446362, 22448750, 21713917, 21746738, 21761595, 21794530, 22525586, 22530630, 22542097, 22545096, 21824763, 21834014, 21845184, 21846401, 21848114, 22549377, 22569393, 21905822, 21921795, 21924470, 22625706, 22642183, 22646585, 22905928, 22913874, 22915880, 22916390, 22932425, 22939568, 22699060, 22721491, 22955557, 22956459, 23011931, 23012039, 23012144, 22726601, 22726630, 22739797, 22743540, 22769652, 22785890, 23050366, 23082744, 23085493, 22811208, 22811791, 23116862, 23118034, 23119771, 23122806, 23160990, 22896240, 22896293, 23835234, 23835548, 23836753, 23851167, 23303164, 23318035, 23897109, 23933137, 23936405, 23955078, 23319025, 23320010, 23321103, 23332524, 23957027, 23957965, 23423438, 23512302, 23991213, 23991350, 23639309, 24048999, 24051526, 24052414, 24053213, 24054571, 24055315, 23758349, 24090485, 24091946, 23807972, 24154421, 24610567, 24638284, 24694620, 24195364, 24243891, 24727118, 24741955, 24744427, 24276039, 24747737, 24753329, 24766067, 24819360, 24844059, 24844514, 24332391, 24351388, 24365175, 24844608, 24844704, 24844838, 24863203, 24878685, 24885311, 24886682, 24901125, 24367745, 24369371, 24369982, 24385633, 24438480, 24439560, 24441974, 24903402, 24905382, 24907795, 24934520, 24942363, 24482113, 24493720, 24529736, 24992475, 25000306, 25000708, 25013963, 24537467, 24547573, 24563383, 24566287, 24589133, 25074387, 25080491, 25095242, 25120648, 25122399, 25674378, 25126871, 25134881, 25220103, 25245252, 25250080, 25251874, 25255457, 25764271, 25259441, 25285290, 25312777, 25778576, 25820788, 25374585, 25390855, 25395761, 25402893, 25416144, 25849656, 25910699, 25928509, 25966263, 25988358, 26002249, 25510599, 25528121, 25537984, 27177981, 27184934, 27197120, 26032582, 26115813, 26122914, 26130991, 26150279, 26194953, 26211358, 27271176, 27304289, 27324465, 27349334, 27358739, 26240693, 26242197, 26265990, 27426154, 27451744, 27454257, 27454540, 27455391, 27506451, 26341997, 27515222, 27534086, 27534273, 27539099, 27576962, 27599571, 27600068, 27605918, 26418427, 26443484, 26505287, 27615894, 27617451, 27618661, 27644378, 27650684, 26550162, 26560007, 26563089, 26591718, 26595055, 26619811, 27712250, 27715289, 27840473, 26687640, 26706440, 26714398, 27869564, 27876076, 27891542, 27905378, 27939676, 26757881, 26794701, 26797487, 26803416, 28000910, 28006077, 28025140, 28040826, 28068007, 28071011, 28072982, 26803904, 26851904, 26884566, 26914044, 26921746, 28073916, 28074333, 28074339, 28075548, 28093451, 28095591, 28117126, 26940647, 26979375, 26998491, 27011653, 27070576, 27096532, 27096535, 28125365, 28126556, 28144974, 28194187, 27165598, 28460453, 28502404, 28300442, 28351818, 28352967, 28379918, 28518319, 28560731, 28594104, 28403502, 30220513, 30231607, 30231817, 30241205, 30243711, 30244031, 30244448, 28678045, 28706771, 28820537, 30244676, 30245612, 30265360, 30387364, 28857743, 28884005, 29004368, 30416763, 30466981, 29066989, 29072174, 29075590, 29176552, 30467176, 30517849, 30622866, 30753359, 29202871, 29305588, 29305593, 29334993, 30810822, 30897412, 29346806, 29411584, 29445862, 31040443, 29452600, 29481316, 31109572, 31186705, 29505444, 29603997, 31394802, 29648829, 29648972, 29774356, 31453021, 31461231, 31462087, 31462928, 29815301, 29868433, 31502664, 31524686, 29875942, 29973848, 31532843, 31579988, 31583604, 31586330, 31611142, 31615335, 31635445, 31636011, 30099273, 30102306, 30115794, 30116842, 32485799, 32488130, 32514116, 31775006, 31777107, 31814162, 32516665, 32543399, 32566300, 32569716, 31816450, 31820320, 31845241, 31845443, 31846624, 32581614, 32583761, 32598853, 32606418, 31950805, 31970072, 31972519, 31989293, 32658125, 32679785, 32707062, 32732489, 32737889, 32741913, 32827605, 32857874, 32859220, 32077336, 32903384, 32096274, 32118463, 32123005, 32135840, 32183486, 32204052, 32977122, 33010115, 32251649, 33025667, 33037671, 32301165, 32301497, 32312902, 32322762, 32323055, 32331811, 33040498, 33042217, 33090920, 33107044, 32346572, 32374623, 32390923, 33146077, 33159295, 33159645, 33160172, 33186011, 33187023, 33188751, 32455103, 32457263, 32463558, 33193032, 33206380, 33208866, 32463817, 32482996, 32485147, 33587265, 33265849, 33354782, 33357318, 33362370, 33600394, 33600966, 33601646, 33601874, 33604898, 33607897, 33631964, 33438466, 33444388, 33467763, 33672054, 33684857, 33517316, 33526005, 33553582, 33759620, 33863614, 34467028, 34486921, 34487124, 34487577, 34493941, 33869461, 33878014, 33922446, 33923459, 33931767, 33952729, 34532547, 34533144, 34004224, 34011767, 34634544, 34645522, 34735609, 34758493, 34769137, 34101770, 34107661, 34108248, 34119555, 34142591, 34791926, 34792174, 34792325, 34190201, 34190206, 34192937, 34194406, 34198553, 34198773, 34808908, 34832555, 34885033, 34203521, 34203604, 34204264, 34204455, 34214770, 34251058, 34918557, 34958447, 34992635, 35014667, 35028067, 35108525, 34278631, 34281543, 34301675, 34324101, 34377021, 35153719, 35156716, 35156950, 34383692, 34383858, 34412012, 34434571, 34437040, 35174672, 35178289, 35181831, 34440266, 34461208, 35927494, 35408588, 36009611, 36065811, 36066436, 36066515, 36068063, 36166689, 36171075, 36179882, 35453115, 35505069, 35505572, 36180022, 36202300, 36371874, 35591726, 35611685, 35611767, 35611837, 35637887, 35702182, 36432155, 36440969, 36464902, 36465605, 35706110, 35751504, 35787436, 35797366, 36500548, 36500837, 36592419, 35828091, 35835881, 37543558, 37546004, 37546481, 37563876, 37571985, 36678559, 36684564, 36723155, 36724836, 36753530, 37572062, 37572169, 37572170, 37572176, 37596483, 37612356, 36819331, 36826691, 36828367, 36868668, 36877821, 37706095, 37712572, 37713392, 37090374, 37108740, 37109186, 37144552, 37145917, 37173105, 37199977, 37796507, 37819069, 37819611, 37922366, 37925446, 37201663, 37313455, 37344350, 37352673, 37955200, 37961712, 37966054, 37966528, 37967012, 37978708, 37406112, 37428415, 37430951, 37445128, 37456863, 37489290, 37983070, 37983092, 37983602, 37984372, 37984387, 38009282, 38014881, 38030698, 38063535, 39040234, 39046480, 39047241, 39047477, 39067098, 38118898, 38120578, 38157591, 39074453, 39076767, 39249695, 38253029, 38253039, 38254951, 38315019, 39291439, 39311570, 39312344, 39315759, 39329674, 39351308, 38318795, 38342890, 38343775, 38366188, 38392723, 38412485, 38432009, 38445340, 39379920, 39384737, 39436425, 39462939, 39477493, 39543092, 38474548, 38562458, 38609894, 38712167, 39548029, 39666291, 39686632, 39687471, 38799670, 38860153, 39784999, 39813880, 39818205, 38916158, 38929046, 39868558, 39907998, 39947230, 39983194, 39986180, 40164437, 40798810, 40802656, 40802714, 40802792, 40802833, 40170952, 40335639, 40382806, 40391339, 40398778, 40855773, 40955902, 40426288, 40437093, 40449798, 40498328, 40960987, 40960999, 40961260, 40962380, 40962491, 40981142, 40981542, 40629507, 40629964, 40655941, 41017200, 41017509, 41042834, 41093996, 41110196, 41171708, 41186648, 41222762, 40748129, 40751721, 40753284, 40753310, 40753325, 41255262, 41260249, 41301335, 41379762, 41975306, 42014899, 42028830, 42029827, 41395029, 41442016, 42065887, 42082561, 42083098, 42089815, 42134215, 42194375, 42210003, 42246003, 41524507, 41543818, 41545510, 41575156, 42267709, 42268095, 42268453, 42268934, 42274988, 42291642, 42320548, 41656865, 41667095, 42379243, 42410278, 42418890, 41700863, 41739723, 41745595, 41745960, 41767719, 42454372, 42484615, 42489396, 42520067, 41783561, 41806415, 41818569, 41831435, 41832487, 41856089, 42525505, 42528143, 42600829, 42622043, 41857160, 41866641, 42656370, 42683930, 42700806, 42889990, 41894315, 42948966, 42949470, 42949852, 42950444, 42950678, 42953387, 42953701, 42953885, 42954148, 42969035, 42969557, 42972180, 43170501, 43201185, 43206223, 43241098, 42980923, 43019102, 43027979, 43029065, 43030091, 43030595, 44329556, 44339659, 44349156, 43363347, 43371652, 44397098, 44422140, 44470137, 43490117, 43667092, 43673657, 43699881, 43705007, 44677028, 44695533, 44721015, 44777587, 43722291, 43723325, 43742746, 43753717, 43786480, 43795744, 44838555, 44989039, 45051195, 45061997, 45064387, 45068417, 43824956, 43828270, 45077717, 45081296, 45085236, 45098414, 45108052, 45160948, 43865068, 43981320, 43982291, 43982784, 43983074, 43983269, 45168763, 45169223, 45199986, 45236073, 44091658, 45250837, 45263657, 45285426, 45296632, 45309151, 45333195, 44108039, 44108666, 44109777, 44113708, 45344683, 45426803, 45444597, 44158030, 44183891, 44274497, 45541096, 45554820, 45587664, 45587887, 45589908, 45786390, 45630011, 45698947, 45854194, 45854353, 45854537, 45854604, 45854763, 45854844, 45854916, 45728867, 48456554, 48558818, 48590770, 48622480, 45892797, 45892915, 45930962, 45968835, 48654720, 48727214, 48731134, 48767425, 46002803, 46003701, 46007823, 46137319, 46152898, 46152899, 46153754, 48843518, 48854333, 48896515, 48946643, 46190314, 46194163, 46254232, 46276603, 46276751, 46350120, 49121074, 49121468, 49182687, 49189358, 49217926, 49338041, 49360706, 46397806, 46402908, 46416374, 46563390, 46577725, 49409960, 49437666, 49472103, 49473576, 49477879, 49479499, 49491664, 49492128, 49493948, 46845130, 46897888, 47000870, 47025541, 47114343, 49537000, 49537754, 49544507, 49546834, 49555393, 49564950, 47557054, 47557219, 47557935, 47728762, 47729116, 49566392, 49568628, 49585966, 49609376, 49643264, 47729200, 47730270, 47778111, 47864169, 47877311, 47877737, 49699855, 49724193, 49731717, 48064566, 48129790, 48164332, 49771863, 49796015, 49844421, 48164953, 48210114, 48236866, 48253597, 49864876, 49876274, 49877079, 49892807, 49919782, 49919813, 48274439, 48325884, 48326905, 48327554, 48386322, 49919972, 49919994, 49920012, 49920208, 49920262, 49921572, 49921654, 49928259, 50531137, 50544079, 50558263, 49947115, 49963602, 50652574, 50655923, 49977945, 49979004, 50670240, 50678952, 50045590, 50049152, 50110305, 50685462, 50745430, 50765629, 50111308, 50123138, 50124062, 50131751, 50145836, 50151623, 50193833, 50770430, 50210266, 50267534, 50277320, 50278704, 50282187, 50282620, 50782867, 50838743, 50869109, 50883489, 50282790, 50303363, 50321275, 50345080, 51020170, 51021086, 50365785, 50366865, 50369547, 50386655, 50387792, 50387979, 51032653, 50411016, 50411461, 50429814, 50430545, 50436949, 50476273, 51158109, 51222022, 51254674, 50499569, 50499804, 50530201, 51428558, 51260256, 51261493, 51277384, 51277434, 51279783, 51447058, 51462996, 51463616, 51477815, 51552882, 51578632, 51301788, 51315391, 51609276, 51632822, 51661171, 51337137, 51356106, 51398216, 51398585, 51679035, 51679271, 51680232, 51680505, 51680796, 51680894, 51701652, 51401286, 51405464, 51416594, 52452429, 52486848, 51707039, 51721705, 51748588, 51763321, 51778405, 52528726, 52543837, 51838866, 52564047, 52665700, 51902574, 52709447, 51954579, 51955402, 52821520, 52880141, 52967339, 51956020, 51974928, 51976514, 51977348, 51978355, 52045203, 53058369, 53090659, 52059320, 52099077, 52188758, 53160128, 53162927, 53166714, 52210522, 52214562, 52214564, 52229109, 53177768, 53178120, 53178289, 53178684, 53182945, 52274786, 52305649, 52311042, 52315284, 52342782, 52351150, 53289111, 53349530, 53355275, 53355849, 52406996, 53920798, 53942485, 53949143, 53950078, 53985500, 54048617, 54052670, 53376320, 53378257, 53393194, 53395088, 53396142, 53452061, 53457166, 54079591, 54099920, 54121725, 54190204, 54191482, 53540421, 54287326, 54310852, 53554924, 53567561, 53603027, 54310897, 54323392, 54384057, 54384587, 54384622, 543920024783790617, 544598307308356419, 545571997799070573, 53605241, 548549712570151444, 53668730, 53684196, 53693019, 53717203, 53761481, 53776201, 53778473, 53778647, 53778874, 53778959, 53805309, 53838958, 556247389037736038, 552082839075588874, 552598739625135546, 557083097711580726, 557655044290328653, 558341383479677961, 576733228936794558, 558354372900246548, 558358474713544867, 559364982878228875, 560972584221437619, 561530170356097041, 577196644761909846, 577211329093488471, 577250991438354341, 577349344122666441, 577922926609095426, 578733875985469454, 561562263004179592, 562880147421746926, 580088244214424763, 580818006050015006, 580967599447208359, 563605466797542863, 564110174742194322, 564136748275034829, 564187290427143686, 565041623714487215, 582386687359485560, 583088604634338476, 583713103832034331, 583853450684689039, 584486014515026500, 567270769493238695, 567760208528736744, 567928627480686495, 585972256359510467, 587047216167742674, 588221543970048936, 568000592901985503, 568006535926176022, 568566195566921442, 569434428427083786, 569646563432496115, 589662381161603767, 590261016419385623, 590929873715915494, 590994641909116037, 590995643758892468, 591117347813552698, 591898693929546336, 592347982470496885, 569649864260904152, 570331828259631995, 572686280844206430, 572707998265964933, 592572919287113618, 592707754645165495, 592826951537097168, 593177931669440775, 572712196616250054, 572714080107064467, 572810515314788877, 593275100961612546, 594089365917358406, 594093439100105142, 594100451845180987, 594870886187041148, 573532983849394263, 573745881750599659, 573947382884128981, 574492497052969631, 574527589761846522, 594885669054763065, 595559992710815240, 597720226160529428, 597729839212072443, 598198775835652226, 598983216699963674, 599832163317711182, 599951124561300511, 575344810157317303, 599953954122664992, 599960874480251864, 600054882187947327, 600539604683995627, 600560914044751295, 644206080786098696, 646889079336474809, 602672645101860779, 603937629382350849, 603976984595737078, 604220363629138819, 604260482822965434, 647466608067971127, 647535233311874621, 605330197818075300, 605742570072896536, 606337751482983732, 606563692528576402, 607261494591952945, 607263364194835603, 607725528169620872, 609048579802688216, 649722510436714944, 609769681910660098, 611520264685430763, 612765023302821568, 612765847014105156, 650659032090973811, 651307995344592147, 651879072182429115, 613570039519827543, 613829058322990491, 614934732032197886, 614934870507151055, 616035025546642981, 652901064195388250, 653265503925724074, 653496642593289343, 653505634697257786, 653631951626460775, 617288024711107485, 617439460572975089, 619353029545541848, 619590774022810725, 654142489347639711, 654947667271912278, 655066974280065952, 655075687908994532, 620166199542434581, 620184340867020639, 622096418699106817, 656364882719960269, 656514440936923339, 658395685181196120, 658484007577658847, 622179922865015299, 622283583684103091, 625216334581438064, 625981899233545549, 627252839523134009, 659103728993295988, 659113230071628788, 659904292924629719, 660118133627583614, 660153007014881911, 628274913522437496, 630450386688784710, 631735479790897703, 632560918653550782, 632583363073735214, 632947973829892933, 633031022622438293, 661420937317454555, 661458283381695159, 662205556917707844, 662300740796783506, 633113328146471183, 633345089075450829, 633680495898473243, 634430345153961402, 662713001475262169, 636890804073849935, 637512253145750991, 640573567280884465, 665020007721838935, 665119794776701299, 665750835335936544, 671495131372804832, 671499391376551498, 671502439065092652, 671504996561751909, 671507608882429537, 671512068583594186, 667702716418352345, 668596858876544127, 672131284747383829, 672135415536352376, 672140113657565652, 672143125182310747, 672151723194425517, 672156581317155373, 672159140052101625, 672161053818689306, 672162738836687009, 672243929702750803, 672310889048894850, 669402056346324603, 669429158327575477, 669520835659391671, 670810159811552271, 670818602910601200, 673564140178408724, 674315072431841014, 674546147633902883, 674569538967351141, 674963595963342539, 675771717808310686, 675781261072441077, 675886588589149597, 676124249847272043, 670891936912821374, 671409777664608461, 671429106601589115, 700800607961930143, 701070952508622673, 701649857282382367, 701892479987084988, 701934175162430169, 676622832861312994, 676644879457973252, 677367806968065995, 678149110855811886, 678155501942692283, 701953378007299281, 701977587658872618, 702046908781094621, 702677186858001674, 703977423787898509, 704703007019555513, 680143510068064957, 680382294646644558, 680404409172012355, 684054396347155859, 684078989538318303, 684084670011962507, 704792162185138177, 704823709237371920, 705025743456821049, 705728973348245305, 684648170377799415, 685349629564161028, 686297002562728779, 689192267696277012, 707685095284513627, 707766567702469439, 709122746464370986, 709131023580834958, 709862458708445067, 710844027139907891, 712070010726766738, 712088225086724526, 689750119988606795, 689824068487648965, 690604781659802393, 712113708309561812, 713477900927771396, 714126852033632906, 692238368879076495, 692238480617104282, 692398783044089715, 692537214742615034, 692804245589277408, 693982479613860686, 693982759784846407, 694077603025700878, 717307136142220253, 720302944067925308, 694121108472381743, 697660155237369866, 698236909933574868, 698317441115511619, 698435356902430959, 722613468076068754, 724325457326019497, 724502932255405735, 724507690316470874, 724549473987401732, 724557091398859840, 725834754917319916, 728685803584988906, 728890964046035753, 699060617553994913, 699111408317041261, 699196151305745780, 700633952042507996, 745671384712444489, 747479976789475259, 748252587124786147, 729587024997178381, 730141827076853989, 731728604856416202, 731736814085613789, 733295475350541479, 733781379397976409, 748999259569336631, 749813414099128233, 750588178707338445, 751158143109279616, 751969699715339396, 752628637260565855, 753310481166218809, 753347476663289780, 733903430778204550, 734162303847528207, 735184034045468044, 735211027290420608, 753364564980913801, 753375256880920746, 753658382658746543, 736046032168257824, 736246608049823269, 736250094898977332, 736777448434039734, 736784695652120493, 736795151172005885, 736805444814902861, 738037610457749629, 755504844754180972, 755680100992226959, 757651089440922633, 757661897059939968, 758496009913958240, 741021028726017371, 741672381133061454, 741679202560302667, 743108839905315839, 744760241432823124, 763659057079094636, 764310092915656289, 764974252654522587, 765034532290081966, 765115847361336372, 765134524093655303, 765847308862875792, 745357636162474688, 775912049944262887, 776017551931515963, 776137738650288549, 776591356965362280, 766537876117575305, 766911081587895327, 778022836898556302, 778760030522550944, 779415375292006469, 779643016588887076, 781265526771651983, 767096988680060411, 767207716602797434, 767226058771020148, 767375778533131616, 769278389816356787, 770001167149616124, 770100466761547480, 781656400820592851, 781737326445891796, 781857183209484304, 782011476280631466, 770234819100793580, 770890386562069595, 771102841375133271, 773781107983535591, 782015579739657077, 782022798737573255, 782725347608725568, 785263471700434936, 785763643224543058, 786052910611603497, 774019596969224065, 774224422695537008, 774255331993683378, 808809388483068984, 809126253713807648, 810734295788932628, 810783260302369000, 810786599401829580, 810813581724765561, 786818313032849476, 787024808576386804, 787035882963178360, 787051557306213827, 787069739879614242, 787086719246637295, 787100134766105538, 787114207051158657, 787137463012612394, 787152902567157850, 787166134283194242, 812031717447117365, 812057349135611899, 812250035571362570, 814855414889006823, 815297886370890203, 787538400643290574, 787660053202814451, 787750536550792351, 788091239773689642, 789263892937239854, 817196070864448954, 817880002809882330, 818765424918233121, 790502699195998435, 791389619039426601, 792672677830396102, 794231794593585152, 819508498388778624, 819539247727625519, 819686286060935532, 820262868450185289, 820942402659816771, 821448422377181357, 796346204154078638, 798545380491637465, 800424008410493013, 822141404926991832, 822993737972241831, 823007908288694504, 823014133392593031, 823016630484369401, 825337934138804698, 801375635949961920, 801377482131067824, 803353283926130280, 805119376503411287, 825777015115759126, 825905289121674289, 825968119328381821, 825981186065631018, 825983269010993299, 826015019619079224, 826047483616533970, 826883287415861106, 805508815934337029, 806966476473135544, 806993795521964832, 807320200892607835, 807675656270226907, 807680416085116912, 807682586483941230, 827578886907841038, 827930555737544882, 828110412554619891, 828723869155900980, 830272643532171896, 830295690272706295, 807684208837043608, 808099177768162020, 808417325171281822, 808541034624144833, 808715678478646782, 837020906760941114, 830368920587858984, 830392552733062413, 830829706137135197, 831127753274195814, 831691520409327634, 831711271176721766, 831718327610589757, 837412305969886929, 837537615282643776, 837549115325763595, 837553108828232216, 837705048038302115, 832348174920426769, 833755394697249031, 833755497568520385, 833755799147288492, 834178316221644052, 834202136066435100, 837762490634918618, 838186518676478074, 834439683037202289, 834677097028847384, 834745477102851233, 838386442897398523, 839723882044471459, 840396603795249783, 840985079777351460, 836258811277577192, 854177158729918270, 854895394752828707, 854917936034491299, 855112419186889027, 856411208202489480, 856467542181321142, 856490703702491643, 856586904759617969, 856637911386147231, 841787759597854066, 841888739481482648, 841909187216059653, 841971128749332488, 841973199855693980, 842273158355099075, 856886228065557167, 856989932301371424, 857041354425621445, 857678029839780214, 858087028117335826, 858087207430831992, 842532162835415942, 842609402361008768, 842625185342811957, 842651622652738901, 858428226622396762, 858435821862344223, 843241556864366381, 843349915974519411, 844100912735676966, 861300482011602690, 861499260929792509, 861661837427552869, 862140883533006821, 862192021601842747, 844265941171279914, 844687796517264787, 862192686255082895, 862203366054529007, 863048625430991961, 863060688788943629, 863080243255275060, 863481131062423442, 864288950872962544, 844812999498842819, 845554659208037123, 845591766511332689, 846826581345715023, 846956915328628408, 865269458040469106, 867897797303173388, 867912884036811096, 867975551966097487, 868534836170655754, 868545762924393107, 868705760879930083, 868713422818072962, 848354916176388794, 868736218907035904, 869205671919598380, 869231838085684530, 869238282464501029, 869279126774254659, 869284533574566813, 849123002314292422, 849904983657757980, 849933300156773473, 849944099007595605, 849950138449124609, 849964179862466363, 849975026602526987, 869627659266304781, 870181205477950351, 872520823346293374, 872926879981497038, 873047147553161714, 852266244244830835, 853449515928544509, 853608602976265054, 873137106054981496, 874528213181534672, 875062299702523610, 854114673599318410, 902838024416038950, 903353074123333798, 903624796111466389, 903712253958386598, 875393448678687411, 875404758515284161, 876464992539127085, 876465103183674430, 876737438859153507, 877305202171757224, 877337207890881386, 904092188769783021, 904289194736080237, 904815514706557277, 877371955075798782, 877560426703064537, 877565948237245164, 877883129302152343, 905012196765426125, 878054612958383638, 879436462276999783, 905139769927877381, 905159704563578392, 905545154629673166, 881717513059745594, 883334388025778039, 883369506670516018, 883722372069765402, 885494884138712348, 905992549109134714, 906464947432834918, 906643116722037339, 908063751050754608, 908072155149939465, 888985196169894689, 889924235833822968, 890263266100591276, 890267910299171211, 908076690966535721, 908082234890590614, 908315293073160121, 908436870584561413, 891301681210681370, 891829796508414293, 908449819355594566, 908452175534766030, 910188521167399633, 892660391744921000, 893384208471303725, 894235829450668931, 895405068711035135, 895533743932423676, 896367214604128183, 910767158398302230, 910770771147862791, 911421627235307114, 912080631363242453, 897716429609769992, 898304615063406289, 898385302247969606, 898426758397260683, 899066001576727094, 899995019859349143, 900081867917024839, 913121427216660561, 913774733482891712, 913834451119159784, 914194829352494823, 914431844128854194, 900694040497036973, 901173744964663231, 901220569668578885, 901902513580921342, 902023029049298522, 902190326979096728, 902537206684030126, 915172406551275974, 916714871787682241, 902796436234701154, 918672890346234511, 918773555791503555, 920174207942910842, 920274471136901900, 917139700973873928, 917235959730901749, 918195938073113846, 920709515583972222, 921937676680235739, 922518017623739333, 922871303765413288, 938361691001930141, 938957902539867959, 938978623479288210, 923572537115837089, 941224079416161086, 941495631408511385, 924398117683958821, 924426459253112636, 925241440239476781, 925823773823038456, 926010749130496340, 942823290977208729, 943237197679571427, 944271976005026026, 944365278172774450, 944658448844841790, 944849497136470513, 944864906130280389, 926482508230438930, 926912588264512477, 927345244816756239, 946614265883675284, 928965379322878224, 946626388715172869, 946632698776696358, 947873384145289850, 947933991574104090, 929402775009837436, 929541383598891933, 930107334374544575, 931149512404648413, 931278979141870302, 950652966869341638, 950691937506631537, 933117763949256422, 933881419270448963, 950719478642181733, 950737274393220960, 951614983297274338, 951719417847697002, 952655126305481575, 953367306765802247, 934513609680640479, 954076553413529565, 954164963069001052, 954442410357334197, 954829424053217642, 954878492555481280, 935585069632792190, 936435014904055244, 936818428580437387, 965793369090690512, 965914381850927574, 955497035865727976, 955758591570449196, 956946155385346706, 957883333588482962, 966037914609141777, 967229455655252680, 967309901782694657, 967877549212113691, 968081321299636771, 969397623259486124, 957890980987243124, 957893892263871873, 957995381075738308, 958424743922064382, 958585586787746669, 969452306965200469, 969498170866937575, 970849587153571298, 970886587487280776, 971406619635037674, 971472398574360859, 972511720025286161, 972839130439275499, 973950257283187038, 959144274645126251, 959430649796714272, 961044770154930028, 961621342308529837, 974591584189571682, 974594943416279044, 974604118040248736, 975424943839869272, 975867185499408330, 975990456804470675, 963050044635105558, 963479513938135704, 964479500980551345, 964545291656667227, 965691625871205465, 976591198222655115, 976701813768523463, 977373503620549565, 977423454228913834, 977466719617229854, 977494666619872099, 977500059155237747, 977560444967163208, 977989660719636713, 978294202617560222, 995627545925197347, 995736283272769462, 995806616009362590, 996534853014726550, 996972606142000803, 997722545235645943, 998473521161598157, 998602507354109624, 978837903500153696, 979473953622655549, 979706581208557424, 981578902412218090, 999257233946219462, 999294647659702307, 999787784392835696, 999891247297923594, 981827184820246911, 981831074726899704, 981834607948611671, 981842783730361729, 983181846764875194, 983312929727986437, 983414897935365003, 983802528013899941, 983992533347290706, 1000418518731118148, 1000690458044999604, 1002880369699501348, 985508657125767237, 986217353015123077, 987698851343710249, 1003480825894641507, 1003489913948389382, 1003538235264847521, 1003557784400752978, 1003573037870763972, 988343383292292645, 988985145352937799, 989119824431350770, 989729617903970676, 989861195408373493, 989875631337861623, 1004091672108614178, 1004102127557969514, 1004106881106958092, 1004108061436455142, 1004109262864251827, 1004111590810751082, 1004114274888062692, 1004227587811382190, 1004270544212982744, 1004380762333076538, 991065164307680743, 991215175367724858, 993163746827215537, 993348403313947626, 993589349889972325, 994567561554408677, 994575834389133038, 995104320333126876, 995534244174658204, 1016429062783114472, 1016666101605849059, 1016695412752790117, 1017526500034376204, 1018109244059389874, 1019462463298740195, 1019852140949643968, 1020910405669979468, 1020944684221145146, 1022449939961900736, 1007057640438279826, 1008684052220675280, 1024644524670828776, 1025279883239618667, 1025315305235882115, 1025373089515657601, 1025908460539009403, 1010626665790591601, 1011437386212825550, 1011521198870253251, 1011521344667460788, 1012142624324086388, 1028899099510499738, 1030357275773436331, 1030434195089854163, 1012849728019228568, 1012948012112886702, 1013007350235163272, 1013477164521842536, 1013547145409846009, 1013572248656244699, 1013609886362396710, 1013661530142538034, 1030918381874375475, 1030971188131175279, 1032636780079013993, 1033104815769384346, 1034011243196493734, 1015822132938097557, 1034199820403160127, 1035547005273198010, 1035561989289681415, 1036004634532309331, 1036181568733815012, 1036821821993884019, 1039091256868952584, 1039129928812824920, 1039196023195025271, 1039571295772559304, 1039586921041220381, 1050966328298621354, 1051526946971130034, 1052061887145847787, 1052848162775982712, 1054283059928628507, 1040314425192268077, 1040562862317431556, 1042692441715633671, 1044095732521219409, 1054354781377123983, 1055077288211774430, 1044332459456152240, 1044928939487856096, 1045438950210180404, 1045565657092599489, 1055922883069407530, 1056019517969512472, 1056346921196261708, 1046193968628087299, 1046236315431073541, 1046901532589310562, 1047031147474382514, 1047051915405690952, 1056537359199273052, 1057763184406505700, 1059239607552761338, 1059406484640216493, 1059965658285244867, 1071730985957647632, 1072184983215544612, 1072367144446454366, 1072687785531220479, 1073995144896394653, 1060046432179361859, 1060101140084931898, 1060591816883871111, 1074578377126931085, 1074724472918633842, 1074766595126488175, 1061293727679955622, 1061339610794335894, 1061370793949648000, 1061617640960212690, 1061646352535806917, 1061693257292994065, 1075271561141699038, 1075404746347732752, 1075475518106635125, 1075899004294000726, 1076792641188303871, 1077275201121651598, 1077351905825045387, 1061785848048545610, 1062392678699862600, 1062429737045035595, 1062489140787132231, 1062816199600080449, 1062942791752718777, 1062948632770302145, 1063620658715685435, 1063711446933352297, 1077357500575659428, 1077608680774470022, 1078979215715393851, 1079535330656749130, 1064254415875765347, 1064288645299628696, 1065077805203129162, 1080213611798243209, 1080356162218464102, 1080716828324878232, 1081097650992443024, 1081100052392959714, 1065166625170314642, 1065270735859841037, 1065858804063666232, 1065950967909568203, 1081632129065929697, 1081639620459897457, 1081645187911000484, 1081654203726665152, 1081696258613834994, 1081750509376828097, 1066654507859293403, 1067039612488155883, 1067200416427834512, 1067301357031315949, 1067313770272762919, 1067395816890425963, 1082001594459316931, 1082012731488386255, 1082017080151506523, 1082371405548811262, 1082383658041958940, 1082390283108531872, 1067973942357207003, 1068023657377857173, 1069351932069861591, 1082528333776039962, 1082586528247504235, 1082600692845020362, 1083272689233666973, 1083371516537937524, 1069360839089815303, 1069365834784687506, 1069660008339950937, 1070005023752299930, 1084703045257652328, 1085237995731820471, 1085345655421747380, 1070164219123199142, 1070516367301049544, 1070985796475344588, 1071097983747724332, 1071113243356019555, 1071144011832573408, 1071151614174742845, 1071697268573341999, 1085396509266939914, 1085401248959818110, 1085553658892217181, 1086118471880871987, 1086149177226686271, 1086753788607387004, 1086770215920863757, 1087488145006164690, 1088296493704370054, 1089009009416768024, 1086901848334059227, 1099975087529148383, 1100600080948841073, 1101262827471415230, 1089345353154687521, 1089863623129232097, 1089899200633925733, 1090402160443482826, 1102311302259528119, 1102781648523342973, 1103439538753990772, 1104258151598494329, 1090664426013303025, 1091205119120581818, 1104275903116665608, 1104374296577941335, 1104534029772761431, 1104877451689814299, 1104943560066501934, 1092043940253574173, 1105201027328574575, 1105791276366011491, 1106372780749038706, 1092509799943587135, 1092658234267184172, 1108133075629673557, 1093422629862677911, 1108616579498418188, 1108664430193852629, 1109205470075258289, 1109405967906317608, 1110264814855184789, 1110690216493741810, 1093994938541897735, 1094089827087763695, 1094106221667200271, 1094108530533726106, 1110966470674419245, 1110992115486680037, 1111010461070353705, 1111486617919194397, 1111563715437318016, 1094110508637134278, 1094187742254829936, 1094696261496251616, 1094707463894949954, 1094911100730109729, 1095492629006120466, 1095680722928479303, 1096117002195008599, 1096180983776354550, 1113815978631089485, 1114426819454237937, 1114535091822626762, 1114981641809039543, 1115021895577378834, 1115076873477579483, 1115214562951108233, 1096395569424542855, 1097069327295116750, 1097070322057710481, 1097609988938042064, 1097656178690588757, 1116623694346383044, 1116666283299821616, 1116830233655898426, 1097666930364272186, 1097750148636109507, 1097964086263143003, 1099049195797151793, 1099159335168687500, 1117398303358327435, 1117852176088159838, 1118095953169898309, 1099442257438563717, 1099631111022405097, 1121016657341795019, 1121558428544105826, 1118629787407576324, 1118843758834034668, 1118857346632374823, 1119032112301503297, 1120304299036193519, 1132355087596960427, 1132425637187535747, 1132504502389202001, 1122281634469034594, 1122364198522681494, 1122392840695035584, 1122399049185051845, 1123165228728047206, 1123905994004758727, 1124378020875145813, 1124397389912228599, 1132512729864313080, 1132535354027633596, 1133055684949236137, 1133161855343308845, 1133207254571805076, 1133217599609383527, 1124485842929689569, 1124492622177133269, 1124495438924945988, 1125146165144986559, 1125319041767567129, 1125325978723893106, 1125336328680804504, 1125354079581425982, 1133240139943305054, 1134492764338355995, 1134532765975756746, 1134696171504382278, 1134740567393947669, 1134812688571147108, 1134845333276481551, 1134865077836165168, 1125361791086091128, 1125867583408871542, 1125883628946002900, 1125960333512610747, 1125960395875380188, 1125994643901705614, 1126012670903406806, 1126024346850122681, 1126098331522144173, 1126268462637280116, 1126684210735664943, 1134920632145199812, 1135368415024631914, 1135396132337109601, 1135442261452261940, 1135501787186532654, 1135538725764395689, 1135630967783011691, 1126705372749729269, 1126778646373414970, 1127368078645893759, 1127973028445723029, 1128051148370461241, 1136691724021653573, 1136845823569540725, 1136852730795878024, 1136858123606177859, 1136929591598530092, 1128054039761274911, 1128153872036940536, 1128174613484545936, 1128180673476262563, 1128184020949605416, 1128209450206518924, 1128228024760541758, 1128230340121806052, 1128233251453150564, 1128235554569507793, 1128237390188448911, 1128240619421385957, 1128244893720715302, 1128385786864587750, 1128659091413073167, 1137427488568986168, 1137565016314048592, 1138164411197049674, 1138269954969870776, 1138299913700669740, 1128961993694770392, 1129276668164500275, 1129489948474967452, 1129662021093935394, 1130170853222304351, 1130303866671637604, 1130363836773968721, 1138429185253970295, 1138486952683861857, 1138556910296298680, 1139062396754014137, 1139727893782652831, 1140436897707819435, 1130434089998644460, 1130514816412477011, 1141784279123343945, 1142530791009097271, 1142686760003174720, 1131576716639205009, 1131815996341157518, 1142861459710800431, 1142868077398602328, 1142896149641648145, 1143197638152214647, 1143437846695991382, 1144198234931817223, 1131969623898996999, 1146235880517350529, 1146387402833588097, 1146408450146450116, 1146481357864363038, 1146967219552598734, 1144821766157445572, 1144944626902829343, 1145441366649062175, 1146115656467471019, 1147046732275847975, 1147052347625052850, 1147529050389901865, 1146223316781299250, 1146231339027145342, 1166598260626742238, 1166608471265372040, 1166615885224184483, 1167176507878028232, 1167347270554946277, 1148630061800522800, 1149240637231609074, 1149778015887132245, 1149811395005690362, 1149962750368730287, 1167365697508427852, 1167830348239324058, 1168098030634623672, 1168226326013178689, 1168244036505164592, 1168277371767686103, 1150710839576490327, 1152019846632831609, 1152077860797986222, 1152363448044071117, 1152793607176917881, 1168611778427108912, 1168653956385179970, 1168661848204384440, 1168721636044581316, 1168723390906861902, 1168753062508853909, 1168753163797650032, 1168774751690466057, 1153612225066357985, 1154113653695836488, 1154226600204779461, 1154324351843059921, 1154841234616887068, 1154989947281270505, 1168881507668286002, 1168969358011979164, 1168972911901812737, 1169342306661893473, 1169425183385642388, 1169432943394301687, 1170178722891857155, 1170394717770733684, 1170825186334243827, 1170854399234085829, 1155155606336876991, 1155828232306536937, 1156539906392343268, 1156587191291523398, 1157194531288593044, 1157202043400531208, 1157209526428835716, 1170864864779567371, 1170871328389941136, 1171452435097412592, 1171615281440122859, 1172209757040344505, 1172250914248007077, 1172278837172804924, 1157222969827643276, 1157728025713025545, 1157865095488718274, 1157913647727309940, 1157923074158634629, 1158639976913028413, 1159424148238555260, 1172410194941860459, 1172562059163674708, 1172566257473982085, 1172586815208204155, 1172596554904547411, 1172630064597888210, 1172828773227753595, 1172848388665327644, 1160641054519460295, 1160822295644262337, 1161367709963860718, 1162176810246806116, 1162234984782680719, 1172950516850350787, 1172994750516779289, 1172996178721180315, 1173131287518642027, 1173291146798962773, 1173354396828920979, 1173684335686694156, 1173684881354469863, 1173704255859512740, 1173714667633262554, 1162258022825202943, 1163205960954070502, 1163533301836000065, 1163549899953888023, 1163567258235456449, 1163634272584094607, 1163661743530123646, 1163757644194471672, 1175326687873276423, 1175446147312298106, 1175491190445251667, 1175845318430675889, 1176243703534151706, 1176611240176030068, 1176856213237397157, 1164352900011086287, 1164578808118630157, 1165273971019095954, 1165748246198485341, 1177336194970006586, 1177441849917613272, 1177510105263894249, 1177598774116080060, 1166458327265737677, 1166477941706592934, 1166591109358510031, 1195464447227903520, 1177746757598157977, 1178049798694290654, 1178348172274801971, 1178755319313962804, 1196099164195351579, 1196319576516186855, 1179384168912145713, 1179575868350681906, 1179741567478389538, 1180333019198536294, 1180396755381678193, 1180936517203305433, 1181348934636153161, 1181703819290668716, 1196973694969902978, 1197149434393621614, 1181751405185138587, 1181759814482747145, 1181762279711828254, 1181764618430959046, 1182399275679927331, 1182403395263989574, 1183060360419152748, 1183137739271394771, 1197579341757133988, 1197636161043741489, 1197825523940817298, 1198287306785345437, 1200107229715429338, 1184226057349901133, 1185445861536095295, 1186144856813572111, 1186854254515013859, 1186871376064972508, 1200698556088566225, 1200840828324073036, 1201149021909417785, 1202315857404113736, 1202681302212481745, 1202775904346455729, 1202836942320413501, 1186923363290269938, 1186987367950913816, 1187074441604795501, 1187402454345151700, 1187612417234936864, 1188193356749216397, 1188584934136387294, 1189091917558426698, 1189209222632682160, 1203082640315563102, 1203349935492590819, 1203385114990860702, 1203385314187409577, 1203385650245229293, 1203612185366829934, 1203618602252003745, 1203638046145499425, 1203662558236163427, 1203671947084990603, 1189894175330842045, 1190623661096576471, 1190675367521625163, 1191292311758257965, 1191299676971606175, 1191399713058612161, 1191403492627432250, 1203684625533115288, 1203690261440734403, 1203693763649670830, 1204159891731303920, 1204240005221117556, 1204249760760152858, 1204368004985570774, 1204447007358485499, 1204894317379142355, 1204896907316844047, 1204927107282715076, 1205468699799158498, 1191405718417118299, 1191902737401465546, 1192036933105008789, 1192039872163570601, 1192060107472842224, 1192512449678618621, 1193346302951360022, 1205898816502170393, 1206990237100471298, 1207248751738611278, 1207358848156498275, 1193576729234847910, 1194034007644461284, 1194079538606409784, 1194186795912413497, 1194227160838199564, 1207581483275385888, 1207778331350685695, 1208633098257961487, 1208684674375002355, 1208725575290781199, 1209138608237195335, 1194312928732826777, 1194360786055939394, 1194671182522298232, 1211503086389182487, 1211515539719764431, 1209140488011093971, 1209874699977588647, 1212781555982689758, 1212781884533321784, 1212782068576970207, 1212943120234058184, 1212988103906410818, 1214446163446153916, 1214514573884191311, 1216368830809196854, 1216537201081599327, 1216808125673007370, 1217902305323239181, 1217920697687130827, 1217929100913118190, 1217938125458878631, 1217965703167491815, 1217969057016379785, 1217981445000394516, 1217982988443106277, 1217985139192087743, 1217988478801006672, 1217990528142251530, 1218111376246870538, 1220845510783223547, 1220955208041043848, 1221682323509508932, 1221731178597045771, 1221772306542938783, 1221786960522269595, 1222326463184615240, 1222454061626610038, 1222990569683405794, 1223730488913094870, 1223805162188634512, 1226920371682349466, 1227323538090252056, 1227347038479708753, 1227366399659654882, 1227376421498125786, 1227408357486805763, 1227433928422166966, 1227466915192889802, 1227481122620404416, 1227484706988585342, 1227661042218866126, 1228101848627677563, 1228215951586678828, 1228228803849019765, 1228829712773836232, 1228852523058937284, 1228865074470505136, 1228931183480447079, 1228980511115423271, 1229496563583052992, 1229548080757562963, 1229792540579665182, 1230238392441324801, 1214320768004897030, 1230311393400889279, 1231705377342566863, 1231854773417586490, 1214407671406182460, 1214407895900581185, 1214408000128237176, 1231867779577726835, 1257361676754757199, 1257380118466200288, 1257382379096569869, 1257931094690462511, 1258494104272382995, 1258607292694005717, 1259170001967660702, 1259224077617780583, 1232674352095743305, 1233042106340861086, 1233120891732354082, 1233127515652365234, 1233279848996305265, 1233468483343255934, 1259392220091411155, 1260598674331608934, 1260757512101389196, 1233995670486746142, 1234605489892365178, 1234741811181873825, 1235487639570720937, 1236157349756437074, 1261421684986126909, 1261673999298971267, 1261718315461631752, 1262258790992685156, 1262369374479364929, 1262787630979448673, 1262932635774970315, 1263752810248699399, 1236286937269267430, 1236305819243648388, 1236308834830067086, 1236765439430871433, 1236870076179595575, 1236875180425924953, 1237443157689096307, 1237483328485882381, 1237616852495526769, 1237621692804609310, 1264410961280387403, 1265701962680660966, 1265713813279650067, 1265856345348954945, 1265882383762684609, 1266477269462573632, 1237685862842036245, 1237695729900365725, 1237702795600914486, 1237708481772340314, 1237758784945891465, 1238892421058809836, 1239108602127896668, 1239782859853277675, 1240686572776194318, 1266593751112680720, 1267344104805288539, 1267440297496080610, 1267863853974828921, 1267912358660233723, 1268035283137815749, 1242528494463824221, 1244091142998620608, 1244317297172390794, 1244636746677987067, 1268842115808501232, 1269365159333474366, 1270204947703808205, 1244708534903748569, 1245415208528617193, 1245424407973210514, 1245549360202547947, 1246840598248097088, 1246899383997535346, 1247013264722070801, 1247130394594605799, 1247218798872059886, 1273034369814996072, 1273791688272805308, 1273884094349697937, 1273915376791991136, 1274296134887203795, 1247563026749995832, 1247767247013023645, 1250866959009586912, 1274547764604623716, 1274559703614536490, 1274611907631383770, 1274613688162700215, 1274772038331619806, 1275505998334073577, 1275904232747210514, 1251087164893336128, 1251278845381517419, 1252045407186534259, 1252172708477749675, 1252691630467656627, 1276244251868772948, 1277636988557184485, 1277731534181126280, 1278229944072349459, 1278364866907053971, 1253733176449330034, 1255609637259430098, 1255797807566238474, 1256308621632912145, 1279211672454165119, 1279463731852675674, 1279607849322776151, 1279622572559088418, 1299980490514542531, 1299981592718913476, 1280022748715624318, 1280366483795881661, 1280414729500201371, 1280453963427112295, 1280462337882268589, 1280578877323887420, 1281741221260572620, 1281872336471406164, 1282128793970050088, 1300057016747534203, 1300192232171096375, 1300780009764347071, 1301461045613952909, 1301482640515514012, 1301483600436958239, 1301680481923156555, 1301945954691358962, 1301991803651928230, 1302768431885805573, 1302819947557473340, 1302830304481173252, 1282605042203340372, 1282667476598690441, 1283481045269095552, 1283955325793432464, 1284025206447637451, 1284028137199662761, 1284030675495117292, 1284538550321022592, 1284565992298040675, 1303358406812164384, 1303392578818384151, 1303629338318042448, 1303697778284649701, 1304367309459648642, 1285315337747020211, 1285512258034966352, 1287519959500879451, 1287595773378505914, 1287644585826592943, 1287699666565443162, 1287748269942318281, 1288262491325021961, 1304841587626378632, 1305815691733520799, 1306440814385183490, 1306481534643361380, 1307036180687751203, 1307294989545668848, 1307815069679797488, 1307831240591494833, 1288364271305215259, 1289075787499379023, 1289214257663825244, 1290324869707896179, 1290517061183383389, 1291259652707784365, 1307833513289228085, 1308624982526462277, 1309257512878376838, 1309947502387743827, 1310770797235274454, 1311448602032314650, 1291370353213523358, 1292064096778906463, 1292146705161109184, 1292658022484131506, 1293484096047151924, 1293893214249848369, 1312134383997417255, 1312198150197329270, 1312900433102820040, 1312904549405686861, 1313003671121552359, 1293953797944112510, 1294019865449183848, 1294022767661265187, 1294412324082815549, 1294732956980910802, 1294796121136489775, 1294859458229074166, 1295386676069135177, 1295454675021443672, 1313101447993556449, 1313107320635037652, 1313596943187042083, 1314288376198959952, 1314325297932615007, 1314326268241180587, 1295481757304038690, 1295517957839778358, 1295606706140798565, 1295853066036349279, 1296381475049534016, 1296846633181172315, 1314344165399511002, 1314351269020365215, 1314490303546258762, 1315181828655043954, 1315204142966127203, 1315327981665565213, 1315761013614017712, 1296971850219891553, 1297148939963358992, 1297506389120781008, 1297653047024275377, 1297668926728482984, 1297756486619049622, 1297785524499187085, 1298563984146933671, 1315977648386627900, 1316062065781883893, 1316533145424796463, 1316562687034928385, 1299219448222323136, 1299229618052667749, 1299849539939060028, 1299963381573911983, 1321009958845385576, 1321025213984912316, 1321098805848375002, 1321621082823620273, 1316644160079858254, 1316647119689115416, 1316694999196868743, 1316880410136989665, 1322509130335522001, 1323082902703648038, 1323108152903122644, 1323230692970733332, 1324452788295869104, 1324522499010558557, 1324802418603204885, 1325320780552131972, 1325340442278987634, 1325477339360487826, 1318268701859570262, 1318576470347265316, 1318692457368220905, 1318852840564995081, 1320993793701045085, 1338618915226192231, 1338936212041546937, 1339126927028092247, 1325628211350616571, 1325973690960837961, 1326270504065555888, 1326724096440188804, 1326820758829097941, 1328093504710846983, 1339129256232812275, 1339141688186992945, 1339149536889460738, 1339159423443968097, 1339171854603571289, 1339304831506083989, 1339631518962430094, 1340138537200486643, 1340440393292487822, 1328240484692200913, 1328772308418377392, 1328779125603693887, 1328806380414897867, 1328820237228268049, 1328876945971540024, 1328890775044042999, 1329048135628604219, 1329604016223707830, 1340636411007510030, 1341071844149525963, 1341108200015362423, 1341894915182929412, 1329765995507211023, 1330425678268128084, 1330884618680364469, 1342572261839752983, 1342688066282508702, 1342714493458933686, 1342753998603627779, 1342773596490732195, 1342776902401421742, 1342781485266097769, 1342789540408564951, 1343413014556904820, 1330996532745012421, 1331477430624757427, 1331919567944471532, 1332552396079150793, 1332702592077991900, 1333282711751266436, 1333357734817681182, 1334032853580529300, 1343686121121971588, 1344190373041294623, 1344196928646775731, 1344740407935397888, 1344816873774495533, 1344821144492050015, 1344823193736806609, 1344844977329208667, 1344906319015942126, 1334090265368720210, 1334102352606935100, 1334240677227244317, 1334272020575508905, 1334543366579807313, 1334636503232011923, 1334646270746352378, 1334668605695304642, 1334674042387588224, 1334866944797006298, 1335316581134350683, 1345349949337738366, 1345472608739903169, 1345498154358130374, 1345526172416472778, 1345556924875689103, 1335385969479887271, 1335396269144009761, 1335570188619059817, 1336041214498149874, 1336212495254166382, 1336220332692733321, 1336270932708699266, 1336854663663745192, 1336862000696501509, 1336871322624747952, 1345768158630817040, 1346254428930169265, 1346356948909540365, 1346594048941288471, 1336934547547064533, 1336943390444240272, 1338260248024769690, 1338321200112593310, 1338448551987283771, 1350857440804188101, 1347811123954275649, 1347881259077484850, 1351455655877211913, 1351493666057934078, 1351496852205078127, 1348437505366791867, 1348687331665302253, 1349059986101840643, 1349145251486903063, 1351539375602298097, 1351645154243155978, 1351659072335033319, 1352092070787155488, 1352098727457410161, 1352177156380825043, 1352223747164241456, 1352319160192098450, 1352945524957502121, 1349233131509506893, 1349238669235464370, 1349261955129573000, 1349280133699515789, 1349289866533676679, 1349292485816234625, 1349336283390581473, 1349360056557167811, 1353495008046007005, 1353511828025442645, 1353511913213150385, 1353517056640339487, 1349501052462712380, 1350683150309338060, 1350694901269365355, 1350704694775497715, 1353610011267605574, 1353616078765017075, 1353680577398709228, 1353831020797026747, 1354139981539751020, 1354198254370535190, 1354271961871021242, 1354280243385051934, 1354287187257041842, 1350809073039465540, 1359972998250970942, 1359978882029822062, 1359980931485345735, 1360316936829834236, 1360322103669864742, 1360323992175947701, 1360328126102625309, 1355075446906385054, 1355251811900902130, 1360912767206541429, 1360964459477275660, 1360971349938711335, 1360979783954151484, 1361599240863979345, 1355813162837081504, 1356269141510923430, 1356287891272895542, 1362200893158496271, 1356290905536243971, 1356511895797928756, 1356526723381143238, 1356784526184832339, 1356953228646976614, 1362518031001897841, 1362894404770995768, 1363032277989558235, 1363063118684312899, 1363069078465789326, 1363719144045591776, 1357389604278680597, 1358101732673694705, 1358122865707419750, 1358133145122222306, 1358151502631976046, 1363771633511251110, 1363873562452756929, 1363939681345638896, 1364163399760087653, 1364176866870145727, 1364186396690828405, 1358882349176180617, 1359255239937477474, 1364192188138760641, 1364384423426928523, 1364488503783488263, 1364515630628172433, 1364635286640479993, 1364642608307474895, 1365893928883912698, 1366033048567818030]"
        ],
        [
         "3",
         "neighborhood_overview",
         "object",
         "3432",
         "43.33",
         "[61714, 69877, 431287, 441868, 71874, 72821, 511064, 531274, 148299, 582409, 603168, 617429, 630388, 156728, 163685, 694828, 184374, 208801, 217591, 703732, 707434, 740310, 741425, 220238, 238362, 238374, 762335, 767581, 769007, 238380, 238383, 784879, 785173, 798846, 804777, 272585, 284305, 846521, 861429, 867034, 879892, 884350, 895952, 293520, 298479, 303040, 303046, 906370, 315636, 315637, 963154, 1034640, 348409, 352392, 1043678, 1142769, 1163834, 366808, 372379, 1181536, 1196659, 1823944, 1266716, 1834997, 1900562, 1295650, 1316352, 1422473, 1922670, 1958392, 1459783, 1464535, 1478778, 2035719, 1533624, 1567457, 1581387, 2116417, 1583452, 1615895, 1630395, 1665038, 1683211, 1732548, 1800481, 2805609, 2253981, 2260596, 2913664, 3037526, 3054903, 3118010, 3169118, 2402601, 3195851, 3195989, 3284563, 2604417, 3356877, 3357380, 3407702, 2737073, 3518072, 3726455, 3589795, 4904112, 4921887, 5188340, 5193521, 4046874, 5268522, 5303501, 4096461, 5360928, 4144479, 4181213, 5472292, 5515449, 5599591, 5600945, 5648121, 5679367, 5691428, 4560040, 4570139, 5743784, 4626689, 4646641, 6712260, 6720560, 6782983, 6035398, 6059729, 6839203, 6867498, 6878247, 6919352, 7018697, 7028338, 7132497, 7212771, 7223658, 6333933, 7238292, 7239705, 6530817, 6552418, 6552897, 7377975, 6600504, 7655457, 8301935, 7718939, 8423436, 8516296, 7917724, 7937417, 7992019, 8561397, 8585743, 8637296, 8645053, 8657702, 8706007, 9741322, 8713991, 8736169, 9741873, 9801176, 8997441, 9053589, 9058492, 9823137, 9221588, 9233701, 9917563, 9968217, 10004997, 9236574, 9269272, 9304289, 9657046, 9675219, 9727843, 9728717, 10893550, 10262174, 10279818, 10460428, 10460630, 11234583, 11267714, 11329777, 11351234, 10530687, 10538509, 11373018, 11376168, 10749341, 11470465, 11496924, 10795221, 11530067, 11600028, 11634229, 10861511, 12178455, 11834048, 11863320, 11954120, 12010849, 12362312, 12443331, 13280248, 12463214, 13320881, 12778768, 13486416, 13515701, 13521294, 13557482, 13593769, 12949574, 12965595, 12983557, 13074432, 13755982, 13762085, 13809334, 13102375, 13123956, 13138290, 13818173, 13824564, 13854803, 13163877, 13954375, 13189348, 13988827, 14174162, 14194286, 14083538, 14088746, 15175453, 14366208, 14385762, 14401813, 14402172, 14413161, 15279977, 14487670, 14500851, 15404843, 15445766, 14623672, 15508990, 15526599, 15598064, 15628288, 15629943, 15674114, 14881199, 14923946, 14925459, 15796938, 15036710, 15971186, 16008041, 16061001, 15083670, 16185520, 16228838, 16551579, 16305548, 16370889, 16606262, 16643468, 16700069, 17380904, 17381345, 17395156, 16788717, 17566689, 16848003, 16904707, 17856132, 18000008, 18016219, 18075425, 16984763, 17003338, 17003368, 17003506, 17018367, 18117302, 17049214, 17074337, 18183339, 18207432, 17145471, 17181010, 17182284, 18310068, 17210624, 17217098, 17242924, 18398473, 17272157, 19582407, 18512662, 19719351, 18556687, 18562910, 18562911, 19855317, 19867565, 18648853, 18841548, 20065575, 20153377, 20185109, 20188748, 19111973, 19117250, 20226504, 20276894, 19170663, 19206467, 20378802, 20533478, 20533903, 20546395, 20703746, 20883898, 20753317, 20766090, 20945798, 21974382, 22043099, 22043812, 21388706, 21398321, 22156700, 22160522, 21398324, 21398325, 21417546, 21446002, 22338841, 22341567, 21550376, 21577826, 22417856, 22446362, 22447010, 22448750, 21719502, 21761595, 21794530, 22530630, 21807580, 21807582, 21854616, 22549377, 22569393, 21939841, 22600270, 22628051, 22646585, 22695387, 22955557, 22726630, 22779581, 23050366, 23057104, 22799853, 23118034, 23119771, 23161941, 22896293, 23816582, 23846752, 23248901, 23853470, 23299792, 23299798, 23299802, 23890231, 23936405, 23333662, 23423438, 23991213, 23996826, 24001558, 23637108, 23639309, 23739512, 23757215, 23784140, 24610567, 24683254, 24685250, 24195364, 24713039, 24293761, 24318433, 24753329, 24813780, 24813795, 24819360, 24844059, 24844514, 24332391, 24361103, 24844608, 24844838, 24863203, 24367745, 24385633, 24438480, 24442737, 24905382, 24929379, 24942363, 24967985, 24493720, 24509706, 24992475, 25000306, 25080491, 25657214, 25674378, 25126871, 25134881, 25220103, 25245252, 25768190, 25259441, 25312777, 25339688, 25778576, 25801428, 25390855, 25395761, 25402893, 25439483, 25910699, 25928509, 25966263, 27197120, 26122914, 26130991, 26150279, 26162087, 26211358, 27336937, 27515222, 27567788, 27599571, 27600068, 27605918, 26482318, 27615894, 27617451, 27618661, 27650684, 26619811, 26706440, 27893990, 26742119, 26803416, 28025140, 26803904, 28075548, 28095591, 26940647, 26998491, 27008717, 27011653, 27096532, 28256258, 28502404, 28560731, 28561525, 28562479, 28675545, 30220513, 30241205, 28678045, 28757696, 30245612, 30265360, 30387364, 30456635, 29066989, 30467176, 30528942, 30581116, 30622866, 29202871, 29305588, 29305593, 29346806, 29355454, 29376835, 29481316, 29510973, 29537731, 31256519, 31366730, 29640692, 31394802, 31432422, 29740041, 29773829, 29821983, 29973848, 29979715, 31549039, 31591679, 31605259, 30078293, 31608832, 30115794, 31660265, 31733642, 31777219, 31873116, 32598853, 31950805, 32732489, 32737889, 32741913, 32827605, 32859220, 32015610, 32861256, 32183486, 32204052, 32287004, 33033826, 32322762, 32323055, 33080794, 32346572, 33153194, 33158540, 33159295, 33186011, 33187023, 32457263, 33206380, 32485147, 33360438, 33600966, 33601646, 33601874, 33467054, 33684857, 33707686, 33741695, 33741704, 33741738, 33741760, 33741782, 34532547, 34533144, 34540054, 34011767, 34014328, 34645522, 34758493, 34119555, 34791926, 34792325, 34192937, 34199496, 34278631, 35145429, 35153719, 35156716, 35156950, 34412012, 34434571, 34437040, 35174672, 34440266, 35867718, 35867887, 35868040, 35932352, 35223769, 35244903, 35244911, 36065811, 36066436, 36066515, 36068063, 36179882, 35476486, 35505069, 35505572, 36180022, 36329434, 36330119, 35611685, 35611767, 35611837, 36432155, 36465605, 35727606, 35763854, 35824940, 36500548, 36587753, 36619122, 35828091, 35867523, 37516973, 37543558, 37546004, 37546481, 37612023, 36819331, 36826691, 36868668, 36875571, 37046237, 37621054, 37108740, 37109186, 37173105, 37742336, 37819611, 37925446, 37932487, 37955200, 37966054, 37983070, 37983092, 37983602, 37984372, 37984387, 38030698, 38083709, 39046480, 39047241, 39047477, 39067098, 39076767, 38237339, 38252037, 38253029, 38253039, 38315019, 39351308, 38318795, 38342890, 38343775, 38366188, 38412485, 38431250, 39477493, 39543092, 38474548, 38545536, 38562458, 38609894, 38665161, 38691838, 38712167, 39641535, 38821048, 38860153, 39769189, 39817260, 39818205, 40753512, 40753581, 39983194, 39986180, 40753595, 40802008, 40802085, 40802136, 40802228, 40802833, 40815702, 40855773, 40447288, 40960987, 40960999, 40961260, 40962380, 40629507, 40629964, 40719730, 41222762, 40751721, 40753284, 40753310, 40753325, 40753387, 41919330, 41255262, 42014899, 42054835, 42054880, 42054989, 42065887, 42134215, 41515616, 41563564, 42267709, 42268095, 42268299, 42268453, 42268934, 42320548, 41592752, 42359351, 42386279, 42418890, 42429568, 42431928, 42433158, 41681054, 41739723, 41745595, 41745960, 41767719, 42433430, 42454372, 41806415, 41831435, 41832487, 42535922, 41857160, 42700806, 42788005, 42805252, 42822218, 42873061, 42873062, 43092062, 43092202, 43168581, 43168757, 43168829, 42948966, 42949470, 42949852, 42950444, 42950678, 42953387, 42953701, 42953885, 42954148, 42969035, 42969557, 42972180, 43168910, 43169009, 43169065, 43206223, 43241098, 43310400, 43310474, 43310508, 43322099, 43019102, 43027979, 43029065, 43030091, 43030595, 44329556, 44339659, 44357496, 43323036, 44470137, 43490117, 43611686, 43647538, 43666036, 43667092, 43687836, 43699881, 44627642, 43709157, 43742746, 43753717, 43786480, 44793900, 43824956, 45085236, 45108052, 43865068, 43921792, 43924743, 43981320, 43982291, 43982784, 43983074, 43983269, 45234515, 45236073, 44057363, 44059176, 45236492, 45237156, 45250837, 45285426, 45309151, 45333195, 44093539, 45444597, 44183891, 45479345, 45541096, 45554820, 44325296, 45765637, 45765638, 45765639, 45765640, 45627795, 45639025, 45670115, 48590770, 48622480, 48654720, 48767425, 48795925, 48796645, 46058676, 46137319, 48843518, 46276603, 46346252, 49121074, 49121468, 46416374, 49437666, 49472103, 49473576, 49491664, 49493948, 49537000, 49537754, 49544507, 49546834, 49554957, 49555393, 47557054, 47557219, 47557935, 49566392, 49568628, 49609376, 49646809, 47778111, 49699855, 49713213, 49720846, 49722920, 49723789, 49727247, 48051246, 48064566, 48164332, 49747889, 49789909, 49796015, 49844421, 48164953, 48195025, 48195026, 48205282, 48236866, 49851021, 49877079, 48264504, 48274439, 49928259, 50531137, 50533085, 50540475, 50558263, 50560368, 50560369, 50603577, 50652574, 49977224, 49979004, 50015261, 50665418, 50670240, 50678655, 50678952, 50049152, 50078067, 50078572, 50110305, 50715955, 50719000, 50736716, 50740061, 50745430, 50762583, 50765629, 50123138, 50145836, 50766602, 50767359, 50770430, 50780139, 50780320, 50780455, 50210266, 50221934, 50267534, 50838743, 50869109, 50294239, 50342143, 50345080, 50910650, 50983344, 51007138, 51028647, 51028787, 50365785, 50366865, 50386655, 50387792, 50387979, 51030242, 51054280, 51058693, 51058694, 51058699, 51067220, 50411016, 50411461, 50429814, 51087248, 50430545, 50436814, 50437702, 50438391, 50438544, 50476273, 51158109, 50499569, 51462996, 51578632, 51600586, 51321377, 51610387, 51611862, 51628404, 51632822, 51647340, 51661171, 51337137, 51398216, 51398585, 51416594, 52431342, 52431689, 52452429, 51723304, 51723305, 51757849, 51763321, 51778405, 52487138, 52522601, 52528726, 51838866, 51854761, 52665700, 52685854, 51877339, 51879477, 51924092, 52821520, 52880141, 52967339, 51976514, 52051439, 53038247, 53038331, 53059147, 53090659, 52064525, 52137992, 52196082, 53160128, 53166714, 52199515, 52210522, 52229109, 52271707, 52272668, 53182945, 52342782, 52351150, 52377606, 53270054, 53355275, 52416887, 53920798, 53929243, 53942485, 53949143, 53950078, 53985500, 54052670, 53452061, 54079591, 54099920, 54121725, 54188355, 54188418, 54190204, 54194619, 53470620, 53471400, 53491690, 54234294, 54255739, 54255886, 54303616, 54305789, 54310852, 53554924, 54310897, 54323392, 54326169, 54384587, 54384622, 543920024783790617, 544598307308356419, 53604796, 53604799, 546894922088297161, 548549712570151444, 549046695088407727, 549046733056032998, 549046842357256292, 549046851491065357, 549046862908149412, 549046872906458084, 53684196, 549046912719632018, 549046930489059039, 549047026615737185, 549047045168879352, 549077145956708463, 549077156581970038, 549077206632412628, 53693019, 549077225752383506, 549077262427870426, 549077290506096759, 549077317438914577, 549107159221727351, 549107179538543261, 549107192328190372, 53761481, 549107201984712885, 549107233849662899, 549107244355961128, 549107266056438143, 549107275853309672, 549107286538305398, 549107308953599754, 53776201, 53778473, 53778647, 549107318427187640, 549107366955467049, 549167656055517656, 549167666722246317, 549167685223160643, 549167697807219600, 549167707499499455, 53778874, 53778959, 549167719707393336, 549167745982946166, 549197790849881207, 549197809551992223, 549227960028006295, 554996044348950619, 555499198208983352, 555712113665394007, 556247389037736038, 556361198086158309, 556391961579759585, 550677382257253052, 552203530620664341, 552598739625135546, 557895701576382910, 554675582235633326, 576733228936794558, 559224987431389438, 559828294904064169, 561530170356097041, 577196644761909846, 577211329093488471, 577349344122666441, 578733875985469454, 561562263004179592, 562230939546947110, 563783864131051928, 564110174742194322, 564129931108385377, 564136748275034829, 564187290427143686, 564280371075694039, 564396395753747272, 583853450684689039, 583956488148094316, 584113200985395519, 584453893380934150, 565086877104485143, 565848006097034230, 565850840531992229, 584456638729454327, 584486014515026500, 584653376925230194, 584654808916945058, 585201888122355592, 565939722560335526, 565976919449572809, 566312330986630628, 567270769493238695, 567928627480686495, 585972256359510467, 587489671283960349, 588232980140593374, 588278372096106691, 568000592901985503, 568006535926176022, 568669015232129122, 569434428427083786, 588787587473096768, 589662381161603767, 590929873715915494, 590994641909116037, 590995643758892468, 591117347813552698, 569649864260904152, 570331828259631995, 572686280844206430, 572707998265964933, 592707754645165495, 593190861493044692, 572712196616250054, 572714080107064467, 573058407268276258, 573069926770279771, 573074131933435142, 573160135617414977, 573171114220631889, 573191927014686836, 593215048345644744, 593275100961612546, 593341946449609734, 594584114878427891, 573532983849394263, 573745881750599659, 573947382884128981, 574492497052969631, 574527589761846522, 595451807363045433, 597729839212072443, 598198775835652226, 598983216699963674, 599295806208463981, 599832163317711182, 599951124561300511, 575220665085353204, 576618350610856976, 599960874480251864, 600539604683995627, 600560914044751295, 600596020530993891, 602030037747448001, 602524870806730887, 576643061692661501, 576653048800956797, 644206080786098696, 646810766204284452, 646889079336474809, 602600126594028892, 603937629382350849, 603976984595737078, 604260482822965434, 647466608067971127, 647535233311874621, 648139068064879624, 648342882380228260, 605330197818075300, 605518904414495889, 606337751482983732, 607261494591952945, 607263364194835603, 607725528169620872, 609048579802688216, 649166953541199640, 649283340540638872, 649722510436714944, 609132892911562396, 609220233938813032, 609769681910660098, 651177437063812379, 651307995344592147, 651326465949031654, 651879072182429115, 614884333216385562, 616567468851584212, 652685957115435873, 653265503925724074, 653631951626460775, 617037234723759028, 619590774022810725, 655066974280065952, 620166199542434581, 620184340867020639, 622044687001643327, 656364882719960269, 656514440936923339, 658395685181196120, 658402448077784881, 622283583684103091, 623807345597711079, 623864415811595466, 624675773517222415, 625981899233545549, 659904292924629719, 628274913522437496, 628687042942193925, 630450386688784710, 632947973829892933, 661420937317454555, 661458283381695159, 662300740796783506, 662686924762183685, 633113328146471183, 634430345153961402, 662713001475262169, 662833976365359531, 662873434815920155, 662928375135344434, 663512947845813153, 664144787012396845, 664145074206900319, 664145246768046914, 664942766518802790, 636890804073849935, 637512253145750991, 638300545340556802, 638400929135061122, 638403805969773939, 638405224053587919, 640573567280884465, 664949577865847070, 665119794776701299, 641749541489356941, 671495131372804832, 671499391376551498, 671502439065092652, 671504996561751909, 671507608882429537, 671512068583594186, 665807250660691595, 665807357732752546, 667702716418352345, 668596858876544127, 668650090637384992, 672135415536352376, 672143125182310747, 672151723194425517, 672156581317155373, 672161053818689306, 672162738836687009, 672310889048894850, 668716351134122344, 668716470620708698, 668716928200136624, 669520835659391671, 673564140178408724, 674315072431841014, 674546147633902883, 674569538967351141, 674963595963342539, 675771717808310686, 675781261072441077, 675886588589149597, 670846691230289868, 670891936912821374, 671409777664608461, 671429106601589115, 700800607961930143, 701070952508622673, 701216320061934035, 701649857282382367, 701934175162430169, 676622832861312994, 676644879457973252, 678149110855811886, 678155501942692283, 679498594637487931, 679506734965810601, 701953378007299281, 702046908781094621, 680143510068064957, 680382294646644558, 680968836630541354, 681696376426301066, 684054396347155859, 705728973348245305, 684648170377799415, 685115200137028680, 685349629564161028, 686297002562728779, 689022023725149058, 689192267696277012, 709122746464370986, 709862458708445067, 689518709926820942, 689824068487648965, 690278373355076886, 690604781659802393, 713468413653295397, 713477900927771396, 716675001218374596, 692238368879076495, 692537214742615034, 692804245589277408, 717307136142220253, 718716660876105339, 720129337182930794, 720302944067925308, 721394244811583199, 722283993791502113, 694121108472381743, 695330116900300878, 697660155237369866, 697700555960031786, 698317441115511619, 698435356902430959, 722287108307422826, 724325457326019497, 724502932255405735, 724507690316470874, 724549473987401732, 724557091398859840, 725834754917319916, 728685803584988906, 728890964046035753, 700633952042507996, 745477211859171476, 745671384712444489, 748252587124786147, 729587024997178381, 731728604856416202, 731736814085613789, 732522539484314144, 733295475350541479, 733530290707276780, 733709504812028391, 733781379397976409, 748999259569336631, 750577902143736386, 751158143109279616, 752628637260565855, 734550726176649255, 735184034045468044, 735211027290420608, 736046032168257824, 736246608049823269, 736250094898977332, 736722189382950462, 736777448434039734, 736784695652120493, 736795151172005885, 736805444814902861, 755504844754180972, 757651089440922633, 757661897059939968, 759960952218893509, 760768612131661469, 762365266807172345, 741672381133061454, 741679202560302667, 741970547484053891, 743108839905315839, 744760241432823124, 762917944566972527, 763659057079094636, 764310092915656289, 764939906518257606, 764974252654522587, 765847308862875792, 745379915576881251, 765900024048690476, 774553925307108697, 765904305039882026, 765905740676247139, 776017551931515963, 765916207305333956, 776137738650288549, 776591356965362280, 776921015422202842, 776928748437141641, 776933934126926690, 779643016588887076, 767226058771020148, 768251633989466183, 768986467042769067, 770001167149616124, 770100466761547480, 781595375164983894, 781656400820592851, 771081740628613763, 771102841375133271, 771129642699496313, 771488607027890590, 773781107983535591, 782287482390742815, 782444763287547432, 782725347608725568, 785763643224543058, 786052910611603497, 774255331993683378, 810734295788932628, 787152902567157850, 812875297423399445, 814855414889006823, 815297886370890203, 787538400643290574, 787750536550792351, 788240680296562195, 815681624953139917, 817196070864448954, 818765424918233121, 790502699195998435, 792672677830396102, 818914306204706609, 819686286060935532, 820262868450185289, 821041021393625452, 821448422377181357, 796347834491764259, 796358638745764401, 797074763122378379, 798545380491637465, 800424008410493013, 822141404926991832, 801375635949961920, 801377482131067824, 805119376503411287, 825968119328381821, 826015019619079224, 826047483616533970, 826883287415861106, 826961356698138082, 806966476473135544, 807320200892607835, 807675656270226907, 807680416085116912, 807682586483941230, 828110412554619891, 828723869155900980, 829232242195913025, 829245078528604905, 830272643532171896, 830295690272706295, 807684208837043608, 808099177768162020, 808417325171281822, 837020906760941114, 830368920587858984, 830392552733062413, 831127753274195814, 831691520409327634, 831711271176721766, 831718327610589757, 837412305969886929, 837537615282643776, 837549115325763595, 837553108828232216, 837563758386626855, 837567231350634031, 837570258603325753, 832296493775728970, 832348174920426769, 833755394697249031, 833755497568520385, 833755799147288492, 834178316221644052, 834202136066435100, 838186518676478074, 834677097028847384, 838203004707155008, 839541020771427044, 840985079777351460, 835990297827592549, 836001545790623347, 836120721308409563, 836258811277577192, 854177158729918270, 854255282817382588, 854890576400459864, 841045593467763396, 841725893607301228, 841727999937122566, 841761973514965343, 856366225682823825, 856411208202489480, 856490703702491643, 856637911386147231, 841888739481482648, 841971128749332488, 841973199855693980, 842273158355099075, 842444842299926246, 842445930389117853, 856886228065557167, 856998614508561337, 857041354425621445, 857044118292291508, 857336552173430589, 857647055081649303, 858087028117335826, 858087207430831992, 842446479352798682, 842447525774130356, 842448767203259993, 842532162835415942, 842625185342811957, 842651622652738901, 843164675108142556, 843241556864366381, 843318036512355960, 843349915974519411, 844100912735676966, 861499260929792509, 862140883533006821, 862192021601842747, 844265941171279914, 862192686255082895, 862203366054529007, 862805566607912750, 862805751411271892, 863048625430991961, 863060688788943629, 863080243255275060, 863796140448327861, 864288950872962544, 844805627425926996, 844821900168008756, 844829015346776973, 845344231241174040, 846767442663689381, 846803022295150503, 846826581345715023, 865269458040469106, 867912884036811096, 867975551966097487, 868534836170655754, 868545762924393107, 868705760879930083, 868713422818072962, 868721843412377311, 846971626425009154, 848208372538001048, 848354916176388794, 848421217400729417, 868722219351654389, 868726020325156664, 869205671919598380, 869231838085684530, 869238282464501029, 869279126774254659, 869284533574566813, 869295514768355869, 849025473906874035, 849126724707015295, 872223704816823526, 872520823346293374, 872926879981497038, 873029484368708499, 850612650379296516, 851855228108319397, 852266244244830835, 853321750078461407, 853364551853841366, 873137106054981496, 873587307937751666, 873620825096547897, 874528213181534672, 875062299702523610, 853684186878695574, 854120776002129740, 902838024416038950, 903712253958386598, 875393448678687411, 875404758515284161, 876036810425554424, 876464992539127085, 876465103183674430, 876501422136361496, 877305202171757224, 877337207890881386, 904092188769783021, 904177851440853441, 904179199867593982, 904229558701927009, 904247806526892598, 904273285249435575, 904279016199741912, 904815514706557277, 904821182945248106, 877560426703064537, 877573553472387376, 877575512102004149, 877577062109487942, 877883129302152343, 904823913475463456, 904826322983717983, 904826332407528489, 905039785796868341, 905042736251819404, 905047404157864095, 905050366840718966, 905052806641753240, 877943090585248274, 878054612958383638, 879362416127455867, 879436462276999783, 880825389206160218, 880829846973742643, 881137013820539482, 905055415725242768, 905055437245490194, 905058098880374966, 905058108506596673, 905065602273581818, 905068115316978725, 905070687557911874, 905073098623974900, 905076114232541390, 905076124850681268, 905139769927877381, 883369506670516018, 883722372069765402, 885494884138712348, 905992549109134714, 886868008950501497, 888095187807495001, 906643116722037339, 889021003815949525, 889211771041724039, 889238586373062515, 889748690270343444, 889924235833822968, 890263266100591276, 890267910299171211, 890408523304735551, 908436870584561413, 890638031194764876, 891301681210681370, 891377104394754416, 891408720832326490, 891442455524546876, 891829796508414293, 891990697361638905, 892216818458102980, 892624176101166631, 908449819355594566, 908690648531039941, 908827712520633373, 909223285884926369, 909223299566977268, 909419579348838376, 910188521167399633, 910762133318779688, 892650707047383019, 892660391744921000, 893384208471303725, 894097793219663827, 895405068711035135, 895520924602184672, 910767158398302230, 910770771147862791, 911421627235307114, 912080631363242453, 912251108645574354, 912737831378532791, 912959843225667760, 898304615063406289, 898385302247969606, 898426758397260683, 899066001576727094, 899920026985592276, 899920149534747381, 899995019859349143, 900081867917024839, 913121427216660561, 913667464444948575, 914266021996929560, 900694040497036973, 901902513580921342, 902190326979096728, 902491000918644940, 902537206684030126, 915123959930184533, 915172406551275974, 916385169940189046, 916474186216959748, 902796436234701154, 918692058543827764, 918773555791503555, 919275770801628802, 920028217232695841, 920174207942910842, 920220233733911305, 920274471136901900, 917139700973873928, 917949092346277218, 918195938073113846, 938144895537892471, 938146613539244104, 920709515583972222, 920828546044901266, 922171703902677597, 922518017623739333, 938147625406407609, 938151177307775271, 938361691001930141, 938957902539867959, 938978623479288210, 938980808323922328, 923619373141919932, 923695886182578355, 940670527606217390, 940707709189637660, 941224079416161086, 941495631408511385, 941895615608834488, 924398117683958821, 924407559630788914, 924426459253112636, 925823773823038456, 926010749130496340, 942823290977208729, 943237197679571427, 944271976005026026, 944658448844841790, 944849497136470513, 944864906130280389, 926482508230438930, 926912588264512477, 927345244816756239, 945296409882984631, 946614265883675284, 928701633343360611, 928965379322878224, 946626388715172869, 946632698776696358, 947873384145289850, 947933991574104090, 948405674622428602, 949026541882771236, 949038646715849146, 949057689892091780, 949722796195808723, 929402775009837436, 929403263075093667, 930107334374544575, 931149512404648413, 931278979141870302, 931570610265006854, 949734673712199464, 950652966869341638, 950691937506631537, 932717184424734514, 933838091879739506, 933841647564872255, 933844254438438759, 933881419270448963, 950719478642181733, 950737274393220960, 951108168705947127, 951109054001558061, 933899931593918429, 934000134035936707, 934000144630391464, 934002588215474903, 934008144550190561, 934397298348382107, 952655126305481575, 952817647855051722, 952904000170361814, 934404480453586169, 934406781280878656, 934406790390218983, 934406800990944137, 934504084808776735, 934513609680640479, 954213927870826230, 954442410357334197, 954829424053217642, 936435014904055244, 938141861447113867, 965914381850927574, 955497035865727976, 955581086249940650, 955691533700422314, 955736004587314345, 955758591570449196, 956226374355287944, 966037914609141777, 967229455655252680, 968081321299636771, 969248088822527118, 957890980987243124, 957893892263871873, 957995381075738308, 958424743922064382, 958521211556252326, 958585586787746669, 969498170866937575, 970886587487280776, 971406619635037674, 971472398574360859, 973876919369586833, 973950257283187038, 959144274645126251, 959471453965777823, 960750958293194658, 961044770154930028, 974275709349147712, 974594943416279044, 974604118040248736, 974648252270949220, 975424943839869272, 976211656378188288, 963479513938135704, 964479500980551345, 964545291656667227, 976591198222655115, 977466719617229854, 977494666619872099, 977500059155237747, 977989660719636713, 978294202617560222, 995806616009362590, 996881778192754635, 996972606142000803, 979473953622655549, 979706581208557424, 980896383326877992, 981578902412218090, 999186961174458499, 999257233946219462, 999294647659702307, 999787784392835696, 981827184820246911, 981831074726899704, 981834607948611671, 981842783730361729, 983181846764875194, 983312929727986437, 983992533347290706, 1000690458044999604, 1001341233025177499, 984855934020058487, 985232945075139591, 986826364565972927, 987698851343710249, 988110806307841408, 1003480825894641507, 1003489913948389382, 1003514368898010148, 1003557784400752978, 1003573037870763972, 988343383292292645, 988985145352937799, 989729617903970676, 989861195408373493, 1004227587811382190, 1004380762333076538, 991215175367724858, 992108304958054454, 993348403313947626, 994567561554408677, 994575834389133038, 995104320333126876, 1016666101605849059, 1016695412752790117, 1017943737210623048, 1018109244059389874, 1018888500428208363, 1019462463298740195, 1019852140949643968, 1020212997792042744, 1020421497149255180, 1020944684221145146, 1022449939961900736, 1006252653843819469, 1006449664247736876, 1007057640438279826, 1007866309044542654, 1008522151043064119, 1008684052220675280, 1023878666544335561, 1024644524670828776, 1025279883239618667, 1025315305235882115, 1025373089515657601, 1025908460539009403, 1009220079730942322, 1010626665790591601, 1011437386212825550, 1011521198870253251, 1011521344667460788, 1012142624324086388, 1012738263713619613, 1026783170686846798, 1028899099510499738, 1028958093653493407, 1030434195089854163, 1012948012112886702, 1013007350235163272, 1013477164521842536, 1013486740869279515, 1013547145409846009, 1013572248656244699, 1013609886362396710, 1013661530142538034, 1030971188131175279, 1015343331190302871, 1015822132938097557, 1034090103265556175, 1034092759556046148, 1035547005273198010, 1035561989289681415, 1035942922149847878, 1036181568733815012, 1036821821993884019, 1049891486570104800, 1049918645815165674, 1036851248368257136, 1039091256868952584, 1039196023195025271, 1039280915112536502, 1039298354382329237, 1039571295772559304, 1039586921041220381, 1049918743056228216, 1049920221429053121, 1050966328298621354, 1051526946971130034, 1052061887145847787, 1052848162775982712, 1054283059928628507, 1040314425192268077, 1040348875918530916, 1043422114011429150, 1043656713215406286, 1054354781377123983, 1055567370011856575, 1055648087352832220, 1055899552106486286, 1044291182898437468, 1044740354424918698, 1044797655089701090, 1045019061214188746, 1045438950210180404, 1055922883069407530, 1055929250993499728, 1056019517969512472, 1056320471943215360, 1046193968628087299, 1046236315431073541, 1046600738548202248, 1047051915405690952, 1047105417583551873, 1056408740003257661, 1056537359199273052, 1057763184406505700, 1047532247583677539, 1047541681816501904, 1071730985957647632, 1072184983215544612, 1072367144446454366, 1073230678103912317, 1073995144896394653, 1060674935133918036, 1074331024894267292, 1074331042727815738, 1074578377126931085, 1074724472918633842, 1074766595126488175, 1075108493215768685, 1075198533772122401, 1075243337418378868, 1060686552087873123, 1061293727679955622, 1061339610794335894, 1075271561141699038, 1075404746347732752, 1075475518106635125, 1075899004294000726, 1076041088275296522, 1076792641188303871, 1076821557693274506, 1062037501926291485, 1062392678699862600, 1062429737045035595, 1062489140787132231, 1062816199600080449, 1062942791752718777, 1062948632770302145, 1063711446933352297, 1077357500575659428, 1077608680774470022, 1077630132775047789, 1078979215715393851, 1079535330656749130, 1079560939755545107, 1079621853202932696, 1079682567662652209, 1079703111547026850, 1063744373372592767, 1064254415875765347, 1064288645299628696, 1064487285794044889, 1080213611798243209, 1080352815353314980, 1080716828324878232, 1081008104561877015, 1081097650992443024, 1081119511292857826, 1065085741774278791, 1065166625170314642, 1065858804063666232, 1081632129065929697, 1081964152020267128, 1067039612488155883, 1067200416427834512, 1067301357031315949, 1067313770272762919, 1081978850142291593, 1082001594459316931, 1082012731488386255, 1082017080151506523, 1082430366392016776, 1082430456875435750, 1082430546475607967, 1067836474245419546, 1067911233091140375, 1067973942357207003, 1069351932069861591, 1083272689233666973, 1083371516537937524, 1083553473678978563, 1083870863468368963, 1083891694842311211, 1083926214126829618, 1069360839089815303, 1069423246479995287, 1069660008339950937, 1070005023752299930, 1084617159613319358, 1084618979289736813, 1084621239372555264, 1084635054800727683, 1084768554433866212, 1084768688449457130, 1085345655421747380, 1070516367301049544, 1070891130484154041, 1071097983747724332, 1071113243356019555, 1071144011832573408, 1071151614174742845, 1071697268573341999, 1085396509266939914, 1085401248959818110, 1085401898147738671, 1085407642565962152, 1085687918760177509, 1086149177226686271, 1087015145249557037, 1087488145006164690, 1088100045788064625, 1088202863348807618, 1088296493704370054, 1089009009416768024, 1086901848334059227, 1099975087529148383, 1100679614870536967, 1102024566565110299, 1089345353154687521, 1089863623129232097, 1090403264155142114, 1090516010914059325, 1090521373885353819, 1102121940658938119, 1102311302259528119, 1102324946689487566, 1102945644664328461, 1103484772925388093, 1104226969995394461, 1090572575065866372, 1090684672219878229, 1091205119120581818, 1091245333960931647, 1091326257641366726, 1091767767546078754, 1091789324604332743, 1091810966984916737, 1104348761986316755, 1104374296577941335, 1104534029772761431, 1104799871389380111, 1104877451689814299, 1104943560066501934, 1091832295692527962, 1091853073419787578, 1091925624694691711, 1091945544272382985, 1091972168650631089, 1091978786462302657, 1091993608342228092, 1092000803198863475, 1092021434462754749, 1105124566022035675, 1105195007323830500, 1105201027328574575, 1105776358579333281, 1105791276366011491, 1105820483315796411, 1106372780749038706, 1106624459909502112, 1092509799943587135, 1092547803565688426, 1092658234267184172, 1092664285774415791, 1092682293894965596, 1108133075629673557, 1108548321056922157, 1092702137734182454, 1092729321259391212, 1092733253781988437, 1092778780950393148, 1092880874916680177, 1093212887437793843, 1093224215606353381, 1093239052112004053, 1093422629862677911, 1108587820686909130, 1108616579498418188, 1109205470075258289, 1109405967906317608, 1110000899448086373, 1110264814855184789, 1110690216493741810, 1093463119660474677, 1093463538992840326, 1093994938541897735, 1094089827087763695, 1094095547452893361, 1094106221667200271, 1094108530533726106, 1110966470674419245, 1110992115486680037, 1111010461070353705, 1111439862693385443, 1111563715437318016, 1112112464917101688, 1112123570488922115, 1112416440387395678, 1094110508637134278, 1094187742254829936, 1094707463894949954, 1094911100730109729, 1095808676974831779, 1096117002195008599, 1096166548400120623, 1096168297033965180, 1096172552702413564, 1096180983776354550, 1096279582667713259, 1113815978631089485, 1114426819454237937, 1114535091822626762, 1115021895577378834, 1115035206723392981, 1115076873477579483, 1115214562951108233, 1115378135073611348, 1115713514943806121, 1096395569424542855, 1096903200017888392, 1096910057225390433, 1096925077199733564, 1096992439399138752, 1097069327295116750, 1097070322057710481, 1097101618116919325, 1097609988938042064, 1097636493899491668, 1116623694346383044, 1116666283299821616, 1116738369193202892, 1097666930364272186, 1097750148636109507, 1097964086263143003, 1099159335168687500, 1117361202033629637, 1117398303358327435, 1118095953169898309, 1099401012384269036, 1099442257438563717, 1099631111022405097, 1099915090070777821, 1121016657341795019, 1121079470733835694, 1121558428544105826, 1118662108306640591, 1118682585655198143, 1118843758834034668, 1118857346632374823, 1119032112301503297, 1120304299036193519, 1132355087596960427, 1132425637187535747, 1122281634469034594, 1122364198522681494, 1122392840695035584, 1122399049185051845, 1123165228728047206, 1124085508951300082, 1124378020875145813, 1124397389912228599, 1132535354027633596, 1132635860708830787, 1133161855343308845, 1133207254571805076, 1133217599609383527, 1133236941948318647, 1124485842929689569, 1124492622177133269, 1124495438924945988, 1125146165144986559, 1125319041767567129, 1125325978723893106, 1125336328680804504, 1125343858782015811, 1125354079581425982, 1133240139943305054, 1134492764338355995, 1134515034450761559, 1134532765975756746, 1134696171504382278, 1134740567393947669, 1134812688571147108, 1134845333276481551, 1134865077836165168, 1125361791086091128, 1125867583408871542, 1125883628946002900, 1125960333512610747, 1125960395875380188, 1125994643901705614, 1126012670903406806, 1126024346850122681, 1126098331522144173, 1126268462637280116, 1126555288368710741, 1126684210735664943, 1134896847256575319, 1134920632145199812, 1135368415024631914, 1135396132337109601, 1135412179379964715, 1135442261452261940, 1135501787186532654, 1135538725764395689, 1126705372749729269, 1126778646373414970, 1126870432101858161, 1127368078645893759, 1127673608505632385, 1127973028445723029, 1128028740660708829, 1128051148370461241, 1136179732695200867, 1136691724021653573, 1136786448085677953, 1136787447889389848, 1136845823569540725, 1136852730795878024, 1136858123606177859, 1136895557536726354, 1136914798512827639, 1128054039761274911, 1128153872036940536, 1128174613484545936, 1128180673476262563, 1128184020949605416, 1128209450206518924, 1128228024760541758, 1128230340121806052, 1128233251453150564, 1128235554569507793, 1128237390188448911, 1128240619421385957, 1128244893720715302, 1128385786864587750, 1128659091413073167, 1137502207415842337, 1137703859333747796, 1137833297104074995, 1138164411197049674, 1138269954969870776, 1138299913700669740, 1138362021269310848, 1128961993694770392, 1129058751953057388, 1129276668164500275, 1129489948474967452, 1129662021093935394, 1130170853222304351, 1130303866671637604, 1130363836773968721, 1138525185921733968, 1138556910296298680, 1139062396754014137, 1139078937028389479, 1139727893782652831, 1140394179864186877, 1140436897707819435, 1141268140363041274, 1130434089998644460, 1130514816412477011, 1130561602069153990, 1131014961242849367, 1131050574490973390, 1131105287780837590, 1131112817297579738, 1141307998735534798, 1141784279123343945, 1141913626198357996, 1141987562640286537, 1142122389161898431, 1142443875412670775, 1142530791009097271, 1131125337168160827, 1131172447334532308, 1131175921931285523, 1131768209645972266, 1131815996341157518, 1142760937725856637, 1142766527139752356, 1142861459710800431, 1142868077398602328, 1142896149641648145, 1143437846695991382, 1144158094207221453, 1144198234931817223, 1131822599409891683, 1131969623898996999, 1146235880517350529, 1146408450146450116, 1146481357864363038, 1146967219552598734, 1144215244576791512, 1144782101988804907, 1144821766157445572, 1144944626902829343, 1145441366649062175, 1145614390928087638, 1147553254762112913, 1147843531660265854, 1148300338274024987, 1148300447080620308, 1146223316781299250, 1146231339027145342, 1166598260626742238, 1166608471265372040, 1166615885224184483, 1166743089695273424, 1166758619393799107, 1167169374587736904, 1167176507878028232, 1167347270554946277, 1167352913652898752, 1148369625424641576, 1148630061800522800, 1149240637231609074, 1149778015887132245, 1149811395005690362, 1149962750368730287, 1167365697508427852, 1167378783944272913, 1167379780206795896, 1167830348239324058, 1167883576977704619, 1168098030634623672, 1168226326013178689, 1168244036505164592, 1168277371767686103, 1150710839576490327, 1150863537562721407, 1151356839669861774, 1151373789838556009, 1151597582267543200, 1152019846632831609, 1152077860797986222, 1152363448044071117, 1152793607176917881, 1168611778427108912, 1168653956385179970, 1168661848204384440, 1153612225066357985, 1154113653695836488, 1154146856988104285, 1154226600204779461, 1154324351843059921, 1154523746985283378, 1154841234616887068, 1154989947281270505, 1168881507668286002, 1168969358011979164, 1168972911901812737, 1169342306661893473, 1169425183385642388, 1169432943394301687, 1169581081056880046, 1170178722891857155, 1170250202751768604, 1170394717770733684, 1170825186334243827, 1170854399234085829, 1155006250823627046, 1155155606336876991, 1155632546590132870, 1155828232306536937, 1155960875968885439, 1156539906392343268, 1156608619817385809, 1157194531288593044, 1157202043400531208, 1157209526428835716, 1170864864779567371, 1170871328389941136, 1171144939897438568, 1171452435097412592, 1171615281440122859, 1171625288070571247, 1171818431889131357, 1172209757040344505, 1172250914248007077, 1172278837172804924, 1157222969827643276, 1157728025713025545, 1157865095488718274, 1157913647727309940, 1157923074158634629, 1158457366718586664, 1158639976913028413, 1159402917428425544, 1159424148238555260, 1172410194941860459, 1172461704358549821, 1172482562377889863, 1172495183595639895, 1172562059163674708, 1172566257473982085, 1172586815208204155, 1172596554904547411, 1172630064597888210, 1172828773227753595, 1172848388665327644, 1160640290754110803, 1160641054519460295, 1161367709963860718, 1161386959894023798, 1162176810246806116, 1162234984782680719, 1162246757248234708, 1172950516850350787, 1172994750516779289, 1172996178721180315, 1173131287518642027, 1173291146798962773, 1173354396828920979, 1173684335686694156, 1173684881354469863, 1173704255859512740, 1173714667633262554, 1162258022825202943, 1163205960954070502, 1163328331154844841, 1163533301836000065, 1163549899953888023, 1163567258235456449, 1163634272584094607, 1163661743530123646, 1163757644194471672, 1163800464559750042, 1175326687873276423, 1175364113013922394, 1175446147312298106, 1175491190445251667, 1175845318430675889, 1176079142703942345, 1176219710317570914, 1176243703534151706, 1176247751236763451, 1176611240176030068, 1176856213237397157, 1164197375186998267, 1164352900011086287, 1165181172249985164, 1165273971019095954, 1165745536366686389, 1165748246198485341, 1165992241857914292, 1177336194970006586, 1177339439234671586, 1177344072822365867, 1177395821061073327, 1177441849917613272, 1177510105263894249, 1177598774116080060, 1177635190903847766, 1166458327265737677, 1166477941706592934, 1166532968596783793, 1166591109358510031, 1195464447227903520, 1195638612846655797, 1177654312235539596, 1177746757598157977, 1178049798694290654, 1178281870441546816, 1178348172274801971, 1178349577327642567, 1178755319313962804, 1178903958492597016, 1196099164195351579, 1196319576516186855, 1179384168912145713, 1179467932459355009, 1179575868350681906, 1179656320099238235, 1179699464135584563, 1179720635442247495, 1179741567478389538, 1179747391201190820, 1179781849979373519, 1180333019198536294, 1180396755381678193, 1180469211285731721, 1180914062976244553, 1180936517203305433, 1181054118838351205, 1181337689859769761, 1196904657021586587, 1196954607597269349, 1196973694969902978, 1197110953279908046, 1197149434393621614, 1181751405185138587, 1181759814482747145, 1181762279711828254, 1181764618430959046, 1182399275679927331, 1182403395263989574, 1182598907422561328, 1183060360419152748, 1183146326111268842, 1183257430647298167, 1183966530045302500, 1197579341757133988, 1197636161043741489, 1197825523940817298, 1198287306785345437, 1198430886558462837, 1198969001121959588, 1199130295421766898, 1199140059480344304, 1200107229715429338, 1184026459257008703, 1184226057349901133, 1185239943664526250, 1185445861536095295, 1186144856813572111, 1186214634405179511, 1186724119795683801, 1186734218543608740, 1186854254515013859, 1200496394729326468, 1200698556088566225, 1200840828324073036, 1201149021909417785, 1202272924762434038, 1202315857404113736, 1202669556715736015, 1202681302212481745, 1202775904346455729, 1202836942320413501, 1186923363290269938, 1186987367950913816, 1187074441604795501, 1187402454345151700, 1187443052823275512, 1188193356749216397, 1188584934136387294, 1189091917558426698, 1189209222632682160, 1189837933325037926, 1202904431750519087, 1203082640315563102, 1203346609016334017, 1203385114990860702, 1203385314187409577, 1203385650245229293, 1203612185366829934, 1203618602252003745, 1203638046145499425, 1203662558236163427, 1203671947084990603, 1189894175330842045, 1190623661096576471, 1190675367521625163, 1191292311758257965, 1191299676971606175, 1191399713058612161, 1191403492627432250, 1203684625533115288, 1203690261440734403, 1203693763649670830, 1204077025466634598, 1204159891731303920, 1204240005221117556, 1204249760760152858, 1204368004985570774, 1204447007358485499, 1204894317379142355, 1204896907316844047, 1205468699799158498, 1205872472925935166, 1191405718417118299, 1191473595075755377, 1191902737401465546, 1192036933105008789, 1192039872163570601, 1192060107472842224, 1192512449678618621, 1193346302951360022, 1193382591664929080, 1205898816502170393, 1205923832719813513, 1206616775288991546, 1206990237100471298, 1207248751738611278, 1207358848156498275, 1193576729234847910, 1194018327831285928, 1194034007644461284, 1194079538606409784, 1194109219449780906, 1194157404073670419, 1194158623942315263, 1194186795912413497, 1194227160838199564, 1207581483275385888, 1207778331350685695, 1208597122271910526, 1208633098257961487, 1208684674375002355, 1208725575290781199, 1209138608237195335, 1194312928732826777, 1194360786055939394, 1194671182522298232, 1194915976300080064, 1210889248576632028, 1211318388554541948, 1211503086389182487, 1211515539719764431, 1211647294048663611, 1209140488011093971, 1209297243001089216, 1209438882312960574, 1209874699977588647, 1210256658863991727, 1210873438523703982, 1214416551049031581, 1212780916076781549, 1212781555982689758, 1212781884533321784, 1212782068576970207, 1212943120234058184, 1212988103906410818, 1213234294073638196, 1213243182026184481, 1214446163446153916, 1214514573884191311, 1216368830809196854, 1216455084709790087, 1216491606863222286, 1216494385295586089, 1216537201081599327, 1213639680732181236, 1216808125673007370, 1217352037151780534, 1217472734879709251, 1217902305323239181, 1217920697687130827, 1217929100913118190, 1217938125458878631, 1217965703167491815, 1217969057016379785, 1217981445000394516, 1217982988443106277, 1217985139192087743, 1217988478801006672, 1217990528142251530, 1218079663774059719, 1218079778129695471, 1218079903762568747, 1218566372081626911, 1218613352746500522, 1218950194066386089, 1219586036682934891, 1220236420808301151, 1220845510783223547, 1220898313472090238, 1220955208041043848, 1221529967983376053, 1221682323509508932, 1221731178597045771, 1221772306542938783, 1221783913320561293, 1213730867939190078, 1221786960522269595, 1221791124409185312, 1221795341894990534, 1222326463184615240, 1222454061626610038, 1222990569683405794, 1213905856071128936, 1223632234027887776, 1223667650427122081, 1223730488913094870, 1223755878475043521, 1223805162188634512, 1226565187491241376, 1226575951591317605, 1214244729805613867, 1214251533700841852, 1226598388742218759, 1226920371682349466, 1227323538090252056, 1227347038479708753, 1227366399659654882, 1227376421498125786, 1227408357486805763, 1227433928422166966, 1227455323269537330, 1227466915192889802, 1227481122620404416, 1227484706988585342, 1227661042218866126, 1228101848627677563, 1228215951586678828, 1228228803849019765, 1228302326512216579, 1228829712773836232, 1228830228487454213, 1228852523058937284, 1228865074470505136, 1228896343269920075, 1228931183480447079, 1228980511115423271, 1229496563583052992, 1229548080757562963, 1229750437914117773, 1229792540579665182, 1230238392441324801, 1214320768004897030, 1214390805493124682, 1230311393400889279, 1231705377342566863, 1231854773417586490, 1214394724492677057, 1214407671406182460, 1214407895900581185, 1214408000128237176, 1231867779577726835, 1231957401047903224, 1257361676754757199, 1257380118466200288, 1257382379096569869, 1257931094690462511, 1258109724729295809, 1258494104272382995, 1258506299749502699, 1259224077617780583, 1232521529396138540, 1232674352095743305, 1233042106340861086, 1233120891732354082, 1233127515652365234, 1233134587223020205, 1233175269619211513, 1233301339952806429, 1233468483343255934, 1259392220091411155, 1260598674331608934, 1260757512101389196, 1261080426952221841, 1233988933769630192, 1233995670486746142, 1234037846504823452, 1234173393022273608, 1234605489892365178, 1235487639570720937, 1235587365471646886, 1236157349756437074, 1236244429796957182, 1261421684986126909, 1261673999298971267, 1261718315461631752, 1262258790992685156, 1262369374479364929, 1262403212365000927, 1262484070097878024, 1262787630979448673, 1262932635774970315, 1263752810248699399, 1264290532326488659, 1236286937269267430, 1236305819243648388, 1236308834830067086, 1236765439430871433, 1236870076179595575, 1236996554115021572, 1237443157689096307, 1237616852495526769, 1237621692804609310, 1264410961280387403, 1264683017888321172, 1264947265705367166, 1264978326687375990, 1264978346120047412, 1265701962680660966, 1265713813279650067, 1265856345348954945, 1265882383762684609, 1266477269462573632, 1266525130937539715, 1237685862842036245, 1237695729900365725, 1237702795600914486, 1237708481772340314, 1237758784945891465, 1238877147619351971, 1238892421058809836, 1239108602127896668, 1239637851821631367, 1240686572776194318, 1241993728395988534, 1266593751112680720, 1267187032932697305, 1267206288298462609, 1267344104805288539, 1267440297496080610, 1267856449843592794, 1267863853974828921, 1267912358660233723, 1268035283137815749, 1242571860995742026, 1243170796218874665, 1243364844305576333, 1243385637529899948, 1244091142998620608, 1244317297172390794, 1244636746677987067, 1268043070059797886, 1268842115808501232, 1269365159333474366, 1271523875129170373, 1271720744152892783, 1272351539118913544, 1244708534903748569, 1245415208528617193, 1246840598248097088, 1246899383997535346, 1247013264722070801, 1247130394594605799, 1247218798872059886, 1272371416464486670, 1273034369814996072, 1273791688272805308, 1273846946767749668, 1273884094349697937, 1274296134887203795, 1247643070180030843, 1249126923987565481, 1250866959009586912, 1274547764604623716, 1274547906423999959, 1274548019858045776, 1274559703614536490, 1274611907631383770, 1274613688162700215, 1274772038331619806, 1275341370879423180, 1275356316855058273, 1275505998334073577, 1275904232747210514, 1275996830548257064, 1251087164893336128, 1251278845381517419, 1252045407186534259, 1252172708477749675, 1252691630467656627, 1252706809156234642, 1253378766872058786, 1253447719812431481, 1253560186404175207, 1276244251868772948, 1277636988557184485, 1277731534181126280, 1278105607991370377, 1278229944072349459, 1253733176449330034, 1254158024541668916, 1255797807566238474, 1256540622125406409, 1256566065060272684, 1279705569984950325, 1279211672454165119, 1279463731852675674, 1279558795865919959, 1279561976514657940, 1279607849322776151, 1279622572559088418, 1299980490514542531, 1299981592718913476, 1279841508408571445, 1279846460432275443, 1279853545939296566, 1280414729500201371, 1280453963427112295, 1280462337882268589, 1280578877323887420, 1281741221260572620, 1281872336471406164, 1282128793970050088, 1300057016747534203, 1300192232171096375, 1300780009764347071, 1301461045613952909, 1301482640515514012, 1301483600436958239, 1301680481923156555, 1301945954691358962, 1301991803651928230, 1302768431885805573, 1302819947557473340, 1302830304481173252, 1282605042203340372, 1282667476598690441, 1283382175639426189, 1283481045269095552, 1283955325793432464, 1284025206447637451, 1284028137199662761, 1284030675495117292, 1284538550321022592, 1284565992298040675, 1284811362016973772, 1303358406812164384, 1303392578818384151, 1303535450225069353, 1303629338318042448, 1303684848557611690, 1303697778284649701, 1304234487941650297, 1304281027100383633, 1304303738234747433, 1304367309459648642, 1285512258034966352, 1287014378125230463, 1287078040786858269, 1287595773378505914, 1287642033924279877, 1287644585826592943, 1287699666565443162, 1287748269942318281, 1288262491325021961, 1304841587626378632, 1305089992774614391, 1305794432068587489, 1305815691733520799, 1306376515094914292, 1306419134406424306, 1306440814385183490, 1306481534643361380, 1307036180687751203, 1307294989545668848, 1307815069679797488, 1307831240591494833, 1288364271305215259, 1289075787499379023, 1289214257663825244, 1290324869707896179, 1290517061183383389, 1290563214435577069, 1291259652707784365, 1291269475978158159, 1307833513289228085, 1307916686534686272, 1308624982526462277, 1308709273160635616, 1309257512878376838, 1309947502387743827, 1310770797235274454, 1311448602032314650, 1291282523485547227, 1291289799583179150, 1291298472864133619, 1291370353213523358, 1292064096778906463, 1292101441632901278, 1292146705161109184, 1292658022484131506, 1293893214249848369, 1312123815064741366, 1312134383997417255, 1312198150197329270, 1312264987913123006, 1312900433102820040, 1312904549405686861, 1313003671121552359, 1293953797944112510, 1294019865449183848, 1294022767661265187, 1294276786465921429, 1294412324082815549, 1294732956980910802, 1294796121136489775, 1294859458229074166, 1295386676069135177, 1295454675021443672, 1313101447993556449, 1313107320635037652, 1313113067129078372, 1313201565481033729, 1313810948144644531, 1314325297932615007, 1314326268241180587, 1295517957839778358, 1295633813431927936, 1295634091992433793, 1295634110145331318, 1295853066036349279, 1296381475049534016, 1296390135615705479, 1296846633181172315, 1314344165399511002, 1314359117073988907, 1314364005004963547, 1315181828655043954, 1315227104122384263, 1315327981665565213, 1315738290123518468, 1315761013614017712, 1296971850219891553, 1297148939963358992, 1297506389120781008, 1297653047024275377, 1297668926728482984, 1297785524499187085, 1297876542259759498, 1298563984146933671, 1299093032917401688, 1315787509884320238, 1315977648386627900, 1316043519430196099, 1316533145424796463, 1316562687034928385, 1299219448222323136, 1299229618052667749, 1299359966952396218, 1299849539939060028, 1299963381573911983, 1321009958845385576, 1321098805848375002, 1321621082823620273, 1322337217462946252, 1316644160079858254, 1316647119689115416, 1316694999196868743, 1316880410136989665, 1322509130335522001, 1322899892124484055, 1323082902703648038, 1323103342484247859, 1323108152903122644, 1323230692970733332, 1323781225773771898, 1324452788295869104, 1324522499010558557, 1324802418603204885, 1325320780552131972, 1325340442278987634, 1325477339360487826, 1317890805478642202, 1318191311807248040, 1318268701859570262, 1318576470347265316, 1318692457368220905, 1318784089576003032, 1318852840564995081, 1320993793701045085, 1338618915226192231, 1338989456383343007, 1339126927028092247, 1325628211350616571, 1325973690960837961, 1326270504065555888, 1326643520933055178, 1326724096440188804, 1326761324718557097, 1326820758829097941, 1327536547362538127, 1327610103574765126, 1328093504710846983, 1339129256232812275, 1339141688186992945, 1339149536889460738, 1339159423443968097, 1339171854603571289, 1339304831506083989, 1339631518962430094, 1340138537200486643, 1340401748933997465, 1340440393292487822, 1340450441110378619, 1328240484692200913, 1328772308418377392, 1328779125603693887, 1328806380414897867, 1328820237228268049, 1328876945971540024, 1328890775044042999, 1328973686477394217, 1340636411007510030, 1341071844149525963, 1341106961457316020, 1341108200015362423, 1341129506581107523, 1341894915182929412, 1329765995507211023, 1330358189512747073, 1330385267148754308, 1330425678268128084, 1330492198104237106, 1330561066615318397, 1342038905540655364, 1342572261839752983, 1342574699614106972, 1342637954879367708, 1342688066282508702, 1342714493458933686, 1342753998603627779, 1342773596490732195, 1342776902401421742, 1342781485266097769, 1342789540408564951, 1343346821815050219, 1343413014556904820, 1330996532745012421, 1331218121958728326, 1331477430624757427, 1331919567944471532, 1332552396079150793, 1332702592077991900, 1333282711751266436, 1333357734817681182, 1333908714852660842, 1334032853580529300, 1343511677747927314, 1343559602352152866, 1343686121121971588, 1344190373041294623, 1344196928646775731, 1344786878019640708, 1344816873774495533, 1344821144492050015, 1344823193736806609, 1344844977329208667, 1344906319015942126, 1345111860784844135, 1334090265368720210, 1334102352606935100, 1334240677227244317, 1334272020575508905, 1334543366579807313, 1334636503232011923, 1334646270746352378, 1334668605695304642, 1334674042387588224, 1334721478605903218, 1334866944797006298, 1335316581134350683, 1345349949337738366, 1345498154358130374, 1345526172416472778, 1345556924875689103, 1345593425317124542, 1335329699294430720, 1335385969479887271, 1335396269144009761, 1335570188619059817, 1336041214498149874, 1336212495254166382, 1336220332692733321, 1336270932708699266, 1336462816126288377, 1336854663663745192, 1336862000696501509, 1336871322624747952, 1345768158630817040, 1346198446187765553, 1346254428930169265, 1346356948909540365, 1346370365532280550, 1346528170418792710, 1346594048941288471, 1347181098602361395, 1336934547547064533, 1336943390444240272, 1337569326480228729, 1338135301389840576, 1338260248024769690, 1338321200112593310, 1338448551987283771, 1338611794887931220, 1350857440804188101, 1347811123954275649, 1347881259077484850, 1350863100933039235, 1351262123586304425, 1351272053360808430, 1351284820519349761, 1351290301886448824, 1351294011082384050, 1351301164939770232, 1351301409211305933, 1351302633364076690, 1351455655877211913, 1351493666057934078, 1351496852205078127, 1348417490177315749, 1348437505366791867, 1348687331665302253, 1349059986101840643, 1349145251486903063, 1349178912677950352, 1349209672171947022, 1351539375602298097, 1351645154243155978, 1351659072335033319, 1351997347881613135, 1352075152888015073, 1352092070787155488, 1352098727457410161, 1352177156380825043, 1352223747164241456, 1352319160192098450, 1352945524957502121, 1349233131509506893, 1349238669235464370, 1349261955129573000, 1349280133699515789, 1349289866533676679, 1349292485816234625, 1349336283390581473, 1349360056557167811, 1353433749970411906, 1353495008046007005, 1353511913213150385, 1353512233909969538, 1353515291513226895, 1353517056640339487, 1353517672300455253, 1353580369173035247, 1349404120470429129, 1349501052462712380, 1349894508085634529, 1349906548984578933, 1350038429350996125, 1350050965803362516, 1350683150309338060, 1350694901269365355, 1350704694775497715, 1350721788418948243, 1353610011267605574, 1353616078765017075, 1353680577398709228, 1353831020797026747, 1354139981539751020, 1354157211661476271, 1354198254370535190, 1354271961871021242, 1354280243385051934, 1354287187257041842, 1350809073039465540, 1359972998250970942, 1359978882029822062, 1359980931485345735, 1360316936829834236, 1360322103669864742, 1360323992175947701, 1360328126102625309, 1360670388197753434, 1360810799584509413, 1354299077415816489, 1354865104113402695, 1355251811900902130, 1355317716135295082, 1355539412021977467, 1355563006006157558, 1360912767206541429, 1360964459477275660, 1360971349938711335, 1360979783954151484, 1361399051122525278, 1361542345237595010, 1361599240863979345, 1361611678638605813, 1362069284714243006, 1355627617878943355, 1355647098195515119, 1355653035925744587, 1355767346943830614, 1355813162837081504, 1356269141510923430, 1356287891272895542, 1362069310055124724, 1362098243021589875, 1362102017993442586, 1362112197604955543, 1362114818930196721, 1362117550692648947, 1362124197740552890, 1362126368689490123, 1362200893158496271, 1362509169619993826, 1356290905536243971, 1356454335264497980, 1356511895797928756, 1356526723381143238, 1356784526184832339, 1356953228646976614, 1357219046572868664, 1357250408931057862, 1362518031001897841, 1362894404770995768, 1363032277989558235, 1363056913187975043, 1363063118684312899, 1363069078465789326, 1363645110678408300, 1363719144045591776, 1357389604278680597, 1357872907363701635, 1358101732673694705, 1358122865707419750, 1358133145122222306, 1358151502631976046, 1358594251693214475, 1358594266933983870, 1358594284191089936, 1358598034623635013, 1363771633511251110, 1363795213337978305, 1363873562452756929, 1363939681345638896, 1364163399760087653, 1364176866870145727, 1364186396690828405, 1358624782819857102, 1358624799684066640, 1358882349176180617, 1359223003605730811, 1359254542892272496, 1359278347560333727, 1359382050963265181, 1364192188138760641, 1364291651658722459, 1364384423426928523, 1364406083987810151, 1364480825953775275, 1364488503783488263, 1364515630628172433, 1364635286640479993, 1364642608307474895, 1365893928883912698, 1366033048567818030, 1359647331896803736, 1359677892480080968, 1359916708058728026, 1359953511198182591, 1366576092896770388, 1366912719590250705]"
        ],
        [
         "4",
         "neighbourhood",
         "object",
         "3432",
         "43.33",
         "[61714, 69877, 431287, 441868, 71874, 72821, 511064, 531274, 148299, 582409, 603168, 617429, 630388, 156728, 163685, 694828, 184374, 208801, 217591, 703732, 707434, 740310, 741425, 220238, 238362, 238374, 762335, 767581, 769007, 238380, 238383, 784879, 785173, 798846, 804777, 272585, 284305, 846521, 861429, 867034, 879892, 884350, 895952, 293520, 298479, 303040, 303046, 906370, 315636, 315637, 963154, 1034640, 348409, 352392, 1043678, 1142769, 1163834, 366808, 372379, 1181536, 1196659, 1823944, 1266716, 1834997, 1900562, 1295650, 1316352, 1422473, 1922670, 1958392, 1459783, 1464535, 1478778, 2035719, 1533624, 1567457, 1581387, 2116417, 1583452, 1615895, 1630395, 1665038, 1683211, 1732548, 1800481, 2805609, 2253981, 2260596, 2913664, 3037526, 3054903, 3118010, 3169118, 2402601, 3195851, 3195989, 3284563, 2604417, 3356877, 3357380, 3407702, 2737073, 3518072, 3726455, 3589795, 4904112, 4921887, 5188340, 5193521, 4046874, 5268522, 5303501, 4096461, 5360928, 4144479, 4181213, 5472292, 5515449, 5599591, 5600945, 5648121, 5679367, 5691428, 4560040, 4570139, 5743784, 4626689, 4646641, 6712260, 6720560, 6782983, 6035398, 6059729, 6839203, 6867498, 6878247, 6919352, 7018697, 7028338, 7132497, 7212771, 7223658, 6333933, 7238292, 7239705, 6530817, 6552418, 6552897, 7377975, 6600504, 7655457, 8301935, 7718939, 8423436, 8516296, 7917724, 7937417, 7992019, 8561397, 8585743, 8637296, 8645053, 8657702, 8706007, 9741322, 8713991, 8736169, 9741873, 9801176, 8997441, 9053589, 9058492, 9823137, 9221588, 9233701, 9917563, 9968217, 10004997, 9236574, 9269272, 9304289, 9657046, 9675219, 9727843, 9728717, 10893550, 10262174, 10279818, 10460428, 10460630, 11234583, 11267714, 11329777, 11351234, 10530687, 10538509, 11373018, 11376168, 10749341, 11470465, 11496924, 10795221, 11530067, 11600028, 11634229, 10861511, 12178455, 11834048, 11863320, 11954120, 12010849, 12362312, 12443331, 13280248, 12463214, 13320881, 12778768, 13486416, 13515701, 13521294, 13557482, 13593769, 12949574, 12965595, 12983557, 13074432, 13755982, 13762085, 13809334, 13102375, 13123956, 13138290, 13818173, 13824564, 13854803, 13163877, 13954375, 13189348, 13988827, 14174162, 14194286, 14083538, 14088746, 15175453, 14366208, 14385762, 14401813, 14402172, 14413161, 15279977, 14487670, 14500851, 15404843, 15445766, 14623672, 15508990, 15526599, 15598064, 15628288, 15629943, 15674114, 14881199, 14923946, 14925459, 15796938, 15036710, 15971186, 16008041, 16061001, 15083670, 16185520, 16228838, 16551579, 16305548, 16370889, 16606262, 16643468, 16700069, 17380904, 17381345, 17395156, 16788717, 17566689, 16848003, 16904707, 17856132, 18000008, 18016219, 18075425, 16984763, 17003338, 17003368, 17003506, 17018367, 18117302, 17049214, 17074337, 18183339, 18207432, 17145471, 17181010, 17182284, 18310068, 17210624, 17217098, 17242924, 18398473, 17272157, 19582407, 18512662, 19719351, 18556687, 18562910, 18562911, 19855317, 19867565, 18648853, 18841548, 20065575, 20153377, 20185109, 20188748, 19111973, 19117250, 20226504, 20276894, 19170663, 19206467, 20378802, 20533478, 20533903, 20546395, 20703746, 20883898, 20753317, 20766090, 20945798, 21974382, 22043099, 22043812, 21388706, 21398321, 22156700, 22160522, 21398324, 21398325, 21417546, 21446002, 22338841, 22341567, 21550376, 21577826, 22417856, 22446362, 22447010, 22448750, 21719502, 21761595, 21794530, 22530630, 21807580, 21807582, 21854616, 22549377, 22569393, 21939841, 22600270, 22628051, 22646585, 22695387, 22955557, 22726630, 22779581, 23050366, 23057104, 22799853, 23118034, 23119771, 23161941, 22896293, 23816582, 23846752, 23248901, 23853470, 23299792, 23299798, 23299802, 23890231, 23936405, 23333662, 23423438, 23991213, 23996826, 24001558, 23637108, 23639309, 23739512, 23757215, 23784140, 24610567, 24683254, 24685250, 24195364, 24713039, 24293761, 24318433, 24753329, 24813780, 24813795, 24819360, 24844059, 24844514, 24332391, 24361103, 24844608, 24844838, 24863203, 24367745, 24385633, 24438480, 24442737, 24905382, 24929379, 24942363, 24967985, 24493720, 24509706, 24992475, 25000306, 25080491, 25657214, 25674378, 25126871, 25134881, 25220103, 25245252, 25768190, 25259441, 25312777, 25339688, 25778576, 25801428, 25390855, 25395761, 25402893, 25439483, 25910699, 25928509, 25966263, 27197120, 26122914, 26130991, 26150279, 26162087, 26211358, 27336937, 27515222, 27567788, 27599571, 27600068, 27605918, 26482318, 27615894, 27617451, 27618661, 27650684, 26619811, 26706440, 27893990, 26742119, 26803416, 28025140, 26803904, 28075548, 28095591, 26940647, 26998491, 27008717, 27011653, 27096532, 28256258, 28502404, 28560731, 28561525, 28562479, 28675545, 30220513, 30241205, 28678045, 28757696, 30245612, 30265360, 30387364, 30456635, 29066989, 30467176, 30528942, 30581116, 30622866, 29202871, 29305588, 29305593, 29346806, 29355454, 29376835, 29481316, 29510973, 29537731, 31256519, 31366730, 29640692, 31394802, 31432422, 29740041, 29773829, 29821983, 29973848, 29979715, 31549039, 31591679, 31605259, 30078293, 31608832, 30115794, 31660265, 31733642, 31777219, 31873116, 32598853, 31950805, 32732489, 32737889, 32741913, 32827605, 32859220, 32015610, 32861256, 32183486, 32204052, 32287004, 33033826, 32322762, 32323055, 33080794, 32346572, 33153194, 33158540, 33159295, 33186011, 33187023, 32457263, 33206380, 32485147, 33360438, 33600966, 33601646, 33601874, 33467054, 33684857, 33707686, 33741695, 33741704, 33741738, 33741760, 33741782, 34532547, 34533144, 34540054, 34011767, 34014328, 34645522, 34758493, 34119555, 34791926, 34792325, 34192937, 34199496, 34278631, 35145429, 35153719, 35156716, 35156950, 34412012, 34434571, 34437040, 35174672, 34440266, 35867718, 35867887, 35868040, 35932352, 35223769, 35244903, 35244911, 36065811, 36066436, 36066515, 36068063, 36179882, 35476486, 35505069, 35505572, 36180022, 36329434, 36330119, 35611685, 35611767, 35611837, 36432155, 36465605, 35727606, 35763854, 35824940, 36500548, 36587753, 36619122, 35828091, 35867523, 37516973, 37543558, 37546004, 37546481, 37612023, 36819331, 36826691, 36868668, 36875571, 37046237, 37621054, 37108740, 37109186, 37173105, 37742336, 37819611, 37925446, 37932487, 37955200, 37966054, 37983070, 37983092, 37983602, 37984372, 37984387, 38030698, 38083709, 39046480, 39047241, 39047477, 39067098, 39076767, 38237339, 38252037, 38253029, 38253039, 38315019, 39351308, 38318795, 38342890, 38343775, 38366188, 38412485, 38431250, 39477493, 39543092, 38474548, 38545536, 38562458, 38609894, 38665161, 38691838, 38712167, 39641535, 38821048, 38860153, 39769189, 39817260, 39818205, 40753512, 40753581, 39983194, 39986180, 40753595, 40802008, 40802085, 40802136, 40802228, 40802833, 40815702, 40855773, 40447288, 40960987, 40960999, 40961260, 40962380, 40629507, 40629964, 40719730, 41222762, 40751721, 40753284, 40753310, 40753325, 40753387, 41919330, 41255262, 42014899, 42054835, 42054880, 42054989, 42065887, 42134215, 41515616, 41563564, 42267709, 42268095, 42268299, 42268453, 42268934, 42320548, 41592752, 42359351, 42386279, 42418890, 42429568, 42431928, 42433158, 41681054, 41739723, 41745595, 41745960, 41767719, 42433430, 42454372, 41806415, 41831435, 41832487, 42535922, 41857160, 42700806, 42788005, 42805252, 42822218, 42873061, 42873062, 43092062, 43092202, 43168581, 43168757, 43168829, 42948966, 42949470, 42949852, 42950444, 42950678, 42953387, 42953701, 42953885, 42954148, 42969035, 42969557, 42972180, 43168910, 43169009, 43169065, 43206223, 43241098, 43310400, 43310474, 43310508, 43322099, 43019102, 43027979, 43029065, 43030091, 43030595, 44329556, 44339659, 44357496, 43323036, 44470137, 43490117, 43611686, 43647538, 43666036, 43667092, 43687836, 43699881, 44627642, 43709157, 43742746, 43753717, 43786480, 44793900, 43824956, 45085236, 45108052, 43865068, 43921792, 43924743, 43981320, 43982291, 43982784, 43983074, 43983269, 45234515, 45236073, 44057363, 44059176, 45236492, 45237156, 45250837, 45285426, 45309151, 45333195, 44093539, 45444597, 44183891, 45479345, 45541096, 45554820, 44325296, 45765637, 45765638, 45765639, 45765640, 45627795, 45639025, 45670115, 48590770, 48622480, 48654720, 48767425, 48795925, 48796645, 46058676, 46137319, 48843518, 46276603, 46346252, 49121074, 49121468, 46416374, 49437666, 49472103, 49473576, 49491664, 49493948, 49537000, 49537754, 49544507, 49546834, 49554957, 49555393, 47557054, 47557219, 47557935, 49566392, 49568628, 49609376, 49646809, 47778111, 49699855, 49713213, 49720846, 49722920, 49723789, 49727247, 48051246, 48064566, 48164332, 49747889, 49789909, 49796015, 49844421, 48164953, 48195025, 48195026, 48205282, 48236866, 49851021, 49877079, 48264504, 48274439, 49928259, 50531137, 50533085, 50540475, 50558263, 50560368, 50560369, 50603577, 50652574, 49977224, 49979004, 50015261, 50665418, 50670240, 50678655, 50678952, 50049152, 50078067, 50078572, 50110305, 50715955, 50719000, 50736716, 50740061, 50745430, 50762583, 50765629, 50123138, 50145836, 50766602, 50767359, 50770430, 50780139, 50780320, 50780455, 50210266, 50221934, 50267534, 50838743, 50869109, 50294239, 50342143, 50345080, 50910650, 50983344, 51007138, 51028647, 51028787, 50365785, 50366865, 50386655, 50387792, 50387979, 51030242, 51054280, 51058693, 51058694, 51058699, 51067220, 50411016, 50411461, 50429814, 51087248, 50430545, 50436814, 50437702, 50438391, 50438544, 50476273, 51158109, 50499569, 51462996, 51578632, 51600586, 51321377, 51610387, 51611862, 51628404, 51632822, 51647340, 51661171, 51337137, 51398216, 51398585, 51416594, 52431342, 52431689, 52452429, 51723304, 51723305, 51757849, 51763321, 51778405, 52487138, 52522601, 52528726, 51838866, 51854761, 52665700, 52685854, 51877339, 51879477, 51924092, 52821520, 52880141, 52967339, 51976514, 52051439, 53038247, 53038331, 53059147, 53090659, 52064525, 52137992, 52196082, 53160128, 53166714, 52199515, 52210522, 52229109, 52271707, 52272668, 53182945, 52342782, 52351150, 52377606, 53270054, 53355275, 52416887, 53920798, 53929243, 53942485, 53949143, 53950078, 53985500, 54052670, 53452061, 54079591, 54099920, 54121725, 54188355, 54188418, 54190204, 54194619, 53470620, 53471400, 53491690, 54234294, 54255739, 54255886, 54303616, 54305789, 54310852, 53554924, 54310897, 54323392, 54326169, 54384587, 54384622, 543920024783790617, 544598307308356419, 53604796, 53604799, 546894922088297161, 548549712570151444, 549046695088407727, 549046733056032998, 549046842357256292, 549046851491065357, 549046862908149412, 549046872906458084, 53684196, 549046912719632018, 549046930489059039, 549047026615737185, 549047045168879352, 549077145956708463, 549077156581970038, 549077206632412628, 53693019, 549077225752383506, 549077262427870426, 549077290506096759, 549077317438914577, 549107159221727351, 549107179538543261, 549107192328190372, 53761481, 549107201984712885, 549107233849662899, 549107244355961128, 549107266056438143, 549107275853309672, 549107286538305398, 549107308953599754, 53776201, 53778473, 53778647, 549107318427187640, 549107366955467049, 549167656055517656, 549167666722246317, 549167685223160643, 549167697807219600, 549167707499499455, 53778874, 53778959, 549167719707393336, 549167745982946166, 549197790849881207, 549197809551992223, 549227960028006295, 554996044348950619, 555499198208983352, 555712113665394007, 556247389037736038, 556361198086158309, 556391961579759585, 550677382257253052, 552203530620664341, 552598739625135546, 557895701576382910, 554675582235633326, 576733228936794558, 559224987431389438, 559828294904064169, 561530170356097041, 577196644761909846, 577211329093488471, 577349344122666441, 578733875985469454, 561562263004179592, 562230939546947110, 563783864131051928, 564110174742194322, 564129931108385377, 564136748275034829, 564187290427143686, 564280371075694039, 564396395753747272, 583853450684689039, 583956488148094316, 584113200985395519, 584453893380934150, 565086877104485143, 565848006097034230, 565850840531992229, 584456638729454327, 584486014515026500, 584653376925230194, 584654808916945058, 585201888122355592, 565939722560335526, 565976919449572809, 566312330986630628, 567270769493238695, 567928627480686495, 585972256359510467, 587489671283960349, 588232980140593374, 588278372096106691, 568000592901985503, 568006535926176022, 568669015232129122, 569434428427083786, 588787587473096768, 589662381161603767, 590929873715915494, 590994641909116037, 590995643758892468, 591117347813552698, 569649864260904152, 570331828259631995, 572686280844206430, 572707998265964933, 592707754645165495, 593190861493044692, 572712196616250054, 572714080107064467, 573058407268276258, 573069926770279771, 573074131933435142, 573160135617414977, 573171114220631889, 573191927014686836, 593215048345644744, 593275100961612546, 593341946449609734, 594584114878427891, 573532983849394263, 573745881750599659, 573947382884128981, 574492497052969631, 574527589761846522, 595451807363045433, 597729839212072443, 598198775835652226, 598983216699963674, 599295806208463981, 599832163317711182, 599951124561300511, 575220665085353204, 576618350610856976, 599960874480251864, 600539604683995627, 600560914044751295, 600596020530993891, 602030037747448001, 602524870806730887, 576643061692661501, 576653048800956797, 644206080786098696, 646810766204284452, 646889079336474809, 602600126594028892, 603937629382350849, 603976984595737078, 604260482822965434, 647466608067971127, 647535233311874621, 648139068064879624, 648342882380228260, 605330197818075300, 605518904414495889, 606337751482983732, 607261494591952945, 607263364194835603, 607725528169620872, 609048579802688216, 649166953541199640, 649283340540638872, 649722510436714944, 609132892911562396, 609220233938813032, 609769681910660098, 651177437063812379, 651307995344592147, 651326465949031654, 651879072182429115, 614884333216385562, 616567468851584212, 652685957115435873, 653265503925724074, 653631951626460775, 617037234723759028, 619590774022810725, 655066974280065952, 620166199542434581, 620184340867020639, 622044687001643327, 656364882719960269, 656514440936923339, 658395685181196120, 658402448077784881, 622283583684103091, 623807345597711079, 623864415811595466, 624675773517222415, 625981899233545549, 659904292924629719, 628274913522437496, 628687042942193925, 630450386688784710, 632947973829892933, 661420937317454555, 661458283381695159, 662300740796783506, 662686924762183685, 633113328146471183, 634430345153961402, 662713001475262169, 662833976365359531, 662873434815920155, 662928375135344434, 663512947845813153, 664144787012396845, 664145074206900319, 664145246768046914, 664942766518802790, 636890804073849935, 637512253145750991, 638300545340556802, 638400929135061122, 638403805969773939, 638405224053587919, 640573567280884465, 664949577865847070, 665119794776701299, 641749541489356941, 671495131372804832, 671499391376551498, 671502439065092652, 671504996561751909, 671507608882429537, 671512068583594186, 665807250660691595, 665807357732752546, 667702716418352345, 668596858876544127, 668650090637384992, 672135415536352376, 672143125182310747, 672151723194425517, 672156581317155373, 672161053818689306, 672162738836687009, 672310889048894850, 668716351134122344, 668716470620708698, 668716928200136624, 669520835659391671, 673564140178408724, 674315072431841014, 674546147633902883, 674569538967351141, 674963595963342539, 675771717808310686, 675781261072441077, 675886588589149597, 670846691230289868, 670891936912821374, 671409777664608461, 671429106601589115, 700800607961930143, 701070952508622673, 701216320061934035, 701649857282382367, 701934175162430169, 676622832861312994, 676644879457973252, 678149110855811886, 678155501942692283, 679498594637487931, 679506734965810601, 701953378007299281, 702046908781094621, 680143510068064957, 680382294646644558, 680968836630541354, 681696376426301066, 684054396347155859, 705728973348245305, 684648170377799415, 685115200137028680, 685349629564161028, 686297002562728779, 689022023725149058, 689192267696277012, 709122746464370986, 709862458708445067, 689518709926820942, 689824068487648965, 690278373355076886, 690604781659802393, 713468413653295397, 713477900927771396, 716675001218374596, 692238368879076495, 692537214742615034, 692804245589277408, 717307136142220253, 718716660876105339, 720129337182930794, 720302944067925308, 721394244811583199, 722283993791502113, 694121108472381743, 695330116900300878, 697660155237369866, 697700555960031786, 698317441115511619, 698435356902430959, 722287108307422826, 724325457326019497, 724502932255405735, 724507690316470874, 724549473987401732, 724557091398859840, 725834754917319916, 728685803584988906, 728890964046035753, 700633952042507996, 745477211859171476, 745671384712444489, 748252587124786147, 729587024997178381, 731728604856416202, 731736814085613789, 732522539484314144, 733295475350541479, 733530290707276780, 733709504812028391, 733781379397976409, 748999259569336631, 750577902143736386, 751158143109279616, 752628637260565855, 734550726176649255, 735184034045468044, 735211027290420608, 736046032168257824, 736246608049823269, 736250094898977332, 736722189382950462, 736777448434039734, 736784695652120493, 736795151172005885, 736805444814902861, 755504844754180972, 757651089440922633, 757661897059939968, 759960952218893509, 760768612131661469, 762365266807172345, 741672381133061454, 741679202560302667, 741970547484053891, 743108839905315839, 744760241432823124, 762917944566972527, 763659057079094636, 764310092915656289, 764939906518257606, 764974252654522587, 765847308862875792, 745379915576881251, 765900024048690476, 774553925307108697, 765904305039882026, 765905740676247139, 776017551931515963, 765916207305333956, 776137738650288549, 776591356965362280, 776921015422202842, 776928748437141641, 776933934126926690, 779643016588887076, 767226058771020148, 768251633989466183, 768986467042769067, 770001167149616124, 770100466761547480, 781595375164983894, 781656400820592851, 771081740628613763, 771102841375133271, 771129642699496313, 771488607027890590, 773781107983535591, 782287482390742815, 782444763287547432, 782725347608725568, 785763643224543058, 786052910611603497, 774255331993683378, 810734295788932628, 787152902567157850, 812875297423399445, 814855414889006823, 815297886370890203, 787538400643290574, 787750536550792351, 788240680296562195, 815681624953139917, 817196070864448954, 818765424918233121, 790502699195998435, 792672677830396102, 818914306204706609, 819686286060935532, 820262868450185289, 821041021393625452, 821448422377181357, 796347834491764259, 796358638745764401, 797074763122378379, 798545380491637465, 800424008410493013, 822141404926991832, 801375635949961920, 801377482131067824, 805119376503411287, 825968119328381821, 826015019619079224, 826047483616533970, 826883287415861106, 826961356698138082, 806966476473135544, 807320200892607835, 807675656270226907, 807680416085116912, 807682586483941230, 828110412554619891, 828723869155900980, 829232242195913025, 829245078528604905, 830272643532171896, 830295690272706295, 807684208837043608, 808099177768162020, 808417325171281822, 837020906760941114, 830368920587858984, 830392552733062413, 831127753274195814, 831691520409327634, 831711271176721766, 831718327610589757, 837412305969886929, 837537615282643776, 837549115325763595, 837553108828232216, 837563758386626855, 837567231350634031, 837570258603325753, 832296493775728970, 832348174920426769, 833755394697249031, 833755497568520385, 833755799147288492, 834178316221644052, 834202136066435100, 838186518676478074, 834677097028847384, 838203004707155008, 839541020771427044, 840985079777351460, 835990297827592549, 836001545790623347, 836120721308409563, 836258811277577192, 854177158729918270, 854255282817382588, 854890576400459864, 841045593467763396, 841725893607301228, 841727999937122566, 841761973514965343, 856366225682823825, 856411208202489480, 856490703702491643, 856637911386147231, 841888739481482648, 841971128749332488, 841973199855693980, 842273158355099075, 842444842299926246, 842445930389117853, 856886228065557167, 856998614508561337, 857041354425621445, 857044118292291508, 857336552173430589, 857647055081649303, 858087028117335826, 858087207430831992, 842446479352798682, 842447525774130356, 842448767203259993, 842532162835415942, 842625185342811957, 842651622652738901, 843164675108142556, 843241556864366381, 843318036512355960, 843349915974519411, 844100912735676966, 861499260929792509, 862140883533006821, 862192021601842747, 844265941171279914, 862192686255082895, 862203366054529007, 862805566607912750, 862805751411271892, 863048625430991961, 863060688788943629, 863080243255275060, 863796140448327861, 864288950872962544, 844805627425926996, 844821900168008756, 844829015346776973, 845344231241174040, 846767442663689381, 846803022295150503, 846826581345715023, 865269458040469106, 867912884036811096, 867975551966097487, 868534836170655754, 868545762924393107, 868705760879930083, 868713422818072962, 868721843412377311, 846971626425009154, 848208372538001048, 848354916176388794, 848421217400729417, 868722219351654389, 868726020325156664, 869205671919598380, 869231838085684530, 869238282464501029, 869279126774254659, 869284533574566813, 869295514768355869, 849025473906874035, 849126724707015295, 872223704816823526, 872520823346293374, 872926879981497038, 873029484368708499, 850612650379296516, 851855228108319397, 852266244244830835, 853321750078461407, 853364551853841366, 873137106054981496, 873587307937751666, 873620825096547897, 874528213181534672, 875062299702523610, 853684186878695574, 854120776002129740, 902838024416038950, 903712253958386598, 875393448678687411, 875404758515284161, 876036810425554424, 876464992539127085, 876465103183674430, 876501422136361496, 877305202171757224, 877337207890881386, 904092188769783021, 904177851440853441, 904179199867593982, 904229558701927009, 904247806526892598, 904273285249435575, 904279016199741912, 904815514706557277, 904821182945248106, 877560426703064537, 877573553472387376, 877575512102004149, 877577062109487942, 877883129302152343, 904823913475463456, 904826322983717983, 904826332407528489, 905039785796868341, 905042736251819404, 905047404157864095, 905050366840718966, 905052806641753240, 877943090585248274, 878054612958383638, 879362416127455867, 879436462276999783, 880825389206160218, 880829846973742643, 881137013820539482, 905055415725242768, 905055437245490194, 905058098880374966, 905058108506596673, 905065602273581818, 905068115316978725, 905070687557911874, 905073098623974900, 905076114232541390, 905076124850681268, 905139769927877381, 883369506670516018, 883722372069765402, 885494884138712348, 905992549109134714, 886868008950501497, 888095187807495001, 906643116722037339, 889021003815949525, 889211771041724039, 889238586373062515, 889748690270343444, 889924235833822968, 890263266100591276, 890267910299171211, 890408523304735551, 908436870584561413, 890638031194764876, 891301681210681370, 891377104394754416, 891408720832326490, 891442455524546876, 891829796508414293, 891990697361638905, 892216818458102980, 892624176101166631, 908449819355594566, 908690648531039941, 908827712520633373, 909223285884926369, 909223299566977268, 909419579348838376, 910188521167399633, 910762133318779688, 892650707047383019, 892660391744921000, 893384208471303725, 894097793219663827, 895405068711035135, 895520924602184672, 910767158398302230, 910770771147862791, 911421627235307114, 912080631363242453, 912251108645574354, 912737831378532791, 912959843225667760, 898304615063406289, 898385302247969606, 898426758397260683, 899066001576727094, 899920026985592276, 899920149534747381, 899995019859349143, 900081867917024839, 913121427216660561, 913667464444948575, 914266021996929560, 900694040497036973, 901902513580921342, 902190326979096728, 902491000918644940, 902537206684030126, 915123959930184533, 915172406551275974, 916385169940189046, 916474186216959748, 902796436234701154, 918692058543827764, 918773555791503555, 919275770801628802, 920028217232695841, 920174207942910842, 920220233733911305, 920274471136901900, 917139700973873928, 917949092346277218, 918195938073113846, 938144895537892471, 938146613539244104, 920709515583972222, 920828546044901266, 922171703902677597, 922518017623739333, 938147625406407609, 938151177307775271, 938361691001930141, 938957902539867959, 938978623479288210, 938980808323922328, 923619373141919932, 923695886182578355, 940670527606217390, 940707709189637660, 941224079416161086, 941495631408511385, 941895615608834488, 924398117683958821, 924407559630788914, 924426459253112636, 925823773823038456, 926010749130496340, 942823290977208729, 943237197679571427, 944271976005026026, 944658448844841790, 944849497136470513, 944864906130280389, 926482508230438930, 926912588264512477, 927345244816756239, 945296409882984631, 946614265883675284, 928701633343360611, 928965379322878224, 946626388715172869, 946632698776696358, 947873384145289850, 947933991574104090, 948405674622428602, 949026541882771236, 949038646715849146, 949057689892091780, 949722796195808723, 929402775009837436, 929403263075093667, 930107334374544575, 931149512404648413, 931278979141870302, 931570610265006854, 949734673712199464, 950652966869341638, 950691937506631537, 932717184424734514, 933838091879739506, 933841647564872255, 933844254438438759, 933881419270448963, 950719478642181733, 950737274393220960, 951108168705947127, 951109054001558061, 933899931593918429, 934000134035936707, 934000144630391464, 934002588215474903, 934008144550190561, 934397298348382107, 952655126305481575, 952817647855051722, 952904000170361814, 934404480453586169, 934406781280878656, 934406790390218983, 934406800990944137, 934504084808776735, 934513609680640479, 954213927870826230, 954442410357334197, 954829424053217642, 936435014904055244, 938141861447113867, 965914381850927574, 955497035865727976, 955581086249940650, 955691533700422314, 955736004587314345, 955758591570449196, 956226374355287944, 966037914609141777, 967229455655252680, 968081321299636771, 969248088822527118, 957890980987243124, 957893892263871873, 957995381075738308, 958424743922064382, 958521211556252326, 958585586787746669, 969498170866937575, 970886587487280776, 971406619635037674, 971472398574360859, 973876919369586833, 973950257283187038, 959144274645126251, 959471453965777823, 960750958293194658, 961044770154930028, 974275709349147712, 974594943416279044, 974604118040248736, 974648252270949220, 975424943839869272, 976211656378188288, 963479513938135704, 964479500980551345, 964545291656667227, 976591198222655115, 977466719617229854, 977494666619872099, 977500059155237747, 977989660719636713, 978294202617560222, 995806616009362590, 996881778192754635, 996972606142000803, 979473953622655549, 979706581208557424, 980896383326877992, 981578902412218090, 999186961174458499, 999257233946219462, 999294647659702307, 999787784392835696, 981827184820246911, 981831074726899704, 981834607948611671, 981842783730361729, 983181846764875194, 983312929727986437, 983992533347290706, 1000690458044999604, 1001341233025177499, 984855934020058487, 985232945075139591, 986826364565972927, 987698851343710249, 988110806307841408, 1003480825894641507, 1003489913948389382, 1003514368898010148, 1003557784400752978, 1003573037870763972, 988343383292292645, 988985145352937799, 989729617903970676, 989861195408373493, 1004227587811382190, 1004380762333076538, 991215175367724858, 992108304958054454, 993348403313947626, 994567561554408677, 994575834389133038, 995104320333126876, 1016666101605849059, 1016695412752790117, 1017943737210623048, 1018109244059389874, 1018888500428208363, 1019462463298740195, 1019852140949643968, 1020212997792042744, 1020421497149255180, 1020944684221145146, 1022449939961900736, 1006252653843819469, 1006449664247736876, 1007057640438279826, 1007866309044542654, 1008522151043064119, 1008684052220675280, 1023878666544335561, 1024644524670828776, 1025279883239618667, 1025315305235882115, 1025373089515657601, 1025908460539009403, 1009220079730942322, 1010626665790591601, 1011437386212825550, 1011521198870253251, 1011521344667460788, 1012142624324086388, 1012738263713619613, 1026783170686846798, 1028899099510499738, 1028958093653493407, 1030434195089854163, 1012948012112886702, 1013007350235163272, 1013477164521842536, 1013486740869279515, 1013547145409846009, 1013572248656244699, 1013609886362396710, 1013661530142538034, 1030971188131175279, 1015343331190302871, 1015822132938097557, 1034090103265556175, 1034092759556046148, 1035547005273198010, 1035561989289681415, 1035942922149847878, 1036181568733815012, 1036821821993884019, 1049891486570104800, 1049918645815165674, 1036851248368257136, 1039091256868952584, 1039196023195025271, 1039280915112536502, 1039298354382329237, 1039571295772559304, 1039586921041220381, 1049918743056228216, 1049920221429053121, 1050966328298621354, 1051526946971130034, 1052061887145847787, 1052848162775982712, 1054283059928628507, 1040314425192268077, 1040348875918530916, 1043422114011429150, 1043656713215406286, 1054354781377123983, 1055567370011856575, 1055648087352832220, 1055899552106486286, 1044291182898437468, 1044740354424918698, 1044797655089701090, 1045019061214188746, 1045438950210180404, 1055922883069407530, 1055929250993499728, 1056019517969512472, 1056320471943215360, 1046193968628087299, 1046236315431073541, 1046600738548202248, 1047051915405690952, 1047105417583551873, 1056408740003257661, 1056537359199273052, 1057763184406505700, 1047532247583677539, 1047541681816501904, 1071730985957647632, 1072184983215544612, 1072367144446454366, 1073230678103912317, 1073995144896394653, 1060674935133918036, 1074331024894267292, 1074331042727815738, 1074578377126931085, 1074724472918633842, 1074766595126488175, 1075108493215768685, 1075198533772122401, 1075243337418378868, 1060686552087873123, 1061293727679955622, 1061339610794335894, 1075271561141699038, 1075404746347732752, 1075475518106635125, 1075899004294000726, 1076041088275296522, 1076792641188303871, 1076821557693274506, 1062037501926291485, 1062392678699862600, 1062429737045035595, 1062489140787132231, 1062816199600080449, 1062942791752718777, 1062948632770302145, 1063711446933352297, 1077357500575659428, 1077608680774470022, 1077630132775047789, 1078979215715393851, 1079535330656749130, 1079560939755545107, 1079621853202932696, 1079682567662652209, 1079703111547026850, 1063744373372592767, 1064254415875765347, 1064288645299628696, 1064487285794044889, 1080213611798243209, 1080352815353314980, 1080716828324878232, 1081008104561877015, 1081097650992443024, 1081119511292857826, 1065085741774278791, 1065166625170314642, 1065858804063666232, 1081632129065929697, 1081964152020267128, 1067039612488155883, 1067200416427834512, 1067301357031315949, 1067313770272762919, 1081978850142291593, 1082001594459316931, 1082012731488386255, 1082017080151506523, 1082430366392016776, 1082430456875435750, 1082430546475607967, 1067836474245419546, 1067911233091140375, 1067973942357207003, 1069351932069861591, 1083272689233666973, 1083371516537937524, 1083553473678978563, 1083870863468368963, 1083891694842311211, 1083926214126829618, 1069360839089815303, 1069423246479995287, 1069660008339950937, 1070005023752299930, 1084617159613319358, 1084618979289736813, 1084621239372555264, 1084635054800727683, 1084768554433866212, 1084768688449457130, 1085345655421747380, 1070516367301049544, 1070891130484154041, 1071097983747724332, 1071113243356019555, 1071144011832573408, 1071151614174742845, 1071697268573341999, 1085396509266939914, 1085401248959818110, 1085401898147738671, 1085407642565962152, 1085687918760177509, 1086149177226686271, 1087015145249557037, 1087488145006164690, 1088100045788064625, 1088202863348807618, 1088296493704370054, 1089009009416768024, 1086901848334059227, 1099975087529148383, 1100679614870536967, 1102024566565110299, 1089345353154687521, 1089863623129232097, 1090403264155142114, 1090516010914059325, 1090521373885353819, 1102121940658938119, 1102311302259528119, 1102324946689487566, 1102945644664328461, 1103484772925388093, 1104226969995394461, 1090572575065866372, 1090684672219878229, 1091205119120581818, 1091245333960931647, 1091326257641366726, 1091767767546078754, 1091789324604332743, 1091810966984916737, 1104348761986316755, 1104374296577941335, 1104534029772761431, 1104799871389380111, 1104877451689814299, 1104943560066501934, 1091832295692527962, 1091853073419787578, 1091925624694691711, 1091945544272382985, 1091972168650631089, 1091978786462302657, 1091993608342228092, 1092000803198863475, 1092021434462754749, 1105124566022035675, 1105195007323830500, 1105201027328574575, 1105776358579333281, 1105791276366011491, 1105820483315796411, 1106372780749038706, 1106624459909502112, 1092509799943587135, 1092547803565688426, 1092658234267184172, 1092664285774415791, 1092682293894965596, 1108133075629673557, 1108548321056922157, 1092702137734182454, 1092729321259391212, 1092733253781988437, 1092778780950393148, 1092880874916680177, 1093212887437793843, 1093224215606353381, 1093239052112004053, 1093422629862677911, 1108587820686909130, 1108616579498418188, 1109205470075258289, 1109405967906317608, 1110000899448086373, 1110264814855184789, 1110690216493741810, 1093463119660474677, 1093463538992840326, 1093994938541897735, 1094089827087763695, 1094095547452893361, 1094106221667200271, 1094108530533726106, 1110966470674419245, 1110992115486680037, 1111010461070353705, 1111439862693385443, 1111563715437318016, 1112112464917101688, 1112123570488922115, 1112416440387395678, 1094110508637134278, 1094187742254829936, 1094707463894949954, 1094911100730109729, 1095808676974831779, 1096117002195008599, 1096166548400120623, 1096168297033965180, 1096172552702413564, 1096180983776354550, 1096279582667713259, 1113815978631089485, 1114426819454237937, 1114535091822626762, 1115021895577378834, 1115035206723392981, 1115076873477579483, 1115214562951108233, 1115378135073611348, 1115713514943806121, 1096395569424542855, 1096903200017888392, 1096910057225390433, 1096925077199733564, 1096992439399138752, 1097069327295116750, 1097070322057710481, 1097101618116919325, 1097609988938042064, 1097636493899491668, 1116623694346383044, 1116666283299821616, 1116738369193202892, 1097666930364272186, 1097750148636109507, 1097964086263143003, 1099159335168687500, 1117361202033629637, 1117398303358327435, 1118095953169898309, 1099401012384269036, 1099442257438563717, 1099631111022405097, 1099915090070777821, 1121016657341795019, 1121079470733835694, 1121558428544105826, 1118662108306640591, 1118682585655198143, 1118843758834034668, 1118857346632374823, 1119032112301503297, 1120304299036193519, 1132355087596960427, 1132425637187535747, 1122281634469034594, 1122364198522681494, 1122392840695035584, 1122399049185051845, 1123165228728047206, 1124085508951300082, 1124378020875145813, 1124397389912228599, 1132535354027633596, 1132635860708830787, 1133161855343308845, 1133207254571805076, 1133217599609383527, 1133236941948318647, 1124485842929689569, 1124492622177133269, 1124495438924945988, 1125146165144986559, 1125319041767567129, 1125325978723893106, 1125336328680804504, 1125343858782015811, 1125354079581425982, 1133240139943305054, 1134492764338355995, 1134515034450761559, 1134532765975756746, 1134696171504382278, 1134740567393947669, 1134812688571147108, 1134845333276481551, 1134865077836165168, 1125361791086091128, 1125867583408871542, 1125883628946002900, 1125960333512610747, 1125960395875380188, 1125994643901705614, 1126012670903406806, 1126024346850122681, 1126098331522144173, 1126268462637280116, 1126555288368710741, 1126684210735664943, 1134896847256575319, 1134920632145199812, 1135368415024631914, 1135396132337109601, 1135412179379964715, 1135442261452261940, 1135501787186532654, 1135538725764395689, 1126705372749729269, 1126778646373414970, 1126870432101858161, 1127368078645893759, 1127673608505632385, 1127973028445723029, 1128028740660708829, 1128051148370461241, 1136179732695200867, 1136691724021653573, 1136786448085677953, 1136787447889389848, 1136845823569540725, 1136852730795878024, 1136858123606177859, 1136895557536726354, 1136914798512827639, 1128054039761274911, 1128153872036940536, 1128174613484545936, 1128180673476262563, 1128184020949605416, 1128209450206518924, 1128228024760541758, 1128230340121806052, 1128233251453150564, 1128235554569507793, 1128237390188448911, 1128240619421385957, 1128244893720715302, 1128385786864587750, 1128659091413073167, 1137502207415842337, 1137703859333747796, 1137833297104074995, 1138164411197049674, 1138269954969870776, 1138299913700669740, 1138362021269310848, 1128961993694770392, 1129058751953057388, 1129276668164500275, 1129489948474967452, 1129662021093935394, 1130170853222304351, 1130303866671637604, 1130363836773968721, 1138525185921733968, 1138556910296298680, 1139062396754014137, 1139078937028389479, 1139727893782652831, 1140394179864186877, 1140436897707819435, 1141268140363041274, 1130434089998644460, 1130514816412477011, 1130561602069153990, 1131014961242849367, 1131050574490973390, 1131105287780837590, 1131112817297579738, 1141307998735534798, 1141784279123343945, 1141913626198357996, 1141987562640286537, 1142122389161898431, 1142443875412670775, 1142530791009097271, 1131125337168160827, 1131172447334532308, 1131175921931285523, 1131768209645972266, 1131815996341157518, 1142760937725856637, 1142766527139752356, 1142861459710800431, 1142868077398602328, 1142896149641648145, 1143437846695991382, 1144158094207221453, 1144198234931817223, 1131822599409891683, 1131969623898996999, 1146235880517350529, 1146408450146450116, 1146481357864363038, 1146967219552598734, 1144215244576791512, 1144782101988804907, 1144821766157445572, 1144944626902829343, 1145441366649062175, 1145614390928087638, 1147553254762112913, 1147843531660265854, 1148300338274024987, 1148300447080620308, 1146223316781299250, 1146231339027145342, 1166598260626742238, 1166608471265372040, 1166615885224184483, 1166743089695273424, 1166758619393799107, 1167169374587736904, 1167176507878028232, 1167347270554946277, 1167352913652898752, 1148369625424641576, 1148630061800522800, 1149240637231609074, 1149778015887132245, 1149811395005690362, 1149962750368730287, 1167365697508427852, 1167378783944272913, 1167379780206795896, 1167830348239324058, 1167883576977704619, 1168098030634623672, 1168226326013178689, 1168244036505164592, 1168277371767686103, 1150710839576490327, 1150863537562721407, 1151356839669861774, 1151373789838556009, 1151597582267543200, 1152019846632831609, 1152077860797986222, 1152363448044071117, 1152793607176917881, 1168611778427108912, 1168653956385179970, 1168661848204384440, 1153612225066357985, 1154113653695836488, 1154146856988104285, 1154226600204779461, 1154324351843059921, 1154523746985283378, 1154841234616887068, 1154989947281270505, 1168881507668286002, 1168969358011979164, 1168972911901812737, 1169342306661893473, 1169425183385642388, 1169432943394301687, 1169581081056880046, 1170178722891857155, 1170250202751768604, 1170394717770733684, 1170825186334243827, 1170854399234085829, 1155006250823627046, 1155155606336876991, 1155632546590132870, 1155828232306536937, 1155960875968885439, 1156539906392343268, 1156608619817385809, 1157194531288593044, 1157202043400531208, 1157209526428835716, 1170864864779567371, 1170871328389941136, 1171144939897438568, 1171452435097412592, 1171615281440122859, 1171625288070571247, 1171818431889131357, 1172209757040344505, 1172250914248007077, 1172278837172804924, 1157222969827643276, 1157728025713025545, 1157865095488718274, 1157913647727309940, 1157923074158634629, 1158457366718586664, 1158639976913028413, 1159402917428425544, 1159424148238555260, 1172410194941860459, 1172461704358549821, 1172482562377889863, 1172495183595639895, 1172562059163674708, 1172566257473982085, 1172586815208204155, 1172596554904547411, 1172630064597888210, 1172828773227753595, 1172848388665327644, 1160640290754110803, 1160641054519460295, 1161367709963860718, 1161386959894023798, 1162176810246806116, 1162234984782680719, 1162246757248234708, 1172950516850350787, 1172994750516779289, 1172996178721180315, 1173131287518642027, 1173291146798962773, 1173354396828920979, 1173684335686694156, 1173684881354469863, 1173704255859512740, 1173714667633262554, 1162258022825202943, 1163205960954070502, 1163328331154844841, 1163533301836000065, 1163549899953888023, 1163567258235456449, 1163634272584094607, 1163661743530123646, 1163757644194471672, 1163800464559750042, 1175326687873276423, 1175364113013922394, 1175446147312298106, 1175491190445251667, 1175845318430675889, 1176079142703942345, 1176219710317570914, 1176243703534151706, 1176247751236763451, 1176611240176030068, 1176856213237397157, 1164197375186998267, 1164352900011086287, 1165181172249985164, 1165273971019095954, 1165745536366686389, 1165748246198485341, 1165992241857914292, 1177336194970006586, 1177339439234671586, 1177344072822365867, 1177395821061073327, 1177441849917613272, 1177510105263894249, 1177598774116080060, 1177635190903847766, 1166458327265737677, 1166477941706592934, 1166532968596783793, 1166591109358510031, 1195464447227903520, 1195638612846655797, 1177654312235539596, 1177746757598157977, 1178049798694290654, 1178281870441546816, 1178348172274801971, 1178349577327642567, 1178755319313962804, 1178903958492597016, 1196099164195351579, 1196319576516186855, 1179384168912145713, 1179467932459355009, 1179575868350681906, 1179656320099238235, 1179699464135584563, 1179720635442247495, 1179741567478389538, 1179747391201190820, 1179781849979373519, 1180333019198536294, 1180396755381678193, 1180469211285731721, 1180914062976244553, 1180936517203305433, 1181054118838351205, 1181337689859769761, 1196904657021586587, 1196954607597269349, 1196973694969902978, 1197110953279908046, 1197149434393621614, 1181751405185138587, 1181759814482747145, 1181762279711828254, 1181764618430959046, 1182399275679927331, 1182403395263989574, 1182598907422561328, 1183060360419152748, 1183146326111268842, 1183257430647298167, 1183966530045302500, 1197579341757133988, 1197636161043741489, 1197825523940817298, 1198287306785345437, 1198430886558462837, 1198969001121959588, 1199130295421766898, 1199140059480344304, 1200107229715429338, 1184026459257008703, 1184226057349901133, 1185239943664526250, 1185445861536095295, 1186144856813572111, 1186214634405179511, 1186724119795683801, 1186734218543608740, 1186854254515013859, 1200496394729326468, 1200698556088566225, 1200840828324073036, 1201149021909417785, 1202272924762434038, 1202315857404113736, 1202669556715736015, 1202681302212481745, 1202775904346455729, 1202836942320413501, 1186923363290269938, 1186987367950913816, 1187074441604795501, 1187402454345151700, 1187443052823275512, 1188193356749216397, 1188584934136387294, 1189091917558426698, 1189209222632682160, 1189837933325037926, 1202904431750519087, 1203082640315563102, 1203346609016334017, 1203385114990860702, 1203385314187409577, 1203385650245229293, 1203612185366829934, 1203618602252003745, 1203638046145499425, 1203662558236163427, 1203671947084990603, 1189894175330842045, 1190623661096576471, 1190675367521625163, 1191292311758257965, 1191299676971606175, 1191399713058612161, 1191403492627432250, 1203684625533115288, 1203690261440734403, 1203693763649670830, 1204077025466634598, 1204159891731303920, 1204240005221117556, 1204249760760152858, 1204368004985570774, 1204447007358485499, 1204894317379142355, 1204896907316844047, 1205468699799158498, 1205872472925935166, 1191405718417118299, 1191473595075755377, 1191902737401465546, 1192036933105008789, 1192039872163570601, 1192060107472842224, 1192512449678618621, 1193346302951360022, 1193382591664929080, 1205898816502170393, 1205923832719813513, 1206616775288991546, 1206990237100471298, 1207248751738611278, 1207358848156498275, 1193576729234847910, 1194018327831285928, 1194034007644461284, 1194079538606409784, 1194109219449780906, 1194157404073670419, 1194158623942315263, 1194186795912413497, 1194227160838199564, 1207581483275385888, 1207778331350685695, 1208597122271910526, 1208633098257961487, 1208684674375002355, 1208725575290781199, 1209138608237195335, 1194312928732826777, 1194360786055939394, 1194671182522298232, 1194915976300080064, 1210889248576632028, 1211318388554541948, 1211503086389182487, 1211515539719764431, 1211647294048663611, 1209140488011093971, 1209297243001089216, 1209438882312960574, 1209874699977588647, 1210256658863991727, 1210873438523703982, 1214416551049031581, 1212780916076781549, 1212781555982689758, 1212781884533321784, 1212782068576970207, 1212943120234058184, 1212988103906410818, 1213234294073638196, 1213243182026184481, 1214446163446153916, 1214514573884191311, 1216368830809196854, 1216455084709790087, 1216491606863222286, 1216494385295586089, 1216537201081599327, 1213639680732181236, 1216808125673007370, 1217352037151780534, 1217472734879709251, 1217902305323239181, 1217920697687130827, 1217929100913118190, 1217938125458878631, 1217965703167491815, 1217969057016379785, 1217981445000394516, 1217982988443106277, 1217985139192087743, 1217988478801006672, 1217990528142251530, 1218079663774059719, 1218079778129695471, 1218079903762568747, 1218566372081626911, 1218613352746500522, 1218950194066386089, 1219586036682934891, 1220236420808301151, 1220845510783223547, 1220898313472090238, 1220955208041043848, 1221529967983376053, 1221682323509508932, 1221731178597045771, 1221772306542938783, 1221783913320561293, 1213730867939190078, 1221786960522269595, 1221791124409185312, 1221795341894990534, 1222326463184615240, 1222454061626610038, 1222990569683405794, 1213905856071128936, 1223632234027887776, 1223667650427122081, 1223730488913094870, 1223755878475043521, 1223805162188634512, 1226565187491241376, 1226575951591317605, 1214244729805613867, 1214251533700841852, 1226598388742218759, 1226920371682349466, 1227323538090252056, 1227347038479708753, 1227366399659654882, 1227376421498125786, 1227408357486805763, 1227433928422166966, 1227455323269537330, 1227466915192889802, 1227481122620404416, 1227484706988585342, 1227661042218866126, 1228101848627677563, 1228215951586678828, 1228228803849019765, 1228302326512216579, 1228829712773836232, 1228830228487454213, 1228852523058937284, 1228865074470505136, 1228896343269920075, 1228931183480447079, 1228980511115423271, 1229496563583052992, 1229548080757562963, 1229750437914117773, 1229792540579665182, 1230238392441324801, 1214320768004897030, 1214390805493124682, 1230311393400889279, 1231705377342566863, 1231854773417586490, 1214394724492677057, 1214407671406182460, 1214407895900581185, 1214408000128237176, 1231867779577726835, 1231957401047903224, 1257361676754757199, 1257380118466200288, 1257382379096569869, 1257931094690462511, 1258109724729295809, 1258494104272382995, 1258506299749502699, 1259224077617780583, 1232521529396138540, 1232674352095743305, 1233042106340861086, 1233120891732354082, 1233127515652365234, 1233134587223020205, 1233175269619211513, 1233301339952806429, 1233468483343255934, 1259392220091411155, 1260598674331608934, 1260757512101389196, 1261080426952221841, 1233988933769630192, 1233995670486746142, 1234037846504823452, 1234173393022273608, 1234605489892365178, 1235487639570720937, 1235587365471646886, 1236157349756437074, 1236244429796957182, 1261421684986126909, 1261673999298971267, 1261718315461631752, 1262258790992685156, 1262369374479364929, 1262403212365000927, 1262484070097878024, 1262787630979448673, 1262932635774970315, 1263752810248699399, 1264290532326488659, 1236286937269267430, 1236305819243648388, 1236308834830067086, 1236765439430871433, 1236870076179595575, 1236996554115021572, 1237443157689096307, 1237616852495526769, 1237621692804609310, 1264410961280387403, 1264683017888321172, 1264947265705367166, 1264978326687375990, 1264978346120047412, 1265701962680660966, 1265713813279650067, 1265856345348954945, 1265882383762684609, 1266477269462573632, 1266525130937539715, 1237685862842036245, 1237695729900365725, 1237702795600914486, 1237708481772340314, 1237758784945891465, 1238877147619351971, 1238892421058809836, 1239108602127896668, 1239637851821631367, 1240686572776194318, 1241993728395988534, 1266593751112680720, 1267187032932697305, 1267206288298462609, 1267344104805288539, 1267440297496080610, 1267856449843592794, 1267863853974828921, 1267912358660233723, 1268035283137815749, 1242571860995742026, 1243170796218874665, 1243364844305576333, 1243385637529899948, 1244091142998620608, 1244317297172390794, 1244636746677987067, 1268043070059797886, 1268842115808501232, 1269365159333474366, 1271523875129170373, 1271720744152892783, 1272351539118913544, 1244708534903748569, 1245415208528617193, 1246840598248097088, 1246899383997535346, 1247013264722070801, 1247130394594605799, 1247218798872059886, 1272371416464486670, 1273034369814996072, 1273791688272805308, 1273846946767749668, 1273884094349697937, 1274296134887203795, 1247643070180030843, 1249126923987565481, 1250866959009586912, 1274547764604623716, 1274547906423999959, 1274548019858045776, 1274559703614536490, 1274611907631383770, 1274613688162700215, 1274772038331619806, 1275341370879423180, 1275356316855058273, 1275505998334073577, 1275904232747210514, 1275996830548257064, 1251087164893336128, 1251278845381517419, 1252045407186534259, 1252172708477749675, 1252691630467656627, 1252706809156234642, 1253378766872058786, 1253447719812431481, 1253560186404175207, 1276244251868772948, 1277636988557184485, 1277731534181126280, 1278105607991370377, 1278229944072349459, 1253733176449330034, 1254158024541668916, 1255797807566238474, 1256540622125406409, 1256566065060272684, 1279705569984950325, 1279211672454165119, 1279463731852675674, 1279558795865919959, 1279561976514657940, 1279607849322776151, 1279622572559088418, 1299980490514542531, 1299981592718913476, 1279841508408571445, 1279846460432275443, 1279853545939296566, 1280414729500201371, 1280453963427112295, 1280462337882268589, 1280578877323887420, 1281741221260572620, 1281872336471406164, 1282128793970050088, 1300057016747534203, 1300192232171096375, 1300780009764347071, 1301461045613952909, 1301482640515514012, 1301483600436958239, 1301680481923156555, 1301945954691358962, 1301991803651928230, 1302768431885805573, 1302819947557473340, 1302830304481173252, 1282605042203340372, 1282667476598690441, 1283382175639426189, 1283481045269095552, 1283955325793432464, 1284025206447637451, 1284028137199662761, 1284030675495117292, 1284538550321022592, 1284565992298040675, 1284811362016973772, 1303358406812164384, 1303392578818384151, 1303535450225069353, 1303629338318042448, 1303684848557611690, 1303697778284649701, 1304234487941650297, 1304281027100383633, 1304303738234747433, 1304367309459648642, 1285512258034966352, 1287014378125230463, 1287078040786858269, 1287595773378505914, 1287642033924279877, 1287644585826592943, 1287699666565443162, 1287748269942318281, 1288262491325021961, 1304841587626378632, 1305089992774614391, 1305794432068587489, 1305815691733520799, 1306376515094914292, 1306419134406424306, 1306440814385183490, 1306481534643361380, 1307036180687751203, 1307294989545668848, 1307815069679797488, 1307831240591494833, 1288364271305215259, 1289075787499379023, 1289214257663825244, 1290324869707896179, 1290517061183383389, 1290563214435577069, 1291259652707784365, 1291269475978158159, 1307833513289228085, 1307916686534686272, 1308624982526462277, 1308709273160635616, 1309257512878376838, 1309947502387743827, 1310770797235274454, 1311448602032314650, 1291282523485547227, 1291289799583179150, 1291298472864133619, 1291370353213523358, 1292064096778906463, 1292101441632901278, 1292146705161109184, 1292658022484131506, 1293893214249848369, 1312123815064741366, 1312134383997417255, 1312198150197329270, 1312264987913123006, 1312900433102820040, 1312904549405686861, 1313003671121552359, 1293953797944112510, 1294019865449183848, 1294022767661265187, 1294276786465921429, 1294412324082815549, 1294732956980910802, 1294796121136489775, 1294859458229074166, 1295386676069135177, 1295454675021443672, 1313101447993556449, 1313107320635037652, 1313113067129078372, 1313201565481033729, 1313810948144644531, 1314325297932615007, 1314326268241180587, 1295517957839778358, 1295633813431927936, 1295634091992433793, 1295634110145331318, 1295853066036349279, 1296381475049534016, 1296390135615705479, 1296846633181172315, 1314344165399511002, 1314359117073988907, 1314364005004963547, 1315181828655043954, 1315227104122384263, 1315327981665565213, 1315738290123518468, 1315761013614017712, 1296971850219891553, 1297148939963358992, 1297506389120781008, 1297653047024275377, 1297668926728482984, 1297785524499187085, 1297876542259759498, 1298563984146933671, 1299093032917401688, 1315787509884320238, 1315977648386627900, 1316043519430196099, 1316533145424796463, 1316562687034928385, 1299219448222323136, 1299229618052667749, 1299359966952396218, 1299849539939060028, 1299963381573911983, 1321009958845385576, 1321098805848375002, 1321621082823620273, 1322337217462946252, 1316644160079858254, 1316647119689115416, 1316694999196868743, 1316880410136989665, 1322509130335522001, 1322899892124484055, 1323082902703648038, 1323103342484247859, 1323108152903122644, 1323230692970733332, 1323781225773771898, 1324452788295869104, 1324522499010558557, 1324802418603204885, 1325320780552131972, 1325340442278987634, 1325477339360487826, 1317890805478642202, 1318191311807248040, 1318268701859570262, 1318576470347265316, 1318692457368220905, 1318784089576003032, 1318852840564995081, 1320993793701045085, 1338618915226192231, 1338989456383343007, 1339126927028092247, 1325628211350616571, 1325973690960837961, 1326270504065555888, 1326643520933055178, 1326724096440188804, 1326761324718557097, 1326820758829097941, 1327536547362538127, 1327610103574765126, 1328093504710846983, 1339129256232812275, 1339141688186992945, 1339149536889460738, 1339159423443968097, 1339171854603571289, 1339304831506083989, 1339631518962430094, 1340138537200486643, 1340401748933997465, 1340440393292487822, 1340450441110378619, 1328240484692200913, 1328772308418377392, 1328779125603693887, 1328806380414897867, 1328820237228268049, 1328876945971540024, 1328890775044042999, 1328973686477394217, 1340636411007510030, 1341071844149525963, 1341106961457316020, 1341108200015362423, 1341129506581107523, 1341894915182929412, 1329765995507211023, 1330358189512747073, 1330385267148754308, 1330425678268128084, 1330492198104237106, 1330561066615318397, 1342038905540655364, 1342572261839752983, 1342574699614106972, 1342637954879367708, 1342688066282508702, 1342714493458933686, 1342753998603627779, 1342773596490732195, 1342776902401421742, 1342781485266097769, 1342789540408564951, 1343346821815050219, 1343413014556904820, 1330996532745012421, 1331218121958728326, 1331477430624757427, 1331919567944471532, 1332552396079150793, 1332702592077991900, 1333282711751266436, 1333357734817681182, 1333908714852660842, 1334032853580529300, 1343511677747927314, 1343559602352152866, 1343686121121971588, 1344190373041294623, 1344196928646775731, 1344786878019640708, 1344816873774495533, 1344821144492050015, 1344823193736806609, 1344844977329208667, 1344906319015942126, 1345111860784844135, 1334090265368720210, 1334102352606935100, 1334240677227244317, 1334272020575508905, 1334543366579807313, 1334636503232011923, 1334646270746352378, 1334668605695304642, 1334674042387588224, 1334721478605903218, 1334866944797006298, 1335316581134350683, 1345349949337738366, 1345498154358130374, 1345526172416472778, 1345556924875689103, 1345593425317124542, 1335329699294430720, 1335385969479887271, 1335396269144009761, 1335570188619059817, 1336041214498149874, 1336212495254166382, 1336220332692733321, 1336270932708699266, 1336462816126288377, 1336854663663745192, 1336862000696501509, 1336871322624747952, 1345768158630817040, 1346198446187765553, 1346254428930169265, 1346356948909540365, 1346370365532280550, 1346528170418792710, 1346594048941288471, 1347181098602361395, 1336934547547064533, 1336943390444240272, 1337569326480228729, 1338135301389840576, 1338260248024769690, 1338321200112593310, 1338448551987283771, 1338611794887931220, 1350857440804188101, 1347811123954275649, 1347881259077484850, 1350863100933039235, 1351262123586304425, 1351272053360808430, 1351284820519349761, 1351290301886448824, 1351294011082384050, 1351301164939770232, 1351301409211305933, 1351302633364076690, 1351455655877211913, 1351493666057934078, 1351496852205078127, 1348417490177315749, 1348437505366791867, 1348687331665302253, 1349059986101840643, 1349145251486903063, 1349178912677950352, 1349209672171947022, 1351539375602298097, 1351645154243155978, 1351659072335033319, 1351997347881613135, 1352075152888015073, 1352092070787155488, 1352098727457410161, 1352177156380825043, 1352223747164241456, 1352319160192098450, 1352945524957502121, 1349233131509506893, 1349238669235464370, 1349261955129573000, 1349280133699515789, 1349289866533676679, 1349292485816234625, 1349336283390581473, 1349360056557167811, 1353433749970411906, 1353495008046007005, 1353511913213150385, 1353512233909969538, 1353515291513226895, 1353517056640339487, 1353517672300455253, 1353580369173035247, 1349404120470429129, 1349501052462712380, 1349894508085634529, 1349906548984578933, 1350038429350996125, 1350050965803362516, 1350683150309338060, 1350694901269365355, 1350704694775497715, 1350721788418948243, 1353610011267605574, 1353616078765017075, 1353680577398709228, 1353831020797026747, 1354139981539751020, 1354157211661476271, 1354198254370535190, 1354271961871021242, 1354280243385051934, 1354287187257041842, 1350809073039465540, 1359972998250970942, 1359978882029822062, 1359980931485345735, 1360316936829834236, 1360322103669864742, 1360323992175947701, 1360328126102625309, 1360670388197753434, 1360810799584509413, 1354299077415816489, 1354865104113402695, 1355251811900902130, 1355317716135295082, 1355539412021977467, 1355563006006157558, 1360912767206541429, 1360964459477275660, 1360971349938711335, 1360979783954151484, 1361399051122525278, 1361542345237595010, 1361599240863979345, 1361611678638605813, 1362069284714243006, 1355627617878943355, 1355647098195515119, 1355653035925744587, 1355767346943830614, 1355813162837081504, 1356269141510923430, 1356287891272895542, 1362069310055124724, 1362098243021589875, 1362102017993442586, 1362112197604955543, 1362114818930196721, 1362117550692648947, 1362124197740552890, 1362126368689490123, 1362200893158496271, 1362509169619993826, 1356290905536243971, 1356454335264497980, 1356511895797928756, 1356526723381143238, 1356784526184832339, 1356953228646976614, 1357219046572868664, 1357250408931057862, 1362518031001897841, 1362894404770995768, 1363032277989558235, 1363056913187975043, 1363063118684312899, 1363069078465789326, 1363645110678408300, 1363719144045591776, 1357389604278680597, 1357872907363701635, 1358101732673694705, 1358122865707419750, 1358133145122222306, 1358151502631976046, 1358594251693214475, 1358594266933983870, 1358594284191089936, 1358598034623635013, 1363771633511251110, 1363795213337978305, 1363873562452756929, 1363939681345638896, 1364163399760087653, 1364176866870145727, 1364186396690828405, 1358624782819857102, 1358624799684066640, 1358882349176180617, 1359223003605730811, 1359254542892272496, 1359278347560333727, 1359382050963265181, 1364192188138760641, 1364291651658722459, 1364384423426928523, 1364406083987810151, 1364480825953775275, 1364488503783488263, 1364515630628172433, 1364635286640479993, 1364642608307474895, 1365893928883912698, 1366033048567818030, 1359647331896803736, 1359677892480080968, 1359916708058728026, 1359953511198182591, 1366576092896770388, 1366912719590250705]"
        ],
        [
         "5",
         "host_location",
         "object",
         "1944",
         "24.54",
         "[474357, 72821, 80403, 160426, 926604, 346257, 1257881, 1834997, 1922670, 1526920, 1555332, 1583452, 1615895, 2162550, 2807505, 2363690, 2402601, 3323891, 2624054, 2735280, 3382998, 3383300, 3641725, 3838589, 5365664, 4169522, 4275704, 4332045, 4341401, 5724915, 4551974, 5776201, 5803115, 6012249, 6791981, 6793335, 7018697, 6333933, 7268407, 6521535, 7377975, 7510046, 7655457, 8301935, 7744599, 8415086, 7904984, 8110137, 8625916, 8637296, 8748454, 8854140, 8854773, 8978848, 9801176, 9104416, 9194369, 9233701, 9983438, 9988301, 9304289, 9517420, 10114926, 9673914, 9696001, 10155454, 10155481, 11000438, 11030786, 10406840, 10579776, 11383366, 11386399, 10749341, 11453043, 11560478, 11669547, 10882614, 11934208, 12033562, 13273474, 13335877, 12750702, 13518885, 13521294, 13559779, 13593769, 12978839, 12997739, 13102375, 13138290, 13189348, 13201733, 14174162, 15247390, 15251866, 15279977, 14680012, 15517573, 14813824, 15020296, 15976595, 16409235, 16305548, 16362139, 17275936, 17297524, 16597558, 16643468, 16700069, 17392649, 16730931, 16774862, 16913103, 16913356, 17888379, 16969709, 18075009, 18075425, 16971031, 16984763, 17003338, 17003506, 18121124, 17074337, 18219060, 17145471, 17150866, 18276766, 18310068, 17210624, 17217098, 19582407, 19612812, 18512662, 19719351, 18592543, 18622861, 18752666, 19935227, 19963722, 18831422, 18872817, 18973688, 18996187, 20065575, 19060006, 20226504, 20276894, 20312565, 20314274, 19170663, 20378802, 20533478, 20533903, 19420893, 19468211, 19512069, 20871712, 20766090, 20769850, 21158987, 21974382, 21180693, 22073177, 21419792, 22216810, 22222095, 22246395, 21481985, 21484487, 22340605, 21574104, 22446362, 22461164, 21761595, 22542097, 21848114, 22549377, 22569393, 21905822, 21921795, 21924470, 22625706, 22642183, 22721491, 22726601, 22743540, 22769652, 23050366, 23085122, 22799853, 22811208, 23116862, 23118034, 23119771, 23835548, 23303164, 23918161, 23936405, 23955078, 23319025, 23408595, 23706778, 24048999, 24051526, 24052414, 24053213, 24054571, 24055315, 24090485, 24091946, 24151188, 24638284, 24683254, 24685250, 24753329, 24886682, 24367745, 24369982, 24903402, 24942363, 24984320, 24985219, 24995658, 24995734, 24547573, 24566287, 24589133, 25074387, 25674378, 25134881, 25245252, 25259441, 25312777, 25801428, 25820788, 25402893, 25416144, 25988358, 27177981, 26032582, 26122914, 26150279, 27207576, 27304289, 27324465, 27358739, 26240693, 26265990, 27451744, 27454257, 27454540, 27455391, 26341997, 27534086, 27534273, 26418427, 26550162, 26560007, 26591718, 27712250, 27715289, 27840473, 26686591, 26706440, 26714398, 27869564, 26794701, 26803416, 28006077, 28068007, 28071011, 26851904, 26914044, 27070576, 27096535, 28125365, 27154834, 28502404, 28300442, 28594104, 28403502, 30220513, 30231817, 30241205, 28706771, 28820537, 30245612, 30265360, 29176552, 30753359, 29202871, 29305588, 29305593, 30810822, 30897412, 29346806, 29352576, 29411584, 29445862, 29470404, 31157005, 29505444, 29603997, 31394802, 31461231, 31462087, 31462928, 31508921, 29875942, 31532843, 31586330, 31605259, 31611142, 31635445, 31669467, 32543399, 32598853, 32632257, 31989293, 32732489, 32827605, 32857874, 32859220, 32011427, 32944890, 32096274, 32123005, 32135840, 32204052, 32977122, 33010115, 32251649, 33037671, 32346572, 32390923, 33159295, 33186011, 33187023, 33193032, 32463817, 33357318, 33600966, 33601646, 33601874, 33684857, 33707686, 33863614, 34493941, 33878014, 33923459, 33931767, 33952729, 34004224, 34634544, 34077101, 34107661, 34108248, 34111980, 34113468, 34119555, 34142591, 34150468, 34204455, 34932005, 34958447, 34992635, 35014667, 34278631, 34383692, 34383858, 35174672, 35178289, 35408588, 36065811, 36066436, 36066515, 35505069, 35505572, 35591726, 35611685, 35611767, 35611837, 35637887, 36419466, 36432155, 36440969, 36464902, 36465605, 35706110, 36500548, 36624980, 36628493, 35835881, 35837463, 37596483, 36819331, 37090374, 37144552, 37145917, 37173105, 37925446, 37201663, 37955200, 37430951, 37445128, 37456863, 37983070, 37983092, 37983602, 37984372, 37984387, 38030698, 39040234, 38118898, 38120578, 39076767, 39315759, 39329674, 38318795, 38366188, 38392723, 38402183, 38445340, 39462939, 39543092, 38609894, 39548029, 38724367, 38799670, 39813880, 38916158, 39868558, 39983194, 39986180, 40335639, 40855773, 40955902, 40426288, 40437093, 40449798, 40962491, 40977045, 40606283, 40652620, 41017200, 41017509, 41186648, 41193563, 41201990, 41222762, 40751721, 40753284, 40753310, 40753325, 41255262, 41301335, 41927161, 42014899, 41425673, 42065887, 42134215, 41515616, 42210003, 42246003, 41575156, 41581713, 42267709, 42268095, 42268453, 42268934, 42291642, 42320548, 41592752, 41616557, 41617294, 41656865, 41667095, 42379243, 42431928, 42433158, 41700863, 41739723, 41745595, 41745960, 41767719, 42484615, 42520067, 42522464, 41783561, 41788594, 41856089, 42525505, 42622043, 41857160, 41866641, 42683930, 42889990, 43201185, 44329556, 44339659, 43673657, 43705007, 44777587, 43795744, 44793900, 44838555, 44989039, 43824956, 45077717, 45081296, 45085236, 45108052, 45160948, 43865068, 45168763, 45169223, 45236073, 45250837, 45285426, 45309151, 45333195, 45344683, 45444597, 45554820, 45786390, 45709433, 45854194, 45854353, 45854537, 45854604, 45854763, 45854844, 45854916, 45728867, 48558818, 48590770, 48622480, 48731134, 46152898, 46152899, 46153754, 48843518, 48896515, 46276603, 46276751, 49182687, 49338041, 46397806, 46577725, 49472103, 49473576, 49491664, 49493948, 46897888, 49537754, 49544507, 49546834, 49555393, 49566392, 49568628, 49585966, 49609376, 47778111, 47864169, 47877311, 47877737, 49699855, 48064566, 49796015, 49864876, 49876274, 49892807, 49919782, 49919813, 49919972, 49919994, 49920012, 49920208, 49920262, 49921572, 49921654, 50531137, 50540475, 50544079, 50558263, 49963602, 50607583, 50652574, 49979004, 49983770, 50670240, 50045590, 50049152, 50110305, 50740061, 50111308, 50770430, 50210266, 50267534, 50278704, 50838743, 50883489, 50303363, 51020170, 51021086, 50369547, 51058693, 51058694, 51058699, 50436949, 51222022, 50499804, 50530201, 51260256, 51277384, 51277434, 51279783, 51280066, 51462996, 51600586, 51301136, 51301788, 51632822, 51356106, 51398216, 51398585, 51401286, 51405464, 51416594, 52452429, 51707039, 51763321, 51798612, 52528726, 51838866, 52564047, 52634282, 51907834, 52711912, 52045203, 53090659, 52059320, 52137992, 53160128, 53162927, 53166714, 52253953, 53177768, 53178120, 53178289, 53178684, 52305649, 52311042, 52319964, 52351150, 53265487, 53355275, 52406996, 53985500, 54048617, 53376320, 53378257, 53395088, 53396142, 54153749, 53471400, 53540421, 54310852, 53567561, 54310897, 54401249, 53605241, 548549712570151444, 53668730, 53693019, 53717203, 53761481, 53776201, 53778473, 53778647, 53778874, 53778959, 554996044348950619, 552573882894829155, 557655044290328653, 554092988304710652, 576733228936794558, 559364982878228875, 561530170356097041, 577196644761909846, 577211329093488471, 577250991438354341, 562230939546947110, 562880147421746926, 580818006050015006, 563783864131051928, 564129931108385377, 564187290427143686, 564280371075694039, 565041623714487215, 582386687359485560, 583088604634338476, 565848006097034230, 565850840531992229, 565939722560335526, 565940901136384156, 565976919449572809, 567270769493238695, 567928627480686495, 568000592901985503, 568006535926176022, 569434428427083786, 569646563432496115, 590929873715915494, 591898693929546336, 569649864260904152, 592707754645165495, 573058407268276258, 573069926770279771, 573074131933435142, 573947382884128981, 597720226160529428, 598198775835652226, 598983216699963674, 600539604683995627, 602089579883111617, 644206080786098696, 645440840550150229, 646889079336474809, 603937629382350849, 603976984595737078, 604220363629138819, 647466608067971127, 606337751482983732, 606563692528576402, 607725528169620872, 609132892911562396, 611520264685430763, 612306870764866953, 612765023302821568, 612765847014105156, 651879072182429115, 652674221812187091, 613829058322990491, 614934732032197886, 614934870507151055, 616035025546642981, 616703040333924885, 652685957115435873, 652901064195388250, 653496642593289343, 653505634697257786, 653631951626460775, 654947667271912278, 655066974280065952, 620166199542434581, 620309936761654143, 620315804338476983, 620327730605212540, 620332217975084264, 656514440936923339, 658484007577658847, 622179922865015299, 627252839523134009, 659113230071628788, 659904292924629719, 660118133627583614, 630450386688784710, 631735479790897703, 632583363073735214, 661458283381695159, 662205556917707844, 633113328146471183, 633345089075450829, 633680495898473243, 635191080968054982, 662713001475262169, 665020007721838935, 665119794776701299, 670133936049220562, 673564140178408724, 676124249847272043, 701892479987084988, 701934175162430169, 677367806968065995, 678155501942692283, 701953378007299281, 701977587658872618, 680382294646644558, 704792162185138177, 704823709237371920, 685349629564161028, 709122746464370986, 709131023580834958, 710844027139907891, 712070010726766738, 691206313073007391, 713477900927771396, 692537214742615034, 692804245589277408, 720302944067925308, 694121108472381743, 698317441115511619, 722613468076068754, 724502932255405735, 724549473987401732, 724557091398859840, 725834754917319916, 725883474576639486, 728685803584988906, 699060617553994913, 699111408317041261, 700633952042507996, 747479976789475259, 731736814085613789, 733781379397976409, 748375023557066193, 750588178707338445, 751158143109279616, 751969699715339396, 753310481166218809, 753347476663289780, 733903430778204550, 734162303847528207, 734550726176649255, 753364564980913801, 753375256880920746, 736046032168257824, 736722189382950462, 755680100992226959, 759960952218893509, 741021028726017371, 741045646897395177, 741672381133061454, 741679202560302667, 743108839905315839, 744760241432823124, 764974252654522587, 765034532290081966, 765115847361336372, 765134524093655303, 775912049944262887, 776017551931515963, 766537876117575305, 766911081587895327, 778022836898556302, 779415375292006469, 779643016588887076, 767096988680060411, 767207716602797434, 767375778533131616, 781656400820592851, 770234819100793580, 773781107983535591, 785263471700434936, 786052910611603497, 774019596969224065, 774224422695537008, 774255331993683378, 809126253713807648, 810734295788932628, 810786599401829580, 815297886370890203, 787538400643290574, 788091239773689642, 817196070864448954, 817880002809882330, 818765424918233121, 792672677830396102, 794231794593585152, 818914306204706609, 819686286060935532, 798545380491637465, 800424008410493013, 822993737972241831, 823007908288694504, 823014133392593031, 823016630484369401, 801375635949961920, 801377482131067824, 801919187504230423, 825981186065631018, 825983269010993299, 826015019619079224, 826961356698138082, 806966476473135544, 807675656270226907, 807680416085116912, 807682586483941230, 828723869155900980, 830272643532171896, 830295690272706295, 807684208837043608, 808099177768162020, 808417325171281822, 830368920587858984, 830392552733062413, 830829706137135197, 831691520409327634, 831711271176721766, 831718327610589757, 837537615282643776, 837549115325763595, 837553108828232216, 833755394697249031, 833755497568520385, 833755799147288492, 834178316221644052, 834202136066435100, 838109460295250941, 838186518676478074, 834439683037202289, 835938765503560783, 835975265581708462, 835980667100187135, 835983178521993911, 835987408675585279, 839723882044471459, 840985079777351460, 835990297827592549, 836001545790623347, 854895394752828707, 854917936034491299, 855112419186889027, 856411208202489480, 856467542181321142, 856490703702491643, 841888739481482648, 841971128749332488, 841973199855693980, 856886228065557167, 857678029839780214, 858087028117335826, 858087207430831992, 842532162835415942, 842609402361008768, 843241556864366381, 843349915974519411, 861300482011602690, 861661837427552869, 862036281404317382, 844128612348038699, 863048625430991961, 863060688788943629, 863080243255275060, 863807573532175060, 864288950872962544, 845554659208037123, 865269458040469106, 867897797303173388, 867975551966097487, 868534836170655754, 868545762924393107, 847117420317854916, 848354916176388794, 868736218907035904, 869205671919598380, 869231838085684530, 869238282464501029, 869279126774254659, 869284533574566813, 849904983657757980, 849933300156773473, 849944099007595605, 849950138449124609, 849964179862466363, 849975026602526987, 869627659266304781, 870181205477950351, 872520823346293374, 872926879981497038, 873047147553161714, 853449515928544509, 853608602976265054, 873137106054981496, 874345435824316147, 874528213181534672, 854114673599318410, 876464992539127085, 876465103183674430, 876737438859153507, 904092188769783021, 904273285249435575, 904279016199741912, 904289194736080237, 904821182945248106, 877560426703064537, 877883129302152343, 904823913475463456, 904826322983717983, 904826332407528489, 905039785796868341, 905042736251819404, 905047404157864095, 905050366840718966, 905052806641753240, 905055415725242768, 905055437245490194, 905058098880374966, 905058108506596673, 905065602273581818, 905068115316978725, 905070687557911874, 905073098623974900, 905076114232541390, 905076124850681268, 905139769927877381, 905159704563578392, 905545154629673166, 883369506670516018, 883722372069765402, 906464947432834918, 908449819355594566, 909223285884926369, 909223299566977268, 910188521167399633, 892660391744921000, 893384208471303725, 895405068711035135, 896367214604128183, 912737831378532791, 898385302247969606, 913121427216660561, 914431844128854194, 901220569668578885, 902537206684030126, 915123959930184533, 916385169940189046, 916474186216959748, 920174207942910842, 922518017623739333, 938361691001930141, 938957902539867959, 923572537115837089, 941224079416161086, 924398117683958821, 924426459253112636, 925241440239476781, 925823773823038456, 926010749130496340, 943237197679571427, 944365278172774450, 944658448844841790, 927345244816756239, 927990970905452681, 928000416416400436, 928005496751088502, 928010522697958825, 947873384145289850, 929403263075093667, 931829123881953802, 933838091879739506, 933841647564872255, 933844254438438759, 934000134035936707, 934000144630391464, 934002588215474903, 934008144550190561, 934397298348382107, 952655126305481575, 934404480453586169, 934406781280878656, 934406790390218983, 934406800990944137, 934513609680640479, 954076553413529565, 954878492555481280, 935585069632792190, 936818428580437387, 965793369090690512, 965914381850927574, 955497035865727976, 966037914609141777, 957890980987243124, 957893892263871873, 957995381075738308, 958424743922064382, 970849587153571298, 971406619635037674, 971472398574360859, 959144274645126251, 961621342308529837, 974594943416279044, 974648252270949220, 975938746800327024, 976211656378188288, 977500059155237747, 977989660719636713, 995736283272769462, 998473521161598157, 998602507354109624, 978837903500153696, 979473953622655549, 979706581208557424, 981578902412218090, 999257233946219462, 999294647659702307, 999787784392835696, 981827184820246911, 981831074726899704, 981834607948611671, 981842783730361729, 1000418518731118148, 1000690458044999604, 1001341233025177499, 1002880369699501348, 986826364565972927, 1003480825894641507, 1003489913948389382, 1003538235264847521, 1003557784400752978, 1004270544212982744, 1004380762333076538, 1004794279631652791, 990387049966449275, 991065164307680743, 992108304958054454, 993348403313947626, 993589349889972325, 994567561554408677, 994575834389133038, 1004795074958971159, 1004795393914340721, 1004795639352678913, 1004796074749507276, 1004796621726591331, 1004797101743891368, 1004797266507749891, 1004797485379913153, 1004797696090510010, 1004797902509902922, 1016429062783114472, 1016666101605849059, 1016695412752790117, 1004868500060981081, 1004879032277710555, 1004923064796285145, 1004936500811741138, 1004937865317368159, 1004992342351335211, 1005488077767464464, 1005491509416610453, 1005514482857727617, 1005528087920701563, 1005547637092256663, 1005595379309350979, 1018109244059389874, 1019852140949643968, 1020910405669979468, 1005595959146725250, 1005652516991567834, 1005653013070812816, 1007057640438279826, 1023767016549948913, 1024644524670828776, 1025279883239618667, 1025908460539009403, 1010626665790591601, 1011521198870253251, 1028899099510499738, 1030434195089854163, 1012948012112886702, 1013007350235163272, 1013477164521842536, 1013547145409846009, 1013572248656244699, 1013609886362396710, 1032636780079013993, 1034011243196493734, 1034199820403160127, 1035547005273198010, 1035561989289681415, 1036004634532309331, 1036181568733815012, 1036821821993884019, 1050966328298621354, 1052848162775982712, 1054283059928628507, 1040314425192268077, 1042692441715633671, 1043422114011429150, 1054354781377123983, 1044797655089701090, 1045438950210180404, 1046600738548202248, 1046901532589310562, 1056537359199273052, 1059406484640216493, 1059965658285244867, 1047532247583677539, 1047541681816501904, 1071730985957647632, 1073995144896394653, 1060046432179361859, 1060591816883871111, 1074578377126931085, 1074724472918633842, 1061370793949648000, 1061617640960212690, 1061646352535806917, 1061693257292994065, 1075404746347732752, 1075899004294000726, 1077351905825045387, 1061785848048545610, 1062429737045035595, 1062489140787132231, 1062816199600080449, 1062942791752718777, 1062948632770302145, 1077357500575659428, 1077630132775047789, 1078979215715393851, 1079682567662652209, 1079703111547026850, 1064254415875765347, 1080213611798243209, 1080352815353314980, 1065166625170314642, 1065270735859841037, 1065904867798269940, 1065950967909568203, 1081632129065929697, 1066654507859293403, 1067200416427834512, 1067301357031315949, 1067313770272762919, 1067395816890425963, 1082371405548811262, 1082383658041958940, 1082390283108531872, 1082430366392016776, 1082430456875435750, 1082430546475607967, 1069351932069861591, 1082600692845020362, 1084540580954355891, 1069365834784687506, 1084617159613319358, 1084618979289736813, 1084621239372555264, 1085237995731820471, 1070516367301049544, 1071697268573341999, 1085553658892217181, 1087488145006164690, 1088202863348807618, 1089009009416768024, 1100600080948841073, 1089345353154687521, 1089899200633925733, 1090402160443482826, 1090403264155142114, 1090521373885353819, 1103439538753990772, 1090572575065866372, 1090664426013303025, 1090684672219878229, 1091205119120581818, 1091245333960931647, 1091326257641366726, 1091767767546078754, 1091789324604332743, 1091810966984916737, 1104275903116665608, 1104534029772761431, 1104877451689814299, 1091832295692527962, 1091853073419787578, 1091925624694691711, 1091945544272382985, 1091972168650631089, 1091978786462302657, 1091993608342228092, 1092000803198863475, 1092021434462754749, 1105201027328574575, 1092547803565688426, 1092658234267184172, 1092664285774415791, 1092682293894965596, 1092702137734182454, 1092729321259391212, 1092733253781988437, 1092778780950393148, 1092880874916680177, 1093212887437793843, 1093224215606353381, 1093239052112004053, 1108616579498418188, 1110264814855184789, 1110690216493741810, 1093463538992840326, 1093994938541897735, 1094089827087763695, 1094106221667200271, 1094108530533726106, 1110966470674419245, 1110992115486680037, 1111010461070353705, 1112416440387395678, 1094110508637134278, 1094187742254829936, 1094696261496251616, 1094707463894949954, 1094911100730109729, 1096117002195008599, 1096180983776354550, 1113815978631089485, 1115021895577378834, 1115214562951108233, 1096395569424542855, 1097069327295116750, 1097070322057710481, 1116666283299821616, 1097666930364272186, 1097750148636109507, 1097964086263143003, 1099159335168687500, 1117852176088159838, 1118095953169898309, 1099442257438563717, 1120810332795122013, 1121558428544105826, 1118629787407576324, 1119032112301503297, 1132355087596960427, 1122364198522681494, 1122392840695035584, 1123905994004758727, 1124378020875145813, 1132512729864313080, 1132535354027633596, 1133207254571805076, 1133217599609383527, 1125319041767567129, 1134812688571147108, 1134920632145199812, 1135442261452261940, 1135538725764395689, 1135630967783011691, 1127973028445723029, 1136786448085677953, 1136787447889389848, 1128153872036940536, 1128209450206518924, 1137427488568986168, 1137565016314048592, 1138269954969870776, 1138299913700669740, 1138362021269310848, 1129058751953057388, 1129489948474967452, 1130303866671637604, 1138486952683861857, 1138556910296298680, 1139062396754014137, 1139727893782652831, 1141268140363041274, 1130514816412477011, 1141307998735534798, 1141784279123343945, 1141987562640286537, 1142530791009097271, 1142686760003174720, 1131576716639205009, 1131768209645972266, 1131815996341157518, 1142760937725856637, 1142766527139752356, 1142861459710800431, 1143197638152214647, 1143437846695991382, 1146235880517350529, 1146481357864363038, 1144821766157445572, 1144944626902829343, 1146115656467471019, 1147529050389901865, 1146223316781299250, 1146231339027145342, 1167169374587736904, 1167176507878028232, 1149240637231609074, 1149778015887132245, 1149811395005690362, 1167365697508427852, 1168277371767686103, 1150710839576490327, 1151356839669861774, 1152077860797986222, 1168661848204384440, 1154324351843059921, 1154989947281270505, 1168881507668286002, 1168969358011979164, 1168972911901812737, 1169342306661893473, 1170178722891857155, 1170825186334243827, 1170854399234085829, 1155155606336876991, 1155828232306536937, 1157194531288593044, 1157202043400531208, 1157209526428835716, 1170864864779567371, 1170871328389941136, 1171615281440122859, 1171818431889131357, 1157222969827643276, 1157728025713025545, 1172495183595639895, 1160641054519460295, 1161512391894833065, 1162234984782680719, 1172950516850350787, 1172996178721180315, 1173131287518642027, 1162258022825202943, 1163205960954070502, 1163328331154844841, 1163549899953888023, 1163567258235456449, 1163634272584094607, 1163757644194471672, 1176219710317570914, 1176243703534151706, 1176611240176030068, 1164352900011086287, 1164578808118630157, 1165273971019095954, 1165748246198485341, 1177336194970006586, 1177441849917613272, 1177510105263894249, 1195464447227903520, 1195560781054422021, 1177746757598157977, 1178049798694290654, 1178348172274801971, 1178755319313962804, 1196099164195351579, 1196237946435085474, 1196245638974188844, 1179384168912145713, 1179575868350681906, 1179741567478389538, 1196329224776577871, 1196330829101232232, 1196337996527992425, 1196339318229686799, 1196340495902963126, 1196341983099680525, 1196348711198583934, 1180333019198536294, 1180396755381678193, 1196350313367083714, 1196351376287157815, 1196352608766558171, 1197149434393621614, 1181751405185138587, 1181759814482747145, 1181762279711828254, 1181764618430959046, 1182399275679927331, 1182403395263989574, 1183060360419152748, 1197825523940817298, 1198287306785345437, 1184226057349901133, 1186871376064972508, 1200698556088566225, 1202775904346455729, 1186987367950913816, 1187074441604795501, 1187402454345151700, 1188193356749216397, 1189209222632682160, 1203385114990860702, 1203385314187409577, 1203385650245229293, 1189894175330842045, 1190675367521625163, 1191292311758257965, 1191399713058612161, 1191403492627432250, 1203684625533115288, 1203690261440734403, 1203693763649670830, 1204159891731303920, 1204240005221117556, 1204249760760152858, 1204368004985570774, 1204894317379142355, 1204896907316844047, 1205468699799158498, 1205872472925935166, 1191405718417118299, 1191473595075755377, 1192036933105008789, 1206616775288991546, 1206990237100471298, 1207248751738611278, 1193576729234847910, 1194034007644461284, 1194079538606409784, 1194186795912413497, 1194227160838199564, 1207581483275385888, 1208725575290781199, 1194312928732826777, 1211318388554541948, 1211503086389182487, 1211515539719764431, 1209297243001089216, 1213548089439692480, 1213555041953804935, 1214417246752180222, 1214446163446153916, 1214514573884191311, 1216368830809196854, 1216491606863222286, 1213574472344788118, 1213580457344910152, 1213586071617167364, 1213606968631764906, 1213632882871411694, 1213639680732181236, 1213655633563009039, 1216808125673007370, 1213658173458138099, 1213662665244308114, 1213666216089343244, 1213674748361187637, 1213679220907106048, 1213691038110575414, 1213693918799839673, 1213694786665724950, 1213697809972145745, 1213704931354206968, 1213707334292383436, 1213712031210443184, 1213712676017081329, 1213716534527197298, 1213716639667952863, 1213723980280216204, 1213729356114668184, 1213730038323198605, 1213730867939190078, 1213733750017199928, 1213738751468115105, 1213739574437306964, 1213744771621043599, 1213746143567038388, 1213747605099777736, 1213751423793332550, 1213757106837127557, 1214217696261683456, 1214221332670891594, 1214230358545293319, 1214237945802917706, 1223755878475043521, 1214243394119288950, 1214244729805613867, 1214247863493026146, 1214248351510736814, 1214249073112365144, 1214252499099018239, 1227323538090252056, 1227347038479708753, 1227366399659654882, 1227376421498125786, 1227408357486805763, 1214260523928198696, 1214261239564904667, 1214263113262612628, 1214263471305392573, 1214264997569967659, 1214270245884102184, 1214271517869393124, 1227433928422166966, 1227481122620404416, 1227661042218866126, 1228228803849019765, 1228829712773836232, 1214272768605618869, 1214280385125813252, 1214284088460280677, 1214285476308155561, 1214292649631410069, 1214292959635864362, 1214299259692063203, 1228980511115423271, 1229496563583052992, 1214302952759765808, 1214303752543447732, 1214303985329697703, 1214304489082211394, 1214311700552691830, 1214318290974086672, 1229548080757562963, 1214319696734728383, 1214320768004897030, 1214329065720191687, 1214332975518776876, 1214333432446051501, 1214335327103461521, 1230311393400889279, 1231657321858852570, 1231657527696515473, 1214395174257861512, 1214395567435226907, 1231957401047903224, 1257931094690462511, 1258109724729295809, 1258494104272382995, 1259224077617780583, 1232521529396138540, 1232674352095743305, 1233175269619211513, 1233279848996305265, 1233301339952806429, 1260598674331608934, 1260757512101389196, 1261421684986126909, 1262258790992685156, 1262932635774970315, 1236286937269267430, 1236305819243648388, 1236308834830067086, 1236996554115021572, 1237616852495526769, 1237621692804609310, 1264410961280387403, 1265701962680660966, 1265713813279650067, 1265856345348954945, 1237685862842036245, 1237695729900365725, 1237702795600914486, 1237708481772340314, 1237758784945891465, 1238892421058809836, 1239108602127896668, 1241993728395988534, 1267206288298462609, 1267344104805288539, 1267856449843592794, 1267863853974828921, 1267912358660233723, 1268035283137815749, 1243385637529899948, 1244317297172390794, 1244636746677987067, 1269365159333474366, 1244708534903748569, 1245415208528617193, 1245424407973210514, 1245549360202547947, 1246840598248097088, 1247013264722070801, 1272995698978399175, 1273034369814996072, 1273791688272805308, 1273884094349697937, 1249110481871270428, 1249126569454833315, 1249126923987565481, 1250866959009586912, 1274547764604623716, 1274611907631383770, 1274613688162700215, 1274772038331619806, 1275904232747210514, 1251278845381517419, 1252691630467656627, 1252706809156234642, 1253560186404175207, 1276244251868772948, 1277731534181126280, 1278105607991370377, 1278229944072349459, 1253733176449330034, 1255609637259430098, 1256308621632912145, 1279607849322776151, 1279622572559088418, 1299980490514542531, 1299981592718913476, 1280414729500201371, 1280462337882268589, 1281741221260572620, 1281872336471406164, 1301461045613952909, 1301483600436958239, 1301991803651928230, 1302768431885805573, 1302819947557473340, 1302830304481173252, 1282605042203340372, 1282667476598690441, 1283955325793432464, 1284025206447637451, 1284028137199662761, 1284030675495117292, 1303358406812164384, 1303684848557611690, 1304367309459648642, 1287078040786858269, 1287595773378505914, 1287644585826592943, 1287699666565443162, 1288262491325021961, 1304841587626378632, 1305815691733520799, 1306440814385183490, 1307036180687751203, 1307294989545668848, 1307815069679797488, 1307831240591494833, 1289075787499379023, 1290324869707896179, 1290517061183383389, 1291251710503494047, 1291259652707784365, 1307833513289228085, 1309257512878376838, 1309947502387743827, 1310770797235274454, 1311448602032314650, 1291298472864133619, 1291370353213523358, 1292064096778906463, 1292146705161109184, 1312134383997417255, 1313003671121552359, 1294412324082815549, 1294796121136489775, 1295386676069135177, 1295454675021443672, 1313113067129078372, 1313596943187042083, 1314288376198959952, 1314325297932615007, 1314326268241180587, 1295633813431927936, 1295634091992433793, 1295634110145331318, 1296846633181172315, 1314344165399511002, 1314351269020365215, 1314490303546258762, 1315181828655043954, 1315327981665565213, 1296971850219891553, 1297148939963358992, 1297653047024275377, 1297668926728482984, 1297785524499187085, 1315977648386627900, 1316043519430196099, 1316062065781883893, 1316533145424796463, 1316562687034928385, 1299219448222323136, 1299229618052667749, 1299963381573911983, 1321009958845385576, 1321621082823620273, 1316644160079858254, 1316647119689115416, 1316880410136989665, 1323082902703648038, 1323108152903122644, 1323230692970733332, 1324522499010558557, 1324802418603204885, 1325320780552131972, 1325340442278987634, 1317890805478642202, 1318017515746415143, 1318191311807248040, 1318852840564995081, 1320993793701045085, 1338618915226192231, 1338989456383343007, 1325628211350616571, 1325973690960837961, 1326270504065555888, 1327536547362538127, 1327610103574765126, 1328093504710846983, 1339129256232812275, 1339141688186992945, 1339149536889460738, 1339159423443968097, 1339171854603571289, 1339631518962430094, 1340440393292487822, 1328240484692200913, 1328772308418377392, 1328779125603693887, 1328806380414897867, 1328820237228268049, 1328876945971540024, 1328890775044042999, 1329604016223707830, 1340636411007510030, 1341071844149525963, 1341108200015362423, 1341894915182929412, 1329765995507211023, 1330358189512747073, 1330430248602275411, 1330884618680364469, 1342572261839752983, 1342574699614106972, 1342688066282508702, 1342714493458933686, 1342773596490732195, 1342776902401421742, 1342781485266097769, 1342789540408564951, 1330996532745012421, 1331477430624757427, 1332552396079150793, 1332702592077991900, 1333282711751266436, 1343686121121971588, 1344190373041294623, 1344816873774495533, 1344844977329208667, 1344906319015942126, 1345111860784844135, 1334090265368720210, 1334102352606935100, 1334272020575508905, 1334543366579807313, 1335316581134350683, 1345349949337738366, 1345472608739903169, 1345556924875689103, 1335385969479887271, 1335396269144009761, 1336041214498149874, 1336270932708699266, 1346356948909540365, 1346400262963995417, 1347181098602361395, 1336934547547064533, 1336943390444240272, 1338321200112593310, 1338448551987283771, 1347881259077484850, 1348437505366791867, 1348687331665302253, 1349145251486903063, 1349209672171947022, 1352092070787155488, 1352098727457410161, 1352945524957502121, 1349233131509506893, 1349261955129573000, 1349280133699515789, 1349289866533676679, 1349292485816234625, 1353495008046007005, 1353511828025442645, 1353511913213150385, 1353517056640339487, 1350683150309338060, 1350694901269365355, 1350704694775497715, 1353610011267605574, 1353616078765017075, 1353680577398709228, 1353831020797026747, 1354271961871021242, 1354280243385051934, 1354287187257041842, 1359972998250970942, 1359978882029822062, 1359980931485345735, 1360322103669864742, 1360323992175947701, 1360328126102625309, 1360670388197753434, 1355251811900902130, 1361399051122525278, 1361542345237595010, 1361599240863979345, 1362069284714243006, 1355767346943830614, 1355813162837081504, 1356269141510923430, 1356287891272895542, 1362069310055124724, 1362098243021589875, 1362102017993442586, 1362112197604955543, 1362114818930196721, 1362117550692648947, 1362124197740552890, 1362126368689490123, 1356290905536243971, 1356454335264497980, 1356511895797928756, 1356526723381143238, 1356784526184832339, 1356953228646976614, 1362518031001897841, 1362894404770995768, 1363719144045591776, 1357389604278680597, 1358101732673694705, 1358122865707419750, 1358133145122222306, 1358151502631976046, 1358594251693214475, 1358594266933983870, 1358594284191089936, 1358598034623635013, 1363771633511251110, 1363873562452756929, 1364163399760087653, 1364176866870145727, 1364186396690828405, 1358624782819857102, 1358624799684066640, 1358882349176180617, 1359223003605730811, 1364192188138760641, 1364384423426928523, 1364480825953775275, 1364488503783488263, 1364515630628172433, 1365893928883912698, 1359647331896803736, 1359677892480080968, 1366576092896770388, 1366912719590250705]"
        ],
        [
         "6",
         "beds",
         "float64",
         "912",
         "11.51",
         "[426097, 72821, 99238, 149749, 676323, 208801, 719981, 740308, 804777, 268865, 888033, 289477, 303040, 314923, 315637, 331151, 1005533, 1038620, 1169013, 388399, 1832112, 1834997, 1958392, 1973495, 1424680, 1482860, 2004220, 1533624, 1583452, 1615895, 1807274, 2253981, 2260596, 2322764, 3020830, 2377640, 2402601, 3203677, 2559866, 3314930, 3356926, 3524290, 3589795, 3743704, 4691319, 3814415, 4826958, 5079256, 5268522, 5302362, 5349074, 4067549, 4118179, 5473403, 4246816, 4272967, 4302018, 4332045, 5734857, 4514733, 4523238, 5734956, 4626689, 6663734, 6682798, 6763463, 6086105, 6791981, 6863620, 6867498, 6096530, 6868017, 6878247, 6908509, 6919352, 6152631, 6987387, 7018697, 7212771, 7282315, 6443733, 6484622, 6514655, 6552418, 6571055, 6599930, 6600504, 7524616, 7682178, 7718939, 7848012, 8423436, 7880190, 7917724, 7969977, 8561397, 8736169, 8966009, 9763587, 9801176, 9053589, 9104416, 9878674, 9233701, 9917563, 9236574, 9657046, 10203180, 11037556, 11092920, 10321107, 11227476, 11232084, 10406382, 11267714, 11352211, 10579776, 10639339, 11417636, 10749341, 10795221, 11634229, 10848085, 12164082, 11878822, 12356453, 12395018, 12395830, 12099568, 13205131, 12505135, 13285492, 13339026, 13343640, 12554296, 12626794, 12744252, 13429431, 12822904, 12860900, 13470839, 12864747, 12878255, 13522829, 13551446, 13557482, 13593769, 13743690, 13746483, 13102375, 13122321, 13812868, 13824564, 13940818, 13163877, 13949126, 13949186, 13954375, 13181481, 13984636, 14174162, 14350809, 14411510, 15254116, 15279977, 14617664, 14623672, 14723841, 14749870, 14868532, 15863506, 16001709, 16142745, 16545093, 16545161, 16340500, 16700069, 16759346, 17454741, 17528865, 17529062, 16789967, 17566689, 17603602, 18080652, 18085932, 17049214, 17083555, 17103422, 18207432, 17182284, 18252889, 18281647, 18310068, 18398473, 18403345, 18403998, 18404123, 18404739, 18592543, 18628831, 19872185, 18781224, 18841548, 18905564, 18996187, 20153377, 20180833, 20185109, 20188748, 19117250, 20213463, 19170663, 19190771, 20382344, 20533478, 20533903, 19453484, 20811092, 20871712, 20908714, 21991820, 21470390, 21577826, 22542097, 22549377, 22569393, 21930834, 21939841, 22642183, 22916390, 22726630, 22739797, 22743540, 22785587, 23043938, 23248901, 23296820, 23299798, 23875252, 23319025, 23332524, 23423438, 23444096, 23639309, 24053213, 23715688, 23716161, 23716247, 24073401, 24192720, 24819360, 24844514, 24340790, 24863203, 24369371, 24385633, 24438480, 24509706, 24992475, 24547573, 24566287, 25674378, 25312863, 25820788, 25443000, 25883820, 25910699, 25988358, 26162087, 26211358, 27304289, 27336937, 26341997, 27539099, 27599571, 27600068, 27605918, 26418427, 27615894, 27617451, 27618661, 27650684, 26552709, 26563089, 28025140, 28117126, 26940647, 27011653, 27125153, 28502404, 28560731, 28594104, 30220513, 28678045, 30245612, 30265360, 30466981, 29066989, 29176552, 30581116, 30622866, 30753359, 29273437, 30852114, 29352576, 31168457, 29505444, 29532305, 31303354, 29603997, 29648829, 31687942, 32543395, 32598853, 31915793, 32004094, 32135840, 32183486, 32977122, 33033826, 33037671, 33159295, 32432570, 33206380, 33354782, 33600966, 33662371, 33438466, 33729264, 33741782, 33863614, 34467028, 34486921, 34487124, 34487577, 33922446, 33923459, 33952729, 34532547, 34564789, 34004224, 34107661, 34108248, 34792174, 34800312, 34160725, 34192937, 34194406, 34198553, 34198773, 34214770, 35014667, 34277743, 34377021, 35145429, 34383692, 35181831, 35867718, 35867887, 35868040, 35935568, 36065811, 36066436, 36066515, 35505069, 35505572, 35591726, 35611685, 35611767, 35611837, 36440969, 35818787, 35824940, 36500837, 36592419, 35866840, 35867523, 37516973, 37543558, 37546004, 37546481, 36678559, 36714952, 36723155, 36724836, 37572169, 37572170, 37572176, 37612023, 37089996, 37344350, 37955200, 37978708, 37445128, 37984372, 37984387, 38118898, 38120578, 38148201, 39074453, 39430631, 39477493, 39686632, 39687471, 38821048, 39818205, 39986180, 40802008, 40802085, 40802136, 40802228, 40170952, 40382806, 40398778, 40855773, 40447288, 40962380, 40981542, 40629507, 40629964, 40719730, 40748129, 40751721, 40753284, 40753310, 40753325, 40753387, 41230237, 41236121, 42054989, 41495615, 42089815, 41581713, 42291642, 42433158, 41672663, 41739723, 41745595, 41745960, 42522464, 41818569, 41831435, 41832487, 42622043, 41857160, 42683930, 42873061, 43092202, 43201185, 43310400, 43310474, 43322099, 43449007, 43449549, 43449998, 43699881, 43705007, 45068417, 43824956, 45077717, 43982784, 45199986, 45250837, 45296632, 45333195, 44108039, 45359925, 44158030, 45479345, 44325296, 45786390, 48795925, 46002803, 46003701, 46276751, 46416374, 49409960, 47503074, 49646809, 47864169, 49771863, 48195025, 48195026, 48205282, 49876274, 49919782, 48264504, 48327554, 49919994, 49920262, 50558263, 49947115, 50603577, 50762583, 50194382, 50233990, 50277320, 50282187, 50282620, 50282790, 50345080, 50347742, 50393470, 50429814, 50430545, 50436814, 50437702, 50438391, 50438544, 51261493, 51647340, 51398216, 51398585, 51416594, 52564047, 52665700, 52821520, 52979664, 52196082, 53178120, 52274786, 53289111, 53950078, 54048617, 53376320, 54079591, 54188355, 53491690, 54254885, 54255739, 54255886, 54310852, 54310897, 54401249, 53605241, 548549712570151444, 549046842357256292, 53668730, 549077262427870426, 549077290506096759, 549167656055517656, 53778874, 53778959, 580088244214424763, 563605466797542863, 565851037572193271, 585336565841810196, 568566195566921442, 592707754645165495, 573074131933435142, 594584114878427891, 595451807363045433, 645440840550150229, 651177437063812379, 613422403576154661, 613829058322990491, 623807345597711079, 659904292924629719, 630450386688784710, 664942766518802790, 635203979110080644, 638300545340556802, 638400929135061122, 638403805969773939, 638405224053587919, 671495131372804832, 671499391376551498, 671502439065092652, 671504996561751909, 671507608882429537, 671512068583594186, 672131284747383829, 672135415536352376, 672140113657565652, 672143125182310747, 672151723194425517, 672156581317155373, 672159140052101625, 672161053818689306, 672162738836687009, 672243929702750803, 670133936049220562, 674963595963342539, 671409777664608461, 701070952508622673, 701216320061934035, 702677186858001674, 704823709237371920, 704931214865202401, 705728973348245305, 707255052804005434, 709862458708445067, 716675001218374596, 692537214742615034, 692804245589277408, 718716660876105339, 697660155237369866, 724507690316470874, 700633952042507996, 731728604856416202, 733295475350541479, 748999259569336631, 734550726176649255, 735184034045468044, 753658382658746543, 736246608049823269, 736250094898977332, 736722189382950462, 741045646897395177, 741970547484053891, 742433348606442332, 743108839905315839, 744760241432823124, 765115847361336372, 765900024048690476, 765918426420984116, 766537876117575305, 767207716602797434, 768251633989466183, 771488607027890590, 774224422695537008, 810786599401829580, 787750536550792351, 815809045877838400, 791389619039426601, 819686286060935532, 796358638745764401, 802633552724786344, 826047483616533970, 806966476473135544, 807675656270226907, 807680416085116912, 828110412554619891, 807684208837043608, 831691520409327634, 831711271176721766, 831718327610589757, 837549115325763595, 837553108828232216, 837563758386626855, 837567231350634031, 837570258603325753, 831749875617113346, 838134168782023974, 840985079777351460, 835990297827592549, 836001545790623347, 854218067112736035, 854890576400459864, 841727999937122566, 856411208202489480, 842445930389117853, 856886228065557167, 842448767203259993, 862036281404317382, 844128612348038699, 844687796517264787, 863807573532175060, 846767442663689381, 865269458040469106, 868705760879930083, 868713422818072962, 868721843412377311, 868726020325156664, 870935841119497065, 853449515928544509, 854114673599318410, 877573553472387376, 880825389206160218, 880829846973742643, 881137013820539482, 881717513059745594, 882712521377349484, 906464947432834918, 908072155149939465, 890408523304735551, 908452175534766030, 910188521167399633, 899920026985592276, 913667464444948575, 901998507055673699, 902491000918644940, 902537206684030126, 916714871787682241, 920028217232695841, 920274471136901900, 921937676680235739, 938361691001930141, 923619373141919932, 923808143034203858, 941495631408511385, 945296409882984631, 946614265883675284, 946626388715172869, 946632698776696358, 949038646715849146, 949057689892091780, 931278979141870302, 951614983297274338, 936435014904055244, 938141861447113867, 955800230723324793, 967229455655252680, 967877549212113691, 968027923064434036, 959471453965777823, 964545291656667227, 977466719617229854, 995736283272769462, 996534853014726550, 978837903500153696, 999113356706570190, 983992533347290706, 1001341233025177499, 993348403313947626, 1005547637092256663, 1019852140949643968, 1025908460539009403, 1029802589999575118, 1013547145409846009, 1013572248656244699, 1013609886362396710, 1013661530142538034, 1034071377077697232, 1039196023195025271, 1039571295772559304, 1039586921041220381, 1054283059928628507, 1054354781377123983, 1045438950210180404, 1056019517969512472, 1056408740003257661, 1075108493215768685, 1061293727679955622, 1076041088275296522, 1076821557693274506, 1077608680774470022, 1079560939755545107, 1064288645299628696, 1081008104561877015, 1081097650992443024, 1081978850142291593, 1084540580954355891, 1069423246479995287, 1084635054800727683, 1084768554433866212, 1084768688449457130, 1071697268573341999, 1086954687827064314, 1087003825546511891, 1101355037615963108, 1103484772925388093, 1090684672219878229, 1091258216593101572, 1091789324604332743, 1104534029772761431, 1105124566022035675, 1106372780749038706, 1110000899448086373, 1110690216493741810, 1110992115486680037, 1096279582667713259, 1114981641809039543, 1097656178690588757, 1116738369193202892, 1117852176088159838, 1099401012384269036, 1120810332795122013, 1120956307852860996, 1121215824917542212, 1118629787407576324, 1118662108306640591, 1118843758834034668, 1132635860708830787, 1125354079581425982, 1134492764338355995, 1126555288368710741, 1126684210735664943, 1134896847256575319, 1134920632145199812, 1135442261452261940, 1135538725764395689, 1127673608505632385, 1136852730795878024, 1136895557536726354, 1128180673476262563, 1128184020949605416, 1128228024760541758, 1128230340121806052, 1128233251453150564, 1128235554569507793, 1128237390188448911, 1128240619421385957, 1128244893720715302, 1138362021269310848, 1129771579783736590, 1138429185253970295, 1138556910296298680, 1131050574490973390, 1142868077398602328, 1143197638152214647, 1144215244576791512, 1144821766157445572, 1146223316781299250, 1146231339027145342, 1166743089695273424, 1167176507878028232, 1151373789838556009, 1151597582267543200, 1152077860797986222, 1168653956385179970, 1170871328389941136, 1171818431889131357, 1172828773227753595, 1161367709963860718, 1173291146798962773, 1163205960954070502, 1163549899953888023, 1175845318430675889, 1176079142703942345, 1165273971019095954, 1177294408721270246, 1177510105263894249, 1166532968596783793, 1195638612846655797, 1178903958492597016, 1179741567478389538, 1179781849979373519, 1180333019198536294, 1181054118838351205, 1181348934636153161, 1196904657021586587, 1197149434393621614, 1198287306785345437, 1200107229715429338, 1188584934136387294, 1203385114990860702, 1203385314187409577, 1203385650245229293, 1204159891731303920, 1204240005221117556, 1204249760760152858, 1205872472925935166, 1192060107472842224, 1207248751738611278, 1194018327831285928, 1194034007644461284, 1194312928732826777, 1194671182522298232, 1212761906795264538, 1216598666012363719, 1213707334292383436, 1220845510783223547, 1221731178597045771, 1221772306542938783, 1221786960522269595, 1214237945802917706, 1214248351510736814, 1226598388742218759, 1226920371682349466, 1227323538090252056, 1228830228487454213, 1214319696734728383, 1214320768004897030, 1231854773417586490, 1231867779577726835, 1257931094690462511, 1236157349756437074, 1236244429796957182, 1262484070097878024, 1236870076179595575, 1264683017888321172, 1264947265705367166, 1267206288298462609, 1267863853974828921, 1243385637529899948, 1270830891938250653, 1247013264722070801, 1273034369814996072, 1273915376791991136, 1247643070180030843, 1249110481871270428, 1249126569454833315, 1249126923987565481, 1274772038331619806, 1275356316855058273, 1279622572559088418, 1300097955909523031, 1300780009764347071, 1284028137199662761, 1303684848557611690, 1287078040786858269, 1307831240591494833, 1289075787499379023, 1312264987913123006, 1295481757304038690, 1295853066036349279, 1315761013614017712, 1297653047024275377, 1299093032917401688, 1316533145424796463, 1299219448222323136, 1316880410136989665, 1323103342484247859, 1323230692970733332, 1324452788295869104, 1318576470347265316, 1340401748933997465, 1342637954879367708, 1338260248024769690, 1349906548984578933]"
        ],
        [
         "7",
         "bathrooms",
         "float64",
         "906",
         "11.44",
         "[426097, 72821, 99238, 149749, 676323, 208801, 719981, 740308, 804777, 268865, 888033, 289477, 303040, 314923, 315637, 331151, 1005533, 1038620, 1169013, 388399, 1832112, 1834997, 1316352, 1958392, 1973495, 1424680, 1482860, 2004220, 1533624, 1583452, 1615895, 1807274, 2253981, 2260596, 2322764, 3020830, 2377640, 2402601, 3203677, 2559866, 3314930, 3356926, 3524290, 3589795, 3743704, 4691319, 3814415, 4826958, 5079256, 5268522, 5302362, 5349074, 4067549, 4118179, 5473403, 4246816, 4272967, 4302018, 4332045, 5734857, 4514733, 4523238, 5734956, 4626689, 6663734, 6682798, 6763463, 6086105, 6791981, 6863620, 6867498, 6096530, 6868017, 6878247, 6908509, 6919352, 6152631, 6987387, 7018697, 7212771, 7282315, 6443733, 6484622, 6514655, 6552418, 6571055, 6599930, 6600504, 7524616, 7682178, 7718939, 7848012, 8423436, 7880190, 7917724, 7969977, 8561397, 8736169, 8966009, 9763587, 9801176, 9053589, 9104416, 9878674, 9233701, 9917563, 9236574, 9657046, 10203180, 11037556, 11092920, 10321107, 11227476, 11232084, 10406382, 11267714, 11352211, 10579776, 10639339, 11417636, 10749341, 10795221, 11634229, 10848085, 12164082, 11878822, 12356453, 12395018, 12395830, 12099568, 13205131, 12505135, 13285492, 13339026, 13343640, 12554296, 12626794, 12744252, 13429431, 12822904, 12860900, 13470839, 12864747, 12878255, 13522829, 13551446, 13557482, 13593769, 13743690, 13746483, 13102375, 13122321, 13812868, 13824564, 13940818, 13163877, 13949126, 13949186, 13954375, 13181481, 13984636, 14174162, 14350809, 14411510, 15254116, 15279977, 14617664, 14623672, 14723841, 14749870, 14868532, 15863506, 16001709, 16142745, 16545093, 16545161, 16340500, 16700069, 16759346, 17454741, 17528865, 17529062, 16789967, 17566689, 17603602, 18080652, 18085932, 17049214, 17083555, 17103422, 18207432, 17182284, 18252889, 18281647, 18310068, 18398473, 18403345, 18403998, 18404123, 18404739, 18592543, 18628831, 19872185, 18781224, 18841548, 18905564, 18996187, 20153377, 20180833, 20185109, 20188748, 19117250, 20213463, 19170663, 19190771, 20382344, 20533478, 20533903, 19453484, 20811092, 20871712, 20908714, 21991820, 21470390, 21577826, 22542097, 22549377, 22569393, 21930834, 21939841, 22642183, 22916390, 22726630, 22739797, 22743540, 22785587, 23043938, 23248901, 23296820, 23299798, 23875252, 23319025, 23332524, 23423438, 23444096, 23639309, 24053213, 23715688, 23716161, 23716247, 24073401, 24192720, 24819360, 24844514, 24340790, 24863203, 24369371, 24385633, 24438480, 24509706, 24992475, 24547573, 24566287, 25674378, 25312863, 25820788, 25443000, 25883820, 25910699, 25988358, 26162087, 26211358, 27304289, 27336937, 26341997, 27539099, 27599571, 27600068, 27605918, 26418427, 27615894, 27617451, 27618661, 27650684, 26552709, 26563089, 28025140, 28117126, 26940647, 27011653, 27125153, 28502404, 28560731, 28594104, 30220513, 28678045, 30245612, 30265360, 30466981, 29066989, 29176552, 30581116, 30622866, 30753359, 29273437, 30852114, 29352576, 31168457, 29505444, 29532305, 31303354, 29603997, 29648829, 31687942, 32543395, 32598853, 31915793, 32004094, 32135840, 32183486, 32977122, 33033826, 33037671, 33159295, 32432570, 33206380, 33354782, 33600966, 33662371, 33438466, 33729264, 33863614, 34467028, 34486921, 34487124, 34487577, 33922446, 33923459, 33952729, 34532547, 34564789, 34004224, 34107661, 34108248, 34792174, 34800312, 34160725, 34192937, 34194406, 34198553, 34198773, 34214770, 35014667, 34277743, 34377021, 35145429, 34383692, 35181831, 35867718, 35867887, 35868040, 35935568, 36065811, 36066436, 36066515, 35505069, 35505572, 35591726, 35611685, 35611767, 35611837, 36440969, 35818787, 35824940, 36500837, 36592419, 35866840, 35867523, 37516973, 37543558, 37546004, 37546481, 36678559, 36714952, 36723155, 36724836, 37572169, 37572170, 37572176, 37612023, 37089996, 37344350, 37955200, 37978708, 37445128, 37984372, 37984387, 38118898, 38120578, 38148201, 39074453, 39430631, 39477493, 39686632, 39687471, 38821048, 39818205, 39986180, 40802008, 40802085, 40802136, 40802228, 40170952, 40382806, 40398778, 40855773, 40447288, 40962380, 40981542, 40629507, 40629964, 40719730, 40748129, 40751721, 40753284, 40753310, 40753325, 40753387, 41230237, 41236121, 42054989, 41495615, 42089815, 41581713, 42291642, 42433158, 41672663, 41739723, 41745595, 41745960, 42522464, 41818569, 41831435, 41832487, 42622043, 41857160, 42683930, 42873061, 43092202, 43201185, 43310400, 43310474, 43322099, 43449007, 43449549, 43449998, 43699881, 43705007, 45068417, 43824956, 45077717, 43982784, 45199986, 45250837, 45296632, 45333195, 44108039, 45359925, 44158030, 44325296, 45786390, 48795925, 46002803, 46003701, 46276751, 46416374, 49409960, 47503074, 49646809, 47864169, 49771863, 48195025, 48195026, 48205282, 49876274, 49919782, 48264504, 48327554, 49919994, 49920262, 49947115, 50603577, 50194382, 50233990, 50277320, 50282187, 50282620, 50282790, 50345080, 50347742, 50393470, 50429814, 50430545, 50436814, 50437702, 50438391, 50438544, 51261493, 51647340, 51398216, 51398585, 51416594, 52564047, 52821520, 52979664, 52196082, 53178120, 52274786, 53289111, 53950078, 54048617, 53376320, 54079591, 54188355, 54254885, 54255739, 54255886, 54310852, 54310897, 54401249, 53605241, 548549712570151444, 549046842357256292, 53668730, 549077262427870426, 549077290506096759, 549167656055517656, 53778874, 53778959, 580088244214424763, 563605466797542863, 565851037572193271, 585336565841810196, 568566195566921442, 592707754645165495, 573074131933435142, 594584114878427891, 595451807363045433, 645440840550150229, 651177437063812379, 613422403576154661, 613829058322990491, 623807345597711079, 659904292924629719, 630450386688784710, 664942766518802790, 635203979110080644, 638300545340556802, 638400929135061122, 638403805969773939, 638405224053587919, 671495131372804832, 671499391376551498, 671502439065092652, 671504996561751909, 671507608882429537, 671512068583594186, 672131284747383829, 672135415536352376, 672140113657565652, 672143125182310747, 672151723194425517, 672156581317155373, 672159140052101625, 672161053818689306, 672162738836687009, 672243929702750803, 670133936049220562, 674963595963342539, 671409777664608461, 701070952508622673, 701216320061934035, 702677186858001674, 704823709237371920, 704931214865202401, 705728973348245305, 707255052804005434, 709862458708445067, 716675001218374596, 692537214742615034, 692804245589277408, 718716660876105339, 697660155237369866, 724507690316470874, 700633952042507996, 731728604856416202, 733295475350541479, 748999259569336631, 734550726176649255, 735184034045468044, 753658382658746543, 736246608049823269, 736250094898977332, 736722189382950462, 741045646897395177, 741970547484053891, 742433348606442332, 743108839905315839, 744760241432823124, 765115847361336372, 765900024048690476, 765918426420984116, 766537876117575305, 767207716602797434, 768251633989466183, 771488607027890590, 774224422695537008, 810786599401829580, 787750536550792351, 815809045877838400, 791389619039426601, 819686286060935532, 796358638745764401, 802633552724786344, 826047483616533970, 806966476473135544, 807675656270226907, 807680416085116912, 828110412554619891, 807684208837043608, 831691520409327634, 831711271176721766, 831718327610589757, 837549115325763595, 837553108828232216, 837563758386626855, 837567231350634031, 837570258603325753, 831749875617113346, 838134168782023974, 840985079777351460, 835990297827592549, 836001545790623347, 854218067112736035, 854890576400459864, 841727999937122566, 856411208202489480, 842445930389117853, 856886228065557167, 842448767203259993, 862036281404317382, 844128612348038699, 844687796517264787, 863807573532175060, 846767442663689381, 865269458040469106, 868705760879930083, 868713422818072962, 868721843412377311, 868726020325156664, 870935841119497065, 853449515928544509, 854114673599318410, 877573553472387376, 880825389206160218, 880829846973742643, 881137013820539482, 881717513059745594, 882712521377349484, 906464947432834918, 908072155149939465, 890408523304735551, 908452175534766030, 910188521167399633, 899920026985592276, 913667464444948575, 901998507055673699, 902491000918644940, 902537206684030126, 916714871787682241, 920028217232695841, 920274471136901900, 921937676680235739, 938361691001930141, 923619373141919932, 923808143034203858, 941495631408511385, 945296409882984631, 946614265883675284, 946626388715172869, 946632698776696358, 949038646715849146, 949057689892091780, 931278979141870302, 951614983297274338, 936435014904055244, 938141861447113867, 955800230723324793, 967229455655252680, 967877549212113691, 968027923064434036, 959471453965777823, 964545291656667227, 977466719617229854, 995736283272769462, 996534853014726550, 978837903500153696, 999113356706570190, 983992533347290706, 1001341233025177499, 993348403313947626, 1016695412752790117, 1005547637092256663, 1019852140949643968, 1025908460539009403, 1029802589999575118, 1013547145409846009, 1013572248656244699, 1013609886362396710, 1013661530142538034, 1034071377077697232, 1039196023195025271, 1039571295772559304, 1039586921041220381, 1054283059928628507, 1054354781377123983, 1045438950210180404, 1056019517969512472, 1056408740003257661, 1075108493215768685, 1061293727679955622, 1076041088275296522, 1076821557693274506, 1077608680774470022, 1079560939755545107, 1064288645299628696, 1081008104561877015, 1081097650992443024, 1081978850142291593, 1084540580954355891, 1069423246479995287, 1084635054800727683, 1084768554433866212, 1084768688449457130, 1071697268573341999, 1086954687827064314, 1087003825546511891, 1101355037615963108, 1103484772925388093, 1090684672219878229, 1091789324604332743, 1104534029772761431, 1105124566022035675, 1106372780749038706, 1110000899448086373, 1110690216493741810, 1110992115486680037, 1096279582667713259, 1114981641809039543, 1097656178690588757, 1116738369193202892, 1117852176088159838, 1099401012384269036, 1120810332795122013, 1120956307852860996, 1121215824917542212, 1118629787407576324, 1118662108306640591, 1118843758834034668, 1132635860708830787, 1125354079581425982, 1134492764338355995, 1126555288368710741, 1126684210735664943, 1134896847256575319, 1134920632145199812, 1135442261452261940, 1135538725764395689, 1127673608505632385, 1136852730795878024, 1136895557536726354, 1128180673476262563, 1128184020949605416, 1128228024760541758, 1128230340121806052, 1128233251453150564, 1128235554569507793, 1128237390188448911, 1128240619421385957, 1128244893720715302, 1138362021269310848, 1129771579783736590, 1138429185253970295, 1138556910296298680, 1131050574490973390, 1142868077398602328, 1143197638152214647, 1144215244576791512, 1144821766157445572, 1146223316781299250, 1146231339027145342, 1166743089695273424, 1167176507878028232, 1151373789838556009, 1151597582267543200, 1152077860797986222, 1168653956385179970, 1170871328389941136, 1171818431889131357, 1172828773227753595, 1161367709963860718, 1173291146798962773, 1163205960954070502, 1163549899953888023, 1175845318430675889, 1176079142703942345, 1165273971019095954, 1177294408721270246, 1177510105263894249, 1166532968596783793, 1195638612846655797, 1178903958492597016, 1179741567478389538, 1179781849979373519, 1180333019198536294, 1181054118838351205, 1181348934636153161, 1196904657021586587, 1197149434393621614, 1198287306785345437, 1200107229715429338, 1188584934136387294, 1203385114990860702, 1203385314187409577, 1203385650245229293, 1204159891731303920, 1204240005221117556, 1204249760760152858, 1205872472925935166, 1192060107472842224, 1207248751738611278, 1194018327831285928, 1194034007644461284, 1194312928732826777, 1194671182522298232, 1212761906795264538, 1216598666012363719, 1213707334292383436, 1220845510783223547, 1221731178597045771, 1221772306542938783, 1221786960522269595, 1214237945802917706, 1214248351510736814, 1226598388742218759, 1226920371682349466, 1227323538090252056, 1228830228487454213, 1214319696734728383, 1214320768004897030, 1231854773417586490, 1231867779577726835, 1257931094690462511, 1236157349756437074, 1236244429796957182, 1262484070097878024, 1236870076179595575, 1264683017888321172, 1264947265705367166, 1267206288298462609, 1267863853974828921, 1243385637529899948, 1270830891938250653, 1247013264722070801, 1273034369814996072, 1273915376791991136, 1247643070180030843, 1249110481871270428, 1249126569454833315, 1249126923987565481, 1274772038331619806, 1275356316855058273, 1279622572559088418, 1300097955909523031, 1300780009764347071, 1284028137199662761, 1303684848557611690, 1287078040786858269, 1307831240591494833, 1289075787499379023, 1295481757304038690, 1295853066036349279, 1315761013614017712, 1297653047024275377, 1299093032917401688, 1316533145424796463, 1299219448222323136, 1316880410136989665, 1323103342484247859, 1323230692970733332, 1324452788295869104, 1318576470347265316, 1340401748933997465, 1342637954879367708, 1338260248024769690, 1349906548984578933]"
        ],
        [
         "8",
         "estimated_revenue_l365d",
         "float64",
         "904",
         "11.41",
         "[426097, 72821, 99238, 149749, 676323, 208801, 719981, 740308, 804777, 268865, 888033, 289477, 303040, 314923, 315637, 331151, 1005533, 1038620, 1169013, 388399, 1832112, 1834997, 1958392, 1973495, 1424680, 1482860, 2004220, 1533624, 1583452, 1615895, 1807274, 2253981, 2260596, 2322764, 3020830, 2377640, 2402601, 3203677, 2559866, 3314930, 3356926, 3524290, 3589795, 3743704, 4691319, 3814415, 4826958, 5079256, 5268522, 5302362, 5349074, 4067549, 4118179, 5473403, 4246816, 4272967, 4302018, 4332045, 5734857, 4514733, 4523238, 5734956, 4626689, 6663734, 6682798, 6763463, 6086105, 6791981, 6863620, 6867498, 6096530, 6868017, 6878247, 6908509, 6919352, 6152631, 6987387, 7018697, 7212771, 7282315, 6443733, 6484622, 6514655, 6552418, 6571055, 6599930, 6600504, 7524616, 7682178, 7718939, 7848012, 8423436, 7880190, 7917724, 7969977, 8561397, 8736169, 8966009, 9763587, 9801176, 9053589, 9104416, 9878674, 9233701, 9917563, 9236574, 9657046, 10203180, 11037556, 11092920, 10321107, 11227476, 11232084, 10406382, 11267714, 11352211, 10579776, 10639339, 11417636, 10749341, 10795221, 11634229, 10848085, 12164082, 11878822, 12356453, 12395018, 12395830, 12099568, 13205131, 12505135, 13285492, 13339026, 13343640, 12554296, 12626794, 12744252, 13429431, 12822904, 12860900, 13470839, 12864747, 12878255, 13522829, 13551446, 13557482, 13593769, 13743690, 13746483, 13102375, 13122321, 13812868, 13824564, 13940818, 13163877, 13949126, 13949186, 13954375, 13181481, 13984636, 14174162, 14350809, 14411510, 15254116, 15279977, 14617664, 14623672, 14723841, 14749870, 14868532, 15863506, 16001709, 16142745, 16545093, 16545161, 16340500, 16700069, 16759346, 17454741, 17528865, 17529062, 16789967, 17566689, 17603602, 18080652, 18085932, 17049214, 17083555, 17103422, 18207432, 17182284, 18252889, 18281647, 18310068, 18398473, 18403345, 18403998, 18404123, 18404739, 18592543, 18628831, 19872185, 18781224, 18841548, 18905564, 18996187, 20153377, 20180833, 20185109, 20188748, 19117250, 20213463, 19170663, 19190771, 20382344, 20533478, 20533903, 19453484, 20811092, 20871712, 20908714, 21991820, 21470390, 21577826, 22542097, 22549377, 22569393, 21930834, 21939841, 22642183, 22916390, 22726630, 22739797, 22743540, 22785587, 23043938, 23248901, 23296820, 23299798, 23875252, 23319025, 23332524, 23423438, 23444096, 23639309, 24053213, 23715688, 23716161, 23716247, 24073401, 24192720, 24819360, 24844514, 24340790, 24863203, 24369371, 24385633, 24438480, 24509706, 24992475, 24547573, 24566287, 25674378, 25312863, 25820788, 25443000, 25883820, 25910699, 25988358, 26162087, 26211358, 27304289, 27336937, 26341997, 27539099, 27599571, 27600068, 27605918, 26418427, 27615894, 27617451, 27618661, 27650684, 26552709, 26563089, 28025140, 28117126, 26940647, 27011653, 27125153, 28502404, 28560731, 28594104, 30220513, 28678045, 30245612, 30265360, 30466981, 29066989, 29176552, 30581116, 30622866, 30753359, 29273437, 30852114, 29352576, 31168457, 29505444, 29532305, 31303354, 29603997, 29648829, 31687942, 32543395, 32598853, 31915793, 32004094, 32135840, 32183486, 32977122, 33033826, 33037671, 33159295, 32432570, 33206380, 33354782, 33600966, 33662371, 33438466, 33729264, 33863614, 34467028, 34486921, 34487124, 34487577, 33922446, 33923459, 33952729, 34532547, 34564789, 34004224, 34107661, 34108248, 34792174, 34800312, 34160725, 34192937, 34194406, 34198553, 34198773, 34214770, 35014667, 34277743, 34377021, 35145429, 34383692, 35181831, 35867718, 35867887, 35868040, 35935568, 36065811, 36066436, 36066515, 35505069, 35505572, 35591726, 35611685, 35611767, 35611837, 36440969, 35818787, 35824940, 36500837, 36592419, 35866840, 35867523, 37516973, 37543558, 37546004, 37546481, 36678559, 36714952, 36723155, 36724836, 37572169, 37572170, 37572176, 37612023, 37089996, 37344350, 37955200, 37978708, 37445128, 37984372, 37984387, 38118898, 38120578, 38148201, 39074453, 39430631, 39477493, 39686632, 39687471, 38821048, 39818205, 39986180, 40802008, 40802085, 40802136, 40802228, 40170952, 40382806, 40398778, 40855773, 40447288, 40962380, 40981542, 40629507, 40629964, 40719730, 40748129, 40751721, 40753284, 40753310, 40753325, 40753387, 41230237, 41236121, 42054989, 41495615, 42089815, 41581713, 42291642, 42433158, 41672663, 41739723, 41745595, 41745960, 42522464, 41818569, 41831435, 41832487, 42622043, 41857160, 42683930, 42873061, 43092202, 43201185, 43310400, 43310474, 43322099, 43449007, 43449549, 43449998, 43699881, 43705007, 45068417, 43824956, 45077717, 43982784, 45199986, 45250837, 45296632, 45333195, 44108039, 45359925, 44158030, 44325296, 45786390, 48795925, 46002803, 46003701, 46276751, 46416374, 49409960, 47503074, 49646809, 47864169, 49771863, 48195025, 48195026, 48205282, 49876274, 49919782, 48264504, 48327554, 49919994, 49920262, 49947115, 50603577, 50194382, 50233990, 50277320, 50282187, 50282620, 50282790, 50345080, 50347742, 50393470, 50429814, 50430545, 50436814, 50437702, 50438391, 50438544, 51261493, 51647340, 51398216, 51398585, 51416594, 52564047, 52821520, 52979664, 52196082, 53178120, 52274786, 53289111, 53950078, 54048617, 53376320, 54079591, 54188355, 54254885, 54255739, 54255886, 54310852, 54310897, 54401249, 53605241, 548549712570151444, 549046842357256292, 53668730, 549077262427870426, 549077290506096759, 549167656055517656, 53778874, 53778959, 580088244214424763, 563605466797542863, 565851037572193271, 585336565841810196, 568566195566921442, 592707754645165495, 573074131933435142, 594584114878427891, 595451807363045433, 645440840550150229, 651177437063812379, 613422403576154661, 613829058322990491, 623807345597711079, 659904292924629719, 630450386688784710, 664942766518802790, 635203979110080644, 638300545340556802, 638400929135061122, 638403805969773939, 638405224053587919, 671495131372804832, 671499391376551498, 671502439065092652, 671504996561751909, 671507608882429537, 671512068583594186, 672131284747383829, 672135415536352376, 672140113657565652, 672143125182310747, 672151723194425517, 672156581317155373, 672159140052101625, 672161053818689306, 672162738836687009, 672243929702750803, 670133936049220562, 674963595963342539, 671409777664608461, 701070952508622673, 701216320061934035, 702677186858001674, 704823709237371920, 704931214865202401, 705728973348245305, 707255052804005434, 709862458708445067, 716675001218374596, 692537214742615034, 692804245589277408, 718716660876105339, 697660155237369866, 724507690316470874, 700633952042507996, 731728604856416202, 733295475350541479, 748999259569336631, 734550726176649255, 735184034045468044, 753658382658746543, 736246608049823269, 736250094898977332, 736722189382950462, 741045646897395177, 741970547484053891, 742433348606442332, 743108839905315839, 744760241432823124, 765115847361336372, 765900024048690476, 765918426420984116, 766537876117575305, 767207716602797434, 768251633989466183, 771488607027890590, 774224422695537008, 810786599401829580, 787750536550792351, 815809045877838400, 791389619039426601, 819686286060935532, 796358638745764401, 802633552724786344, 826047483616533970, 806966476473135544, 807675656270226907, 807680416085116912, 828110412554619891, 807684208837043608, 831691520409327634, 831711271176721766, 831718327610589757, 837549115325763595, 837553108828232216, 837563758386626855, 837567231350634031, 837570258603325753, 831749875617113346, 838134168782023974, 840985079777351460, 835990297827592549, 836001545790623347, 854218067112736035, 854890576400459864, 841727999937122566, 856411208202489480, 842445930389117853, 856886228065557167, 842448767203259993, 862036281404317382, 844128612348038699, 844687796517264787, 863807573532175060, 846767442663689381, 865269458040469106, 868705760879930083, 868713422818072962, 868721843412377311, 868726020325156664, 870935841119497065, 853449515928544509, 854114673599318410, 877573553472387376, 880825389206160218, 880829846973742643, 881137013820539482, 881717513059745594, 882712521377349484, 906464947432834918, 908072155149939465, 890408523304735551, 908452175534766030, 910188521167399633, 899920026985592276, 913667464444948575, 901998507055673699, 902491000918644940, 902537206684030126, 916714871787682241, 920028217232695841, 920274471136901900, 921937676680235739, 938361691001930141, 923619373141919932, 923808143034203858, 941495631408511385, 945296409882984631, 946614265883675284, 946626388715172869, 946632698776696358, 949038646715849146, 949057689892091780, 931278979141870302, 951614983297274338, 936435014904055244, 938141861447113867, 955800230723324793, 967229455655252680, 967877549212113691, 968027923064434036, 959471453965777823, 964545291656667227, 977466719617229854, 995736283272769462, 996534853014726550, 978837903500153696, 999113356706570190, 983992533347290706, 1001341233025177499, 993348403313947626, 1005547637092256663, 1019852140949643968, 1025908460539009403, 1029802589999575118, 1013547145409846009, 1013572248656244699, 1013609886362396710, 1013661530142538034, 1034071377077697232, 1039196023195025271, 1039571295772559304, 1039586921041220381, 1054283059928628507, 1054354781377123983, 1045438950210180404, 1056019517969512472, 1056408740003257661, 1075108493215768685, 1061293727679955622, 1076041088275296522, 1076821557693274506, 1077608680774470022, 1079560939755545107, 1064288645299628696, 1081008104561877015, 1081097650992443024, 1081978850142291593, 1084540580954355891, 1069423246479995287, 1084635054800727683, 1084768554433866212, 1084768688449457130, 1071697268573341999, 1086954687827064314, 1087003825546511891, 1101355037615963108, 1103484772925388093, 1090684672219878229, 1091789324604332743, 1104534029772761431, 1105124566022035675, 1106372780749038706, 1110000899448086373, 1110690216493741810, 1110992115486680037, 1096279582667713259, 1114981641809039543, 1097656178690588757, 1116738369193202892, 1117852176088159838, 1099401012384269036, 1120810332795122013, 1120956307852860996, 1121215824917542212, 1118629787407576324, 1118662108306640591, 1118843758834034668, 1132635860708830787, 1125354079581425982, 1134492764338355995, 1126555288368710741, 1126684210735664943, 1134896847256575319, 1134920632145199812, 1135442261452261940, 1135538725764395689, 1127673608505632385, 1136852730795878024, 1136895557536726354, 1128180673476262563, 1128184020949605416, 1128228024760541758, 1128230340121806052, 1128233251453150564, 1128235554569507793, 1128237390188448911, 1128240619421385957, 1128244893720715302, 1138362021269310848, 1129771579783736590, 1138429185253970295, 1138556910296298680, 1131050574490973390, 1142868077398602328, 1143197638152214647, 1144215244576791512, 1144821766157445572, 1146223316781299250, 1146231339027145342, 1166743089695273424, 1167176507878028232, 1151373789838556009, 1151597582267543200, 1152077860797986222, 1168653956385179970, 1170871328389941136, 1171818431889131357, 1172828773227753595, 1161367709963860718, 1173291146798962773, 1163205960954070502, 1163549899953888023, 1175845318430675889, 1176079142703942345, 1165273971019095954, 1177294408721270246, 1177510105263894249, 1166532968596783793, 1195638612846655797, 1178903958492597016, 1179741567478389538, 1179781849979373519, 1180333019198536294, 1181054118838351205, 1181348934636153161, 1196904657021586587, 1197149434393621614, 1198287306785345437, 1200107229715429338, 1188584934136387294, 1203385114990860702, 1203385314187409577, 1203385650245229293, 1204159891731303920, 1204240005221117556, 1204249760760152858, 1205872472925935166, 1192060107472842224, 1207248751738611278, 1194018327831285928, 1194034007644461284, 1194312928732826777, 1194671182522298232, 1212761906795264538, 1216598666012363719, 1213707334292383436, 1220845510783223547, 1221731178597045771, 1221772306542938783, 1221786960522269595, 1214237945802917706, 1214248351510736814, 1226598388742218759, 1226920371682349466, 1227323538090252056, 1228830228487454213, 1214319696734728383, 1214320768004897030, 1231854773417586490, 1231867779577726835, 1257931094690462511, 1236157349756437074, 1236244429796957182, 1262484070097878024, 1236870076179595575, 1264683017888321172, 1264947265705367166, 1267206288298462609, 1267863853974828921, 1243385637529899948, 1270830891938250653, 1247013264722070801, 1273034369814996072, 1273915376791991136, 1247643070180030843, 1249110481871270428, 1249126569454833315, 1249126923987565481, 1274772038331619806, 1275356316855058273, 1279622572559088418, 1300097955909523031, 1300780009764347071, 1284028137199662761, 1303684848557611690, 1287078040786858269, 1307831240591494833, 1289075787499379023, 1295481757304038690, 1295853066036349279, 1315761013614017712, 1297653047024275377, 1299093032917401688, 1316533145424796463, 1299219448222323136, 1316880410136989665, 1323103342484247859, 1323230692970733332, 1324452788295869104, 1318576470347265316, 1340401748933997465, 1342637954879367708, 1338260248024769690, 1349906548984578933]"
        ],
        [
         "9",
         "price",
         "object",
         "904",
         "11.41",
         "[426097, 72821, 99238, 149749, 676323, 208801, 719981, 740308, 804777, 268865, 888033, 289477, 303040, 314923, 315637, 331151, 1005533, 1038620, 1169013, 388399, 1832112, 1834997, 1958392, 1973495, 1424680, 1482860, 2004220, 1533624, 1583452, 1615895, 1807274, 2253981, 2260596, 2322764, 3020830, 2377640, 2402601, 3203677, 2559866, 3314930, 3356926, 3524290, 3589795, 3743704, 4691319, 3814415, 4826958, 5079256, 5268522, 5302362, 5349074, 4067549, 4118179, 5473403, 4246816, 4272967, 4302018, 4332045, 5734857, 4514733, 4523238, 5734956, 4626689, 6663734, 6682798, 6763463, 6086105, 6791981, 6863620, 6867498, 6096530, 6868017, 6878247, 6908509, 6919352, 6152631, 6987387, 7018697, 7212771, 7282315, 6443733, 6484622, 6514655, 6552418, 6571055, 6599930, 6600504, 7524616, 7682178, 7718939, 7848012, 8423436, 7880190, 7917724, 7969977, 8561397, 8736169, 8966009, 9763587, 9801176, 9053589, 9104416, 9878674, 9233701, 9917563, 9236574, 9657046, 10203180, 11037556, 11092920, 10321107, 11227476, 11232084, 10406382, 11267714, 11352211, 10579776, 10639339, 11417636, 10749341, 10795221, 11634229, 10848085, 12164082, 11878822, 12356453, 12395018, 12395830, 12099568, 13205131, 12505135, 13285492, 13339026, 13343640, 12554296, 12626794, 12744252, 13429431, 12822904, 12860900, 13470839, 12864747, 12878255, 13522829, 13551446, 13557482, 13593769, 13743690, 13746483, 13102375, 13122321, 13812868, 13824564, 13940818, 13163877, 13949126, 13949186, 13954375, 13181481, 13984636, 14174162, 14350809, 14411510, 15254116, 15279977, 14617664, 14623672, 14723841, 14749870, 14868532, 15863506, 16001709, 16142745, 16545093, 16545161, 16340500, 16700069, 16759346, 17454741, 17528865, 17529062, 16789967, 17566689, 17603602, 18080652, 18085932, 17049214, 17083555, 17103422, 18207432, 17182284, 18252889, 18281647, 18310068, 18398473, 18403345, 18403998, 18404123, 18404739, 18592543, 18628831, 19872185, 18781224, 18841548, 18905564, 18996187, 20153377, 20180833, 20185109, 20188748, 19117250, 20213463, 19170663, 19190771, 20382344, 20533478, 20533903, 19453484, 20811092, 20871712, 20908714, 21991820, 21470390, 21577826, 22542097, 22549377, 22569393, 21930834, 21939841, 22642183, 22916390, 22726630, 22739797, 22743540, 22785587, 23043938, 23248901, 23296820, 23299798, 23875252, 23319025, 23332524, 23423438, 23444096, 23639309, 24053213, 23715688, 23716161, 23716247, 24073401, 24192720, 24819360, 24844514, 24340790, 24863203, 24369371, 24385633, 24438480, 24509706, 24992475, 24547573, 24566287, 25674378, 25312863, 25820788, 25443000, 25883820, 25910699, 25988358, 26162087, 26211358, 27304289, 27336937, 26341997, 27539099, 27599571, 27600068, 27605918, 26418427, 27615894, 27617451, 27618661, 27650684, 26552709, 26563089, 28025140, 28117126, 26940647, 27011653, 27125153, 28502404, 28560731, 28594104, 30220513, 28678045, 30245612, 30265360, 30466981, 29066989, 29176552, 30581116, 30622866, 30753359, 29273437, 30852114, 29352576, 31168457, 29505444, 29532305, 31303354, 29603997, 29648829, 31687942, 32543395, 32598853, 31915793, 32004094, 32135840, 32183486, 32977122, 33033826, 33037671, 33159295, 32432570, 33206380, 33354782, 33600966, 33662371, 33438466, 33729264, 33863614, 34467028, 34486921, 34487124, 34487577, 33922446, 33923459, 33952729, 34532547, 34564789, 34004224, 34107661, 34108248, 34792174, 34800312, 34160725, 34192937, 34194406, 34198553, 34198773, 34214770, 35014667, 34277743, 34377021, 35145429, 34383692, 35181831, 35867718, 35867887, 35868040, 35935568, 36065811, 36066436, 36066515, 35505069, 35505572, 35591726, 35611685, 35611767, 35611837, 36440969, 35818787, 35824940, 36500837, 36592419, 35866840, 35867523, 37516973, 37543558, 37546004, 37546481, 36678559, 36714952, 36723155, 36724836, 37572169, 37572170, 37572176, 37612023, 37089996, 37344350, 37955200, 37978708, 37445128, 37984372, 37984387, 38118898, 38120578, 38148201, 39074453, 39430631, 39477493, 39686632, 39687471, 38821048, 39818205, 39986180, 40802008, 40802085, 40802136, 40802228, 40170952, 40382806, 40398778, 40855773, 40447288, 40962380, 40981542, 40629507, 40629964, 40719730, 40748129, 40751721, 40753284, 40753310, 40753325, 40753387, 41230237, 41236121, 42054989, 41495615, 42089815, 41581713, 42291642, 42433158, 41672663, 41739723, 41745595, 41745960, 42522464, 41818569, 41831435, 41832487, 42622043, 41857160, 42683930, 42873061, 43092202, 43201185, 43310400, 43310474, 43322099, 43449007, 43449549, 43449998, 43699881, 43705007, 45068417, 43824956, 45077717, 43982784, 45199986, 45250837, 45296632, 45333195, 44108039, 45359925, 44158030, 44325296, 45786390, 48795925, 46002803, 46003701, 46276751, 46416374, 49409960, 47503074, 49646809, 47864169, 49771863, 48195025, 48195026, 48205282, 49876274, 49919782, 48264504, 48327554, 49919994, 49920262, 49947115, 50603577, 50194382, 50233990, 50277320, 50282187, 50282620, 50282790, 50345080, 50347742, 50393470, 50429814, 50430545, 50436814, 50437702, 50438391, 50438544, 51261493, 51647340, 51398216, 51398585, 51416594, 52564047, 52821520, 52979664, 52196082, 53178120, 52274786, 53289111, 53950078, 54048617, 53376320, 54079591, 54188355, 54254885, 54255739, 54255886, 54310852, 54310897, 54401249, 53605241, 548549712570151444, 549046842357256292, 53668730, 549077262427870426, 549077290506096759, 549167656055517656, 53778874, 53778959, 580088244214424763, 563605466797542863, 565851037572193271, 585336565841810196, 568566195566921442, 592707754645165495, 573074131933435142, 594584114878427891, 595451807363045433, 645440840550150229, 651177437063812379, 613422403576154661, 613829058322990491, 623807345597711079, 659904292924629719, 630450386688784710, 664942766518802790, 635203979110080644, 638300545340556802, 638400929135061122, 638403805969773939, 638405224053587919, 671495131372804832, 671499391376551498, 671502439065092652, 671504996561751909, 671507608882429537, 671512068583594186, 672131284747383829, 672135415536352376, 672140113657565652, 672143125182310747, 672151723194425517, 672156581317155373, 672159140052101625, 672161053818689306, 672162738836687009, 672243929702750803, 670133936049220562, 674963595963342539, 671409777664608461, 701070952508622673, 701216320061934035, 702677186858001674, 704823709237371920, 704931214865202401, 705728973348245305, 707255052804005434, 709862458708445067, 716675001218374596, 692537214742615034, 692804245589277408, 718716660876105339, 697660155237369866, 724507690316470874, 700633952042507996, 731728604856416202, 733295475350541479, 748999259569336631, 734550726176649255, 735184034045468044, 753658382658746543, 736246608049823269, 736250094898977332, 736722189382950462, 741045646897395177, 741970547484053891, 742433348606442332, 743108839905315839, 744760241432823124, 765115847361336372, 765900024048690476, 765918426420984116, 766537876117575305, 767207716602797434, 768251633989466183, 771488607027890590, 774224422695537008, 810786599401829580, 787750536550792351, 815809045877838400, 791389619039426601, 819686286060935532, 796358638745764401, 802633552724786344, 826047483616533970, 806966476473135544, 807675656270226907, 807680416085116912, 828110412554619891, 807684208837043608, 831691520409327634, 831711271176721766, 831718327610589757, 837549115325763595, 837553108828232216, 837563758386626855, 837567231350634031, 837570258603325753, 831749875617113346, 838134168782023974, 840985079777351460, 835990297827592549, 836001545790623347, 854218067112736035, 854890576400459864, 841727999937122566, 856411208202489480, 842445930389117853, 856886228065557167, 842448767203259993, 862036281404317382, 844128612348038699, 844687796517264787, 863807573532175060, 846767442663689381, 865269458040469106, 868705760879930083, 868713422818072962, 868721843412377311, 868726020325156664, 870935841119497065, 853449515928544509, 854114673599318410, 877573553472387376, 880825389206160218, 880829846973742643, 881137013820539482, 881717513059745594, 882712521377349484, 906464947432834918, 908072155149939465, 890408523304735551, 908452175534766030, 910188521167399633, 899920026985592276, 913667464444948575, 901998507055673699, 902491000918644940, 902537206684030126, 916714871787682241, 920028217232695841, 920274471136901900, 921937676680235739, 938361691001930141, 923619373141919932, 923808143034203858, 941495631408511385, 945296409882984631, 946614265883675284, 946626388715172869, 946632698776696358, 949038646715849146, 949057689892091780, 931278979141870302, 951614983297274338, 936435014904055244, 938141861447113867, 955800230723324793, 967229455655252680, 967877549212113691, 968027923064434036, 959471453965777823, 964545291656667227, 977466719617229854, 995736283272769462, 996534853014726550, 978837903500153696, 999113356706570190, 983992533347290706, 1001341233025177499, 993348403313947626, 1005547637092256663, 1019852140949643968, 1025908460539009403, 1029802589999575118, 1013547145409846009, 1013572248656244699, 1013609886362396710, 1013661530142538034, 1034071377077697232, 1039196023195025271, 1039571295772559304, 1039586921041220381, 1054283059928628507, 1054354781377123983, 1045438950210180404, 1056019517969512472, 1056408740003257661, 1075108493215768685, 1061293727679955622, 1076041088275296522, 1076821557693274506, 1077608680774470022, 1079560939755545107, 1064288645299628696, 1081008104561877015, 1081097650992443024, 1081978850142291593, 1084540580954355891, 1069423246479995287, 1084635054800727683, 1084768554433866212, 1084768688449457130, 1071697268573341999, 1086954687827064314, 1087003825546511891, 1101355037615963108, 1103484772925388093, 1090684672219878229, 1091789324604332743, 1104534029772761431, 1105124566022035675, 1106372780749038706, 1110000899448086373, 1110690216493741810, 1110992115486680037, 1096279582667713259, 1114981641809039543, 1097656178690588757, 1116738369193202892, 1117852176088159838, 1099401012384269036, 1120810332795122013, 1120956307852860996, 1121215824917542212, 1118629787407576324, 1118662108306640591, 1118843758834034668, 1132635860708830787, 1125354079581425982, 1134492764338355995, 1126555288368710741, 1126684210735664943, 1134896847256575319, 1134920632145199812, 1135442261452261940, 1135538725764395689, 1127673608505632385, 1136852730795878024, 1136895557536726354, 1128180673476262563, 1128184020949605416, 1128228024760541758, 1128230340121806052, 1128233251453150564, 1128235554569507793, 1128237390188448911, 1128240619421385957, 1128244893720715302, 1138362021269310848, 1129771579783736590, 1138429185253970295, 1138556910296298680, 1131050574490973390, 1142868077398602328, 1143197638152214647, 1144215244576791512, 1144821766157445572, 1146223316781299250, 1146231339027145342, 1166743089695273424, 1167176507878028232, 1151373789838556009, 1151597582267543200, 1152077860797986222, 1168653956385179970, 1170871328389941136, 1171818431889131357, 1172828773227753595, 1161367709963860718, 1173291146798962773, 1163205960954070502, 1163549899953888023, 1175845318430675889, 1176079142703942345, 1165273971019095954, 1177294408721270246, 1177510105263894249, 1166532968596783793, 1195638612846655797, 1178903958492597016, 1179741567478389538, 1179781849979373519, 1180333019198536294, 1181054118838351205, 1181348934636153161, 1196904657021586587, 1197149434393621614, 1198287306785345437, 1200107229715429338, 1188584934136387294, 1203385114990860702, 1203385314187409577, 1203385650245229293, 1204159891731303920, 1204240005221117556, 1204249760760152858, 1205872472925935166, 1192060107472842224, 1207248751738611278, 1194018327831285928, 1194034007644461284, 1194312928732826777, 1194671182522298232, 1212761906795264538, 1216598666012363719, 1213707334292383436, 1220845510783223547, 1221731178597045771, 1221772306542938783, 1221786960522269595, 1214237945802917706, 1214248351510736814, 1226598388742218759, 1226920371682349466, 1227323538090252056, 1228830228487454213, 1214319696734728383, 1214320768004897030, 1231854773417586490, 1231867779577726835, 1257931094690462511, 1236157349756437074, 1236244429796957182, 1262484070097878024, 1236870076179595575, 1264683017888321172, 1264947265705367166, 1267206288298462609, 1267863853974828921, 1243385637529899948, 1270830891938250653, 1247013264722070801, 1273034369814996072, 1273915376791991136, 1247643070180030843, 1249110481871270428, 1249126569454833315, 1249126923987565481, 1274772038331619806, 1275356316855058273, 1279622572559088418, 1300097955909523031, 1300780009764347071, 1284028137199662761, 1303684848557611690, 1287078040786858269, 1307831240591494833, 1289075787499379023, 1295481757304038690, 1295853066036349279, 1315761013614017712, 1297653047024275377, 1299093032917401688, 1316533145424796463, 1299219448222323136, 1316880410136989665, 1323103342484247859, 1323230692970733332, 1324452788295869104, 1318576470347265316, 1340401748933997465, 1342637954879367708, 1338260248024769690, 1349906548984578933]"
        ],
        [
         "10",
         "host_response_rate",
         "object",
         "864",
         "10.91",
         "[423767, 72821, 99238, 149749, 641360, 648497, 676323, 208801, 804777, 846521, 926604, 331151, 999441, 1012804, 1034213, 1038620, 1181536, 1230451, 388399, 412848, 1832112, 1834997, 1916543, 1316277, 1316352, 2012828, 2014854, 1533624, 1615895, 2151599, 1723179, 2202020, 3020830, 2402601, 3203677, 3206143, 3314930, 3356926, 3382998, 3383300, 3709382, 3518072, 3524290, 3641725, 3769807, 3814415, 4871612, 4947604, 5079256, 5188488, 5253772, 5268522, 5302362, 5317049, 5349074, 5472292, 5473403, 4272967, 5568794, 4332045, 5734857, 5776201, 5782605, 5809349, 4600925, 6663734, 5962685, 6682798, 6763463, 6791981, 6793335, 6863620, 6878247, 6919352, 6987387, 7018697, 7212771, 6333933, 6398170, 7268407, 7282315, 6443733, 6484622, 6488939, 6514655, 6552418, 6552897, 7524616, 7682178, 7744599, 8423436, 7878749, 7880190, 7912117, 7917724, 7969977, 8561397, 8736169, 8854140, 8966009, 9801176, 9011339, 9053589, 9104416, 9878674, 9233701, 10009859, 10027171, 10114926, 9706595, 11037556, 11193552, 10406382, 10406840, 11267714, 11291528, 11352211, 10579776, 10610104, 10639339, 11417636, 10749341, 10795221, 11634229, 10848085, 11834048, 11878822, 12356453, 12395018, 12395830, 12452977, 12099568, 12505135, 13285492, 13337354, 13339026, 13426020, 12822904, 12860900, 13470839, 13486416, 12864747, 12878255, 13551446, 13557482, 13593769, 12965595, 13669027, 13743690, 13074432, 13075813, 13746483, 13824564, 13824694, 13854803, 13897359, 13940818, 13163877, 13954375, 13181481, 13984636, 13988827, 14174162, 14194286, 14216510, 14035254, 14350809, 14411510, 15254116, 15279977, 14623672, 14723841, 14925459, 14927241, 15748398, 15848199, 15857106, 15863506, 15993926, 15062156, 16044516, 16142745, 17275936, 16700069, 17417725, 16759346, 17454741, 17528865, 17529062, 16789967, 17566689, 17603602, 16848003, 16878221, 16888777, 16904707, 16969709, 18171986, 17049214, 17083555, 17103422, 17144987, 17182284, 18252889, 18310068, 17210624, 18322676, 18403345, 18403998, 18404123, 18404739, 19612812, 18456546, 19774048, 18622990, 18628831, 18643951, 19926827, 19935227, 20033951, 18996187, 20153377, 20180833, 20185109, 20188748, 19060006, 19138743, 20213463, 20226504, 19170663, 19361537, 20512997, 20753317, 20759436, 20951482, 21101169, 21180693, 21417546, 21470390, 21484487, 21577826, 21594257, 21761595, 21794530, 22542097, 21824763, 22549377, 22569393, 21930834, 21939841, 22607982, 22642183, 22695387, 22913874, 22724998, 22726630, 22743268, 22743540, 23033531, 23043938, 22873389, 23319025, 23332524, 23381510, 23639309, 23715688, 23716161, 23716247, 24073401, 24727118, 24276039, 24819360, 24844704, 24863203, 24369371, 24385633, 24438480, 24903402, 24934520, 24967985, 24509706, 24992475, 25013963, 24547573, 24566287, 25250080, 25312863, 25339688, 25820788, 25443000, 25883820, 25988358, 26162087, 26211358, 27271176, 27336937, 27451744, 27454257, 26341997, 27539099, 27599571, 27600068, 27605918, 26418427, 27615894, 27617451, 27618661, 26552709, 26563089, 27840473, 27891542, 27905378, 26794701, 28025140, 28071011, 28073916, 28117126, 26940647, 27011653, 28125365, 28502404, 28560731, 30220513, 28850146, 30245612, 30265360, 28876975, 30466981, 29066989, 29176552, 30581116, 30753359, 29255439, 29376835, 29532305, 31203307, 31303354, 29603997, 29774356, 29868433, 31508921, 31615335, 30102306, 31660265, 32598853, 32732489, 32737889, 32011427, 32135840, 33010115, 33037671, 32298571, 33159295, 32432570, 32433549, 32455684, 33206380, 33354782, 33438466, 33672054, 33729264, 33759620, 34467028, 34486921, 34487124, 34487577, 34493941, 33922446, 34532547, 34533144, 34011767, 34192937, 34194406, 34198553, 34198773, 34204455, 34214770, 34992635, 35014667, 34277743, 34322184, 34377021, 35145429, 35153719, 35867718, 35867887, 35868040, 35408588, 36065811, 36066436, 36066515, 36171075, 35505069, 35505572, 35591726, 35611685, 35611767, 35611837, 36440969, 36464902, 36465605, 36497612, 35818787, 35824940, 36500548, 36500837, 35828091, 35866840, 35867523, 37543558, 37546004, 37546481, 36678559, 36714952, 36785116, 36826691, 37313455, 37344350, 37955200, 37966528, 37967012, 37978708, 37445128, 37457978, 37983602, 38030698, 38987546, 38118898, 38120578, 39074453, 39249695, 38366188, 39430631, 39477493, 39686632, 39687471, 39769189, 39808007, 39818205, 40753512, 40753581, 39986180, 40753595, 40855773, 40437093, 40606283, 40655941, 41017509, 40748129, 40751721, 40753284, 40753310, 40753325, 40753387, 41230237, 41236121, 41301335, 41395029, 41495615, 41500137, 42246003, 42291642, 41583708, 41739723, 41745595, 41745960, 41767719, 42484615, 42522464, 41857160, 42683930, 42788005, 42980923, 44339659, 43699881, 43709157, 45051195, 43824956, 45077717, 45108052, 45199986, 45250837, 45296632, 45333195, 45359925, 45444597, 44158030, 45589908, 44325296, 45709433, 48590770, 47025541, 47303256, 49509963, 47864169, 48210114, 48253597, 49892807, 48325884, 48326905, 48327554, 49963602, 50045590, 50070674, 50233990, 50278704, 50303363, 50345080, 51020170, 50378324, 51260256, 51277384, 51277434, 51462996, 51600586, 51301136, 51609276, 51398216, 51398585, 51401286, 51405464, 51416594, 51721705, 52528726, 51838866, 52564047, 52711912, 52821520, 52979664, 52045203, 52059320, 52196082, 52274786, 52319964, 52405570, 54048617, 53378257, 53396142, 54099920, 54188355, 54188418, 54310852, 53567561, 54310897, 54326169, 54401249, 53605241, 546894922088297161, 554092988304710652, 554106115061235323, 554107603599770813, 554109000653251610, 554112327483969367, 576733228936794558, 559364982878228875, 578733875985469454, 580088244214424763, 585336565841810196, 567270769493238695, 592707754645165495, 595451807363045433, 599295806208463981, 602089579883111617, 645440840550150229, 603976984595737078, 606337751482983732, 609290898779100981, 611520264685430763, 651177437063812379, 651879072182429115, 613829058322990491, 616035025546642981, 653265503925724074, 617288024711107485, 658395685181196120, 659904292924629719, 630450386688784710, 661420937317454555, 638300545340556802, 638400929135061122, 638403805969773939, 638405224053587919, 671495131372804832, 671499391376551498, 671502439065092652, 671504996561751909, 671507608882429537, 671512068583594186, 667702716418352345, 672131284747383829, 672135415536352376, 672140113657565652, 672143125182310747, 672151723194425517, 672156581317155373, 672159140052101625, 672161053818689306, 672162738836687009, 670133936049220562, 673564140178408724, 676124249847272043, 671409777664608461, 701070952508622673, 679498594637487931, 684054396347155859, 684581082012406033, 704823709237371920, 685349629564161028, 686297002562728779, 709122746464370986, 709131023580834958, 709862458708445067, 692088673017569356, 692804245589277408, 697660155237369866, 698317441115511619, 724502932255405735, 724549473987401732, 724557091398859840, 728685803584988906, 747479976789475259, 729587024997178381, 731728604856416202, 733235573952127957, 733295475350541479, 733530290707276780, 733781379397976409, 735184034045468044, 736246608049823269, 736250094898977332, 741045646897395177, 741672381133061454, 741679202560302667, 743108839905315839, 744760241432823124, 778022836898556302, 809126253713807648, 810786599401829580, 788310451422292596, 817196070864448954, 820942402659816771, 826047483616533970, 806966476473135544, 807172927993421544, 807675656270226907, 807680416085116912, 807682586483941230, 829232242195913025, 829245078528604905, 830295690272706295, 807684208837043608, 808099177768162020, 830368920587858984, 830392552733062413, 840985079777351460, 854218067112736035, 854890576400459864, 856411208202489480, 856998614508561337, 857678029839780214, 862140883533006821, 862192021601842747, 844128612348038699, 844687796517264787, 862192686255082895, 862203366054529007, 864288950872962544, 845554659208037123, 845591766511332689, 867975551966097487, 868705760879930083, 868713422818072962, 848435322725836768, 849904983657757980, 849933300156773473, 849944099007595605, 849950138449124609, 849964179862466363, 849975026602526987, 853449515928544509, 874528213181534672, 875062299702523610, 854114673599318410, 877337207890881386, 904289194736080237, 880825389206160218, 880829846973742643, 905139769927877381, 885494884138712348, 889211771041724039, 908449819355594566, 908452175534766030, 897716429609769992, 898304615063406289, 901220569668578885, 922171703902677597, 924398117683958821, 924426459253112636, 926047498183594290, 926530538620610967, 945296409882984631, 967229455655252680, 957995381075738308, 958424743922064382, 969498170866937575, 977466719617229854, 977500059155237747, 995736283272769462, 978837903500153696, 999113356706570190, 999891247297923594, 1001341233025177499, 986826364565972927, 987698851343710249, 989861195408373493, 991065164307680743, 993589349889972325, 1019852140949643968, 1012849728019228568, 1032636780079013993, 1049160676049678787, 1039091256868952584, 1054283059928628507, 1044332459456152240, 1045438950210180404, 1046187786747757973, 1047105417583551873, 1059965658285244867, 1047532247583677539, 1047541681816501904, 1072687785531220479, 1073995144896394653, 1060046432179361859, 1064288645299628696, 1080213611798243209, 1081097650992443024, 1065858804063666232, 1067301357031315949, 1067395816890425963, 1082430366392016776, 1082430456875435750, 1082430546475607967, 1067836474245419546, 1085345655421747380, 1070164219123199142, 1085396509266939914, 1085401248959818110, 1087488145006164690, 1090402160443482826, 1090664426013303025, 1092043940253574173, 1106372780749038706, 1111563715437318016, 1112112464917101688, 1112123570488922115, 1097656178690588757, 1117852176088159838, 1118629787407576324, 1120304299036193519, 1132425637187535747, 1122364198522681494, 1124378020875145813, 1134492764338355995, 1125382434265334913, 1126024346850122681, 1135442261452261940, 1135538725764395689, 1126778646373414970, 1138164411197049674, 1128841315755111584, 1129276668164500275, 1138525185921733968, 1138556910296298680, 1130434089998644460, 1143197638152214647, 1146235880517350529, 1144782101988804907, 1146223316781299250, 1146231339027145342, 1167176507878028232, 1167347270554946277, 1150710839576490327, 1155960875968885439, 1171818431889131357, 1172950516850350787, 1163549899953888023, 1177336194970006586, 1178281870441546816, 1179741567478389538, 1181348934636153161, 1198287306785345437, 1184226057349901133, 1188584934136387294, 1189091917558426698, 1190675367521625163, 1204240005221117556, 1204249760760152858, 1192036933105008789, 1192060107472842224, 1206990237100471298, 1207248751738611278, 1194079538606409784, 1208725575290781199, 1194312928732826777, 1210889248576632028, 1209438882312960574, 1217472734879709251, 1217920697687130827, 1217929100913118190, 1217938125458878631, 1217965703167491815, 1217969057016379785, 1217981445000394516, 1217982988443106277, 1217985139192087743, 1217988478801006672, 1217990528142251530, 1220845510783223547, 1221731178597045771, 1214320768004897030, 1257931094690462511, 1259392220091411155, 1242571860995742026, 1269365159333474366, 1247013264722070801, 1273034369814996072, 1273884094349697937, 1273915376791991136, 1253560186404175207, 1256540622125406409, 1279558795865919959, 1279607849322776151, 1279622572559088418, 1280414729500201371, 1281741221260572620, 1284565992298040675, 1304367309459648642, 1287642033924279877, 1289075787499379023, 1293893214249848369, 1313003671121552359, 1296846633181172315, 1314490303546258762, 1315327981665565213, 1315738290123518468, 1297668926728482984, 1299229618052667749, 1323103342484247859, 1327610103574765126, 1340138537200486643, 1340450441110378619, 1328779125603693887, 1341108200015362423, 1329765995507211023, 1330884618680364469, 1333282711751266436, 1336270932708699266, 1336943390444240272, 1360964459477275660, 1355813162837081504, 1362200893158496271, 1356526723381143238, 1363873562452756929, 1365893928883912698]"
        ],
        [
         "11",
         "host_response_time",
         "object",
         "864",
         "10.91",
         "[423767, 72821, 99238, 149749, 641360, 648497, 676323, 208801, 804777, 846521, 926604, 331151, 999441, 1012804, 1034213, 1038620, 1181536, 1230451, 388399, 412848, 1832112, 1834997, 1916543, 1316277, 1316352, 2012828, 2014854, 1533624, 1615895, 2151599, 1723179, 2202020, 3020830, 2402601, 3203677, 3206143, 3314930, 3356926, 3382998, 3383300, 3709382, 3518072, 3524290, 3641725, 3769807, 3814415, 4871612, 4947604, 5079256, 5188488, 5253772, 5268522, 5302362, 5317049, 5349074, 5472292, 5473403, 4272967, 5568794, 4332045, 5734857, 5776201, 5782605, 5809349, 4600925, 6663734, 5962685, 6682798, 6763463, 6791981, 6793335, 6863620, 6878247, 6919352, 6987387, 7018697, 7212771, 6333933, 6398170, 7268407, 7282315, 6443733, 6484622, 6488939, 6514655, 6552418, 6552897, 7524616, 7682178, 7744599, 8423436, 7878749, 7880190, 7912117, 7917724, 7969977, 8561397, 8736169, 8854140, 8966009, 9801176, 9011339, 9053589, 9104416, 9878674, 9233701, 10009859, 10027171, 10114926, 9706595, 11037556, 11193552, 10406382, 10406840, 11267714, 11291528, 11352211, 10579776, 10610104, 10639339, 11417636, 10749341, 10795221, 11634229, 10848085, 11834048, 11878822, 12356453, 12395018, 12395830, 12452977, 12099568, 12505135, 13285492, 13337354, 13339026, 13426020, 12822904, 12860900, 13470839, 13486416, 12864747, 12878255, 13551446, 13557482, 13593769, 12965595, 13669027, 13743690, 13074432, 13075813, 13746483, 13824564, 13824694, 13854803, 13897359, 13940818, 13163877, 13954375, 13181481, 13984636, 13988827, 14174162, 14194286, 14216510, 14035254, 14350809, 14411510, 15254116, 15279977, 14623672, 14723841, 14925459, 14927241, 15748398, 15848199, 15857106, 15863506, 15993926, 15062156, 16044516, 16142745, 17275936, 16700069, 17417725, 16759346, 17454741, 17528865, 17529062, 16789967, 17566689, 17603602, 16848003, 16878221, 16888777, 16904707, 16969709, 18171986, 17049214, 17083555, 17103422, 17144987, 17182284, 18252889, 18310068, 17210624, 18322676, 18403345, 18403998, 18404123, 18404739, 19612812, 18456546, 19774048, 18622990, 18628831, 18643951, 19926827, 19935227, 20033951, 18996187, 20153377, 20180833, 20185109, 20188748, 19060006, 19138743, 20213463, 20226504, 19170663, 19361537, 20512997, 20753317, 20759436, 20951482, 21101169, 21180693, 21417546, 21470390, 21484487, 21577826, 21594257, 21761595, 21794530, 22542097, 21824763, 22549377, 22569393, 21930834, 21939841, 22607982, 22642183, 22695387, 22913874, 22724998, 22726630, 22743268, 22743540, 23033531, 23043938, 22873389, 23319025, 23332524, 23381510, 23639309, 23715688, 23716161, 23716247, 24073401, 24727118, 24276039, 24819360, 24844704, 24863203, 24369371, 24385633, 24438480, 24903402, 24934520, 24967985, 24509706, 24992475, 25013963, 24547573, 24566287, 25250080, 25312863, 25339688, 25820788, 25443000, 25883820, 25988358, 26162087, 26211358, 27271176, 27336937, 27451744, 27454257, 26341997, 27539099, 27599571, 27600068, 27605918, 26418427, 27615894, 27617451, 27618661, 26552709, 26563089, 27840473, 27891542, 27905378, 26794701, 28025140, 28071011, 28073916, 28117126, 26940647, 27011653, 28125365, 28502404, 28560731, 30220513, 28850146, 30245612, 30265360, 28876975, 30466981, 29066989, 29176552, 30581116, 30753359, 29255439, 29376835, 29532305, 31203307, 31303354, 29603997, 29774356, 29868433, 31508921, 31615335, 30102306, 31660265, 32598853, 32732489, 32737889, 32011427, 32135840, 33010115, 33037671, 32298571, 33159295, 32432570, 32433549, 32455684, 33206380, 33354782, 33438466, 33672054, 33729264, 33759620, 34467028, 34486921, 34487124, 34487577, 34493941, 33922446, 34532547, 34533144, 34011767, 34192937, 34194406, 34198553, 34198773, 34204455, 34214770, 34992635, 35014667, 34277743, 34322184, 34377021, 35145429, 35153719, 35867718, 35867887, 35868040, 35408588, 36065811, 36066436, 36066515, 36171075, 35505069, 35505572, 35591726, 35611685, 35611767, 35611837, 36440969, 36464902, 36465605, 36497612, 35818787, 35824940, 36500548, 36500837, 35828091, 35866840, 35867523, 37543558, 37546004, 37546481, 36678559, 36714952, 36785116, 36826691, 37313455, 37344350, 37955200, 37966528, 37967012, 37978708, 37445128, 37457978, 37983602, 38030698, 38987546, 38118898, 38120578, 39074453, 39249695, 38366188, 39430631, 39477493, 39686632, 39687471, 39769189, 39808007, 39818205, 40753512, 40753581, 39986180, 40753595, 40855773, 40437093, 40606283, 40655941, 41017509, 40748129, 40751721, 40753284, 40753310, 40753325, 40753387, 41230237, 41236121, 41301335, 41395029, 41495615, 41500137, 42246003, 42291642, 41583708, 41739723, 41745595, 41745960, 41767719, 42484615, 42522464, 41857160, 42683930, 42788005, 42980923, 44339659, 43699881, 43709157, 45051195, 43824956, 45077717, 45108052, 45199986, 45250837, 45296632, 45333195, 45359925, 45444597, 44158030, 45589908, 44325296, 45709433, 48590770, 47025541, 47303256, 49509963, 47864169, 48210114, 48253597, 49892807, 48325884, 48326905, 48327554, 49963602, 50045590, 50070674, 50233990, 50278704, 50303363, 50345080, 51020170, 50378324, 51260256, 51277384, 51277434, 51462996, 51600586, 51301136, 51609276, 51398216, 51398585, 51401286, 51405464, 51416594, 51721705, 52528726, 51838866, 52564047, 52711912, 52821520, 52979664, 52045203, 52059320, 52196082, 52274786, 52319964, 52405570, 54048617, 53378257, 53396142, 54099920, 54188355, 54188418, 54310852, 53567561, 54310897, 54326169, 54401249, 53605241, 546894922088297161, 554092988304710652, 554106115061235323, 554107603599770813, 554109000653251610, 554112327483969367, 576733228936794558, 559364982878228875, 578733875985469454, 580088244214424763, 585336565841810196, 567270769493238695, 592707754645165495, 595451807363045433, 599295806208463981, 602089579883111617, 645440840550150229, 603976984595737078, 606337751482983732, 609290898779100981, 611520264685430763, 651177437063812379, 651879072182429115, 613829058322990491, 616035025546642981, 653265503925724074, 617288024711107485, 658395685181196120, 659904292924629719, 630450386688784710, 661420937317454555, 638300545340556802, 638400929135061122, 638403805969773939, 638405224053587919, 671495131372804832, 671499391376551498, 671502439065092652, 671504996561751909, 671507608882429537, 671512068583594186, 667702716418352345, 672131284747383829, 672135415536352376, 672140113657565652, 672143125182310747, 672151723194425517, 672156581317155373, 672159140052101625, 672161053818689306, 672162738836687009, 670133936049220562, 673564140178408724, 676124249847272043, 671409777664608461, 701070952508622673, 679498594637487931, 684054396347155859, 684581082012406033, 704823709237371920, 685349629564161028, 686297002562728779, 709122746464370986, 709131023580834958, 709862458708445067, 692088673017569356, 692804245589277408, 697660155237369866, 698317441115511619, 724502932255405735, 724549473987401732, 724557091398859840, 728685803584988906, 747479976789475259, 729587024997178381, 731728604856416202, 733235573952127957, 733295475350541479, 733530290707276780, 733781379397976409, 735184034045468044, 736246608049823269, 736250094898977332, 741045646897395177, 741672381133061454, 741679202560302667, 743108839905315839, 744760241432823124, 778022836898556302, 809126253713807648, 810786599401829580, 788310451422292596, 817196070864448954, 820942402659816771, 826047483616533970, 806966476473135544, 807172927993421544, 807675656270226907, 807680416085116912, 807682586483941230, 829232242195913025, 829245078528604905, 830295690272706295, 807684208837043608, 808099177768162020, 830368920587858984, 830392552733062413, 840985079777351460, 854218067112736035, 854890576400459864, 856411208202489480, 856998614508561337, 857678029839780214, 862140883533006821, 862192021601842747, 844128612348038699, 844687796517264787, 862192686255082895, 862203366054529007, 864288950872962544, 845554659208037123, 845591766511332689, 867975551966097487, 868705760879930083, 868713422818072962, 848435322725836768, 849904983657757980, 849933300156773473, 849944099007595605, 849950138449124609, 849964179862466363, 849975026602526987, 853449515928544509, 874528213181534672, 875062299702523610, 854114673599318410, 877337207890881386, 904289194736080237, 880825389206160218, 880829846973742643, 905139769927877381, 885494884138712348, 889211771041724039, 908449819355594566, 908452175534766030, 897716429609769992, 898304615063406289, 901220569668578885, 922171703902677597, 924398117683958821, 924426459253112636, 926047498183594290, 926530538620610967, 945296409882984631, 967229455655252680, 957995381075738308, 958424743922064382, 969498170866937575, 977466719617229854, 977500059155237747, 995736283272769462, 978837903500153696, 999113356706570190, 999891247297923594, 1001341233025177499, 986826364565972927, 987698851343710249, 989861195408373493, 991065164307680743, 993589349889972325, 1019852140949643968, 1012849728019228568, 1032636780079013993, 1049160676049678787, 1039091256868952584, 1054283059928628507, 1044332459456152240, 1045438950210180404, 1046187786747757973, 1047105417583551873, 1059965658285244867, 1047532247583677539, 1047541681816501904, 1072687785531220479, 1073995144896394653, 1060046432179361859, 1064288645299628696, 1080213611798243209, 1081097650992443024, 1065858804063666232, 1067301357031315949, 1067395816890425963, 1082430366392016776, 1082430456875435750, 1082430546475607967, 1067836474245419546, 1085345655421747380, 1070164219123199142, 1085396509266939914, 1085401248959818110, 1087488145006164690, 1090402160443482826, 1090664426013303025, 1092043940253574173, 1106372780749038706, 1111563715437318016, 1112112464917101688, 1112123570488922115, 1097656178690588757, 1117852176088159838, 1118629787407576324, 1120304299036193519, 1132425637187535747, 1122364198522681494, 1124378020875145813, 1134492764338355995, 1125382434265334913, 1126024346850122681, 1135442261452261940, 1135538725764395689, 1126778646373414970, 1138164411197049674, 1128841315755111584, 1129276668164500275, 1138525185921733968, 1138556910296298680, 1130434089998644460, 1143197638152214647, 1146235880517350529, 1144782101988804907, 1146223316781299250, 1146231339027145342, 1167176507878028232, 1167347270554946277, 1150710839576490327, 1155960875968885439, 1171818431889131357, 1172950516850350787, 1163549899953888023, 1177336194970006586, 1178281870441546816, 1179741567478389538, 1181348934636153161, 1198287306785345437, 1184226057349901133, 1188584934136387294, 1189091917558426698, 1190675367521625163, 1204240005221117556, 1204249760760152858, 1192036933105008789, 1192060107472842224, 1206990237100471298, 1207248751738611278, 1194079538606409784, 1208725575290781199, 1194312928732826777, 1210889248576632028, 1209438882312960574, 1217472734879709251, 1217920697687130827, 1217929100913118190, 1217938125458878631, 1217965703167491815, 1217969057016379785, 1217981445000394516, 1217982988443106277, 1217985139192087743, 1217988478801006672, 1217990528142251530, 1220845510783223547, 1221731178597045771, 1214320768004897030, 1257931094690462511, 1259392220091411155, 1242571860995742026, 1269365159333474366, 1247013264722070801, 1273034369814996072, 1273884094349697937, 1273915376791991136, 1253560186404175207, 1256540622125406409, 1279558795865919959, 1279607849322776151, 1279622572559088418, 1280414729500201371, 1281741221260572620, 1284565992298040675, 1304367309459648642, 1287642033924279877, 1289075787499379023, 1293893214249848369, 1313003671121552359, 1296846633181172315, 1314490303546258762, 1315327981665565213, 1315738290123518468, 1297668926728482984, 1299229618052667749, 1323103342484247859, 1327610103574765126, 1340138537200486643, 1340450441110378619, 1328779125603693887, 1341108200015362423, 1329765995507211023, 1330884618680364469, 1333282711751266436, 1336270932708699266, 1336943390444240272, 1360964459477275660, 1355813162837081504, 1362200893158496271, 1356526723381143238, 1363873562452756929, 1365893928883912698]"
        ],
        [
         "12",
         "review_scores_location",
         "float64",
         "775",
         "9.78",
         "[1482860, 2014854, 3118010, 6782983, 7018697, 7212771, 6488939, 6552897, 7712239, 8423436, 8561397, 8645053, 8736169, 9763587, 9053589, 9878674, 9233701, 11267714, 11352211, 10795221, 12864747, 12879781, 13593769, 13122321, 17801722, 17272157, 19170663, 22141357, 21643196, 21824763, 22549377, 22569393, 22743540, 22779581, 23118034, 23955078, 27336937, 26341997, 27539099, 27599571, 27600068, 27605918, 27615894, 27617451, 26680623, 28025140, 30244448, 29603997, 31615335, 32183486, 32322762, 32323055, 33600966, 33601646, 34486921, 34487577, 33923459, 34192937, 34194406, 34198553, 34377021, 35263784, 36065811, 36066436, 36066515, 35505069, 35505572, 35611685, 35611767, 35611837, 36464902, 36587753, 36678559, 37955200, 37978708, 39040234, 39076767, 39430631, 39477493, 39686632, 38821048, 39808007, 40753581, 39986180, 40753595, 40802008, 40802085, 40802136, 40802228, 40802833, 40748129, 40751721, 40753325, 40753387, 41230237, 41543818, 41685155, 41739723, 41745595, 41857160, 42683930, 42948966, 43251320, 43322099, 42985224, 43449007, 43449682, 43449754, 43449998, 44568550, 43699881, 44627642, 43753717, 43824956, 45108052, 45250837, 45333195, 45444597, 44158030, 44183891, 44325296, 48590770, 49555393, 49566392, 48195025, 48195026, 48205282, 48253597, 49919813, 48327554, 49919994, 49920208, 49920262, 50780455, 50438391, 51661171, 52064525, 53942485, 54079591, 54188355, 54188418, 54254885, 54255739, 54255886, 54310852, 54310897, 54384622, 552573882894829155, 554092988304710652, 554107603599770813, 554109000653251610, 554112327483969367, 559364982878228875, 562230939546947110, 568490356244099608, 573074131933435142, 595451807363045433, 606337751482983732, 613829058322990491, 617288024711107485, 638300545340556802, 638403805969773939, 638405224053587919, 671495131372804832, 671504996561751909, 672135415536352376, 672140113657565652, 672143125182310747, 672151723194425517, 672161053818689306, 672162738836687009, 671409777664608461, 704823709237371920, 704931214865202401, 692804245589277408, 694077603025700878, 724549473987401732, 724557091398859840, 729587024997178381, 731728604856416202, 733530290707276780, 748999259569336631, 734550726176649255, 736246608049823269, 736250094898977332, 736784695652120493, 736795151172005885, 741672381133061454, 741679202560302667, 741970547484053891, 742433348606442332, 743108839905315839, 744760241432823124, 765034532290081966, 765890871551612909, 766537876117575305, 767207716602797434, 768251633989466183, 815809045877838400, 791389619039426601, 819686286060935532, 822993737972241831, 807675656270226907, 807680416085116912, 807682586483941230, 829232242195913025, 829245078528604905, 830272643532171896, 830353311598780523, 807684208837043608, 831691520409327634, 831711271176721766, 831718327610589757, 834178316221644052, 834202136066435100, 840396603795249783, 835990297827592549, 854218067112736035, 856998614508561337, 858087028117335826, 842532162835415942, 858435821862344223, 862140883533006821, 862192021601842747, 862192686255082895, 862203366054529007, 850612650379296516, 851855228108319397, 853449515928544509, 854114673599318410, 880825389206160218, 880829846973742643, 905076124850681268, 885494884138712348, 889211771041724039, 908315293073160121, 908449819355594566, 899920149534747381, 913667464444948575, 938361691001930141, 924398117683958821, 924426459253112636, 926010749130496340, 949057689892091780, 934406800990944137, 955581086249940650, 967229455655252680, 967877549212113691, 959144274645126251, 995736283272769462, 995806616009362590, 979473953622655549, 981578902412218090, 981827184820246911, 981831074726899704, 986066266111517548, 1004091672108614178, 1004102127557969514, 1004106881106958092, 1004108061436455142, 1004109262864251827, 991065164307680743, 995104320333126876, 1025279883239618667, 1025908460539009403, 1010626665790591601, 1012849728019228568, 1049918645815165674, 1039196023195025271, 1039571295772559304, 1052848162775982712, 1054283059928628507, 1047031147474382514, 1047105417583551873, 1059239607552761338, 1071730985957647632, 1073146486378267839, 1074331024894267292, 1061293727679955622, 1064398464517700062, 1080213611798243209, 1081008104561877015, 1081097650992443024, 1082001594459316931, 1082430366392016776, 1082430456875435750, 1082430546475607967, 1067911233091140375, 1085345655421747380, 1071097983747724332, 1071113243356019555, 1071697268573341999, 1085396509266939914, 1085401248959818110, 1087003825546511891, 1104534029772761431, 1104799871389380111, 1104877451689814299, 1107231528641386167, 1107275392430723514, 1107280535547505853, 1107286736536637404, 1110000899448086373, 1110690216493741810, 1110966470674419245, 1111010461070353705, 1112112464917101688, 1112123570488922115, 1099631111022405097, 1133207254571805076, 1133217599609383527, 1134492764338355995, 1126684210735664943, 1135442261452261940, 1128180673476262563, 1128184020949605416, 1128228024760541758, 1128230340121806052, 1128240619421385957, 1128244893720715302, 1129276668164500275, 1138556910296298680, 1130434089998644460, 1144158094207221453, 1146481357864363038, 1167365697508427852, 1168098030634623672, 1169581081056880046, 1170178722891857155, 1155006250823627046, 1157194531288593044, 1157222969827643276, 1172828773227753595, 1172950516850350787, 1173704255859512740, 1163205960954070502, 1175364113013922394, 1175845318430675889, 1177510105263894249, 1178049798694290654, 1178281870441546816, 1179741567478389538, 1197110953279908046, 1198287306785345437, 1199130295421766898, 1184026459257008703, 1185445861536095295, 1188584934136387294, 1189091917558426698, 1189209222632682160, 1203385314187409577, 1203618602252003745, 1203671947084990603, 1204240005221117556, 1204249760760152858, 1205468699799158498, 1207248751738611278, 1194079538606409784, 1207581483275385888, 1208725575290781199, 1194312928732826777, 1210889248576632028, 1211318388554541948, 1209438882312960574, 1217472734879709251, 1217929100913118190, 1217938125458878631, 1217965703167491815, 1217982988443106277, 1217985139192087743, 1217988478801006672, 1217990528142251530, 1220236420808301151, 1220845510783223547, 1221731178597045771, 1221772306542938783, 1221786960522269595, 1223755878475043521, 1214292649631410069, 1229548080757562963, 1231657321858852570, 1231657527696515473, 1257931094690462511, 1258109724729295809, 1258506299749502699, 1259224077617780583, 1233042106340861086, 1233120891732354082, 1233127515652365234, 1233301339952806429, 1260598674331608934, 1261718315461631752, 1262484070097878024, 1237616852495526769, 1264947265705367166, 1264978346120047412, 1237685862842036245, 1237702795600914486, 1237708481772340314, 1267187032932697305, 1267856449843592794, 1267863853974828921, 1267912358660233723, 1242571860995742026, 1271523875129170373, 1244708534903748569, 1245415208528617193, 1245549360202547947, 1273034369814996072, 1273884094349697937, 1274548019858045776, 1274559703614536490, 1274613688162700215, 1275904232747210514, 1251087164893336128, 1251278845381517419, 1252691630467656627, 1253447719812431481, 1254158024541668916, 1256308621632912145, 1256540622125406409, 1279705569984950325, 1279558795865919959, 1279607849322776151, 1279622572559088418, 1299981592718913476, 1279841508408571445, 1279846460432275443, 1279853545939296566, 1280414729500201371, 1280453963427112295, 1281741221260572620, 1281872336471406164, 1300097955909523031, 1301482640515514012, 1301991803651928230, 1302819947557473340, 1283481045269095552, 1284538550321022592, 1284565992298040675, 1304303738234747433, 1287014378125230463, 1287078040786858269, 1287642033924279877, 1305794432068587489, 1305815691733520799, 1306376515094914292, 1306440814385183490, 1307036180687751203, 1307294989545668848, 1289075787499379023, 1289214257663825244, 1289824728471262528, 1291259652707784365, 1307916686534686272, 1309257512878376838, 1311448602032314650, 1291282523485547227, 1291289799583179150, 1292101441632901278, 1312198150197329270, 1312900433102820040, 1312904549405686861, 1313003671121552359, 1294276786465921429, 1294732956980910802, 1313101447993556449, 1313113067129078372, 1313201565481033729, 1313596943187042083, 1313810948144644531, 1314288376198959952, 1314326268241180587, 1295517957839778358, 1295606706140798565, 1295634091992433793, 1295634110145331318, 1295853066036349279, 1296390135615705479, 1296846633181172315, 1314359117073988907, 1314364005004963547, 1314490303546258762, 1315181828655043954, 1315327981665565213, 1315738290123518468, 1297506389120781008, 1297653047024275377, 1297668926728482984, 1297756486619049622, 1297785524499187085, 1297876542259759498, 1298563984146933671, 1315787509884320238, 1316062065781883893, 1316533145424796463, 1299229618052667749, 1299359966952396218, 1299849539939060028, 1299963381573911983, 1322337217462946252, 1316644160079858254, 1316647119689115416, 1316801858205906771, 1316880410136989665, 1322509130335522001, 1323082902703648038, 1323103342484247859, 1323108152903122644, 1323230692970733332, 1323781225773771898, 1324522499010558557, 1325320780552131972, 1325340442278987634, 1318191311807248040, 1318268701859570262, 1318576470347265316, 1318692457368220905, 1338618915226192231, 1338989456383343007, 1325973690960837961, 1326270504065555888, 1326643520933055178, 1326724096440188804, 1326820758829097941, 1327536547362538127, 1327610103574765126, 1327658068719655989, 1339129256232812275, 1339141688186992945, 1339149536889460738, 1339159423443968097, 1339171854603571289, 1340138537200486643, 1340450441110378619, 1328205032556559595, 1328240484692200913, 1328772308418377392, 1328779125603693887, 1328806380414897867, 1328973686477394217, 1329048135628604219, 1340459214498877705, 1340636411007510030, 1341106961457316020, 1341108200015362423, 1341129506581107523, 1341894915182929412, 1329765995507211023, 1330358189512747073, 1330385267148754308, 1330561066615318397, 1330884618680364469, 1330921057460362098, 1342038905540655364, 1342574699614106972, 1342688066282508702, 1342714493458933686, 1342753998603627779, 1342773596490732195, 1342776902401421742, 1342781485266097769, 1342789540408564951, 1343346821815050219, 1343413014556904820, 1330996532745012421, 1331218121958728326, 1331477430624757427, 1331919567944471532, 1332552396079150793, 1332634200987137979, 1332702592077991900, 1333282711751266436, 1333908714852660842, 1334032853580529300, 1343511677747927314, 1343686121121971588, 1344196928646775731, 1344816873774495533, 1344821144492050015, 1344823193736806609, 1344906319015942126, 1345111860784844135, 1334090265368720210, 1334102352606935100, 1334240677227244317, 1334272020575508905, 1334636503232011923, 1334646270746352378, 1334668605695304642, 1334674042387588224, 1334721478605903218, 1345472608739903169, 1345498154358130374, 1345593425317124542, 1335396269144009761, 1335570188619059817, 1336041214498149874, 1336212495254166382, 1336220332692733321, 1336270932708699266, 1336462816126288377, 1336854663663745192, 1336862000696501509, 1336871322624747952, 1346198446187765553, 1346356948909540365, 1346370365532280550, 1347181098602361395, 1336943390444240272, 1337569326480228729, 1338135301389840576, 1338321200112593310, 1347811123954275649, 1347881259077484850, 1350863100933039235, 1351262123586304425, 1351272053360808430, 1351284820519349761, 1351290301886448824, 1351294011082384050, 1351301164939770232, 1351301409211305933, 1351302633364076690, 1351455655877211913, 1351493666057934078, 1351496852205078127, 1348417490177315749, 1348687331665302253, 1349059986101840643, 1349145251486903063, 1349209672171947022, 1351659072335033319, 1351997347881613135, 1352092070787155488, 1352098727457410161, 1352223747164241456, 1352319160192098450, 1352945524957502121, 1349233131509506893, 1349261955129573000, 1349280133699515789, 1349289866533676679, 1349292485816234625, 1349360056557167811, 1353433749970411906, 1353440941871227136, 1353495008046007005, 1353511913213150385, 1353512233909969538, 1353515291513226895, 1353517056640339487, 1353517672300455253, 1353580369173035247, 1349501052462712380, 1349894508085634529, 1350038429350996125, 1350050965803362516, 1350683150309338060, 1350694901269365355, 1350704694775497715, 1350721788418948243, 1353610011267605574, 1353616078765017075, 1353680577398709228, 1353831020797026747, 1354157211661476271, 1354182115083490535, 1354198254370535190, 1354271961871021242, 1354280243385051934, 1354287187257041842, 1350809073039465540, 1359972998250970942, 1359978882029822062, 1359980931485345735, 1360316936829834236, 1360322103669864742, 1360323992175947701, 1360328126102625309, 1360670388197753434, 1360810799584509413, 1354299077415816489, 1354865104113402695, 1354881897080812786, 1355075446906385054, 1355251811900902130, 1355317716135295082, 1355539412021977467, 1355563006006157558, 1360912767206541429, 1360964459477275660, 1360971349938711335, 1360979783954151484, 1361399051122525278, 1361542345237595010, 1361611678638605813, 1362069284714243006, 1355627617878943355, 1355647098195515119, 1355653035925744587, 1355742172750173409, 1355757424635942324, 1355767346943830614, 1355813162837081504, 1356269141510923430, 1356287891272895542, 1362069310055124724, 1362098243021589875, 1362102017993442586, 1362112197604955543, 1362114818930196721, 1362117550692648947, 1362124197740552890, 1362126368689490123, 1362200893158496271, 1362509169619993826, 1356290905536243971, 1356454335264497980, 1356511895797928756, 1356526723381143238, 1356613157247819459, 1356784526184832339, 1356953228646976614, 1357219046572868664, 1357250408931057862, 1362518031001897841, 1362894404770995768, 1363056913187975043, 1363063118684312899, 1363069078465789326, 1363645110678408300, 1363719144045591776, 1357389604278680597, 1357872907363701635, 1358101732673694705, 1358122865707419750, 1358133145122222306, 1358151502631976046, 1358594251693214475, 1358594266933983870, 1358594284191089936, 1358598034623635013, 1363771633511251110, 1363795213337978305, 1363873562452756929, 1363939681345638896, 1364163399760087653, 1364176866870145727, 1364186396690828405, 1358624782819857102, 1358624799684066640, 1358882349176180617, 1359223003605730811, 1359254542892272496, 1359255239937477474, 1359278347560333727, 1359382050963265181, 1364192188138760641, 1364291651658722459, 1364384423426928523, 1364406083987810151, 1364480825953775275, 1364488503783488263, 1364515630628172433, 1364635286640479993, 1364642608307474895, 1365893928883912698, 1366033048567818030, 1359647331896803736, 1359677892480080968, 1359916708058728026, 1359953511198182591, 1366576092896770388, 1366912719590250705]"
        ],
        [
         "13",
         "review_scores_communication",
         "float64",
         "774",
         "9.77",
         "[1482860, 2014854, 3118010, 6782983, 7018697, 7212771, 6488939, 6552897, 7712239, 8423436, 8561397, 8645053, 8736169, 9763587, 9053589, 9878674, 9233701, 11267714, 11352211, 10795221, 12864747, 12879781, 13593769, 13122321, 17801722, 17272157, 19170663, 22141357, 21643196, 21824763, 22549377, 22569393, 22743540, 22779581, 23118034, 23955078, 27336937, 26341997, 27539099, 27599571, 27600068, 27605918, 27615894, 27617451, 26680623, 28025140, 30244448, 29603997, 31615335, 32183486, 32322762, 32323055, 33600966, 33601646, 34486921, 34487577, 33923459, 34192937, 34194406, 34198553, 34377021, 35263784, 36065811, 36066436, 36066515, 35505069, 35505572, 35611685, 35611767, 35611837, 36464902, 36587753, 36678559, 37955200, 37978708, 39040234, 39076767, 39430631, 39477493, 39686632, 38821048, 39808007, 40753581, 39986180, 40753595, 40802008, 40802085, 40802136, 40802228, 40802833, 40748129, 40751721, 40753325, 40753387, 41230237, 41543818, 41685155, 41739723, 41745595, 41857160, 42683930, 42948966, 43251320, 43322099, 42985224, 43449007, 43449682, 43449754, 43449998, 44568550, 43699881, 44627642, 43753717, 43824956, 45108052, 45250837, 45333195, 45444597, 44158030, 44183891, 44325296, 48590770, 49555393, 49566392, 48195025, 48195026, 48205282, 48253597, 49919813, 48327554, 49919994, 49920208, 49920262, 50780455, 50438391, 51661171, 52064525, 53942485, 54079591, 54188355, 54188418, 54254885, 54255739, 54255886, 54310852, 54310897, 54384622, 552573882894829155, 554092988304710652, 554107603599770813, 554109000653251610, 554112327483969367, 559364982878228875, 562230939546947110, 568490356244099608, 573074131933435142, 595451807363045433, 606337751482983732, 613829058322990491, 617288024711107485, 638300545340556802, 638403805969773939, 638405224053587919, 671495131372804832, 671504996561751909, 672135415536352376, 672140113657565652, 672143125182310747, 672151723194425517, 672161053818689306, 672162738836687009, 671409777664608461, 704823709237371920, 704931214865202401, 692804245589277408, 694077603025700878, 724549473987401732, 724557091398859840, 729587024997178381, 731728604856416202, 733530290707276780, 748999259569336631, 734550726176649255, 736246608049823269, 736250094898977332, 736784695652120493, 736795151172005885, 741672381133061454, 741679202560302667, 741970547484053891, 742433348606442332, 743108839905315839, 744760241432823124, 765034532290081966, 765890871551612909, 766537876117575305, 767207716602797434, 768251633989466183, 815809045877838400, 791389619039426601, 819686286060935532, 822993737972241831, 807675656270226907, 807680416085116912, 807682586483941230, 829232242195913025, 829245078528604905, 830272643532171896, 830353311598780523, 807684208837043608, 831691520409327634, 831711271176721766, 831718327610589757, 834178316221644052, 834202136066435100, 840396603795249783, 835990297827592549, 854218067112736035, 856998614508561337, 858087028117335826, 842532162835415942, 858435821862344223, 862140883533006821, 862192021601842747, 862192686255082895, 862203366054529007, 850612650379296516, 851855228108319397, 853449515928544509, 854114673599318410, 880825389206160218, 880829846973742643, 905076124850681268, 885494884138712348, 889211771041724039, 908315293073160121, 908449819355594566, 899920149534747381, 913667464444948575, 938361691001930141, 924398117683958821, 924426459253112636, 926010749130496340, 949057689892091780, 934406800990944137, 955581086249940650, 967229455655252680, 967877549212113691, 959144274645126251, 995736283272769462, 979473953622655549, 981578902412218090, 981827184820246911, 981831074726899704, 986066266111517548, 1004091672108614178, 1004102127557969514, 1004106881106958092, 1004108061436455142, 1004109262864251827, 991065164307680743, 995104320333126876, 1025279883239618667, 1025908460539009403, 1010626665790591601, 1012849728019228568, 1049918645815165674, 1039196023195025271, 1039571295772559304, 1052848162775982712, 1054283059928628507, 1047031147474382514, 1047105417583551873, 1059239607552761338, 1071730985957647632, 1073146486378267839, 1074331024894267292, 1061293727679955622, 1064398464517700062, 1080213611798243209, 1081008104561877015, 1081097650992443024, 1082001594459316931, 1082430366392016776, 1082430456875435750, 1082430546475607967, 1067911233091140375, 1085345655421747380, 1071097983747724332, 1071113243356019555, 1071697268573341999, 1085396509266939914, 1085401248959818110, 1087003825546511891, 1104534029772761431, 1104799871389380111, 1104877451689814299, 1107231528641386167, 1107275392430723514, 1107280535547505853, 1107286736536637404, 1110000899448086373, 1110690216493741810, 1110966470674419245, 1111010461070353705, 1112112464917101688, 1112123570488922115, 1099631111022405097, 1133207254571805076, 1133217599609383527, 1134492764338355995, 1126684210735664943, 1135442261452261940, 1128180673476262563, 1128184020949605416, 1128228024760541758, 1128230340121806052, 1128240619421385957, 1128244893720715302, 1129276668164500275, 1138556910296298680, 1130434089998644460, 1144158094207221453, 1146481357864363038, 1167365697508427852, 1168098030634623672, 1169581081056880046, 1170178722891857155, 1155006250823627046, 1157194531288593044, 1157222969827643276, 1172828773227753595, 1172950516850350787, 1173704255859512740, 1163205960954070502, 1175364113013922394, 1175845318430675889, 1177510105263894249, 1178049798694290654, 1178281870441546816, 1179741567478389538, 1197110953279908046, 1198287306785345437, 1199130295421766898, 1184026459257008703, 1185445861536095295, 1188584934136387294, 1189091917558426698, 1189209222632682160, 1203385314187409577, 1203618602252003745, 1203671947084990603, 1204240005221117556, 1204249760760152858, 1205468699799158498, 1207248751738611278, 1194079538606409784, 1207581483275385888, 1208725575290781199, 1194312928732826777, 1210889248576632028, 1211318388554541948, 1209438882312960574, 1217472734879709251, 1217929100913118190, 1217938125458878631, 1217965703167491815, 1217982988443106277, 1217985139192087743, 1217988478801006672, 1217990528142251530, 1220236420808301151, 1220845510783223547, 1221731178597045771, 1221772306542938783, 1221786960522269595, 1223755878475043521, 1214292649631410069, 1229548080757562963, 1231657321858852570, 1231657527696515473, 1257931094690462511, 1258109724729295809, 1258506299749502699, 1259224077617780583, 1233042106340861086, 1233120891732354082, 1233127515652365234, 1233301339952806429, 1260598674331608934, 1261718315461631752, 1262484070097878024, 1237616852495526769, 1264947265705367166, 1264978346120047412, 1237685862842036245, 1237702795600914486, 1237708481772340314, 1267187032932697305, 1267856449843592794, 1267863853974828921, 1267912358660233723, 1242571860995742026, 1271523875129170373, 1244708534903748569, 1245415208528617193, 1245549360202547947, 1273034369814996072, 1273884094349697937, 1274548019858045776, 1274559703614536490, 1274613688162700215, 1275904232747210514, 1251087164893336128, 1251278845381517419, 1252691630467656627, 1253447719812431481, 1254158024541668916, 1256308621632912145, 1256540622125406409, 1279705569984950325, 1279558795865919959, 1279607849322776151, 1279622572559088418, 1299981592718913476, 1279841508408571445, 1279846460432275443, 1279853545939296566, 1280414729500201371, 1280453963427112295, 1281741221260572620, 1281872336471406164, 1300097955909523031, 1301482640515514012, 1301991803651928230, 1302819947557473340, 1283481045269095552, 1284538550321022592, 1284565992298040675, 1304303738234747433, 1287014378125230463, 1287078040786858269, 1287642033924279877, 1305794432068587489, 1305815691733520799, 1306376515094914292, 1306440814385183490, 1307036180687751203, 1307294989545668848, 1289075787499379023, 1289214257663825244, 1289824728471262528, 1291259652707784365, 1307916686534686272, 1309257512878376838, 1311448602032314650, 1291282523485547227, 1291289799583179150, 1292101441632901278, 1312198150197329270, 1312900433102820040, 1312904549405686861, 1313003671121552359, 1294276786465921429, 1294732956980910802, 1313101447993556449, 1313113067129078372, 1313201565481033729, 1313596943187042083, 1313810948144644531, 1314288376198959952, 1314326268241180587, 1295517957839778358, 1295606706140798565, 1295634091992433793, 1295634110145331318, 1295853066036349279, 1296390135615705479, 1296846633181172315, 1314359117073988907, 1314364005004963547, 1314490303546258762, 1315181828655043954, 1315327981665565213, 1315738290123518468, 1297506389120781008, 1297653047024275377, 1297668926728482984, 1297756486619049622, 1297785524499187085, 1297876542259759498, 1298563984146933671, 1315787509884320238, 1316062065781883893, 1316533145424796463, 1299229618052667749, 1299359966952396218, 1299849539939060028, 1299963381573911983, 1322337217462946252, 1316644160079858254, 1316647119689115416, 1316801858205906771, 1316880410136989665, 1322509130335522001, 1323082902703648038, 1323103342484247859, 1323108152903122644, 1323230692970733332, 1323781225773771898, 1324522499010558557, 1325320780552131972, 1325340442278987634, 1318191311807248040, 1318268701859570262, 1318576470347265316, 1318692457368220905, 1338618915226192231, 1338989456383343007, 1325973690960837961, 1326270504065555888, 1326643520933055178, 1326724096440188804, 1326820758829097941, 1327536547362538127, 1327610103574765126, 1327658068719655989, 1339129256232812275, 1339141688186992945, 1339149536889460738, 1339159423443968097, 1339171854603571289, 1340138537200486643, 1340450441110378619, 1328205032556559595, 1328240484692200913, 1328772308418377392, 1328779125603693887, 1328806380414897867, 1328973686477394217, 1329048135628604219, 1340459214498877705, 1340636411007510030, 1341106961457316020, 1341108200015362423, 1341129506581107523, 1341894915182929412, 1329765995507211023, 1330358189512747073, 1330385267148754308, 1330561066615318397, 1330884618680364469, 1330921057460362098, 1342038905540655364, 1342574699614106972, 1342688066282508702, 1342714493458933686, 1342753998603627779, 1342773596490732195, 1342776902401421742, 1342781485266097769, 1342789540408564951, 1343346821815050219, 1343413014556904820, 1330996532745012421, 1331218121958728326, 1331477430624757427, 1331919567944471532, 1332552396079150793, 1332634200987137979, 1332702592077991900, 1333282711751266436, 1333908714852660842, 1334032853580529300, 1343511677747927314, 1343686121121971588, 1344196928646775731, 1344816873774495533, 1344821144492050015, 1344823193736806609, 1344906319015942126, 1345111860784844135, 1334090265368720210, 1334102352606935100, 1334240677227244317, 1334272020575508905, 1334636503232011923, 1334646270746352378, 1334668605695304642, 1334674042387588224, 1334721478605903218, 1345472608739903169, 1345498154358130374, 1345593425317124542, 1335396269144009761, 1335570188619059817, 1336041214498149874, 1336212495254166382, 1336220332692733321, 1336270932708699266, 1336462816126288377, 1336854663663745192, 1336862000696501509, 1336871322624747952, 1346198446187765553, 1346356948909540365, 1346370365532280550, 1347181098602361395, 1336943390444240272, 1337569326480228729, 1338135301389840576, 1338321200112593310, 1347811123954275649, 1347881259077484850, 1350863100933039235, 1351262123586304425, 1351272053360808430, 1351284820519349761, 1351290301886448824, 1351294011082384050, 1351301164939770232, 1351301409211305933, 1351302633364076690, 1351455655877211913, 1351493666057934078, 1351496852205078127, 1348417490177315749, 1348687331665302253, 1349059986101840643, 1349145251486903063, 1349209672171947022, 1351659072335033319, 1351997347881613135, 1352092070787155488, 1352098727457410161, 1352223747164241456, 1352319160192098450, 1352945524957502121, 1349233131509506893, 1349261955129573000, 1349280133699515789, 1349289866533676679, 1349292485816234625, 1349360056557167811, 1353433749970411906, 1353440941871227136, 1353495008046007005, 1353511913213150385, 1353512233909969538, 1353515291513226895, 1353517056640339487, 1353517672300455253, 1353580369173035247, 1349501052462712380, 1349894508085634529, 1350038429350996125, 1350050965803362516, 1350683150309338060, 1350694901269365355, 1350704694775497715, 1350721788418948243, 1353610011267605574, 1353616078765017075, 1353680577398709228, 1353831020797026747, 1354157211661476271, 1354182115083490535, 1354198254370535190, 1354271961871021242, 1354280243385051934, 1354287187257041842, 1350809073039465540, 1359972998250970942, 1359978882029822062, 1359980931485345735, 1360316936829834236, 1360322103669864742, 1360323992175947701, 1360328126102625309, 1360670388197753434, 1360810799584509413, 1354299077415816489, 1354865104113402695, 1354881897080812786, 1355075446906385054, 1355251811900902130, 1355317716135295082, 1355539412021977467, 1355563006006157558, 1360912767206541429, 1360964459477275660, 1360971349938711335, 1360979783954151484, 1361399051122525278, 1361542345237595010, 1361611678638605813, 1362069284714243006, 1355627617878943355, 1355647098195515119, 1355653035925744587, 1355742172750173409, 1355757424635942324, 1355767346943830614, 1355813162837081504, 1356269141510923430, 1356287891272895542, 1362069310055124724, 1362098243021589875, 1362102017993442586, 1362112197604955543, 1362114818930196721, 1362117550692648947, 1362124197740552890, 1362126368689490123, 1362200893158496271, 1362509169619993826, 1356290905536243971, 1356454335264497980, 1356511895797928756, 1356526723381143238, 1356613157247819459, 1356784526184832339, 1356953228646976614, 1357219046572868664, 1357250408931057862, 1362518031001897841, 1362894404770995768, 1363056913187975043, 1363063118684312899, 1363069078465789326, 1363645110678408300, 1363719144045591776, 1357389604278680597, 1357872907363701635, 1358101732673694705, 1358122865707419750, 1358133145122222306, 1358151502631976046, 1358594251693214475, 1358594266933983870, 1358594284191089936, 1358598034623635013, 1363771633511251110, 1363795213337978305, 1363873562452756929, 1363939681345638896, 1364163399760087653, 1364176866870145727, 1364186396690828405, 1358624782819857102, 1358624799684066640, 1358882349176180617, 1359223003605730811, 1359254542892272496, 1359255239937477474, 1359278347560333727, 1359382050963265181, 1364192188138760641, 1364291651658722459, 1364384423426928523, 1364406083987810151, 1364480825953775275, 1364488503783488263, 1364515630628172433, 1364635286640479993, 1364642608307474895, 1365893928883912698, 1366033048567818030, 1359647331896803736, 1359677892480080968, 1359916708058728026, 1359953511198182591, 1366576092896770388, 1366912719590250705]"
        ],
        [
         "14",
         "review_scores_checkin",
         "float64",
         "774",
         "9.77",
         "[1482860, 2014854, 3118010, 6782983, 7018697, 7212771, 6488939, 6552897, 7712239, 8423436, 8561397, 8645053, 8736169, 9763587, 9053589, 9878674, 9233701, 11267714, 11352211, 10795221, 12864747, 12879781, 13593769, 13122321, 17801722, 17272157, 19170663, 22141357, 21643196, 21824763, 22549377, 22569393, 22743540, 22779581, 23118034, 23955078, 27336937, 26341997, 27539099, 27599571, 27600068, 27605918, 27615894, 27617451, 26680623, 28025140, 30244448, 29603997, 31615335, 32183486, 32322762, 32323055, 33600966, 33601646, 34486921, 34487577, 33923459, 34192937, 34194406, 34198553, 34377021, 35263784, 36065811, 36066436, 36066515, 35505069, 35505572, 35611685, 35611767, 35611837, 36464902, 36587753, 36678559, 37955200, 37978708, 39040234, 39076767, 39430631, 39477493, 39686632, 38821048, 39808007, 40753581, 39986180, 40753595, 40802008, 40802085, 40802136, 40802228, 40802833, 40748129, 40751721, 40753325, 40753387, 41230237, 41543818, 41685155, 41739723, 41745595, 41857160, 42683930, 42948966, 43251320, 43322099, 42985224, 43449007, 43449682, 43449754, 43449998, 44568550, 43699881, 44627642, 43753717, 43824956, 45108052, 45250837, 45333195, 45444597, 44158030, 44183891, 44325296, 48590770, 49555393, 49566392, 48195025, 48195026, 48205282, 48253597, 49919813, 48327554, 49919994, 49920208, 49920262, 50780455, 50438391, 51661171, 52064525, 53942485, 54079591, 54188355, 54188418, 54254885, 54255739, 54255886, 54310852, 54310897, 54384622, 552573882894829155, 554092988304710652, 554107603599770813, 554109000653251610, 554112327483969367, 559364982878228875, 562230939546947110, 568490356244099608, 573074131933435142, 595451807363045433, 606337751482983732, 613829058322990491, 617288024711107485, 638300545340556802, 638403805969773939, 638405224053587919, 671495131372804832, 671504996561751909, 672135415536352376, 672140113657565652, 672143125182310747, 672151723194425517, 672161053818689306, 672162738836687009, 671409777664608461, 704823709237371920, 704931214865202401, 692804245589277408, 694077603025700878, 724549473987401732, 724557091398859840, 729587024997178381, 731728604856416202, 733530290707276780, 748999259569336631, 734550726176649255, 736246608049823269, 736250094898977332, 736784695652120493, 736795151172005885, 741672381133061454, 741679202560302667, 741970547484053891, 742433348606442332, 743108839905315839, 744760241432823124, 765034532290081966, 765890871551612909, 766537876117575305, 767207716602797434, 768251633989466183, 815809045877838400, 791389619039426601, 819686286060935532, 822993737972241831, 807675656270226907, 807680416085116912, 807682586483941230, 829232242195913025, 829245078528604905, 830272643532171896, 830353311598780523, 807684208837043608, 831691520409327634, 831711271176721766, 831718327610589757, 834178316221644052, 834202136066435100, 840396603795249783, 835990297827592549, 854218067112736035, 856998614508561337, 858087028117335826, 842532162835415942, 858435821862344223, 862140883533006821, 862192021601842747, 862192686255082895, 862203366054529007, 850612650379296516, 851855228108319397, 853449515928544509, 854114673599318410, 880825389206160218, 880829846973742643, 905076124850681268, 885494884138712348, 889211771041724039, 908315293073160121, 908449819355594566, 899920149534747381, 913667464444948575, 938361691001930141, 924398117683958821, 924426459253112636, 926010749130496340, 949057689892091780, 934406800990944137, 955581086249940650, 967229455655252680, 967877549212113691, 959144274645126251, 995736283272769462, 979473953622655549, 981578902412218090, 981827184820246911, 981831074726899704, 986066266111517548, 1004091672108614178, 1004102127557969514, 1004106881106958092, 1004108061436455142, 1004109262864251827, 991065164307680743, 995104320333126876, 1025279883239618667, 1025908460539009403, 1010626665790591601, 1012849728019228568, 1049918645815165674, 1039196023195025271, 1039571295772559304, 1052848162775982712, 1054283059928628507, 1047031147474382514, 1047105417583551873, 1059239607552761338, 1071730985957647632, 1073146486378267839, 1074331024894267292, 1061293727679955622, 1064398464517700062, 1080213611798243209, 1081008104561877015, 1081097650992443024, 1082001594459316931, 1082430366392016776, 1082430456875435750, 1082430546475607967, 1067911233091140375, 1085345655421747380, 1071097983747724332, 1071113243356019555, 1071697268573341999, 1085396509266939914, 1085401248959818110, 1087003825546511891, 1104534029772761431, 1104799871389380111, 1104877451689814299, 1107231528641386167, 1107275392430723514, 1107280535547505853, 1107286736536637404, 1110000899448086373, 1110690216493741810, 1110966470674419245, 1111010461070353705, 1112112464917101688, 1112123570488922115, 1099631111022405097, 1133207254571805076, 1133217599609383527, 1134492764338355995, 1126684210735664943, 1135442261452261940, 1128180673476262563, 1128184020949605416, 1128228024760541758, 1128230340121806052, 1128240619421385957, 1128244893720715302, 1129276668164500275, 1138556910296298680, 1130434089998644460, 1144158094207221453, 1146481357864363038, 1167365697508427852, 1168098030634623672, 1169581081056880046, 1170178722891857155, 1155006250823627046, 1157194531288593044, 1157222969827643276, 1172828773227753595, 1172950516850350787, 1173704255859512740, 1163205960954070502, 1175364113013922394, 1175845318430675889, 1177510105263894249, 1178049798694290654, 1178281870441546816, 1179741567478389538, 1197110953279908046, 1198287306785345437, 1199130295421766898, 1184026459257008703, 1185445861536095295, 1188584934136387294, 1189091917558426698, 1189209222632682160, 1203385314187409577, 1203618602252003745, 1203671947084990603, 1204240005221117556, 1204249760760152858, 1205468699799158498, 1207248751738611278, 1194079538606409784, 1207581483275385888, 1208725575290781199, 1194312928732826777, 1210889248576632028, 1211318388554541948, 1209438882312960574, 1217472734879709251, 1217929100913118190, 1217938125458878631, 1217965703167491815, 1217982988443106277, 1217985139192087743, 1217988478801006672, 1217990528142251530, 1220236420808301151, 1220845510783223547, 1221731178597045771, 1221772306542938783, 1221786960522269595, 1223755878475043521, 1214292649631410069, 1229548080757562963, 1231657321858852570, 1231657527696515473, 1257931094690462511, 1258109724729295809, 1258506299749502699, 1259224077617780583, 1233042106340861086, 1233120891732354082, 1233127515652365234, 1233301339952806429, 1260598674331608934, 1261718315461631752, 1262484070097878024, 1237616852495526769, 1264947265705367166, 1264978346120047412, 1237685862842036245, 1237702795600914486, 1237708481772340314, 1267187032932697305, 1267856449843592794, 1267863853974828921, 1267912358660233723, 1242571860995742026, 1271523875129170373, 1244708534903748569, 1245415208528617193, 1245549360202547947, 1273034369814996072, 1273884094349697937, 1274548019858045776, 1274559703614536490, 1274613688162700215, 1275904232747210514, 1251087164893336128, 1251278845381517419, 1252691630467656627, 1253447719812431481, 1254158024541668916, 1256308621632912145, 1256540622125406409, 1279705569984950325, 1279558795865919959, 1279607849322776151, 1279622572559088418, 1299981592718913476, 1279841508408571445, 1279846460432275443, 1279853545939296566, 1280414729500201371, 1280453963427112295, 1281741221260572620, 1281872336471406164, 1300097955909523031, 1301482640515514012, 1301991803651928230, 1302819947557473340, 1283481045269095552, 1284538550321022592, 1284565992298040675, 1304303738234747433, 1287014378125230463, 1287078040786858269, 1287642033924279877, 1305794432068587489, 1305815691733520799, 1306376515094914292, 1306440814385183490, 1307036180687751203, 1307294989545668848, 1289075787499379023, 1289214257663825244, 1289824728471262528, 1291259652707784365, 1307916686534686272, 1309257512878376838, 1311448602032314650, 1291282523485547227, 1291289799583179150, 1292101441632901278, 1312198150197329270, 1312900433102820040, 1312904549405686861, 1313003671121552359, 1294276786465921429, 1294732956980910802, 1313101447993556449, 1313113067129078372, 1313201565481033729, 1313596943187042083, 1313810948144644531, 1314288376198959952, 1314326268241180587, 1295517957839778358, 1295606706140798565, 1295634091992433793, 1295634110145331318, 1295853066036349279, 1296390135615705479, 1296846633181172315, 1314359117073988907, 1314364005004963547, 1314490303546258762, 1315181828655043954, 1315327981665565213, 1315738290123518468, 1297506389120781008, 1297653047024275377, 1297668926728482984, 1297756486619049622, 1297785524499187085, 1297876542259759498, 1298563984146933671, 1315787509884320238, 1316062065781883893, 1316533145424796463, 1299229618052667749, 1299359966952396218, 1299849539939060028, 1299963381573911983, 1322337217462946252, 1316644160079858254, 1316647119689115416, 1316801858205906771, 1316880410136989665, 1322509130335522001, 1323082902703648038, 1323103342484247859, 1323108152903122644, 1323230692970733332, 1323781225773771898, 1324522499010558557, 1325320780552131972, 1325340442278987634, 1318191311807248040, 1318268701859570262, 1318576470347265316, 1318692457368220905, 1338618915226192231, 1338989456383343007, 1325973690960837961, 1326270504065555888, 1326643520933055178, 1326724096440188804, 1326820758829097941, 1327536547362538127, 1327610103574765126, 1327658068719655989, 1339129256232812275, 1339141688186992945, 1339149536889460738, 1339159423443968097, 1339171854603571289, 1340138537200486643, 1340450441110378619, 1328205032556559595, 1328240484692200913, 1328772308418377392, 1328779125603693887, 1328806380414897867, 1328973686477394217, 1329048135628604219, 1340459214498877705, 1340636411007510030, 1341106961457316020, 1341108200015362423, 1341129506581107523, 1341894915182929412, 1329765995507211023, 1330358189512747073, 1330385267148754308, 1330561066615318397, 1330884618680364469, 1330921057460362098, 1342038905540655364, 1342574699614106972, 1342688066282508702, 1342714493458933686, 1342753998603627779, 1342773596490732195, 1342776902401421742, 1342781485266097769, 1342789540408564951, 1343346821815050219, 1343413014556904820, 1330996532745012421, 1331218121958728326, 1331477430624757427, 1331919567944471532, 1332552396079150793, 1332634200987137979, 1332702592077991900, 1333282711751266436, 1333908714852660842, 1334032853580529300, 1343511677747927314, 1343686121121971588, 1344196928646775731, 1344816873774495533, 1344821144492050015, 1344823193736806609, 1344906319015942126, 1345111860784844135, 1334090265368720210, 1334102352606935100, 1334240677227244317, 1334272020575508905, 1334636503232011923, 1334646270746352378, 1334668605695304642, 1334674042387588224, 1334721478605903218, 1345472608739903169, 1345498154358130374, 1345593425317124542, 1335396269144009761, 1335570188619059817, 1336041214498149874, 1336212495254166382, 1336220332692733321, 1336270932708699266, 1336462816126288377, 1336854663663745192, 1336862000696501509, 1336871322624747952, 1346198446187765553, 1346356948909540365, 1346370365532280550, 1347181098602361395, 1336943390444240272, 1337569326480228729, 1338135301389840576, 1338321200112593310, 1347811123954275649, 1347881259077484850, 1350863100933039235, 1351262123586304425, 1351272053360808430, 1351284820519349761, 1351290301886448824, 1351294011082384050, 1351301164939770232, 1351301409211305933, 1351302633364076690, 1351455655877211913, 1351493666057934078, 1351496852205078127, 1348417490177315749, 1348687331665302253, 1349059986101840643, 1349145251486903063, 1349209672171947022, 1351659072335033319, 1351997347881613135, 1352092070787155488, 1352098727457410161, 1352223747164241456, 1352319160192098450, 1352945524957502121, 1349233131509506893, 1349261955129573000, 1349280133699515789, 1349289866533676679, 1349292485816234625, 1349360056557167811, 1353433749970411906, 1353440941871227136, 1353495008046007005, 1353511913213150385, 1353512233909969538, 1353515291513226895, 1353517056640339487, 1353517672300455253, 1353580369173035247, 1349501052462712380, 1349894508085634529, 1350038429350996125, 1350050965803362516, 1350683150309338060, 1350694901269365355, 1350704694775497715, 1350721788418948243, 1353610011267605574, 1353616078765017075, 1353680577398709228, 1353831020797026747, 1354157211661476271, 1354182115083490535, 1354198254370535190, 1354271961871021242, 1354280243385051934, 1354287187257041842, 1350809073039465540, 1359972998250970942, 1359978882029822062, 1359980931485345735, 1360316936829834236, 1360322103669864742, 1360323992175947701, 1360328126102625309, 1360670388197753434, 1360810799584509413, 1354299077415816489, 1354865104113402695, 1354881897080812786, 1355075446906385054, 1355251811900902130, 1355317716135295082, 1355539412021977467, 1355563006006157558, 1360912767206541429, 1360964459477275660, 1360971349938711335, 1360979783954151484, 1361399051122525278, 1361542345237595010, 1361611678638605813, 1362069284714243006, 1355627617878943355, 1355647098195515119, 1355653035925744587, 1355742172750173409, 1355757424635942324, 1355767346943830614, 1355813162837081504, 1356269141510923430, 1356287891272895542, 1362069310055124724, 1362098243021589875, 1362102017993442586, 1362112197604955543, 1362114818930196721, 1362117550692648947, 1362124197740552890, 1362126368689490123, 1362200893158496271, 1362509169619993826, 1356290905536243971, 1356454335264497980, 1356511895797928756, 1356526723381143238, 1356613157247819459, 1356784526184832339, 1356953228646976614, 1357219046572868664, 1357250408931057862, 1362518031001897841, 1362894404770995768, 1363056913187975043, 1363063118684312899, 1363069078465789326, 1363645110678408300, 1363719144045591776, 1357389604278680597, 1357872907363701635, 1358101732673694705, 1358122865707419750, 1358133145122222306, 1358151502631976046, 1358594251693214475, 1358594266933983870, 1358594284191089936, 1358598034623635013, 1363771633511251110, 1363795213337978305, 1363873562452756929, 1363939681345638896, 1364163399760087653, 1364176866870145727, 1364186396690828405, 1358624782819857102, 1358624799684066640, 1358882349176180617, 1359223003605730811, 1359254542892272496, 1359255239937477474, 1359278347560333727, 1359382050963265181, 1364192188138760641, 1364291651658722459, 1364384423426928523, 1364406083987810151, 1364480825953775275, 1364488503783488263, 1364515630628172433, 1364635286640479993, 1364642608307474895, 1365893928883912698, 1366033048567818030, 1359647331896803736, 1359677892480080968, 1359916708058728026, 1359953511198182591, 1366576092896770388, 1366912719590250705]"
        ],
        [
         "15",
         "review_scores_cleanliness",
         "float64",
         "774",
         "9.77",
         "[1482860, 2014854, 3118010, 6782983, 7018697, 7212771, 6488939, 6552897, 7712239, 8423436, 8561397, 8645053, 8736169, 9763587, 9053589, 9878674, 9233701, 11267714, 11352211, 10795221, 12864747, 12879781, 13593769, 13122321, 17801722, 17272157, 19170663, 22141357, 21643196, 21824763, 22549377, 22569393, 22743540, 22779581, 23118034, 23955078, 27336937, 26341997, 27539099, 27599571, 27600068, 27605918, 27615894, 27617451, 26680623, 28025140, 30244448, 29603997, 31615335, 32183486, 32322762, 32323055, 33600966, 33601646, 34486921, 34487577, 33923459, 34192937, 34194406, 34198553, 34377021, 35263784, 36065811, 36066436, 36066515, 35505069, 35505572, 35611685, 35611767, 35611837, 36464902, 36587753, 36678559, 37955200, 37978708, 39040234, 39076767, 39430631, 39477493, 39686632, 38821048, 39808007, 40753581, 39986180, 40753595, 40802008, 40802085, 40802136, 40802228, 40802833, 40748129, 40751721, 40753325, 40753387, 41230237, 41543818, 41685155, 41739723, 41745595, 41857160, 42683930, 42948966, 43251320, 43322099, 42985224, 43449007, 43449682, 43449754, 43449998, 44568550, 43699881, 44627642, 43753717, 43824956, 45108052, 45250837, 45333195, 45444597, 44158030, 44183891, 44325296, 48590770, 49555393, 49566392, 48195025, 48195026, 48205282, 48253597, 49919813, 48327554, 49919994, 49920208, 49920262, 50780455, 50438391, 51661171, 52064525, 53942485, 54079591, 54188355, 54188418, 54254885, 54255739, 54255886, 54310852, 54310897, 54384622, 552573882894829155, 554092988304710652, 554107603599770813, 554109000653251610, 554112327483969367, 559364982878228875, 562230939546947110, 568490356244099608, 573074131933435142, 595451807363045433, 606337751482983732, 613829058322990491, 617288024711107485, 638300545340556802, 638403805969773939, 638405224053587919, 671495131372804832, 671504996561751909, 672135415536352376, 672140113657565652, 672143125182310747, 672151723194425517, 672161053818689306, 672162738836687009, 671409777664608461, 704823709237371920, 704931214865202401, 692804245589277408, 694077603025700878, 724549473987401732, 724557091398859840, 729587024997178381, 731728604856416202, 733530290707276780, 748999259569336631, 734550726176649255, 736246608049823269, 736250094898977332, 736784695652120493, 736795151172005885, 741672381133061454, 741679202560302667, 741970547484053891, 742433348606442332, 743108839905315839, 744760241432823124, 765034532290081966, 765890871551612909, 766537876117575305, 767207716602797434, 768251633989466183, 815809045877838400, 791389619039426601, 819686286060935532, 822993737972241831, 807675656270226907, 807680416085116912, 807682586483941230, 829232242195913025, 829245078528604905, 830272643532171896, 830353311598780523, 807684208837043608, 831691520409327634, 831711271176721766, 831718327610589757, 834178316221644052, 834202136066435100, 840396603795249783, 835990297827592549, 854218067112736035, 856998614508561337, 858087028117335826, 842532162835415942, 858435821862344223, 862140883533006821, 862192021601842747, 862192686255082895, 862203366054529007, 850612650379296516, 851855228108319397, 853449515928544509, 854114673599318410, 880825389206160218, 880829846973742643, 905076124850681268, 885494884138712348, 889211771041724039, 908315293073160121, 908449819355594566, 899920149534747381, 913667464444948575, 938361691001930141, 924398117683958821, 924426459253112636, 926010749130496340, 949057689892091780, 934406800990944137, 955581086249940650, 967229455655252680, 967877549212113691, 959144274645126251, 995736283272769462, 979473953622655549, 981578902412218090, 981827184820246911, 981831074726899704, 986066266111517548, 1004091672108614178, 1004102127557969514, 1004106881106958092, 1004108061436455142, 1004109262864251827, 991065164307680743, 995104320333126876, 1025279883239618667, 1025908460539009403, 1010626665790591601, 1012849728019228568, 1049918645815165674, 1039196023195025271, 1039571295772559304, 1052848162775982712, 1054283059928628507, 1047031147474382514, 1047105417583551873, 1059239607552761338, 1071730985957647632, 1073146486378267839, 1074331024894267292, 1061293727679955622, 1064398464517700062, 1080213611798243209, 1081008104561877015, 1081097650992443024, 1082001594459316931, 1082430366392016776, 1082430456875435750, 1082430546475607967, 1067911233091140375, 1085345655421747380, 1071097983747724332, 1071113243356019555, 1071697268573341999, 1085396509266939914, 1085401248959818110, 1087003825546511891, 1104534029772761431, 1104799871389380111, 1104877451689814299, 1107231528641386167, 1107275392430723514, 1107280535547505853, 1107286736536637404, 1110000899448086373, 1110690216493741810, 1110966470674419245, 1111010461070353705, 1112112464917101688, 1112123570488922115, 1099631111022405097, 1133207254571805076, 1133217599609383527, 1134492764338355995, 1126684210735664943, 1135442261452261940, 1128180673476262563, 1128184020949605416, 1128228024760541758, 1128230340121806052, 1128240619421385957, 1128244893720715302, 1129276668164500275, 1138556910296298680, 1130434089998644460, 1144158094207221453, 1146481357864363038, 1167365697508427852, 1168098030634623672, 1169581081056880046, 1170178722891857155, 1155006250823627046, 1157194531288593044, 1157222969827643276, 1172828773227753595, 1172950516850350787, 1173704255859512740, 1163205960954070502, 1175364113013922394, 1175845318430675889, 1177510105263894249, 1178049798694290654, 1178281870441546816, 1179741567478389538, 1197110953279908046, 1198287306785345437, 1199130295421766898, 1184026459257008703, 1185445861536095295, 1188584934136387294, 1189091917558426698, 1189209222632682160, 1203385314187409577, 1203618602252003745, 1203671947084990603, 1204240005221117556, 1204249760760152858, 1205468699799158498, 1207248751738611278, 1194079538606409784, 1207581483275385888, 1208725575290781199, 1194312928732826777, 1210889248576632028, 1211318388554541948, 1209438882312960574, 1217472734879709251, 1217929100913118190, 1217938125458878631, 1217965703167491815, 1217982988443106277, 1217985139192087743, 1217988478801006672, 1217990528142251530, 1220236420808301151, 1220845510783223547, 1221731178597045771, 1221772306542938783, 1221786960522269595, 1223755878475043521, 1214292649631410069, 1229548080757562963, 1231657321858852570, 1231657527696515473, 1257931094690462511, 1258109724729295809, 1258506299749502699, 1259224077617780583, 1233042106340861086, 1233120891732354082, 1233127515652365234, 1233301339952806429, 1260598674331608934, 1261718315461631752, 1262484070097878024, 1237616852495526769, 1264947265705367166, 1264978346120047412, 1237685862842036245, 1237702795600914486, 1237708481772340314, 1267187032932697305, 1267856449843592794, 1267863853974828921, 1267912358660233723, 1242571860995742026, 1271523875129170373, 1244708534903748569, 1245415208528617193, 1245549360202547947, 1273034369814996072, 1273884094349697937, 1274548019858045776, 1274559703614536490, 1274613688162700215, 1275904232747210514, 1251087164893336128, 1251278845381517419, 1252691630467656627, 1253447719812431481, 1254158024541668916, 1256308621632912145, 1256540622125406409, 1279705569984950325, 1279558795865919959, 1279607849322776151, 1279622572559088418, 1299981592718913476, 1279841508408571445, 1279846460432275443, 1279853545939296566, 1280414729500201371, 1280453963427112295, 1281741221260572620, 1281872336471406164, 1300097955909523031, 1301482640515514012, 1301991803651928230, 1302819947557473340, 1283481045269095552, 1284538550321022592, 1284565992298040675, 1304303738234747433, 1287014378125230463, 1287078040786858269, 1287642033924279877, 1305794432068587489, 1305815691733520799, 1306376515094914292, 1306440814385183490, 1307036180687751203, 1307294989545668848, 1289075787499379023, 1289214257663825244, 1289824728471262528, 1291259652707784365, 1307916686534686272, 1309257512878376838, 1311448602032314650, 1291282523485547227, 1291289799583179150, 1292101441632901278, 1312198150197329270, 1312900433102820040, 1312904549405686861, 1313003671121552359, 1294276786465921429, 1294732956980910802, 1313101447993556449, 1313113067129078372, 1313201565481033729, 1313596943187042083, 1313810948144644531, 1314288376198959952, 1314326268241180587, 1295517957839778358, 1295606706140798565, 1295634091992433793, 1295634110145331318, 1295853066036349279, 1296390135615705479, 1296846633181172315, 1314359117073988907, 1314364005004963547, 1314490303546258762, 1315181828655043954, 1315327981665565213, 1315738290123518468, 1297506389120781008, 1297653047024275377, 1297668926728482984, 1297756486619049622, 1297785524499187085, 1297876542259759498, 1298563984146933671, 1315787509884320238, 1316062065781883893, 1316533145424796463, 1299229618052667749, 1299359966952396218, 1299849539939060028, 1299963381573911983, 1322337217462946252, 1316644160079858254, 1316647119689115416, 1316801858205906771, 1316880410136989665, 1322509130335522001, 1323082902703648038, 1323103342484247859, 1323108152903122644, 1323230692970733332, 1323781225773771898, 1324522499010558557, 1325320780552131972, 1325340442278987634, 1318191311807248040, 1318268701859570262, 1318576470347265316, 1318692457368220905, 1338618915226192231, 1338989456383343007, 1325973690960837961, 1326270504065555888, 1326643520933055178, 1326724096440188804, 1326820758829097941, 1327536547362538127, 1327610103574765126, 1327658068719655989, 1339129256232812275, 1339141688186992945, 1339149536889460738, 1339159423443968097, 1339171854603571289, 1340138537200486643, 1340450441110378619, 1328205032556559595, 1328240484692200913, 1328772308418377392, 1328779125603693887, 1328806380414897867, 1328973686477394217, 1329048135628604219, 1340459214498877705, 1340636411007510030, 1341106961457316020, 1341108200015362423, 1341129506581107523, 1341894915182929412, 1329765995507211023, 1330358189512747073, 1330385267148754308, 1330561066615318397, 1330884618680364469, 1330921057460362098, 1342038905540655364, 1342574699614106972, 1342688066282508702, 1342714493458933686, 1342753998603627779, 1342773596490732195, 1342776902401421742, 1342781485266097769, 1342789540408564951, 1343346821815050219, 1343413014556904820, 1330996532745012421, 1331218121958728326, 1331477430624757427, 1331919567944471532, 1332552396079150793, 1332634200987137979, 1332702592077991900, 1333282711751266436, 1333908714852660842, 1334032853580529300, 1343511677747927314, 1343686121121971588, 1344196928646775731, 1344816873774495533, 1344821144492050015, 1344823193736806609, 1344906319015942126, 1345111860784844135, 1334090265368720210, 1334102352606935100, 1334240677227244317, 1334272020575508905, 1334636503232011923, 1334646270746352378, 1334668605695304642, 1334674042387588224, 1334721478605903218, 1345472608739903169, 1345498154358130374, 1345593425317124542, 1335396269144009761, 1335570188619059817, 1336041214498149874, 1336212495254166382, 1336220332692733321, 1336270932708699266, 1336462816126288377, 1336854663663745192, 1336862000696501509, 1336871322624747952, 1346198446187765553, 1346356948909540365, 1346370365532280550, 1347181098602361395, 1336943390444240272, 1337569326480228729, 1338135301389840576, 1338321200112593310, 1347811123954275649, 1347881259077484850, 1350863100933039235, 1351262123586304425, 1351272053360808430, 1351284820519349761, 1351290301886448824, 1351294011082384050, 1351301164939770232, 1351301409211305933, 1351302633364076690, 1351455655877211913, 1351493666057934078, 1351496852205078127, 1348417490177315749, 1348687331665302253, 1349059986101840643, 1349145251486903063, 1349209672171947022, 1351659072335033319, 1351997347881613135, 1352092070787155488, 1352098727457410161, 1352223747164241456, 1352319160192098450, 1352945524957502121, 1349233131509506893, 1349261955129573000, 1349280133699515789, 1349289866533676679, 1349292485816234625, 1349360056557167811, 1353433749970411906, 1353440941871227136, 1353495008046007005, 1353511913213150385, 1353512233909969538, 1353515291513226895, 1353517056640339487, 1353517672300455253, 1353580369173035247, 1349501052462712380, 1349894508085634529, 1350038429350996125, 1350050965803362516, 1350683150309338060, 1350694901269365355, 1350704694775497715, 1350721788418948243, 1353610011267605574, 1353616078765017075, 1353680577398709228, 1353831020797026747, 1354157211661476271, 1354182115083490535, 1354198254370535190, 1354271961871021242, 1354280243385051934, 1354287187257041842, 1350809073039465540, 1359972998250970942, 1359978882029822062, 1359980931485345735, 1360316936829834236, 1360322103669864742, 1360323992175947701, 1360328126102625309, 1360670388197753434, 1360810799584509413, 1354299077415816489, 1354865104113402695, 1354881897080812786, 1355075446906385054, 1355251811900902130, 1355317716135295082, 1355539412021977467, 1355563006006157558, 1360912767206541429, 1360964459477275660, 1360971349938711335, 1360979783954151484, 1361399051122525278, 1361542345237595010, 1361611678638605813, 1362069284714243006, 1355627617878943355, 1355647098195515119, 1355653035925744587, 1355742172750173409, 1355757424635942324, 1355767346943830614, 1355813162837081504, 1356269141510923430, 1356287891272895542, 1362069310055124724, 1362098243021589875, 1362102017993442586, 1362112197604955543, 1362114818930196721, 1362117550692648947, 1362124197740552890, 1362126368689490123, 1362200893158496271, 1362509169619993826, 1356290905536243971, 1356454335264497980, 1356511895797928756, 1356526723381143238, 1356613157247819459, 1356784526184832339, 1356953228646976614, 1357219046572868664, 1357250408931057862, 1362518031001897841, 1362894404770995768, 1363056913187975043, 1363063118684312899, 1363069078465789326, 1363645110678408300, 1363719144045591776, 1357389604278680597, 1357872907363701635, 1358101732673694705, 1358122865707419750, 1358133145122222306, 1358151502631976046, 1358594251693214475, 1358594266933983870, 1358594284191089936, 1358598034623635013, 1363771633511251110, 1363795213337978305, 1363873562452756929, 1363939681345638896, 1364163399760087653, 1364176866870145727, 1364186396690828405, 1358624782819857102, 1358624799684066640, 1358882349176180617, 1359223003605730811, 1359254542892272496, 1359255239937477474, 1359278347560333727, 1359382050963265181, 1364192188138760641, 1364291651658722459, 1364384423426928523, 1364406083987810151, 1364480825953775275, 1364488503783488263, 1364515630628172433, 1364635286640479993, 1364642608307474895, 1365893928883912698, 1366033048567818030, 1359647331896803736, 1359677892480080968, 1359916708058728026, 1359953511198182591, 1366576092896770388, 1366912719590250705]"
        ],
        [
         "16",
         "review_scores_accuracy",
         "float64",
         "774",
         "9.77",
         "[1482860, 2014854, 3118010, 6782983, 7018697, 7212771, 6488939, 6552897, 7712239, 8423436, 8561397, 8645053, 8736169, 9763587, 9053589, 9878674, 9233701, 11267714, 11352211, 10795221, 12864747, 12879781, 13593769, 13122321, 17801722, 17272157, 19170663, 22141357, 21643196, 21824763, 22549377, 22569393, 22743540, 22779581, 23118034, 23955078, 27336937, 26341997, 27539099, 27599571, 27600068, 27605918, 27615894, 27617451, 26680623, 28025140, 30244448, 29603997, 31615335, 32183486, 32322762, 32323055, 33600966, 33601646, 34486921, 34487577, 33923459, 34192937, 34194406, 34198553, 34377021, 35263784, 36065811, 36066436, 36066515, 35505069, 35505572, 35611685, 35611767, 35611837, 36464902, 36587753, 36678559, 37955200, 37978708, 39040234, 39076767, 39430631, 39477493, 39686632, 38821048, 39808007, 40753581, 39986180, 40753595, 40802008, 40802085, 40802136, 40802228, 40802833, 40748129, 40751721, 40753325, 40753387, 41230237, 41543818, 41685155, 41739723, 41745595, 41857160, 42683930, 42948966, 43251320, 43322099, 42985224, 43449007, 43449682, 43449754, 43449998, 44568550, 43699881, 44627642, 43753717, 43824956, 45108052, 45250837, 45333195, 45444597, 44158030, 44183891, 44325296, 48590770, 49555393, 49566392, 48195025, 48195026, 48205282, 48253597, 49919813, 48327554, 49919994, 49920208, 49920262, 50780455, 50438391, 51661171, 52064525, 53942485, 54079591, 54188355, 54188418, 54254885, 54255739, 54255886, 54310852, 54310897, 54384622, 552573882894829155, 554092988304710652, 554107603599770813, 554109000653251610, 554112327483969367, 559364982878228875, 562230939546947110, 568490356244099608, 573074131933435142, 595451807363045433, 606337751482983732, 613829058322990491, 617288024711107485, 638300545340556802, 638403805969773939, 638405224053587919, 671495131372804832, 671504996561751909, 672135415536352376, 672140113657565652, 672143125182310747, 672151723194425517, 672161053818689306, 672162738836687009, 671409777664608461, 704823709237371920, 704931214865202401, 692804245589277408, 694077603025700878, 724549473987401732, 724557091398859840, 729587024997178381, 731728604856416202, 733530290707276780, 748999259569336631, 734550726176649255, 736246608049823269, 736250094898977332, 736784695652120493, 736795151172005885, 741672381133061454, 741679202560302667, 741970547484053891, 742433348606442332, 743108839905315839, 744760241432823124, 765034532290081966, 765890871551612909, 766537876117575305, 767207716602797434, 768251633989466183, 815809045877838400, 791389619039426601, 819686286060935532, 822993737972241831, 807675656270226907, 807680416085116912, 807682586483941230, 829232242195913025, 829245078528604905, 830272643532171896, 830353311598780523, 807684208837043608, 831691520409327634, 831711271176721766, 831718327610589757, 834178316221644052, 834202136066435100, 840396603795249783, 835990297827592549, 854218067112736035, 856998614508561337, 858087028117335826, 842532162835415942, 858435821862344223, 862140883533006821, 862192021601842747, 862192686255082895, 862203366054529007, 850612650379296516, 851855228108319397, 853449515928544509, 854114673599318410, 880825389206160218, 880829846973742643, 905076124850681268, 885494884138712348, 889211771041724039, 908315293073160121, 908449819355594566, 899920149534747381, 913667464444948575, 938361691001930141, 924398117683958821, 924426459253112636, 926010749130496340, 949057689892091780, 934406800990944137, 955581086249940650, 967229455655252680, 967877549212113691, 959144274645126251, 995736283272769462, 979473953622655549, 981578902412218090, 981827184820246911, 981831074726899704, 986066266111517548, 1004091672108614178, 1004102127557969514, 1004106881106958092, 1004108061436455142, 1004109262864251827, 991065164307680743, 995104320333126876, 1025279883239618667, 1025908460539009403, 1010626665790591601, 1012849728019228568, 1049918645815165674, 1039196023195025271, 1039571295772559304, 1052848162775982712, 1054283059928628507, 1047031147474382514, 1047105417583551873, 1059239607552761338, 1071730985957647632, 1073146486378267839, 1074331024894267292, 1061293727679955622, 1064398464517700062, 1080213611798243209, 1081008104561877015, 1081097650992443024, 1082001594459316931, 1082430366392016776, 1082430456875435750, 1082430546475607967, 1067911233091140375, 1085345655421747380, 1071097983747724332, 1071113243356019555, 1071697268573341999, 1085396509266939914, 1085401248959818110, 1087003825546511891, 1104534029772761431, 1104799871389380111, 1104877451689814299, 1107231528641386167, 1107275392430723514, 1107280535547505853, 1107286736536637404, 1110000899448086373, 1110690216493741810, 1110966470674419245, 1111010461070353705, 1112112464917101688, 1112123570488922115, 1099631111022405097, 1133207254571805076, 1133217599609383527, 1134492764338355995, 1126684210735664943, 1135442261452261940, 1128180673476262563, 1128184020949605416, 1128228024760541758, 1128230340121806052, 1128240619421385957, 1128244893720715302, 1129276668164500275, 1138556910296298680, 1130434089998644460, 1144158094207221453, 1146481357864363038, 1167365697508427852, 1168098030634623672, 1169581081056880046, 1170178722891857155, 1155006250823627046, 1157194531288593044, 1157222969827643276, 1172828773227753595, 1172950516850350787, 1173704255859512740, 1163205960954070502, 1175364113013922394, 1175845318430675889, 1177510105263894249, 1178049798694290654, 1178281870441546816, 1179741567478389538, 1197110953279908046, 1198287306785345437, 1199130295421766898, 1184026459257008703, 1185445861536095295, 1188584934136387294, 1189091917558426698, 1189209222632682160, 1203385314187409577, 1203618602252003745, 1203671947084990603, 1204240005221117556, 1204249760760152858, 1205468699799158498, 1207248751738611278, 1194079538606409784, 1207581483275385888, 1208725575290781199, 1194312928732826777, 1210889248576632028, 1211318388554541948, 1209438882312960574, 1217472734879709251, 1217929100913118190, 1217938125458878631, 1217965703167491815, 1217982988443106277, 1217985139192087743, 1217988478801006672, 1217990528142251530, 1220236420808301151, 1220845510783223547, 1221731178597045771, 1221772306542938783, 1221786960522269595, 1223755878475043521, 1214292649631410069, 1229548080757562963, 1231657321858852570, 1231657527696515473, 1257931094690462511, 1258109724729295809, 1258506299749502699, 1259224077617780583, 1233042106340861086, 1233120891732354082, 1233127515652365234, 1233301339952806429, 1260598674331608934, 1261718315461631752, 1262484070097878024, 1237616852495526769, 1264947265705367166, 1264978346120047412, 1237685862842036245, 1237702795600914486, 1237708481772340314, 1267187032932697305, 1267856449843592794, 1267863853974828921, 1267912358660233723, 1242571860995742026, 1271523875129170373, 1244708534903748569, 1245415208528617193, 1245549360202547947, 1273034369814996072, 1273884094349697937, 1274548019858045776, 1274559703614536490, 1274613688162700215, 1275904232747210514, 1251087164893336128, 1251278845381517419, 1252691630467656627, 1253447719812431481, 1254158024541668916, 1256308621632912145, 1256540622125406409, 1279705569984950325, 1279558795865919959, 1279607849322776151, 1279622572559088418, 1299981592718913476, 1279841508408571445, 1279846460432275443, 1279853545939296566, 1280414729500201371, 1280453963427112295, 1281741221260572620, 1281872336471406164, 1300097955909523031, 1301482640515514012, 1301991803651928230, 1302819947557473340, 1283481045269095552, 1284538550321022592, 1284565992298040675, 1304303738234747433, 1287014378125230463, 1287078040786858269, 1287642033924279877, 1305794432068587489, 1305815691733520799, 1306376515094914292, 1306440814385183490, 1307036180687751203, 1307294989545668848, 1289075787499379023, 1289214257663825244, 1289824728471262528, 1291259652707784365, 1307916686534686272, 1309257512878376838, 1311448602032314650, 1291282523485547227, 1291289799583179150, 1292101441632901278, 1312198150197329270, 1312900433102820040, 1312904549405686861, 1313003671121552359, 1294276786465921429, 1294732956980910802, 1313101447993556449, 1313113067129078372, 1313201565481033729, 1313596943187042083, 1313810948144644531, 1314288376198959952, 1314326268241180587, 1295517957839778358, 1295606706140798565, 1295634091992433793, 1295634110145331318, 1295853066036349279, 1296390135615705479, 1296846633181172315, 1314359117073988907, 1314364005004963547, 1314490303546258762, 1315181828655043954, 1315327981665565213, 1315738290123518468, 1297506389120781008, 1297653047024275377, 1297668926728482984, 1297756486619049622, 1297785524499187085, 1297876542259759498, 1298563984146933671, 1315787509884320238, 1316062065781883893, 1316533145424796463, 1299229618052667749, 1299359966952396218, 1299849539939060028, 1299963381573911983, 1322337217462946252, 1316644160079858254, 1316647119689115416, 1316801858205906771, 1316880410136989665, 1322509130335522001, 1323082902703648038, 1323103342484247859, 1323108152903122644, 1323230692970733332, 1323781225773771898, 1324522499010558557, 1325320780552131972, 1325340442278987634, 1318191311807248040, 1318268701859570262, 1318576470347265316, 1318692457368220905, 1338618915226192231, 1338989456383343007, 1325973690960837961, 1326270504065555888, 1326643520933055178, 1326724096440188804, 1326820758829097941, 1327536547362538127, 1327610103574765126, 1327658068719655989, 1339129256232812275, 1339141688186992945, 1339149536889460738, 1339159423443968097, 1339171854603571289, 1340138537200486643, 1340450441110378619, 1328205032556559595, 1328240484692200913, 1328772308418377392, 1328779125603693887, 1328806380414897867, 1328973686477394217, 1329048135628604219, 1340459214498877705, 1340636411007510030, 1341106961457316020, 1341108200015362423, 1341129506581107523, 1341894915182929412, 1329765995507211023, 1330358189512747073, 1330385267148754308, 1330561066615318397, 1330884618680364469, 1330921057460362098, 1342038905540655364, 1342574699614106972, 1342688066282508702, 1342714493458933686, 1342753998603627779, 1342773596490732195, 1342776902401421742, 1342781485266097769, 1342789540408564951, 1343346821815050219, 1343413014556904820, 1330996532745012421, 1331218121958728326, 1331477430624757427, 1331919567944471532, 1332552396079150793, 1332634200987137979, 1332702592077991900, 1333282711751266436, 1333908714852660842, 1334032853580529300, 1343511677747927314, 1343686121121971588, 1344196928646775731, 1344816873774495533, 1344821144492050015, 1344823193736806609, 1344906319015942126, 1345111860784844135, 1334090265368720210, 1334102352606935100, 1334240677227244317, 1334272020575508905, 1334636503232011923, 1334646270746352378, 1334668605695304642, 1334674042387588224, 1334721478605903218, 1345472608739903169, 1345498154358130374, 1345593425317124542, 1335396269144009761, 1335570188619059817, 1336041214498149874, 1336212495254166382, 1336220332692733321, 1336270932708699266, 1336462816126288377, 1336854663663745192, 1336862000696501509, 1336871322624747952, 1346198446187765553, 1346356948909540365, 1346370365532280550, 1347181098602361395, 1336943390444240272, 1337569326480228729, 1338135301389840576, 1338321200112593310, 1347811123954275649, 1347881259077484850, 1350863100933039235, 1351262123586304425, 1351272053360808430, 1351284820519349761, 1351290301886448824, 1351294011082384050, 1351301164939770232, 1351301409211305933, 1351302633364076690, 1351455655877211913, 1351493666057934078, 1351496852205078127, 1348417490177315749, 1348687331665302253, 1349059986101840643, 1349145251486903063, 1349209672171947022, 1351659072335033319, 1351997347881613135, 1352092070787155488, 1352098727457410161, 1352223747164241456, 1352319160192098450, 1352945524957502121, 1349233131509506893, 1349261955129573000, 1349280133699515789, 1349289866533676679, 1349292485816234625, 1349360056557167811, 1353433749970411906, 1353440941871227136, 1353495008046007005, 1353511913213150385, 1353512233909969538, 1353515291513226895, 1353517056640339487, 1353517672300455253, 1353580369173035247, 1349501052462712380, 1349894508085634529, 1350038429350996125, 1350050965803362516, 1350683150309338060, 1350694901269365355, 1350704694775497715, 1350721788418948243, 1353610011267605574, 1353616078765017075, 1353680577398709228, 1353831020797026747, 1354157211661476271, 1354182115083490535, 1354198254370535190, 1354271961871021242, 1354280243385051934, 1354287187257041842, 1350809073039465540, 1359972998250970942, 1359978882029822062, 1359980931485345735, 1360316936829834236, 1360322103669864742, 1360323992175947701, 1360328126102625309, 1360670388197753434, 1360810799584509413, 1354299077415816489, 1354865104113402695, 1354881897080812786, 1355075446906385054, 1355251811900902130, 1355317716135295082, 1355539412021977467, 1355563006006157558, 1360912767206541429, 1360964459477275660, 1360971349938711335, 1360979783954151484, 1361399051122525278, 1361542345237595010, 1361611678638605813, 1362069284714243006, 1355627617878943355, 1355647098195515119, 1355653035925744587, 1355742172750173409, 1355757424635942324, 1355767346943830614, 1355813162837081504, 1356269141510923430, 1356287891272895542, 1362069310055124724, 1362098243021589875, 1362102017993442586, 1362112197604955543, 1362114818930196721, 1362117550692648947, 1362124197740552890, 1362126368689490123, 1362200893158496271, 1362509169619993826, 1356290905536243971, 1356454335264497980, 1356511895797928756, 1356526723381143238, 1356613157247819459, 1356784526184832339, 1356953228646976614, 1357219046572868664, 1357250408931057862, 1362518031001897841, 1362894404770995768, 1363056913187975043, 1363063118684312899, 1363069078465789326, 1363645110678408300, 1363719144045591776, 1357389604278680597, 1357872907363701635, 1358101732673694705, 1358122865707419750, 1358133145122222306, 1358151502631976046, 1358594251693214475, 1358594266933983870, 1358594284191089936, 1358598034623635013, 1363771633511251110, 1363795213337978305, 1363873562452756929, 1363939681345638896, 1364163399760087653, 1364176866870145727, 1364186396690828405, 1358624782819857102, 1358624799684066640, 1358882349176180617, 1359223003605730811, 1359254542892272496, 1359255239937477474, 1359278347560333727, 1359382050963265181, 1364192188138760641, 1364291651658722459, 1364384423426928523, 1364406083987810151, 1364480825953775275, 1364488503783488263, 1364515630628172433, 1364635286640479993, 1364642608307474895, 1365893928883912698, 1366033048567818030, 1359647331896803736, 1359677892480080968, 1359916708058728026, 1359953511198182591, 1366576092896770388, 1366912719590250705]"
        ],
        [
         "17",
         "review_scores_rating",
         "float64",
         "774",
         "9.77",
         "[1482860, 2014854, 3118010, 6782983, 7018697, 7212771, 6488939, 6552897, 7712239, 8423436, 8561397, 8645053, 8736169, 9763587, 9053589, 9878674, 9233701, 11267714, 11352211, 10795221, 12864747, 12879781, 13593769, 13122321, 17801722, 17272157, 19170663, 22141357, 21643196, 21824763, 22549377, 22569393, 22743540, 22779581, 23118034, 23955078, 27336937, 26341997, 27539099, 27599571, 27600068, 27605918, 27615894, 27617451, 26680623, 28025140, 30244448, 29603997, 31615335, 32183486, 32322762, 32323055, 33600966, 33601646, 34486921, 34487577, 33923459, 34192937, 34194406, 34198553, 34377021, 35263784, 36065811, 36066436, 36066515, 35505069, 35505572, 35611685, 35611767, 35611837, 36464902, 36587753, 36678559, 37955200, 37978708, 39040234, 39076767, 39430631, 39477493, 39686632, 38821048, 39808007, 40753581, 39986180, 40753595, 40802008, 40802085, 40802136, 40802228, 40802833, 40748129, 40751721, 40753325, 40753387, 41230237, 41543818, 41685155, 41739723, 41745595, 41857160, 42683930, 42948966, 43251320, 43322099, 42985224, 43449007, 43449682, 43449754, 43449998, 44568550, 43699881, 44627642, 43753717, 43824956, 45108052, 45250837, 45333195, 45444597, 44158030, 44183891, 44325296, 48590770, 49555393, 49566392, 48195025, 48195026, 48205282, 48253597, 49919813, 48327554, 49919994, 49920208, 49920262, 50780455, 50438391, 51661171, 52064525, 53942485, 54079591, 54188355, 54188418, 54254885, 54255739, 54255886, 54310852, 54310897, 54384622, 552573882894829155, 554092988304710652, 554107603599770813, 554109000653251610, 554112327483969367, 559364982878228875, 562230939546947110, 568490356244099608, 573074131933435142, 595451807363045433, 606337751482983732, 613829058322990491, 617288024711107485, 638300545340556802, 638403805969773939, 638405224053587919, 671495131372804832, 671504996561751909, 672135415536352376, 672140113657565652, 672143125182310747, 672151723194425517, 672161053818689306, 672162738836687009, 671409777664608461, 704823709237371920, 704931214865202401, 692804245589277408, 694077603025700878, 724549473987401732, 724557091398859840, 729587024997178381, 731728604856416202, 733530290707276780, 748999259569336631, 734550726176649255, 736246608049823269, 736250094898977332, 736784695652120493, 736795151172005885, 741672381133061454, 741679202560302667, 741970547484053891, 742433348606442332, 743108839905315839, 744760241432823124, 765034532290081966, 765890871551612909, 766537876117575305, 767207716602797434, 768251633989466183, 815809045877838400, 791389619039426601, 819686286060935532, 822993737972241831, 807675656270226907, 807680416085116912, 807682586483941230, 829232242195913025, 829245078528604905, 830272643532171896, 830353311598780523, 807684208837043608, 831691520409327634, 831711271176721766, 831718327610589757, 834178316221644052, 834202136066435100, 840396603795249783, 835990297827592549, 854218067112736035, 856998614508561337, 858087028117335826, 842532162835415942, 858435821862344223, 862140883533006821, 862192021601842747, 862192686255082895, 862203366054529007, 850612650379296516, 851855228108319397, 853449515928544509, 854114673599318410, 880825389206160218, 880829846973742643, 905076124850681268, 885494884138712348, 889211771041724039, 908315293073160121, 908449819355594566, 899920149534747381, 913667464444948575, 938361691001930141, 924398117683958821, 924426459253112636, 926010749130496340, 949057689892091780, 934406800990944137, 955581086249940650, 967229455655252680, 967877549212113691, 959144274645126251, 995736283272769462, 979473953622655549, 981578902412218090, 981827184820246911, 981831074726899704, 986066266111517548, 1004091672108614178, 1004102127557969514, 1004106881106958092, 1004108061436455142, 1004109262864251827, 991065164307680743, 995104320333126876, 1025279883239618667, 1025908460539009403, 1010626665790591601, 1012849728019228568, 1049918645815165674, 1039196023195025271, 1039571295772559304, 1052848162775982712, 1054283059928628507, 1047031147474382514, 1047105417583551873, 1059239607552761338, 1071730985957647632, 1073146486378267839, 1074331024894267292, 1061293727679955622, 1064398464517700062, 1080213611798243209, 1081008104561877015, 1081097650992443024, 1082001594459316931, 1082430366392016776, 1082430456875435750, 1082430546475607967, 1067911233091140375, 1085345655421747380, 1071097983747724332, 1071113243356019555, 1071697268573341999, 1085396509266939914, 1085401248959818110, 1087003825546511891, 1104534029772761431, 1104799871389380111, 1104877451689814299, 1107231528641386167, 1107275392430723514, 1107280535547505853, 1107286736536637404, 1110000899448086373, 1110690216493741810, 1110966470674419245, 1111010461070353705, 1112112464917101688, 1112123570488922115, 1099631111022405097, 1133207254571805076, 1133217599609383527, 1134492764338355995, 1126684210735664943, 1135442261452261940, 1128180673476262563, 1128184020949605416, 1128228024760541758, 1128230340121806052, 1128240619421385957, 1128244893720715302, 1129276668164500275, 1138556910296298680, 1130434089998644460, 1144158094207221453, 1146481357864363038, 1167365697508427852, 1168098030634623672, 1169581081056880046, 1170178722891857155, 1155006250823627046, 1157194531288593044, 1157222969827643276, 1172828773227753595, 1172950516850350787, 1173704255859512740, 1163205960954070502, 1175364113013922394, 1175845318430675889, 1177510105263894249, 1178049798694290654, 1178281870441546816, 1179741567478389538, 1197110953279908046, 1198287306785345437, 1199130295421766898, 1184026459257008703, 1185445861536095295, 1188584934136387294, 1189091917558426698, 1189209222632682160, 1203385314187409577, 1203618602252003745, 1203671947084990603, 1204240005221117556, 1204249760760152858, 1205468699799158498, 1207248751738611278, 1194079538606409784, 1207581483275385888, 1208725575290781199, 1194312928732826777, 1210889248576632028, 1211318388554541948, 1209438882312960574, 1217472734879709251, 1217929100913118190, 1217938125458878631, 1217965703167491815, 1217982988443106277, 1217985139192087743, 1217988478801006672, 1217990528142251530, 1220236420808301151, 1220845510783223547, 1221731178597045771, 1221772306542938783, 1221786960522269595, 1223755878475043521, 1214292649631410069, 1229548080757562963, 1231657321858852570, 1231657527696515473, 1257931094690462511, 1258109724729295809, 1258506299749502699, 1259224077617780583, 1233042106340861086, 1233120891732354082, 1233127515652365234, 1233301339952806429, 1260598674331608934, 1261718315461631752, 1262484070097878024, 1237616852495526769, 1264947265705367166, 1264978346120047412, 1237685862842036245, 1237702795600914486, 1237708481772340314, 1267187032932697305, 1267856449843592794, 1267863853974828921, 1267912358660233723, 1242571860995742026, 1271523875129170373, 1244708534903748569, 1245415208528617193, 1245549360202547947, 1273034369814996072, 1273884094349697937, 1274548019858045776, 1274559703614536490, 1274613688162700215, 1275904232747210514, 1251087164893336128, 1251278845381517419, 1252691630467656627, 1253447719812431481, 1254158024541668916, 1256308621632912145, 1256540622125406409, 1279705569984950325, 1279558795865919959, 1279607849322776151, 1279622572559088418, 1299981592718913476, 1279841508408571445, 1279846460432275443, 1279853545939296566, 1280414729500201371, 1280453963427112295, 1281741221260572620, 1281872336471406164, 1300097955909523031, 1301482640515514012, 1301991803651928230, 1302819947557473340, 1283481045269095552, 1284538550321022592, 1284565992298040675, 1304303738234747433, 1287014378125230463, 1287078040786858269, 1287642033924279877, 1305794432068587489, 1305815691733520799, 1306376515094914292, 1306440814385183490, 1307036180687751203, 1307294989545668848, 1289075787499379023, 1289214257663825244, 1289824728471262528, 1291259652707784365, 1307916686534686272, 1309257512878376838, 1311448602032314650, 1291282523485547227, 1291289799583179150, 1292101441632901278, 1312198150197329270, 1312900433102820040, 1312904549405686861, 1313003671121552359, 1294276786465921429, 1294732956980910802, 1313101447993556449, 1313113067129078372, 1313201565481033729, 1313596943187042083, 1313810948144644531, 1314288376198959952, 1314326268241180587, 1295517957839778358, 1295606706140798565, 1295634091992433793, 1295634110145331318, 1295853066036349279, 1296390135615705479, 1296846633181172315, 1314359117073988907, 1314364005004963547, 1314490303546258762, 1315181828655043954, 1315327981665565213, 1315738290123518468, 1297506389120781008, 1297653047024275377, 1297668926728482984, 1297756486619049622, 1297785524499187085, 1297876542259759498, 1298563984146933671, 1315787509884320238, 1316062065781883893, 1316533145424796463, 1299229618052667749, 1299359966952396218, 1299849539939060028, 1299963381573911983, 1322337217462946252, 1316644160079858254, 1316647119689115416, 1316801858205906771, 1316880410136989665, 1322509130335522001, 1323082902703648038, 1323103342484247859, 1323108152903122644, 1323230692970733332, 1323781225773771898, 1324522499010558557, 1325320780552131972, 1325340442278987634, 1318191311807248040, 1318268701859570262, 1318576470347265316, 1318692457368220905, 1338618915226192231, 1338989456383343007, 1325973690960837961, 1326270504065555888, 1326643520933055178, 1326724096440188804, 1326820758829097941, 1327536547362538127, 1327610103574765126, 1327658068719655989, 1339129256232812275, 1339141688186992945, 1339149536889460738, 1339159423443968097, 1339171854603571289, 1340138537200486643, 1340450441110378619, 1328205032556559595, 1328240484692200913, 1328772308418377392, 1328779125603693887, 1328806380414897867, 1328973686477394217, 1329048135628604219, 1340459214498877705, 1340636411007510030, 1341106961457316020, 1341108200015362423, 1341129506581107523, 1341894915182929412, 1329765995507211023, 1330358189512747073, 1330385267148754308, 1330561066615318397, 1330884618680364469, 1330921057460362098, 1342038905540655364, 1342574699614106972, 1342688066282508702, 1342714493458933686, 1342753998603627779, 1342773596490732195, 1342776902401421742, 1342781485266097769, 1342789540408564951, 1343346821815050219, 1343413014556904820, 1330996532745012421, 1331218121958728326, 1331477430624757427, 1331919567944471532, 1332552396079150793, 1332634200987137979, 1332702592077991900, 1333282711751266436, 1333908714852660842, 1334032853580529300, 1343511677747927314, 1343686121121971588, 1344196928646775731, 1344816873774495533, 1344821144492050015, 1344823193736806609, 1344906319015942126, 1345111860784844135, 1334090265368720210, 1334102352606935100, 1334240677227244317, 1334272020575508905, 1334636503232011923, 1334646270746352378, 1334668605695304642, 1334674042387588224, 1334721478605903218, 1345472608739903169, 1345498154358130374, 1345593425317124542, 1335396269144009761, 1335570188619059817, 1336041214498149874, 1336212495254166382, 1336220332692733321, 1336270932708699266, 1336462816126288377, 1336854663663745192, 1336862000696501509, 1336871322624747952, 1346198446187765553, 1346356948909540365, 1346370365532280550, 1347181098602361395, 1336943390444240272, 1337569326480228729, 1338135301389840576, 1338321200112593310, 1347811123954275649, 1347881259077484850, 1350863100933039235, 1351262123586304425, 1351272053360808430, 1351284820519349761, 1351290301886448824, 1351294011082384050, 1351301164939770232, 1351301409211305933, 1351302633364076690, 1351455655877211913, 1351493666057934078, 1351496852205078127, 1348417490177315749, 1348687331665302253, 1349059986101840643, 1349145251486903063, 1349209672171947022, 1351659072335033319, 1351997347881613135, 1352092070787155488, 1352098727457410161, 1352223747164241456, 1352319160192098450, 1352945524957502121, 1349233131509506893, 1349261955129573000, 1349280133699515789, 1349289866533676679, 1349292485816234625, 1349360056557167811, 1353433749970411906, 1353440941871227136, 1353495008046007005, 1353511913213150385, 1353512233909969538, 1353515291513226895, 1353517056640339487, 1353517672300455253, 1353580369173035247, 1349501052462712380, 1349894508085634529, 1350038429350996125, 1350050965803362516, 1350683150309338060, 1350694901269365355, 1350704694775497715, 1350721788418948243, 1353610011267605574, 1353616078765017075, 1353680577398709228, 1353831020797026747, 1354157211661476271, 1354182115083490535, 1354198254370535190, 1354271961871021242, 1354280243385051934, 1354287187257041842, 1350809073039465540, 1359972998250970942, 1359978882029822062, 1359980931485345735, 1360316936829834236, 1360322103669864742, 1360323992175947701, 1360328126102625309, 1360670388197753434, 1360810799584509413, 1354299077415816489, 1354865104113402695, 1354881897080812786, 1355075446906385054, 1355251811900902130, 1355317716135295082, 1355539412021977467, 1355563006006157558, 1360912767206541429, 1360964459477275660, 1360971349938711335, 1360979783954151484, 1361399051122525278, 1361542345237595010, 1361611678638605813, 1362069284714243006, 1355627617878943355, 1355647098195515119, 1355653035925744587, 1355742172750173409, 1355757424635942324, 1355767346943830614, 1355813162837081504, 1356269141510923430, 1356287891272895542, 1362069310055124724, 1362098243021589875, 1362102017993442586, 1362112197604955543, 1362114818930196721, 1362117550692648947, 1362124197740552890, 1362126368689490123, 1362200893158496271, 1362509169619993826, 1356290905536243971, 1356454335264497980, 1356511895797928756, 1356526723381143238, 1356613157247819459, 1356784526184832339, 1356953228646976614, 1357219046572868664, 1357250408931057862, 1362518031001897841, 1362894404770995768, 1363056913187975043, 1363063118684312899, 1363069078465789326, 1363645110678408300, 1363719144045591776, 1357389604278680597, 1357872907363701635, 1358101732673694705, 1358122865707419750, 1358133145122222306, 1358151502631976046, 1358594251693214475, 1358594266933983870, 1358594284191089936, 1358598034623635013, 1363771633511251110, 1363795213337978305, 1363873562452756929, 1363939681345638896, 1364163399760087653, 1364176866870145727, 1364186396690828405, 1358624782819857102, 1358624799684066640, 1358882349176180617, 1359223003605730811, 1359254542892272496, 1359255239937477474, 1359278347560333727, 1359382050963265181, 1364192188138760641, 1364291651658722459, 1364384423426928523, 1364406083987810151, 1364480825953775275, 1364488503783488263, 1364515630628172433, 1364635286640479993, 1364642608307474895, 1365893928883912698, 1366033048567818030, 1359647331896803736, 1359677892480080968, 1359916708058728026, 1359953511198182591, 1366576092896770388, 1366912719590250705]"
        ],
        [
         "18",
         "first_review",
         "object",
         "774",
         "9.77",
         "[1482860, 2014854, 3118010, 6782983, 7018697, 7212771, 6488939, 6552897, 7712239, 8423436, 8561397, 8645053, 8736169, 9763587, 9053589, 9878674, 9233701, 11267714, 11352211, 10795221, 12864747, 12879781, 13593769, 13122321, 17801722, 17272157, 19170663, 22141357, 21643196, 21824763, 22549377, 22569393, 22743540, 22779581, 23118034, 23955078, 27336937, 26341997, 27539099, 27599571, 27600068, 27605918, 27615894, 27617451, 26680623, 28025140, 30244448, 29603997, 31615335, 32183486, 32322762, 32323055, 33600966, 33601646, 34486921, 34487577, 33923459, 34192937, 34194406, 34198553, 34377021, 35263784, 36065811, 36066436, 36066515, 35505069, 35505572, 35611685, 35611767, 35611837, 36464902, 36587753, 36678559, 37955200, 37978708, 39040234, 39076767, 39430631, 39477493, 39686632, 38821048, 39808007, 40753581, 39986180, 40753595, 40802008, 40802085, 40802136, 40802228, 40802833, 40748129, 40751721, 40753325, 40753387, 41230237, 41543818, 41685155, 41739723, 41745595, 41857160, 42683930, 42948966, 43251320, 43322099, 42985224, 43449007, 43449682, 43449754, 43449998, 44568550, 43699881, 44627642, 43753717, 43824956, 45108052, 45250837, 45333195, 45444597, 44158030, 44183891, 44325296, 48590770, 49555393, 49566392, 48195025, 48195026, 48205282, 48253597, 49919813, 48327554, 49919994, 49920208, 49920262, 50780455, 50438391, 51661171, 52064525, 53942485, 54079591, 54188355, 54188418, 54254885, 54255739, 54255886, 54310852, 54310897, 54384622, 552573882894829155, 554092988304710652, 554107603599770813, 554109000653251610, 554112327483969367, 559364982878228875, 562230939546947110, 568490356244099608, 573074131933435142, 595451807363045433, 606337751482983732, 613829058322990491, 617288024711107485, 638300545340556802, 638403805969773939, 638405224053587919, 671495131372804832, 671504996561751909, 672135415536352376, 672140113657565652, 672143125182310747, 672151723194425517, 672161053818689306, 672162738836687009, 671409777664608461, 704823709237371920, 704931214865202401, 692804245589277408, 694077603025700878, 724549473987401732, 724557091398859840, 729587024997178381, 731728604856416202, 733530290707276780, 748999259569336631, 734550726176649255, 736246608049823269, 736250094898977332, 736784695652120493, 736795151172005885, 741672381133061454, 741679202560302667, 741970547484053891, 742433348606442332, 743108839905315839, 744760241432823124, 765034532290081966, 765890871551612909, 766537876117575305, 767207716602797434, 768251633989466183, 815809045877838400, 791389619039426601, 819686286060935532, 822993737972241831, 807675656270226907, 807680416085116912, 807682586483941230, 829232242195913025, 829245078528604905, 830272643532171896, 830353311598780523, 807684208837043608, 831691520409327634, 831711271176721766, 831718327610589757, 834178316221644052, 834202136066435100, 840396603795249783, 835990297827592549, 854218067112736035, 856998614508561337, 858087028117335826, 842532162835415942, 858435821862344223, 862140883533006821, 862192021601842747, 862192686255082895, 862203366054529007, 850612650379296516, 851855228108319397, 853449515928544509, 854114673599318410, 880825389206160218, 880829846973742643, 905076124850681268, 885494884138712348, 889211771041724039, 908315293073160121, 908449819355594566, 899920149534747381, 913667464444948575, 938361691001930141, 924398117683958821, 924426459253112636, 926010749130496340, 949057689892091780, 934406800990944137, 955581086249940650, 967229455655252680, 967877549212113691, 959144274645126251, 995736283272769462, 979473953622655549, 981578902412218090, 981827184820246911, 981831074726899704, 986066266111517548, 1004091672108614178, 1004102127557969514, 1004106881106958092, 1004108061436455142, 1004109262864251827, 991065164307680743, 995104320333126876, 1025279883239618667, 1025908460539009403, 1010626665790591601, 1012849728019228568, 1049918645815165674, 1039196023195025271, 1039571295772559304, 1052848162775982712, 1054283059928628507, 1047031147474382514, 1047105417583551873, 1059239607552761338, 1071730985957647632, 1073146486378267839, 1074331024894267292, 1061293727679955622, 1064398464517700062, 1080213611798243209, 1081008104561877015, 1081097650992443024, 1082001594459316931, 1082430366392016776, 1082430456875435750, 1082430546475607967, 1067911233091140375, 1085345655421747380, 1071097983747724332, 1071113243356019555, 1071697268573341999, 1085396509266939914, 1085401248959818110, 1087003825546511891, 1104534029772761431, 1104799871389380111, 1104877451689814299, 1107231528641386167, 1107275392430723514, 1107280535547505853, 1107286736536637404, 1110000899448086373, 1110690216493741810, 1110966470674419245, 1111010461070353705, 1112112464917101688, 1112123570488922115, 1099631111022405097, 1133207254571805076, 1133217599609383527, 1134492764338355995, 1126684210735664943, 1135442261452261940, 1128180673476262563, 1128184020949605416, 1128228024760541758, 1128230340121806052, 1128240619421385957, 1128244893720715302, 1129276668164500275, 1138556910296298680, 1130434089998644460, 1144158094207221453, 1146481357864363038, 1167365697508427852, 1168098030634623672, 1169581081056880046, 1170178722891857155, 1155006250823627046, 1157194531288593044, 1157222969827643276, 1172828773227753595, 1172950516850350787, 1173704255859512740, 1163205960954070502, 1175364113013922394, 1175845318430675889, 1177510105263894249, 1178049798694290654, 1178281870441546816, 1179741567478389538, 1197110953279908046, 1198287306785345437, 1199130295421766898, 1184026459257008703, 1185445861536095295, 1188584934136387294, 1189091917558426698, 1189209222632682160, 1203385314187409577, 1203618602252003745, 1203671947084990603, 1204240005221117556, 1204249760760152858, 1205468699799158498, 1207248751738611278, 1194079538606409784, 1207581483275385888, 1208725575290781199, 1194312928732826777, 1210889248576632028, 1211318388554541948, 1209438882312960574, 1217472734879709251, 1217929100913118190, 1217938125458878631, 1217965703167491815, 1217982988443106277, 1217985139192087743, 1217988478801006672, 1217990528142251530, 1220236420808301151, 1220845510783223547, 1221731178597045771, 1221772306542938783, 1221786960522269595, 1223755878475043521, 1214292649631410069, 1229548080757562963, 1231657321858852570, 1231657527696515473, 1257931094690462511, 1258109724729295809, 1258506299749502699, 1259224077617780583, 1233042106340861086, 1233120891732354082, 1233127515652365234, 1233301339952806429, 1260598674331608934, 1261718315461631752, 1262484070097878024, 1237616852495526769, 1264947265705367166, 1264978346120047412, 1237685862842036245, 1237702795600914486, 1237708481772340314, 1267187032932697305, 1267856449843592794, 1267863853974828921, 1267912358660233723, 1242571860995742026, 1271523875129170373, 1244708534903748569, 1245415208528617193, 1245549360202547947, 1273034369814996072, 1273884094349697937, 1274548019858045776, 1274559703614536490, 1274613688162700215, 1275904232747210514, 1251087164893336128, 1251278845381517419, 1252691630467656627, 1253447719812431481, 1254158024541668916, 1256308621632912145, 1256540622125406409, 1279705569984950325, 1279558795865919959, 1279607849322776151, 1279622572559088418, 1299981592718913476, 1279841508408571445, 1279846460432275443, 1279853545939296566, 1280414729500201371, 1280453963427112295, 1281741221260572620, 1281872336471406164, 1300097955909523031, 1301482640515514012, 1301991803651928230, 1302819947557473340, 1283481045269095552, 1284538550321022592, 1284565992298040675, 1304303738234747433, 1287014378125230463, 1287078040786858269, 1287642033924279877, 1305794432068587489, 1305815691733520799, 1306376515094914292, 1306440814385183490, 1307036180687751203, 1307294989545668848, 1289075787499379023, 1289214257663825244, 1289824728471262528, 1291259652707784365, 1307916686534686272, 1309257512878376838, 1311448602032314650, 1291282523485547227, 1291289799583179150, 1292101441632901278, 1312198150197329270, 1312900433102820040, 1312904549405686861, 1313003671121552359, 1294276786465921429, 1294732956980910802, 1313101447993556449, 1313113067129078372, 1313201565481033729, 1313596943187042083, 1313810948144644531, 1314288376198959952, 1314326268241180587, 1295517957839778358, 1295606706140798565, 1295634091992433793, 1295634110145331318, 1295853066036349279, 1296390135615705479, 1296846633181172315, 1314359117073988907, 1314364005004963547, 1314490303546258762, 1315181828655043954, 1315327981665565213, 1315738290123518468, 1297506389120781008, 1297653047024275377, 1297668926728482984, 1297756486619049622, 1297785524499187085, 1297876542259759498, 1298563984146933671, 1315787509884320238, 1316062065781883893, 1316533145424796463, 1299229618052667749, 1299359966952396218, 1299849539939060028, 1299963381573911983, 1322337217462946252, 1316644160079858254, 1316647119689115416, 1316801858205906771, 1316880410136989665, 1322509130335522001, 1323082902703648038, 1323103342484247859, 1323108152903122644, 1323230692970733332, 1323781225773771898, 1324522499010558557, 1325320780552131972, 1325340442278987634, 1318191311807248040, 1318268701859570262, 1318576470347265316, 1318692457368220905, 1338618915226192231, 1338989456383343007, 1325973690960837961, 1326270504065555888, 1326643520933055178, 1326724096440188804, 1326820758829097941, 1327536547362538127, 1327610103574765126, 1327658068719655989, 1339129256232812275, 1339141688186992945, 1339149536889460738, 1339159423443968097, 1339171854603571289, 1340138537200486643, 1340450441110378619, 1328205032556559595, 1328240484692200913, 1328772308418377392, 1328779125603693887, 1328806380414897867, 1328973686477394217, 1329048135628604219, 1340459214498877705, 1340636411007510030, 1341106961457316020, 1341108200015362423, 1341129506581107523, 1341894915182929412, 1329765995507211023, 1330358189512747073, 1330385267148754308, 1330561066615318397, 1330884618680364469, 1330921057460362098, 1342038905540655364, 1342574699614106972, 1342688066282508702, 1342714493458933686, 1342753998603627779, 1342773596490732195, 1342776902401421742, 1342781485266097769, 1342789540408564951, 1343346821815050219, 1343413014556904820, 1330996532745012421, 1331218121958728326, 1331477430624757427, 1331919567944471532, 1332552396079150793, 1332634200987137979, 1332702592077991900, 1333282711751266436, 1333908714852660842, 1334032853580529300, 1343511677747927314, 1343686121121971588, 1344196928646775731, 1344816873774495533, 1344821144492050015, 1344823193736806609, 1344906319015942126, 1345111860784844135, 1334090265368720210, 1334102352606935100, 1334240677227244317, 1334272020575508905, 1334636503232011923, 1334646270746352378, 1334668605695304642, 1334674042387588224, 1334721478605903218, 1345472608739903169, 1345498154358130374, 1345593425317124542, 1335396269144009761, 1335570188619059817, 1336041214498149874, 1336212495254166382, 1336220332692733321, 1336270932708699266, 1336462816126288377, 1336854663663745192, 1336862000696501509, 1336871322624747952, 1346198446187765553, 1346356948909540365, 1346370365532280550, 1347181098602361395, 1336943390444240272, 1337569326480228729, 1338135301389840576, 1338321200112593310, 1347811123954275649, 1347881259077484850, 1350863100933039235, 1351262123586304425, 1351272053360808430, 1351284820519349761, 1351290301886448824, 1351294011082384050, 1351301164939770232, 1351301409211305933, 1351302633364076690, 1351455655877211913, 1351493666057934078, 1351496852205078127, 1348417490177315749, 1348687331665302253, 1349059986101840643, 1349145251486903063, 1349209672171947022, 1351659072335033319, 1351997347881613135, 1352092070787155488, 1352098727457410161, 1352223747164241456, 1352319160192098450, 1352945524957502121, 1349233131509506893, 1349261955129573000, 1349280133699515789, 1349289866533676679, 1349292485816234625, 1349360056557167811, 1353433749970411906, 1353440941871227136, 1353495008046007005, 1353511913213150385, 1353512233909969538, 1353515291513226895, 1353517056640339487, 1353517672300455253, 1353580369173035247, 1349501052462712380, 1349894508085634529, 1350038429350996125, 1350050965803362516, 1350683150309338060, 1350694901269365355, 1350704694775497715, 1350721788418948243, 1353610011267605574, 1353616078765017075, 1353680577398709228, 1353831020797026747, 1354157211661476271, 1354182115083490535, 1354198254370535190, 1354271961871021242, 1354280243385051934, 1354287187257041842, 1350809073039465540, 1359972998250970942, 1359978882029822062, 1359980931485345735, 1360316936829834236, 1360322103669864742, 1360323992175947701, 1360328126102625309, 1360670388197753434, 1360810799584509413, 1354299077415816489, 1354865104113402695, 1354881897080812786, 1355075446906385054, 1355251811900902130, 1355317716135295082, 1355539412021977467, 1355563006006157558, 1360912767206541429, 1360964459477275660, 1360971349938711335, 1360979783954151484, 1361399051122525278, 1361542345237595010, 1361611678638605813, 1362069284714243006, 1355627617878943355, 1355647098195515119, 1355653035925744587, 1355742172750173409, 1355757424635942324, 1355767346943830614, 1355813162837081504, 1356269141510923430, 1356287891272895542, 1362069310055124724, 1362098243021589875, 1362102017993442586, 1362112197604955543, 1362114818930196721, 1362117550692648947, 1362124197740552890, 1362126368689490123, 1362200893158496271, 1362509169619993826, 1356290905536243971, 1356454335264497980, 1356511895797928756, 1356526723381143238, 1356613157247819459, 1356784526184832339, 1356953228646976614, 1357219046572868664, 1357250408931057862, 1362518031001897841, 1362894404770995768, 1363056913187975043, 1363063118684312899, 1363069078465789326, 1363645110678408300, 1363719144045591776, 1357389604278680597, 1357872907363701635, 1358101732673694705, 1358122865707419750, 1358133145122222306, 1358151502631976046, 1358594251693214475, 1358594266933983870, 1358594284191089936, 1358598034623635013, 1363771633511251110, 1363795213337978305, 1363873562452756929, 1363939681345638896, 1364163399760087653, 1364176866870145727, 1364186396690828405, 1358624782819857102, 1358624799684066640, 1358882349176180617, 1359223003605730811, 1359254542892272496, 1359255239937477474, 1359278347560333727, 1359382050963265181, 1364192188138760641, 1364291651658722459, 1364384423426928523, 1364406083987810151, 1364480825953775275, 1364488503783488263, 1364515630628172433, 1364635286640479993, 1364642608307474895, 1365893928883912698, 1366033048567818030, 1359647331896803736, 1359677892480080968, 1359916708058728026, 1359953511198182591, 1366576092896770388, 1366912719590250705]"
        ],
        [
         "19",
         "review_scores_value",
         "float64",
         "774",
         "9.77",
         "[1482860, 2014854, 3118010, 6782983, 7018697, 7212771, 6488939, 6552897, 7712239, 8423436, 8561397, 8645053, 8736169, 9763587, 9053589, 9878674, 9233701, 11267714, 11352211, 10795221, 12864747, 12879781, 13593769, 13122321, 17801722, 17272157, 19170663, 22141357, 21643196, 21824763, 22549377, 22569393, 22743540, 22779581, 23118034, 23955078, 27336937, 26341997, 27539099, 27599571, 27600068, 27605918, 27615894, 27617451, 26680623, 28025140, 30244448, 29603997, 31615335, 32183486, 32322762, 32323055, 33600966, 33601646, 34486921, 34487577, 33923459, 34192937, 34194406, 34198553, 34377021, 35263784, 36065811, 36066436, 36066515, 35505069, 35505572, 35611685, 35611767, 35611837, 36464902, 36587753, 36678559, 37955200, 37978708, 39040234, 39076767, 39430631, 39477493, 39686632, 38821048, 39808007, 40753581, 39986180, 40753595, 40802008, 40802085, 40802136, 40802228, 40802833, 40748129, 40751721, 40753325, 40753387, 41230237, 41543818, 41685155, 41739723, 41745595, 41857160, 42683930, 42948966, 43251320, 43322099, 42985224, 43449007, 43449682, 43449754, 43449998, 44568550, 43699881, 44627642, 43753717, 43824956, 45108052, 45250837, 45333195, 45444597, 44158030, 44183891, 44325296, 48590770, 49555393, 49566392, 48195025, 48195026, 48205282, 48253597, 49919813, 48327554, 49919994, 49920208, 49920262, 50780455, 50438391, 51661171, 52064525, 53942485, 54079591, 54188355, 54188418, 54254885, 54255739, 54255886, 54310852, 54310897, 54384622, 552573882894829155, 554092988304710652, 554107603599770813, 554109000653251610, 554112327483969367, 559364982878228875, 562230939546947110, 568490356244099608, 573074131933435142, 595451807363045433, 606337751482983732, 613829058322990491, 617288024711107485, 638300545340556802, 638403805969773939, 638405224053587919, 671495131372804832, 671504996561751909, 672135415536352376, 672140113657565652, 672143125182310747, 672151723194425517, 672161053818689306, 672162738836687009, 671409777664608461, 704823709237371920, 704931214865202401, 692804245589277408, 694077603025700878, 724549473987401732, 724557091398859840, 729587024997178381, 731728604856416202, 733530290707276780, 748999259569336631, 734550726176649255, 736246608049823269, 736250094898977332, 736784695652120493, 736795151172005885, 741672381133061454, 741679202560302667, 741970547484053891, 742433348606442332, 743108839905315839, 744760241432823124, 765034532290081966, 765890871551612909, 766537876117575305, 767207716602797434, 768251633989466183, 815809045877838400, 791389619039426601, 819686286060935532, 822993737972241831, 807675656270226907, 807680416085116912, 807682586483941230, 829232242195913025, 829245078528604905, 830272643532171896, 830353311598780523, 807684208837043608, 831691520409327634, 831711271176721766, 831718327610589757, 834178316221644052, 834202136066435100, 840396603795249783, 835990297827592549, 854218067112736035, 856998614508561337, 858087028117335826, 842532162835415942, 858435821862344223, 862140883533006821, 862192021601842747, 862192686255082895, 862203366054529007, 850612650379296516, 851855228108319397, 853449515928544509, 854114673599318410, 880825389206160218, 880829846973742643, 905076124850681268, 885494884138712348, 889211771041724039, 908315293073160121, 908449819355594566, 899920149534747381, 913667464444948575, 938361691001930141, 924398117683958821, 924426459253112636, 926010749130496340, 949057689892091780, 934406800990944137, 955581086249940650, 967229455655252680, 967877549212113691, 959144274645126251, 995736283272769462, 979473953622655549, 981578902412218090, 981827184820246911, 981831074726899704, 986066266111517548, 1004091672108614178, 1004102127557969514, 1004106881106958092, 1004108061436455142, 1004109262864251827, 991065164307680743, 995104320333126876, 1025279883239618667, 1025908460539009403, 1010626665790591601, 1012849728019228568, 1049918645815165674, 1039196023195025271, 1039571295772559304, 1052848162775982712, 1054283059928628507, 1047031147474382514, 1047105417583551873, 1059239607552761338, 1071730985957647632, 1073146486378267839, 1074331024894267292, 1061293727679955622, 1064398464517700062, 1080213611798243209, 1081008104561877015, 1081097650992443024, 1082001594459316931, 1082430366392016776, 1082430456875435750, 1082430546475607967, 1067911233091140375, 1085345655421747380, 1071097983747724332, 1071113243356019555, 1071697268573341999, 1085396509266939914, 1085401248959818110, 1087003825546511891, 1104534029772761431, 1104799871389380111, 1104877451689814299, 1107231528641386167, 1107275392430723514, 1107280535547505853, 1107286736536637404, 1110000899448086373, 1110690216493741810, 1110966470674419245, 1111010461070353705, 1112112464917101688, 1112123570488922115, 1099631111022405097, 1133207254571805076, 1133217599609383527, 1134492764338355995, 1126684210735664943, 1135442261452261940, 1128180673476262563, 1128184020949605416, 1128228024760541758, 1128230340121806052, 1128240619421385957, 1128244893720715302, 1129276668164500275, 1138556910296298680, 1130434089998644460, 1144158094207221453, 1146481357864363038, 1167365697508427852, 1168098030634623672, 1169581081056880046, 1170178722891857155, 1155006250823627046, 1157194531288593044, 1157222969827643276, 1172828773227753595, 1172950516850350787, 1173704255859512740, 1163205960954070502, 1175364113013922394, 1175845318430675889, 1177510105263894249, 1178049798694290654, 1178281870441546816, 1179741567478389538, 1197110953279908046, 1198287306785345437, 1199130295421766898, 1184026459257008703, 1185445861536095295, 1188584934136387294, 1189091917558426698, 1189209222632682160, 1203385314187409577, 1203618602252003745, 1203671947084990603, 1204240005221117556, 1204249760760152858, 1205468699799158498, 1207248751738611278, 1194079538606409784, 1207581483275385888, 1208725575290781199, 1194312928732826777, 1210889248576632028, 1211318388554541948, 1209438882312960574, 1217472734879709251, 1217929100913118190, 1217938125458878631, 1217965703167491815, 1217982988443106277, 1217985139192087743, 1217988478801006672, 1217990528142251530, 1220236420808301151, 1220845510783223547, 1221731178597045771, 1221772306542938783, 1221786960522269595, 1223755878475043521, 1214292649631410069, 1229548080757562963, 1231657321858852570, 1231657527696515473, 1257931094690462511, 1258109724729295809, 1258506299749502699, 1259224077617780583, 1233042106340861086, 1233120891732354082, 1233127515652365234, 1233301339952806429, 1260598674331608934, 1261718315461631752, 1262484070097878024, 1237616852495526769, 1264947265705367166, 1264978346120047412, 1237685862842036245, 1237702795600914486, 1237708481772340314, 1267187032932697305, 1267856449843592794, 1267863853974828921, 1267912358660233723, 1242571860995742026, 1271523875129170373, 1244708534903748569, 1245415208528617193, 1245549360202547947, 1273034369814996072, 1273884094349697937, 1274548019858045776, 1274559703614536490, 1274613688162700215, 1275904232747210514, 1251087164893336128, 1251278845381517419, 1252691630467656627, 1253447719812431481, 1254158024541668916, 1256308621632912145, 1256540622125406409, 1279705569984950325, 1279558795865919959, 1279607849322776151, 1279622572559088418, 1299981592718913476, 1279841508408571445, 1279846460432275443, 1279853545939296566, 1280414729500201371, 1280453963427112295, 1281741221260572620, 1281872336471406164, 1300097955909523031, 1301482640515514012, 1301991803651928230, 1302819947557473340, 1283481045269095552, 1284538550321022592, 1284565992298040675, 1304303738234747433, 1287014378125230463, 1287078040786858269, 1287642033924279877, 1305794432068587489, 1305815691733520799, 1306376515094914292, 1306440814385183490, 1307036180687751203, 1307294989545668848, 1289075787499379023, 1289214257663825244, 1289824728471262528, 1291259652707784365, 1307916686534686272, 1309257512878376838, 1311448602032314650, 1291282523485547227, 1291289799583179150, 1292101441632901278, 1312198150197329270, 1312900433102820040, 1312904549405686861, 1313003671121552359, 1294276786465921429, 1294732956980910802, 1313101447993556449, 1313113067129078372, 1313201565481033729, 1313596943187042083, 1313810948144644531, 1314288376198959952, 1314326268241180587, 1295517957839778358, 1295606706140798565, 1295634091992433793, 1295634110145331318, 1295853066036349279, 1296390135615705479, 1296846633181172315, 1314359117073988907, 1314364005004963547, 1314490303546258762, 1315181828655043954, 1315327981665565213, 1315738290123518468, 1297506389120781008, 1297653047024275377, 1297668926728482984, 1297756486619049622, 1297785524499187085, 1297876542259759498, 1298563984146933671, 1315787509884320238, 1316062065781883893, 1316533145424796463, 1299229618052667749, 1299359966952396218, 1299849539939060028, 1299963381573911983, 1322337217462946252, 1316644160079858254, 1316647119689115416, 1316801858205906771, 1316880410136989665, 1322509130335522001, 1323082902703648038, 1323103342484247859, 1323108152903122644, 1323230692970733332, 1323781225773771898, 1324522499010558557, 1325320780552131972, 1325340442278987634, 1318191311807248040, 1318268701859570262, 1318576470347265316, 1318692457368220905, 1338618915226192231, 1338989456383343007, 1325973690960837961, 1326270504065555888, 1326643520933055178, 1326724096440188804, 1326820758829097941, 1327536547362538127, 1327610103574765126, 1327658068719655989, 1339129256232812275, 1339141688186992945, 1339149536889460738, 1339159423443968097, 1339171854603571289, 1340138537200486643, 1340450441110378619, 1328205032556559595, 1328240484692200913, 1328772308418377392, 1328779125603693887, 1328806380414897867, 1328973686477394217, 1329048135628604219, 1340459214498877705, 1340636411007510030, 1341106961457316020, 1341108200015362423, 1341129506581107523, 1341894915182929412, 1329765995507211023, 1330358189512747073, 1330385267148754308, 1330561066615318397, 1330884618680364469, 1330921057460362098, 1342038905540655364, 1342574699614106972, 1342688066282508702, 1342714493458933686, 1342753998603627779, 1342773596490732195, 1342776902401421742, 1342781485266097769, 1342789540408564951, 1343346821815050219, 1343413014556904820, 1330996532745012421, 1331218121958728326, 1331477430624757427, 1331919567944471532, 1332552396079150793, 1332634200987137979, 1332702592077991900, 1333282711751266436, 1333908714852660842, 1334032853580529300, 1343511677747927314, 1343686121121971588, 1344196928646775731, 1344816873774495533, 1344821144492050015, 1344823193736806609, 1344906319015942126, 1345111860784844135, 1334090265368720210, 1334102352606935100, 1334240677227244317, 1334272020575508905, 1334636503232011923, 1334646270746352378, 1334668605695304642, 1334674042387588224, 1334721478605903218, 1345472608739903169, 1345498154358130374, 1345593425317124542, 1335396269144009761, 1335570188619059817, 1336041214498149874, 1336212495254166382, 1336220332692733321, 1336270932708699266, 1336462816126288377, 1336854663663745192, 1336862000696501509, 1336871322624747952, 1346198446187765553, 1346356948909540365, 1346370365532280550, 1347181098602361395, 1336943390444240272, 1337569326480228729, 1338135301389840576, 1338321200112593310, 1347811123954275649, 1347881259077484850, 1350863100933039235, 1351262123586304425, 1351272053360808430, 1351284820519349761, 1351290301886448824, 1351294011082384050, 1351301164939770232, 1351301409211305933, 1351302633364076690, 1351455655877211913, 1351493666057934078, 1351496852205078127, 1348417490177315749, 1348687331665302253, 1349059986101840643, 1349145251486903063, 1349209672171947022, 1351659072335033319, 1351997347881613135, 1352092070787155488, 1352098727457410161, 1352223747164241456, 1352319160192098450, 1352945524957502121, 1349233131509506893, 1349261955129573000, 1349280133699515789, 1349289866533676679, 1349292485816234625, 1349360056557167811, 1353433749970411906, 1353440941871227136, 1353495008046007005, 1353511913213150385, 1353512233909969538, 1353515291513226895, 1353517056640339487, 1353517672300455253, 1353580369173035247, 1349501052462712380, 1349894508085634529, 1350038429350996125, 1350050965803362516, 1350683150309338060, 1350694901269365355, 1350704694775497715, 1350721788418948243, 1353610011267605574, 1353616078765017075, 1353680577398709228, 1353831020797026747, 1354157211661476271, 1354182115083490535, 1354198254370535190, 1354271961871021242, 1354280243385051934, 1354287187257041842, 1350809073039465540, 1359972998250970942, 1359978882029822062, 1359980931485345735, 1360316936829834236, 1360322103669864742, 1360323992175947701, 1360328126102625309, 1360670388197753434, 1360810799584509413, 1354299077415816489, 1354865104113402695, 1354881897080812786, 1355075446906385054, 1355251811900902130, 1355317716135295082, 1355539412021977467, 1355563006006157558, 1360912767206541429, 1360964459477275660, 1360971349938711335, 1360979783954151484, 1361399051122525278, 1361542345237595010, 1361611678638605813, 1362069284714243006, 1355627617878943355, 1355647098195515119, 1355653035925744587, 1355742172750173409, 1355757424635942324, 1355767346943830614, 1355813162837081504, 1356269141510923430, 1356287891272895542, 1362069310055124724, 1362098243021589875, 1362102017993442586, 1362112197604955543, 1362114818930196721, 1362117550692648947, 1362124197740552890, 1362126368689490123, 1362200893158496271, 1362509169619993826, 1356290905536243971, 1356454335264497980, 1356511895797928756, 1356526723381143238, 1356613157247819459, 1356784526184832339, 1356953228646976614, 1357219046572868664, 1357250408931057862, 1362518031001897841, 1362894404770995768, 1363056913187975043, 1363063118684312899, 1363069078465789326, 1363645110678408300, 1363719144045591776, 1357389604278680597, 1357872907363701635, 1358101732673694705, 1358122865707419750, 1358133145122222306, 1358151502631976046, 1358594251693214475, 1358594266933983870, 1358594284191089936, 1358598034623635013, 1363771633511251110, 1363795213337978305, 1363873562452756929, 1363939681345638896, 1364163399760087653, 1364176866870145727, 1364186396690828405, 1358624782819857102, 1358624799684066640, 1358882349176180617, 1359223003605730811, 1359254542892272496, 1359255239937477474, 1359278347560333727, 1359382050963265181, 1364192188138760641, 1364291651658722459, 1364384423426928523, 1364406083987810151, 1364480825953775275, 1364488503783488263, 1364515630628172433, 1364635286640479993, 1364642608307474895, 1365893928883912698, 1366033048567818030, 1359647331896803736, 1359677892480080968, 1359916708058728026, 1359953511198182591, 1366576092896770388, 1366912719590250705]"
        ],
        [
         "20",
         "last_review",
         "object",
         "774",
         "9.77",
         "[1482860, 2014854, 3118010, 6782983, 7018697, 7212771, 6488939, 6552897, 7712239, 8423436, 8561397, 8645053, 8736169, 9763587, 9053589, 9878674, 9233701, 11267714, 11352211, 10795221, 12864747, 12879781, 13593769, 13122321, 17801722, 17272157, 19170663, 22141357, 21643196, 21824763, 22549377, 22569393, 22743540, 22779581, 23118034, 23955078, 27336937, 26341997, 27539099, 27599571, 27600068, 27605918, 27615894, 27617451, 26680623, 28025140, 30244448, 29603997, 31615335, 32183486, 32322762, 32323055, 33600966, 33601646, 34486921, 34487577, 33923459, 34192937, 34194406, 34198553, 34377021, 35263784, 36065811, 36066436, 36066515, 35505069, 35505572, 35611685, 35611767, 35611837, 36464902, 36587753, 36678559, 37955200, 37978708, 39040234, 39076767, 39430631, 39477493, 39686632, 38821048, 39808007, 40753581, 39986180, 40753595, 40802008, 40802085, 40802136, 40802228, 40802833, 40748129, 40751721, 40753325, 40753387, 41230237, 41543818, 41685155, 41739723, 41745595, 41857160, 42683930, 42948966, 43251320, 43322099, 42985224, 43449007, 43449682, 43449754, 43449998, 44568550, 43699881, 44627642, 43753717, 43824956, 45108052, 45250837, 45333195, 45444597, 44158030, 44183891, 44325296, 48590770, 49555393, 49566392, 48195025, 48195026, 48205282, 48253597, 49919813, 48327554, 49919994, 49920208, 49920262, 50780455, 50438391, 51661171, 52064525, 53942485, 54079591, 54188355, 54188418, 54254885, 54255739, 54255886, 54310852, 54310897, 54384622, 552573882894829155, 554092988304710652, 554107603599770813, 554109000653251610, 554112327483969367, 559364982878228875, 562230939546947110, 568490356244099608, 573074131933435142, 595451807363045433, 606337751482983732, 613829058322990491, 617288024711107485, 638300545340556802, 638403805969773939, 638405224053587919, 671495131372804832, 671504996561751909, 672135415536352376, 672140113657565652, 672143125182310747, 672151723194425517, 672161053818689306, 672162738836687009, 671409777664608461, 704823709237371920, 704931214865202401, 692804245589277408, 694077603025700878, 724549473987401732, 724557091398859840, 729587024997178381, 731728604856416202, 733530290707276780, 748999259569336631, 734550726176649255, 736246608049823269, 736250094898977332, 736784695652120493, 736795151172005885, 741672381133061454, 741679202560302667, 741970547484053891, 742433348606442332, 743108839905315839, 744760241432823124, 765034532290081966, 765890871551612909, 766537876117575305, 767207716602797434, 768251633989466183, 815809045877838400, 791389619039426601, 819686286060935532, 822993737972241831, 807675656270226907, 807680416085116912, 807682586483941230, 829232242195913025, 829245078528604905, 830272643532171896, 830353311598780523, 807684208837043608, 831691520409327634, 831711271176721766, 831718327610589757, 834178316221644052, 834202136066435100, 840396603795249783, 835990297827592549, 854218067112736035, 856998614508561337, 858087028117335826, 842532162835415942, 858435821862344223, 862140883533006821, 862192021601842747, 862192686255082895, 862203366054529007, 850612650379296516, 851855228108319397, 853449515928544509, 854114673599318410, 880825389206160218, 880829846973742643, 905076124850681268, 885494884138712348, 889211771041724039, 908315293073160121, 908449819355594566, 899920149534747381, 913667464444948575, 938361691001930141, 924398117683958821, 924426459253112636, 926010749130496340, 949057689892091780, 934406800990944137, 955581086249940650, 967229455655252680, 967877549212113691, 959144274645126251, 995736283272769462, 979473953622655549, 981578902412218090, 981827184820246911, 981831074726899704, 986066266111517548, 1004091672108614178, 1004102127557969514, 1004106881106958092, 1004108061436455142, 1004109262864251827, 991065164307680743, 995104320333126876, 1025279883239618667, 1025908460539009403, 1010626665790591601, 1012849728019228568, 1049918645815165674, 1039196023195025271, 1039571295772559304, 1052848162775982712, 1054283059928628507, 1047031147474382514, 1047105417583551873, 1059239607552761338, 1071730985957647632, 1073146486378267839, 1074331024894267292, 1061293727679955622, 1064398464517700062, 1080213611798243209, 1081008104561877015, 1081097650992443024, 1082001594459316931, 1082430366392016776, 1082430456875435750, 1082430546475607967, 1067911233091140375, 1085345655421747380, 1071097983747724332, 1071113243356019555, 1071697268573341999, 1085396509266939914, 1085401248959818110, 1087003825546511891, 1104534029772761431, 1104799871389380111, 1104877451689814299, 1107231528641386167, 1107275392430723514, 1107280535547505853, 1107286736536637404, 1110000899448086373, 1110690216493741810, 1110966470674419245, 1111010461070353705, 1112112464917101688, 1112123570488922115, 1099631111022405097, 1133207254571805076, 1133217599609383527, 1134492764338355995, 1126684210735664943, 1135442261452261940, 1128180673476262563, 1128184020949605416, 1128228024760541758, 1128230340121806052, 1128240619421385957, 1128244893720715302, 1129276668164500275, 1138556910296298680, 1130434089998644460, 1144158094207221453, 1146481357864363038, 1167365697508427852, 1168098030634623672, 1169581081056880046, 1170178722891857155, 1155006250823627046, 1157194531288593044, 1157222969827643276, 1172828773227753595, 1172950516850350787, 1173704255859512740, 1163205960954070502, 1175364113013922394, 1175845318430675889, 1177510105263894249, 1178049798694290654, 1178281870441546816, 1179741567478389538, 1197110953279908046, 1198287306785345437, 1199130295421766898, 1184026459257008703, 1185445861536095295, 1188584934136387294, 1189091917558426698, 1189209222632682160, 1203385314187409577, 1203618602252003745, 1203671947084990603, 1204240005221117556, 1204249760760152858, 1205468699799158498, 1207248751738611278, 1194079538606409784, 1207581483275385888, 1208725575290781199, 1194312928732826777, 1210889248576632028, 1211318388554541948, 1209438882312960574, 1217472734879709251, 1217929100913118190, 1217938125458878631, 1217965703167491815, 1217982988443106277, 1217985139192087743, 1217988478801006672, 1217990528142251530, 1220236420808301151, 1220845510783223547, 1221731178597045771, 1221772306542938783, 1221786960522269595, 1223755878475043521, 1214292649631410069, 1229548080757562963, 1231657321858852570, 1231657527696515473, 1257931094690462511, 1258109724729295809, 1258506299749502699, 1259224077617780583, 1233042106340861086, 1233120891732354082, 1233127515652365234, 1233301339952806429, 1260598674331608934, 1261718315461631752, 1262484070097878024, 1237616852495526769, 1264947265705367166, 1264978346120047412, 1237685862842036245, 1237702795600914486, 1237708481772340314, 1267187032932697305, 1267856449843592794, 1267863853974828921, 1267912358660233723, 1242571860995742026, 1271523875129170373, 1244708534903748569, 1245415208528617193, 1245549360202547947, 1273034369814996072, 1273884094349697937, 1274548019858045776, 1274559703614536490, 1274613688162700215, 1275904232747210514, 1251087164893336128, 1251278845381517419, 1252691630467656627, 1253447719812431481, 1254158024541668916, 1256308621632912145, 1256540622125406409, 1279705569984950325, 1279558795865919959, 1279607849322776151, 1279622572559088418, 1299981592718913476, 1279841508408571445, 1279846460432275443, 1279853545939296566, 1280414729500201371, 1280453963427112295, 1281741221260572620, 1281872336471406164, 1300097955909523031, 1301482640515514012, 1301991803651928230, 1302819947557473340, 1283481045269095552, 1284538550321022592, 1284565992298040675, 1304303738234747433, 1287014378125230463, 1287078040786858269, 1287642033924279877, 1305794432068587489, 1305815691733520799, 1306376515094914292, 1306440814385183490, 1307036180687751203, 1307294989545668848, 1289075787499379023, 1289214257663825244, 1289824728471262528, 1291259652707784365, 1307916686534686272, 1309257512878376838, 1311448602032314650, 1291282523485547227, 1291289799583179150, 1292101441632901278, 1312198150197329270, 1312900433102820040, 1312904549405686861, 1313003671121552359, 1294276786465921429, 1294732956980910802, 1313101447993556449, 1313113067129078372, 1313201565481033729, 1313596943187042083, 1313810948144644531, 1314288376198959952, 1314326268241180587, 1295517957839778358, 1295606706140798565, 1295634091992433793, 1295634110145331318, 1295853066036349279, 1296390135615705479, 1296846633181172315, 1314359117073988907, 1314364005004963547, 1314490303546258762, 1315181828655043954, 1315327981665565213, 1315738290123518468, 1297506389120781008, 1297653047024275377, 1297668926728482984, 1297756486619049622, 1297785524499187085, 1297876542259759498, 1298563984146933671, 1315787509884320238, 1316062065781883893, 1316533145424796463, 1299229618052667749, 1299359966952396218, 1299849539939060028, 1299963381573911983, 1322337217462946252, 1316644160079858254, 1316647119689115416, 1316801858205906771, 1316880410136989665, 1322509130335522001, 1323082902703648038, 1323103342484247859, 1323108152903122644, 1323230692970733332, 1323781225773771898, 1324522499010558557, 1325320780552131972, 1325340442278987634, 1318191311807248040, 1318268701859570262, 1318576470347265316, 1318692457368220905, 1338618915226192231, 1338989456383343007, 1325973690960837961, 1326270504065555888, 1326643520933055178, 1326724096440188804, 1326820758829097941, 1327536547362538127, 1327610103574765126, 1327658068719655989, 1339129256232812275, 1339141688186992945, 1339149536889460738, 1339159423443968097, 1339171854603571289, 1340138537200486643, 1340450441110378619, 1328205032556559595, 1328240484692200913, 1328772308418377392, 1328779125603693887, 1328806380414897867, 1328973686477394217, 1329048135628604219, 1340459214498877705, 1340636411007510030, 1341106961457316020, 1341108200015362423, 1341129506581107523, 1341894915182929412, 1329765995507211023, 1330358189512747073, 1330385267148754308, 1330561066615318397, 1330884618680364469, 1330921057460362098, 1342038905540655364, 1342574699614106972, 1342688066282508702, 1342714493458933686, 1342753998603627779, 1342773596490732195, 1342776902401421742, 1342781485266097769, 1342789540408564951, 1343346821815050219, 1343413014556904820, 1330996532745012421, 1331218121958728326, 1331477430624757427, 1331919567944471532, 1332552396079150793, 1332634200987137979, 1332702592077991900, 1333282711751266436, 1333908714852660842, 1334032853580529300, 1343511677747927314, 1343686121121971588, 1344196928646775731, 1344816873774495533, 1344821144492050015, 1344823193736806609, 1344906319015942126, 1345111860784844135, 1334090265368720210, 1334102352606935100, 1334240677227244317, 1334272020575508905, 1334636503232011923, 1334646270746352378, 1334668605695304642, 1334674042387588224, 1334721478605903218, 1345472608739903169, 1345498154358130374, 1345593425317124542, 1335396269144009761, 1335570188619059817, 1336041214498149874, 1336212495254166382, 1336220332692733321, 1336270932708699266, 1336462816126288377, 1336854663663745192, 1336862000696501509, 1336871322624747952, 1346198446187765553, 1346356948909540365, 1346370365532280550, 1347181098602361395, 1336943390444240272, 1337569326480228729, 1338135301389840576, 1338321200112593310, 1347811123954275649, 1347881259077484850, 1350863100933039235, 1351262123586304425, 1351272053360808430, 1351284820519349761, 1351290301886448824, 1351294011082384050, 1351301164939770232, 1351301409211305933, 1351302633364076690, 1351455655877211913, 1351493666057934078, 1351496852205078127, 1348417490177315749, 1348687331665302253, 1349059986101840643, 1349145251486903063, 1349209672171947022, 1351659072335033319, 1351997347881613135, 1352092070787155488, 1352098727457410161, 1352223747164241456, 1352319160192098450, 1352945524957502121, 1349233131509506893, 1349261955129573000, 1349280133699515789, 1349289866533676679, 1349292485816234625, 1349360056557167811, 1353433749970411906, 1353440941871227136, 1353495008046007005, 1353511913213150385, 1353512233909969538, 1353515291513226895, 1353517056640339487, 1353517672300455253, 1353580369173035247, 1349501052462712380, 1349894508085634529, 1350038429350996125, 1350050965803362516, 1350683150309338060, 1350694901269365355, 1350704694775497715, 1350721788418948243, 1353610011267605574, 1353616078765017075, 1353680577398709228, 1353831020797026747, 1354157211661476271, 1354182115083490535, 1354198254370535190, 1354271961871021242, 1354280243385051934, 1354287187257041842, 1350809073039465540, 1359972998250970942, 1359978882029822062, 1359980931485345735, 1360316936829834236, 1360322103669864742, 1360323992175947701, 1360328126102625309, 1360670388197753434, 1360810799584509413, 1354299077415816489, 1354865104113402695, 1354881897080812786, 1355075446906385054, 1355251811900902130, 1355317716135295082, 1355539412021977467, 1355563006006157558, 1360912767206541429, 1360964459477275660, 1360971349938711335, 1360979783954151484, 1361399051122525278, 1361542345237595010, 1361611678638605813, 1362069284714243006, 1355627617878943355, 1355647098195515119, 1355653035925744587, 1355742172750173409, 1355757424635942324, 1355767346943830614, 1355813162837081504, 1356269141510923430, 1356287891272895542, 1362069310055124724, 1362098243021589875, 1362102017993442586, 1362112197604955543, 1362114818930196721, 1362117550692648947, 1362124197740552890, 1362126368689490123, 1362200893158496271, 1362509169619993826, 1356290905536243971, 1356454335264497980, 1356511895797928756, 1356526723381143238, 1356613157247819459, 1356784526184832339, 1356953228646976614, 1357219046572868664, 1357250408931057862, 1362518031001897841, 1362894404770995768, 1363056913187975043, 1363063118684312899, 1363069078465789326, 1363645110678408300, 1363719144045591776, 1357389604278680597, 1357872907363701635, 1358101732673694705, 1358122865707419750, 1358133145122222306, 1358151502631976046, 1358594251693214475, 1358594266933983870, 1358594284191089936, 1358598034623635013, 1363771633511251110, 1363795213337978305, 1363873562452756929, 1363939681345638896, 1364163399760087653, 1364176866870145727, 1364186396690828405, 1358624782819857102, 1358624799684066640, 1358882349176180617, 1359223003605730811, 1359254542892272496, 1359255239937477474, 1359278347560333727, 1359382050963265181, 1364192188138760641, 1364291651658722459, 1364384423426928523, 1364406083987810151, 1364480825953775275, 1364488503783488263, 1364515630628172433, 1364635286640479993, 1364642608307474895, 1365893928883912698, 1366033048567818030, 1359647331896803736, 1359677892480080968, 1359916708058728026, 1359953511198182591, 1366576092896770388, 1366912719590250705]"
        ],
        [
         "21",
         "reviews_per_month",
         "float64",
         "774",
         "9.77",
         "[1482860, 2014854, 3118010, 6782983, 7018697, 7212771, 6488939, 6552897, 7712239, 8423436, 8561397, 8645053, 8736169, 9763587, 9053589, 9878674, 9233701, 11267714, 11352211, 10795221, 12864747, 12879781, 13593769, 13122321, 17801722, 17272157, 19170663, 22141357, 21643196, 21824763, 22549377, 22569393, 22743540, 22779581, 23118034, 23955078, 27336937, 26341997, 27539099, 27599571, 27600068, 27605918, 27615894, 27617451, 26680623, 28025140, 30244448, 29603997, 31615335, 32183486, 32322762, 32323055, 33600966, 33601646, 34486921, 34487577, 33923459, 34192937, 34194406, 34198553, 34377021, 35263784, 36065811, 36066436, 36066515, 35505069, 35505572, 35611685, 35611767, 35611837, 36464902, 36587753, 36678559, 37955200, 37978708, 39040234, 39076767, 39430631, 39477493, 39686632, 38821048, 39808007, 40753581, 39986180, 40753595, 40802008, 40802085, 40802136, 40802228, 40802833, 40748129, 40751721, 40753325, 40753387, 41230237, 41543818, 41685155, 41739723, 41745595, 41857160, 42683930, 42948966, 43251320, 43322099, 42985224, 43449007, 43449682, 43449754, 43449998, 44568550, 43699881, 44627642, 43753717, 43824956, 45108052, 45250837, 45333195, 45444597, 44158030, 44183891, 44325296, 48590770, 49555393, 49566392, 48195025, 48195026, 48205282, 48253597, 49919813, 48327554, 49919994, 49920208, 49920262, 50780455, 50438391, 51661171, 52064525, 53942485, 54079591, 54188355, 54188418, 54254885, 54255739, 54255886, 54310852, 54310897, 54384622, 552573882894829155, 554092988304710652, 554107603599770813, 554109000653251610, 554112327483969367, 559364982878228875, 562230939546947110, 568490356244099608, 573074131933435142, 595451807363045433, 606337751482983732, 613829058322990491, 617288024711107485, 638300545340556802, 638403805969773939, 638405224053587919, 671495131372804832, 671504996561751909, 672135415536352376, 672140113657565652, 672143125182310747, 672151723194425517, 672161053818689306, 672162738836687009, 671409777664608461, 704823709237371920, 704931214865202401, 692804245589277408, 694077603025700878, 724549473987401732, 724557091398859840, 729587024997178381, 731728604856416202, 733530290707276780, 748999259569336631, 734550726176649255, 736246608049823269, 736250094898977332, 736784695652120493, 736795151172005885, 741672381133061454, 741679202560302667, 741970547484053891, 742433348606442332, 743108839905315839, 744760241432823124, 765034532290081966, 765890871551612909, 766537876117575305, 767207716602797434, 768251633989466183, 815809045877838400, 791389619039426601, 819686286060935532, 822993737972241831, 807675656270226907, 807680416085116912, 807682586483941230, 829232242195913025, 829245078528604905, 830272643532171896, 830353311598780523, 807684208837043608, 831691520409327634, 831711271176721766, 831718327610589757, 834178316221644052, 834202136066435100, 840396603795249783, 835990297827592549, 854218067112736035, 856998614508561337, 858087028117335826, 842532162835415942, 858435821862344223, 862140883533006821, 862192021601842747, 862192686255082895, 862203366054529007, 850612650379296516, 851855228108319397, 853449515928544509, 854114673599318410, 880825389206160218, 880829846973742643, 905076124850681268, 885494884138712348, 889211771041724039, 908315293073160121, 908449819355594566, 899920149534747381, 913667464444948575, 938361691001930141, 924398117683958821, 924426459253112636, 926010749130496340, 949057689892091780, 934406800990944137, 955581086249940650, 967229455655252680, 967877549212113691, 959144274645126251, 995736283272769462, 979473953622655549, 981578902412218090, 981827184820246911, 981831074726899704, 986066266111517548, 1004091672108614178, 1004102127557969514, 1004106881106958092, 1004108061436455142, 1004109262864251827, 991065164307680743, 995104320333126876, 1025279883239618667, 1025908460539009403, 1010626665790591601, 1012849728019228568, 1049918645815165674, 1039196023195025271, 1039571295772559304, 1052848162775982712, 1054283059928628507, 1047031147474382514, 1047105417583551873, 1059239607552761338, 1071730985957647632, 1073146486378267839, 1074331024894267292, 1061293727679955622, 1064398464517700062, 1080213611798243209, 1081008104561877015, 1081097650992443024, 1082001594459316931, 1082430366392016776, 1082430456875435750, 1082430546475607967, 1067911233091140375, 1085345655421747380, 1071097983747724332, 1071113243356019555, 1071697268573341999, 1085396509266939914, 1085401248959818110, 1087003825546511891, 1104534029772761431, 1104799871389380111, 1104877451689814299, 1107231528641386167, 1107275392430723514, 1107280535547505853, 1107286736536637404, 1110000899448086373, 1110690216493741810, 1110966470674419245, 1111010461070353705, 1112112464917101688, 1112123570488922115, 1099631111022405097, 1133207254571805076, 1133217599609383527, 1134492764338355995, 1126684210735664943, 1135442261452261940, 1128180673476262563, 1128184020949605416, 1128228024760541758, 1128230340121806052, 1128240619421385957, 1128244893720715302, 1129276668164500275, 1138556910296298680, 1130434089998644460, 1144158094207221453, 1146481357864363038, 1167365697508427852, 1168098030634623672, 1169581081056880046, 1170178722891857155, 1155006250823627046, 1157194531288593044, 1157222969827643276, 1172828773227753595, 1172950516850350787, 1173704255859512740, 1163205960954070502, 1175364113013922394, 1175845318430675889, 1177510105263894249, 1178049798694290654, 1178281870441546816, 1179741567478389538, 1197110953279908046, 1198287306785345437, 1199130295421766898, 1184026459257008703, 1185445861536095295, 1188584934136387294, 1189091917558426698, 1189209222632682160, 1203385314187409577, 1203618602252003745, 1203671947084990603, 1204240005221117556, 1204249760760152858, 1205468699799158498, 1207248751738611278, 1194079538606409784, 1207581483275385888, 1208725575290781199, 1194312928732826777, 1210889248576632028, 1211318388554541948, 1209438882312960574, 1217472734879709251, 1217929100913118190, 1217938125458878631, 1217965703167491815, 1217982988443106277, 1217985139192087743, 1217988478801006672, 1217990528142251530, 1220236420808301151, 1220845510783223547, 1221731178597045771, 1221772306542938783, 1221786960522269595, 1223755878475043521, 1214292649631410069, 1229548080757562963, 1231657321858852570, 1231657527696515473, 1257931094690462511, 1258109724729295809, 1258506299749502699, 1259224077617780583, 1233042106340861086, 1233120891732354082, 1233127515652365234, 1233301339952806429, 1260598674331608934, 1261718315461631752, 1262484070097878024, 1237616852495526769, 1264947265705367166, 1264978346120047412, 1237685862842036245, 1237702795600914486, 1237708481772340314, 1267187032932697305, 1267856449843592794, 1267863853974828921, 1267912358660233723, 1242571860995742026, 1271523875129170373, 1244708534903748569, 1245415208528617193, 1245549360202547947, 1273034369814996072, 1273884094349697937, 1274548019858045776, 1274559703614536490, 1274613688162700215, 1275904232747210514, 1251087164893336128, 1251278845381517419, 1252691630467656627, 1253447719812431481, 1254158024541668916, 1256308621632912145, 1256540622125406409, 1279705569984950325, 1279558795865919959, 1279607849322776151, 1279622572559088418, 1299981592718913476, 1279841508408571445, 1279846460432275443, 1279853545939296566, 1280414729500201371, 1280453963427112295, 1281741221260572620, 1281872336471406164, 1300097955909523031, 1301482640515514012, 1301991803651928230, 1302819947557473340, 1283481045269095552, 1284538550321022592, 1284565992298040675, 1304303738234747433, 1287014378125230463, 1287078040786858269, 1287642033924279877, 1305794432068587489, 1305815691733520799, 1306376515094914292, 1306440814385183490, 1307036180687751203, 1307294989545668848, 1289075787499379023, 1289214257663825244, 1289824728471262528, 1291259652707784365, 1307916686534686272, 1309257512878376838, 1311448602032314650, 1291282523485547227, 1291289799583179150, 1292101441632901278, 1312198150197329270, 1312900433102820040, 1312904549405686861, 1313003671121552359, 1294276786465921429, 1294732956980910802, 1313101447993556449, 1313113067129078372, 1313201565481033729, 1313596943187042083, 1313810948144644531, 1314288376198959952, 1314326268241180587, 1295517957839778358, 1295606706140798565, 1295634091992433793, 1295634110145331318, 1295853066036349279, 1296390135615705479, 1296846633181172315, 1314359117073988907, 1314364005004963547, 1314490303546258762, 1315181828655043954, 1315327981665565213, 1315738290123518468, 1297506389120781008, 1297653047024275377, 1297668926728482984, 1297756486619049622, 1297785524499187085, 1297876542259759498, 1298563984146933671, 1315787509884320238, 1316062065781883893, 1316533145424796463, 1299229618052667749, 1299359966952396218, 1299849539939060028, 1299963381573911983, 1322337217462946252, 1316644160079858254, 1316647119689115416, 1316801858205906771, 1316880410136989665, 1322509130335522001, 1323082902703648038, 1323103342484247859, 1323108152903122644, 1323230692970733332, 1323781225773771898, 1324522499010558557, 1325320780552131972, 1325340442278987634, 1318191311807248040, 1318268701859570262, 1318576470347265316, 1318692457368220905, 1338618915226192231, 1338989456383343007, 1325973690960837961, 1326270504065555888, 1326643520933055178, 1326724096440188804, 1326820758829097941, 1327536547362538127, 1327610103574765126, 1327658068719655989, 1339129256232812275, 1339141688186992945, 1339149536889460738, 1339159423443968097, 1339171854603571289, 1340138537200486643, 1340450441110378619, 1328205032556559595, 1328240484692200913, 1328772308418377392, 1328779125603693887, 1328806380414897867, 1328973686477394217, 1329048135628604219, 1340459214498877705, 1340636411007510030, 1341106961457316020, 1341108200015362423, 1341129506581107523, 1341894915182929412, 1329765995507211023, 1330358189512747073, 1330385267148754308, 1330561066615318397, 1330884618680364469, 1330921057460362098, 1342038905540655364, 1342574699614106972, 1342688066282508702, 1342714493458933686, 1342753998603627779, 1342773596490732195, 1342776902401421742, 1342781485266097769, 1342789540408564951, 1343346821815050219, 1343413014556904820, 1330996532745012421, 1331218121958728326, 1331477430624757427, 1331919567944471532, 1332552396079150793, 1332634200987137979, 1332702592077991900, 1333282711751266436, 1333908714852660842, 1334032853580529300, 1343511677747927314, 1343686121121971588, 1344196928646775731, 1344816873774495533, 1344821144492050015, 1344823193736806609, 1344906319015942126, 1345111860784844135, 1334090265368720210, 1334102352606935100, 1334240677227244317, 1334272020575508905, 1334636503232011923, 1334646270746352378, 1334668605695304642, 1334674042387588224, 1334721478605903218, 1345472608739903169, 1345498154358130374, 1345593425317124542, 1335396269144009761, 1335570188619059817, 1336041214498149874, 1336212495254166382, 1336220332692733321, 1336270932708699266, 1336462816126288377, 1336854663663745192, 1336862000696501509, 1336871322624747952, 1346198446187765553, 1346356948909540365, 1346370365532280550, 1347181098602361395, 1336943390444240272, 1337569326480228729, 1338135301389840576, 1338321200112593310, 1347811123954275649, 1347881259077484850, 1350863100933039235, 1351262123586304425, 1351272053360808430, 1351284820519349761, 1351290301886448824, 1351294011082384050, 1351301164939770232, 1351301409211305933, 1351302633364076690, 1351455655877211913, 1351493666057934078, 1351496852205078127, 1348417490177315749, 1348687331665302253, 1349059986101840643, 1349145251486903063, 1349209672171947022, 1351659072335033319, 1351997347881613135, 1352092070787155488, 1352098727457410161, 1352223747164241456, 1352319160192098450, 1352945524957502121, 1349233131509506893, 1349261955129573000, 1349280133699515789, 1349289866533676679, 1349292485816234625, 1349360056557167811, 1353433749970411906, 1353440941871227136, 1353495008046007005, 1353511913213150385, 1353512233909969538, 1353515291513226895, 1353517056640339487, 1353517672300455253, 1353580369173035247, 1349501052462712380, 1349894508085634529, 1350038429350996125, 1350050965803362516, 1350683150309338060, 1350694901269365355, 1350704694775497715, 1350721788418948243, 1353610011267605574, 1353616078765017075, 1353680577398709228, 1353831020797026747, 1354157211661476271, 1354182115083490535, 1354198254370535190, 1354271961871021242, 1354280243385051934, 1354287187257041842, 1350809073039465540, 1359972998250970942, 1359978882029822062, 1359980931485345735, 1360316936829834236, 1360322103669864742, 1360323992175947701, 1360328126102625309, 1360670388197753434, 1360810799584509413, 1354299077415816489, 1354865104113402695, 1354881897080812786, 1355075446906385054, 1355251811900902130, 1355317716135295082, 1355539412021977467, 1355563006006157558, 1360912767206541429, 1360964459477275660, 1360971349938711335, 1360979783954151484, 1361399051122525278, 1361542345237595010, 1361611678638605813, 1362069284714243006, 1355627617878943355, 1355647098195515119, 1355653035925744587, 1355742172750173409, 1355757424635942324, 1355767346943830614, 1355813162837081504, 1356269141510923430, 1356287891272895542, 1362069310055124724, 1362098243021589875, 1362102017993442586, 1362112197604955543, 1362114818930196721, 1362117550692648947, 1362124197740552890, 1362126368689490123, 1362200893158496271, 1362509169619993826, 1356290905536243971, 1356454335264497980, 1356511895797928756, 1356526723381143238, 1356613157247819459, 1356784526184832339, 1356953228646976614, 1357219046572868664, 1357250408931057862, 1362518031001897841, 1362894404770995768, 1363056913187975043, 1363063118684312899, 1363069078465789326, 1363645110678408300, 1363719144045591776, 1357389604278680597, 1357872907363701635, 1358101732673694705, 1358122865707419750, 1358133145122222306, 1358151502631976046, 1358594251693214475, 1358594266933983870, 1358594284191089936, 1358598034623635013, 1363771633511251110, 1363795213337978305, 1363873562452756929, 1363939681345638896, 1364163399760087653, 1364176866870145727, 1364186396690828405, 1358624782819857102, 1358624799684066640, 1358882349176180617, 1359223003605730811, 1359254542892272496, 1359255239937477474, 1359278347560333727, 1359382050963265181, 1364192188138760641, 1364291651658722459, 1364384423426928523, 1364406083987810151, 1364480825953775275, 1364488503783488263, 1364515630628172433, 1364635286640479993, 1364642608307474895, 1365893928883912698, 1366033048567818030, 1359647331896803736, 1359677892480080968, 1359916708058728026, 1359953511198182591, 1366576092896770388, 1366912719590250705]"
        ],
        [
         "22",
         "license",
         "object",
         "626",
         "7.9",
         "[423767, 72821, 83610, 208801, 906370, 999441, 1038620, 1181536, 388399, 1832112, 1300085, 1422473, 2004220, 2012828, 2014854, 1533624, 1615895, 2151599, 2253981, 2260596, 3020830, 2402601, 3203677, 3314930, 3356926, 3524290, 3656555, 3814415, 4890371, 4923166, 5257636, 5268522, 5302362, 5317049, 5473403, 4272967, 5734857, 5782605, 6663734, 6682798, 6863620, 6987387, 7018697, 7212771, 6333933, 6425113, 7268407, 7282315, 6443733, 6514655, 6552418, 6552897, 7524616, 8301935, 7682178, 8423436, 7880190, 8547860, 7917724, 8561397, 8736169, 8966009, 9801176, 9053589, 9104416, 9878674, 9233701, 9236574, 9244694, 9673914, 9706595, 10406382, 10406840, 11267714, 11352211, 10610104, 10639339, 11417636, 10749341, 10795221, 11634229, 10848085, 11878822, 12099568, 12505135, 13285492, 13339026, 12778768, 12822904, 12860900, 12864747, 12878255, 13551446, 13557482, 13593769, 13669027, 13743690, 13746483, 13824564, 13160675, 13163877, 13946488, 13954375, 13988827, 14174162, 15254116, 15279977, 14623672, 14723841, 14734523, 14927241, 15863506, 16142745, 16700069, 17380904, 17381345, 17395156, 16759346, 17528865, 17529062, 17801722, 16904707, 17049214, 17083555, 17103422, 18207432, 17182284, 18252889, 18310068, 17210624, 17242924, 18403345, 18403998, 18404123, 18404739, 19774048, 18841548, 20033951, 18996187, 20153377, 20180833, 20185109, 20188748, 19111973, 19117250, 19170663, 20871712, 21466078, 22542097, 22549377, 22569393, 21939841, 22642183, 22695387, 22913874, 22743540, 23043938, 22811208, 23299802, 23319025, 23332524, 23715688, 23716161, 23716247, 24073401, 24819360, 24863203, 24369371, 24385633, 24967985, 24509706, 24992475, 25339688, 25883820, 25988358, 26162087, 26211358, 27336937, 26341997, 27539099, 27599571, 27600068, 27605918, 26418427, 27615894, 27617451, 27618661, 26552709, 26560007, 26563089, 26794701, 28025140, 26940647, 28560731, 30220513, 30245612, 30265360, 30466981, 29066989, 29176552, 30753359, 29334993, 29376835, 29505444, 29532305, 29537731, 29603997, 29648829, 29648972, 29774356, 32543399, 32598853, 32135840, 33080794, 33159295, 32432570, 32433549, 33206380, 33354782, 33438466, 34486921, 34487124, 34487577, 33922446, 33923459, 33952729, 34532547, 34004224, 34107661, 34108248, 34192937, 34194406, 34198553, 34198773, 34214770, 34225039, 35014667, 34322184, 34377021, 35145429, 35867718, 35867887, 35868040, 35263784, 36065811, 36066436, 36066515, 35505069, 35505572, 36330119, 35591726, 35611685, 35611767, 35611837, 36437652, 36440969, 35763854, 35824940, 35828091, 35866840, 35867523, 37543558, 37546004, 37546481, 36678559, 36714952, 37344350, 37978708, 37445128, 37984387, 39040234, 38118898, 38120578, 39074453, 39076767, 39249695, 39351308, 39477493, 39686632, 39687471, 38821048, 39818205, 39986180, 40855773, 41230237, 41301335, 41495615, 41543818, 41739723, 41745595, 41745960, 41767719, 41857160, 42683930, 42822218, 43206223, 43241098, 43251320, 42985224, 43449007, 43449383, 43449549, 43449682, 43449754, 43449998, 43450064, 44470137, 43490117, 43699881, 44721015, 43753717, 43786480, 43824956, 45077717, 45108052, 45250837, 45333195, 45444597, 44325296, 45639025, 48195025, 48195026, 48205282, 49876274, 49919782, 49919813, 49919972, 49919994, 49920012, 49920208, 49920262, 49921572, 50869109, 50303363, 51020170, 50476273, 51277384, 51277434, 52821520, 52064525, 53920798, 53942485, 53554924, 53567561, 54384587, 54384622, 53605241, 546894922088297161, 53684196, 554092988304710652, 554106115061235323, 554107603599770813, 554109000653251610, 554112327483969367, 578733875985469454, 561562263004179592, 580088244214424763, 585336565841810196, 589662381161603767, 592826951537097168, 594584114878427891, 645440840550150229, 603976984595737078, 651177437063812379, 651307995344592147, 616035025546642981, 616567468851584212, 623807345597711079, 631735479790897703, 661458283381695159, 638300545340556802, 638400929135061122, 638403805969773939, 638405224053587919, 671495131372804832, 671499391376551498, 671502439065092652, 671504996561751909, 671507608882429537, 671512068583594186, 667702716418352345, 672131284747383829, 672135415536352376, 672140113657565652, 672143125182310747, 672151723194425517, 672156581317155373, 672159140052101625, 672161053818689306, 672162738836687009, 674315072431841014, 676124249847272043, 671409777664608461, 701070952508622673, 678155501942692283, 707685095284513627, 709131023580834958, 709862458708445067, 716675001218374596, 692804245589277408, 694077603025700878, 717307136142220253, 718716660876105339, 697660155237369866, 697700555960031786, 724502932255405735, 724549473987401732, 724557091398859840, 748252587124786147, 729587024997178381, 731728604856416202, 733295475350541479, 735184034045468044, 736246608049823269, 736250094898977332, 736777448434039734, 736784695652120493, 736795151172005885, 736805444814902861, 757651089440922633, 757661897059939968, 741045646897395177, 741672381133061454, 741679202560302667, 741970547484053891, 743108839905315839, 744760241432823124, 768251633989466183, 810783260302369000, 810786599401829580, 810813581724765561, 815809045877838400, 791389619039426601, 826047483616533970, 806966476473135544, 807675656270226907, 807680416085116912, 807682586483941230, 830295690272706295, 807684208837043608, 830368920587858984, 830392552733062413, 831711271176721766, 831718327610589757, 834178316221644052, 834202136066435100, 856998614508561337, 857041354425621445, 858087028117335826, 844128612348038699, 844687796517264787, 845554659208037123, 865269458040469106, 868705760879930083, 868713422818072962, 868726020325156664, 872926879981497038, 850612650379296516, 875062299702523610, 875393448678687411, 880825389206160218, 880829846973742643, 881137013820539482, 883722372069765402, 889211771041724039, 889924235833822968, 908452175534766030, 898304615063406289, 920220233733911305, 938361691001930141, 923619373141919932, 924398117683958821, 924426459253112636, 926010749130496340, 926047498183594290, 926530538620610967, 945296409882984631, 947873384145289850, 967229455655252680, 971406619635037674, 977500059155237747, 995627545925197347, 981578902412218090, 999186961174458499, 999891247297923594, 981827184820246911, 981831074726899704, 981834607948611671, 981842783730361729, 989729617903970676, 1019852140949643968, 1010626665790591601, 1013661530142538034, 1057763184406505700, 1076792641188303871, 1079535330656749130, 1079560939755545107, 1080213611798243209, 1065950967909568203, 1066654507859293403, 1081978850142291593, 1082430366392016776, 1082430456875435750, 1082430546475607967, 1084768554433866212, 1084768688449457130, 1105124566022035675, 1105791276366011491, 1106372780749038706, 1108133075629673557, 1110000899448086373, 1094106221667200271, 1094108530533726106, 1094110508637134278, 1114535091822626762, 1118662108306640591, 1133207254571805076, 1133217599609383527, 1125146165144986559, 1134492764338355995, 1134515034450761559, 1126098331522144173, 1126555288368710741, 1134896847256575319, 1134920632145199812, 1135442261452261940, 1135538725764395689, 1127368078645893759, 1127673608505632385, 1128385786864587750, 1129276668164500275, 1138556910296298680, 1130434089998644460, 1130561602069153990, 1141913626198357996, 1146235880517350529, 1146408450146450116, 1144821766157445572, 1144944626902829343, 1146223316781299250, 1146231339027145342, 1166758619393799107, 1167352913652898752, 1167378783944272913, 1168277371767686103, 1151373789838556009, 1168661848204384440, 1169342306661893473, 1169581081056880046, 1155006250823627046, 1171625288070571247, 1172209757040344505, 1172562059163674708, 1172950516850350787, 1173291146798962773, 1175364113013922394, 1176243703534151706, 1178281870441546816, 1179575868350681906, 1197149434393621614, 1200107229715429338, 1184026459257008703, 1187402454345151700, 1188584934136387294, 1202904431750519087, 1191399713058612161, 1191403492627432250, 1191405718417118299, 1205898816502170393, 1194157404073670419, 1194158623942315263, 1207581483275385888, 1208725575290781199, 1194360786055939394, 1210889248576632028, 1209874699977588647, 1210256658863991727, 1217472734879709251, 1217920697687130827, 1217929100913118190, 1217938125458878631, 1217965703167491815, 1217969057016379785, 1217981445000394516, 1217982988443106277, 1217985139192087743, 1217988478801006672, 1217990528142251530, 1221682323509508932, 1227484706988585342, 1232674352095743305, 1234605489892365178, 1262258790992685156, 1262484070097878024, 1264683017888321172, 1265701962680660966, 1265713813279650067, 1266477269462573632, 1267912358660233723, 1274559703614536490, 1275356316855058273, 1256540622125406409, 1279558795865919959, 1279607849322776151, 1279622572559088418, 1280462337882268589, 1289214257663825244, 1292146705161109184, 1292658022484131506, 1313003671121552359, 1313810948144644531, 1295634091992433793, 1295634110145331318, 1314359117073988907, 1314364005004963547, 1315227104122384263, 1316043519430196099, 1299229618052667749, 1316644160079858254, 1316647119689115416, 1316880410136989665, 1322509130335522001, 1330385267148754308, 1349360056557167811, 1353831020797026747, 1360964459477275660]"
        ],
        [
         "23",
         "host_acceptance_rate",
         "object",
         "450",
         "5.68",
         "[72821, 99238, 641360, 648497, 208801, 926604, 331151, 1034213, 1181536, 388399, 412848, 1832112, 1834997, 2012828, 2014854, 1533624, 1615895, 3020830, 3203677, 3206143, 3314930, 3382998, 3383300, 3524290, 3641725, 3769807, 3814415, 5268522, 5302362, 5472292, 5473403, 4272967, 5568794, 5734857, 5776201, 5782605, 6663734, 6682798, 6863620, 6987387, 7018697, 7212771, 7282315, 6443733, 6484622, 6514655, 6552418, 6552897, 7524616, 7682178, 8423436, 7880190, 7912117, 7917724, 8561397, 8736169, 8966009, 9801176, 9011339, 9053589, 9104416, 9878674, 9233701, 10114926, 9706595, 11193552, 11232084, 10406382, 11267714, 11352211, 10579776, 10639339, 11417636, 10749341, 10795221, 11634229, 10848085, 11834048, 11878822, 12395018, 12395830, 12099568, 12505135, 13339026, 12822904, 12860900, 12864747, 12878255, 13557482, 13593769, 12965595, 13669027, 13743690, 13746483, 13824564, 13824694, 13163877, 13954375, 13181481, 13984636, 13988827, 14174162, 14216510, 15254116, 15279977, 14623672, 14723841, 15748398, 15993926, 16142745, 16700069, 16759346, 17528865, 17529062, 16904707, 16969709, 17049214, 17083555, 17103422, 17144987, 17182284, 18252889, 18310068, 17272157, 18456546, 19774048, 18643951, 18996187, 20153377, 20180833, 20185109, 20188748, 19138743, 20226504, 19170663, 22542097, 22549377, 22569393, 21930834, 21939841, 22607982, 22642183, 22695387, 22913874, 22724998, 22743540, 23043938, 23319025, 23715688, 23716161, 23716247, 24073401, 24727118, 24276039, 24819360, 24365175, 24863203, 24369371, 24385633, 24934520, 24992475, 24547573, 24566287, 25312863, 25820788, 25883820, 25988358, 26162087, 26211358, 27336937, 26341997, 27539099, 27599571, 27600068, 27605918, 26418427, 27615894, 27617451, 27618661, 26552709, 26563089, 28071011, 28073916, 28117126, 26940647, 28502404, 28560731, 30220513, 30245612, 30265360, 30466981, 29066989, 29176552, 30581116, 30753359, 29376835, 29532305, 31303354, 29603997, 29868433, 32598853, 32011427, 32135840, 33010115, 33159295, 32433549, 32455684, 33206380, 33354782, 34467028, 34493941, 34532547, 34533144, 34011767, 34204455, 34322184, 35145429, 35867718, 35867887, 35868040, 35505572, 35591726, 35611685, 35611767, 35611837, 36440969, 36497612, 35824940, 35866840, 35867523, 36678559, 36714952, 36826691, 37796507, 37966528, 37967012, 37978708, 37406112, 37445128, 38987546, 38118898, 38120578, 39074453, 39477493, 39686632, 39687471, 39769189, 39808007, 40753512, 40753581, 39986180, 40753595, 40802008, 40802085, 40802136, 40802228, 40855773, 40606283, 40655941, 40748129, 40753387, 41230237, 41395029, 41495615, 41739723, 41745595, 41745960, 41857160, 42683930, 43699881, 43824956, 45108052, 45250837, 45296632, 45333195, 45359925, 44158030, 45709433, 48590770, 45968835, 50303363, 50345080, 50378324, 51462996, 51600586, 51838866, 52711912, 52821520, 52196082, 52274786, 52319964, 52405570, 54188355, 54188418, 54255739, 54255886, 53567561, 554092988304710652, 554106115061235323, 554107603599770813, 554109000653251610, 554112327483969367, 559364982878228875, 580088244214424763, 595451807363045433, 602089579883111617, 613829058322990491, 653265503925724074, 617288024711107485, 658395685181196120, 659904292924629719, 638300545340556802, 638400929135061122, 638403805969773939, 638405224053587919, 701070952508622673, 678155501942692283, 684054396347155859, 704823709237371920, 689192267696277012, 709122746464370986, 709131023580834958, 709862458708445067, 692088673017569356, 692804245589277408, 697660155237369866, 698317441115511619, 729587024997178381, 731728604856416202, 733295475350541479, 733781379397976409, 735184034045468044, 736246608049823269, 736250094898977332, 741672381133061454, 741679202560302667, 743108839905315839, 744760241432823124, 810786599401829580, 817196070864448954, 820942402659816771, 826047483616533970, 806966476473135544, 807675656270226907, 807680416085116912, 807682586483941230, 807684208837043608, 808099177768162020, 840985079777351460, 854890576400459864, 856411208202489480, 856998614508561337, 857678029839780214, 862140883533006821, 862192021601842747, 844687796517264787, 862192686255082895, 862203366054529007, 845591766511332689, 868705760879930083, 868713422818072962, 849904983657757980, 849933300156773473, 849944099007595605, 849950138449124609, 849964179862466363, 849975026602526987, 850612650379296516, 853449515928544509, 854114673599318410, 880825389206160218, 880829846973742643, 908449819355594566, 908452175534766030, 945296409882984631, 967229455655252680, 977466719617229854, 986826364565972927, 991065164307680743, 993589349889972325, 1019852140949643968, 1025279883239618667, 1025908460539009403, 1012849728019228568, 1036181568733815012, 1071730985957647632, 1080213611798243209, 1081097650992443024, 1065858804063666232, 1085345655421747380, 1071697268573341999, 1085396509266939914, 1085401248959818110, 1134492764338355995, 1129276668164500275, 1130434089998644460, 1172950516850350787, 1163549899953888023, 1177336194970006586, 1178281870441546816, 1189091917558426698, 1194079538606409784, 1208725575290781199, 1257931094690462511, 1259392220091411155, 1267863853974828921, 1267912358660233723, 1242571860995742026, 1269365159333474366, 1273034369814996072, 1273884094349697937, 1256540622125406409, 1280414729500201371, 1281741221260572620, 1284565992298040675, 1304367309459648642, 1287642033924279877, 1289075787499379023, 1293893214249848369, 1313003671121552359, 1296846633181172315, 1314490303546258762, 1315327981665565213, 1315738290123518468, 1297668926728482984, 1297785524499187085, 1299229618052667749, 1323103342484247859, 1326270504065555888, 1327610103574765126, 1340138537200486643, 1340450441110378619, 1328779125603693887, 1341108200015362423, 1329765995507211023, 1330884618680364469, 1333282711751266436, 1336270932708699266, 1336943390444240272, 1353495008046007005, 1353511913213150385, 1353517056640339487, 1353831020797026747, 1360322103669864742, 1360964459477275660, 1355813162837081504, 1362200893158496271, 1356526723381143238, 1363873562452756929, 1365893928883912698]"
        ],
        [
         "24",
         "host_is_superhost",
         "object",
         "294",
         "3.71",
         "[149749, 831560, 335961, 357073, 1503769, 1753171, 2873890, 3044146, 2503722, 2635900, 3552694, 3777330, 5003167, 5409458, 5425891, 4216103, 5641271, 5653637, 5691428, 6867498, 6868017, 6385898, 6599930, 6600504, 8378294, 7912117, 9917537, 10117414, 10976716, 10820972, 12323924, 12601531, 13162260, 14215939, 14366208, 14375002, 14817407, 15020296, 16046081, 16760743, 17487293, 16774862, 16820471, 17647919, 16969709, 18003605, 17252516, 18456546, 19772259, 19838910, 19910159, 18831853, 18904834, 18905564, 19305890, 19345685, 19384781, 20589372, 19546787, 20770032, 22338841, 22805916, 23333662, 23365669, 23444096, 23477048, 23639309, 24610567, 24519204, 25126871, 25367088, 25443000, 27302438, 27515029, 27636393, 27687653, 28022331, 27070576, 27096535, 28438681, 28629026, 30467176, 31563752, 30067616, 32488130, 32857874, 32096274, 33387873, 33535867, 34493941, 33905388, 33922446, 34769137, 34190201, 34827691, 34828586, 34385695, 35753480, 35835881, 37225514, 38014881, 38039440, 38148201, 38208643, 38237339, 39480397, 38568014, 39907998, 39995781, 40819642, 40606283, 40628515, 41236121, 42239335, 42418890, 41794005, 43363347, 44586566, 43828270, 45709433, 48456554, 48478221, 48949721, 49578014, 49723789, 48258018, 49864876, 48409863, 50015261, 50719000, 51054280, 51132554, 50436949, 51271764, 51385910, 52431342, 52431689, 52711912, 52880141, 52967339, 53253678, 52319964, 52416887, 53393194, 53457166, 53717203, 576925166911492754, 587047216167742674, 599953954122664992, 602030037747448001, 602089579883111617, 602600126594028892, 609769681910660098, 612306870764866953, 616703040333924885, 617439460572975089, 654947667271912278, 620309936761654143, 620315804338476983, 620327730605212540, 620332217975084264, 658395685181196120, 624537348830995631, 624675773517222415, 668624100482637049, 680143510068064957, 684648170377799415, 712088225086724526, 689750119988606795, 712113708309561812, 713468413653295397, 717289314940908905, 692398783044089715, 732522539484314144, 733235573952127957, 751969699715339396, 753310481166218809, 753689709697898013, 764974252654522587, 765034532290081966, 765115847361336372, 765134524093655303, 775158475945813412, 786818313032849476, 787024808576386804, 787035882963178360, 787051557306213827, 787069739879614242, 787086719246637295, 787100134766105538, 787114207051158657, 787137463012612394, 787152902567157850, 787166134283194242, 811736994018743520, 815797364829037633, 789832668314206901, 802633552724786344, 807172927993421544, 808715678478646782, 831749875617113346, 841060322078597452, 866708694519949048, 869627659266304781, 905012196765426125, 906418791661297145, 906464947432834918, 912080631363242453, 900316189302396486, 918773555791503555, 917793784353272176, 926010749130496340, 943237197679571427, 927219782121965863, 934496244339360087, 954829424053217642, 935238632273976717, 957890980987243124, 957995381075738308, 958585586787746669, 971406619635037674, 973876919369586833, 960750958293194658, 975990456804470675, 983142924055698204, 986826364565972927, 1017943737210623048, 1020212997792042744, 1020944684221145146, 1006449664247736876, 1046901532589310562, 1073147584627293029, 1060674935133918036, 1075475518106635125, 1064398464517700062, 1083371516537937524, 1083553473678978563, 1070516367301049544, 1104799871389380111, 1109514300332624150, 1109521954576816643, 1095808676974831779, 1114981641809039543, 1096910057225390433, 1116738369193202892, 1121643638051193011, 1133109670888736134, 1134532765975756746, 1128961993694770392, 1130303866671637604, 1144158094207221453, 1154226600204779461, 1155006250823627046, 1156539906392343268, 1173684881354469863, 1177395821061073327, 1178281870441546816, 1181337689859769761, 1183146326111268842, 1189837933325037926, 1192060107472842224, 1211515539719764431, 1211647294048663611, 1209438882312960574, 1220898313472090238, 1223632234027887776, 1223667650427122081, 1262258790992685156, 1237443157689096307, 1266593751112680720, 1243264183793133512, 1244317297172390794, 1268671630900869265, 1253733176449330034, 1284811362016973772, 1303535450225069353, 1287642033924279877, 1292658022484131506, 1297148939963358992, 1316880410136989665, 1330492198104237106, 1330561066615318397, 1344706414158557191, 1334721478605903218, 1346370365532280550, 1338611794887931220, 1350857440804188101, 1347881259077484850, 1352223747164241456, 1354139981539751020, 1354198254370535190, 1350809073039465540, 1361611678638605813, 1363939681345638896]"
        ],
        [
         "25",
         "description",
         "object",
         "216",
         "2.73",
         "[69877, 431287, 441868, 71874, 74042, 531274, 544834, 142085, 617429, 634018, 155015, 156728, 170523, 694828, 208801, 218393, 713783, 713788, 220238, 246649, 784879, 804777, 819328, 272585, 846521, 867034, 879892, 884350, 895952, 309411, 314094, 906370, 926604, 945052, 954068, 962131, 975073, 1000262, 1011701, 1034640, 344046, 1043678, 1119040, 1181536, 1257881, 1266716, 1269492, 1275433, 1316352, 1344540, 1922670, 1958392, 2014854, 1526920, 1533624, 1583452, 1816508, 1816521, 1816532, 3003073, 3356926, 3743534, 3743704, 4929237, 4118238, 5360928, 5409458, 5669720, 5782605, 8301935, 8307927, 9242824, 11530067, 12961008, 13812868, 13201733, 14385762, 14401813, 14402172, 15432544, 15672605, 16541087, 17885954, 17003338, 19321660, 23122806, 23408595, 24154421, 25095242, 25573346, 25245252, 27576962, 27939676, 28711981, 30753359, 29376835, 31256519, 29952324, 34532547, 33954971, 35028067, 35156716, 34438543, 35223769, 35263784, 35596034, 36782247, 37489290, 39067098, 39074453, 39351308, 39384737, 38821048, 40398778, 42054835, 42054880, 41555311, 42379243, 41739723, 41857160, 43092202, 43786480, 44056070, 45444597, 45541096, 45670115, 48590770, 46416374, 49477879, 48008824, 48129790, 49844421, 48164953, 50765629, 50770430, 50221934, 52487138, 52548042, 52895190, 52196082, 53554924, 53684196, 568566195566921442, 592400705487894803, 572348858093960732, 593190861493044692, 572940417677461635, 602672645101860779, 656514440936923339, 672151723194425517, 672156581317155373, 672162738836687009, 669402056346324603, 677422779058575741, 704931214865202401, 689022023725149058, 718716660876105339, 698435356902430959, 699111408317041261, 766609896104129230, 815797364829037633, 802041056910149058, 843252320100331133, 878054612958383638, 902491000918644940, 915042070612918566, 925241440239476781, 948405674622428602, 950115527752009625, 933881419270448963, 935585069632792190, 1025908460539009403, 1030357275773436331, 1033104815769384346, 1036181568733815012, 1047532247583677539, 1072184983215544612, 1075475518106635125, 1075899004294000726, 1076041088275296522, 1076821557693274506, 1078979215715393851, 1065904867798269940, 1070005023752299930, 1088153875934071268, 1117229059174641052, 1123730901907290930, 1126024346850122681, 1141832358859958290, 1144158094207221453, 1147529050389901865, 1148630061800522800, 1149811395005690362, 1153612225066357985, 1169425183385642388, 1169432943394301687, 1158639976913028413, 1160640290754110803, 1161386959894023798, 1163757644194471672, 1166477941706592934, 1205923832719813513, 1220845510783223547, 1231657321858852570, 1231657527696515473, 1265882383762684609, 1249110481871270428, 1279558795865919959, 1279607849322776151, 1279622572559088418, 1283955325793432464, 1295517957839778358, 1333282711751266436, 1350863100933039235, 1360964459477275660, 1363873562452756929]"
        ],
        [
         "26",
         "bedrooms",
         "float64",
         "153",
         "1.93",
         "[426097, 303040, 315637, 2004220, 1581387, 2253981, 2260596, 5473403, 4626689, 6663734, 6763463, 6867498, 6868017, 6878247, 6919352, 6484622, 6599930, 6600504, 7524616, 7848012, 7880190, 7917724, 8966009, 9053589, 9878674, 9233701, 10406382, 11267714, 10749341, 11634229, 13205131, 13285492, 12860900, 13551446, 13743690, 13746483, 13824564, 13163877, 14174162, 14723841, 16700069, 17528865, 17529062, 17603602, 18080652, 17182284, 18781224, 20153377, 20185109, 20188748, 22549377, 22569393, 22743540, 23043938, 23715688, 23716161, 23716247, 24819360, 24863203, 24438480, 24509706, 24547573, 24566287, 25674378, 26211358, 28502404, 29066989, 29532305, 29603997, 32432570, 33354782, 34277743, 35181831, 35867718, 35867887, 35868040, 35818787, 35824940, 35866840, 35867523, 36714952, 37445128, 39430631, 39477493, 39686632, 39687471, 39818205, 41581713, 41745595, 41745960, 41831435, 41832487, 45333195, 44158030, 48327554, 50345080, 50347742, 51398216, 51398585, 53178120, 580088244214424763, 592707754645165495, 573074131933435142, 651177437063812379, 623807345597711079, 664942766518802790, 638300545340556802, 638400929135061122, 638403805969773939, 638405224053587919, 709862458708445067, 692537214742615034, 724507690316470874, 731728604856416202, 735184034045468044, 736246608049823269, 736250094898977332, 741970547484053891, 768251633989466183, 774224422695537008, 810786599401829580, 826047483616533970, 854218067112736035, 844687796517264787, 999113356706570190, 1019852140949643968, 1013661530142538034, 1039196023195025271, 1039571295772559304, 1039586921041220381, 1077608680774470022, 1105124566022035675, 1099401012384269036, 1121215824917542212, 1134896847256575319, 1135442261452261940, 1135538725764395689, 1138556910296298680, 1171818431889131357, 1179741567478389538, 1180333019198536294, 1204240005221117556, 1204249760760152858, 1194018327831285928, 1207581483275385888, 1194312928732826777, 1231854773417586490, 1231867779577726835, 1236870076179595575, 1267863853974828921, 1275356316855058273, 1284028137199662761, 1342637954879367708]"
        ],
        [
         "27",
         "has_availability",
         "object",
         "141",
         "1.78",
         "[72821, 1615895, 3020830, 3203677, 5473403, 4272967, 6682798, 6863620, 6987387, 6443733, 6484622, 6514655, 7524616, 7682178, 8423436, 7917724, 8561397, 8966009, 9053589, 9104416, 9233701, 9236574, 11352211, 10749341, 11878822, 12395018, 12395830, 12505135, 12860900, 13593769, 13824564, 13163877, 14174162, 15279977, 14623672, 16700069, 18252889, 20185109, 20188748, 21470390, 22743540, 23319025, 24819360, 24863203, 24992475, 24547573, 24566287, 25988358, 27336937, 26341997, 26418427, 28560731, 29066989, 30753359, 29352576, 29505444, 29532305, 32135840, 33206380, 33923459, 33952729, 34532547, 36065811, 36066436, 36066515, 35505069, 37445128, 39430631, 39986180, 40855773, 40629507, 40629964, 40748129, 40751721, 40753284, 40753310, 40753325, 41745595, 41745960, 41818569, 41831435, 41832487, 45108052, 52821520, 54310852, 54310897, 594584114878427891, 613829058322990491, 701070952508622673, 709862458708445067, 716675001218374596, 697660155237369866, 731728604856416202, 733295475350541479, 734550726176649255, 735184034045468044, 736246608049823269, 736250094898977332, 736722189382950462, 741970547484053891, 744760241432823124, 766537876117575305, 767207716602797434, 768251633989466183, 835990297827592549, 836001545790623347, 862036281404317382, 868705760879930083, 868713422818072962, 868726020325156664, 880825389206160218, 880829846973742643, 881137013820539482, 967229455655252680, 1054283059928628507, 1079560939755545107, 1081978850142291593, 1110000899448086373, 1118662108306640591, 1134492764338355995, 1126555288368710741, 1127673608505632385, 1151373789838556009, 1168653956385179970, 1203385114990860702, 1203385314187409577, 1203385650245229293, 1262484070097878024, 1264683017888321172, 1275356316855058273, 1279558795865919959, 1279607849322776151, 1279622572559088418, 1284565992298040675, 1315327981665565213, 1324452788295869104, 1318576470347265316, 1349209672171947022, 1349360056557167811, 1360322103669864742, 1360964459477275660]"
        ],
        [
         "28",
         "host_identity_verified",
         "object",
         "10",
         "0.13",
         "[25820788, 28071011, 33010115, 849904983657757980, 849933300156773473, 849944099007595605, 849950138449124609, 849964179862466363, 849975026602526987, 993589349889972325]"
        ],
        [
         "29",
         "host_since",
         "object",
         "10",
         "0.13",
         "[25820788, 28071011, 33010115, 849904983657757980, 849933300156773473, 849944099007595605, 849950138449124609, 849964179862466363, 849975026602526987, 993589349889972325]"
        ],
        [
         "30",
         "host_verifications",
         "object",
         "10",
         "0.13",
         "[25820788, 28071011, 33010115, 849904983657757980, 849933300156773473, 849944099007595605, 849950138449124609, 849964179862466363, 849975026602526987, 993589349889972325]"
        ],
        [
         "31",
         "host_total_listings_count",
         "float64",
         "10",
         "0.13",
         "[25820788, 28071011, 33010115, 849904983657757980, 849933300156773473, 849944099007595605, 849950138449124609, 849964179862466363, 849975026602526987, 993589349889972325]"
        ],
        [
         "32",
         "host_listings_count",
         "float64",
         "10",
         "0.13",
         "[25820788, 28071011, 33010115, 849904983657757980, 849933300156773473, 849944099007595605, 849950138449124609, 849964179862466363, 849975026602526987, 993589349889972325]"
        ],
        [
         "33",
         "host_picture_url",
         "object",
         "10",
         "0.13",
         "[25820788, 28071011, 33010115, 849904983657757980, 849933300156773473, 849944099007595605, 849950138449124609, 849964179862466363, 849975026602526987, 993589349889972325]"
        ],
        [
         "34",
         "host_thumbnail_url",
         "object",
         "10",
         "0.13",
         "[25820788, 28071011, 33010115, 849904983657757980, 849933300156773473, 849944099007595605, 849950138449124609, 849964179862466363, 849975026602526987, 993589349889972325]"
        ],
        [
         "35",
         "host_name",
         "object",
         "10",
         "0.13",
         "[25820788, 28071011, 33010115, 849904983657757980, 849933300156773473, 849944099007595605, 849950138449124609, 849964179862466363, 849975026602526987, 993589349889972325]"
        ],
        [
         "36",
         "host_has_profile_pic",
         "object",
         "10",
         "0.13",
         "[25820788, 28071011, 33010115, 849904983657757980, 849933300156773473, 849944099007595605, 849950138449124609, 849964179862466363, 849975026602526987, 993589349889972325]"
        ],
        [
         "37",
         "bathrooms_text",
         "object",
         "6",
         "0.08",
         "[1316352, 15812750, 32118463, 996534853014726550, 1016695412752790117, 1110690216493741810]"
        ],
        [
         "38",
         "picture_url",
         "object",
         "1",
         "0.01",
         "[1279558795865919959]"
        ],
        [
         "39",
         "calculated_host_listings_count_shared_rooms",
         "int64",
         "0",
         "0.0",
         "[]"
        ],
        [
         "40",
         "number_of_reviews",
         "int64",
         "0",
         "0.0",
         "[]"
        ],
        [
         "41",
         "calculated_host_listings_count_private_rooms",
         "int64",
         "0",
         "0.0",
         "[]"
        ],
        [
         "42",
         "availability_90",
         "int64",
         "0",
         "0.0",
         "[]"
        ],
        [
         "43",
         "calendar_last_scraped",
         "object",
         "0",
         "0.0",
         "[]"
        ],
        [
         "44",
         "number_of_reviews_l30d",
         "int64",
         "0",
         "0.0",
         "[]"
        ],
        [
         "45",
         "number_of_reviews_ltm",
         "int64",
         "0",
         "0.0",
         "[]"
        ],
        [
         "46",
         "calculated_host_listings_count",
         "int64",
         "0",
         "0.0",
         "[]"
        ],
        [
         "47",
         "availability_eoy",
         "int64",
         "0",
         "0.0",
         "[]"
        ],
        [
         "48",
         "number_of_reviews_ly",
         "int64",
         "0",
         "0.0",
         "[]"
        ],
        [
         "49",
         "estimated_occupancy_l365d",
         "int64",
         "0",
         "0.0",
         "[]"
        ]
       ],
       "shape": {
        "columns": 5,
        "rows": 79
       }
      },
      "text/html": [
       "<div>\n",
       "<style scoped>\n",
       "    .dataframe tbody tr th:only-of-type {\n",
       "        vertical-align: middle;\n",
       "    }\n",
       "\n",
       "    .dataframe tbody tr th {\n",
       "        vertical-align: top;\n",
       "    }\n",
       "\n",
       "    .dataframe thead th {\n",
       "        text-align: right;\n",
       "    }\n",
       "</style>\n",
       "<table border=\"1\" class=\"dataframe\">\n",
       "  <thead>\n",
       "    <tr style=\"text-align: right;\">\n",
       "      <th></th>\n",
       "      <th>column</th>\n",
       "      <th>dtype</th>\n",
       "      <th>num_missing</th>\n",
       "      <th>percent_missing</th>\n",
       "      <th>affected_row_ids</th>\n",
       "    </tr>\n",
       "  </thead>\n",
       "  <tbody>\n",
       "    <tr>\n",
       "      <th>0</th>\n",
       "      <td>calendar_updated</td>\n",
       "      <td>float64</td>\n",
       "      <td>7921</td>\n",
       "      <td>100.00</td>\n",
       "      <td>[6624, 27116, 44527, 47383, 49656, 60304, 6171...</td>\n",
       "    </tr>\n",
       "    <tr>\n",
       "      <th>1</th>\n",
       "      <td>host_neighbourhood</td>\n",
       "      <td>object</td>\n",
       "      <td>4121</td>\n",
       "      <td>52.03</td>\n",
       "      <td>[72740, 72821, 531863, 145631, 634018, 634685,...</td>\n",
       "    </tr>\n",
       "    <tr>\n",
       "      <th>2</th>\n",
       "      <td>host_about</td>\n",
       "      <td>object</td>\n",
       "      <td>3683</td>\n",
       "      <td>46.50</td>\n",
       "      <td>[27116, 49656, 426097, 495857, 142085, 617429,...</td>\n",
       "    </tr>\n",
       "    <tr>\n",
       "      <th>3</th>\n",
       "      <td>neighborhood_overview</td>\n",
       "      <td>object</td>\n",
       "      <td>3432</td>\n",
       "      <td>43.33</td>\n",
       "      <td>[61714, 69877, 431287, 441868, 71874, 72821, 5...</td>\n",
       "    </tr>\n",
       "    <tr>\n",
       "      <th>4</th>\n",
       "      <td>neighbourhood</td>\n",
       "      <td>object</td>\n",
       "      <td>3432</td>\n",
       "      <td>43.33</td>\n",
       "      <td>[61714, 69877, 431287, 441868, 71874, 72821, 5...</td>\n",
       "    </tr>\n",
       "    <tr>\n",
       "      <th>...</th>\n",
       "      <td>...</td>\n",
       "      <td>...</td>\n",
       "      <td>...</td>\n",
       "      <td>...</td>\n",
       "      <td>...</td>\n",
       "    </tr>\n",
       "    <tr>\n",
       "      <th>74</th>\n",
       "      <td>minimum_maximum_nights</td>\n",
       "      <td>int64</td>\n",
       "      <td>0</td>\n",
       "      <td>0.00</td>\n",
       "      <td>[]</td>\n",
       "    </tr>\n",
       "    <tr>\n",
       "      <th>75</th>\n",
       "      <td>maximum_maximum_nights</td>\n",
       "      <td>int64</td>\n",
       "      <td>0</td>\n",
       "      <td>0.00</td>\n",
       "      <td>[]</td>\n",
       "    </tr>\n",
       "    <tr>\n",
       "      <th>76</th>\n",
       "      <td>minimum_nights_avg_ntm</td>\n",
       "      <td>float64</td>\n",
       "      <td>0</td>\n",
       "      <td>0.00</td>\n",
       "      <td>[]</td>\n",
       "    </tr>\n",
       "    <tr>\n",
       "      <th>77</th>\n",
       "      <td>maximum_nights_avg_ntm</td>\n",
       "      <td>float64</td>\n",
       "      <td>0</td>\n",
       "      <td>0.00</td>\n",
       "      <td>[]</td>\n",
       "    </tr>\n",
       "    <tr>\n",
       "      <th>78</th>\n",
       "      <td>amenities</td>\n",
       "      <td>object</td>\n",
       "      <td>0</td>\n",
       "      <td>0.00</td>\n",
       "      <td>[]</td>\n",
       "    </tr>\n",
       "  </tbody>\n",
       "</table>\n",
       "<p>79 rows × 5 columns</p>\n",
       "</div>"
      ],
      "text/plain": [
       "                    column    dtype  num_missing  percent_missing  \\\n",
       "0         calendar_updated  float64         7921           100.00   \n",
       "1       host_neighbourhood   object         4121            52.03   \n",
       "2               host_about   object         3683            46.50   \n",
       "3    neighborhood_overview   object         3432            43.33   \n",
       "4            neighbourhood   object         3432            43.33   \n",
       "..                     ...      ...          ...              ...   \n",
       "74  minimum_maximum_nights    int64            0             0.00   \n",
       "75  maximum_maximum_nights    int64            0             0.00   \n",
       "76  minimum_nights_avg_ntm  float64            0             0.00   \n",
       "77  maximum_nights_avg_ntm  float64            0             0.00   \n",
       "78               amenities   object            0             0.00   \n",
       "\n",
       "                                     affected_row_ids  \n",
       "0   [6624, 27116, 44527, 47383, 49656, 60304, 6171...  \n",
       "1   [72740, 72821, 531863, 145631, 634018, 634685,...  \n",
       "2   [27116, 49656, 426097, 495857, 142085, 617429,...  \n",
       "3   [61714, 69877, 431287, 441868, 71874, 72821, 5...  \n",
       "4   [61714, 69877, 431287, 441868, 71874, 72821, 5...  \n",
       "..                                                ...  \n",
       "74                                                 []  \n",
       "75                                                 []  \n",
       "76                                                 []  \n",
       "77                                                 []  \n",
       "78                                                 []  \n",
       "\n",
       "[79 rows x 5 columns]"
      ]
     },
     "execution_count": 230,
     "metadata": {},
     "output_type": "execute_result"
    }
   ],
   "source": [
    "missing_df = missing_info(listings, 'id', 'percent_missing', False)\n",
    "missing_df"
   ]
  },
  {
   "cell_type": "markdown",
   "id": "9a495937",
   "metadata": {},
   "source": [
    "## delete columns whith to many missing values or which will not be used"
   ]
  },
  {
   "cell_type": "code",
   "execution_count": null,
   "id": "b5495b36",
   "metadata": {},
   "outputs": [],
   "source": [
    "delet_columns = [\n",
    "    'calendar_updated', 'host_neighbourhood', 'host_about', 'neighbourhood', \n",
    "    'neighborhood_overview', 'host_location', 'estimated_revenue_l365d', 'last_scraped'\n",
    "    ]\n",
    "\n",
    "listings = listings.drop(delet_columns, axis=1)"
   ]
  },
  {
   "cell_type": "markdown",
   "id": "2fb9d892",
   "metadata": {},
   "source": [
    "## Deleting Rows based on missing values"
   ]
  },
  {
   "cell_type": "code",
   "execution_count": 232,
   "id": "188ee72e",
   "metadata": {},
   "outputs": [],
   "source": [
    "def shared_values(column1, column2):\n",
    "    clmn1_ids = missing_df[missing_df['column'] == column1]['affected_row_ids'].values[0]\n",
    "    clmn2_ids = missing_df[missing_df['column'] == column2]['affected_row_ids'].values[0]\n",
    "\n",
    "    shared = list(set(clmn1_ids) & set(clmn2_ids))\n",
    "    return shared"
   ]
  },
  {
   "cell_type": "markdown",
   "id": "6ed92eb8",
   "metadata": {},
   "source": [
    "### Beds and Bedrooms"
   ]
  },
  {
   "cell_type": "code",
   "execution_count": 233,
   "id": "48515baa",
   "metadata": {},
   "outputs": [
    {
     "name": "stdout",
     "output_type": "stream",
     "text": [
      "      beds  bedrooms\n",
      "0      6.0       2.0\n",
      "1      2.0       1.0\n",
      "2      3.0       3.0\n",
      "3      1.0       1.0\n",
      "4      2.0       2.0\n",
      "...    ...       ...\n",
      "7916   3.0       1.0\n",
      "7917   6.0       4.0\n",
      "7918   4.0       4.0\n",
      "7919   1.0       1.0\n",
      "7920   2.0       1.0\n",
      "\n",
      "[7921 rows x 2 columns]\n",
      "unique bed vals: [ 6.  2.  3.  1. nan  4.  5.  7.  0.  8.  9. 12. 11. 13. 10. 15.]\n",
      "unique bedroom vals: [ 2.  1.  3. nan  7.  5.  4.  0.  6.  8. 10. 14. 11. 17. 20.]\n"
     ]
    }
   ],
   "source": [
    "print(listings[['beds', 'bedrooms']])\n",
    "print('unique bed vals:', listings['beds'].unique())\n",
    "print('unique bedroom vals:', listings['bedrooms'].unique())"
   ]
  },
  {
   "cell_type": "code",
   "execution_count": 234,
   "id": "760703f6",
   "metadata": {},
   "outputs": [
    {
     "data": {
      "text/plain": [
       "(151, 1.906324958969827)"
      ]
     },
     "execution_count": 234,
     "metadata": {},
     "output_type": "execute_result"
    }
   ],
   "source": [
    "shared_ids = shared_values('beds', 'bedrooms')\n",
    "length = len(shared_ids)\n",
    "length, (length/listings.shape[0])*100"
   ]
  },
  {
   "cell_type": "code",
   "execution_count": 235,
   "id": "ac205d8c",
   "metadata": {},
   "outputs": [],
   "source": [
    "# delet all rows with missing num of bed and num of bedrooms\n",
    "listings = listings[~listings['id'].isin(shared_ids)]"
   ]
  },
  {
   "cell_type": "code",
   "execution_count": 236,
   "id": "885be929",
   "metadata": {},
   "outputs": [
    {
     "data": {
      "text/plain": [
       "1.48927577851566"
      ]
     },
     "execution_count": 236,
     "metadata": {},
     "output_type": "execute_result"
    }
   ],
   "source": [
    "# caluculate average Beds per Bedroom\n",
    "bed_filtered_listings = listings.dropna(subset=['beds', 'bedrooms'])\n",
    "avg_beds_per_bedroom = bed_filtered_listings['beds'].sum() / bed_filtered_listings['bedrooms'].sum()\n",
    "avg_beds_per_bedroom"
   ]
  },
  {
   "cell_type": "code",
   "execution_count": 237,
   "id": "d1a2e5ff",
   "metadata": {},
   "outputs": [],
   "source": [
    "def calc_distribution(fix_value, of_column, to_column, df):\n",
    "    \n",
    "    # print(f'Probabilities for {to_column} given {of_column}={fix_value}\\n')\n",
    "\n",
    "    # remove rows with null values\n",
    "    filtered_df = df.dropna(subset=[of_column, to_column])\n",
    "    filtered_df = filtered_df[filtered_df[of_column] == fix_value]\n",
    "    # print(filtered_df)\n",
    "\n",
    "    # frequency of each unique ratio\n",
    "    frequency = filtered_df[to_column].value_counts()\n",
    "\n",
    "    # calc probabilities\n",
    "    tot = frequency.sum()\n",
    "    probability = frequency / tot\n",
    "    distribution_df = pd.DataFrame({to_column: frequency.index, 'Probability': probability.values})\n",
    "    # print(distribution_df)\n",
    "    return distribution_df"
   ]
  },
  {
   "cell_type": "code",
   "execution_count": 238,
   "id": "db9f8ce6",
   "metadata": {},
   "outputs": [
    {
     "data": {
      "application/vnd.microsoft.datawrangler.viewer.v0+json": {
       "columns": [
        {
         "name": "index",
         "rawType": "int64",
         "type": "integer"
        },
        {
         "name": "bedrooms",
         "rawType": "float64",
         "type": "float"
        },
        {
         "name": "Probability",
         "rawType": "float64",
         "type": "float"
        }
       ],
       "ref": "b46f641d-c087-46d7-b5f5-1764fab23f78",
       "rows": [
        [
         "0",
         "1.0",
         "0.9471750114836932"
        ],
        [
         "1",
         "0.0",
         "0.027101515847496555"
        ],
        [
         "2",
         "2.0",
         "0.020211299954065228"
        ],
        [
         "3",
         "3.0",
         "0.004134129536058797"
        ],
        [
         "4",
         "7.0",
         "0.0009186954524575103"
        ],
        [
         "5",
         "4.0",
         "0.00045934772622875517"
        ]
       ],
       "shape": {
        "columns": 2,
        "rows": 6
       }
      },
      "text/html": [
       "<div>\n",
       "<style scoped>\n",
       "    .dataframe tbody tr th:only-of-type {\n",
       "        vertical-align: middle;\n",
       "    }\n",
       "\n",
       "    .dataframe tbody tr th {\n",
       "        vertical-align: top;\n",
       "    }\n",
       "\n",
       "    .dataframe thead th {\n",
       "        text-align: right;\n",
       "    }\n",
       "</style>\n",
       "<table border=\"1\" class=\"dataframe\">\n",
       "  <thead>\n",
       "    <tr style=\"text-align: right;\">\n",
       "      <th></th>\n",
       "      <th>bedrooms</th>\n",
       "      <th>Probability</th>\n",
       "    </tr>\n",
       "  </thead>\n",
       "  <tbody>\n",
       "    <tr>\n",
       "      <th>0</th>\n",
       "      <td>1.0</td>\n",
       "      <td>0.947175</td>\n",
       "    </tr>\n",
       "    <tr>\n",
       "      <th>1</th>\n",
       "      <td>0.0</td>\n",
       "      <td>0.027102</td>\n",
       "    </tr>\n",
       "    <tr>\n",
       "      <th>2</th>\n",
       "      <td>2.0</td>\n",
       "      <td>0.020211</td>\n",
       "    </tr>\n",
       "    <tr>\n",
       "      <th>3</th>\n",
       "      <td>3.0</td>\n",
       "      <td>0.004134</td>\n",
       "    </tr>\n",
       "    <tr>\n",
       "      <th>4</th>\n",
       "      <td>7.0</td>\n",
       "      <td>0.000919</td>\n",
       "    </tr>\n",
       "    <tr>\n",
       "      <th>5</th>\n",
       "      <td>4.0</td>\n",
       "      <td>0.000459</td>\n",
       "    </tr>\n",
       "  </tbody>\n",
       "</table>\n",
       "</div>"
      ],
      "text/plain": [
       "   bedrooms  Probability\n",
       "0       1.0     0.947175\n",
       "1       0.0     0.027102\n",
       "2       2.0     0.020211\n",
       "3       3.0     0.004134\n",
       "4       7.0     0.000919\n",
       "5       4.0     0.000459"
      ]
     },
     "execution_count": 238,
     "metadata": {},
     "output_type": "execute_result"
    }
   ],
   "source": [
    "calc_distribution(1.,'beds', 'bedrooms', listings)"
   ]
  },
  {
   "cell_type": "code",
   "execution_count": 239,
   "id": "d213ccbb",
   "metadata": {},
   "outputs": [],
   "source": [
    "def distribution_imputation(row, of_column, to_column, distribution_dict):\n",
    "    \n",
    "    # if to_column has missing value, impute based on distribution of of_column\n",
    "    if pd.isnull(row[to_column]):\n",
    "        fix_value = row[of_column]\n",
    "        distribution = distribution_dict.get(fix_value, None)\n",
    "        if distribution is not None:\n",
    "            return np.random.choice(distribution[to_column], p=distribution['Probability'])\n",
    "    return row[to_column]"
   ]
  },
  {
   "cell_type": "code",
   "execution_count": 240,
   "id": "86952b80",
   "metadata": {},
   "outputs": [
    {
     "name": "stdout",
     "output_type": "stream",
     "text": [
      "{6.0:    bedrooms  Probability\n",
      "0       3.0     0.362963\n",
      "1       2.0     0.288889\n",
      "2       4.0     0.214815\n",
      "3       1.0     0.066667\n",
      "4       5.0     0.037037\n",
      "5       6.0     0.022222\n",
      "6       7.0     0.007407, 2.0:    bedrooms  Probability\n",
      "0       1.0     0.612294\n",
      "1       2.0     0.369797\n",
      "2       0.0     0.015005\n",
      "3       3.0     0.002904, 3.0:    bedrooms  Probability\n",
      "0       2.0     0.627790\n",
      "1       1.0     0.225342\n",
      "2       3.0     0.138949\n",
      "3       0.0     0.005040\n",
      "4       4.0     0.002880, 1.0:    bedrooms  Probability\n",
      "0       1.0     0.947175\n",
      "1       0.0     0.027102\n",
      "2       2.0     0.020211\n",
      "3       3.0     0.004134\n",
      "4       7.0     0.000919\n",
      "5       4.0     0.000459, 4.0:    bedrooms  Probability\n",
      "0       2.0     0.537772\n",
      "1       3.0     0.288092\n",
      "2       1.0     0.115237\n",
      "3       4.0     0.057618\n",
      "4       0.0     0.001280, 5.0:    bedrooms  Probability\n",
      "0       3.0     0.467153\n",
      "1       2.0     0.317518\n",
      "2       4.0     0.135036\n",
      "3       1.0     0.047445\n",
      "4       5.0     0.032847, 7.0:    bedrooms  Probability\n",
      "0       3.0     0.358974\n",
      "1       4.0     0.230769\n",
      "2       2.0     0.179487\n",
      "3       5.0     0.179487\n",
      "4       7.0     0.025641\n",
      "5       6.0     0.025641, 0.0:    bedrooms  Probability\n",
      "0       1.0     0.704545\n",
      "1       2.0     0.204545\n",
      "2       3.0     0.045455\n",
      "3       0.0     0.022727\n",
      "4       5.0     0.011364\n",
      "5       4.0     0.011364, 8.0:    bedrooms  Probability\n",
      "0       3.0     0.347826\n",
      "1       4.0     0.347826\n",
      "2       5.0     0.130435\n",
      "3       2.0     0.086957\n",
      "4       6.0     0.086957, 9.0:    bedrooms  Probability\n",
      "0       3.0     0.315789\n",
      "1       4.0     0.210526\n",
      "2       6.0     0.210526\n",
      "3       5.0     0.157895\n",
      "4       2.0     0.052632\n",
      "5       1.0     0.052632, 12.0:    bedrooms  Probability\n",
      "0      14.0     0.285714\n",
      "1       7.0     0.285714\n",
      "2       5.0     0.142857\n",
      "3       4.0     0.142857\n",
      "4       6.0     0.142857, 11.0:    bedrooms  Probability\n",
      "0       2.0          0.5\n",
      "1      11.0          0.5, 13.0:    bedrooms  Probability\n",
      "0       7.0          0.5\n",
      "1       4.0          0.5, 10.0:    bedrooms  Probability\n",
      "0       7.0         0.50\n",
      "1       6.0         0.25\n",
      "2       8.0         0.25, 15.0:    bedrooms  Probability\n",
      "0       5.0          1.0}\n"
     ]
    }
   ],
   "source": [
    "beds_distribution_dict = {value: calc_distribution(value, 'beds', 'bedrooms', listings) \n",
    "                          for value in listings['beds'].dropna().unique()}\n",
    "print(beds_distribution_dict)\n",
    "\n",
    "listings['bedrooms'] = listings.apply(\n",
    "     lambda row: distribution_imputation(row, 'beds', 'bedrooms', beds_distribution_dict), axis=1)"
   ]
  },
  {
   "cell_type": "markdown",
   "id": "30b8cc87",
   "metadata": {},
   "source": [
    "### Bathrooms\n",
    "\n",
    "- On the Airbnb web-site, the bathrooms field has evolved from a number (`bathrooms`) to a textual description (`bathrooms_text`). For older scrapes, `bathrooms` is used.\""
   ]
  },
  {
   "cell_type": "code",
   "execution_count": 241,
   "id": "a1c9cdd1",
   "metadata": {},
   "outputs": [
    {
     "data": {
      "application/vnd.microsoft.datawrangler.viewer.v0+json": {
       "columns": [
        {
         "name": "index",
         "rawType": "int64",
         "type": "integer"
        },
        {
         "name": "column",
         "rawType": "object",
         "type": "string"
        },
        {
         "name": "dtype",
         "rawType": "object",
         "type": "string"
        },
        {
         "name": "num_missing",
         "rawType": "int64",
         "type": "integer"
        },
        {
         "name": "percent_missing",
         "rawType": "float64",
         "type": "float"
        },
        {
         "name": "affected_row_ids",
         "rawType": "object",
         "type": "unknown"
        }
       ],
       "ref": "66e3ad52-610f-4323-9364-27d3ef0f9a37",
       "rows": [
        [
         "0",
         "accommodates",
         "int64",
         "0",
         "0.0",
         "[]"
        ],
        [
         "1",
         "amenities",
         "object",
         "0",
         "0.0",
         "[]"
        ],
        [
         "2",
         "availability_30",
         "int64",
         "0",
         "0.0",
         "[]"
        ],
        [
         "3",
         "availability_365",
         "int64",
         "0",
         "0.0",
         "[]"
        ],
        [
         "4",
         "availability_60",
         "int64",
         "0",
         "0.0",
         "[]"
        ],
        [
         "5",
         "availability_90",
         "int64",
         "0",
         "0.0",
         "[]"
        ],
        [
         "6",
         "availability_eoy",
         "int64",
         "0",
         "0.0",
         "[]"
        ],
        [
         "7",
         "bathrooms",
         "float64",
         "755",
         "9.72",
         "[72821, 99238, 149749, 676323, 208801, 719981, 740308, 804777, 268865, 888033, 289477, 314923, 331151, 1005533, 1038620, 1169013, 388399, 1832112, 1834997, 1316352, 1958392, 1973495, 1424680, 1482860, 1533624, 1583452, 1615895, 1807274, 2322764, 3020830, 2377640, 2402601, 3203677, 2559866, 3314930, 3356926, 3524290, 3589795, 3743704, 4691319, 3814415, 4826958, 5079256, 5268522, 5302362, 5349074, 4067549, 4118179, 4246816, 4272967, 4302018, 4332045, 5734857, 4514733, 4523238, 5734956, 6682798, 6086105, 6791981, 6863620, 6096530, 6908509, 6152631, 6987387, 7018697, 7212771, 7282315, 6443733, 6514655, 6552418, 6571055, 7682178, 7718939, 8423436, 7969977, 8561397, 8736169, 9763587, 9801176, 9104416, 9917563, 9236574, 9657046, 10203180, 11037556, 11092920, 10321107, 11227476, 11232084, 11352211, 10579776, 10639339, 11417636, 10795221, 10848085, 12164082, 11878822, 12356453, 12395018, 12395830, 12099568, 12505135, 13339026, 13343640, 12554296, 12626794, 12744252, 13429431, 12822904, 13470839, 12864747, 12878255, 13522829, 13557482, 13593769, 13102375, 13122321, 13812868, 13940818, 13949126, 13949186, 13954375, 13181481, 13984636, 14350809, 14411510, 15254116, 15279977, 14617664, 14623672, 14749870, 14868532, 15863506, 16001709, 16142745, 16545093, 16545161, 16340500, 16759346, 17454741, 16789967, 17566689, 18085932, 17049214, 17083555, 17103422, 18207432, 18252889, 18281647, 18310068, 18398473, 18403345, 18403998, 18404123, 18404739, 18592543, 18628831, 19872185, 18841548, 18905564, 18996187, 20180833, 19117250, 20213463, 19170663, 19190771, 20382344, 20533478, 20533903, 19453484, 20811092, 20871712, 20908714, 21991820, 21470390, 21577826, 22542097, 21930834, 21939841, 22642183, 22916390, 22726630, 22739797, 22785587, 23248901, 23296820, 23299798, 23875252, 23319025, 23332524, 23423438, 23444096, 23639309, 24053213, 24073401, 24192720, 24844514, 24340790, 24369371, 24385633, 24992475, 25312863, 25820788, 25443000, 25883820, 25910699, 25988358, 26162087, 27304289, 27336937, 26341997, 27539099, 27599571, 27600068, 27605918, 26418427, 27615894, 27617451, 27618661, 27650684, 26552709, 26563089, 28025140, 28117126, 26940647, 27011653, 27125153, 28560731, 28594104, 30220513, 28678045, 30245612, 30265360, 30466981, 29176552, 30581116, 30622866, 30753359, 29273437, 30852114, 29352576, 31168457, 29505444, 31303354, 29648829, 31687942, 32543395, 32598853, 31915793, 32004094, 32135840, 32183486, 32977122, 33033826, 33037671, 33159295, 33206380, 33600966, 33662371, 33438466, 33729264, 33863614, 34467028, 34486921, 34487124, 34487577, 33922446, 33923459, 33952729, 34532547, 34564789, 34004224, 34107661, 34108248, 34792174, 34800312, 34160725, 34192937, 34194406, 34198553, 34198773, 34214770, 35014667, 34377021, 35145429, 34383692, 35935568, 36065811, 36066436, 36066515, 35505069, 35505572, 35591726, 35611685, 35611767, 35611837, 36440969, 36500837, 36592419, 37516973, 37543558, 37546004, 37546481, 36678559, 36723155, 36724836, 37572169, 37572170, 37572176, 37612023, 37089996, 37344350, 37955200, 37978708, 37984372, 37984387, 38118898, 38120578, 38148201, 39074453, 38821048, 39986180, 40802008, 40802085, 40802136, 40802228, 40170952, 40382806, 40398778, 40855773, 40447288, 40962380, 40981542, 40629507, 40629964, 40719730, 40748129, 40751721, 40753284, 40753310, 40753325, 40753387, 41230237, 41236121, 42054989, 41495615, 42089815, 42291642, 42433158, 41672663, 41739723, 42522464, 41818569, 42622043, 41857160, 42683930, 42873061, 43092202, 43201185, 43310400, 43310474, 43322099, 43449007, 43449549, 43449998, 43699881, 43705007, 45068417, 43824956, 45077717, 43982784, 45199986, 45250837, 45296632, 44108039, 45359925, 44325296, 45786390, 48795925, 46002803, 46003701, 46276751, 46416374, 49409960, 47503074, 49646809, 47864169, 49771863, 48195025, 48195026, 48205282, 49876274, 49919782, 48264504, 49919994, 49920262, 49947115, 50603577, 50194382, 50233990, 50277320, 50282187, 50282620, 50282790, 50393470, 50429814, 50430545, 50436814, 50437702, 50438391, 50438544, 51261493, 51647340, 51416594, 52564047, 52821520, 52979664, 52196082, 52274786, 53289111, 53950078, 54048617, 53376320, 54079591, 54188355, 54254885, 54255739, 54255886, 54310852, 54310897, 54401249, 53605241, 548549712570151444, 549046842357256292, 53668730, 549077262427870426, 549077290506096759, 549167656055517656, 53778874, 53778959, 563605466797542863, 565851037572193271, 585336565841810196, 568566195566921442, 594584114878427891, 595451807363045433, 645440840550150229, 613422403576154661, 613829058322990491, 659904292924629719, 630450386688784710, 635203979110080644, 671495131372804832, 671499391376551498, 671502439065092652, 671504996561751909, 671507608882429537, 671512068583594186, 672131284747383829, 672135415536352376, 672140113657565652, 672143125182310747, 672151723194425517, 672156581317155373, 672159140052101625, 672161053818689306, 672162738836687009, 672243929702750803, 670133936049220562, 674963595963342539, 671409777664608461, 701070952508622673, 701216320061934035, 702677186858001674, 704823709237371920, 704931214865202401, 705728973348245305, 707255052804005434, 716675001218374596, 692804245589277408, 718716660876105339, 697660155237369866, 700633952042507996, 733295475350541479, 748999259569336631, 734550726176649255, 753658382658746543, 736722189382950462, 741045646897395177, 742433348606442332, 743108839905315839, 744760241432823124, 765115847361336372, 765900024048690476, 765918426420984116, 766537876117575305, 767207716602797434, 771488607027890590, 787750536550792351, 815809045877838400, 791389619039426601, 819686286060935532, 796358638745764401, 802633552724786344, 806966476473135544, 807675656270226907, 807680416085116912, 828110412554619891, 807684208837043608, 831691520409327634, 831711271176721766, 831718327610589757, 837549115325763595, 837553108828232216, 837563758386626855, 837567231350634031, 837570258603325753, 831749875617113346, 838134168782023974, 840985079777351460, 835990297827592549, 836001545790623347, 854890576400459864, 841727999937122566, 856411208202489480, 842445930389117853, 856886228065557167, 842448767203259993, 862036281404317382, 844128612348038699, 863807573532175060, 846767442663689381, 865269458040469106, 868705760879930083, 868713422818072962, 868721843412377311, 868726020325156664, 870935841119497065, 853449515928544509, 854114673599318410, 877573553472387376, 880825389206160218, 880829846973742643, 881137013820539482, 881717513059745594, 882712521377349484, 906464947432834918, 908072155149939465, 890408523304735551, 908452175534766030, 910188521167399633, 899920026985592276, 913667464444948575, 901998507055673699, 902491000918644940, 902537206684030126, 916714871787682241, 920028217232695841, 920274471136901900, 921937676680235739, 938361691001930141, 923619373141919932, 923808143034203858, 941495631408511385, 945296409882984631, 946614265883675284, 946626388715172869, 946632698776696358, 949038646715849146, 949057689892091780, 931278979141870302, 951614983297274338, 936435014904055244, 938141861447113867, 955800230723324793, 967229455655252680, 967877549212113691, 968027923064434036, 959471453965777823, 964545291656667227, 977466719617229854, 995736283272769462, 996534853014726550, 978837903500153696, 983992533347290706, 1001341233025177499, 993348403313947626, 1016695412752790117, 1005547637092256663, 1025908460539009403, 1029802589999575118, 1013547145409846009, 1013572248656244699, 1013609886362396710, 1034071377077697232, 1054283059928628507, 1054354781377123983, 1045438950210180404, 1056019517969512472, 1056408740003257661, 1075108493215768685, 1061293727679955622, 1076041088275296522, 1076821557693274506, 1079560939755545107, 1064288645299628696, 1081008104561877015, 1081097650992443024, 1081978850142291593, 1084540580954355891, 1069423246479995287, 1084635054800727683, 1084768554433866212, 1084768688449457130, 1071697268573341999, 1086954687827064314, 1087003825546511891, 1101355037615963108, 1103484772925388093, 1090684672219878229, 1091789324604332743, 1104534029772761431, 1106372780749038706, 1110000899448086373, 1110690216493741810, 1110992115486680037, 1096279582667713259, 1114981641809039543, 1097656178690588757, 1116738369193202892, 1117852176088159838, 1120810332795122013, 1120956307852860996, 1118629787407576324, 1118662108306640591, 1118843758834034668, 1132635860708830787, 1125354079581425982, 1134492764338355995, 1126555288368710741, 1126684210735664943, 1134920632145199812, 1127673608505632385, 1136852730795878024, 1136895557536726354, 1128180673476262563, 1128184020949605416, 1128228024760541758, 1128230340121806052, 1128233251453150564, 1128235554569507793, 1128237390188448911, 1128240619421385957, 1128244893720715302, 1138362021269310848, 1129771579783736590, 1138429185253970295, 1131050574490973390, 1142868077398602328, 1143197638152214647, 1144215244576791512, 1144821766157445572, 1146223316781299250, 1146231339027145342, 1166743089695273424, 1167176507878028232, 1151373789838556009, 1151597582267543200, 1152077860797986222, 1168653956385179970, 1170871328389941136, 1172828773227753595, 1161367709963860718, 1173291146798962773, 1163205960954070502, 1163549899953888023, 1175845318430675889, 1176079142703942345, 1165273971019095954, 1177294408721270246, 1177510105263894249, 1166532968596783793, 1195638612846655797, 1178903958492597016, 1179781849979373519, 1181054118838351205, 1181348934636153161, 1196904657021586587, 1197149434393621614, 1198287306785345437, 1200107229715429338, 1188584934136387294, 1203385114990860702, 1203385314187409577, 1203385650245229293, 1204159891731303920, 1205872472925935166, 1192060107472842224, 1207248751738611278, 1194034007644461284, 1194671182522298232, 1212761906795264538, 1216598666012363719, 1213707334292383436, 1220845510783223547, 1221731178597045771, 1221772306542938783, 1221786960522269595, 1214237945802917706, 1214248351510736814, 1226598388742218759, 1226920371682349466, 1227323538090252056, 1228830228487454213, 1214319696734728383, 1214320768004897030, 1257931094690462511, 1236157349756437074, 1236244429796957182, 1262484070097878024, 1264683017888321172, 1264947265705367166, 1267206288298462609, 1243385637529899948, 1270830891938250653, 1247013264722070801, 1273034369814996072, 1273915376791991136, 1247643070180030843, 1249110481871270428, 1249126569454833315, 1249126923987565481, 1274772038331619806, 1279622572559088418, 1300097955909523031, 1300780009764347071, 1303684848557611690, 1287078040786858269, 1307831240591494833, 1289075787499379023, 1295481757304038690, 1295853066036349279, 1315761013614017712, 1297653047024275377, 1299093032917401688, 1316533145424796463, 1299219448222323136, 1316880410136989665, 1323103342484247859, 1323230692970733332, 1324452788295869104, 1318576470347265316, 1340401748933997465, 1338260248024769690, 1349906548984578933]"
        ],
        [
         "8",
         "bathrooms_text",
         "object",
         "6",
         "0.08",
         "[1316352, 15812750, 32118463, 996534853014726550, 1016695412752790117, 1110690216493741810]"
        ],
        [
         "9",
         "bedrooms",
         "float64",
         "0",
         "0.0",
         "[]"
        ],
        [
         "10",
         "beds",
         "float64",
         "761",
         "9.79",
         "[72821, 99238, 149749, 676323, 208801, 719981, 740308, 804777, 268865, 888033, 289477, 314923, 331151, 1005533, 1038620, 1169013, 388399, 1832112, 1834997, 1958392, 1973495, 1424680, 1482860, 1533624, 1583452, 1615895, 1807274, 2322764, 3020830, 2377640, 2402601, 3203677, 2559866, 3314930, 3356926, 3524290, 3589795, 3743704, 4691319, 3814415, 4826958, 5079256, 5268522, 5302362, 5349074, 4067549, 4118179, 4246816, 4272967, 4302018, 4332045, 5734857, 4514733, 4523238, 5734956, 6682798, 6086105, 6791981, 6863620, 6096530, 6908509, 6152631, 6987387, 7018697, 7212771, 7282315, 6443733, 6514655, 6552418, 6571055, 7682178, 7718939, 8423436, 7969977, 8561397, 8736169, 9763587, 9801176, 9104416, 9917563, 9236574, 9657046, 10203180, 11037556, 11092920, 10321107, 11227476, 11232084, 11352211, 10579776, 10639339, 11417636, 10795221, 10848085, 12164082, 11878822, 12356453, 12395018, 12395830, 12099568, 12505135, 13339026, 13343640, 12554296, 12626794, 12744252, 13429431, 12822904, 13470839, 12864747, 12878255, 13522829, 13557482, 13593769, 13102375, 13122321, 13812868, 13940818, 13949126, 13949186, 13954375, 13181481, 13984636, 14350809, 14411510, 15254116, 15279977, 14617664, 14623672, 14749870, 14868532, 15863506, 16001709, 16142745, 16545093, 16545161, 16340500, 16759346, 17454741, 16789967, 17566689, 18085932, 17049214, 17083555, 17103422, 18207432, 18252889, 18281647, 18310068, 18398473, 18403345, 18403998, 18404123, 18404739, 18592543, 18628831, 19872185, 18841548, 18905564, 18996187, 20180833, 19117250, 20213463, 19170663, 19190771, 20382344, 20533478, 20533903, 19453484, 20811092, 20871712, 20908714, 21991820, 21470390, 21577826, 22542097, 21930834, 21939841, 22642183, 22916390, 22726630, 22739797, 22785587, 23248901, 23296820, 23299798, 23875252, 23319025, 23332524, 23423438, 23444096, 23639309, 24053213, 24073401, 24192720, 24844514, 24340790, 24369371, 24385633, 24992475, 25312863, 25820788, 25443000, 25883820, 25910699, 25988358, 26162087, 27304289, 27336937, 26341997, 27539099, 27599571, 27600068, 27605918, 26418427, 27615894, 27617451, 27618661, 27650684, 26552709, 26563089, 28025140, 28117126, 26940647, 27011653, 27125153, 28560731, 28594104, 30220513, 28678045, 30245612, 30265360, 30466981, 29176552, 30581116, 30622866, 30753359, 29273437, 30852114, 29352576, 31168457, 29505444, 31303354, 29648829, 31687942, 32543395, 32598853, 31915793, 32004094, 32135840, 32183486, 32977122, 33033826, 33037671, 33159295, 33206380, 33600966, 33662371, 33438466, 33729264, 33741782, 33863614, 34467028, 34486921, 34487124, 34487577, 33922446, 33923459, 33952729, 34532547, 34564789, 34004224, 34107661, 34108248, 34792174, 34800312, 34160725, 34192937, 34194406, 34198553, 34198773, 34214770, 35014667, 34377021, 35145429, 34383692, 35935568, 36065811, 36066436, 36066515, 35505069, 35505572, 35591726, 35611685, 35611767, 35611837, 36440969, 36500837, 36592419, 37516973, 37543558, 37546004, 37546481, 36678559, 36723155, 36724836, 37572169, 37572170, 37572176, 37612023, 37089996, 37344350, 37955200, 37978708, 37984372, 37984387, 38118898, 38120578, 38148201, 39074453, 38821048, 39986180, 40802008, 40802085, 40802136, 40802228, 40170952, 40382806, 40398778, 40855773, 40447288, 40962380, 40981542, 40629507, 40629964, 40719730, 40748129, 40751721, 40753284, 40753310, 40753325, 40753387, 41230237, 41236121, 42054989, 41495615, 42089815, 42291642, 42433158, 41672663, 41739723, 42522464, 41818569, 42622043, 41857160, 42683930, 42873061, 43092202, 43201185, 43310400, 43310474, 43322099, 43449007, 43449549, 43449998, 43699881, 43705007, 45068417, 43824956, 45077717, 43982784, 45199986, 45250837, 45296632, 44108039, 45359925, 45479345, 44325296, 45786390, 48795925, 46002803, 46003701, 46276751, 46416374, 49409960, 47503074, 49646809, 47864169, 49771863, 48195025, 48195026, 48205282, 49876274, 49919782, 48264504, 49919994, 49920262, 50558263, 49947115, 50603577, 50762583, 50194382, 50233990, 50277320, 50282187, 50282620, 50282790, 50393470, 50429814, 50430545, 50436814, 50437702, 50438391, 50438544, 51261493, 51647340, 51416594, 52564047, 52665700, 52821520, 52979664, 52196082, 52274786, 53289111, 53950078, 54048617, 53376320, 54079591, 54188355, 53491690, 54254885, 54255739, 54255886, 54310852, 54310897, 54401249, 53605241, 548549712570151444, 549046842357256292, 53668730, 549077262427870426, 549077290506096759, 549167656055517656, 53778874, 53778959, 563605466797542863, 565851037572193271, 585336565841810196, 568566195566921442, 594584114878427891, 595451807363045433, 645440840550150229, 613422403576154661, 613829058322990491, 659904292924629719, 630450386688784710, 635203979110080644, 671495131372804832, 671499391376551498, 671502439065092652, 671504996561751909, 671507608882429537, 671512068583594186, 672131284747383829, 672135415536352376, 672140113657565652, 672143125182310747, 672151723194425517, 672156581317155373, 672159140052101625, 672161053818689306, 672162738836687009, 672243929702750803, 670133936049220562, 674963595963342539, 671409777664608461, 701070952508622673, 701216320061934035, 702677186858001674, 704823709237371920, 704931214865202401, 705728973348245305, 707255052804005434, 716675001218374596, 692804245589277408, 718716660876105339, 697660155237369866, 700633952042507996, 733295475350541479, 748999259569336631, 734550726176649255, 753658382658746543, 736722189382950462, 741045646897395177, 742433348606442332, 743108839905315839, 744760241432823124, 765115847361336372, 765900024048690476, 765918426420984116, 766537876117575305, 767207716602797434, 771488607027890590, 787750536550792351, 815809045877838400, 791389619039426601, 819686286060935532, 796358638745764401, 802633552724786344, 806966476473135544, 807675656270226907, 807680416085116912, 828110412554619891, 807684208837043608, 831691520409327634, 831711271176721766, 831718327610589757, 837549115325763595, 837553108828232216, 837563758386626855, 837567231350634031, 837570258603325753, 831749875617113346, 838134168782023974, 840985079777351460, 835990297827592549, 836001545790623347, 854890576400459864, 841727999937122566, 856411208202489480, 842445930389117853, 856886228065557167, 842448767203259993, 862036281404317382, 844128612348038699, 863807573532175060, 846767442663689381, 865269458040469106, 868705760879930083, 868713422818072962, 868721843412377311, 868726020325156664, 870935841119497065, 853449515928544509, 854114673599318410, 877573553472387376, 880825389206160218, 880829846973742643, 881137013820539482, 881717513059745594, 882712521377349484, 906464947432834918, 908072155149939465, 890408523304735551, 908452175534766030, 910188521167399633, 899920026985592276, 913667464444948575, 901998507055673699, 902491000918644940, 902537206684030126, 916714871787682241, 920028217232695841, 920274471136901900, 921937676680235739, 938361691001930141, 923619373141919932, 923808143034203858, 941495631408511385, 945296409882984631, 946614265883675284, 946626388715172869, 946632698776696358, 949038646715849146, 949057689892091780, 931278979141870302, 951614983297274338, 936435014904055244, 938141861447113867, 955800230723324793, 967229455655252680, 967877549212113691, 968027923064434036, 959471453965777823, 964545291656667227, 977466719617229854, 995736283272769462, 996534853014726550, 978837903500153696, 983992533347290706, 1001341233025177499, 993348403313947626, 1005547637092256663, 1025908460539009403, 1029802589999575118, 1013547145409846009, 1013572248656244699, 1013609886362396710, 1034071377077697232, 1054283059928628507, 1054354781377123983, 1045438950210180404, 1056019517969512472, 1056408740003257661, 1075108493215768685, 1061293727679955622, 1076041088275296522, 1076821557693274506, 1079560939755545107, 1064288645299628696, 1081008104561877015, 1081097650992443024, 1081978850142291593, 1084540580954355891, 1069423246479995287, 1084635054800727683, 1084768554433866212, 1084768688449457130, 1071697268573341999, 1086954687827064314, 1087003825546511891, 1101355037615963108, 1103484772925388093, 1090684672219878229, 1091258216593101572, 1091789324604332743, 1104534029772761431, 1106372780749038706, 1110000899448086373, 1110690216493741810, 1110992115486680037, 1096279582667713259, 1114981641809039543, 1097656178690588757, 1116738369193202892, 1117852176088159838, 1120810332795122013, 1120956307852860996, 1118629787407576324, 1118662108306640591, 1118843758834034668, 1132635860708830787, 1125354079581425982, 1134492764338355995, 1126555288368710741, 1126684210735664943, 1134920632145199812, 1127673608505632385, 1136852730795878024, 1136895557536726354, 1128180673476262563, 1128184020949605416, 1128228024760541758, 1128230340121806052, 1128233251453150564, 1128235554569507793, 1128237390188448911, 1128240619421385957, 1128244893720715302, 1138362021269310848, 1129771579783736590, 1138429185253970295, 1131050574490973390, 1142868077398602328, 1143197638152214647, 1144215244576791512, 1144821766157445572, 1146223316781299250, 1146231339027145342, 1166743089695273424, 1167176507878028232, 1151373789838556009, 1151597582267543200, 1152077860797986222, 1168653956385179970, 1170871328389941136, 1172828773227753595, 1161367709963860718, 1173291146798962773, 1163205960954070502, 1163549899953888023, 1175845318430675889, 1176079142703942345, 1165273971019095954, 1177294408721270246, 1177510105263894249, 1166532968596783793, 1195638612846655797, 1178903958492597016, 1179781849979373519, 1181054118838351205, 1181348934636153161, 1196904657021586587, 1197149434393621614, 1198287306785345437, 1200107229715429338, 1188584934136387294, 1203385114990860702, 1203385314187409577, 1203385650245229293, 1204159891731303920, 1205872472925935166, 1192060107472842224, 1207248751738611278, 1194034007644461284, 1194671182522298232, 1212761906795264538, 1216598666012363719, 1213707334292383436, 1220845510783223547, 1221731178597045771, 1221772306542938783, 1221786960522269595, 1214237945802917706, 1214248351510736814, 1226598388742218759, 1226920371682349466, 1227323538090252056, 1228830228487454213, 1214319696734728383, 1214320768004897030, 1257931094690462511, 1236157349756437074, 1236244429796957182, 1262484070097878024, 1264683017888321172, 1264947265705367166, 1267206288298462609, 1243385637529899948, 1270830891938250653, 1247013264722070801, 1273034369814996072, 1273915376791991136, 1247643070180030843, 1249110481871270428, 1249126569454833315, 1249126923987565481, 1274772038331619806, 1279622572559088418, 1300097955909523031, 1300780009764347071, 1303684848557611690, 1287078040786858269, 1307831240591494833, 1289075787499379023, 1312264987913123006, 1295481757304038690, 1295853066036349279, 1315761013614017712, 1297653047024275377, 1299093032917401688, 1316533145424796463, 1299219448222323136, 1316880410136989665, 1323103342484247859, 1323230692970733332, 1324452788295869104, 1318576470347265316, 1340401748933997465, 1338260248024769690, 1349906548984578933]"
        ],
        [
         "11",
         "calculated_host_listings_count",
         "int64",
         "0",
         "0.0",
         "[]"
        ],
        [
         "12",
         "calculated_host_listings_count_entire_homes",
         "int64",
         "0",
         "0.0",
         "[]"
        ],
        [
         "13",
         "calculated_host_listings_count_private_rooms",
         "int64",
         "0",
         "0.0",
         "[]"
        ],
        [
         "14",
         "calculated_host_listings_count_shared_rooms",
         "int64",
         "0",
         "0.0",
         "[]"
        ],
        [
         "15",
         "calendar_last_scraped",
         "object",
         "0",
         "0.0",
         "[]"
        ],
        [
         "16",
         "description",
         "object",
         "216",
         "2.78",
         "[69877, 431287, 441868, 71874, 74042, 531274, 544834, 142085, 617429, 634018, 155015, 156728, 170523, 694828, 208801, 218393, 713783, 713788, 220238, 246649, 784879, 804777, 819328, 272585, 846521, 867034, 879892, 884350, 895952, 309411, 314094, 906370, 926604, 945052, 954068, 962131, 975073, 1000262, 1011701, 1034640, 344046, 1043678, 1119040, 1181536, 1257881, 1266716, 1269492, 1275433, 1316352, 1344540, 1922670, 1958392, 2014854, 1526920, 1533624, 1583452, 1816508, 1816521, 1816532, 3003073, 3356926, 3743534, 3743704, 4929237, 4118238, 5360928, 5409458, 5669720, 5782605, 8301935, 8307927, 9242824, 11530067, 12961008, 13812868, 13201733, 14385762, 14401813, 14402172, 15432544, 15672605, 16541087, 17885954, 17003338, 19321660, 23122806, 23408595, 24154421, 25095242, 25573346, 25245252, 27576962, 27939676, 28711981, 30753359, 29376835, 31256519, 29952324, 34532547, 33954971, 35028067, 35156716, 34438543, 35223769, 35263784, 35596034, 36782247, 37489290, 39067098, 39074453, 39351308, 39384737, 38821048, 40398778, 42054835, 42054880, 41555311, 42379243, 41739723, 41857160, 43092202, 43786480, 44056070, 45444597, 45541096, 45670115, 48590770, 46416374, 49477879, 48008824, 48129790, 49844421, 48164953, 50765629, 50770430, 50221934, 52487138, 52548042, 52895190, 52196082, 53554924, 53684196, 568566195566921442, 592400705487894803, 572348858093960732, 593190861493044692, 572940417677461635, 602672645101860779, 656514440936923339, 672151723194425517, 672156581317155373, 672162738836687009, 669402056346324603, 677422779058575741, 704931214865202401, 689022023725149058, 718716660876105339, 698435356902430959, 699111408317041261, 766609896104129230, 815797364829037633, 802041056910149058, 843252320100331133, 878054612958383638, 902491000918644940, 915042070612918566, 925241440239476781, 948405674622428602, 950115527752009625, 933881419270448963, 935585069632792190, 1025908460539009403, 1030357275773436331, 1033104815769384346, 1036181568733815012, 1047532247583677539, 1072184983215544612, 1075475518106635125, 1075899004294000726, 1076041088275296522, 1076821557693274506, 1078979215715393851, 1065904867798269940, 1070005023752299930, 1088153875934071268, 1117229059174641052, 1123730901907290930, 1126024346850122681, 1141832358859958290, 1144158094207221453, 1147529050389901865, 1148630061800522800, 1149811395005690362, 1153612225066357985, 1169425183385642388, 1169432943394301687, 1158639976913028413, 1160640290754110803, 1161386959894023798, 1163757644194471672, 1166477941706592934, 1205923832719813513, 1220845510783223547, 1231657321858852570, 1231657527696515473, 1265882383762684609, 1249110481871270428, 1279558795865919959, 1279607849322776151, 1279622572559088418, 1283955325793432464, 1295517957839778358, 1333282711751266436, 1350863100933039235, 1360964459477275660, 1363873562452756929]"
        ],
        [
         "17",
         "estimated_occupancy_l365d",
         "int64",
         "0",
         "0.0",
         "[]"
        ],
        [
         "18",
         "first_review",
         "object",
         "740",
         "9.52",
         "[1482860, 2014854, 3118010, 6782983, 7018697, 7212771, 6488939, 6552897, 7712239, 8423436, 8561397, 8645053, 8736169, 9763587, 11352211, 10795221, 12864747, 12879781, 13593769, 13122321, 17801722, 17272157, 19170663, 22141357, 21643196, 21824763, 22779581, 23118034, 23955078, 27336937, 26341997, 27539099, 27599571, 27600068, 27605918, 27615894, 27617451, 26680623, 28025140, 30244448, 31615335, 32183486, 32322762, 32323055, 33600966, 33601646, 34486921, 34487577, 33923459, 34192937, 34194406, 34198553, 34377021, 35263784, 36065811, 36066436, 36066515, 35505069, 35505572, 35611685, 35611767, 35611837, 36464902, 36587753, 36678559, 37955200, 37978708, 39040234, 39076767, 38821048, 39808007, 40753581, 39986180, 40753595, 40802008, 40802085, 40802136, 40802228, 40802833, 40748129, 40751721, 40753325, 40753387, 41230237, 41543818, 41685155, 41739723, 41857160, 42683930, 42948966, 43251320, 43322099, 42985224, 43449007, 43449682, 43449754, 43449998, 44568550, 43699881, 44627642, 43753717, 43824956, 45108052, 45250837, 45444597, 44183891, 44325296, 48590770, 49555393, 49566392, 48195025, 48195026, 48205282, 48253597, 49919813, 49919994, 49920208, 49920262, 50780455, 50438391, 51661171, 52064525, 53942485, 54079591, 54188355, 54188418, 54254885, 54255739, 54255886, 54310852, 54310897, 54384622, 552573882894829155, 554092988304710652, 554107603599770813, 554109000653251610, 554112327483969367, 559364982878228875, 562230939546947110, 568490356244099608, 595451807363045433, 606337751482983732, 613829058322990491, 617288024711107485, 671495131372804832, 671504996561751909, 672135415536352376, 672140113657565652, 672143125182310747, 672151723194425517, 672161053818689306, 672162738836687009, 671409777664608461, 704823709237371920, 704931214865202401, 692804245589277408, 694077603025700878, 724549473987401732, 724557091398859840, 729587024997178381, 733530290707276780, 748999259569336631, 734550726176649255, 736784695652120493, 736795151172005885, 741672381133061454, 741679202560302667, 742433348606442332, 743108839905315839, 744760241432823124, 765034532290081966, 765890871551612909, 766537876117575305, 767207716602797434, 815809045877838400, 791389619039426601, 819686286060935532, 822993737972241831, 807675656270226907, 807680416085116912, 807682586483941230, 829232242195913025, 829245078528604905, 830272643532171896, 830353311598780523, 807684208837043608, 831691520409327634, 831711271176721766, 831718327610589757, 834178316221644052, 834202136066435100, 840396603795249783, 835990297827592549, 856998614508561337, 858087028117335826, 842532162835415942, 858435821862344223, 862140883533006821, 862192021601842747, 862192686255082895, 862203366054529007, 850612650379296516, 851855228108319397, 853449515928544509, 854114673599318410, 880825389206160218, 880829846973742643, 905076124850681268, 885494884138712348, 889211771041724039, 908315293073160121, 908449819355594566, 899920149534747381, 913667464444948575, 938361691001930141, 924398117683958821, 924426459253112636, 926010749130496340, 949057689892091780, 934406800990944137, 955581086249940650, 967229455655252680, 967877549212113691, 959144274645126251, 995736283272769462, 979473953622655549, 981578902412218090, 981827184820246911, 981831074726899704, 986066266111517548, 1004091672108614178, 1004102127557969514, 1004106881106958092, 1004108061436455142, 1004109262864251827, 991065164307680743, 995104320333126876, 1025279883239618667, 1025908460539009403, 1010626665790591601, 1012849728019228568, 1049918645815165674, 1052848162775982712, 1054283059928628507, 1047031147474382514, 1047105417583551873, 1059239607552761338, 1071730985957647632, 1073146486378267839, 1074331024894267292, 1061293727679955622, 1064398464517700062, 1080213611798243209, 1081008104561877015, 1081097650992443024, 1082001594459316931, 1082430366392016776, 1082430456875435750, 1082430546475607967, 1067911233091140375, 1085345655421747380, 1071097983747724332, 1071113243356019555, 1071697268573341999, 1085396509266939914, 1085401248959818110, 1087003825546511891, 1104534029772761431, 1104799871389380111, 1104877451689814299, 1107231528641386167, 1107275392430723514, 1107280535547505853, 1107286736536637404, 1110000899448086373, 1110690216493741810, 1110966470674419245, 1111010461070353705, 1112112464917101688, 1112123570488922115, 1099631111022405097, 1133207254571805076, 1133217599609383527, 1134492764338355995, 1126684210735664943, 1128180673476262563, 1128184020949605416, 1128228024760541758, 1128230340121806052, 1128240619421385957, 1128244893720715302, 1129276668164500275, 1130434089998644460, 1144158094207221453, 1146481357864363038, 1167365697508427852, 1168098030634623672, 1169581081056880046, 1170178722891857155, 1155006250823627046, 1157194531288593044, 1157222969827643276, 1172828773227753595, 1172950516850350787, 1173704255859512740, 1163205960954070502, 1175364113013922394, 1175845318430675889, 1177510105263894249, 1178049798694290654, 1178281870441546816, 1197110953279908046, 1198287306785345437, 1199130295421766898, 1184026459257008703, 1185445861536095295, 1188584934136387294, 1189091917558426698, 1189209222632682160, 1203385314187409577, 1203618602252003745, 1203671947084990603, 1205468699799158498, 1207248751738611278, 1194079538606409784, 1207581483275385888, 1208725575290781199, 1210889248576632028, 1211318388554541948, 1209438882312960574, 1217472734879709251, 1217929100913118190, 1217938125458878631, 1217965703167491815, 1217982988443106277, 1217985139192087743, 1217988478801006672, 1217990528142251530, 1220236420808301151, 1220845510783223547, 1221731178597045771, 1221772306542938783, 1221786960522269595, 1223755878475043521, 1214292649631410069, 1229548080757562963, 1231657321858852570, 1231657527696515473, 1257931094690462511, 1258109724729295809, 1258506299749502699, 1259224077617780583, 1233042106340861086, 1233120891732354082, 1233127515652365234, 1233301339952806429, 1260598674331608934, 1261718315461631752, 1262484070097878024, 1237616852495526769, 1264947265705367166, 1264978346120047412, 1237685862842036245, 1237702795600914486, 1237708481772340314, 1267187032932697305, 1267856449843592794, 1267912358660233723, 1242571860995742026, 1271523875129170373, 1244708534903748569, 1245415208528617193, 1245549360202547947, 1273034369814996072, 1273884094349697937, 1274548019858045776, 1274559703614536490, 1274613688162700215, 1275904232747210514, 1251087164893336128, 1251278845381517419, 1252691630467656627, 1253447719812431481, 1254158024541668916, 1256308621632912145, 1256540622125406409, 1279705569984950325, 1279558795865919959, 1279607849322776151, 1279622572559088418, 1299981592718913476, 1279841508408571445, 1279846460432275443, 1279853545939296566, 1280414729500201371, 1280453963427112295, 1281741221260572620, 1281872336471406164, 1300097955909523031, 1301482640515514012, 1301991803651928230, 1302819947557473340, 1283481045269095552, 1284538550321022592, 1284565992298040675, 1304303738234747433, 1287014378125230463, 1287078040786858269, 1287642033924279877, 1305794432068587489, 1305815691733520799, 1306376515094914292, 1306440814385183490, 1307036180687751203, 1307294989545668848, 1289075787499379023, 1289214257663825244, 1289824728471262528, 1291259652707784365, 1307916686534686272, 1309257512878376838, 1311448602032314650, 1291282523485547227, 1291289799583179150, 1292101441632901278, 1312198150197329270, 1312900433102820040, 1312904549405686861, 1313003671121552359, 1294276786465921429, 1294732956980910802, 1313101447993556449, 1313113067129078372, 1313201565481033729, 1313596943187042083, 1313810948144644531, 1314288376198959952, 1314326268241180587, 1295517957839778358, 1295606706140798565, 1295634091992433793, 1295634110145331318, 1295853066036349279, 1296390135615705479, 1296846633181172315, 1314359117073988907, 1314364005004963547, 1314490303546258762, 1315181828655043954, 1315327981665565213, 1315738290123518468, 1297506389120781008, 1297653047024275377, 1297668926728482984, 1297756486619049622, 1297785524499187085, 1297876542259759498, 1298563984146933671, 1315787509884320238, 1316062065781883893, 1316533145424796463, 1299229618052667749, 1299359966952396218, 1299849539939060028, 1299963381573911983, 1322337217462946252, 1316644160079858254, 1316647119689115416, 1316801858205906771, 1316880410136989665, 1322509130335522001, 1323082902703648038, 1323103342484247859, 1323108152903122644, 1323230692970733332, 1323781225773771898, 1324522499010558557, 1325320780552131972, 1325340442278987634, 1318191311807248040, 1318268701859570262, 1318576470347265316, 1318692457368220905, 1338618915226192231, 1338989456383343007, 1325973690960837961, 1326270504065555888, 1326643520933055178, 1326724096440188804, 1326820758829097941, 1327536547362538127, 1327610103574765126, 1327658068719655989, 1339129256232812275, 1339141688186992945, 1339149536889460738, 1339159423443968097, 1339171854603571289, 1340138537200486643, 1340450441110378619, 1328205032556559595, 1328240484692200913, 1328772308418377392, 1328779125603693887, 1328806380414897867, 1328973686477394217, 1329048135628604219, 1340459214498877705, 1340636411007510030, 1341106961457316020, 1341108200015362423, 1341129506581107523, 1341894915182929412, 1329765995507211023, 1330358189512747073, 1330385267148754308, 1330561066615318397, 1330884618680364469, 1330921057460362098, 1342038905540655364, 1342574699614106972, 1342688066282508702, 1342714493458933686, 1342753998603627779, 1342773596490732195, 1342776902401421742, 1342781485266097769, 1342789540408564951, 1343346821815050219, 1343413014556904820, 1330996532745012421, 1331218121958728326, 1331477430624757427, 1331919567944471532, 1332552396079150793, 1332634200987137979, 1332702592077991900, 1333282711751266436, 1333908714852660842, 1334032853580529300, 1343511677747927314, 1343686121121971588, 1344196928646775731, 1344816873774495533, 1344821144492050015, 1344823193736806609, 1344906319015942126, 1345111860784844135, 1334090265368720210, 1334102352606935100, 1334240677227244317, 1334272020575508905, 1334636503232011923, 1334646270746352378, 1334668605695304642, 1334674042387588224, 1334721478605903218, 1345472608739903169, 1345498154358130374, 1345593425317124542, 1335396269144009761, 1335570188619059817, 1336041214498149874, 1336212495254166382, 1336220332692733321, 1336270932708699266, 1336462816126288377, 1336854663663745192, 1336862000696501509, 1336871322624747952, 1346198446187765553, 1346356948909540365, 1346370365532280550, 1347181098602361395, 1336943390444240272, 1337569326480228729, 1338135301389840576, 1338321200112593310, 1347811123954275649, 1347881259077484850, 1350863100933039235, 1351262123586304425, 1351272053360808430, 1351284820519349761, 1351290301886448824, 1351294011082384050, 1351301164939770232, 1351301409211305933, 1351302633364076690, 1351455655877211913, 1351493666057934078, 1351496852205078127, 1348417490177315749, 1348687331665302253, 1349059986101840643, 1349145251486903063, 1349209672171947022, 1351659072335033319, 1351997347881613135, 1352092070787155488, 1352098727457410161, 1352223747164241456, 1352319160192098450, 1352945524957502121, 1349233131509506893, 1349261955129573000, 1349280133699515789, 1349289866533676679, 1349292485816234625, 1349360056557167811, 1353433749970411906, 1353440941871227136, 1353495008046007005, 1353511913213150385, 1353512233909969538, 1353515291513226895, 1353517056640339487, 1353517672300455253, 1353580369173035247, 1349501052462712380, 1349894508085634529, 1350038429350996125, 1350050965803362516, 1350683150309338060, 1350694901269365355, 1350704694775497715, 1350721788418948243, 1353610011267605574, 1353616078765017075, 1353680577398709228, 1353831020797026747, 1354157211661476271, 1354182115083490535, 1354198254370535190, 1354271961871021242, 1354280243385051934, 1354287187257041842, 1350809073039465540, 1359972998250970942, 1359978882029822062, 1359980931485345735, 1360316936829834236, 1360322103669864742, 1360323992175947701, 1360328126102625309, 1360670388197753434, 1360810799584509413, 1354299077415816489, 1354865104113402695, 1354881897080812786, 1355075446906385054, 1355251811900902130, 1355317716135295082, 1355539412021977467, 1355563006006157558, 1360912767206541429, 1360964459477275660, 1360971349938711335, 1360979783954151484, 1361399051122525278, 1361542345237595010, 1361611678638605813, 1362069284714243006, 1355627617878943355, 1355647098195515119, 1355653035925744587, 1355742172750173409, 1355757424635942324, 1355767346943830614, 1355813162837081504, 1356269141510923430, 1356287891272895542, 1362069310055124724, 1362098243021589875, 1362102017993442586, 1362112197604955543, 1362114818930196721, 1362117550692648947, 1362124197740552890, 1362126368689490123, 1362200893158496271, 1362509169619993826, 1356290905536243971, 1356454335264497980, 1356511895797928756, 1356526723381143238, 1356613157247819459, 1356784526184832339, 1356953228646976614, 1357219046572868664, 1357250408931057862, 1362518031001897841, 1362894404770995768, 1363056913187975043, 1363063118684312899, 1363069078465789326, 1363645110678408300, 1363719144045591776, 1357389604278680597, 1357872907363701635, 1358101732673694705, 1358122865707419750, 1358133145122222306, 1358151502631976046, 1358594251693214475, 1358594266933983870, 1358594284191089936, 1358598034623635013, 1363771633511251110, 1363795213337978305, 1363873562452756929, 1363939681345638896, 1364163399760087653, 1364176866870145727, 1364186396690828405, 1358624782819857102, 1358624799684066640, 1358882349176180617, 1359223003605730811, 1359254542892272496, 1359255239937477474, 1359278347560333727, 1359382050963265181, 1364192188138760641, 1364291651658722459, 1364384423426928523, 1364406083987810151, 1364480825953775275, 1364488503783488263, 1364515630628172433, 1364635286640479993, 1364642608307474895, 1365893928883912698, 1366033048567818030, 1359647331896803736, 1359677892480080968, 1359916708058728026, 1359953511198182591, 1366576092896770388, 1366912719590250705]"
        ],
        [
         "19",
         "has_availability",
         "object",
         "105",
         "1.35",
         "[72821, 1615895, 3020830, 3203677, 4272967, 6682798, 6863620, 6987387, 6443733, 6514655, 7682178, 8423436, 8561397, 9104416, 9236574, 11352211, 11878822, 12395018, 12395830, 12505135, 13593769, 15279977, 14623672, 18252889, 21470390, 23319025, 24992475, 25988358, 27336937, 26341997, 26418427, 28560731, 30753359, 29352576, 29505444, 32135840, 33206380, 33923459, 33952729, 34532547, 36065811, 36066436, 36066515, 35505069, 39986180, 40855773, 40629507, 40629964, 40748129, 40751721, 40753284, 40753310, 40753325, 41818569, 45108052, 52821520, 54310852, 54310897, 594584114878427891, 613829058322990491, 701070952508622673, 716675001218374596, 697660155237369866, 733295475350541479, 734550726176649255, 736722189382950462, 744760241432823124, 766537876117575305, 767207716602797434, 835990297827592549, 836001545790623347, 862036281404317382, 868705760879930083, 868713422818072962, 868726020325156664, 880825389206160218, 880829846973742643, 881137013820539482, 967229455655252680, 1054283059928628507, 1079560939755545107, 1081978850142291593, 1110000899448086373, 1118662108306640591, 1134492764338355995, 1126555288368710741, 1127673608505632385, 1151373789838556009, 1168653956385179970, 1203385114990860702, 1203385314187409577, 1203385650245229293, 1262484070097878024, 1264683017888321172, 1279558795865919959, 1279607849322776151, 1279622572559088418, 1284565992298040675, 1315327981665565213, 1324452788295869104, 1318576470347265316, 1349209672171947022, 1349360056557167811, 1360322103669864742, 1360964459477275660]"
        ],
        [
         "20",
         "host_acceptance_rate",
         "object",
         "374",
         "4.81",
         "[72821, 99238, 641360, 648497, 208801, 926604, 331151, 1034213, 1181536, 388399, 412848, 1832112, 1834997, 2012828, 2014854, 1533624, 1615895, 3020830, 3203677, 3206143, 3314930, 3382998, 3383300, 3524290, 3641725, 3769807, 3814415, 5268522, 5302362, 5472292, 4272967, 5568794, 5734857, 5776201, 5782605, 6682798, 6863620, 6987387, 7018697, 7212771, 7282315, 6443733, 6514655, 6552418, 6552897, 7682178, 8423436, 7912117, 8561397, 8736169, 9801176, 9011339, 9104416, 10114926, 9706595, 11193552, 11232084, 11352211, 10579776, 10639339, 11417636, 10795221, 10848085, 11834048, 11878822, 12395018, 12395830, 12099568, 12505135, 13339026, 12822904, 12864747, 12878255, 13557482, 13593769, 12965595, 13669027, 13824694, 13954375, 13181481, 13984636, 13988827, 14216510, 15254116, 15279977, 14623672, 15748398, 15993926, 16142745, 16759346, 16904707, 16969709, 17049214, 17083555, 17103422, 17144987, 18252889, 18310068, 17272157, 18456546, 19774048, 18643951, 18996187, 20180833, 19138743, 20226504, 19170663, 22542097, 21930834, 21939841, 22607982, 22642183, 22695387, 22913874, 22724998, 23319025, 24073401, 24727118, 24276039, 24365175, 24369371, 24385633, 24934520, 24992475, 25312863, 25820788, 25883820, 25988358, 26162087, 27336937, 26341997, 27539099, 27599571, 27600068, 27605918, 26418427, 27615894, 27617451, 27618661, 26552709, 26563089, 28071011, 28073916, 28117126, 26940647, 28560731, 30220513, 30245612, 30265360, 30466981, 29176552, 30581116, 30753359, 29376835, 31303354, 29868433, 32598853, 32011427, 32135840, 33010115, 33159295, 32433549, 32455684, 33206380, 34467028, 34493941, 34532547, 34533144, 34011767, 34204455, 34322184, 35145429, 35505572, 35591726, 35611685, 35611767, 35611837, 36440969, 36497612, 36678559, 36826691, 37796507, 37966528, 37967012, 37978708, 37406112, 38987546, 38118898, 38120578, 39074453, 39769189, 39808007, 40753512, 40753581, 39986180, 40753595, 40802008, 40802085, 40802136, 40802228, 40855773, 40606283, 40655941, 40748129, 40753387, 41230237, 41395029, 41495615, 41739723, 41857160, 42683930, 43699881, 43824956, 45108052, 45250837, 45296632, 45359925, 45709433, 48590770, 45968835, 50303363, 50378324, 51462996, 51600586, 51838866, 52711912, 52821520, 52196082, 52274786, 52319964, 52405570, 54188355, 54188418, 54255739, 54255886, 53567561, 554092988304710652, 554106115061235323, 554107603599770813, 554109000653251610, 554112327483969367, 559364982878228875, 595451807363045433, 602089579883111617, 613829058322990491, 653265503925724074, 617288024711107485, 658395685181196120, 659904292924629719, 701070952508622673, 678155501942692283, 684054396347155859, 704823709237371920, 689192267696277012, 709122746464370986, 709131023580834958, 692088673017569356, 692804245589277408, 697660155237369866, 698317441115511619, 729587024997178381, 733295475350541479, 733781379397976409, 741672381133061454, 741679202560302667, 743108839905315839, 744760241432823124, 817196070864448954, 820942402659816771, 806966476473135544, 807675656270226907, 807680416085116912, 807682586483941230, 807684208837043608, 808099177768162020, 840985079777351460, 854890576400459864, 856411208202489480, 856998614508561337, 857678029839780214, 862140883533006821, 862192021601842747, 862192686255082895, 862203366054529007, 845591766511332689, 868705760879930083, 868713422818072962, 849904983657757980, 849933300156773473, 849944099007595605, 849950138449124609, 849964179862466363, 849975026602526987, 850612650379296516, 853449515928544509, 854114673599318410, 880825389206160218, 880829846973742643, 908449819355594566, 908452175534766030, 945296409882984631, 967229455655252680, 977466719617229854, 986826364565972927, 991065164307680743, 993589349889972325, 1025279883239618667, 1025908460539009403, 1012849728019228568, 1036181568733815012, 1071730985957647632, 1080213611798243209, 1081097650992443024, 1065858804063666232, 1085345655421747380, 1071697268573341999, 1085396509266939914, 1085401248959818110, 1134492764338355995, 1129276668164500275, 1130434089998644460, 1172950516850350787, 1163549899953888023, 1177336194970006586, 1178281870441546816, 1189091917558426698, 1194079538606409784, 1208725575290781199, 1257931094690462511, 1259392220091411155, 1267912358660233723, 1242571860995742026, 1269365159333474366, 1273034369814996072, 1273884094349697937, 1256540622125406409, 1280414729500201371, 1281741221260572620, 1284565992298040675, 1304367309459648642, 1287642033924279877, 1289075787499379023, 1293893214249848369, 1313003671121552359, 1296846633181172315, 1314490303546258762, 1315327981665565213, 1315738290123518468, 1297668926728482984, 1297785524499187085, 1299229618052667749, 1323103342484247859, 1326270504065555888, 1327610103574765126, 1340138537200486643, 1340450441110378619, 1328779125603693887, 1341108200015362423, 1329765995507211023, 1330884618680364469, 1333282711751266436, 1336270932708699266, 1336943390444240272, 1353495008046007005, 1353511913213150385, 1353517056640339487, 1353831020797026747, 1360322103669864742, 1360964459477275660, 1355813162837081504, 1362200893158496271, 1356526723381143238, 1363873562452756929, 1365893928883912698]"
        ],
        [
         "21",
         "host_has_profile_pic",
         "object",
         "10",
         "0.13",
         "[25820788, 28071011, 33010115, 849904983657757980, 849933300156773473, 849944099007595605, 849950138449124609, 849964179862466363, 849975026602526987, 993589349889972325]"
        ],
        [
         "22",
         "host_id",
         "int64",
         "0",
         "0.0",
         "[]"
        ],
        [
         "23",
         "host_identity_verified",
         "object",
         "10",
         "0.13",
         "[25820788, 28071011, 33010115, 849904983657757980, 849933300156773473, 849944099007595605, 849950138449124609, 849964179862466363, 849975026602526987, 993589349889972325]"
        ],
        [
         "24",
         "host_is_superhost",
         "object",
         "290",
         "3.73",
         "[149749, 831560, 335961, 357073, 1503769, 1753171, 2873890, 3044146, 2503722, 2635900, 3552694, 3777330, 5003167, 5409458, 5425891, 4216103, 5641271, 5653637, 5691428, 6385898, 8378294, 7912117, 9917537, 10117414, 10976716, 10820972, 12323924, 12601531, 13162260, 14215939, 14366208, 14375002, 14817407, 15020296, 16046081, 16760743, 17487293, 16774862, 16820471, 17647919, 16969709, 18003605, 17252516, 18456546, 19772259, 19838910, 19910159, 18831853, 18904834, 18905564, 19305890, 19345685, 19384781, 20589372, 19546787, 20770032, 22338841, 22805916, 23333662, 23365669, 23444096, 23477048, 23639309, 24610567, 24519204, 25126871, 25367088, 25443000, 27302438, 27515029, 27636393, 27687653, 28022331, 27070576, 27096535, 28438681, 28629026, 30467176, 31563752, 30067616, 32488130, 32857874, 32096274, 33387873, 33535867, 34493941, 33905388, 33922446, 34769137, 34190201, 34827691, 34828586, 34385695, 35753480, 35835881, 37225514, 38014881, 38039440, 38148201, 38208643, 38237339, 39480397, 38568014, 39907998, 39995781, 40819642, 40606283, 40628515, 41236121, 42239335, 42418890, 41794005, 43363347, 44586566, 43828270, 45709433, 48456554, 48478221, 48949721, 49578014, 49723789, 48258018, 49864876, 48409863, 50015261, 50719000, 51054280, 51132554, 50436949, 51271764, 51385910, 52431342, 52431689, 52711912, 52880141, 52967339, 53253678, 52319964, 52416887, 53393194, 53457166, 53717203, 576925166911492754, 587047216167742674, 599953954122664992, 602030037747448001, 602089579883111617, 602600126594028892, 609769681910660098, 612306870764866953, 616703040333924885, 617439460572975089, 654947667271912278, 620309936761654143, 620315804338476983, 620327730605212540, 620332217975084264, 658395685181196120, 624537348830995631, 624675773517222415, 668624100482637049, 680143510068064957, 684648170377799415, 712088225086724526, 689750119988606795, 712113708309561812, 713468413653295397, 717289314940908905, 692398783044089715, 732522539484314144, 733235573952127957, 751969699715339396, 753310481166218809, 753689709697898013, 764974252654522587, 765034532290081966, 765115847361336372, 765134524093655303, 775158475945813412, 786818313032849476, 787024808576386804, 787035882963178360, 787051557306213827, 787069739879614242, 787086719246637295, 787100134766105538, 787114207051158657, 787137463012612394, 787152902567157850, 787166134283194242, 811736994018743520, 815797364829037633, 789832668314206901, 802633552724786344, 807172927993421544, 808715678478646782, 831749875617113346, 841060322078597452, 866708694519949048, 869627659266304781, 905012196765426125, 906418791661297145, 906464947432834918, 912080631363242453, 900316189302396486, 918773555791503555, 917793784353272176, 926010749130496340, 943237197679571427, 927219782121965863, 934496244339360087, 954829424053217642, 935238632273976717, 957890980987243124, 957995381075738308, 958585586787746669, 971406619635037674, 973876919369586833, 960750958293194658, 975990456804470675, 983142924055698204, 986826364565972927, 1017943737210623048, 1020212997792042744, 1020944684221145146, 1006449664247736876, 1046901532589310562, 1073147584627293029, 1060674935133918036, 1075475518106635125, 1064398464517700062, 1083371516537937524, 1083553473678978563, 1070516367301049544, 1104799871389380111, 1109514300332624150, 1109521954576816643, 1095808676974831779, 1114981641809039543, 1096910057225390433, 1116738369193202892, 1121643638051193011, 1133109670888736134, 1134532765975756746, 1128961993694770392, 1130303866671637604, 1144158094207221453, 1154226600204779461, 1155006250823627046, 1156539906392343268, 1173684881354469863, 1177395821061073327, 1178281870441546816, 1181337689859769761, 1183146326111268842, 1189837933325037926, 1192060107472842224, 1211515539719764431, 1211647294048663611, 1209438882312960574, 1220898313472090238, 1223632234027887776, 1223667650427122081, 1262258790992685156, 1237443157689096307, 1266593751112680720, 1243264183793133512, 1244317297172390794, 1268671630900869265, 1253733176449330034, 1284811362016973772, 1303535450225069353, 1287642033924279877, 1292658022484131506, 1297148939963358992, 1316880410136989665, 1330492198104237106, 1330561066615318397, 1344706414158557191, 1334721478605903218, 1346370365532280550, 1338611794887931220, 1350857440804188101, 1347881259077484850, 1352223747164241456, 1354139981539751020, 1354198254370535190, 1350809073039465540, 1361611678638605813, 1363939681345638896]"
        ],
        [
         "25",
         "host_listings_count",
         "float64",
         "10",
         "0.13",
         "[25820788, 28071011, 33010115, 849904983657757980, 849933300156773473, 849944099007595605, 849950138449124609, 849964179862466363, 849975026602526987, 993589349889972325]"
        ],
        [
         "26",
         "host_name",
         "object",
         "10",
         "0.13",
         "[25820788, 28071011, 33010115, 849904983657757980, 849933300156773473, 849944099007595605, 849950138449124609, 849964179862466363, 849975026602526987, 993589349889972325]"
        ],
        [
         "27",
         "host_picture_url",
         "object",
         "10",
         "0.13",
         "[25820788, 28071011, 33010115, 849904983657757980, 849933300156773473, 849944099007595605, 849950138449124609, 849964179862466363, 849975026602526987, 993589349889972325]"
        ],
        [
         "28",
         "host_response_rate",
         "object",
         "761",
         "9.79",
         "[423767, 72821, 99238, 149749, 641360, 648497, 676323, 208801, 804777, 846521, 926604, 331151, 999441, 1012804, 1034213, 1038620, 1181536, 1230451, 388399, 412848, 1832112, 1834997, 1916543, 1316277, 1316352, 2012828, 2014854, 1533624, 1615895, 2151599, 1723179, 2202020, 3020830, 2402601, 3203677, 3206143, 3314930, 3356926, 3382998, 3383300, 3709382, 3518072, 3524290, 3641725, 3769807, 3814415, 4871612, 4947604, 5079256, 5188488, 5253772, 5268522, 5302362, 5317049, 5349074, 5472292, 4272967, 5568794, 4332045, 5734857, 5776201, 5782605, 5809349, 4600925, 5962685, 6682798, 6791981, 6793335, 6863620, 6987387, 7018697, 7212771, 6333933, 6398170, 7268407, 7282315, 6443733, 6488939, 6514655, 6552418, 6552897, 7682178, 7744599, 8423436, 7878749, 7912117, 7969977, 8561397, 8736169, 8854140, 9801176, 9011339, 9104416, 10009859, 10027171, 10114926, 9706595, 11037556, 11193552, 10406840, 11291528, 11352211, 10579776, 10610104, 10639339, 11417636, 10795221, 10848085, 11834048, 11878822, 12356453, 12395018, 12395830, 12452977, 12099568, 12505135, 13337354, 13339026, 13426020, 12822904, 13470839, 13486416, 12864747, 12878255, 13557482, 13593769, 12965595, 13669027, 13074432, 13075813, 13824694, 13854803, 13897359, 13940818, 13954375, 13181481, 13984636, 13988827, 14194286, 14216510, 14035254, 14350809, 14411510, 15254116, 15279977, 14623672, 14925459, 14927241, 15748398, 15848199, 15857106, 15863506, 15993926, 15062156, 16044516, 16142745, 17275936, 17417725, 16759346, 17454741, 16789967, 17566689, 16848003, 16878221, 16888777, 16904707, 16969709, 18171986, 17049214, 17083555, 17103422, 17144987, 18252889, 18310068, 17210624, 18322676, 18403345, 18403998, 18404123, 18404739, 19612812, 18456546, 19774048, 18622990, 18628831, 18643951, 19926827, 19935227, 20033951, 18996187, 20180833, 19060006, 19138743, 20213463, 20226504, 19170663, 19361537, 20512997, 20753317, 20759436, 20951482, 21101169, 21180693, 21417546, 21470390, 21484487, 21577826, 21594257, 21761595, 21794530, 22542097, 21824763, 21930834, 21939841, 22607982, 22642183, 22695387, 22913874, 22724998, 22726630, 22743268, 23033531, 22873389, 23319025, 23332524, 23381510, 23639309, 24073401, 24727118, 24276039, 24844704, 24369371, 24385633, 24903402, 24934520, 24967985, 24992475, 25013963, 25250080, 25312863, 25339688, 25820788, 25443000, 25883820, 25988358, 26162087, 27271176, 27336937, 27451744, 27454257, 26341997, 27539099, 27599571, 27600068, 27605918, 26418427, 27615894, 27617451, 27618661, 26552709, 26563089, 27840473, 27891542, 27905378, 26794701, 28025140, 28071011, 28073916, 28117126, 26940647, 27011653, 28125365, 28560731, 30220513, 28850146, 30245612, 30265360, 28876975, 30466981, 29176552, 30581116, 30753359, 29255439, 29376835, 31203307, 31303354, 29774356, 29868433, 31508921, 31615335, 30102306, 31660265, 32598853, 32732489, 32737889, 32011427, 32135840, 33010115, 33037671, 32298571, 33159295, 32433549, 32455684, 33206380, 33438466, 33672054, 33729264, 33759620, 34467028, 34486921, 34487124, 34487577, 34493941, 33922446, 34532547, 34533144, 34011767, 34192937, 34194406, 34198553, 34198773, 34204455, 34214770, 34992635, 35014667, 34322184, 34377021, 35145429, 35153719, 35408588, 36065811, 36066436, 36066515, 36171075, 35505069, 35505572, 35591726, 35611685, 35611767, 35611837, 36440969, 36464902, 36465605, 36497612, 36500548, 36500837, 35828091, 37543558, 37546004, 37546481, 36678559, 36785116, 36826691, 37313455, 37344350, 37955200, 37966528, 37967012, 37978708, 37457978, 37983602, 38030698, 38987546, 38118898, 38120578, 39074453, 39249695, 38366188, 39769189, 39808007, 40753512, 40753581, 39986180, 40753595, 40855773, 40437093, 40606283, 40655941, 41017509, 40748129, 40751721, 40753284, 40753310, 40753325, 40753387, 41230237, 41236121, 41301335, 41395029, 41495615, 41500137, 42246003, 42291642, 41583708, 41739723, 41767719, 42484615, 42522464, 41857160, 42683930, 42788005, 42980923, 44339659, 43699881, 43709157, 45051195, 43824956, 45077717, 45108052, 45199986, 45250837, 45296632, 45359925, 45444597, 45589908, 44325296, 45709433, 48590770, 47025541, 47303256, 49509963, 47864169, 48210114, 48253597, 49892807, 48325884, 48326905, 49963602, 50045590, 50070674, 50233990, 50278704, 50303363, 51020170, 50378324, 51260256, 51277384, 51277434, 51462996, 51600586, 51301136, 51609276, 51401286, 51405464, 51416594, 51721705, 52528726, 51838866, 52564047, 52711912, 52821520, 52979664, 52045203, 52059320, 52196082, 52274786, 52319964, 52405570, 54048617, 53378257, 53396142, 54099920, 54188355, 54188418, 54310852, 53567561, 54310897, 54326169, 54401249, 53605241, 546894922088297161, 554092988304710652, 554106115061235323, 554107603599770813, 554109000653251610, 554112327483969367, 576733228936794558, 559364982878228875, 578733875985469454, 585336565841810196, 567270769493238695, 595451807363045433, 599295806208463981, 602089579883111617, 645440840550150229, 603976984595737078, 606337751482983732, 609290898779100981, 611520264685430763, 651879072182429115, 613829058322990491, 616035025546642981, 653265503925724074, 617288024711107485, 658395685181196120, 659904292924629719, 630450386688784710, 661420937317454555, 671495131372804832, 671499391376551498, 671502439065092652, 671504996561751909, 671507608882429537, 671512068583594186, 667702716418352345, 672131284747383829, 672135415536352376, 672140113657565652, 672143125182310747, 672151723194425517, 672156581317155373, 672159140052101625, 672161053818689306, 672162738836687009, 670133936049220562, 673564140178408724, 676124249847272043, 671409777664608461, 701070952508622673, 679498594637487931, 684054396347155859, 684581082012406033, 704823709237371920, 685349629564161028, 686297002562728779, 709122746464370986, 709131023580834958, 692088673017569356, 692804245589277408, 697660155237369866, 698317441115511619, 724502932255405735, 724549473987401732, 724557091398859840, 728685803584988906, 747479976789475259, 729587024997178381, 733235573952127957, 733295475350541479, 733530290707276780, 733781379397976409, 741045646897395177, 741672381133061454, 741679202560302667, 743108839905315839, 744760241432823124, 778022836898556302, 809126253713807648, 788310451422292596, 817196070864448954, 820942402659816771, 806966476473135544, 807172927993421544, 807675656270226907, 807680416085116912, 807682586483941230, 829232242195913025, 829245078528604905, 830295690272706295, 807684208837043608, 808099177768162020, 830368920587858984, 830392552733062413, 840985079777351460, 854890576400459864, 856411208202489480, 856998614508561337, 857678029839780214, 862140883533006821, 862192021601842747, 844128612348038699, 862192686255082895, 862203366054529007, 864288950872962544, 845554659208037123, 845591766511332689, 867975551966097487, 868705760879930083, 868713422818072962, 848435322725836768, 849904983657757980, 849933300156773473, 849944099007595605, 849950138449124609, 849964179862466363, 849975026602526987, 853449515928544509, 874528213181534672, 875062299702523610, 854114673599318410, 877337207890881386, 904289194736080237, 880825389206160218, 880829846973742643, 905139769927877381, 885494884138712348, 889211771041724039, 908449819355594566, 908452175534766030, 897716429609769992, 898304615063406289, 901220569668578885, 922171703902677597, 924398117683958821, 924426459253112636, 926047498183594290, 926530538620610967, 945296409882984631, 967229455655252680, 957995381075738308, 958424743922064382, 969498170866937575, 977466719617229854, 977500059155237747, 995736283272769462, 978837903500153696, 999891247297923594, 1001341233025177499, 986826364565972927, 987698851343710249, 989861195408373493, 991065164307680743, 993589349889972325, 1012849728019228568, 1032636780079013993, 1049160676049678787, 1039091256868952584, 1054283059928628507, 1044332459456152240, 1045438950210180404, 1046187786747757973, 1047105417583551873, 1059965658285244867, 1047532247583677539, 1047541681816501904, 1072687785531220479, 1073995144896394653, 1060046432179361859, 1064288645299628696, 1080213611798243209, 1081097650992443024, 1065858804063666232, 1067301357031315949, 1067395816890425963, 1082430366392016776, 1082430456875435750, 1082430546475607967, 1067836474245419546, 1085345655421747380, 1070164219123199142, 1085396509266939914, 1085401248959818110, 1087488145006164690, 1090402160443482826, 1090664426013303025, 1092043940253574173, 1106372780749038706, 1111563715437318016, 1112112464917101688, 1112123570488922115, 1097656178690588757, 1117852176088159838, 1118629787407576324, 1120304299036193519, 1132425637187535747, 1122364198522681494, 1124378020875145813, 1134492764338355995, 1125382434265334913, 1126024346850122681, 1126778646373414970, 1138164411197049674, 1128841315755111584, 1129276668164500275, 1138525185921733968, 1130434089998644460, 1143197638152214647, 1146235880517350529, 1144782101988804907, 1146223316781299250, 1146231339027145342, 1167176507878028232, 1167347270554946277, 1150710839576490327, 1155960875968885439, 1172950516850350787, 1163549899953888023, 1177336194970006586, 1178281870441546816, 1181348934636153161, 1198287306785345437, 1184226057349901133, 1188584934136387294, 1189091917558426698, 1190675367521625163, 1192036933105008789, 1192060107472842224, 1206990237100471298, 1207248751738611278, 1194079538606409784, 1208725575290781199, 1210889248576632028, 1209438882312960574, 1217472734879709251, 1217920697687130827, 1217929100913118190, 1217938125458878631, 1217965703167491815, 1217969057016379785, 1217981445000394516, 1217982988443106277, 1217985139192087743, 1217988478801006672, 1217990528142251530, 1220845510783223547, 1221731178597045771, 1214320768004897030, 1257931094690462511, 1259392220091411155, 1242571860995742026, 1269365159333474366, 1247013264722070801, 1273034369814996072, 1273884094349697937, 1273915376791991136, 1253560186404175207, 1256540622125406409, 1279558795865919959, 1279607849322776151, 1279622572559088418, 1280414729500201371, 1281741221260572620, 1284565992298040675, 1304367309459648642, 1287642033924279877, 1289075787499379023, 1293893214249848369, 1313003671121552359, 1296846633181172315, 1314490303546258762, 1315327981665565213, 1315738290123518468, 1297668926728482984, 1299229618052667749, 1323103342484247859, 1327610103574765126, 1340138537200486643, 1340450441110378619, 1328779125603693887, 1341108200015362423, 1329765995507211023, 1330884618680364469, 1333282711751266436, 1336270932708699266, 1336943390444240272, 1360964459477275660, 1355813162837081504, 1362200893158496271, 1356526723381143238, 1363873562452756929, 1365893928883912698]"
        ],
        [
         "29",
         "host_response_time",
         "object",
         "761",
         "9.79",
         "[423767, 72821, 99238, 149749, 641360, 648497, 676323, 208801, 804777, 846521, 926604, 331151, 999441, 1012804, 1034213, 1038620, 1181536, 1230451, 388399, 412848, 1832112, 1834997, 1916543, 1316277, 1316352, 2012828, 2014854, 1533624, 1615895, 2151599, 1723179, 2202020, 3020830, 2402601, 3203677, 3206143, 3314930, 3356926, 3382998, 3383300, 3709382, 3518072, 3524290, 3641725, 3769807, 3814415, 4871612, 4947604, 5079256, 5188488, 5253772, 5268522, 5302362, 5317049, 5349074, 5472292, 4272967, 5568794, 4332045, 5734857, 5776201, 5782605, 5809349, 4600925, 5962685, 6682798, 6791981, 6793335, 6863620, 6987387, 7018697, 7212771, 6333933, 6398170, 7268407, 7282315, 6443733, 6488939, 6514655, 6552418, 6552897, 7682178, 7744599, 8423436, 7878749, 7912117, 7969977, 8561397, 8736169, 8854140, 9801176, 9011339, 9104416, 10009859, 10027171, 10114926, 9706595, 11037556, 11193552, 10406840, 11291528, 11352211, 10579776, 10610104, 10639339, 11417636, 10795221, 10848085, 11834048, 11878822, 12356453, 12395018, 12395830, 12452977, 12099568, 12505135, 13337354, 13339026, 13426020, 12822904, 13470839, 13486416, 12864747, 12878255, 13557482, 13593769, 12965595, 13669027, 13074432, 13075813, 13824694, 13854803, 13897359, 13940818, 13954375, 13181481, 13984636, 13988827, 14194286, 14216510, 14035254, 14350809, 14411510, 15254116, 15279977, 14623672, 14925459, 14927241, 15748398, 15848199, 15857106, 15863506, 15993926, 15062156, 16044516, 16142745, 17275936, 17417725, 16759346, 17454741, 16789967, 17566689, 16848003, 16878221, 16888777, 16904707, 16969709, 18171986, 17049214, 17083555, 17103422, 17144987, 18252889, 18310068, 17210624, 18322676, 18403345, 18403998, 18404123, 18404739, 19612812, 18456546, 19774048, 18622990, 18628831, 18643951, 19926827, 19935227, 20033951, 18996187, 20180833, 19060006, 19138743, 20213463, 20226504, 19170663, 19361537, 20512997, 20753317, 20759436, 20951482, 21101169, 21180693, 21417546, 21470390, 21484487, 21577826, 21594257, 21761595, 21794530, 22542097, 21824763, 21930834, 21939841, 22607982, 22642183, 22695387, 22913874, 22724998, 22726630, 22743268, 23033531, 22873389, 23319025, 23332524, 23381510, 23639309, 24073401, 24727118, 24276039, 24844704, 24369371, 24385633, 24903402, 24934520, 24967985, 24992475, 25013963, 25250080, 25312863, 25339688, 25820788, 25443000, 25883820, 25988358, 26162087, 27271176, 27336937, 27451744, 27454257, 26341997, 27539099, 27599571, 27600068, 27605918, 26418427, 27615894, 27617451, 27618661, 26552709, 26563089, 27840473, 27891542, 27905378, 26794701, 28025140, 28071011, 28073916, 28117126, 26940647, 27011653, 28125365, 28560731, 30220513, 28850146, 30245612, 30265360, 28876975, 30466981, 29176552, 30581116, 30753359, 29255439, 29376835, 31203307, 31303354, 29774356, 29868433, 31508921, 31615335, 30102306, 31660265, 32598853, 32732489, 32737889, 32011427, 32135840, 33010115, 33037671, 32298571, 33159295, 32433549, 32455684, 33206380, 33438466, 33672054, 33729264, 33759620, 34467028, 34486921, 34487124, 34487577, 34493941, 33922446, 34532547, 34533144, 34011767, 34192937, 34194406, 34198553, 34198773, 34204455, 34214770, 34992635, 35014667, 34322184, 34377021, 35145429, 35153719, 35408588, 36065811, 36066436, 36066515, 36171075, 35505069, 35505572, 35591726, 35611685, 35611767, 35611837, 36440969, 36464902, 36465605, 36497612, 36500548, 36500837, 35828091, 37543558, 37546004, 37546481, 36678559, 36785116, 36826691, 37313455, 37344350, 37955200, 37966528, 37967012, 37978708, 37457978, 37983602, 38030698, 38987546, 38118898, 38120578, 39074453, 39249695, 38366188, 39769189, 39808007, 40753512, 40753581, 39986180, 40753595, 40855773, 40437093, 40606283, 40655941, 41017509, 40748129, 40751721, 40753284, 40753310, 40753325, 40753387, 41230237, 41236121, 41301335, 41395029, 41495615, 41500137, 42246003, 42291642, 41583708, 41739723, 41767719, 42484615, 42522464, 41857160, 42683930, 42788005, 42980923, 44339659, 43699881, 43709157, 45051195, 43824956, 45077717, 45108052, 45199986, 45250837, 45296632, 45359925, 45444597, 45589908, 44325296, 45709433, 48590770, 47025541, 47303256, 49509963, 47864169, 48210114, 48253597, 49892807, 48325884, 48326905, 49963602, 50045590, 50070674, 50233990, 50278704, 50303363, 51020170, 50378324, 51260256, 51277384, 51277434, 51462996, 51600586, 51301136, 51609276, 51401286, 51405464, 51416594, 51721705, 52528726, 51838866, 52564047, 52711912, 52821520, 52979664, 52045203, 52059320, 52196082, 52274786, 52319964, 52405570, 54048617, 53378257, 53396142, 54099920, 54188355, 54188418, 54310852, 53567561, 54310897, 54326169, 54401249, 53605241, 546894922088297161, 554092988304710652, 554106115061235323, 554107603599770813, 554109000653251610, 554112327483969367, 576733228936794558, 559364982878228875, 578733875985469454, 585336565841810196, 567270769493238695, 595451807363045433, 599295806208463981, 602089579883111617, 645440840550150229, 603976984595737078, 606337751482983732, 609290898779100981, 611520264685430763, 651879072182429115, 613829058322990491, 616035025546642981, 653265503925724074, 617288024711107485, 658395685181196120, 659904292924629719, 630450386688784710, 661420937317454555, 671495131372804832, 671499391376551498, 671502439065092652, 671504996561751909, 671507608882429537, 671512068583594186, 667702716418352345, 672131284747383829, 672135415536352376, 672140113657565652, 672143125182310747, 672151723194425517, 672156581317155373, 672159140052101625, 672161053818689306, 672162738836687009, 670133936049220562, 673564140178408724, 676124249847272043, 671409777664608461, 701070952508622673, 679498594637487931, 684054396347155859, 684581082012406033, 704823709237371920, 685349629564161028, 686297002562728779, 709122746464370986, 709131023580834958, 692088673017569356, 692804245589277408, 697660155237369866, 698317441115511619, 724502932255405735, 724549473987401732, 724557091398859840, 728685803584988906, 747479976789475259, 729587024997178381, 733235573952127957, 733295475350541479, 733530290707276780, 733781379397976409, 741045646897395177, 741672381133061454, 741679202560302667, 743108839905315839, 744760241432823124, 778022836898556302, 809126253713807648, 788310451422292596, 817196070864448954, 820942402659816771, 806966476473135544, 807172927993421544, 807675656270226907, 807680416085116912, 807682586483941230, 829232242195913025, 829245078528604905, 830295690272706295, 807684208837043608, 808099177768162020, 830368920587858984, 830392552733062413, 840985079777351460, 854890576400459864, 856411208202489480, 856998614508561337, 857678029839780214, 862140883533006821, 862192021601842747, 844128612348038699, 862192686255082895, 862203366054529007, 864288950872962544, 845554659208037123, 845591766511332689, 867975551966097487, 868705760879930083, 868713422818072962, 848435322725836768, 849904983657757980, 849933300156773473, 849944099007595605, 849950138449124609, 849964179862466363, 849975026602526987, 853449515928544509, 874528213181534672, 875062299702523610, 854114673599318410, 877337207890881386, 904289194736080237, 880825389206160218, 880829846973742643, 905139769927877381, 885494884138712348, 889211771041724039, 908449819355594566, 908452175534766030, 897716429609769992, 898304615063406289, 901220569668578885, 922171703902677597, 924398117683958821, 924426459253112636, 926047498183594290, 926530538620610967, 945296409882984631, 967229455655252680, 957995381075738308, 958424743922064382, 969498170866937575, 977466719617229854, 977500059155237747, 995736283272769462, 978837903500153696, 999891247297923594, 1001341233025177499, 986826364565972927, 987698851343710249, 989861195408373493, 991065164307680743, 993589349889972325, 1012849728019228568, 1032636780079013993, 1049160676049678787, 1039091256868952584, 1054283059928628507, 1044332459456152240, 1045438950210180404, 1046187786747757973, 1047105417583551873, 1059965658285244867, 1047532247583677539, 1047541681816501904, 1072687785531220479, 1073995144896394653, 1060046432179361859, 1064288645299628696, 1080213611798243209, 1081097650992443024, 1065858804063666232, 1067301357031315949, 1067395816890425963, 1082430366392016776, 1082430456875435750, 1082430546475607967, 1067836474245419546, 1085345655421747380, 1070164219123199142, 1085396509266939914, 1085401248959818110, 1087488145006164690, 1090402160443482826, 1090664426013303025, 1092043940253574173, 1106372780749038706, 1111563715437318016, 1112112464917101688, 1112123570488922115, 1097656178690588757, 1117852176088159838, 1118629787407576324, 1120304299036193519, 1132425637187535747, 1122364198522681494, 1124378020875145813, 1134492764338355995, 1125382434265334913, 1126024346850122681, 1126778646373414970, 1138164411197049674, 1128841315755111584, 1129276668164500275, 1138525185921733968, 1130434089998644460, 1143197638152214647, 1146235880517350529, 1144782101988804907, 1146223316781299250, 1146231339027145342, 1167176507878028232, 1167347270554946277, 1150710839576490327, 1155960875968885439, 1172950516850350787, 1163549899953888023, 1177336194970006586, 1178281870441546816, 1181348934636153161, 1198287306785345437, 1184226057349901133, 1188584934136387294, 1189091917558426698, 1190675367521625163, 1192036933105008789, 1192060107472842224, 1206990237100471298, 1207248751738611278, 1194079538606409784, 1208725575290781199, 1210889248576632028, 1209438882312960574, 1217472734879709251, 1217920697687130827, 1217929100913118190, 1217938125458878631, 1217965703167491815, 1217969057016379785, 1217981445000394516, 1217982988443106277, 1217985139192087743, 1217988478801006672, 1217990528142251530, 1220845510783223547, 1221731178597045771, 1214320768004897030, 1257931094690462511, 1259392220091411155, 1242571860995742026, 1269365159333474366, 1247013264722070801, 1273034369814996072, 1273884094349697937, 1273915376791991136, 1253560186404175207, 1256540622125406409, 1279558795865919959, 1279607849322776151, 1279622572559088418, 1280414729500201371, 1281741221260572620, 1284565992298040675, 1304367309459648642, 1287642033924279877, 1289075787499379023, 1293893214249848369, 1313003671121552359, 1296846633181172315, 1314490303546258762, 1315327981665565213, 1315738290123518468, 1297668926728482984, 1299229618052667749, 1323103342484247859, 1327610103574765126, 1340138537200486643, 1340450441110378619, 1328779125603693887, 1341108200015362423, 1329765995507211023, 1330884618680364469, 1333282711751266436, 1336270932708699266, 1336943390444240272, 1360964459477275660, 1355813162837081504, 1362200893158496271, 1356526723381143238, 1363873562452756929, 1365893928883912698]"
        ],
        [
         "30",
         "host_since",
         "object",
         "10",
         "0.13",
         "[25820788, 28071011, 33010115, 849904983657757980, 849933300156773473, 849944099007595605, 849950138449124609, 849964179862466363, 849975026602526987, 993589349889972325]"
        ],
        [
         "31",
         "host_thumbnail_url",
         "object",
         "10",
         "0.13",
         "[25820788, 28071011, 33010115, 849904983657757980, 849933300156773473, 849944099007595605, 849950138449124609, 849964179862466363, 849975026602526987, 993589349889972325]"
        ],
        [
         "32",
         "host_total_listings_count",
         "float64",
         "10",
         "0.13",
         "[25820788, 28071011, 33010115, 849904983657757980, 849933300156773473, 849944099007595605, 849950138449124609, 849964179862466363, 849975026602526987, 993589349889972325]"
        ],
        [
         "33",
         "host_url",
         "object",
         "0",
         "0.0",
         "[]"
        ],
        [
         "34",
         "host_verifications",
         "object",
         "10",
         "0.13",
         "[25820788, 28071011, 33010115, 849904983657757980, 849933300156773473, 849944099007595605, 849950138449124609, 849964179862466363, 849975026602526987, 993589349889972325]"
        ],
        [
         "35",
         "id",
         "int64",
         "0",
         "0.0",
         "[]"
        ],
        [
         "36",
         "instant_bookable",
         "object",
         "0",
         "0.0",
         "[]"
        ],
        [
         "37",
         "last_review",
         "object",
         "740",
         "9.52",
         "[1482860, 2014854, 3118010, 6782983, 7018697, 7212771, 6488939, 6552897, 7712239, 8423436, 8561397, 8645053, 8736169, 9763587, 11352211, 10795221, 12864747, 12879781, 13593769, 13122321, 17801722, 17272157, 19170663, 22141357, 21643196, 21824763, 22779581, 23118034, 23955078, 27336937, 26341997, 27539099, 27599571, 27600068, 27605918, 27615894, 27617451, 26680623, 28025140, 30244448, 31615335, 32183486, 32322762, 32323055, 33600966, 33601646, 34486921, 34487577, 33923459, 34192937, 34194406, 34198553, 34377021, 35263784, 36065811, 36066436, 36066515, 35505069, 35505572, 35611685, 35611767, 35611837, 36464902, 36587753, 36678559, 37955200, 37978708, 39040234, 39076767, 38821048, 39808007, 40753581, 39986180, 40753595, 40802008, 40802085, 40802136, 40802228, 40802833, 40748129, 40751721, 40753325, 40753387, 41230237, 41543818, 41685155, 41739723, 41857160, 42683930, 42948966, 43251320, 43322099, 42985224, 43449007, 43449682, 43449754, 43449998, 44568550, 43699881, 44627642, 43753717, 43824956, 45108052, 45250837, 45444597, 44183891, 44325296, 48590770, 49555393, 49566392, 48195025, 48195026, 48205282, 48253597, 49919813, 49919994, 49920208, 49920262, 50780455, 50438391, 51661171, 52064525, 53942485, 54079591, 54188355, 54188418, 54254885, 54255739, 54255886, 54310852, 54310897, 54384622, 552573882894829155, 554092988304710652, 554107603599770813, 554109000653251610, 554112327483969367, 559364982878228875, 562230939546947110, 568490356244099608, 595451807363045433, 606337751482983732, 613829058322990491, 617288024711107485, 671495131372804832, 671504996561751909, 672135415536352376, 672140113657565652, 672143125182310747, 672151723194425517, 672161053818689306, 672162738836687009, 671409777664608461, 704823709237371920, 704931214865202401, 692804245589277408, 694077603025700878, 724549473987401732, 724557091398859840, 729587024997178381, 733530290707276780, 748999259569336631, 734550726176649255, 736784695652120493, 736795151172005885, 741672381133061454, 741679202560302667, 742433348606442332, 743108839905315839, 744760241432823124, 765034532290081966, 765890871551612909, 766537876117575305, 767207716602797434, 815809045877838400, 791389619039426601, 819686286060935532, 822993737972241831, 807675656270226907, 807680416085116912, 807682586483941230, 829232242195913025, 829245078528604905, 830272643532171896, 830353311598780523, 807684208837043608, 831691520409327634, 831711271176721766, 831718327610589757, 834178316221644052, 834202136066435100, 840396603795249783, 835990297827592549, 856998614508561337, 858087028117335826, 842532162835415942, 858435821862344223, 862140883533006821, 862192021601842747, 862192686255082895, 862203366054529007, 850612650379296516, 851855228108319397, 853449515928544509, 854114673599318410, 880825389206160218, 880829846973742643, 905076124850681268, 885494884138712348, 889211771041724039, 908315293073160121, 908449819355594566, 899920149534747381, 913667464444948575, 938361691001930141, 924398117683958821, 924426459253112636, 926010749130496340, 949057689892091780, 934406800990944137, 955581086249940650, 967229455655252680, 967877549212113691, 959144274645126251, 995736283272769462, 979473953622655549, 981578902412218090, 981827184820246911, 981831074726899704, 986066266111517548, 1004091672108614178, 1004102127557969514, 1004106881106958092, 1004108061436455142, 1004109262864251827, 991065164307680743, 995104320333126876, 1025279883239618667, 1025908460539009403, 1010626665790591601, 1012849728019228568, 1049918645815165674, 1052848162775982712, 1054283059928628507, 1047031147474382514, 1047105417583551873, 1059239607552761338, 1071730985957647632, 1073146486378267839, 1074331024894267292, 1061293727679955622, 1064398464517700062, 1080213611798243209, 1081008104561877015, 1081097650992443024, 1082001594459316931, 1082430366392016776, 1082430456875435750, 1082430546475607967, 1067911233091140375, 1085345655421747380, 1071097983747724332, 1071113243356019555, 1071697268573341999, 1085396509266939914, 1085401248959818110, 1087003825546511891, 1104534029772761431, 1104799871389380111, 1104877451689814299, 1107231528641386167, 1107275392430723514, 1107280535547505853, 1107286736536637404, 1110000899448086373, 1110690216493741810, 1110966470674419245, 1111010461070353705, 1112112464917101688, 1112123570488922115, 1099631111022405097, 1133207254571805076, 1133217599609383527, 1134492764338355995, 1126684210735664943, 1128180673476262563, 1128184020949605416, 1128228024760541758, 1128230340121806052, 1128240619421385957, 1128244893720715302, 1129276668164500275, 1130434089998644460, 1144158094207221453, 1146481357864363038, 1167365697508427852, 1168098030634623672, 1169581081056880046, 1170178722891857155, 1155006250823627046, 1157194531288593044, 1157222969827643276, 1172828773227753595, 1172950516850350787, 1173704255859512740, 1163205960954070502, 1175364113013922394, 1175845318430675889, 1177510105263894249, 1178049798694290654, 1178281870441546816, 1197110953279908046, 1198287306785345437, 1199130295421766898, 1184026459257008703, 1185445861536095295, 1188584934136387294, 1189091917558426698, 1189209222632682160, 1203385314187409577, 1203618602252003745, 1203671947084990603, 1205468699799158498, 1207248751738611278, 1194079538606409784, 1207581483275385888, 1208725575290781199, 1210889248576632028, 1211318388554541948, 1209438882312960574, 1217472734879709251, 1217929100913118190, 1217938125458878631, 1217965703167491815, 1217982988443106277, 1217985139192087743, 1217988478801006672, 1217990528142251530, 1220236420808301151, 1220845510783223547, 1221731178597045771, 1221772306542938783, 1221786960522269595, 1223755878475043521, 1214292649631410069, 1229548080757562963, 1231657321858852570, 1231657527696515473, 1257931094690462511, 1258109724729295809, 1258506299749502699, 1259224077617780583, 1233042106340861086, 1233120891732354082, 1233127515652365234, 1233301339952806429, 1260598674331608934, 1261718315461631752, 1262484070097878024, 1237616852495526769, 1264947265705367166, 1264978346120047412, 1237685862842036245, 1237702795600914486, 1237708481772340314, 1267187032932697305, 1267856449843592794, 1267912358660233723, 1242571860995742026, 1271523875129170373, 1244708534903748569, 1245415208528617193, 1245549360202547947, 1273034369814996072, 1273884094349697937, 1274548019858045776, 1274559703614536490, 1274613688162700215, 1275904232747210514, 1251087164893336128, 1251278845381517419, 1252691630467656627, 1253447719812431481, 1254158024541668916, 1256308621632912145, 1256540622125406409, 1279705569984950325, 1279558795865919959, 1279607849322776151, 1279622572559088418, 1299981592718913476, 1279841508408571445, 1279846460432275443, 1279853545939296566, 1280414729500201371, 1280453963427112295, 1281741221260572620, 1281872336471406164, 1300097955909523031, 1301482640515514012, 1301991803651928230, 1302819947557473340, 1283481045269095552, 1284538550321022592, 1284565992298040675, 1304303738234747433, 1287014378125230463, 1287078040786858269, 1287642033924279877, 1305794432068587489, 1305815691733520799, 1306376515094914292, 1306440814385183490, 1307036180687751203, 1307294989545668848, 1289075787499379023, 1289214257663825244, 1289824728471262528, 1291259652707784365, 1307916686534686272, 1309257512878376838, 1311448602032314650, 1291282523485547227, 1291289799583179150, 1292101441632901278, 1312198150197329270, 1312900433102820040, 1312904549405686861, 1313003671121552359, 1294276786465921429, 1294732956980910802, 1313101447993556449, 1313113067129078372, 1313201565481033729, 1313596943187042083, 1313810948144644531, 1314288376198959952, 1314326268241180587, 1295517957839778358, 1295606706140798565, 1295634091992433793, 1295634110145331318, 1295853066036349279, 1296390135615705479, 1296846633181172315, 1314359117073988907, 1314364005004963547, 1314490303546258762, 1315181828655043954, 1315327981665565213, 1315738290123518468, 1297506389120781008, 1297653047024275377, 1297668926728482984, 1297756486619049622, 1297785524499187085, 1297876542259759498, 1298563984146933671, 1315787509884320238, 1316062065781883893, 1316533145424796463, 1299229618052667749, 1299359966952396218, 1299849539939060028, 1299963381573911983, 1322337217462946252, 1316644160079858254, 1316647119689115416, 1316801858205906771, 1316880410136989665, 1322509130335522001, 1323082902703648038, 1323103342484247859, 1323108152903122644, 1323230692970733332, 1323781225773771898, 1324522499010558557, 1325320780552131972, 1325340442278987634, 1318191311807248040, 1318268701859570262, 1318576470347265316, 1318692457368220905, 1338618915226192231, 1338989456383343007, 1325973690960837961, 1326270504065555888, 1326643520933055178, 1326724096440188804, 1326820758829097941, 1327536547362538127, 1327610103574765126, 1327658068719655989, 1339129256232812275, 1339141688186992945, 1339149536889460738, 1339159423443968097, 1339171854603571289, 1340138537200486643, 1340450441110378619, 1328205032556559595, 1328240484692200913, 1328772308418377392, 1328779125603693887, 1328806380414897867, 1328973686477394217, 1329048135628604219, 1340459214498877705, 1340636411007510030, 1341106961457316020, 1341108200015362423, 1341129506581107523, 1341894915182929412, 1329765995507211023, 1330358189512747073, 1330385267148754308, 1330561066615318397, 1330884618680364469, 1330921057460362098, 1342038905540655364, 1342574699614106972, 1342688066282508702, 1342714493458933686, 1342753998603627779, 1342773596490732195, 1342776902401421742, 1342781485266097769, 1342789540408564951, 1343346821815050219, 1343413014556904820, 1330996532745012421, 1331218121958728326, 1331477430624757427, 1331919567944471532, 1332552396079150793, 1332634200987137979, 1332702592077991900, 1333282711751266436, 1333908714852660842, 1334032853580529300, 1343511677747927314, 1343686121121971588, 1344196928646775731, 1344816873774495533, 1344821144492050015, 1344823193736806609, 1344906319015942126, 1345111860784844135, 1334090265368720210, 1334102352606935100, 1334240677227244317, 1334272020575508905, 1334636503232011923, 1334646270746352378, 1334668605695304642, 1334674042387588224, 1334721478605903218, 1345472608739903169, 1345498154358130374, 1345593425317124542, 1335396269144009761, 1335570188619059817, 1336041214498149874, 1336212495254166382, 1336220332692733321, 1336270932708699266, 1336462816126288377, 1336854663663745192, 1336862000696501509, 1336871322624747952, 1346198446187765553, 1346356948909540365, 1346370365532280550, 1347181098602361395, 1336943390444240272, 1337569326480228729, 1338135301389840576, 1338321200112593310, 1347811123954275649, 1347881259077484850, 1350863100933039235, 1351262123586304425, 1351272053360808430, 1351284820519349761, 1351290301886448824, 1351294011082384050, 1351301164939770232, 1351301409211305933, 1351302633364076690, 1351455655877211913, 1351493666057934078, 1351496852205078127, 1348417490177315749, 1348687331665302253, 1349059986101840643, 1349145251486903063, 1349209672171947022, 1351659072335033319, 1351997347881613135, 1352092070787155488, 1352098727457410161, 1352223747164241456, 1352319160192098450, 1352945524957502121, 1349233131509506893, 1349261955129573000, 1349280133699515789, 1349289866533676679, 1349292485816234625, 1349360056557167811, 1353433749970411906, 1353440941871227136, 1353495008046007005, 1353511913213150385, 1353512233909969538, 1353515291513226895, 1353517056640339487, 1353517672300455253, 1353580369173035247, 1349501052462712380, 1349894508085634529, 1350038429350996125, 1350050965803362516, 1350683150309338060, 1350694901269365355, 1350704694775497715, 1350721788418948243, 1353610011267605574, 1353616078765017075, 1353680577398709228, 1353831020797026747, 1354157211661476271, 1354182115083490535, 1354198254370535190, 1354271961871021242, 1354280243385051934, 1354287187257041842, 1350809073039465540, 1359972998250970942, 1359978882029822062, 1359980931485345735, 1360316936829834236, 1360322103669864742, 1360323992175947701, 1360328126102625309, 1360670388197753434, 1360810799584509413, 1354299077415816489, 1354865104113402695, 1354881897080812786, 1355075446906385054, 1355251811900902130, 1355317716135295082, 1355539412021977467, 1355563006006157558, 1360912767206541429, 1360964459477275660, 1360971349938711335, 1360979783954151484, 1361399051122525278, 1361542345237595010, 1361611678638605813, 1362069284714243006, 1355627617878943355, 1355647098195515119, 1355653035925744587, 1355742172750173409, 1355757424635942324, 1355767346943830614, 1355813162837081504, 1356269141510923430, 1356287891272895542, 1362069310055124724, 1362098243021589875, 1362102017993442586, 1362112197604955543, 1362114818930196721, 1362117550692648947, 1362124197740552890, 1362126368689490123, 1362200893158496271, 1362509169619993826, 1356290905536243971, 1356454335264497980, 1356511895797928756, 1356526723381143238, 1356613157247819459, 1356784526184832339, 1356953228646976614, 1357219046572868664, 1357250408931057862, 1362518031001897841, 1362894404770995768, 1363056913187975043, 1363063118684312899, 1363069078465789326, 1363645110678408300, 1363719144045591776, 1357389604278680597, 1357872907363701635, 1358101732673694705, 1358122865707419750, 1358133145122222306, 1358151502631976046, 1358594251693214475, 1358594266933983870, 1358594284191089936, 1358598034623635013, 1363771633511251110, 1363795213337978305, 1363873562452756929, 1363939681345638896, 1364163399760087653, 1364176866870145727, 1364186396690828405, 1358624782819857102, 1358624799684066640, 1358882349176180617, 1359223003605730811, 1359254542892272496, 1359255239937477474, 1359278347560333727, 1359382050963265181, 1364192188138760641, 1364291651658722459, 1364384423426928523, 1364406083987810151, 1364480825953775275, 1364488503783488263, 1364515630628172433, 1364635286640479993, 1364642608307474895, 1365893928883912698, 1366033048567818030, 1359647331896803736, 1359677892480080968, 1359916708058728026, 1359953511198182591, 1366576092896770388, 1366912719590250705]"
        ],
        [
         "38",
         "last_scraped",
         "object",
         "0",
         "0.0",
         "[]"
        ],
        [
         "39",
         "latitude",
         "float64",
         "0",
         "0.0",
         "[]"
        ],
        [
         "40",
         "license",
         "object",
         "538",
         "6.92",
         "[423767, 72821, 83610, 208801, 906370, 999441, 1038620, 1181536, 388399, 1832112, 1300085, 1422473, 2012828, 2014854, 1533624, 1615895, 2151599, 3020830, 2402601, 3203677, 3314930, 3356926, 3524290, 3656555, 3814415, 4890371, 4923166, 5257636, 5268522, 5302362, 5317049, 4272967, 5734857, 5782605, 6682798, 6863620, 6987387, 7018697, 7212771, 6333933, 6425113, 7268407, 7282315, 6443733, 6514655, 6552418, 6552897, 8301935, 7682178, 8423436, 8547860, 8561397, 8736169, 9801176, 9104416, 9236574, 9244694, 9673914, 9706595, 10406840, 11352211, 10610104, 10639339, 11417636, 10795221, 10848085, 11878822, 12099568, 12505135, 13339026, 12778768, 12822904, 12864747, 12878255, 13557482, 13593769, 13669027, 13160675, 13946488, 13954375, 13988827, 15254116, 15279977, 14623672, 14734523, 14927241, 15863506, 16142745, 17380904, 17381345, 17395156, 16759346, 17801722, 16904707, 17049214, 17083555, 17103422, 18207432, 18252889, 18310068, 17210624, 17242924, 18403345, 18403998, 18404123, 18404739, 19774048, 18841548, 20033951, 18996187, 20180833, 19111973, 19117250, 19170663, 20871712, 21466078, 22542097, 21939841, 22642183, 22695387, 22913874, 22811208, 23299802, 23319025, 23332524, 24073401, 24369371, 24385633, 24967985, 24992475, 25339688, 25883820, 25988358, 26162087, 27336937, 26341997, 27539099, 27599571, 27600068, 27605918, 26418427, 27615894, 27617451, 27618661, 26552709, 26560007, 26563089, 26794701, 28025140, 26940647, 28560731, 30220513, 30245612, 30265360, 30466981, 29176552, 30753359, 29334993, 29376835, 29505444, 29537731, 29648829, 29648972, 29774356, 32543399, 32598853, 32135840, 33080794, 33159295, 32433549, 33206380, 33438466, 34486921, 34487124, 34487577, 33922446, 33923459, 33952729, 34532547, 34004224, 34107661, 34108248, 34192937, 34194406, 34198553, 34198773, 34214770, 34225039, 35014667, 34322184, 34377021, 35145429, 35263784, 36065811, 36066436, 36066515, 35505069, 35505572, 36330119, 35591726, 35611685, 35611767, 35611837, 36437652, 36440969, 35763854, 35828091, 37543558, 37546004, 37546481, 36678559, 37344350, 37978708, 37984387, 39040234, 38118898, 38120578, 39074453, 39076767, 39249695, 39351308, 38821048, 39986180, 40855773, 41230237, 41301335, 41495615, 41543818, 41739723, 41767719, 41857160, 42683930, 42822218, 43206223, 43241098, 43251320, 42985224, 43449007, 43449383, 43449549, 43449682, 43449754, 43449998, 43450064, 44470137, 43490117, 43699881, 44721015, 43753717, 43786480, 43824956, 45077717, 45108052, 45250837, 45444597, 44325296, 45639025, 48195025, 48195026, 48205282, 49876274, 49919782, 49919813, 49919972, 49919994, 49920012, 49920208, 49920262, 49921572, 50869109, 50303363, 51020170, 50476273, 51277384, 51277434, 52821520, 52064525, 53920798, 53942485, 53554924, 53567561, 54384587, 54384622, 53605241, 546894922088297161, 53684196, 554092988304710652, 554106115061235323, 554107603599770813, 554109000653251610, 554112327483969367, 578733875985469454, 561562263004179592, 585336565841810196, 589662381161603767, 592826951537097168, 594584114878427891, 645440840550150229, 603976984595737078, 651307995344592147, 616035025546642981, 616567468851584212, 631735479790897703, 661458283381695159, 671495131372804832, 671499391376551498, 671502439065092652, 671504996561751909, 671507608882429537, 671512068583594186, 667702716418352345, 672131284747383829, 672135415536352376, 672140113657565652, 672143125182310747, 672151723194425517, 672156581317155373, 672159140052101625, 672161053818689306, 672162738836687009, 674315072431841014, 676124249847272043, 671409777664608461, 701070952508622673, 678155501942692283, 707685095284513627, 709131023580834958, 716675001218374596, 692804245589277408, 694077603025700878, 717307136142220253, 718716660876105339, 697660155237369866, 697700555960031786, 724502932255405735, 724549473987401732, 724557091398859840, 748252587124786147, 729587024997178381, 733295475350541479, 736777448434039734, 736784695652120493, 736795151172005885, 736805444814902861, 757651089440922633, 757661897059939968, 741045646897395177, 741672381133061454, 741679202560302667, 743108839905315839, 744760241432823124, 810783260302369000, 810813581724765561, 815809045877838400, 791389619039426601, 806966476473135544, 807675656270226907, 807680416085116912, 807682586483941230, 830295690272706295, 807684208837043608, 830368920587858984, 830392552733062413, 831711271176721766, 831718327610589757, 834178316221644052, 834202136066435100, 856998614508561337, 857041354425621445, 858087028117335826, 844128612348038699, 845554659208037123, 865269458040469106, 868705760879930083, 868713422818072962, 868726020325156664, 872926879981497038, 850612650379296516, 875062299702523610, 875393448678687411, 880825389206160218, 880829846973742643, 881137013820539482, 883722372069765402, 889211771041724039, 889924235833822968, 908452175534766030, 898304615063406289, 920220233733911305, 938361691001930141, 923619373141919932, 924398117683958821, 924426459253112636, 926010749130496340, 926047498183594290, 926530538620610967, 945296409882984631, 947873384145289850, 967229455655252680, 971406619635037674, 977500059155237747, 995627545925197347, 981578902412218090, 999186961174458499, 999891247297923594, 981827184820246911, 981831074726899704, 981834607948611671, 981842783730361729, 989729617903970676, 1010626665790591601, 1057763184406505700, 1076792641188303871, 1079535330656749130, 1079560939755545107, 1080213611798243209, 1065950967909568203, 1066654507859293403, 1081978850142291593, 1082430366392016776, 1082430456875435750, 1082430546475607967, 1084768554433866212, 1084768688449457130, 1105791276366011491, 1106372780749038706, 1108133075629673557, 1110000899448086373, 1094106221667200271, 1094108530533726106, 1094110508637134278, 1114535091822626762, 1118662108306640591, 1133207254571805076, 1133217599609383527, 1125146165144986559, 1134492764338355995, 1134515034450761559, 1126098331522144173, 1126555288368710741, 1134920632145199812, 1127368078645893759, 1127673608505632385, 1128385786864587750, 1129276668164500275, 1130434089998644460, 1130561602069153990, 1141913626198357996, 1146235880517350529, 1146408450146450116, 1144821766157445572, 1144944626902829343, 1146223316781299250, 1146231339027145342, 1166758619393799107, 1167352913652898752, 1167378783944272913, 1168277371767686103, 1151373789838556009, 1168661848204384440, 1169342306661893473, 1169581081056880046, 1155006250823627046, 1171625288070571247, 1172209757040344505, 1172562059163674708, 1172950516850350787, 1173291146798962773, 1175364113013922394, 1176243703534151706, 1178281870441546816, 1179575868350681906, 1197149434393621614, 1200107229715429338, 1184026459257008703, 1187402454345151700, 1188584934136387294, 1202904431750519087, 1191399713058612161, 1191403492627432250, 1191405718417118299, 1205898816502170393, 1194157404073670419, 1194158623942315263, 1207581483275385888, 1208725575290781199, 1194360786055939394, 1210889248576632028, 1209874699977588647, 1210256658863991727, 1217472734879709251, 1217920697687130827, 1217929100913118190, 1217938125458878631, 1217965703167491815, 1217969057016379785, 1217981445000394516, 1217982988443106277, 1217985139192087743, 1217988478801006672, 1217990528142251530, 1221682323509508932, 1227484706988585342, 1232674352095743305, 1234605489892365178, 1262258790992685156, 1262484070097878024, 1264683017888321172, 1265701962680660966, 1265713813279650067, 1266477269462573632, 1267912358660233723, 1274559703614536490, 1256540622125406409, 1279558795865919959, 1279607849322776151, 1279622572559088418, 1280462337882268589, 1289214257663825244, 1292146705161109184, 1292658022484131506, 1313003671121552359, 1313810948144644531, 1295634091992433793, 1295634110145331318, 1314359117073988907, 1314364005004963547, 1315227104122384263, 1316043519430196099, 1299229618052667749, 1316644160079858254, 1316647119689115416, 1316880410136989665, 1322509130335522001, 1330385267148754308, 1349360056557167811, 1353831020797026747, 1360964459477275660]"
        ],
        [
         "41",
         "listing_url",
         "object",
         "0",
         "0.0",
         "[]"
        ],
        [
         "42",
         "longitude",
         "float64",
         "0",
         "0.0",
         "[]"
        ],
        [
         "43",
         "maximum_maximum_nights",
         "int64",
         "0",
         "0.0",
         "[]"
        ],
        [
         "44",
         "maximum_minimum_nights",
         "int64",
         "0",
         "0.0",
         "[]"
        ],
        [
         "45",
         "maximum_nights",
         "int64",
         "0",
         "0.0",
         "[]"
        ],
        [
         "46",
         "maximum_nights_avg_ntm",
         "float64",
         "0",
         "0.0",
         "[]"
        ],
        [
         "47",
         "minimum_maximum_nights",
         "int64",
         "0",
         "0.0",
         "[]"
        ],
        [
         "48",
         "minimum_minimum_nights",
         "int64",
         "0",
         "0.0",
         "[]"
        ],
        [
         "49",
         "minimum_nights",
         "int64",
         "0",
         "0.0",
         "[]"
        ]
       ],
       "shape": {
        "columns": 5,
        "rows": 72
       }
      },
      "text/html": [
       "<div>\n",
       "<style scoped>\n",
       "    .dataframe tbody tr th:only-of-type {\n",
       "        vertical-align: middle;\n",
       "    }\n",
       "\n",
       "    .dataframe tbody tr th {\n",
       "        vertical-align: top;\n",
       "    }\n",
       "\n",
       "    .dataframe thead th {\n",
       "        text-align: right;\n",
       "    }\n",
       "</style>\n",
       "<table border=\"1\" class=\"dataframe\">\n",
       "  <thead>\n",
       "    <tr style=\"text-align: right;\">\n",
       "      <th></th>\n",
       "      <th>column</th>\n",
       "      <th>dtype</th>\n",
       "      <th>num_missing</th>\n",
       "      <th>percent_missing</th>\n",
       "      <th>affected_row_ids</th>\n",
       "    </tr>\n",
       "  </thead>\n",
       "  <tbody>\n",
       "    <tr>\n",
       "      <th>0</th>\n",
       "      <td>accommodates</td>\n",
       "      <td>int64</td>\n",
       "      <td>0</td>\n",
       "      <td>0.00</td>\n",
       "      <td>[]</td>\n",
       "    </tr>\n",
       "    <tr>\n",
       "      <th>1</th>\n",
       "      <td>amenities</td>\n",
       "      <td>object</td>\n",
       "      <td>0</td>\n",
       "      <td>0.00</td>\n",
       "      <td>[]</td>\n",
       "    </tr>\n",
       "    <tr>\n",
       "      <th>2</th>\n",
       "      <td>availability_30</td>\n",
       "      <td>int64</td>\n",
       "      <td>0</td>\n",
       "      <td>0.00</td>\n",
       "      <td>[]</td>\n",
       "    </tr>\n",
       "    <tr>\n",
       "      <th>3</th>\n",
       "      <td>availability_365</td>\n",
       "      <td>int64</td>\n",
       "      <td>0</td>\n",
       "      <td>0.00</td>\n",
       "      <td>[]</td>\n",
       "    </tr>\n",
       "    <tr>\n",
       "      <th>4</th>\n",
       "      <td>availability_60</td>\n",
       "      <td>int64</td>\n",
       "      <td>0</td>\n",
       "      <td>0.00</td>\n",
       "      <td>[]</td>\n",
       "    </tr>\n",
       "    <tr>\n",
       "      <th>...</th>\n",
       "      <td>...</td>\n",
       "      <td>...</td>\n",
       "      <td>...</td>\n",
       "      <td>...</td>\n",
       "      <td>...</td>\n",
       "    </tr>\n",
       "    <tr>\n",
       "      <th>67</th>\n",
       "      <td>review_scores_value</td>\n",
       "      <td>float64</td>\n",
       "      <td>740</td>\n",
       "      <td>9.52</td>\n",
       "      <td>[1482860, 2014854, 3118010, 6782983, 7018697, ...</td>\n",
       "    </tr>\n",
       "    <tr>\n",
       "      <th>68</th>\n",
       "      <td>reviews_per_month</td>\n",
       "      <td>float64</td>\n",
       "      <td>740</td>\n",
       "      <td>9.52</td>\n",
       "      <td>[1482860, 2014854, 3118010, 6782983, 7018697, ...</td>\n",
       "    </tr>\n",
       "    <tr>\n",
       "      <th>69</th>\n",
       "      <td>room_type</td>\n",
       "      <td>object</td>\n",
       "      <td>0</td>\n",
       "      <td>0.00</td>\n",
       "      <td>[]</td>\n",
       "    </tr>\n",
       "    <tr>\n",
       "      <th>70</th>\n",
       "      <td>scrape_id</td>\n",
       "      <td>int64</td>\n",
       "      <td>0</td>\n",
       "      <td>0.00</td>\n",
       "      <td>[]</td>\n",
       "    </tr>\n",
       "    <tr>\n",
       "      <th>71</th>\n",
       "      <td>source</td>\n",
       "      <td>object</td>\n",
       "      <td>0</td>\n",
       "      <td>0.00</td>\n",
       "      <td>[]</td>\n",
       "    </tr>\n",
       "  </tbody>\n",
       "</table>\n",
       "<p>72 rows × 5 columns</p>\n",
       "</div>"
      ],
      "text/plain": [
       "                 column    dtype  num_missing  percent_missing  \\\n",
       "0          accommodates    int64            0             0.00   \n",
       "1             amenities   object            0             0.00   \n",
       "2       availability_30    int64            0             0.00   \n",
       "3      availability_365    int64            0             0.00   \n",
       "4       availability_60    int64            0             0.00   \n",
       "..                  ...      ...          ...              ...   \n",
       "67  review_scores_value  float64          740             9.52   \n",
       "68    reviews_per_month  float64          740             9.52   \n",
       "69            room_type   object            0             0.00   \n",
       "70            scrape_id    int64            0             0.00   \n",
       "71               source   object            0             0.00   \n",
       "\n",
       "                                     affected_row_ids  \n",
       "0                                                  []  \n",
       "1                                                  []  \n",
       "2                                                  []  \n",
       "3                                                  []  \n",
       "4                                                  []  \n",
       "..                                                ...  \n",
       "67  [1482860, 2014854, 3118010, 6782983, 7018697, ...  \n",
       "68  [1482860, 2014854, 3118010, 6782983, 7018697, ...  \n",
       "69                                                 []  \n",
       "70                                                 []  \n",
       "71                                                 []  \n",
       "\n",
       "[72 rows x 5 columns]"
      ]
     },
     "execution_count": 241,
     "metadata": {},
     "output_type": "execute_result"
    }
   ],
   "source": [
    "missing_df = missing_info(listings, 'id', 'column', True)\n",
    "missing_df"
   ]
  },
  {
   "cell_type": "code",
   "execution_count": 242,
   "id": "5f5a5f71",
   "metadata": {},
   "outputs": [
    {
     "data": {
      "application/vnd.microsoft.datawrangler.viewer.v0+json": {
       "columns": [
        {
         "name": "index",
         "rawType": "int64",
         "type": "integer"
        },
        {
         "name": "bathrooms",
         "rawType": "float64",
         "type": "float"
        },
        {
         "name": "bathrooms_text",
         "rawType": "object",
         "type": "string"
        }
       ],
       "ref": "8fac29fe-3200-48e9-8a0b-4ce47f968f60",
       "rows": [
        [
         "0",
         "2.0",
         "2 baths"
        ],
        [
         "1",
         "1.0",
         "1 private bath"
        ],
        [
         "2",
         "2.0",
         "2 baths"
        ],
        [
         "3",
         "1.0",
         "1 private bath"
        ],
        [
         "4",
         "1.0",
         "1 bath"
        ]
       ],
       "shape": {
        "columns": 2,
        "rows": 5
       }
      },
      "text/html": [
       "<div>\n",
       "<style scoped>\n",
       "    .dataframe tbody tr th:only-of-type {\n",
       "        vertical-align: middle;\n",
       "    }\n",
       "\n",
       "    .dataframe tbody tr th {\n",
       "        vertical-align: top;\n",
       "    }\n",
       "\n",
       "    .dataframe thead th {\n",
       "        text-align: right;\n",
       "    }\n",
       "</style>\n",
       "<table border=\"1\" class=\"dataframe\">\n",
       "  <thead>\n",
       "    <tr style=\"text-align: right;\">\n",
       "      <th></th>\n",
       "      <th>bathrooms</th>\n",
       "      <th>bathrooms_text</th>\n",
       "    </tr>\n",
       "  </thead>\n",
       "  <tbody>\n",
       "    <tr>\n",
       "      <th>0</th>\n",
       "      <td>2.0</td>\n",
       "      <td>2 baths</td>\n",
       "    </tr>\n",
       "    <tr>\n",
       "      <th>1</th>\n",
       "      <td>1.0</td>\n",
       "      <td>1 private bath</td>\n",
       "    </tr>\n",
       "    <tr>\n",
       "      <th>2</th>\n",
       "      <td>2.0</td>\n",
       "      <td>2 baths</td>\n",
       "    </tr>\n",
       "    <tr>\n",
       "      <th>3</th>\n",
       "      <td>1.0</td>\n",
       "      <td>1 private bath</td>\n",
       "    </tr>\n",
       "    <tr>\n",
       "      <th>4</th>\n",
       "      <td>1.0</td>\n",
       "      <td>1 bath</td>\n",
       "    </tr>\n",
       "  </tbody>\n",
       "</table>\n",
       "</div>"
      ],
      "text/plain": [
       "   bathrooms  bathrooms_text\n",
       "0        2.0         2 baths\n",
       "1        1.0  1 private bath\n",
       "2        2.0         2 baths\n",
       "3        1.0  1 private bath\n",
       "4        1.0          1 bath"
      ]
     },
     "execution_count": 242,
     "metadata": {},
     "output_type": "execute_result"
    }
   ],
   "source": [
    "listings[['bathrooms', 'bathrooms_text']].head()"
   ]
  },
  {
   "cell_type": "code",
   "execution_count": 243,
   "id": "79c7ff0a",
   "metadata": {},
   "outputs": [
    {
     "data": {
      "application/vnd.microsoft.datawrangler.viewer.v0+json": {
       "columns": [
        {
         "name": "index",
         "rawType": "int64",
         "type": "integer"
        },
        {
         "name": "bathrooms",
         "rawType": "float64",
         "type": "float"
        },
        {
         "name": "bathrooms_text",
         "rawType": "object",
         "type": "string"
        },
        {
         "name": "bathrooms_num",
         "rawType": "float64",
         "type": "float"
        },
        {
         "name": "bathrooms_type",
         "rawType": "object",
         "type": "string"
        }
       ],
       "ref": "97e1b9d8-0e80-4e98-a57f-12731e5db5cf",
       "rows": [
        [
         "0",
         "2.0",
         "2 baths",
         "2.0",
         "baths"
        ],
        [
         "1",
         "1.0",
         "1 private bath",
         "1.0",
         "private bath"
        ],
        [
         "2",
         "2.0",
         "2 baths",
         "2.0",
         "baths"
        ],
        [
         "3",
         "1.0",
         "1 private bath",
         "1.0",
         "private bath"
        ],
        [
         "4",
         "1.0",
         "1 bath",
         "1.0",
         "bath"
        ]
       ],
       "shape": {
        "columns": 4,
        "rows": 5
       }
      },
      "text/html": [
       "<div>\n",
       "<style scoped>\n",
       "    .dataframe tbody tr th:only-of-type {\n",
       "        vertical-align: middle;\n",
       "    }\n",
       "\n",
       "    .dataframe tbody tr th {\n",
       "        vertical-align: top;\n",
       "    }\n",
       "\n",
       "    .dataframe thead th {\n",
       "        text-align: right;\n",
       "    }\n",
       "</style>\n",
       "<table border=\"1\" class=\"dataframe\">\n",
       "  <thead>\n",
       "    <tr style=\"text-align: right;\">\n",
       "      <th></th>\n",
       "      <th>bathrooms</th>\n",
       "      <th>bathrooms_text</th>\n",
       "      <th>bathrooms_num</th>\n",
       "      <th>bathrooms_type</th>\n",
       "    </tr>\n",
       "  </thead>\n",
       "  <tbody>\n",
       "    <tr>\n",
       "      <th>0</th>\n",
       "      <td>2.0</td>\n",
       "      <td>2 baths</td>\n",
       "      <td>2.0</td>\n",
       "      <td>baths</td>\n",
       "    </tr>\n",
       "    <tr>\n",
       "      <th>1</th>\n",
       "      <td>1.0</td>\n",
       "      <td>1 private bath</td>\n",
       "      <td>1.0</td>\n",
       "      <td>private bath</td>\n",
       "    </tr>\n",
       "    <tr>\n",
       "      <th>2</th>\n",
       "      <td>2.0</td>\n",
       "      <td>2 baths</td>\n",
       "      <td>2.0</td>\n",
       "      <td>baths</td>\n",
       "    </tr>\n",
       "    <tr>\n",
       "      <th>3</th>\n",
       "      <td>1.0</td>\n",
       "      <td>1 private bath</td>\n",
       "      <td>1.0</td>\n",
       "      <td>private bath</td>\n",
       "    </tr>\n",
       "    <tr>\n",
       "      <th>4</th>\n",
       "      <td>1.0</td>\n",
       "      <td>1 bath</td>\n",
       "      <td>1.0</td>\n",
       "      <td>bath</td>\n",
       "    </tr>\n",
       "  </tbody>\n",
       "</table>\n",
       "</div>"
      ],
      "text/plain": [
       "   bathrooms  bathrooms_text  bathrooms_num bathrooms_type\n",
       "0        2.0         2 baths            2.0          baths\n",
       "1        1.0  1 private bath            1.0   private bath\n",
       "2        2.0         2 baths            2.0          baths\n",
       "3        1.0  1 private bath            1.0   private bath\n",
       "4        1.0          1 bath            1.0           bath"
      ]
     },
     "execution_count": 243,
     "metadata": {},
     "output_type": "execute_result"
    }
   ],
   "source": [
    "listings[['bathrooms_num', 'bathrooms_type']] = listings['bathrooms_text'].str.split(' ', n=1, expand=True)\n",
    "listings['bathrooms_num'] = pd.to_numeric(listings['bathrooms_num'], errors='coerce')\n",
    "listings[['bathrooms', 'bathrooms_text', 'bathrooms_num', 'bathrooms_type']].head()"
   ]
  },
  {
   "cell_type": "code",
   "execution_count": 244,
   "id": "68383343",
   "metadata": {},
   "outputs": [
    {
     "name": "stdout",
     "output_type": "stream",
     "text": [
      "['baths' 'private bath' 'bath' 'shared bath' 'shared baths' 'half-bath'\n",
      " nan None]\n"
     ]
    }
   ],
   "source": [
    "print(listings['bathrooms_type'].unique())"
   ]
  },
  {
   "cell_type": "code",
   "execution_count": 250,
   "id": "f9059e7b",
   "metadata": {},
   "outputs": [
    {
     "name": "stdout",
     "output_type": "stream",
     "text": [
      "['2 baths' '1 private bath' '1 bath' '1 shared bath' '1.5 baths'\n",
      " '7 shared baths' '4 baths' 'Shared half-bath' '3 baths' '2.5 baths' nan\n",
      " '5 baths' '0 baths' '2 shared baths' '4.5 baths' 'Half-bath'\n",
      " '1.5 shared baths' '3 shared baths' '6 baths' '3.5 baths'\n",
      " '0 shared baths' '3.5 shared baths' '8 baths' '5.5 baths' '6.5 baths'\n",
      " '11 baths' '18 baths' '2.5 shared baths' '7.5 baths' '7 baths'\n",
      " 'Private half-bath' '5 shared baths' '17 baths' '20 baths']\n"
     ]
    }
   ],
   "source": [
    "print(listings['bathrooms_text'].unique())"
   ]
  },
  {
   "cell_type": "code",
   "execution_count": 245,
   "id": "10adf26a",
   "metadata": {},
   "outputs": [
    {
     "data": {
      "application/vnd.microsoft.datawrangler.viewer.v0+json": {
       "columns": [
        {
         "name": "index",
         "rawType": "int64",
         "type": "integer"
        },
        {
         "name": "bathrooms",
         "rawType": "float64",
         "type": "float"
        },
        {
         "name": "bathrooms_text",
         "rawType": "object",
         "type": "string"
        },
        {
         "name": "bathrooms_num",
         "rawType": "float64",
         "type": "float"
        },
        {
         "name": "bathrooms_type",
         "rawType": "object",
         "type": "string"
        }
       ],
       "ref": "ea6bb331-e4ec-4324-91b3-27d1cb620afc",
       "rows": [
        [
         "19",
         null,
         "7 shared baths",
         "7.0",
         "shared baths"
        ],
        [
         "45",
         "0.5",
         "Shared half-bath",
         null,
         "half-bath"
        ],
        [
         "46",
         null,
         "1 bath",
         "1.0",
         "bath"
        ],
        [
         "54",
         null,
         "2 baths",
         "2.0",
         "baths"
        ],
        [
         "62",
         "0.5",
         "Shared half-bath",
         null,
         "half-bath"
        ]
       ],
       "shape": {
        "columns": 4,
        "rows": 5
       }
      },
      "text/html": [
       "<div>\n",
       "<style scoped>\n",
       "    .dataframe tbody tr th:only-of-type {\n",
       "        vertical-align: middle;\n",
       "    }\n",
       "\n",
       "    .dataframe tbody tr th {\n",
       "        vertical-align: top;\n",
       "    }\n",
       "\n",
       "    .dataframe thead th {\n",
       "        text-align: right;\n",
       "    }\n",
       "</style>\n",
       "<table border=\"1\" class=\"dataframe\">\n",
       "  <thead>\n",
       "    <tr style=\"text-align: right;\">\n",
       "      <th></th>\n",
       "      <th>bathrooms</th>\n",
       "      <th>bathrooms_text</th>\n",
       "      <th>bathrooms_num</th>\n",
       "      <th>bathrooms_type</th>\n",
       "    </tr>\n",
       "  </thead>\n",
       "  <tbody>\n",
       "    <tr>\n",
       "      <th>19</th>\n",
       "      <td>NaN</td>\n",
       "      <td>7 shared baths</td>\n",
       "      <td>7.0</td>\n",
       "      <td>shared baths</td>\n",
       "    </tr>\n",
       "    <tr>\n",
       "      <th>45</th>\n",
       "      <td>0.5</td>\n",
       "      <td>Shared half-bath</td>\n",
       "      <td>NaN</td>\n",
       "      <td>half-bath</td>\n",
       "    </tr>\n",
       "    <tr>\n",
       "      <th>46</th>\n",
       "      <td>NaN</td>\n",
       "      <td>1 bath</td>\n",
       "      <td>1.0</td>\n",
       "      <td>bath</td>\n",
       "    </tr>\n",
       "    <tr>\n",
       "      <th>54</th>\n",
       "      <td>NaN</td>\n",
       "      <td>2 baths</td>\n",
       "      <td>2.0</td>\n",
       "      <td>baths</td>\n",
       "    </tr>\n",
       "    <tr>\n",
       "      <th>62</th>\n",
       "      <td>0.5</td>\n",
       "      <td>Shared half-bath</td>\n",
       "      <td>NaN</td>\n",
       "      <td>half-bath</td>\n",
       "    </tr>\n",
       "  </tbody>\n",
       "</table>\n",
       "</div>"
      ],
      "text/plain": [
       "    bathrooms    bathrooms_text  bathrooms_num bathrooms_type\n",
       "19        NaN    7 shared baths            7.0   shared baths\n",
       "45        0.5  Shared half-bath            NaN      half-bath\n",
       "46        NaN            1 bath            1.0           bath\n",
       "54        NaN           2 baths            2.0          baths\n",
       "62        0.5  Shared half-bath            NaN      half-bath"
      ]
     },
     "execution_count": 245,
     "metadata": {},
     "output_type": "execute_result"
    }
   ],
   "source": [
    "# show rows where bathroom and bathrooms_num differ\n",
    "filtered_listings = listings[(listings['bathrooms_num'] != listings['bathrooms'])]\n",
    "filtered_listings[['bathrooms', 'bathrooms_text', 'bathrooms_num', 'bathrooms_type']].head()"
   ]
  },
  {
   "cell_type": "code",
   "execution_count": 246,
   "id": "b9fbc64d",
   "metadata": {},
   "outputs": [],
   "source": [
    "listings['bathrooms'] = listings['bathrooms_num'].combine_first(listings['bathrooms'])\n",
    "listings = listings.drop('bathrooms_num', axis=1)"
   ]
  },
  {
   "cell_type": "code",
   "execution_count": 247,
   "id": "836f76ad",
   "metadata": {},
   "outputs": [
    {
     "data": {
      "application/vnd.microsoft.datawrangler.viewer.v0+json": {
       "columns": [
        {
         "name": "index",
         "rawType": "int64",
         "type": "integer"
        },
        {
         "name": "bathrooms",
         "rawType": "float64",
         "type": "float"
        },
        {
         "name": "bathrooms_text",
         "rawType": "object",
         "type": "unknown"
        },
        {
         "name": "bathrooms_type",
         "rawType": "object",
         "type": "unknown"
        }
       ],
       "ref": "fa44407d-43ef-419b-ad62-8a432f9f8f09",
       "rows": [
        [
         "236",
         null,
         null,
         null
        ],
        [
         "609",
         null,
         "Shared half-bath",
         "half-bath"
        ],
        [
         "3853",
         null,
         "Half-bath",
         null
        ],
        [
         "5878",
         null,
         null,
         null
        ],
        [
         "5973",
         null,
         null,
         null
        ]
       ],
       "shape": {
        "columns": 3,
        "rows": 5
       }
      },
      "text/html": [
       "<div>\n",
       "<style scoped>\n",
       "    .dataframe tbody tr th:only-of-type {\n",
       "        vertical-align: middle;\n",
       "    }\n",
       "\n",
       "    .dataframe tbody tr th {\n",
       "        vertical-align: top;\n",
       "    }\n",
       "\n",
       "    .dataframe thead th {\n",
       "        text-align: right;\n",
       "    }\n",
       "</style>\n",
       "<table border=\"1\" class=\"dataframe\">\n",
       "  <thead>\n",
       "    <tr style=\"text-align: right;\">\n",
       "      <th></th>\n",
       "      <th>bathrooms</th>\n",
       "      <th>bathrooms_text</th>\n",
       "      <th>bathrooms_type</th>\n",
       "    </tr>\n",
       "  </thead>\n",
       "  <tbody>\n",
       "    <tr>\n",
       "      <th>236</th>\n",
       "      <td>NaN</td>\n",
       "      <td>NaN</td>\n",
       "      <td>NaN</td>\n",
       "    </tr>\n",
       "    <tr>\n",
       "      <th>609</th>\n",
       "      <td>NaN</td>\n",
       "      <td>Shared half-bath</td>\n",
       "      <td>half-bath</td>\n",
       "    </tr>\n",
       "    <tr>\n",
       "      <th>3853</th>\n",
       "      <td>NaN</td>\n",
       "      <td>Half-bath</td>\n",
       "      <td>None</td>\n",
       "    </tr>\n",
       "    <tr>\n",
       "      <th>5878</th>\n",
       "      <td>NaN</td>\n",
       "      <td>NaN</td>\n",
       "      <td>NaN</td>\n",
       "    </tr>\n",
       "    <tr>\n",
       "      <th>5973</th>\n",
       "      <td>NaN</td>\n",
       "      <td>NaN</td>\n",
       "      <td>NaN</td>\n",
       "    </tr>\n",
       "  </tbody>\n",
       "</table>\n",
       "</div>"
      ],
      "text/plain": [
       "      bathrooms    bathrooms_text bathrooms_type\n",
       "236         NaN               NaN            NaN\n",
       "609         NaN  Shared half-bath      half-bath\n",
       "3853        NaN         Half-bath           None\n",
       "5878        NaN               NaN            NaN\n",
       "5973        NaN               NaN            NaN"
      ]
     },
     "execution_count": 247,
     "metadata": {},
     "output_type": "execute_result"
    }
   ],
   "source": [
    "filtered_listings = listings[listings['bathrooms'].isnull()]\n",
    "filtered_listings[['bathrooms', 'bathrooms_text', 'bathrooms_type']].head()"
   ]
  },
  {
   "cell_type": "code",
   "execution_count": 248,
   "id": "90291848",
   "metadata": {},
   "outputs": [
    {
     "ename": "IndexError",
     "evalue": "index 0 is out of bounds for axis 0 with size 0",
     "output_type": "error",
     "traceback": [
      "\u001b[1;31m---------------------------------------------------------------------------\u001b[0m",
      "\u001b[1;31mIndexError\u001b[0m                                Traceback (most recent call last)",
      "Cell \u001b[1;32mIn[248], line 1\u001b[0m\n\u001b[1;32m----> 1\u001b[0m bathroom_row_ids \u001b[38;5;241m=\u001b[39m missing_df[missing_df[\u001b[38;5;124m'\u001b[39m\u001b[38;5;124mcolumn\u001b[39m\u001b[38;5;124m'\u001b[39m] \u001b[38;5;241m==\u001b[39m \u001b[38;5;124m'\u001b[39m\u001b[38;5;124mbathroom\u001b[39m\u001b[38;5;124m'\u001b[39m][\u001b[38;5;124m'\u001b[39m\u001b[38;5;124maffected_row_ids\u001b[39m\u001b[38;5;124m'\u001b[39m]\u001b[38;5;241m.\u001b[39mvalues[\u001b[38;5;241m0\u001b[39m]\n\u001b[0;32m      2\u001b[0m bathroom_text_row_ids \u001b[38;5;241m=\u001b[39m missing_df[missing_df[\u001b[38;5;124m'\u001b[39m\u001b[38;5;124mcolumn\u001b[39m\u001b[38;5;124m'\u001b[39m] \u001b[38;5;241m==\u001b[39m \u001b[38;5;124m'\u001b[39m\u001b[38;5;124mbathroom_text\u001b[39m\u001b[38;5;124m'\u001b[39m][\u001b[38;5;124m'\u001b[39m\u001b[38;5;124maffected_row_ids\u001b[39m\u001b[38;5;124m'\u001b[39m]\u001b[38;5;241m.\u001b[39mvalues[\u001b[38;5;241m0\u001b[39m]\n\u001b[0;32m      3\u001b[0m shared_ids \u001b[38;5;241m=\u001b[39m shared_values(bathroom_row_ids, bathroom_text_row_ids)\n",
      "\u001b[1;31mIndexError\u001b[0m: index 0 is out of bounds for axis 0 with size 0"
     ]
    }
   ],
   "source": [
    "bathroom_row_ids = missing_df[missing_df['column'] == 'bathroom']['affected_row_ids'].values[0]\n",
    "bathroom_text_row_ids = missing_df[missing_df['column'] == 'bathroom_text']['affected_row_ids'].values[0]\n",
    "shared_ids = shared_values(bathroom_row_ids, bathroom_text_row_ids)\n",
    "length = len(shared_ids)\n",
    "length, (length/listings.shape[0])*100"
   ]
  },
  {
   "cell_type": "markdown",
   "id": "036a8324",
   "metadata": {},
   "source": [
    "## "
   ]
  },
  {
   "cell_type": "markdown",
   "id": "9c7ac953",
   "metadata": {},
   "source": [
    "### Host stuff"
   ]
  },
  {
   "cell_type": "code",
   "execution_count": 249,
   "id": "29c5f347",
   "metadata": {},
   "outputs": [
    {
     "data": {
      "application/vnd.microsoft.datawrangler.viewer.v0+json": {
       "columns": [
        {
         "name": "index",
         "rawType": "int64",
         "type": "integer"
        },
        {
         "name": "column",
         "rawType": "object",
         "type": "string"
        },
        {
         "name": "dtype",
         "rawType": "object",
         "type": "string"
        },
        {
         "name": "num_missing",
         "rawType": "int64",
         "type": "integer"
        },
        {
         "name": "percent_missing",
         "rawType": "float64",
         "type": "float"
        },
        {
         "name": "affected_row_ids",
         "rawType": "object",
         "type": "unknown"
        }
       ],
       "ref": "bcd610bf-c5cb-4dd2-8edd-1f8c18342594",
       "rows": [
        [
         "0",
         "accommodates",
         "int64",
         "0",
         "0.0",
         "[]"
        ],
        [
         "1",
         "amenities",
         "object",
         "0",
         "0.0",
         "[]"
        ],
        [
         "2",
         "availability_30",
         "int64",
         "0",
         "0.0",
         "[]"
        ],
        [
         "3",
         "availability_365",
         "int64",
         "0",
         "0.0",
         "[]"
        ],
        [
         "4",
         "availability_60",
         "int64",
         "0",
         "0.0",
         "[]"
        ],
        [
         "5",
         "availability_90",
         "int64",
         "0",
         "0.0",
         "[]"
        ],
        [
         "6",
         "availability_eoy",
         "int64",
         "0",
         "0.0",
         "[]"
        ],
        [
         "7",
         "bathrooms",
         "float64",
         "7",
         "0.09",
         "[1316352, 4302018, 46416374, 996534853014726550, 1016695412752790117, 1056019517969512472, 1110690216493741810]"
        ],
        [
         "8",
         "bathrooms_text",
         "object",
         "6",
         "0.08",
         "[1316352, 15812750, 32118463, 996534853014726550, 1016695412752790117, 1110690216493741810]"
        ],
        [
         "9",
         "bathrooms_type",
         "object",
         "12",
         "0.15",
         "[1316352, 4408634, 15812750, 32118463, 46416374, 944916487282060336, 996534853014726550, 1016695412752790117, 1011521344667460788, 1056019517969512472, 1110690216493741810, 1177441849917613272]"
        ],
        [
         "10",
         "bedrooms",
         "float64",
         "0",
         "0.0",
         "[]"
        ],
        [
         "11",
         "beds",
         "float64",
         "761",
         "9.79",
         "[72821, 99238, 149749, 676323, 208801, 719981, 740308, 804777, 268865, 888033, 289477, 314923, 331151, 1005533, 1038620, 1169013, 388399, 1832112, 1834997, 1958392, 1973495, 1424680, 1482860, 1533624, 1583452, 1615895, 1807274, 2322764, 3020830, 2377640, 2402601, 3203677, 2559866, 3314930, 3356926, 3524290, 3589795, 3743704, 4691319, 3814415, 4826958, 5079256, 5268522, 5302362, 5349074, 4067549, 4118179, 4246816, 4272967, 4302018, 4332045, 5734857, 4514733, 4523238, 5734956, 6682798, 6086105, 6791981, 6863620, 6096530, 6908509, 6152631, 6987387, 7018697, 7212771, 7282315, 6443733, 6514655, 6552418, 6571055, 7682178, 7718939, 8423436, 7969977, 8561397, 8736169, 9763587, 9801176, 9104416, 9917563, 9236574, 9657046, 10203180, 11037556, 11092920, 10321107, 11227476, 11232084, 11352211, 10579776, 10639339, 11417636, 10795221, 10848085, 12164082, 11878822, 12356453, 12395018, 12395830, 12099568, 12505135, 13339026, 13343640, 12554296, 12626794, 12744252, 13429431, 12822904, 13470839, 12864747, 12878255, 13522829, 13557482, 13593769, 13102375, 13122321, 13812868, 13940818, 13949126, 13949186, 13954375, 13181481, 13984636, 14350809, 14411510, 15254116, 15279977, 14617664, 14623672, 14749870, 14868532, 15863506, 16001709, 16142745, 16545093, 16545161, 16340500, 16759346, 17454741, 16789967, 17566689, 18085932, 17049214, 17083555, 17103422, 18207432, 18252889, 18281647, 18310068, 18398473, 18403345, 18403998, 18404123, 18404739, 18592543, 18628831, 19872185, 18841548, 18905564, 18996187, 20180833, 19117250, 20213463, 19170663, 19190771, 20382344, 20533478, 20533903, 19453484, 20811092, 20871712, 20908714, 21991820, 21470390, 21577826, 22542097, 21930834, 21939841, 22642183, 22916390, 22726630, 22739797, 22785587, 23248901, 23296820, 23299798, 23875252, 23319025, 23332524, 23423438, 23444096, 23639309, 24053213, 24073401, 24192720, 24844514, 24340790, 24369371, 24385633, 24992475, 25312863, 25820788, 25443000, 25883820, 25910699, 25988358, 26162087, 27304289, 27336937, 26341997, 27539099, 27599571, 27600068, 27605918, 26418427, 27615894, 27617451, 27618661, 27650684, 26552709, 26563089, 28025140, 28117126, 26940647, 27011653, 27125153, 28560731, 28594104, 30220513, 28678045, 30245612, 30265360, 30466981, 29176552, 30581116, 30622866, 30753359, 29273437, 30852114, 29352576, 31168457, 29505444, 31303354, 29648829, 31687942, 32543395, 32598853, 31915793, 32004094, 32135840, 32183486, 32977122, 33033826, 33037671, 33159295, 33206380, 33600966, 33662371, 33438466, 33729264, 33741782, 33863614, 34467028, 34486921, 34487124, 34487577, 33922446, 33923459, 33952729, 34532547, 34564789, 34004224, 34107661, 34108248, 34792174, 34800312, 34160725, 34192937, 34194406, 34198553, 34198773, 34214770, 35014667, 34377021, 35145429, 34383692, 35935568, 36065811, 36066436, 36066515, 35505069, 35505572, 35591726, 35611685, 35611767, 35611837, 36440969, 36500837, 36592419, 37516973, 37543558, 37546004, 37546481, 36678559, 36723155, 36724836, 37572169, 37572170, 37572176, 37612023, 37089996, 37344350, 37955200, 37978708, 37984372, 37984387, 38118898, 38120578, 38148201, 39074453, 38821048, 39986180, 40802008, 40802085, 40802136, 40802228, 40170952, 40382806, 40398778, 40855773, 40447288, 40962380, 40981542, 40629507, 40629964, 40719730, 40748129, 40751721, 40753284, 40753310, 40753325, 40753387, 41230237, 41236121, 42054989, 41495615, 42089815, 42291642, 42433158, 41672663, 41739723, 42522464, 41818569, 42622043, 41857160, 42683930, 42873061, 43092202, 43201185, 43310400, 43310474, 43322099, 43449007, 43449549, 43449998, 43699881, 43705007, 45068417, 43824956, 45077717, 43982784, 45199986, 45250837, 45296632, 44108039, 45359925, 45479345, 44325296, 45786390, 48795925, 46002803, 46003701, 46276751, 46416374, 49409960, 47503074, 49646809, 47864169, 49771863, 48195025, 48195026, 48205282, 49876274, 49919782, 48264504, 49919994, 49920262, 50558263, 49947115, 50603577, 50762583, 50194382, 50233990, 50277320, 50282187, 50282620, 50282790, 50393470, 50429814, 50430545, 50436814, 50437702, 50438391, 50438544, 51261493, 51647340, 51416594, 52564047, 52665700, 52821520, 52979664, 52196082, 52274786, 53289111, 53950078, 54048617, 53376320, 54079591, 54188355, 53491690, 54254885, 54255739, 54255886, 54310852, 54310897, 54401249, 53605241, 548549712570151444, 549046842357256292, 53668730, 549077262427870426, 549077290506096759, 549167656055517656, 53778874, 53778959, 563605466797542863, 565851037572193271, 585336565841810196, 568566195566921442, 594584114878427891, 595451807363045433, 645440840550150229, 613422403576154661, 613829058322990491, 659904292924629719, 630450386688784710, 635203979110080644, 671495131372804832, 671499391376551498, 671502439065092652, 671504996561751909, 671507608882429537, 671512068583594186, 672131284747383829, 672135415536352376, 672140113657565652, 672143125182310747, 672151723194425517, 672156581317155373, 672159140052101625, 672161053818689306, 672162738836687009, 672243929702750803, 670133936049220562, 674963595963342539, 671409777664608461, 701070952508622673, 701216320061934035, 702677186858001674, 704823709237371920, 704931214865202401, 705728973348245305, 707255052804005434, 716675001218374596, 692804245589277408, 718716660876105339, 697660155237369866, 700633952042507996, 733295475350541479, 748999259569336631, 734550726176649255, 753658382658746543, 736722189382950462, 741045646897395177, 742433348606442332, 743108839905315839, 744760241432823124, 765115847361336372, 765900024048690476, 765918426420984116, 766537876117575305, 767207716602797434, 771488607027890590, 787750536550792351, 815809045877838400, 791389619039426601, 819686286060935532, 796358638745764401, 802633552724786344, 806966476473135544, 807675656270226907, 807680416085116912, 828110412554619891, 807684208837043608, 831691520409327634, 831711271176721766, 831718327610589757, 837549115325763595, 837553108828232216, 837563758386626855, 837567231350634031, 837570258603325753, 831749875617113346, 838134168782023974, 840985079777351460, 835990297827592549, 836001545790623347, 854890576400459864, 841727999937122566, 856411208202489480, 842445930389117853, 856886228065557167, 842448767203259993, 862036281404317382, 844128612348038699, 863807573532175060, 846767442663689381, 865269458040469106, 868705760879930083, 868713422818072962, 868721843412377311, 868726020325156664, 870935841119497065, 853449515928544509, 854114673599318410, 877573553472387376, 880825389206160218, 880829846973742643, 881137013820539482, 881717513059745594, 882712521377349484, 906464947432834918, 908072155149939465, 890408523304735551, 908452175534766030, 910188521167399633, 899920026985592276, 913667464444948575, 901998507055673699, 902491000918644940, 902537206684030126, 916714871787682241, 920028217232695841, 920274471136901900, 921937676680235739, 938361691001930141, 923619373141919932, 923808143034203858, 941495631408511385, 945296409882984631, 946614265883675284, 946626388715172869, 946632698776696358, 949038646715849146, 949057689892091780, 931278979141870302, 951614983297274338, 936435014904055244, 938141861447113867, 955800230723324793, 967229455655252680, 967877549212113691, 968027923064434036, 959471453965777823, 964545291656667227, 977466719617229854, 995736283272769462, 996534853014726550, 978837903500153696, 983992533347290706, 1001341233025177499, 993348403313947626, 1005547637092256663, 1025908460539009403, 1029802589999575118, 1013547145409846009, 1013572248656244699, 1013609886362396710, 1034071377077697232, 1054283059928628507, 1054354781377123983, 1045438950210180404, 1056019517969512472, 1056408740003257661, 1075108493215768685, 1061293727679955622, 1076041088275296522, 1076821557693274506, 1079560939755545107, 1064288645299628696, 1081008104561877015, 1081097650992443024, 1081978850142291593, 1084540580954355891, 1069423246479995287, 1084635054800727683, 1084768554433866212, 1084768688449457130, 1071697268573341999, 1086954687827064314, 1087003825546511891, 1101355037615963108, 1103484772925388093, 1090684672219878229, 1091258216593101572, 1091789324604332743, 1104534029772761431, 1106372780749038706, 1110000899448086373, 1110690216493741810, 1110992115486680037, 1096279582667713259, 1114981641809039543, 1097656178690588757, 1116738369193202892, 1117852176088159838, 1120810332795122013, 1120956307852860996, 1118629787407576324, 1118662108306640591, 1118843758834034668, 1132635860708830787, 1125354079581425982, 1134492764338355995, 1126555288368710741, 1126684210735664943, 1134920632145199812, 1127673608505632385, 1136852730795878024, 1136895557536726354, 1128180673476262563, 1128184020949605416, 1128228024760541758, 1128230340121806052, 1128233251453150564, 1128235554569507793, 1128237390188448911, 1128240619421385957, 1128244893720715302, 1138362021269310848, 1129771579783736590, 1138429185253970295, 1131050574490973390, 1142868077398602328, 1143197638152214647, 1144215244576791512, 1144821766157445572, 1146223316781299250, 1146231339027145342, 1166743089695273424, 1167176507878028232, 1151373789838556009, 1151597582267543200, 1152077860797986222, 1168653956385179970, 1170871328389941136, 1172828773227753595, 1161367709963860718, 1173291146798962773, 1163205960954070502, 1163549899953888023, 1175845318430675889, 1176079142703942345, 1165273971019095954, 1177294408721270246, 1177510105263894249, 1166532968596783793, 1195638612846655797, 1178903958492597016, 1179781849979373519, 1181054118838351205, 1181348934636153161, 1196904657021586587, 1197149434393621614, 1198287306785345437, 1200107229715429338, 1188584934136387294, 1203385114990860702, 1203385314187409577, 1203385650245229293, 1204159891731303920, 1205872472925935166, 1192060107472842224, 1207248751738611278, 1194034007644461284, 1194671182522298232, 1212761906795264538, 1216598666012363719, 1213707334292383436, 1220845510783223547, 1221731178597045771, 1221772306542938783, 1221786960522269595, 1214237945802917706, 1214248351510736814, 1226598388742218759, 1226920371682349466, 1227323538090252056, 1228830228487454213, 1214319696734728383, 1214320768004897030, 1257931094690462511, 1236157349756437074, 1236244429796957182, 1262484070097878024, 1264683017888321172, 1264947265705367166, 1267206288298462609, 1243385637529899948, 1270830891938250653, 1247013264722070801, 1273034369814996072, 1273915376791991136, 1247643070180030843, 1249110481871270428, 1249126569454833315, 1249126923987565481, 1274772038331619806, 1279622572559088418, 1300097955909523031, 1300780009764347071, 1303684848557611690, 1287078040786858269, 1307831240591494833, 1289075787499379023, 1312264987913123006, 1295481757304038690, 1295853066036349279, 1315761013614017712, 1297653047024275377, 1299093032917401688, 1316533145424796463, 1299219448222323136, 1316880410136989665, 1323103342484247859, 1323230692970733332, 1324452788295869104, 1318576470347265316, 1340401748933997465, 1338260248024769690, 1349906548984578933]"
        ],
        [
         "12",
         "calculated_host_listings_count",
         "int64",
         "0",
         "0.0",
         "[]"
        ],
        [
         "13",
         "calculated_host_listings_count_entire_homes",
         "int64",
         "0",
         "0.0",
         "[]"
        ],
        [
         "14",
         "calculated_host_listings_count_private_rooms",
         "int64",
         "0",
         "0.0",
         "[]"
        ],
        [
         "15",
         "calculated_host_listings_count_shared_rooms",
         "int64",
         "0",
         "0.0",
         "[]"
        ],
        [
         "16",
         "calendar_last_scraped",
         "object",
         "0",
         "0.0",
         "[]"
        ],
        [
         "17",
         "description",
         "object",
         "216",
         "2.78",
         "[69877, 431287, 441868, 71874, 74042, 531274, 544834, 142085, 617429, 634018, 155015, 156728, 170523, 694828, 208801, 218393, 713783, 713788, 220238, 246649, 784879, 804777, 819328, 272585, 846521, 867034, 879892, 884350, 895952, 309411, 314094, 906370, 926604, 945052, 954068, 962131, 975073, 1000262, 1011701, 1034640, 344046, 1043678, 1119040, 1181536, 1257881, 1266716, 1269492, 1275433, 1316352, 1344540, 1922670, 1958392, 2014854, 1526920, 1533624, 1583452, 1816508, 1816521, 1816532, 3003073, 3356926, 3743534, 3743704, 4929237, 4118238, 5360928, 5409458, 5669720, 5782605, 8301935, 8307927, 9242824, 11530067, 12961008, 13812868, 13201733, 14385762, 14401813, 14402172, 15432544, 15672605, 16541087, 17885954, 17003338, 19321660, 23122806, 23408595, 24154421, 25095242, 25573346, 25245252, 27576962, 27939676, 28711981, 30753359, 29376835, 31256519, 29952324, 34532547, 33954971, 35028067, 35156716, 34438543, 35223769, 35263784, 35596034, 36782247, 37489290, 39067098, 39074453, 39351308, 39384737, 38821048, 40398778, 42054835, 42054880, 41555311, 42379243, 41739723, 41857160, 43092202, 43786480, 44056070, 45444597, 45541096, 45670115, 48590770, 46416374, 49477879, 48008824, 48129790, 49844421, 48164953, 50765629, 50770430, 50221934, 52487138, 52548042, 52895190, 52196082, 53554924, 53684196, 568566195566921442, 592400705487894803, 572348858093960732, 593190861493044692, 572940417677461635, 602672645101860779, 656514440936923339, 672151723194425517, 672156581317155373, 672162738836687009, 669402056346324603, 677422779058575741, 704931214865202401, 689022023725149058, 718716660876105339, 698435356902430959, 699111408317041261, 766609896104129230, 815797364829037633, 802041056910149058, 843252320100331133, 878054612958383638, 902491000918644940, 915042070612918566, 925241440239476781, 948405674622428602, 950115527752009625, 933881419270448963, 935585069632792190, 1025908460539009403, 1030357275773436331, 1033104815769384346, 1036181568733815012, 1047532247583677539, 1072184983215544612, 1075475518106635125, 1075899004294000726, 1076041088275296522, 1076821557693274506, 1078979215715393851, 1065904867798269940, 1070005023752299930, 1088153875934071268, 1117229059174641052, 1123730901907290930, 1126024346850122681, 1141832358859958290, 1144158094207221453, 1147529050389901865, 1148630061800522800, 1149811395005690362, 1153612225066357985, 1169425183385642388, 1169432943394301687, 1158639976913028413, 1160640290754110803, 1161386959894023798, 1163757644194471672, 1166477941706592934, 1205923832719813513, 1220845510783223547, 1231657321858852570, 1231657527696515473, 1265882383762684609, 1249110481871270428, 1279558795865919959, 1279607849322776151, 1279622572559088418, 1283955325793432464, 1295517957839778358, 1333282711751266436, 1350863100933039235, 1360964459477275660, 1363873562452756929]"
        ],
        [
         "18",
         "estimated_occupancy_l365d",
         "int64",
         "0",
         "0.0",
         "[]"
        ],
        [
         "19",
         "first_review",
         "object",
         "740",
         "9.52",
         "[1482860, 2014854, 3118010, 6782983, 7018697, 7212771, 6488939, 6552897, 7712239, 8423436, 8561397, 8645053, 8736169, 9763587, 11352211, 10795221, 12864747, 12879781, 13593769, 13122321, 17801722, 17272157, 19170663, 22141357, 21643196, 21824763, 22779581, 23118034, 23955078, 27336937, 26341997, 27539099, 27599571, 27600068, 27605918, 27615894, 27617451, 26680623, 28025140, 30244448, 31615335, 32183486, 32322762, 32323055, 33600966, 33601646, 34486921, 34487577, 33923459, 34192937, 34194406, 34198553, 34377021, 35263784, 36065811, 36066436, 36066515, 35505069, 35505572, 35611685, 35611767, 35611837, 36464902, 36587753, 36678559, 37955200, 37978708, 39040234, 39076767, 38821048, 39808007, 40753581, 39986180, 40753595, 40802008, 40802085, 40802136, 40802228, 40802833, 40748129, 40751721, 40753325, 40753387, 41230237, 41543818, 41685155, 41739723, 41857160, 42683930, 42948966, 43251320, 43322099, 42985224, 43449007, 43449682, 43449754, 43449998, 44568550, 43699881, 44627642, 43753717, 43824956, 45108052, 45250837, 45444597, 44183891, 44325296, 48590770, 49555393, 49566392, 48195025, 48195026, 48205282, 48253597, 49919813, 49919994, 49920208, 49920262, 50780455, 50438391, 51661171, 52064525, 53942485, 54079591, 54188355, 54188418, 54254885, 54255739, 54255886, 54310852, 54310897, 54384622, 552573882894829155, 554092988304710652, 554107603599770813, 554109000653251610, 554112327483969367, 559364982878228875, 562230939546947110, 568490356244099608, 595451807363045433, 606337751482983732, 613829058322990491, 617288024711107485, 671495131372804832, 671504996561751909, 672135415536352376, 672140113657565652, 672143125182310747, 672151723194425517, 672161053818689306, 672162738836687009, 671409777664608461, 704823709237371920, 704931214865202401, 692804245589277408, 694077603025700878, 724549473987401732, 724557091398859840, 729587024997178381, 733530290707276780, 748999259569336631, 734550726176649255, 736784695652120493, 736795151172005885, 741672381133061454, 741679202560302667, 742433348606442332, 743108839905315839, 744760241432823124, 765034532290081966, 765890871551612909, 766537876117575305, 767207716602797434, 815809045877838400, 791389619039426601, 819686286060935532, 822993737972241831, 807675656270226907, 807680416085116912, 807682586483941230, 829232242195913025, 829245078528604905, 830272643532171896, 830353311598780523, 807684208837043608, 831691520409327634, 831711271176721766, 831718327610589757, 834178316221644052, 834202136066435100, 840396603795249783, 835990297827592549, 856998614508561337, 858087028117335826, 842532162835415942, 858435821862344223, 862140883533006821, 862192021601842747, 862192686255082895, 862203366054529007, 850612650379296516, 851855228108319397, 853449515928544509, 854114673599318410, 880825389206160218, 880829846973742643, 905076124850681268, 885494884138712348, 889211771041724039, 908315293073160121, 908449819355594566, 899920149534747381, 913667464444948575, 938361691001930141, 924398117683958821, 924426459253112636, 926010749130496340, 949057689892091780, 934406800990944137, 955581086249940650, 967229455655252680, 967877549212113691, 959144274645126251, 995736283272769462, 979473953622655549, 981578902412218090, 981827184820246911, 981831074726899704, 986066266111517548, 1004091672108614178, 1004102127557969514, 1004106881106958092, 1004108061436455142, 1004109262864251827, 991065164307680743, 995104320333126876, 1025279883239618667, 1025908460539009403, 1010626665790591601, 1012849728019228568, 1049918645815165674, 1052848162775982712, 1054283059928628507, 1047031147474382514, 1047105417583551873, 1059239607552761338, 1071730985957647632, 1073146486378267839, 1074331024894267292, 1061293727679955622, 1064398464517700062, 1080213611798243209, 1081008104561877015, 1081097650992443024, 1082001594459316931, 1082430366392016776, 1082430456875435750, 1082430546475607967, 1067911233091140375, 1085345655421747380, 1071097983747724332, 1071113243356019555, 1071697268573341999, 1085396509266939914, 1085401248959818110, 1087003825546511891, 1104534029772761431, 1104799871389380111, 1104877451689814299, 1107231528641386167, 1107275392430723514, 1107280535547505853, 1107286736536637404, 1110000899448086373, 1110690216493741810, 1110966470674419245, 1111010461070353705, 1112112464917101688, 1112123570488922115, 1099631111022405097, 1133207254571805076, 1133217599609383527, 1134492764338355995, 1126684210735664943, 1128180673476262563, 1128184020949605416, 1128228024760541758, 1128230340121806052, 1128240619421385957, 1128244893720715302, 1129276668164500275, 1130434089998644460, 1144158094207221453, 1146481357864363038, 1167365697508427852, 1168098030634623672, 1169581081056880046, 1170178722891857155, 1155006250823627046, 1157194531288593044, 1157222969827643276, 1172828773227753595, 1172950516850350787, 1173704255859512740, 1163205960954070502, 1175364113013922394, 1175845318430675889, 1177510105263894249, 1178049798694290654, 1178281870441546816, 1197110953279908046, 1198287306785345437, 1199130295421766898, 1184026459257008703, 1185445861536095295, 1188584934136387294, 1189091917558426698, 1189209222632682160, 1203385314187409577, 1203618602252003745, 1203671947084990603, 1205468699799158498, 1207248751738611278, 1194079538606409784, 1207581483275385888, 1208725575290781199, 1210889248576632028, 1211318388554541948, 1209438882312960574, 1217472734879709251, 1217929100913118190, 1217938125458878631, 1217965703167491815, 1217982988443106277, 1217985139192087743, 1217988478801006672, 1217990528142251530, 1220236420808301151, 1220845510783223547, 1221731178597045771, 1221772306542938783, 1221786960522269595, 1223755878475043521, 1214292649631410069, 1229548080757562963, 1231657321858852570, 1231657527696515473, 1257931094690462511, 1258109724729295809, 1258506299749502699, 1259224077617780583, 1233042106340861086, 1233120891732354082, 1233127515652365234, 1233301339952806429, 1260598674331608934, 1261718315461631752, 1262484070097878024, 1237616852495526769, 1264947265705367166, 1264978346120047412, 1237685862842036245, 1237702795600914486, 1237708481772340314, 1267187032932697305, 1267856449843592794, 1267912358660233723, 1242571860995742026, 1271523875129170373, 1244708534903748569, 1245415208528617193, 1245549360202547947, 1273034369814996072, 1273884094349697937, 1274548019858045776, 1274559703614536490, 1274613688162700215, 1275904232747210514, 1251087164893336128, 1251278845381517419, 1252691630467656627, 1253447719812431481, 1254158024541668916, 1256308621632912145, 1256540622125406409, 1279705569984950325, 1279558795865919959, 1279607849322776151, 1279622572559088418, 1299981592718913476, 1279841508408571445, 1279846460432275443, 1279853545939296566, 1280414729500201371, 1280453963427112295, 1281741221260572620, 1281872336471406164, 1300097955909523031, 1301482640515514012, 1301991803651928230, 1302819947557473340, 1283481045269095552, 1284538550321022592, 1284565992298040675, 1304303738234747433, 1287014378125230463, 1287078040786858269, 1287642033924279877, 1305794432068587489, 1305815691733520799, 1306376515094914292, 1306440814385183490, 1307036180687751203, 1307294989545668848, 1289075787499379023, 1289214257663825244, 1289824728471262528, 1291259652707784365, 1307916686534686272, 1309257512878376838, 1311448602032314650, 1291282523485547227, 1291289799583179150, 1292101441632901278, 1312198150197329270, 1312900433102820040, 1312904549405686861, 1313003671121552359, 1294276786465921429, 1294732956980910802, 1313101447993556449, 1313113067129078372, 1313201565481033729, 1313596943187042083, 1313810948144644531, 1314288376198959952, 1314326268241180587, 1295517957839778358, 1295606706140798565, 1295634091992433793, 1295634110145331318, 1295853066036349279, 1296390135615705479, 1296846633181172315, 1314359117073988907, 1314364005004963547, 1314490303546258762, 1315181828655043954, 1315327981665565213, 1315738290123518468, 1297506389120781008, 1297653047024275377, 1297668926728482984, 1297756486619049622, 1297785524499187085, 1297876542259759498, 1298563984146933671, 1315787509884320238, 1316062065781883893, 1316533145424796463, 1299229618052667749, 1299359966952396218, 1299849539939060028, 1299963381573911983, 1322337217462946252, 1316644160079858254, 1316647119689115416, 1316801858205906771, 1316880410136989665, 1322509130335522001, 1323082902703648038, 1323103342484247859, 1323108152903122644, 1323230692970733332, 1323781225773771898, 1324522499010558557, 1325320780552131972, 1325340442278987634, 1318191311807248040, 1318268701859570262, 1318576470347265316, 1318692457368220905, 1338618915226192231, 1338989456383343007, 1325973690960837961, 1326270504065555888, 1326643520933055178, 1326724096440188804, 1326820758829097941, 1327536547362538127, 1327610103574765126, 1327658068719655989, 1339129256232812275, 1339141688186992945, 1339149536889460738, 1339159423443968097, 1339171854603571289, 1340138537200486643, 1340450441110378619, 1328205032556559595, 1328240484692200913, 1328772308418377392, 1328779125603693887, 1328806380414897867, 1328973686477394217, 1329048135628604219, 1340459214498877705, 1340636411007510030, 1341106961457316020, 1341108200015362423, 1341129506581107523, 1341894915182929412, 1329765995507211023, 1330358189512747073, 1330385267148754308, 1330561066615318397, 1330884618680364469, 1330921057460362098, 1342038905540655364, 1342574699614106972, 1342688066282508702, 1342714493458933686, 1342753998603627779, 1342773596490732195, 1342776902401421742, 1342781485266097769, 1342789540408564951, 1343346821815050219, 1343413014556904820, 1330996532745012421, 1331218121958728326, 1331477430624757427, 1331919567944471532, 1332552396079150793, 1332634200987137979, 1332702592077991900, 1333282711751266436, 1333908714852660842, 1334032853580529300, 1343511677747927314, 1343686121121971588, 1344196928646775731, 1344816873774495533, 1344821144492050015, 1344823193736806609, 1344906319015942126, 1345111860784844135, 1334090265368720210, 1334102352606935100, 1334240677227244317, 1334272020575508905, 1334636503232011923, 1334646270746352378, 1334668605695304642, 1334674042387588224, 1334721478605903218, 1345472608739903169, 1345498154358130374, 1345593425317124542, 1335396269144009761, 1335570188619059817, 1336041214498149874, 1336212495254166382, 1336220332692733321, 1336270932708699266, 1336462816126288377, 1336854663663745192, 1336862000696501509, 1336871322624747952, 1346198446187765553, 1346356948909540365, 1346370365532280550, 1347181098602361395, 1336943390444240272, 1337569326480228729, 1338135301389840576, 1338321200112593310, 1347811123954275649, 1347881259077484850, 1350863100933039235, 1351262123586304425, 1351272053360808430, 1351284820519349761, 1351290301886448824, 1351294011082384050, 1351301164939770232, 1351301409211305933, 1351302633364076690, 1351455655877211913, 1351493666057934078, 1351496852205078127, 1348417490177315749, 1348687331665302253, 1349059986101840643, 1349145251486903063, 1349209672171947022, 1351659072335033319, 1351997347881613135, 1352092070787155488, 1352098727457410161, 1352223747164241456, 1352319160192098450, 1352945524957502121, 1349233131509506893, 1349261955129573000, 1349280133699515789, 1349289866533676679, 1349292485816234625, 1349360056557167811, 1353433749970411906, 1353440941871227136, 1353495008046007005, 1353511913213150385, 1353512233909969538, 1353515291513226895, 1353517056640339487, 1353517672300455253, 1353580369173035247, 1349501052462712380, 1349894508085634529, 1350038429350996125, 1350050965803362516, 1350683150309338060, 1350694901269365355, 1350704694775497715, 1350721788418948243, 1353610011267605574, 1353616078765017075, 1353680577398709228, 1353831020797026747, 1354157211661476271, 1354182115083490535, 1354198254370535190, 1354271961871021242, 1354280243385051934, 1354287187257041842, 1350809073039465540, 1359972998250970942, 1359978882029822062, 1359980931485345735, 1360316936829834236, 1360322103669864742, 1360323992175947701, 1360328126102625309, 1360670388197753434, 1360810799584509413, 1354299077415816489, 1354865104113402695, 1354881897080812786, 1355075446906385054, 1355251811900902130, 1355317716135295082, 1355539412021977467, 1355563006006157558, 1360912767206541429, 1360964459477275660, 1360971349938711335, 1360979783954151484, 1361399051122525278, 1361542345237595010, 1361611678638605813, 1362069284714243006, 1355627617878943355, 1355647098195515119, 1355653035925744587, 1355742172750173409, 1355757424635942324, 1355767346943830614, 1355813162837081504, 1356269141510923430, 1356287891272895542, 1362069310055124724, 1362098243021589875, 1362102017993442586, 1362112197604955543, 1362114818930196721, 1362117550692648947, 1362124197740552890, 1362126368689490123, 1362200893158496271, 1362509169619993826, 1356290905536243971, 1356454335264497980, 1356511895797928756, 1356526723381143238, 1356613157247819459, 1356784526184832339, 1356953228646976614, 1357219046572868664, 1357250408931057862, 1362518031001897841, 1362894404770995768, 1363056913187975043, 1363063118684312899, 1363069078465789326, 1363645110678408300, 1363719144045591776, 1357389604278680597, 1357872907363701635, 1358101732673694705, 1358122865707419750, 1358133145122222306, 1358151502631976046, 1358594251693214475, 1358594266933983870, 1358594284191089936, 1358598034623635013, 1363771633511251110, 1363795213337978305, 1363873562452756929, 1363939681345638896, 1364163399760087653, 1364176866870145727, 1364186396690828405, 1358624782819857102, 1358624799684066640, 1358882349176180617, 1359223003605730811, 1359254542892272496, 1359255239937477474, 1359278347560333727, 1359382050963265181, 1364192188138760641, 1364291651658722459, 1364384423426928523, 1364406083987810151, 1364480825953775275, 1364488503783488263, 1364515630628172433, 1364635286640479993, 1364642608307474895, 1365893928883912698, 1366033048567818030, 1359647331896803736, 1359677892480080968, 1359916708058728026, 1359953511198182591, 1366576092896770388, 1366912719590250705]"
        ],
        [
         "20",
         "has_availability",
         "object",
         "105",
         "1.35",
         "[72821, 1615895, 3020830, 3203677, 4272967, 6682798, 6863620, 6987387, 6443733, 6514655, 7682178, 8423436, 8561397, 9104416, 9236574, 11352211, 11878822, 12395018, 12395830, 12505135, 13593769, 15279977, 14623672, 18252889, 21470390, 23319025, 24992475, 25988358, 27336937, 26341997, 26418427, 28560731, 30753359, 29352576, 29505444, 32135840, 33206380, 33923459, 33952729, 34532547, 36065811, 36066436, 36066515, 35505069, 39986180, 40855773, 40629507, 40629964, 40748129, 40751721, 40753284, 40753310, 40753325, 41818569, 45108052, 52821520, 54310852, 54310897, 594584114878427891, 613829058322990491, 701070952508622673, 716675001218374596, 697660155237369866, 733295475350541479, 734550726176649255, 736722189382950462, 744760241432823124, 766537876117575305, 767207716602797434, 835990297827592549, 836001545790623347, 862036281404317382, 868705760879930083, 868713422818072962, 868726020325156664, 880825389206160218, 880829846973742643, 881137013820539482, 967229455655252680, 1054283059928628507, 1079560939755545107, 1081978850142291593, 1110000899448086373, 1118662108306640591, 1134492764338355995, 1126555288368710741, 1127673608505632385, 1151373789838556009, 1168653956385179970, 1203385114990860702, 1203385314187409577, 1203385650245229293, 1262484070097878024, 1264683017888321172, 1279558795865919959, 1279607849322776151, 1279622572559088418, 1284565992298040675, 1315327981665565213, 1324452788295869104, 1318576470347265316, 1349209672171947022, 1349360056557167811, 1360322103669864742, 1360964459477275660]"
        ],
        [
         "21",
         "host_acceptance_rate",
         "object",
         "374",
         "4.81",
         "[72821, 99238, 641360, 648497, 208801, 926604, 331151, 1034213, 1181536, 388399, 412848, 1832112, 1834997, 2012828, 2014854, 1533624, 1615895, 3020830, 3203677, 3206143, 3314930, 3382998, 3383300, 3524290, 3641725, 3769807, 3814415, 5268522, 5302362, 5472292, 4272967, 5568794, 5734857, 5776201, 5782605, 6682798, 6863620, 6987387, 7018697, 7212771, 7282315, 6443733, 6514655, 6552418, 6552897, 7682178, 8423436, 7912117, 8561397, 8736169, 9801176, 9011339, 9104416, 10114926, 9706595, 11193552, 11232084, 11352211, 10579776, 10639339, 11417636, 10795221, 10848085, 11834048, 11878822, 12395018, 12395830, 12099568, 12505135, 13339026, 12822904, 12864747, 12878255, 13557482, 13593769, 12965595, 13669027, 13824694, 13954375, 13181481, 13984636, 13988827, 14216510, 15254116, 15279977, 14623672, 15748398, 15993926, 16142745, 16759346, 16904707, 16969709, 17049214, 17083555, 17103422, 17144987, 18252889, 18310068, 17272157, 18456546, 19774048, 18643951, 18996187, 20180833, 19138743, 20226504, 19170663, 22542097, 21930834, 21939841, 22607982, 22642183, 22695387, 22913874, 22724998, 23319025, 24073401, 24727118, 24276039, 24365175, 24369371, 24385633, 24934520, 24992475, 25312863, 25820788, 25883820, 25988358, 26162087, 27336937, 26341997, 27539099, 27599571, 27600068, 27605918, 26418427, 27615894, 27617451, 27618661, 26552709, 26563089, 28071011, 28073916, 28117126, 26940647, 28560731, 30220513, 30245612, 30265360, 30466981, 29176552, 30581116, 30753359, 29376835, 31303354, 29868433, 32598853, 32011427, 32135840, 33010115, 33159295, 32433549, 32455684, 33206380, 34467028, 34493941, 34532547, 34533144, 34011767, 34204455, 34322184, 35145429, 35505572, 35591726, 35611685, 35611767, 35611837, 36440969, 36497612, 36678559, 36826691, 37796507, 37966528, 37967012, 37978708, 37406112, 38987546, 38118898, 38120578, 39074453, 39769189, 39808007, 40753512, 40753581, 39986180, 40753595, 40802008, 40802085, 40802136, 40802228, 40855773, 40606283, 40655941, 40748129, 40753387, 41230237, 41395029, 41495615, 41739723, 41857160, 42683930, 43699881, 43824956, 45108052, 45250837, 45296632, 45359925, 45709433, 48590770, 45968835, 50303363, 50378324, 51462996, 51600586, 51838866, 52711912, 52821520, 52196082, 52274786, 52319964, 52405570, 54188355, 54188418, 54255739, 54255886, 53567561, 554092988304710652, 554106115061235323, 554107603599770813, 554109000653251610, 554112327483969367, 559364982878228875, 595451807363045433, 602089579883111617, 613829058322990491, 653265503925724074, 617288024711107485, 658395685181196120, 659904292924629719, 701070952508622673, 678155501942692283, 684054396347155859, 704823709237371920, 689192267696277012, 709122746464370986, 709131023580834958, 692088673017569356, 692804245589277408, 697660155237369866, 698317441115511619, 729587024997178381, 733295475350541479, 733781379397976409, 741672381133061454, 741679202560302667, 743108839905315839, 744760241432823124, 817196070864448954, 820942402659816771, 806966476473135544, 807675656270226907, 807680416085116912, 807682586483941230, 807684208837043608, 808099177768162020, 840985079777351460, 854890576400459864, 856411208202489480, 856998614508561337, 857678029839780214, 862140883533006821, 862192021601842747, 862192686255082895, 862203366054529007, 845591766511332689, 868705760879930083, 868713422818072962, 849904983657757980, 849933300156773473, 849944099007595605, 849950138449124609, 849964179862466363, 849975026602526987, 850612650379296516, 853449515928544509, 854114673599318410, 880825389206160218, 880829846973742643, 908449819355594566, 908452175534766030, 945296409882984631, 967229455655252680, 977466719617229854, 986826364565972927, 991065164307680743, 993589349889972325, 1025279883239618667, 1025908460539009403, 1012849728019228568, 1036181568733815012, 1071730985957647632, 1080213611798243209, 1081097650992443024, 1065858804063666232, 1085345655421747380, 1071697268573341999, 1085396509266939914, 1085401248959818110, 1134492764338355995, 1129276668164500275, 1130434089998644460, 1172950516850350787, 1163549899953888023, 1177336194970006586, 1178281870441546816, 1189091917558426698, 1194079538606409784, 1208725575290781199, 1257931094690462511, 1259392220091411155, 1267912358660233723, 1242571860995742026, 1269365159333474366, 1273034369814996072, 1273884094349697937, 1256540622125406409, 1280414729500201371, 1281741221260572620, 1284565992298040675, 1304367309459648642, 1287642033924279877, 1289075787499379023, 1293893214249848369, 1313003671121552359, 1296846633181172315, 1314490303546258762, 1315327981665565213, 1315738290123518468, 1297668926728482984, 1297785524499187085, 1299229618052667749, 1323103342484247859, 1326270504065555888, 1327610103574765126, 1340138537200486643, 1340450441110378619, 1328779125603693887, 1341108200015362423, 1329765995507211023, 1330884618680364469, 1333282711751266436, 1336270932708699266, 1336943390444240272, 1353495008046007005, 1353511913213150385, 1353517056640339487, 1353831020797026747, 1360322103669864742, 1360964459477275660, 1355813162837081504, 1362200893158496271, 1356526723381143238, 1363873562452756929, 1365893928883912698]"
        ],
        [
         "22",
         "host_has_profile_pic",
         "object",
         "10",
         "0.13",
         "[25820788, 28071011, 33010115, 849904983657757980, 849933300156773473, 849944099007595605, 849950138449124609, 849964179862466363, 849975026602526987, 993589349889972325]"
        ],
        [
         "23",
         "host_id",
         "int64",
         "0",
         "0.0",
         "[]"
        ],
        [
         "24",
         "host_identity_verified",
         "object",
         "10",
         "0.13",
         "[25820788, 28071011, 33010115, 849904983657757980, 849933300156773473, 849944099007595605, 849950138449124609, 849964179862466363, 849975026602526987, 993589349889972325]"
        ],
        [
         "25",
         "host_is_superhost",
         "object",
         "290",
         "3.73",
         "[149749, 831560, 335961, 357073, 1503769, 1753171, 2873890, 3044146, 2503722, 2635900, 3552694, 3777330, 5003167, 5409458, 5425891, 4216103, 5641271, 5653637, 5691428, 6385898, 8378294, 7912117, 9917537, 10117414, 10976716, 10820972, 12323924, 12601531, 13162260, 14215939, 14366208, 14375002, 14817407, 15020296, 16046081, 16760743, 17487293, 16774862, 16820471, 17647919, 16969709, 18003605, 17252516, 18456546, 19772259, 19838910, 19910159, 18831853, 18904834, 18905564, 19305890, 19345685, 19384781, 20589372, 19546787, 20770032, 22338841, 22805916, 23333662, 23365669, 23444096, 23477048, 23639309, 24610567, 24519204, 25126871, 25367088, 25443000, 27302438, 27515029, 27636393, 27687653, 28022331, 27070576, 27096535, 28438681, 28629026, 30467176, 31563752, 30067616, 32488130, 32857874, 32096274, 33387873, 33535867, 34493941, 33905388, 33922446, 34769137, 34190201, 34827691, 34828586, 34385695, 35753480, 35835881, 37225514, 38014881, 38039440, 38148201, 38208643, 38237339, 39480397, 38568014, 39907998, 39995781, 40819642, 40606283, 40628515, 41236121, 42239335, 42418890, 41794005, 43363347, 44586566, 43828270, 45709433, 48456554, 48478221, 48949721, 49578014, 49723789, 48258018, 49864876, 48409863, 50015261, 50719000, 51054280, 51132554, 50436949, 51271764, 51385910, 52431342, 52431689, 52711912, 52880141, 52967339, 53253678, 52319964, 52416887, 53393194, 53457166, 53717203, 576925166911492754, 587047216167742674, 599953954122664992, 602030037747448001, 602089579883111617, 602600126594028892, 609769681910660098, 612306870764866953, 616703040333924885, 617439460572975089, 654947667271912278, 620309936761654143, 620315804338476983, 620327730605212540, 620332217975084264, 658395685181196120, 624537348830995631, 624675773517222415, 668624100482637049, 680143510068064957, 684648170377799415, 712088225086724526, 689750119988606795, 712113708309561812, 713468413653295397, 717289314940908905, 692398783044089715, 732522539484314144, 733235573952127957, 751969699715339396, 753310481166218809, 753689709697898013, 764974252654522587, 765034532290081966, 765115847361336372, 765134524093655303, 775158475945813412, 786818313032849476, 787024808576386804, 787035882963178360, 787051557306213827, 787069739879614242, 787086719246637295, 787100134766105538, 787114207051158657, 787137463012612394, 787152902567157850, 787166134283194242, 811736994018743520, 815797364829037633, 789832668314206901, 802633552724786344, 807172927993421544, 808715678478646782, 831749875617113346, 841060322078597452, 866708694519949048, 869627659266304781, 905012196765426125, 906418791661297145, 906464947432834918, 912080631363242453, 900316189302396486, 918773555791503555, 917793784353272176, 926010749130496340, 943237197679571427, 927219782121965863, 934496244339360087, 954829424053217642, 935238632273976717, 957890980987243124, 957995381075738308, 958585586787746669, 971406619635037674, 973876919369586833, 960750958293194658, 975990456804470675, 983142924055698204, 986826364565972927, 1017943737210623048, 1020212997792042744, 1020944684221145146, 1006449664247736876, 1046901532589310562, 1073147584627293029, 1060674935133918036, 1075475518106635125, 1064398464517700062, 1083371516537937524, 1083553473678978563, 1070516367301049544, 1104799871389380111, 1109514300332624150, 1109521954576816643, 1095808676974831779, 1114981641809039543, 1096910057225390433, 1116738369193202892, 1121643638051193011, 1133109670888736134, 1134532765975756746, 1128961993694770392, 1130303866671637604, 1144158094207221453, 1154226600204779461, 1155006250823627046, 1156539906392343268, 1173684881354469863, 1177395821061073327, 1178281870441546816, 1181337689859769761, 1183146326111268842, 1189837933325037926, 1192060107472842224, 1211515539719764431, 1211647294048663611, 1209438882312960574, 1220898313472090238, 1223632234027887776, 1223667650427122081, 1262258790992685156, 1237443157689096307, 1266593751112680720, 1243264183793133512, 1244317297172390794, 1268671630900869265, 1253733176449330034, 1284811362016973772, 1303535450225069353, 1287642033924279877, 1292658022484131506, 1297148939963358992, 1316880410136989665, 1330492198104237106, 1330561066615318397, 1344706414158557191, 1334721478605903218, 1346370365532280550, 1338611794887931220, 1350857440804188101, 1347881259077484850, 1352223747164241456, 1354139981539751020, 1354198254370535190, 1350809073039465540, 1361611678638605813, 1363939681345638896]"
        ],
        [
         "26",
         "host_listings_count",
         "float64",
         "10",
         "0.13",
         "[25820788, 28071011, 33010115, 849904983657757980, 849933300156773473, 849944099007595605, 849950138449124609, 849964179862466363, 849975026602526987, 993589349889972325]"
        ],
        [
         "27",
         "host_name",
         "object",
         "10",
         "0.13",
         "[25820788, 28071011, 33010115, 849904983657757980, 849933300156773473, 849944099007595605, 849950138449124609, 849964179862466363, 849975026602526987, 993589349889972325]"
        ],
        [
         "28",
         "host_picture_url",
         "object",
         "10",
         "0.13",
         "[25820788, 28071011, 33010115, 849904983657757980, 849933300156773473, 849944099007595605, 849950138449124609, 849964179862466363, 849975026602526987, 993589349889972325]"
        ],
        [
         "29",
         "host_response_rate",
         "object",
         "761",
         "9.79",
         "[423767, 72821, 99238, 149749, 641360, 648497, 676323, 208801, 804777, 846521, 926604, 331151, 999441, 1012804, 1034213, 1038620, 1181536, 1230451, 388399, 412848, 1832112, 1834997, 1916543, 1316277, 1316352, 2012828, 2014854, 1533624, 1615895, 2151599, 1723179, 2202020, 3020830, 2402601, 3203677, 3206143, 3314930, 3356926, 3382998, 3383300, 3709382, 3518072, 3524290, 3641725, 3769807, 3814415, 4871612, 4947604, 5079256, 5188488, 5253772, 5268522, 5302362, 5317049, 5349074, 5472292, 4272967, 5568794, 4332045, 5734857, 5776201, 5782605, 5809349, 4600925, 5962685, 6682798, 6791981, 6793335, 6863620, 6987387, 7018697, 7212771, 6333933, 6398170, 7268407, 7282315, 6443733, 6488939, 6514655, 6552418, 6552897, 7682178, 7744599, 8423436, 7878749, 7912117, 7969977, 8561397, 8736169, 8854140, 9801176, 9011339, 9104416, 10009859, 10027171, 10114926, 9706595, 11037556, 11193552, 10406840, 11291528, 11352211, 10579776, 10610104, 10639339, 11417636, 10795221, 10848085, 11834048, 11878822, 12356453, 12395018, 12395830, 12452977, 12099568, 12505135, 13337354, 13339026, 13426020, 12822904, 13470839, 13486416, 12864747, 12878255, 13557482, 13593769, 12965595, 13669027, 13074432, 13075813, 13824694, 13854803, 13897359, 13940818, 13954375, 13181481, 13984636, 13988827, 14194286, 14216510, 14035254, 14350809, 14411510, 15254116, 15279977, 14623672, 14925459, 14927241, 15748398, 15848199, 15857106, 15863506, 15993926, 15062156, 16044516, 16142745, 17275936, 17417725, 16759346, 17454741, 16789967, 17566689, 16848003, 16878221, 16888777, 16904707, 16969709, 18171986, 17049214, 17083555, 17103422, 17144987, 18252889, 18310068, 17210624, 18322676, 18403345, 18403998, 18404123, 18404739, 19612812, 18456546, 19774048, 18622990, 18628831, 18643951, 19926827, 19935227, 20033951, 18996187, 20180833, 19060006, 19138743, 20213463, 20226504, 19170663, 19361537, 20512997, 20753317, 20759436, 20951482, 21101169, 21180693, 21417546, 21470390, 21484487, 21577826, 21594257, 21761595, 21794530, 22542097, 21824763, 21930834, 21939841, 22607982, 22642183, 22695387, 22913874, 22724998, 22726630, 22743268, 23033531, 22873389, 23319025, 23332524, 23381510, 23639309, 24073401, 24727118, 24276039, 24844704, 24369371, 24385633, 24903402, 24934520, 24967985, 24992475, 25013963, 25250080, 25312863, 25339688, 25820788, 25443000, 25883820, 25988358, 26162087, 27271176, 27336937, 27451744, 27454257, 26341997, 27539099, 27599571, 27600068, 27605918, 26418427, 27615894, 27617451, 27618661, 26552709, 26563089, 27840473, 27891542, 27905378, 26794701, 28025140, 28071011, 28073916, 28117126, 26940647, 27011653, 28125365, 28560731, 30220513, 28850146, 30245612, 30265360, 28876975, 30466981, 29176552, 30581116, 30753359, 29255439, 29376835, 31203307, 31303354, 29774356, 29868433, 31508921, 31615335, 30102306, 31660265, 32598853, 32732489, 32737889, 32011427, 32135840, 33010115, 33037671, 32298571, 33159295, 32433549, 32455684, 33206380, 33438466, 33672054, 33729264, 33759620, 34467028, 34486921, 34487124, 34487577, 34493941, 33922446, 34532547, 34533144, 34011767, 34192937, 34194406, 34198553, 34198773, 34204455, 34214770, 34992635, 35014667, 34322184, 34377021, 35145429, 35153719, 35408588, 36065811, 36066436, 36066515, 36171075, 35505069, 35505572, 35591726, 35611685, 35611767, 35611837, 36440969, 36464902, 36465605, 36497612, 36500548, 36500837, 35828091, 37543558, 37546004, 37546481, 36678559, 36785116, 36826691, 37313455, 37344350, 37955200, 37966528, 37967012, 37978708, 37457978, 37983602, 38030698, 38987546, 38118898, 38120578, 39074453, 39249695, 38366188, 39769189, 39808007, 40753512, 40753581, 39986180, 40753595, 40855773, 40437093, 40606283, 40655941, 41017509, 40748129, 40751721, 40753284, 40753310, 40753325, 40753387, 41230237, 41236121, 41301335, 41395029, 41495615, 41500137, 42246003, 42291642, 41583708, 41739723, 41767719, 42484615, 42522464, 41857160, 42683930, 42788005, 42980923, 44339659, 43699881, 43709157, 45051195, 43824956, 45077717, 45108052, 45199986, 45250837, 45296632, 45359925, 45444597, 45589908, 44325296, 45709433, 48590770, 47025541, 47303256, 49509963, 47864169, 48210114, 48253597, 49892807, 48325884, 48326905, 49963602, 50045590, 50070674, 50233990, 50278704, 50303363, 51020170, 50378324, 51260256, 51277384, 51277434, 51462996, 51600586, 51301136, 51609276, 51401286, 51405464, 51416594, 51721705, 52528726, 51838866, 52564047, 52711912, 52821520, 52979664, 52045203, 52059320, 52196082, 52274786, 52319964, 52405570, 54048617, 53378257, 53396142, 54099920, 54188355, 54188418, 54310852, 53567561, 54310897, 54326169, 54401249, 53605241, 546894922088297161, 554092988304710652, 554106115061235323, 554107603599770813, 554109000653251610, 554112327483969367, 576733228936794558, 559364982878228875, 578733875985469454, 585336565841810196, 567270769493238695, 595451807363045433, 599295806208463981, 602089579883111617, 645440840550150229, 603976984595737078, 606337751482983732, 609290898779100981, 611520264685430763, 651879072182429115, 613829058322990491, 616035025546642981, 653265503925724074, 617288024711107485, 658395685181196120, 659904292924629719, 630450386688784710, 661420937317454555, 671495131372804832, 671499391376551498, 671502439065092652, 671504996561751909, 671507608882429537, 671512068583594186, 667702716418352345, 672131284747383829, 672135415536352376, 672140113657565652, 672143125182310747, 672151723194425517, 672156581317155373, 672159140052101625, 672161053818689306, 672162738836687009, 670133936049220562, 673564140178408724, 676124249847272043, 671409777664608461, 701070952508622673, 679498594637487931, 684054396347155859, 684581082012406033, 704823709237371920, 685349629564161028, 686297002562728779, 709122746464370986, 709131023580834958, 692088673017569356, 692804245589277408, 697660155237369866, 698317441115511619, 724502932255405735, 724549473987401732, 724557091398859840, 728685803584988906, 747479976789475259, 729587024997178381, 733235573952127957, 733295475350541479, 733530290707276780, 733781379397976409, 741045646897395177, 741672381133061454, 741679202560302667, 743108839905315839, 744760241432823124, 778022836898556302, 809126253713807648, 788310451422292596, 817196070864448954, 820942402659816771, 806966476473135544, 807172927993421544, 807675656270226907, 807680416085116912, 807682586483941230, 829232242195913025, 829245078528604905, 830295690272706295, 807684208837043608, 808099177768162020, 830368920587858984, 830392552733062413, 840985079777351460, 854890576400459864, 856411208202489480, 856998614508561337, 857678029839780214, 862140883533006821, 862192021601842747, 844128612348038699, 862192686255082895, 862203366054529007, 864288950872962544, 845554659208037123, 845591766511332689, 867975551966097487, 868705760879930083, 868713422818072962, 848435322725836768, 849904983657757980, 849933300156773473, 849944099007595605, 849950138449124609, 849964179862466363, 849975026602526987, 853449515928544509, 874528213181534672, 875062299702523610, 854114673599318410, 877337207890881386, 904289194736080237, 880825389206160218, 880829846973742643, 905139769927877381, 885494884138712348, 889211771041724039, 908449819355594566, 908452175534766030, 897716429609769992, 898304615063406289, 901220569668578885, 922171703902677597, 924398117683958821, 924426459253112636, 926047498183594290, 926530538620610967, 945296409882984631, 967229455655252680, 957995381075738308, 958424743922064382, 969498170866937575, 977466719617229854, 977500059155237747, 995736283272769462, 978837903500153696, 999891247297923594, 1001341233025177499, 986826364565972927, 987698851343710249, 989861195408373493, 991065164307680743, 993589349889972325, 1012849728019228568, 1032636780079013993, 1049160676049678787, 1039091256868952584, 1054283059928628507, 1044332459456152240, 1045438950210180404, 1046187786747757973, 1047105417583551873, 1059965658285244867, 1047532247583677539, 1047541681816501904, 1072687785531220479, 1073995144896394653, 1060046432179361859, 1064288645299628696, 1080213611798243209, 1081097650992443024, 1065858804063666232, 1067301357031315949, 1067395816890425963, 1082430366392016776, 1082430456875435750, 1082430546475607967, 1067836474245419546, 1085345655421747380, 1070164219123199142, 1085396509266939914, 1085401248959818110, 1087488145006164690, 1090402160443482826, 1090664426013303025, 1092043940253574173, 1106372780749038706, 1111563715437318016, 1112112464917101688, 1112123570488922115, 1097656178690588757, 1117852176088159838, 1118629787407576324, 1120304299036193519, 1132425637187535747, 1122364198522681494, 1124378020875145813, 1134492764338355995, 1125382434265334913, 1126024346850122681, 1126778646373414970, 1138164411197049674, 1128841315755111584, 1129276668164500275, 1138525185921733968, 1130434089998644460, 1143197638152214647, 1146235880517350529, 1144782101988804907, 1146223316781299250, 1146231339027145342, 1167176507878028232, 1167347270554946277, 1150710839576490327, 1155960875968885439, 1172950516850350787, 1163549899953888023, 1177336194970006586, 1178281870441546816, 1181348934636153161, 1198287306785345437, 1184226057349901133, 1188584934136387294, 1189091917558426698, 1190675367521625163, 1192036933105008789, 1192060107472842224, 1206990237100471298, 1207248751738611278, 1194079538606409784, 1208725575290781199, 1210889248576632028, 1209438882312960574, 1217472734879709251, 1217920697687130827, 1217929100913118190, 1217938125458878631, 1217965703167491815, 1217969057016379785, 1217981445000394516, 1217982988443106277, 1217985139192087743, 1217988478801006672, 1217990528142251530, 1220845510783223547, 1221731178597045771, 1214320768004897030, 1257931094690462511, 1259392220091411155, 1242571860995742026, 1269365159333474366, 1247013264722070801, 1273034369814996072, 1273884094349697937, 1273915376791991136, 1253560186404175207, 1256540622125406409, 1279558795865919959, 1279607849322776151, 1279622572559088418, 1280414729500201371, 1281741221260572620, 1284565992298040675, 1304367309459648642, 1287642033924279877, 1289075787499379023, 1293893214249848369, 1313003671121552359, 1296846633181172315, 1314490303546258762, 1315327981665565213, 1315738290123518468, 1297668926728482984, 1299229618052667749, 1323103342484247859, 1327610103574765126, 1340138537200486643, 1340450441110378619, 1328779125603693887, 1341108200015362423, 1329765995507211023, 1330884618680364469, 1333282711751266436, 1336270932708699266, 1336943390444240272, 1360964459477275660, 1355813162837081504, 1362200893158496271, 1356526723381143238, 1363873562452756929, 1365893928883912698]"
        ],
        [
         "30",
         "host_response_time",
         "object",
         "761",
         "9.79",
         "[423767, 72821, 99238, 149749, 641360, 648497, 676323, 208801, 804777, 846521, 926604, 331151, 999441, 1012804, 1034213, 1038620, 1181536, 1230451, 388399, 412848, 1832112, 1834997, 1916543, 1316277, 1316352, 2012828, 2014854, 1533624, 1615895, 2151599, 1723179, 2202020, 3020830, 2402601, 3203677, 3206143, 3314930, 3356926, 3382998, 3383300, 3709382, 3518072, 3524290, 3641725, 3769807, 3814415, 4871612, 4947604, 5079256, 5188488, 5253772, 5268522, 5302362, 5317049, 5349074, 5472292, 4272967, 5568794, 4332045, 5734857, 5776201, 5782605, 5809349, 4600925, 5962685, 6682798, 6791981, 6793335, 6863620, 6987387, 7018697, 7212771, 6333933, 6398170, 7268407, 7282315, 6443733, 6488939, 6514655, 6552418, 6552897, 7682178, 7744599, 8423436, 7878749, 7912117, 7969977, 8561397, 8736169, 8854140, 9801176, 9011339, 9104416, 10009859, 10027171, 10114926, 9706595, 11037556, 11193552, 10406840, 11291528, 11352211, 10579776, 10610104, 10639339, 11417636, 10795221, 10848085, 11834048, 11878822, 12356453, 12395018, 12395830, 12452977, 12099568, 12505135, 13337354, 13339026, 13426020, 12822904, 13470839, 13486416, 12864747, 12878255, 13557482, 13593769, 12965595, 13669027, 13074432, 13075813, 13824694, 13854803, 13897359, 13940818, 13954375, 13181481, 13984636, 13988827, 14194286, 14216510, 14035254, 14350809, 14411510, 15254116, 15279977, 14623672, 14925459, 14927241, 15748398, 15848199, 15857106, 15863506, 15993926, 15062156, 16044516, 16142745, 17275936, 17417725, 16759346, 17454741, 16789967, 17566689, 16848003, 16878221, 16888777, 16904707, 16969709, 18171986, 17049214, 17083555, 17103422, 17144987, 18252889, 18310068, 17210624, 18322676, 18403345, 18403998, 18404123, 18404739, 19612812, 18456546, 19774048, 18622990, 18628831, 18643951, 19926827, 19935227, 20033951, 18996187, 20180833, 19060006, 19138743, 20213463, 20226504, 19170663, 19361537, 20512997, 20753317, 20759436, 20951482, 21101169, 21180693, 21417546, 21470390, 21484487, 21577826, 21594257, 21761595, 21794530, 22542097, 21824763, 21930834, 21939841, 22607982, 22642183, 22695387, 22913874, 22724998, 22726630, 22743268, 23033531, 22873389, 23319025, 23332524, 23381510, 23639309, 24073401, 24727118, 24276039, 24844704, 24369371, 24385633, 24903402, 24934520, 24967985, 24992475, 25013963, 25250080, 25312863, 25339688, 25820788, 25443000, 25883820, 25988358, 26162087, 27271176, 27336937, 27451744, 27454257, 26341997, 27539099, 27599571, 27600068, 27605918, 26418427, 27615894, 27617451, 27618661, 26552709, 26563089, 27840473, 27891542, 27905378, 26794701, 28025140, 28071011, 28073916, 28117126, 26940647, 27011653, 28125365, 28560731, 30220513, 28850146, 30245612, 30265360, 28876975, 30466981, 29176552, 30581116, 30753359, 29255439, 29376835, 31203307, 31303354, 29774356, 29868433, 31508921, 31615335, 30102306, 31660265, 32598853, 32732489, 32737889, 32011427, 32135840, 33010115, 33037671, 32298571, 33159295, 32433549, 32455684, 33206380, 33438466, 33672054, 33729264, 33759620, 34467028, 34486921, 34487124, 34487577, 34493941, 33922446, 34532547, 34533144, 34011767, 34192937, 34194406, 34198553, 34198773, 34204455, 34214770, 34992635, 35014667, 34322184, 34377021, 35145429, 35153719, 35408588, 36065811, 36066436, 36066515, 36171075, 35505069, 35505572, 35591726, 35611685, 35611767, 35611837, 36440969, 36464902, 36465605, 36497612, 36500548, 36500837, 35828091, 37543558, 37546004, 37546481, 36678559, 36785116, 36826691, 37313455, 37344350, 37955200, 37966528, 37967012, 37978708, 37457978, 37983602, 38030698, 38987546, 38118898, 38120578, 39074453, 39249695, 38366188, 39769189, 39808007, 40753512, 40753581, 39986180, 40753595, 40855773, 40437093, 40606283, 40655941, 41017509, 40748129, 40751721, 40753284, 40753310, 40753325, 40753387, 41230237, 41236121, 41301335, 41395029, 41495615, 41500137, 42246003, 42291642, 41583708, 41739723, 41767719, 42484615, 42522464, 41857160, 42683930, 42788005, 42980923, 44339659, 43699881, 43709157, 45051195, 43824956, 45077717, 45108052, 45199986, 45250837, 45296632, 45359925, 45444597, 45589908, 44325296, 45709433, 48590770, 47025541, 47303256, 49509963, 47864169, 48210114, 48253597, 49892807, 48325884, 48326905, 49963602, 50045590, 50070674, 50233990, 50278704, 50303363, 51020170, 50378324, 51260256, 51277384, 51277434, 51462996, 51600586, 51301136, 51609276, 51401286, 51405464, 51416594, 51721705, 52528726, 51838866, 52564047, 52711912, 52821520, 52979664, 52045203, 52059320, 52196082, 52274786, 52319964, 52405570, 54048617, 53378257, 53396142, 54099920, 54188355, 54188418, 54310852, 53567561, 54310897, 54326169, 54401249, 53605241, 546894922088297161, 554092988304710652, 554106115061235323, 554107603599770813, 554109000653251610, 554112327483969367, 576733228936794558, 559364982878228875, 578733875985469454, 585336565841810196, 567270769493238695, 595451807363045433, 599295806208463981, 602089579883111617, 645440840550150229, 603976984595737078, 606337751482983732, 609290898779100981, 611520264685430763, 651879072182429115, 613829058322990491, 616035025546642981, 653265503925724074, 617288024711107485, 658395685181196120, 659904292924629719, 630450386688784710, 661420937317454555, 671495131372804832, 671499391376551498, 671502439065092652, 671504996561751909, 671507608882429537, 671512068583594186, 667702716418352345, 672131284747383829, 672135415536352376, 672140113657565652, 672143125182310747, 672151723194425517, 672156581317155373, 672159140052101625, 672161053818689306, 672162738836687009, 670133936049220562, 673564140178408724, 676124249847272043, 671409777664608461, 701070952508622673, 679498594637487931, 684054396347155859, 684581082012406033, 704823709237371920, 685349629564161028, 686297002562728779, 709122746464370986, 709131023580834958, 692088673017569356, 692804245589277408, 697660155237369866, 698317441115511619, 724502932255405735, 724549473987401732, 724557091398859840, 728685803584988906, 747479976789475259, 729587024997178381, 733235573952127957, 733295475350541479, 733530290707276780, 733781379397976409, 741045646897395177, 741672381133061454, 741679202560302667, 743108839905315839, 744760241432823124, 778022836898556302, 809126253713807648, 788310451422292596, 817196070864448954, 820942402659816771, 806966476473135544, 807172927993421544, 807675656270226907, 807680416085116912, 807682586483941230, 829232242195913025, 829245078528604905, 830295690272706295, 807684208837043608, 808099177768162020, 830368920587858984, 830392552733062413, 840985079777351460, 854890576400459864, 856411208202489480, 856998614508561337, 857678029839780214, 862140883533006821, 862192021601842747, 844128612348038699, 862192686255082895, 862203366054529007, 864288950872962544, 845554659208037123, 845591766511332689, 867975551966097487, 868705760879930083, 868713422818072962, 848435322725836768, 849904983657757980, 849933300156773473, 849944099007595605, 849950138449124609, 849964179862466363, 849975026602526987, 853449515928544509, 874528213181534672, 875062299702523610, 854114673599318410, 877337207890881386, 904289194736080237, 880825389206160218, 880829846973742643, 905139769927877381, 885494884138712348, 889211771041724039, 908449819355594566, 908452175534766030, 897716429609769992, 898304615063406289, 901220569668578885, 922171703902677597, 924398117683958821, 924426459253112636, 926047498183594290, 926530538620610967, 945296409882984631, 967229455655252680, 957995381075738308, 958424743922064382, 969498170866937575, 977466719617229854, 977500059155237747, 995736283272769462, 978837903500153696, 999891247297923594, 1001341233025177499, 986826364565972927, 987698851343710249, 989861195408373493, 991065164307680743, 993589349889972325, 1012849728019228568, 1032636780079013993, 1049160676049678787, 1039091256868952584, 1054283059928628507, 1044332459456152240, 1045438950210180404, 1046187786747757973, 1047105417583551873, 1059965658285244867, 1047532247583677539, 1047541681816501904, 1072687785531220479, 1073995144896394653, 1060046432179361859, 1064288645299628696, 1080213611798243209, 1081097650992443024, 1065858804063666232, 1067301357031315949, 1067395816890425963, 1082430366392016776, 1082430456875435750, 1082430546475607967, 1067836474245419546, 1085345655421747380, 1070164219123199142, 1085396509266939914, 1085401248959818110, 1087488145006164690, 1090402160443482826, 1090664426013303025, 1092043940253574173, 1106372780749038706, 1111563715437318016, 1112112464917101688, 1112123570488922115, 1097656178690588757, 1117852176088159838, 1118629787407576324, 1120304299036193519, 1132425637187535747, 1122364198522681494, 1124378020875145813, 1134492764338355995, 1125382434265334913, 1126024346850122681, 1126778646373414970, 1138164411197049674, 1128841315755111584, 1129276668164500275, 1138525185921733968, 1130434089998644460, 1143197638152214647, 1146235880517350529, 1144782101988804907, 1146223316781299250, 1146231339027145342, 1167176507878028232, 1167347270554946277, 1150710839576490327, 1155960875968885439, 1172950516850350787, 1163549899953888023, 1177336194970006586, 1178281870441546816, 1181348934636153161, 1198287306785345437, 1184226057349901133, 1188584934136387294, 1189091917558426698, 1190675367521625163, 1192036933105008789, 1192060107472842224, 1206990237100471298, 1207248751738611278, 1194079538606409784, 1208725575290781199, 1210889248576632028, 1209438882312960574, 1217472734879709251, 1217920697687130827, 1217929100913118190, 1217938125458878631, 1217965703167491815, 1217969057016379785, 1217981445000394516, 1217982988443106277, 1217985139192087743, 1217988478801006672, 1217990528142251530, 1220845510783223547, 1221731178597045771, 1214320768004897030, 1257931094690462511, 1259392220091411155, 1242571860995742026, 1269365159333474366, 1247013264722070801, 1273034369814996072, 1273884094349697937, 1273915376791991136, 1253560186404175207, 1256540622125406409, 1279558795865919959, 1279607849322776151, 1279622572559088418, 1280414729500201371, 1281741221260572620, 1284565992298040675, 1304367309459648642, 1287642033924279877, 1289075787499379023, 1293893214249848369, 1313003671121552359, 1296846633181172315, 1314490303546258762, 1315327981665565213, 1315738290123518468, 1297668926728482984, 1299229618052667749, 1323103342484247859, 1327610103574765126, 1340138537200486643, 1340450441110378619, 1328779125603693887, 1341108200015362423, 1329765995507211023, 1330884618680364469, 1333282711751266436, 1336270932708699266, 1336943390444240272, 1360964459477275660, 1355813162837081504, 1362200893158496271, 1356526723381143238, 1363873562452756929, 1365893928883912698]"
        ],
        [
         "31",
         "host_since",
         "object",
         "10",
         "0.13",
         "[25820788, 28071011, 33010115, 849904983657757980, 849933300156773473, 849944099007595605, 849950138449124609, 849964179862466363, 849975026602526987, 993589349889972325]"
        ],
        [
         "32",
         "host_thumbnail_url",
         "object",
         "10",
         "0.13",
         "[25820788, 28071011, 33010115, 849904983657757980, 849933300156773473, 849944099007595605, 849950138449124609, 849964179862466363, 849975026602526987, 993589349889972325]"
        ],
        [
         "33",
         "host_total_listings_count",
         "float64",
         "10",
         "0.13",
         "[25820788, 28071011, 33010115, 849904983657757980, 849933300156773473, 849944099007595605, 849950138449124609, 849964179862466363, 849975026602526987, 993589349889972325]"
        ],
        [
         "34",
         "host_url",
         "object",
         "0",
         "0.0",
         "[]"
        ],
        [
         "35",
         "host_verifications",
         "object",
         "10",
         "0.13",
         "[25820788, 28071011, 33010115, 849904983657757980, 849933300156773473, 849944099007595605, 849950138449124609, 849964179862466363, 849975026602526987, 993589349889972325]"
        ],
        [
         "36",
         "id",
         "int64",
         "0",
         "0.0",
         "[]"
        ],
        [
         "37",
         "instant_bookable",
         "object",
         "0",
         "0.0",
         "[]"
        ],
        [
         "38",
         "last_review",
         "object",
         "740",
         "9.52",
         "[1482860, 2014854, 3118010, 6782983, 7018697, 7212771, 6488939, 6552897, 7712239, 8423436, 8561397, 8645053, 8736169, 9763587, 11352211, 10795221, 12864747, 12879781, 13593769, 13122321, 17801722, 17272157, 19170663, 22141357, 21643196, 21824763, 22779581, 23118034, 23955078, 27336937, 26341997, 27539099, 27599571, 27600068, 27605918, 27615894, 27617451, 26680623, 28025140, 30244448, 31615335, 32183486, 32322762, 32323055, 33600966, 33601646, 34486921, 34487577, 33923459, 34192937, 34194406, 34198553, 34377021, 35263784, 36065811, 36066436, 36066515, 35505069, 35505572, 35611685, 35611767, 35611837, 36464902, 36587753, 36678559, 37955200, 37978708, 39040234, 39076767, 38821048, 39808007, 40753581, 39986180, 40753595, 40802008, 40802085, 40802136, 40802228, 40802833, 40748129, 40751721, 40753325, 40753387, 41230237, 41543818, 41685155, 41739723, 41857160, 42683930, 42948966, 43251320, 43322099, 42985224, 43449007, 43449682, 43449754, 43449998, 44568550, 43699881, 44627642, 43753717, 43824956, 45108052, 45250837, 45444597, 44183891, 44325296, 48590770, 49555393, 49566392, 48195025, 48195026, 48205282, 48253597, 49919813, 49919994, 49920208, 49920262, 50780455, 50438391, 51661171, 52064525, 53942485, 54079591, 54188355, 54188418, 54254885, 54255739, 54255886, 54310852, 54310897, 54384622, 552573882894829155, 554092988304710652, 554107603599770813, 554109000653251610, 554112327483969367, 559364982878228875, 562230939546947110, 568490356244099608, 595451807363045433, 606337751482983732, 613829058322990491, 617288024711107485, 671495131372804832, 671504996561751909, 672135415536352376, 672140113657565652, 672143125182310747, 672151723194425517, 672161053818689306, 672162738836687009, 671409777664608461, 704823709237371920, 704931214865202401, 692804245589277408, 694077603025700878, 724549473987401732, 724557091398859840, 729587024997178381, 733530290707276780, 748999259569336631, 734550726176649255, 736784695652120493, 736795151172005885, 741672381133061454, 741679202560302667, 742433348606442332, 743108839905315839, 744760241432823124, 765034532290081966, 765890871551612909, 766537876117575305, 767207716602797434, 815809045877838400, 791389619039426601, 819686286060935532, 822993737972241831, 807675656270226907, 807680416085116912, 807682586483941230, 829232242195913025, 829245078528604905, 830272643532171896, 830353311598780523, 807684208837043608, 831691520409327634, 831711271176721766, 831718327610589757, 834178316221644052, 834202136066435100, 840396603795249783, 835990297827592549, 856998614508561337, 858087028117335826, 842532162835415942, 858435821862344223, 862140883533006821, 862192021601842747, 862192686255082895, 862203366054529007, 850612650379296516, 851855228108319397, 853449515928544509, 854114673599318410, 880825389206160218, 880829846973742643, 905076124850681268, 885494884138712348, 889211771041724039, 908315293073160121, 908449819355594566, 899920149534747381, 913667464444948575, 938361691001930141, 924398117683958821, 924426459253112636, 926010749130496340, 949057689892091780, 934406800990944137, 955581086249940650, 967229455655252680, 967877549212113691, 959144274645126251, 995736283272769462, 979473953622655549, 981578902412218090, 981827184820246911, 981831074726899704, 986066266111517548, 1004091672108614178, 1004102127557969514, 1004106881106958092, 1004108061436455142, 1004109262864251827, 991065164307680743, 995104320333126876, 1025279883239618667, 1025908460539009403, 1010626665790591601, 1012849728019228568, 1049918645815165674, 1052848162775982712, 1054283059928628507, 1047031147474382514, 1047105417583551873, 1059239607552761338, 1071730985957647632, 1073146486378267839, 1074331024894267292, 1061293727679955622, 1064398464517700062, 1080213611798243209, 1081008104561877015, 1081097650992443024, 1082001594459316931, 1082430366392016776, 1082430456875435750, 1082430546475607967, 1067911233091140375, 1085345655421747380, 1071097983747724332, 1071113243356019555, 1071697268573341999, 1085396509266939914, 1085401248959818110, 1087003825546511891, 1104534029772761431, 1104799871389380111, 1104877451689814299, 1107231528641386167, 1107275392430723514, 1107280535547505853, 1107286736536637404, 1110000899448086373, 1110690216493741810, 1110966470674419245, 1111010461070353705, 1112112464917101688, 1112123570488922115, 1099631111022405097, 1133207254571805076, 1133217599609383527, 1134492764338355995, 1126684210735664943, 1128180673476262563, 1128184020949605416, 1128228024760541758, 1128230340121806052, 1128240619421385957, 1128244893720715302, 1129276668164500275, 1130434089998644460, 1144158094207221453, 1146481357864363038, 1167365697508427852, 1168098030634623672, 1169581081056880046, 1170178722891857155, 1155006250823627046, 1157194531288593044, 1157222969827643276, 1172828773227753595, 1172950516850350787, 1173704255859512740, 1163205960954070502, 1175364113013922394, 1175845318430675889, 1177510105263894249, 1178049798694290654, 1178281870441546816, 1197110953279908046, 1198287306785345437, 1199130295421766898, 1184026459257008703, 1185445861536095295, 1188584934136387294, 1189091917558426698, 1189209222632682160, 1203385314187409577, 1203618602252003745, 1203671947084990603, 1205468699799158498, 1207248751738611278, 1194079538606409784, 1207581483275385888, 1208725575290781199, 1210889248576632028, 1211318388554541948, 1209438882312960574, 1217472734879709251, 1217929100913118190, 1217938125458878631, 1217965703167491815, 1217982988443106277, 1217985139192087743, 1217988478801006672, 1217990528142251530, 1220236420808301151, 1220845510783223547, 1221731178597045771, 1221772306542938783, 1221786960522269595, 1223755878475043521, 1214292649631410069, 1229548080757562963, 1231657321858852570, 1231657527696515473, 1257931094690462511, 1258109724729295809, 1258506299749502699, 1259224077617780583, 1233042106340861086, 1233120891732354082, 1233127515652365234, 1233301339952806429, 1260598674331608934, 1261718315461631752, 1262484070097878024, 1237616852495526769, 1264947265705367166, 1264978346120047412, 1237685862842036245, 1237702795600914486, 1237708481772340314, 1267187032932697305, 1267856449843592794, 1267912358660233723, 1242571860995742026, 1271523875129170373, 1244708534903748569, 1245415208528617193, 1245549360202547947, 1273034369814996072, 1273884094349697937, 1274548019858045776, 1274559703614536490, 1274613688162700215, 1275904232747210514, 1251087164893336128, 1251278845381517419, 1252691630467656627, 1253447719812431481, 1254158024541668916, 1256308621632912145, 1256540622125406409, 1279705569984950325, 1279558795865919959, 1279607849322776151, 1279622572559088418, 1299981592718913476, 1279841508408571445, 1279846460432275443, 1279853545939296566, 1280414729500201371, 1280453963427112295, 1281741221260572620, 1281872336471406164, 1300097955909523031, 1301482640515514012, 1301991803651928230, 1302819947557473340, 1283481045269095552, 1284538550321022592, 1284565992298040675, 1304303738234747433, 1287014378125230463, 1287078040786858269, 1287642033924279877, 1305794432068587489, 1305815691733520799, 1306376515094914292, 1306440814385183490, 1307036180687751203, 1307294989545668848, 1289075787499379023, 1289214257663825244, 1289824728471262528, 1291259652707784365, 1307916686534686272, 1309257512878376838, 1311448602032314650, 1291282523485547227, 1291289799583179150, 1292101441632901278, 1312198150197329270, 1312900433102820040, 1312904549405686861, 1313003671121552359, 1294276786465921429, 1294732956980910802, 1313101447993556449, 1313113067129078372, 1313201565481033729, 1313596943187042083, 1313810948144644531, 1314288376198959952, 1314326268241180587, 1295517957839778358, 1295606706140798565, 1295634091992433793, 1295634110145331318, 1295853066036349279, 1296390135615705479, 1296846633181172315, 1314359117073988907, 1314364005004963547, 1314490303546258762, 1315181828655043954, 1315327981665565213, 1315738290123518468, 1297506389120781008, 1297653047024275377, 1297668926728482984, 1297756486619049622, 1297785524499187085, 1297876542259759498, 1298563984146933671, 1315787509884320238, 1316062065781883893, 1316533145424796463, 1299229618052667749, 1299359966952396218, 1299849539939060028, 1299963381573911983, 1322337217462946252, 1316644160079858254, 1316647119689115416, 1316801858205906771, 1316880410136989665, 1322509130335522001, 1323082902703648038, 1323103342484247859, 1323108152903122644, 1323230692970733332, 1323781225773771898, 1324522499010558557, 1325320780552131972, 1325340442278987634, 1318191311807248040, 1318268701859570262, 1318576470347265316, 1318692457368220905, 1338618915226192231, 1338989456383343007, 1325973690960837961, 1326270504065555888, 1326643520933055178, 1326724096440188804, 1326820758829097941, 1327536547362538127, 1327610103574765126, 1327658068719655989, 1339129256232812275, 1339141688186992945, 1339149536889460738, 1339159423443968097, 1339171854603571289, 1340138537200486643, 1340450441110378619, 1328205032556559595, 1328240484692200913, 1328772308418377392, 1328779125603693887, 1328806380414897867, 1328973686477394217, 1329048135628604219, 1340459214498877705, 1340636411007510030, 1341106961457316020, 1341108200015362423, 1341129506581107523, 1341894915182929412, 1329765995507211023, 1330358189512747073, 1330385267148754308, 1330561066615318397, 1330884618680364469, 1330921057460362098, 1342038905540655364, 1342574699614106972, 1342688066282508702, 1342714493458933686, 1342753998603627779, 1342773596490732195, 1342776902401421742, 1342781485266097769, 1342789540408564951, 1343346821815050219, 1343413014556904820, 1330996532745012421, 1331218121958728326, 1331477430624757427, 1331919567944471532, 1332552396079150793, 1332634200987137979, 1332702592077991900, 1333282711751266436, 1333908714852660842, 1334032853580529300, 1343511677747927314, 1343686121121971588, 1344196928646775731, 1344816873774495533, 1344821144492050015, 1344823193736806609, 1344906319015942126, 1345111860784844135, 1334090265368720210, 1334102352606935100, 1334240677227244317, 1334272020575508905, 1334636503232011923, 1334646270746352378, 1334668605695304642, 1334674042387588224, 1334721478605903218, 1345472608739903169, 1345498154358130374, 1345593425317124542, 1335396269144009761, 1335570188619059817, 1336041214498149874, 1336212495254166382, 1336220332692733321, 1336270932708699266, 1336462816126288377, 1336854663663745192, 1336862000696501509, 1336871322624747952, 1346198446187765553, 1346356948909540365, 1346370365532280550, 1347181098602361395, 1336943390444240272, 1337569326480228729, 1338135301389840576, 1338321200112593310, 1347811123954275649, 1347881259077484850, 1350863100933039235, 1351262123586304425, 1351272053360808430, 1351284820519349761, 1351290301886448824, 1351294011082384050, 1351301164939770232, 1351301409211305933, 1351302633364076690, 1351455655877211913, 1351493666057934078, 1351496852205078127, 1348417490177315749, 1348687331665302253, 1349059986101840643, 1349145251486903063, 1349209672171947022, 1351659072335033319, 1351997347881613135, 1352092070787155488, 1352098727457410161, 1352223747164241456, 1352319160192098450, 1352945524957502121, 1349233131509506893, 1349261955129573000, 1349280133699515789, 1349289866533676679, 1349292485816234625, 1349360056557167811, 1353433749970411906, 1353440941871227136, 1353495008046007005, 1353511913213150385, 1353512233909969538, 1353515291513226895, 1353517056640339487, 1353517672300455253, 1353580369173035247, 1349501052462712380, 1349894508085634529, 1350038429350996125, 1350050965803362516, 1350683150309338060, 1350694901269365355, 1350704694775497715, 1350721788418948243, 1353610011267605574, 1353616078765017075, 1353680577398709228, 1353831020797026747, 1354157211661476271, 1354182115083490535, 1354198254370535190, 1354271961871021242, 1354280243385051934, 1354287187257041842, 1350809073039465540, 1359972998250970942, 1359978882029822062, 1359980931485345735, 1360316936829834236, 1360322103669864742, 1360323992175947701, 1360328126102625309, 1360670388197753434, 1360810799584509413, 1354299077415816489, 1354865104113402695, 1354881897080812786, 1355075446906385054, 1355251811900902130, 1355317716135295082, 1355539412021977467, 1355563006006157558, 1360912767206541429, 1360964459477275660, 1360971349938711335, 1360979783954151484, 1361399051122525278, 1361542345237595010, 1361611678638605813, 1362069284714243006, 1355627617878943355, 1355647098195515119, 1355653035925744587, 1355742172750173409, 1355757424635942324, 1355767346943830614, 1355813162837081504, 1356269141510923430, 1356287891272895542, 1362069310055124724, 1362098243021589875, 1362102017993442586, 1362112197604955543, 1362114818930196721, 1362117550692648947, 1362124197740552890, 1362126368689490123, 1362200893158496271, 1362509169619993826, 1356290905536243971, 1356454335264497980, 1356511895797928756, 1356526723381143238, 1356613157247819459, 1356784526184832339, 1356953228646976614, 1357219046572868664, 1357250408931057862, 1362518031001897841, 1362894404770995768, 1363056913187975043, 1363063118684312899, 1363069078465789326, 1363645110678408300, 1363719144045591776, 1357389604278680597, 1357872907363701635, 1358101732673694705, 1358122865707419750, 1358133145122222306, 1358151502631976046, 1358594251693214475, 1358594266933983870, 1358594284191089936, 1358598034623635013, 1363771633511251110, 1363795213337978305, 1363873562452756929, 1363939681345638896, 1364163399760087653, 1364176866870145727, 1364186396690828405, 1358624782819857102, 1358624799684066640, 1358882349176180617, 1359223003605730811, 1359254542892272496, 1359255239937477474, 1359278347560333727, 1359382050963265181, 1364192188138760641, 1364291651658722459, 1364384423426928523, 1364406083987810151, 1364480825953775275, 1364488503783488263, 1364515630628172433, 1364635286640479993, 1364642608307474895, 1365893928883912698, 1366033048567818030, 1359647331896803736, 1359677892480080968, 1359916708058728026, 1359953511198182591, 1366576092896770388, 1366912719590250705]"
        ],
        [
         "39",
         "last_scraped",
         "object",
         "0",
         "0.0",
         "[]"
        ],
        [
         "40",
         "latitude",
         "float64",
         "0",
         "0.0",
         "[]"
        ],
        [
         "41",
         "license",
         "object",
         "538",
         "6.92",
         "[423767, 72821, 83610, 208801, 906370, 999441, 1038620, 1181536, 388399, 1832112, 1300085, 1422473, 2012828, 2014854, 1533624, 1615895, 2151599, 3020830, 2402601, 3203677, 3314930, 3356926, 3524290, 3656555, 3814415, 4890371, 4923166, 5257636, 5268522, 5302362, 5317049, 4272967, 5734857, 5782605, 6682798, 6863620, 6987387, 7018697, 7212771, 6333933, 6425113, 7268407, 7282315, 6443733, 6514655, 6552418, 6552897, 8301935, 7682178, 8423436, 8547860, 8561397, 8736169, 9801176, 9104416, 9236574, 9244694, 9673914, 9706595, 10406840, 11352211, 10610104, 10639339, 11417636, 10795221, 10848085, 11878822, 12099568, 12505135, 13339026, 12778768, 12822904, 12864747, 12878255, 13557482, 13593769, 13669027, 13160675, 13946488, 13954375, 13988827, 15254116, 15279977, 14623672, 14734523, 14927241, 15863506, 16142745, 17380904, 17381345, 17395156, 16759346, 17801722, 16904707, 17049214, 17083555, 17103422, 18207432, 18252889, 18310068, 17210624, 17242924, 18403345, 18403998, 18404123, 18404739, 19774048, 18841548, 20033951, 18996187, 20180833, 19111973, 19117250, 19170663, 20871712, 21466078, 22542097, 21939841, 22642183, 22695387, 22913874, 22811208, 23299802, 23319025, 23332524, 24073401, 24369371, 24385633, 24967985, 24992475, 25339688, 25883820, 25988358, 26162087, 27336937, 26341997, 27539099, 27599571, 27600068, 27605918, 26418427, 27615894, 27617451, 27618661, 26552709, 26560007, 26563089, 26794701, 28025140, 26940647, 28560731, 30220513, 30245612, 30265360, 30466981, 29176552, 30753359, 29334993, 29376835, 29505444, 29537731, 29648829, 29648972, 29774356, 32543399, 32598853, 32135840, 33080794, 33159295, 32433549, 33206380, 33438466, 34486921, 34487124, 34487577, 33922446, 33923459, 33952729, 34532547, 34004224, 34107661, 34108248, 34192937, 34194406, 34198553, 34198773, 34214770, 34225039, 35014667, 34322184, 34377021, 35145429, 35263784, 36065811, 36066436, 36066515, 35505069, 35505572, 36330119, 35591726, 35611685, 35611767, 35611837, 36437652, 36440969, 35763854, 35828091, 37543558, 37546004, 37546481, 36678559, 37344350, 37978708, 37984387, 39040234, 38118898, 38120578, 39074453, 39076767, 39249695, 39351308, 38821048, 39986180, 40855773, 41230237, 41301335, 41495615, 41543818, 41739723, 41767719, 41857160, 42683930, 42822218, 43206223, 43241098, 43251320, 42985224, 43449007, 43449383, 43449549, 43449682, 43449754, 43449998, 43450064, 44470137, 43490117, 43699881, 44721015, 43753717, 43786480, 43824956, 45077717, 45108052, 45250837, 45444597, 44325296, 45639025, 48195025, 48195026, 48205282, 49876274, 49919782, 49919813, 49919972, 49919994, 49920012, 49920208, 49920262, 49921572, 50869109, 50303363, 51020170, 50476273, 51277384, 51277434, 52821520, 52064525, 53920798, 53942485, 53554924, 53567561, 54384587, 54384622, 53605241, 546894922088297161, 53684196, 554092988304710652, 554106115061235323, 554107603599770813, 554109000653251610, 554112327483969367, 578733875985469454, 561562263004179592, 585336565841810196, 589662381161603767, 592826951537097168, 594584114878427891, 645440840550150229, 603976984595737078, 651307995344592147, 616035025546642981, 616567468851584212, 631735479790897703, 661458283381695159, 671495131372804832, 671499391376551498, 671502439065092652, 671504996561751909, 671507608882429537, 671512068583594186, 667702716418352345, 672131284747383829, 672135415536352376, 672140113657565652, 672143125182310747, 672151723194425517, 672156581317155373, 672159140052101625, 672161053818689306, 672162738836687009, 674315072431841014, 676124249847272043, 671409777664608461, 701070952508622673, 678155501942692283, 707685095284513627, 709131023580834958, 716675001218374596, 692804245589277408, 694077603025700878, 717307136142220253, 718716660876105339, 697660155237369866, 697700555960031786, 724502932255405735, 724549473987401732, 724557091398859840, 748252587124786147, 729587024997178381, 733295475350541479, 736777448434039734, 736784695652120493, 736795151172005885, 736805444814902861, 757651089440922633, 757661897059939968, 741045646897395177, 741672381133061454, 741679202560302667, 743108839905315839, 744760241432823124, 810783260302369000, 810813581724765561, 815809045877838400, 791389619039426601, 806966476473135544, 807675656270226907, 807680416085116912, 807682586483941230, 830295690272706295, 807684208837043608, 830368920587858984, 830392552733062413, 831711271176721766, 831718327610589757, 834178316221644052, 834202136066435100, 856998614508561337, 857041354425621445, 858087028117335826, 844128612348038699, 845554659208037123, 865269458040469106, 868705760879930083, 868713422818072962, 868726020325156664, 872926879981497038, 850612650379296516, 875062299702523610, 875393448678687411, 880825389206160218, 880829846973742643, 881137013820539482, 883722372069765402, 889211771041724039, 889924235833822968, 908452175534766030, 898304615063406289, 920220233733911305, 938361691001930141, 923619373141919932, 924398117683958821, 924426459253112636, 926010749130496340, 926047498183594290, 926530538620610967, 945296409882984631, 947873384145289850, 967229455655252680, 971406619635037674, 977500059155237747, 995627545925197347, 981578902412218090, 999186961174458499, 999891247297923594, 981827184820246911, 981831074726899704, 981834607948611671, 981842783730361729, 989729617903970676, 1010626665790591601, 1057763184406505700, 1076792641188303871, 1079535330656749130, 1079560939755545107, 1080213611798243209, 1065950967909568203, 1066654507859293403, 1081978850142291593, 1082430366392016776, 1082430456875435750, 1082430546475607967, 1084768554433866212, 1084768688449457130, 1105791276366011491, 1106372780749038706, 1108133075629673557, 1110000899448086373, 1094106221667200271, 1094108530533726106, 1094110508637134278, 1114535091822626762, 1118662108306640591, 1133207254571805076, 1133217599609383527, 1125146165144986559, 1134492764338355995, 1134515034450761559, 1126098331522144173, 1126555288368710741, 1134920632145199812, 1127368078645893759, 1127673608505632385, 1128385786864587750, 1129276668164500275, 1130434089998644460, 1130561602069153990, 1141913626198357996, 1146235880517350529, 1146408450146450116, 1144821766157445572, 1144944626902829343, 1146223316781299250, 1146231339027145342, 1166758619393799107, 1167352913652898752, 1167378783944272913, 1168277371767686103, 1151373789838556009, 1168661848204384440, 1169342306661893473, 1169581081056880046, 1155006250823627046, 1171625288070571247, 1172209757040344505, 1172562059163674708, 1172950516850350787, 1173291146798962773, 1175364113013922394, 1176243703534151706, 1178281870441546816, 1179575868350681906, 1197149434393621614, 1200107229715429338, 1184026459257008703, 1187402454345151700, 1188584934136387294, 1202904431750519087, 1191399713058612161, 1191403492627432250, 1191405718417118299, 1205898816502170393, 1194157404073670419, 1194158623942315263, 1207581483275385888, 1208725575290781199, 1194360786055939394, 1210889248576632028, 1209874699977588647, 1210256658863991727, 1217472734879709251, 1217920697687130827, 1217929100913118190, 1217938125458878631, 1217965703167491815, 1217969057016379785, 1217981445000394516, 1217982988443106277, 1217985139192087743, 1217988478801006672, 1217990528142251530, 1221682323509508932, 1227484706988585342, 1232674352095743305, 1234605489892365178, 1262258790992685156, 1262484070097878024, 1264683017888321172, 1265701962680660966, 1265713813279650067, 1266477269462573632, 1267912358660233723, 1274559703614536490, 1256540622125406409, 1279558795865919959, 1279607849322776151, 1279622572559088418, 1280462337882268589, 1289214257663825244, 1292146705161109184, 1292658022484131506, 1313003671121552359, 1313810948144644531, 1295634091992433793, 1295634110145331318, 1314359117073988907, 1314364005004963547, 1315227104122384263, 1316043519430196099, 1299229618052667749, 1316644160079858254, 1316647119689115416, 1316880410136989665, 1322509130335522001, 1330385267148754308, 1349360056557167811, 1353831020797026747, 1360964459477275660]"
        ],
        [
         "42",
         "listing_url",
         "object",
         "0",
         "0.0",
         "[]"
        ],
        [
         "43",
         "longitude",
         "float64",
         "0",
         "0.0",
         "[]"
        ],
        [
         "44",
         "maximum_maximum_nights",
         "int64",
         "0",
         "0.0",
         "[]"
        ],
        [
         "45",
         "maximum_minimum_nights",
         "int64",
         "0",
         "0.0",
         "[]"
        ],
        [
         "46",
         "maximum_nights",
         "int64",
         "0",
         "0.0",
         "[]"
        ],
        [
         "47",
         "maximum_nights_avg_ntm",
         "float64",
         "0",
         "0.0",
         "[]"
        ],
        [
         "48",
         "minimum_maximum_nights",
         "int64",
         "0",
         "0.0",
         "[]"
        ],
        [
         "49",
         "minimum_minimum_nights",
         "int64",
         "0",
         "0.0",
         "[]"
        ]
       ],
       "shape": {
        "columns": 5,
        "rows": 73
       }
      },
      "text/html": [
       "<div>\n",
       "<style scoped>\n",
       "    .dataframe tbody tr th:only-of-type {\n",
       "        vertical-align: middle;\n",
       "    }\n",
       "\n",
       "    .dataframe tbody tr th {\n",
       "        vertical-align: top;\n",
       "    }\n",
       "\n",
       "    .dataframe thead th {\n",
       "        text-align: right;\n",
       "    }\n",
       "</style>\n",
       "<table border=\"1\" class=\"dataframe\">\n",
       "  <thead>\n",
       "    <tr style=\"text-align: right;\">\n",
       "      <th></th>\n",
       "      <th>column</th>\n",
       "      <th>dtype</th>\n",
       "      <th>num_missing</th>\n",
       "      <th>percent_missing</th>\n",
       "      <th>affected_row_ids</th>\n",
       "    </tr>\n",
       "  </thead>\n",
       "  <tbody>\n",
       "    <tr>\n",
       "      <th>0</th>\n",
       "      <td>accommodates</td>\n",
       "      <td>int64</td>\n",
       "      <td>0</td>\n",
       "      <td>0.00</td>\n",
       "      <td>[]</td>\n",
       "    </tr>\n",
       "    <tr>\n",
       "      <th>1</th>\n",
       "      <td>amenities</td>\n",
       "      <td>object</td>\n",
       "      <td>0</td>\n",
       "      <td>0.00</td>\n",
       "      <td>[]</td>\n",
       "    </tr>\n",
       "    <tr>\n",
       "      <th>2</th>\n",
       "      <td>availability_30</td>\n",
       "      <td>int64</td>\n",
       "      <td>0</td>\n",
       "      <td>0.00</td>\n",
       "      <td>[]</td>\n",
       "    </tr>\n",
       "    <tr>\n",
       "      <th>3</th>\n",
       "      <td>availability_365</td>\n",
       "      <td>int64</td>\n",
       "      <td>0</td>\n",
       "      <td>0.00</td>\n",
       "      <td>[]</td>\n",
       "    </tr>\n",
       "    <tr>\n",
       "      <th>4</th>\n",
       "      <td>availability_60</td>\n",
       "      <td>int64</td>\n",
       "      <td>0</td>\n",
       "      <td>0.00</td>\n",
       "      <td>[]</td>\n",
       "    </tr>\n",
       "    <tr>\n",
       "      <th>...</th>\n",
       "      <td>...</td>\n",
       "      <td>...</td>\n",
       "      <td>...</td>\n",
       "      <td>...</td>\n",
       "      <td>...</td>\n",
       "    </tr>\n",
       "    <tr>\n",
       "      <th>68</th>\n",
       "      <td>review_scores_value</td>\n",
       "      <td>float64</td>\n",
       "      <td>740</td>\n",
       "      <td>9.52</td>\n",
       "      <td>[1482860, 2014854, 3118010, 6782983, 7018697, ...</td>\n",
       "    </tr>\n",
       "    <tr>\n",
       "      <th>69</th>\n",
       "      <td>reviews_per_month</td>\n",
       "      <td>float64</td>\n",
       "      <td>740</td>\n",
       "      <td>9.52</td>\n",
       "      <td>[1482860, 2014854, 3118010, 6782983, 7018697, ...</td>\n",
       "    </tr>\n",
       "    <tr>\n",
       "      <th>70</th>\n",
       "      <td>room_type</td>\n",
       "      <td>object</td>\n",
       "      <td>0</td>\n",
       "      <td>0.00</td>\n",
       "      <td>[]</td>\n",
       "    </tr>\n",
       "    <tr>\n",
       "      <th>71</th>\n",
       "      <td>scrape_id</td>\n",
       "      <td>int64</td>\n",
       "      <td>0</td>\n",
       "      <td>0.00</td>\n",
       "      <td>[]</td>\n",
       "    </tr>\n",
       "    <tr>\n",
       "      <th>72</th>\n",
       "      <td>source</td>\n",
       "      <td>object</td>\n",
       "      <td>0</td>\n",
       "      <td>0.00</td>\n",
       "      <td>[]</td>\n",
       "    </tr>\n",
       "  </tbody>\n",
       "</table>\n",
       "<p>73 rows × 5 columns</p>\n",
       "</div>"
      ],
      "text/plain": [
       "                 column    dtype  num_missing  percent_missing  \\\n",
       "0          accommodates    int64            0             0.00   \n",
       "1             amenities   object            0             0.00   \n",
       "2       availability_30    int64            0             0.00   \n",
       "3      availability_365    int64            0             0.00   \n",
       "4       availability_60    int64            0             0.00   \n",
       "..                  ...      ...          ...              ...   \n",
       "68  review_scores_value  float64          740             9.52   \n",
       "69    reviews_per_month  float64          740             9.52   \n",
       "70            room_type   object            0             0.00   \n",
       "71            scrape_id    int64            0             0.00   \n",
       "72               source   object            0             0.00   \n",
       "\n",
       "                                     affected_row_ids  \n",
       "0                                                  []  \n",
       "1                                                  []  \n",
       "2                                                  []  \n",
       "3                                                  []  \n",
       "4                                                  []  \n",
       "..                                                ...  \n",
       "68  [1482860, 2014854, 3118010, 6782983, 7018697, ...  \n",
       "69  [1482860, 2014854, 3118010, 6782983, 7018697, ...  \n",
       "70                                                 []  \n",
       "71                                                 []  \n",
       "72                                                 []  \n",
       "\n",
       "[73 rows x 5 columns]"
      ]
     },
     "execution_count": 249,
     "metadata": {},
     "output_type": "execute_result"
    }
   ],
   "source": [
    "missing_df = missing_info(listings, 'id', 'column', True)\n",
    "missing_df"
   ]
  },
  {
   "cell_type": "code",
   "execution_count": null,
   "id": "06b2011c",
   "metadata": {},
   "outputs": [],
   "source": []
  },
  {
   "cell_type": "markdown",
   "id": "887cc6ab",
   "metadata": {},
   "source": [
    "### Redunce listings to the columns I need"
   ]
  },
  {
   "cell_type": "code",
   "execution_count": null,
   "id": "ed477152",
   "metadata": {},
   "outputs": [],
   "source": [
    "textData_columns = [\n",
    "]\n",
    "\n",
    "imageData_columns = ['id', 'listing_url', 'scrape_id', 'last_scraped', 'source', 'name',\n",
    "       'description', 'neighborhood_overview', 'picture_url', 'host_id',\n",
    "       'host_url', 'host_name', 'host_since', 'host_location', 'host_about',\n",
    "       'host_response_time', 'host_response_rate', 'host_acceptance_rate',\n",
    "       'host_is_superhost', 'host_thumbnail_url', 'host_picture_url',\n",
    "       'host_neighbourhood', 'host_listings_count',\n",
    "       'host_total_listings_count', 'host_verifications',\n",
    "       'host_has_profile_pic', 'host_identity_verified', 'neighbourhood',\n",
    "       'neighbourhood_cleansed', 'neighbourhood_group_cleansed', 'latitude',\n",
    "       'longitude', 'property_type', 'room_type', 'accommodates', 'bathrooms',\n",
    "       'bathrooms_text', 'bedrooms', 'beds', 'amenities', 'price',\n",
    "       'minimum_nights', 'maximum_nights', 'minimum_minimum_nights',\n",
    "       'maximum_minimum_nights', 'minimum_maximum_nights',\n",
    "       'maximum_maximum_nights', 'minimum_nights_avg_ntm',\n",
    "       'maximum_nights_avg_ntm', 'calendar_updated', 'has_availability',\n",
    "       'availability_30', 'availability_60', 'availability_90',\n",
    "       'availability_365', 'calendar_last_scraped', 'number_of_reviews',\n",
    "       'number_of_reviews_ltm', 'number_of_reviews_l30d', 'availability_eoy',\n",
    "       'number_of_reviews_ly', 'estimated_occupancy_l365d',\n",
    "       'estimated_revenue_l365d', 'first_review', 'last_review',\n",
    "       'review_scores_rating', 'review_scores_accuracy',\n",
    "       'review_scores_cleanliness', 'review_scores_checkin',\n",
    "       'review_scores_communication', 'review_scores_location',\n",
    "       'review_scores_value', 'license', 'instant_bookable',\n",
    "       'calculated_host_listings_count',\n",
    "       'calculated_host_listings_count_entire_homes',\n",
    "       'calculated_host_listings_count_private_rooms',\n",
    "       'calculated_host_listings_count_shared_rooms', 'reviews_per_month'\n",
    "]\n",
    "\n",
    "tabularData_columns = ['id', 'host_id', 'host_since', 'host_location', 'host_about',\n",
    "       'host_response_time', 'host_response_rate', 'host_acceptance_rate',\n",
    "       'host_is_superhost', \n",
    "       'host_neighbourhood', 'host_listings_count',\n",
    "       'host_total_listings_count', 'host_verifications',\n",
    "       'host_has_profile_pic', 'host_identity_verified', 'neighbourhood',\n",
    "       'neighbourhood_cleansed', 'neighbourhood_group_cleansed', 'latitude',\n",
    "       'longitude', 'property_type', 'room_type', 'accommodates', 'bathrooms',\n",
    "       'bathrooms_text', 'bedrooms', 'beds', 'amenities', 'price',\n",
    "       'minimum_nights', 'maximum_nights', 'minimum_minimum_nights',\n",
    "       'maximum_minimum_nights', 'minimum_maximum_nights',\n",
    "       'maximum_maximum_nights', 'minimum_nights_avg_ntm',\n",
    "       'maximum_nights_avg_ntm', 'calendar_updated', 'has_availability',\n",
    "       'availability_30', 'availability_60', 'availability_90',\n",
    "       'availability_365', 'calendar_last_scraped', 'number_of_reviews',\n",
    "       'number_of_reviews_ltm', 'number_of_reviews_l30d', 'availability_eoy',\n",
    "       'number_of_reviews_ly', 'estimated_occupancy_l365d',\n",
    "       'estimated_revenue_l365d', 'first_review', 'last_review',\n",
    "       'review_scores_rating', 'review_scores_accuracy',\n",
    "       'review_scores_cleanliness', 'review_scores_checkin',\n",
    "       'review_scores_communication', 'review_scores_location',\n",
    "       'review_scores_value', 'license', 'instant_bookable',\n",
    "       'calculated_host_listings_count',\n",
    "       'calculated_host_listings_count_entire_homes',\n",
    "       'calculated_host_listings_count_private_rooms',\n",
    "       'calculated_host_listings_count_shared_rooms', 'reviews_per_month']\n",
    "\n",
    "spatialData_columns = ['id', 'listing_url', 'scrape_id', 'last_scraped', 'source', 'name',\n",
    "       'description', 'neighborhood_overview', 'picture_url', 'host_id',\n",
    "       'host_url', 'host_name', 'host_since', 'host_location', 'host_about',\n",
    "       'host_response_time', 'host_response_rate', 'host_acceptance_rate',\n",
    "       'host_is_superhost', 'host_thumbnail_url', 'host_picture_url',\n",
    "       'host_neighbourhood', 'host_listings_count',\n",
    "       'host_total_listings_count', 'host_verifications',\n",
    "       'host_has_profile_pic', 'host_identity_verified', 'neighbourhood',\n",
    "       'neighbourhood_cleansed', 'neighbourhood_group_cleansed', 'latitude',\n",
    "       'longitude', 'property_type', 'room_type', 'accommodates', 'bathrooms',\n",
    "       'bathrooms_text', 'bedrooms', 'beds', 'amenities', 'price',\n",
    "       'minimum_nights', 'maximum_nights', 'minimum_minimum_nights',\n",
    "       'maximum_minimum_nights', 'minimum_maximum_nights',\n",
    "       'maximum_maximum_nights', 'minimum_nights_avg_ntm',\n",
    "       'maximum_nights_avg_ntm', 'calendar_updated', 'has_availability',\n",
    "       'availability_30', 'availability_60', 'availability_90',\n",
    "       'availability_365', 'calendar_last_scraped', 'number_of_reviews',\n",
    "       'number_of_reviews_ltm', 'number_of_reviews_l30d', 'availability_eoy',\n",
    "       'number_of_reviews_ly', 'estimated_occupancy_l365d',\n",
    "       'estimated_revenue_l365d', 'first_review', 'last_review',\n",
    "       'review_scores_rating', 'review_scores_accuracy',\n",
    "       'review_scores_cleanliness', 'review_scores_checkin',\n",
    "       'review_scores_communication', 'review_scores_location',\n",
    "       'review_scores_value', 'license', 'instant_bookable',\n",
    "       'calculated_host_listings_count',\n",
    "       'calculated_host_listings_count_entire_homes',\n",
    "       'calculated_host_listings_count_private_rooms',\n",
    "       'calculated_host_listings_count_shared_rooms', 'reviews_per_month'\n",
    "]"
   ]
  },
  {
   "cell_type": "code",
   "execution_count": null,
   "id": "d76b6a6c",
   "metadata": {},
   "outputs": [],
   "source": []
  }
 ],
 "metadata": {
  "kernelspec": {
   "display_name": "base",
   "language": "python",
   "name": "python3"
  },
  "language_info": {
   "codemirror_mode": {
    "name": "ipython",
    "version": 3
   },
   "file_extension": ".py",
   "mimetype": "text/x-python",
   "name": "python",
   "nbconvert_exporter": "python",
   "pygments_lexer": "ipython3",
   "version": "3.11.7"
  }
 },
 "nbformat": 4,
 "nbformat_minor": 5
}
